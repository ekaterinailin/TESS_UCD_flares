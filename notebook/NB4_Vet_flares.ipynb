{
 "cells": [
  {
   "cell_type": "code",
   "execution_count": 7,
   "metadata": {},
   "outputs": [],
   "source": [
    "import astropy.units as u\n",
    "\n",
    "from altaipony.lcio import from_mast\n",
    "from altaipony.altai import find_iterative_median\n",
    "from altaipony.flarelc import FlareLightCurve\n",
    "\n",
    "\n",
    "from lightkurve import search_targetpixelfile\n",
    "\n",
    "import matplotlib.pyplot as plt\n",
    "%matplotlib inline\n",
    "\n",
    "import copy\n",
    "\n",
    "\n",
    "from scipy.interpolate import UnivariateSpline\n",
    "\n",
    "import os\n",
    "import pandas as pd\n",
    "import numpy as np\n",
    "\n",
    "from funcs.funcs import read_custom_aperture_lc\n",
    "from funcs.custom_detrending import custom_detrending\n",
    "\n"
   ]
  },
  {
   "cell_type": "code",
   "execution_count": 8,
   "metadata": {},
   "outputs": [],
   "source": [
    "clcs = ! ls /home/ekaterina/Documents/001_Science/TESS_UCDs/TESS_UCD_flares/custom_aperture/*fits\n",
    "clcs = [x.split(\"/\")[-1] for x in clcs]\n",
    "\n",
    "def get_customlc(TIC, c, clcs):\n",
    "    for p in clcs:\n",
    "        if (str(TIC) in p.split(\"-\")[2]) & (c == int(p.split(\"-\")[1][1:])):\n",
    "            print(p)\n",
    "            pac = p\n",
    "    return pac\n"
   ]
  },
  {
   "cell_type": "code",
   "execution_count": 9,
   "metadata": {},
   "outputs": [],
   "source": [
    "CWD = \"/\".join(os.getcwd().split(\"/\")[:-1])\n",
    "respath = f\"{CWD}/flare_tables/2019_11_21_TESSUCDs_flares.csv\"\n",
    "df = pd.read_csv(respath)\n",
    "targetswflare = df.TIC.unique().shape[0]\n",
    "LCswflares = df.groupby(by=[\"TIC\",\"Campaign\"]).count().sort_values(by=\"ampl_rec\").shape[0]\n",
    "candidates = df.shape[0]\n",
    "amplmax = df.ampl_rec.max()\n"
   ]
  },
  {
   "cell_type": "code",
   "execution_count": 10,
   "metadata": {},
   "outputs": [
    {
     "data": {
      "image/png": "[encoded data removed]",
      "text/plain": [
       "<Figure size 432x288 with 1 Axes>"
      ]
     },
     "metadata": {
      "needs_background": "light"
     },
     "output_type": "display_data"
    }
   ],
   "source": [
    "plt.scatter(df.tstop-df.tstart, df.ampl_rec)\n",
    "plt.xscale(\"log\")\n",
    "plt.yscale(\"log\")"
   ]
  },
  {
   "cell_type": "code",
   "execution_count": 11,
   "metadata": {},
   "outputs": [
    {
     "data": {
      "image/png": "[encoded data removed]",
      "text/plain": [
       "<Figure size 432x288 with 1 Axes>"
      ]
     },
     "metadata": {
      "needs_background": "light"
     },
     "output_type": "display_data"
    }
   ],
   "source": [
    "plt.scatter(df.ampl_rec, df.ed_rec)\n",
    "plt.xscale(\"log\")\n",
    "plt.yscale(\"log\")"
   ]
  },
  {
   "cell_type": "code",
   "execution_count": null,
   "metadata": {},
   "outputs": [],
   "source": [
    "df[df.ed_rec<1]"
   ]
  },
  {
   "cell_type": "code",
   "execution_count": 4,
   "metadata": {},
   "outputs": [
    {
     "data": {
      "text/plain": [
       "array([6, 8])"
      ]
     },
     "execution_count": 4,
     "metadata": {},
     "output_type": "execute_result"
    }
   ],
   "source": [
    "df[df.Campaign==6].groupby(\"TIC\").count()\n",
    "TIC = 130414729\n",
    "#df.groupby(\"TIC\").Campaign.count().sort_values(ascending=False)[:10]\n",
    "df[df.TIC==TIC].Campaign.unique()\n",
    "#df.sort_values(by=\"ed_rec\", ascending=False).head()"
   ]
  },
  {
   "cell_type": "code",
   "execution_count": 5,
   "metadata": {},
   "outputs": [
    {
     "name": "stdout",
     "output_type": "stream",
     "text": [
      "107ca_tess2019100910514-s0008-0000000130414729-0000-s_lc.fits\n",
      "Found peak in periodogram at  0.5 1 / d\n",
      "SNR at  1.6357777055381812\n",
      "Found peak in periodogram at  0.5905489781918593 1 / d\n",
      "SNR at  0.9166148080154857\n",
      "Window lengths:  [75, 75]\n"
     ]
    },
    {
     "name": "stderr",
     "output_type": "stream",
     "text": [
      "/home/ekaterina/Documents/001_Science/TESS_UCDs/TESS_UCD_flares/tessenv/lib/python3.6/site-packages/ipykernel_launcher.py:7: ResourceWarning: unclosed file <_io.FileIO name='/home/ekaterina/Documents/001_Science/TESS_UCDs/TESS_UCD_flares/custom_aperture/107ca_tess2019100910514-s0008-0000000130414729-0000-s_lc.fits' mode='rb' closefd=True>\n",
      "  import sys\n"
     ]
    },
    {
     "name": "stdout",
     "output_type": "stream",
     "text": [
      "Do last SavGol round.\n"
     ]
    },
    {
     "name": "stderr",
     "output_type": "stream",
     "text": [
      "Found 0 candidate(s) in the (0,7583) gap.\n",
      "Found 0 candidate(s) in the (7583,12039) gap.\n"
     ]
    }
   ],
   "source": [
    "c=8\n",
    "\n",
    "path = get_customlc(TIC, c, clcs)\n",
    "\n",
    "path = f\"{CWD}/custom_aperture/\" + path\n",
    "\n",
    "flc = read_custom_aperture_lc(path)\n",
    "flck = copy.deepcopy(flc)\n",
    "flcd = custom_detrending(flc)\n",
    "flcd = flcd.find_flares()\n",
    "\n",
    "#flcd.flares.sort_values(by=\"ed_rec\",ascending=False)\n",
    "\n",
    "fig, ax = plt.subplots(ncols=1,nrows=1, figsize=(16,5))\n",
    "g = 14\n",
    "\n",
    "ax.plot(flck.time, flck.flux, c=\"orange\", label=f\"TIC {flc.targetid}, S{flc.campaign}\");#flc.time, \n",
    "ax.plot(flcd.time,flcd.it_med+3*flcd.detrended_flux_err, c=\"r\");\n",
    "ax.plot(flcd.time,flcd.detrended_flux, c=\"g\");\n",
    "for i, f in flcd.flares.iterrows():\n",
    "    cond = ((flcd.cadenceno >= f.cstart) & (flcd.cadenceno <= f.cstop))\n",
    "    end = np.where(flcd.cadenceno == f.cstop)[0][0]\n",
    "    sta = np.where(flcd.cadenceno == f.cstart)[0][0]\n",
    "    print(end, sta, flcd.time[sta],flcd.time[end],)\n",
    "    ax.axvspan(flcd.time[sta]-.5,flcd.time[end]+.5,alpha=.4\n",
    "\n",
    "            )\n",
    "#f = flcd.flares.iloc[2]\n",
    "#plt.xlim(f.tstart-1.1,f.tstop+1.1);\n",
    "#plt.xlim(f.cstart-1000,f.cstop+1000);\n",
    "#plt.ylim(1600,2000)\n",
    "#plt.xlim(298200,298600)\n",
    "#plt.xlim(1641.81,1644)\n",
    "plt.xlabel(\"time\",fontsize=14)\n",
    "plt.ylabel(\"flux\",fontsize=14)\n",
    "plt.legend(fontsize=14)\n",
    "plt.savefig(f\"{CWD}/plots/TIC{flc.targetid}_s{flc.campaign}.png\",dpi=300)\n",
    "plt.close()"
   ]
  },
  {
   "cell_type": "code",
   "execution_count": 6,
   "metadata": {},
   "outputs": [
    {
     "name": "stdout",
     "output_type": "stream",
     "text": [
      "82ca_tess2019090612211-s0006-0000000130414729-0000-s_lc.fits\n",
      "82ca_tess2019102415564-s0006-0000000130414729-0000-s_lc.fits\n",
      "Found peak in periodogram at  0.8175787360326054 1 / d\n",
      "SNR at  1.5147692947854259\n",
      "Found peak in periodogram at  0.8567107714555284 1 / d\n",
      "SNR at  0.884602866345598\n",
      "Found peak in periodogram at  0.8150005144369051 1 / d\n",
      "SNR at  1.203892032186347\n",
      "Window lengths:  [75, 107, 75]\n"
     ]
    },
    {
     "name": "stderr",
     "output_type": "stream",
     "text": [
      "/home/ekaterina/Documents/001_Science/TESS_UCDs/TESS_UCD_flares/tessenv/lib/python3.6/site-packages/ipykernel_launcher.py:7: ResourceWarning: unclosed file <_io.FileIO name='/home/ekaterina/Documents/001_Science/TESS_UCDs/TESS_UCD_flares/custom_aperture/0ca_tess2019082014090-s0001-0000000029780677-0000-s_lc.fits' mode='rb' closefd=True>\n",
      "  import sys\n"
     ]
    },
    {
     "name": "stdout",
     "output_type": "stream",
     "text": [
      "Do last SavGol round.\n"
     ]
    },
    {
     "name": "stderr",
     "output_type": "stream",
     "text": [
      "Found 0 candidate(s) in the (0,9073) gap.\n",
      "Found 2 candidate(s) in the (9073,15090) gap.\n",
      "Found 0 candidate(s) in the (15090,17805) gap.\n",
      "/home/ekaterina/Documents/001_Science/TESS_UCDs/TESS_UCD_flares/tessenv/lib/python3.6/site-packages/pandas/core/frame.py:7138: FutureWarning: Sorting because non-concatenation axis is not aligned. A future version\n",
      "of pandas will change to not sort by default.\n",
      "\n",
      "To accept the future behavior, pass 'sort=False'.\n",
      "\n",
      "To retain the current behavior and silence the warning, pass 'sort=True'.\n",
      "\n",
      "  sort=sort,\n"
     ]
    },
    {
     "name": "stdout",
     "output_type": "stream",
     "text": [
      "9411 9368 1340.071716563175 1340.1314389401898\n",
      "11673 11653 1343.284226463416 1343.3120043211652\n"
     ]
    },
    {
     "name": "stderr",
     "output_type": "stream",
     "text": [
      "/home/ekaterina/Documents/001_Science/TESS_UCDs/TESS_UCD_flares/tessenv/lib/python3.6/site-packages/ipykernel_launcher.py:7: ResourceWarning: unclosed file <_io.FileIO name='/home/ekaterina/Documents/001_Science/TESS_UCDs/TESS_UCD_flares/custom_aperture/100ca_tess2019090910225-s0007-0000000318801864-0000-s_lc.fits' mode='rb' closefd=True>\n",
      "  import sys\n"
     ]
    },
    {
     "name": "stdout",
     "output_type": "stream",
     "text": [
      "Found peak in periodogram at  0.6227471862590057 1 / d\n",
      "SNR at  1.8998314725944385\n",
      "Found peak in periodogram at  0.5351483529282053 1 / d\n",
      "SNR at  2.2243830311939776\n",
      "Window lengths:  [87, 85]\n",
      "Do last SavGol round.\n"
     ]
    },
    {
     "name": "stderr",
     "output_type": "stream",
     "text": [
      "Found 1 candidate(s) in the (0,8040) gap.\n",
      "Found 0 candidate(s) in the (8040,16063) gap.\n"
     ]
    },
    {
     "name": "stdout",
     "output_type": "stream",
     "text": [
      "1361 1358 1493.731166620418 1493.7353333230667\n"
     ]
    },
    {
     "name": "stderr",
     "output_type": "stream",
     "text": [
      "/home/ekaterina/Documents/001_Science/TESS_UCDs/TESS_UCD_flares/tessenv/lib/python3.6/site-packages/ipykernel_launcher.py:7: ResourceWarning: unclosed file <_io.FileIO name='/home/ekaterina/Documents/001_Science/TESS_UCDs/TESS_UCD_flares/custom_aperture/101ca_tess2019090910464-s0007-0000000366567664-0000-s_lc.fits' mode='rb' closefd=True>\n",
      "  import sys\n"
     ]
    },
    {
     "name": "stdout",
     "output_type": "stream",
     "text": [
      "Found peak in periodogram at  1.3592089322014473 1 / d\n",
      "SNR at  1.9160416594292828\n",
      "Found peak in periodogram at  1.361115669807807 1 / d\n",
      "SNR at  1.3703188639473436\n",
      "Window lengths:  [179, 93]\n",
      "Do last SavGol round.\n"
     ]
    },
    {
     "name": "stderr",
     "output_type": "stream",
     "text": [
      "Found 2 candidate(s) in the (0,8040) gap.\n",
      "Found 1 candidate(s) in the (8040,16063) gap.\n"
     ]
    },
    {
     "name": "stdout",
     "output_type": "stream",
     "text": [
      "761 758 1492.898242349501 1492.9024091657718\n",
      "4127 4124 1497.5858841809347 1497.5900509506394\n",
      "11326 11320 1509.2763281422465 1509.2846615219335\n"
     ]
    },
    {
     "name": "stderr",
     "output_type": "stream",
     "text": [
      "/home/ekaterina/Documents/001_Science/TESS_UCDs/TESS_UCD_flares/tessenv/lib/python3.6/site-packages/ipykernel_launcher.py:7: ResourceWarning: unclosed file <_io.FileIO name='/home/ekaterina/Documents/001_Science/TESS_UCDs/TESS_UCD_flares/custom_aperture/102ca_tess2019090910530-s0007-0000000410898932-0000-s_lc.fits' mode='rb' closefd=True>\n",
      "  import sys\n"
     ]
    },
    {
     "name": "stdout",
     "output_type": "stream",
     "text": [
      "Found peak in periodogram at  0.5350703847673017 1 / d\n",
      "SNR at  1.7878496781524504\n",
      "Found peak in periodogram at  0.5351476937662467 1 / d\n",
      "SNR at  1.9596156453203855\n",
      "Window lengths:  [75, 75]\n",
      "Do last SavGol round.\n"
     ]
    },
    {
     "name": "stderr",
     "output_type": "stream",
     "text": [
      "Found 0 candidate(s) in the (0,8040) gap.\n",
      "Found 0 candidate(s) in the (8040,16063) gap.\n",
      "/home/ekaterina/Documents/001_Science/TESS_UCDs/TESS_UCD_flares/tessenv/lib/python3.6/site-packages/ipykernel_launcher.py:7: ResourceWarning: unclosed file <_io.FileIO name='/home/ekaterina/Documents/001_Science/TESS_UCDs/TESS_UCD_flares/custom_aperture/103ca_tess2019090910582-s0008-0000000000926898-0000-s_lc.fits' mode='rb' closefd=True>\n",
      "  import sys\n"
     ]
    },
    {
     "name": "stdout",
     "output_type": "stream",
     "text": [
      "Found peak in periodogram at  0.5364191359419801 1 / d\n",
      "SNR at  1.5378175294791143\n",
      "Found peak in periodogram at  0.5 1 / d\n",
      "SNR at  1.5034812946200335\n",
      "Window lengths:  [75, 75]\n",
      "Do last SavGol round.\n"
     ]
    },
    {
     "name": "stderr",
     "output_type": "stream",
     "text": [
      "Found 0 candidate(s) in the (0,7583) gap.\n",
      "Found 0 candidate(s) in the (7583,12039) gap.\n",
      "/home/ekaterina/Documents/001_Science/TESS_UCDs/TESS_UCD_flares/tessenv/lib/python3.6/site-packages/ipykernel_launcher.py:7: ResourceWarning: unclosed file <_io.FileIO name='/home/ekaterina/Documents/001_Science/TESS_UCDs/TESS_UCD_flares/custom_aperture/103ca_tess2019102415201-s0008-0000000000926898-0000-s_lc.fits' mode='rb' closefd=True>\n",
      "  import sys\n"
     ]
    },
    {
     "name": "stdout",
     "output_type": "stream",
     "text": [
      "Found peak in periodogram at  0.5364191359419801 1 / d\n",
      "SNR at  1.5378175294791143\n",
      "Found peak in periodogram at  0.5 1 / d\n",
      "SNR at  1.5034812946200335\n",
      "Window lengths:  [75, 75]\n",
      "Do last SavGol round.\n"
     ]
    },
    {
     "name": "stderr",
     "output_type": "stream",
     "text": [
      "Found 0 candidate(s) in the (0,7583) gap.\n",
      "Found 0 candidate(s) in the (7583,12039) gap.\n",
      "/home/ekaterina/Documents/001_Science/TESS_UCDs/TESS_UCD_flares/tessenv/lib/python3.6/site-packages/ipykernel_launcher.py:7: ResourceWarning: unclosed file <_io.FileIO name='/home/ekaterina/Documents/001_Science/TESS_UCDs/TESS_UCD_flares/custom_aperture/104ca_tess2019090911104-s0008-0000000007975441-0000-s_lc.fits' mode='rb' closefd=True>\n",
      "  import sys\n"
     ]
    },
    {
     "name": "stdout",
     "output_type": "stream",
     "text": [
      "Found peak in periodogram at  2.157062438590544 1 / d\n",
      "SNR at  1.4093586843991597\n",
      "Found peak in periodogram at  0.5 1 / d\n",
      "SNR at  1.4824480171938086\n",
      "Window lengths:  [91, 115]\n",
      "Do last SavGol round.\n"
     ]
    },
    {
     "name": "stderr",
     "output_type": "stream",
     "text": [
      "Found 2 candidate(s) in the (0,7583) gap.\n",
      "Found 1 candidate(s) in the (7583,12039) gap.\n"
     ]
    },
    {
     "name": "stdout",
     "output_type": "stream",
     "text": [
      "4340 4335 1524.3440993687407 1524.351043777208\n",
      "6753 6742 1527.6968456458667 1527.7121232072186\n",
      "9270 9265 1537.9341537722316 1537.9410980260993\n"
     ]
    },
    {
     "name": "stderr",
     "output_type": "stream",
     "text": [
      "/home/ekaterina/Documents/001_Science/TESS_UCDs/TESS_UCD_flares/tessenv/lib/python3.6/site-packages/ipykernel_launcher.py:7: ResourceWarning: unclosed file <_io.FileIO name='/home/ekaterina/Documents/001_Science/TESS_UCDs/TESS_UCD_flares/custom_aperture/105ca_tess2019090911241-s0008-0000000011654435-0000-s_lc.fits' mode='rb' closefd=True>\n",
      "  import sys\n"
     ]
    },
    {
     "name": "stdout",
     "output_type": "stream",
     "text": [
      "Found peak in periodogram at  0.5 1 / d\n",
      "SNR at  1.7349795269965038\n",
      "Found peak in periodogram at  0.5905481459907036 1 / d\n",
      "SNR at  0.8459130507237254\n",
      "Window lengths:  [75, 75]\n",
      "Do last SavGol round.\n"
     ]
    },
    {
     "name": "stderr",
     "output_type": "stream",
     "text": [
      "Found 0 candidate(s) in the (0,7583) gap.\n",
      "Found 0 candidate(s) in the (7583,12039) gap.\n",
      "/home/ekaterina/Documents/001_Science/TESS_UCDs/TESS_UCD_flares/tessenv/lib/python3.6/site-packages/ipykernel_launcher.py:7: ResourceWarning: unclosed file <_io.FileIO name='/home/ekaterina/Documents/001_Science/TESS_UCDs/TESS_UCD_flares/custom_aperture/106ca_tess2019090911283-s0008-0000000044984200-0000-s_lc.fits' mode='rb' closefd=True>\n",
      "  import sys\n"
     ]
    },
    {
     "name": "stdout",
     "output_type": "stream",
     "text": [
      "Found peak in periodogram at  8.857952675873822 1 / d\n",
      "SNR at  4.216236815425429\n",
      "Found peak in periodogram at  0.5 1 / d\n",
      "SNR at  2.550605976136463\n",
      "Window lengths:  [75, 297]\n",
      "Do last SavGol round.\n"
     ]
    },
    {
     "name": "stderr",
     "output_type": "stream",
     "text": [
      "Found 0 candidate(s) in the (0,7583) gap.\n",
      "Found 0 candidate(s) in the (7583,12039) gap.\n",
      "/home/ekaterina/Documents/001_Science/TESS_UCDs/TESS_UCD_flares/tessenv/lib/python3.6/site-packages/ipykernel_launcher.py:7: ResourceWarning: unclosed file <_io.FileIO name='/home/ekaterina/Documents/001_Science/TESS_UCDs/TESS_UCD_flares/custom_aperture/107ca_tess2019100910514-s0008-0000000130414729-0000-s_lc.fits' mode='rb' closefd=True>\n",
      "  import sys\n"
     ]
    },
    {
     "name": "stdout",
     "output_type": "stream",
     "text": [
      "Found peak in periodogram at  0.5 1 / d\n",
      "SNR at  1.6357777055381812\n",
      "Found peak in periodogram at  0.5905489781918593 1 / d\n",
      "SNR at  0.9166148080154857\n",
      "Window lengths:  [75, 75]\n",
      "Do last SavGol round.\n"
     ]
    },
    {
     "name": "stderr",
     "output_type": "stream",
     "text": [
      "Found 0 candidate(s) in the (0,7583) gap.\n",
      "Found 0 candidate(s) in the (7583,12039) gap.\n",
      "/home/ekaterina/Documents/001_Science/TESS_UCDs/TESS_UCD_flares/tessenv/lib/python3.6/site-packages/ipykernel_launcher.py:7: ResourceWarning: unclosed file <_io.FileIO name='/home/ekaterina/Documents/001_Science/TESS_UCDs/TESS_UCD_flares/custom_aperture/108ca_tess2019090911533-s0008-0000000142052876-0000-s_lc.fits' mode='rb' closefd=True>\n",
      "  import sys\n"
     ]
    },
    {
     "name": "stdout",
     "output_type": "stream",
     "text": [
      "Do a coarse spline interpolation to remove trends.\n",
      "Found peak in periodogram at  1.7746387447600904 1 / d\n",
      "SNR at  1.851520582218814\n",
      "Found peak in periodogram at  1.737455427894512 1 / d\n",
      "SNR at  1.4139521920238283\n",
      "Window lengths:  [137, 75]\n",
      "Do last SavGol round.\n"
     ]
    },
    {
     "name": "stderr",
     "output_type": "stream",
     "text": [
      "Found 0 candidate(s) in the (0,7732) gap.\n",
      "Found 0 candidate(s) in the (7732,12338) gap.\n",
      "/home/ekaterina/Documents/001_Science/TESS_UCDs/TESS_UCD_flares/tessenv/lib/python3.6/site-packages/ipykernel_launcher.py:7: ResourceWarning: unclosed file <_io.FileIO name='/home/ekaterina/Documents/001_Science/TESS_UCDs/TESS_UCD_flares/custom_aperture/108ca_tess2019102509445-s0008-0000000142052876-0000-s_lc.fits' mode='rb' closefd=True>\n",
      "  import sys\n"
     ]
    },
    {
     "name": "stdout",
     "output_type": "stream",
     "text": [
      "Found peak in periodogram at  1.7928478696852346 1 / d\n",
      "SNR at  1.6225490224438108\n",
      "Found peak in periodogram at  0.5905455191142326 1 / d\n",
      "SNR at  1.4393392190368863\n",
      "Window lengths:  [133, 75]\n",
      "Do last SavGol round.\n"
     ]
    },
    {
     "name": "stderr",
     "output_type": "stream",
     "text": [
      "Found 3 candidate(s) in the (0,7583) gap.\n",
      "Found 0 candidate(s) in the (7583,12039) gap.\n"
     ]
    },
    {
     "name": "stdout",
     "output_type": "stream",
     "text": [
      "60 57 1518.3714523349918 1518.375619064811\n",
      "2058 2053 1521.1576071466811 1521.1645517017741\n",
      "2545 2542 1521.8367846488602 1521.8409513821125\n"
     ]
    },
    {
     "name": "stderr",
     "output_type": "stream",
     "text": [
      "/home/ekaterina/Documents/001_Science/TESS_UCDs/TESS_UCD_flares/tessenv/lib/python3.6/site-packages/ipykernel_launcher.py:7: ResourceWarning: unclosed file <_io.FileIO name='/home/ekaterina/Documents/001_Science/TESS_UCDs/TESS_UCD_flares/custom_aperture/109ca_tess2019090911560-s0008-0000000167894019-0000-s_lc.fits' mode='rb' closefd=True>\n",
      "  import sys\n"
     ]
    },
    {
     "name": "stdout",
     "output_type": "stream",
     "text": [
      "Found peak in periodogram at  0.5364187261357645 1 / d\n",
      "SNR at  1.6892713970560636\n",
      "Found peak in periodogram at  0.5905472801670258 1 / d\n",
      "SNR at  0.9608452561794255\n",
      "Window lengths:  [75, 75]\n",
      "Do last SavGol round.\n"
     ]
    },
    {
     "name": "stderr",
     "output_type": "stream",
     "text": [
      "Found 0 candidate(s) in the (0,7583) gap.\n",
      "Found 2 candidate(s) in the (7583,12039) gap.\n"
     ]
    },
    {
     "name": "stdout",
     "output_type": "stream",
     "text": [
      "8143 8138 1536.3548847853435 1536.3618292266988\n",
      "9138 9133 1537.746550184162 1537.7534946188239\n"
     ]
    },
    {
     "name": "stderr",
     "output_type": "stream",
     "text": [
      "/home/ekaterina/Documents/001_Science/TESS_UCDs/TESS_UCD_flares/tessenv/lib/python3.6/site-packages/ipykernel_launcher.py:7: ResourceWarning: unclosed file <_io.FileIO name='/home/ekaterina/Documents/001_Science/TESS_UCDs/TESS_UCD_flares/custom_aperture/109ca_tess2019102510083-s0008-0000000167894019-0000-s_lc.fits' mode='rb' closefd=True>\n",
      "  import sys\n"
     ]
    },
    {
     "name": "stdout",
     "output_type": "stream",
     "text": [
      "Found peak in periodogram at  0.6274655414751756 1 / d\n",
      "SNR at  1.6010640050726852\n",
      "Found peak in periodogram at  0.5905472801670258 1 / d\n",
      "SNR at  1.0592077926839456\n",
      "Window lengths:  [75, 75]\n",
      "Do last SavGol round.\n"
     ]
    },
    {
     "name": "stderr",
     "output_type": "stream",
     "text": [
      "Found 0 candidate(s) in the (0,7583) gap.\n",
      "Found 3 candidate(s) in the (7583,12039) gap.\n"
     ]
    },
    {
     "name": "stdout",
     "output_type": "stream",
     "text": [
      "8141 8138 1536.3548847853435 1536.3590514501452\n",
      "9138 9133 1537.746550184162 1537.7534946188239\n",
      "10250 10242 1539.2868248551993 1539.2979359364422\n"
     ]
    },
    {
     "name": "stderr",
     "output_type": "stream",
     "text": [
      "/home/ekaterina/Documents/001_Science/TESS_UCDs/TESS_UCD_flares/tessenv/lib/python3.6/site-packages/ipykernel_launcher.py:7: ResourceWarning: unclosed file <_io.FileIO name='/home/ekaterina/Documents/001_Science/TESS_UCDs/TESS_UCD_flares/custom_aperture/10ca_tess2019100710504-s0001-0000000401984769-0000-s_lc.fits' mode='rb' closefd=True>\n",
      "  import sys\n"
     ]
    },
    {
     "name": "stdout",
     "output_type": "stream",
     "text": [
      "Found peak in periodogram at  0.5151224660245644 1 / d\n",
      "SNR at  1.6546077761659987\n",
      "Found peak in periodogram at  0.5445884350539654 1 / d\n",
      "SNR at  1.694477620722685\n",
      "Found peak in periodogram at  0.5 1 / d\n",
      "SNR at  1.2086790714318305\n",
      "Window lengths:  [75, 75, 75]\n",
      "Do last SavGol round.\n"
     ]
    },
    {
     "name": "stderr",
     "output_type": "stream",
     "text": [
      "Found 0 candidate(s) in the (0,9073) gap.\n",
      "Found 0 candidate(s) in the (9073,15090) gap.\n",
      "Found 0 candidate(s) in the (15090,17805) gap.\n",
      "/home/ekaterina/Documents/001_Science/TESS_UCDs/TESS_UCD_flares/tessenv/lib/python3.6/site-packages/ipykernel_launcher.py:7: ResourceWarning: unclosed file <_io.FileIO name='/home/ekaterina/Documents/001_Science/TESS_UCDs/TESS_UCD_flares/custom_aperture/110ca_tess2019091014092-s0008-0000000184457945-0000-s_lc.fits' mode='rb' closefd=True>\n",
      "  import sys\n"
     ]
    },
    {
     "name": "stdout",
     "output_type": "stream",
     "text": [
      "Found peak in periodogram at  0.59104649873238 1 / d\n",
      "SNR at  1.7188175290068843\n",
      "Found peak in periodogram at  0.6207307307347567 1 / d\n",
      "SNR at  1.3688646453789612\n",
      "Window lengths:  [75, 75]\n",
      "Do last SavGol round.\n"
     ]
    },
    {
     "name": "stderr",
     "output_type": "stream",
     "text": [
      "Found 0 candidate(s) in the (0,7583) gap.\n",
      "Found 0 candidate(s) in the (7583,12039) gap.\n"
     ]
    }
   ],
   "source": [
    "c=6\n",
    "\n",
    "path = get_customlc(TIC, c, clcs)\n",
    "for path in clcs[:16]:\n",
    "    path = f\"{CWD}/custom_aperture/\" + path\n",
    "\n",
    "    flc = read_custom_aperture_lc(path)\n",
    "    flck = copy.deepcopy(flc)\n",
    "    flcd = custom_detrending(flc)\n",
    "    flcd = flcd.find_flares()\n",
    "\n",
    "    #flcd.flares.sort_values(by=\"ed_rec\",ascending=False)\n",
    "\n",
    "    fig, ax = plt.subplots(ncols=1,nrows=1, figsize=(16,5))\n",
    "    g = 14\n",
    "\n",
    "    ax.plot(flck.time, flck.flux, c=\"orange\", label=f\"TIC {flc.targetid}, S{flc.campaign}\");#flc.time, \n",
    "    ax.plot(flcd.time,flcd.it_med+3*flcd.detrended_flux_err, c=\"r\");\n",
    "    ax.plot(flcd.time,flcd.detrended_flux, c=\"g\");\n",
    "    for i, f in flcd.flares.iterrows():\n",
    "        cond = ((flcd.cadenceno >= f.cstart) & (flcd.cadenceno <= f.cstop))\n",
    "        end = np.where(flcd.cadenceno == f.cstop)[0][0]\n",
    "        sta = np.where(flcd.cadenceno == f.cstart)[0][0]\n",
    "        print(end, sta, flcd.time[sta],flcd.time[end],)\n",
    "        ax.axvspan(flcd.time[sta]-.5,flcd.time[end]+.5,alpha=.4\n",
    "                \n",
    "                )\n",
    "    #f = flcd.flares.iloc[2]\n",
    "    #plt.xlim(f.tstart-1.1,f.tstop+1.1);\n",
    "    #plt.xlim(f.cstart-1000,f.cstop+1000);\n",
    "    #plt.ylim(1600,2000)\n",
    "    #plt.xlim(298200,298600)\n",
    "    #plt.xlim(1641.81,1644)\n",
    "    plt.xlabel(\"time\",fontsize=14)\n",
    "    plt.ylabel(\"flux\",fontsize=14)\n",
    "    plt.legend(fontsize=14)\n",
    "    plt.savefig(f\"{CWD}/plots/TIC{flc.targetid}_s{flc.campaign}.png\",dpi=300)\n",
    "    plt.close()"
   ]
  },
  {
   "cell_type": "code",
   "execution_count": null,
   "metadata": {},
   "outputs": [],
   "source": [
    "CWD = \"/\".join(os.getcwd().split(\"/\")[:-1])\n",
    "respath = f\"{CWD}/flare_tables/2019_11_18_TESSUCDs_flares.csv\"\n",
    "df = pd.read_csv(respath)\n",
    "f = df\n",
    "f[\"x\"] =f.tstop-f.tstart\n",
    "f = f.sort_values(by=\"x\")\n",
    "x = (f.tstop-f.tstart).values\n",
    "x = f.ed_rec.values\n",
    "y = f.ampl_rec.values\n",
    "plt.scatter(x, y)\n",
    "plt.scatter(flcd.flares.ed_rec, flcd.flares.ampl_rec)\n",
    "#plt.scatter(flcd.flares.tstop-flcd.flares.tstart, flcd.flares.ed_rec)\n",
    "plt.xscale(\"log\")\n",
    "plt.yscale(\"log\")\n",
    "#np.polyfit(f.tstop-f.tstart, f.ed_rec,1)\n",
    "from scipy.optimize import curve_fit\n",
    "def func(x, a, b):\n",
    "    return a * np.power(x , b)\n",
    "popt, pcov = curve_fit(func, x, y)\n",
    "x=np.array([5e-4,5e-3,5e-2,5e-1])\n",
    "plt.plot(x, func(x, *popt), 'r-',\n",
    "         label='fit: a=%5.3f, b=%5.3f' % tuple(popt))\n",
    "plt.legend()\n",
    "func(0.4, *popt),func(0.6, *popt)"
   ]
  },
  {
   "cell_type": "code",
   "execution_count": null,
   "metadata": {},
   "outputs": [],
   "source": [
    "f = flcd.flares.loc[[0,1,5],:]\n",
    "f[\"x\"] =f.tstop-f.tstart\n",
    "f = f.sort_values(by=\"x\")\n",
    "x = (f.tstop-f.tstart).values\n",
    "y = f.ampl_rec.values\n",
    "plt.scatter(x, y)\n",
    "plt.xscale(\"log\")\n",
    "plt.yscale(\"log\")\n",
    "#np.polyfit(f.tstop-f.tstart, f.ed_rec,1)\n",
    "from scipy.optimize import curve_fit\n",
    "def func(x, a):\n",
    "    return a * np.power(x , .965)#b=1.465 for edrec, b=0.965 for ampl_rec\n",
    "popt, pcov = curve_fit(func, x, y)\n",
    "x=np.array([5e-4,5e-3,5e-2,5e-1])\n",
    "plt.plot(x, func(x, *popt), 'r-',\n",
    "         label='fit: a=%5.3f' % tuple(popt))\n",
    "plt.legend()\n",
    "func(0.4, *popt),func(0.6, *popt)\n",
    "#ED = (7981.423328873443, 14456.196424545316) s, amplitude=(1.856542468781827, 2.7455727338847487)"
   ]
  },
  {
   "cell_type": "code",
   "execution_count": null,
   "metadata": {},
   "outputs": [],
   "source": [
    "from altaipony.fakeflares import aflare\n",
    "plt.figure(figsize=(16,5))\n",
    "g = 14\n",
    "\n",
    "plt.plot(flck.time, flck.flux, c=\"orange\");#flc.time, \n",
    "#plt.plot(flcd.time,flcd.it_med+3*flcd.detrended_flux_err, c=\"r\");\n",
    "#plt.plot(flcd.time,flcd.detrended_flux, c=\"g\");\n",
    "f = flcd.flares.iloc[3]\n",
    "plt.xlim(f.tstart-.5,f.tstop+.5);\n",
    "#plt.ylim(1.36e5,1.4e5)\n",
    "#plt.xlim(298200,298600)\n",
    "#plt.xlim(1641.81,1644)\n",
    "for a in np.linspace(.9,1.7,10):\n",
    "    for d in np.linspace(.4,.6,10):\n",
    "        plt.plot(flcd.time,flcd.it_med*aflare(flcd.time, 1641.835, d/6, a,) + flcd.it_med, c=\"grey\", alpha=.05)\n",
    "plt.title(\"ampl=1.9-2.7, dur=.4-.6 d\")\n",
    "plt.savefig(\"/home/ekaterina/Documents/001_Science/TESS_UCDs/TESS_UCD_flares/weird_feature/flarefit1.png\", dpi=300)"
   ]
  },
  {
   "cell_type": "code",
   "execution_count": null,
   "metadata": {},
   "outputs": [],
   "source": [
    "tpf = search_targetpixelfile(\"TIC\" + str(flcd.targetid), sector=c).download()"
   ]
  },
  {
   "cell_type": "code",
   "execution_count": null,
   "metadata": {},
   "outputs": [],
   "source": [
    "tpf.interact()"
   ]
  },
  {
   "cell_type": "code",
   "execution_count": null,
   "metadata": {},
   "outputs": [],
   "source": [
    "markers =  ('o', 'v', '^', '<', '>', '8', 's', 'p', '*', 'h', 'H', 'D', 'd', 'P', 'X')"
   ]
  },
  {
   "cell_type": "markdown",
   "metadata": {},
   "source": [
    "358108509 1 last flare suffers from de-trending being weird at the end of the LC\n",
    "340703996 2 first flare could also be an undetrended wiggle in the LC"
   ]
  }
 ],
 "metadata": {
  "kernelspec": {
   "display_name": "tessenv",
   "language": "python",
   "name": "tessenv"
  },
  "language_info": {
   "codemirror_mode": {
    "name": "ipython",
    "version": 3
   },
   "file_extension": ".py",
   "mimetype": "text/x-python",
   "name": "python",
   "nbconvert_exporter": "python",
   "pygments_lexer": "ipython3",
   "version": "3.6.8"
  }
 },
 "nbformat": 4,
 "nbformat_minor": 2
}
