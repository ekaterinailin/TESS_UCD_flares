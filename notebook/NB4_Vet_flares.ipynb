{
 "cells": [
  {
   "cell_type": "code",
   "execution_count": 1,
   "metadata": {},
   "outputs": [
    {
     "name": "stderr",
     "output_type": "stream",
     "text": [
      "/usr/lib/python3.6/importlib/_bootstrap.py:219: RuntimeWarning: numpy.ufunc size changed, may indicate binary incompatibility. Expected 192 from C header, got 216 from PyObject\n",
      "  return f(*args, **kwds)\n",
      "/usr/lib/python3.6/importlib/_bootstrap.py:219: RuntimeWarning: numpy.ufunc size changed, may indicate binary incompatibility. Expected 192 from C header, got 216 from PyObject\n",
      "  return f(*args, **kwds)\n",
      "/usr/lib/python3.6/importlib/_bootstrap.py:219: RuntimeWarning: numpy.ufunc size changed, may indicate binary incompatibility. Expected 192 from C header, got 216 from PyObject\n",
      "  return f(*args, **kwds)\n"
     ]
    }
   ],
   "source": [
    "import astropy.units as u\n",
    "\n",
    "from altaipony.lcio import from_mast\n",
    "from altaipony.altai import find_iterative_median\n",
    "from altaipony.flarelc import FlareLightCurve\n",
    "\n",
    "\n",
    "from lightkurve import search_targetpixelfile\n",
    "\n",
    "import matplotlib.pyplot as plt\n",
    "%matplotlib inline\n",
    "\n",
    "import copy\n",
    "\n",
    "\n",
    "from scipy.interpolate import UnivariateSpline\n",
    "\n",
    "import os\n",
    "import pandas as pd\n",
    "import numpy as np\n",
    "\n",
    "from funcs.funcs import read_custom_aperture_lc\n",
    "from funcs.custom_detrending import custom_detrending\n",
    "\n",
    "from altaipony.fakeflares import aflare"
   ]
  },
  {
   "cell_type": "code",
   "execution_count": 2,
   "metadata": {},
   "outputs": [],
   "source": [
    "clcs = ! ls /home/ekaterina/Documents/001_Science/TESS_UCDs/TESS_UCD_flares/custom_aperture/*fits\n",
    "clcs = [x.split(\"/\")[-1] for x in clcs]\n",
    "\n",
    "def get_customlc(TIC, c, clcs):\n",
    "    for p in clcs:\n",
    "        if (str(TIC) in p.split(\"-\")[2]) & (c == int(p.split(\"-\")[1][1:])):\n",
    "            print(p)\n",
    "            pac = p\n",
    "    return pac"
   ]
  },
  {
   "cell_type": "code",
   "execution_count": 3,
   "metadata": {},
   "outputs": [],
   "source": [
    "CWD = \"/\".join(os.getcwd().split(\"/\")[:-1])\n",
    "respath = f\"{CWD}/flare_tables/2019_11_18_TESSUCDs_flares.csv\"\n",
    "df = pd.read_csv(respath)\n",
    "targetswflare = df.TIC.unique().shape[0]\n",
    "LCswflares = df.groupby(by=[\"TIC\",\"Campaign\"]).count().sort_values(by=\"ampl_rec\").shape[0]\n",
    "candidates = df.shape[0]\n",
    "amplmax = df.ampl_rec.max()\n"
   ]
  },
  {
   "cell_type": "code",
   "execution_count": 4,
   "metadata": {},
   "outputs": [
    {
     "data": {
      "text/plain": [
       "array([ 1,  2,  3,  4,  5,  6,  7,  9, 10, 11, 12, 13])"
      ]
     },
     "execution_count": 4,
     "metadata": {},
     "output_type": "execute_result"
    }
   ],
   "source": [
    "df[df.Campaign==6].groupby(\"TIC\").count()\n",
    "TIC = 142052876\n",
    "\n",
    "#df.groupby(\"TIC\").Campaign.count().sort_values(ascending=False)[:10]\n",
    "df[df.TIC==TIC].Campaign.unique()\n",
    "#df.sort_values(by=\"ed_rec\", ascending=False).head()"
   ]
  },
  {
   "cell_type": "code",
   "execution_count": 5,
   "metadata": {},
   "outputs": [
    {
     "name": "stdout",
     "output_type": "stream",
     "text": [
      "1ca_tess2019082014114-s0001-0000000142052876-0000-s_lc.fits\n",
      "Found peak in periodogram at  1.785461473329574 1 / d\n",
      "SNR at  1.5068986902024757\n",
      "Found peak in periodogram at  1.7930988605574345 1 / d\n",
      "SNR at  1.818721271759963\n",
      "Found peak in periodogram at  1.6700210762788557 1 / d\n",
      "SNR at  0.9046970761888059\n",
      "Window lengths:  [75, 75, 955]\n"
     ]
    },
    {
     "name": "stderr",
     "output_type": "stream",
     "text": [
      "/home/ekaterina/Documents/001_Science/TESS_UCDs/TESS_UCD_flares/tessenv/lib/python3.6/site-packages/ipykernel_launcher.py:8: ResourceWarning: unclosed file <_io.FileIO name='/home/ekaterina/Documents/001_Science/TESS_UCDs/TESS_UCD_flares/custom_aperture/1ca_tess2019082014114-s0001-0000000142052876-0000-s_lc.fits' mode='rb' closefd=True>\n",
      "  \n"
     ]
    },
    {
     "name": "stdout",
     "output_type": "stream",
     "text": [
      "Do last SavGol round.\n"
     ]
    },
    {
     "name": "stderr",
     "output_type": "stream",
     "text": [
      "Found 4 candidate(s) in the (0,9223) gap.\n",
      "Found 1 candidate(s) in the (9223,15240) gap.\n",
      "Found 3 candidate(s) in the (15240,18104) gap.\n",
      "/home/ekaterina/Documents/001_Science/TESS_UCDs/TESS_UCD_flares/tessenv/lib/python3.6/site-packages/pandas/core/frame.py:7138: FutureWarning: Sorting because non-concatenation axis is not aligned. A future version\n",
      "of pandas will change to not sort by default.\n",
      "\n",
      "To accept the future behavior, pass 'sort=False'.\n",
      "\n",
      "To retain the current behavior and silence the warning, pass 'sort=True'.\n",
      "\n",
      "  sort=sort,\n"
     ]
    },
    {
     "data": {
      "text/html": [
       "<div>\n",
       "<style scoped>\n",
       "    .dataframe tbody tr th:only-of-type {\n",
       "        vertical-align: middle;\n",
       "    }\n",
       "\n",
       "    .dataframe tbody tr th {\n",
       "        vertical-align: top;\n",
       "    }\n",
       "\n",
       "    .dataframe thead th {\n",
       "        text-align: right;\n",
       "    }\n",
       "</style>\n",
       "<table border=\"1\" class=\"dataframe\">\n",
       "  <thead>\n",
       "    <tr style=\"text-align: right;\">\n",
       "      <th></th>\n",
       "      <th>ampl_rec</th>\n",
       "      <th>cstart</th>\n",
       "      <th>cstop</th>\n",
       "      <th>ed_rec</th>\n",
       "      <th>ed_rec_err</th>\n",
       "      <th>istart</th>\n",
       "      <th>istop</th>\n",
       "      <th>total_n_valid_data_points</th>\n",
       "      <th>tstart</th>\n",
       "      <th>tstop</th>\n",
       "    </tr>\n",
       "  </thead>\n",
       "  <tbody>\n",
       "    <tr>\n",
       "      <th>6</th>\n",
       "      <td>0.450151</td>\n",
       "      <td>90441</td>\n",
       "      <td>90472</td>\n",
       "      <td>200.162389</td>\n",
       "      <td>0.708878</td>\n",
       "      <td>18025</td>\n",
       "      <td>18056</td>\n",
       "      <td>18104.0</td>\n",
       "      <td>1353.068335</td>\n",
       "      <td>1353.111390</td>\n",
       "    </tr>\n",
       "    <tr>\n",
       "      <th>2</th>\n",
       "      <td>0.094941</td>\n",
       "      <td>77718</td>\n",
       "      <td>77738</td>\n",
       "      <td>55.006854</td>\n",
       "      <td>0.820335</td>\n",
       "      <td>7009</td>\n",
       "      <td>7028</td>\n",
       "      <td>18104.0</td>\n",
       "      <td>1335.397790</td>\n",
       "      <td>1335.425567</td>\n",
       "    </tr>\n",
       "    <tr>\n",
       "      <th>1</th>\n",
       "      <td>0.022383</td>\n",
       "      <td>76823</td>\n",
       "      <td>76831</td>\n",
       "      <td>13.084491</td>\n",
       "      <td>0.423802</td>\n",
       "      <td>6163</td>\n",
       "      <td>6171</td>\n",
       "      <td>18104.0</td>\n",
       "      <td>1334.154755</td>\n",
       "      <td>1334.165866</td>\n",
       "    </tr>\n",
       "    <tr>\n",
       "      <th>0</th>\n",
       "      <td>0.015725</td>\n",
       "      <td>74161</td>\n",
       "      <td>74165</td>\n",
       "      <td>6.114157</td>\n",
       "      <td>0.455839</td>\n",
       "      <td>3579</td>\n",
       "      <td>3583</td>\n",
       "      <td>18104.0</td>\n",
       "      <td>1330.457578</td>\n",
       "      <td>1330.463133</td>\n",
       "    </tr>\n",
       "    <tr>\n",
       "      <th>4</th>\n",
       "      <td>0.031122</td>\n",
       "      <td>81303</td>\n",
       "      <td>81306</td>\n",
       "      <td>5.833163</td>\n",
       "      <td>0.263789</td>\n",
       "      <td>9738</td>\n",
       "      <td>9741</td>\n",
       "      <td>18104.0</td>\n",
       "      <td>1340.376871</td>\n",
       "      <td>1340.381038</td>\n",
       "    </tr>\n",
       "    <tr>\n",
       "      <th>3</th>\n",
       "      <td>0.010245</td>\n",
       "      <td>79157</td>\n",
       "      <td>79161</td>\n",
       "      <td>4.742440</td>\n",
       "      <td>0.534810</td>\n",
       "      <td>8437</td>\n",
       "      <td>8441</td>\n",
       "      <td>18104.0</td>\n",
       "      <td>1337.396368</td>\n",
       "      <td>1337.401924</td>\n",
       "    </tr>\n",
       "    <tr>\n",
       "      <th>7</th>\n",
       "      <td>0.016283</td>\n",
       "      <td>90482</td>\n",
       "      <td>90485</td>\n",
       "      <td>4.389117</td>\n",
       "      <td>0.403634</td>\n",
       "      <td>18066</td>\n",
       "      <td>18069</td>\n",
       "      <td>18104.0</td>\n",
       "      <td>1353.125279</td>\n",
       "      <td>1353.129445</td>\n",
       "    </tr>\n",
       "    <tr>\n",
       "      <th>5</th>\n",
       "      <td>0.015639</td>\n",
       "      <td>88363</td>\n",
       "      <td>88366</td>\n",
       "      <td>4.246444</td>\n",
       "      <td>0.294500</td>\n",
       "      <td>15977</td>\n",
       "      <td>15980</td>\n",
       "      <td>18104.0</td>\n",
       "      <td>1350.182278</td>\n",
       "      <td>1350.186445</td>\n",
       "    </tr>\n",
       "  </tbody>\n",
       "</table>\n",
       "</div>"
      ],
      "text/plain": [
       "   ampl_rec cstart  cstop      ed_rec  ed_rec_err istart  istop  \\\n",
       "6  0.450151  90441  90472  200.162389    0.708878  18025  18056   \n",
       "2  0.094941  77718  77738   55.006854    0.820335   7009   7028   \n",
       "1  0.022383  76823  76831   13.084491    0.423802   6163   6171   \n",
       "0  0.015725  74161  74165    6.114157    0.455839   3579   3583   \n",
       "4  0.031122  81303  81306    5.833163    0.263789   9738   9741   \n",
       "3  0.010245  79157  79161    4.742440    0.534810   8437   8441   \n",
       "7  0.016283  90482  90485    4.389117    0.403634  18066  18069   \n",
       "5  0.015639  88363  88366    4.246444    0.294500  15977  15980   \n",
       "\n",
       "   total_n_valid_data_points       tstart        tstop  \n",
       "6                    18104.0  1353.068335  1353.111390  \n",
       "2                    18104.0  1335.397790  1335.425567  \n",
       "1                    18104.0  1334.154755  1334.165866  \n",
       "0                    18104.0  1330.457578  1330.463133  \n",
       "4                    18104.0  1340.376871  1340.381038  \n",
       "3                    18104.0  1337.396368  1337.401924  \n",
       "7                    18104.0  1353.125279  1353.129445  \n",
       "5                    18104.0  1350.182278  1350.186445  "
      ]
     },
     "execution_count": 5,
     "metadata": {},
     "output_type": "execute_result"
    },
    {
     "data": {
      "text/plain": [
       "<Figure size 1152x360 with 0 Axes>"
      ]
     },
     "metadata": {},
     "output_type": "display_data"
    }
   ],
   "source": [
    "c=1\n",
    "plt.figure(figsize=(16,5))\n",
    "\n",
    "path = get_customlc(TIC, c, clcs)\n",
    "\n",
    "path = f\"{CWD}/custom_aperture/\" + path\n",
    "\n",
    "flc = read_custom_aperture_lc(path)\n",
    "flck = copy.deepcopy(flc)\n",
    "#plt.plot(flc.time, flc.flux, c= \"k\")\n",
    "\n",
    "flcd = custom_detrending(flc)\n",
    "flcd = flcd.find_flares()\n",
    "#plt.xlim(1394.5,1395.5)\n",
    "#plt.xlim(1660,1670)\n",
    "#plt.ylim(-1e14,1e14)\n",
    "flcd.flares.sort_values(by=\"ed_rec\",ascending=False)\n"
   ]
  },
  {
   "cell_type": "code",
   "execution_count": 6,
   "metadata": {},
   "outputs": [
    {
     "data": {
      "text/plain": [
       "<matplotlib.legend.Legend at 0x7f1185756710>"
      ]
     },
     "execution_count": 6,
     "metadata": {},
     "output_type": "execute_result"
    },
    {
     "data": {
      "image/png": "[encoded data removed]",
      "text/plain": [
       "<Figure size 1152x360 with 1 Axes>"
      ]
     },
     "metadata": {
      "needs_background": "light"
     },
     "output_type": "display_data"
    }
   ],
   "source": [
    "plt.figure(figsize=(16,5))\n",
    "g = 14\n",
    "\n",
    "plt.plot(flck.time, flck.flux+200, c=\"orange\", label=f\"TIC {flc.targetid}, S{flc.campaign}\");#flc.time, \n",
    "plt.plot(flcd.time,flcd.it_med+3*flcd.detrended_flux_err, c=\"r\");\n",
    "plt.plot(flcd.time,flcd.detrended_flux, c=\"g\");\n",
    "f = flcd.flares.iloc[2]\n",
    "plt.xlim(f.tstart-1.1,f.tstop+1.1);\n",
    "#plt.xlim(f.cstart-1000,f.cstop+1000);\n",
    "#plt.ylim(1600,2000)\n",
    "#plt.xlim(298200,298600)\n",
    "#plt.xlim(1641.81,1644)\n",
    "plt.xlabel(\"time\",fontsize=14)\n",
    "plt.ylabel(\"flux\",fontsize=14)\n",
    "plt.legend(fontsize=14)\n",
    "#plt.savefig(f\"TIC{flc.targetid}_s{flc.campaign}_multiperiod.png\",dpi=300)"
   ]
  },
  {
   "cell_type": "code",
   "execution_count": null,
   "metadata": {},
   "outputs": [],
   "source": [
    "CWD = \"/\".join(os.getcwd().split(\"/\")[:-1])\n",
    "respath = f\"{CWD}/flare_tables/2019_11_18_TESSUCDs_flares.csv\"\n",
    "df = pd.read_csv(respath)\n",
    "f = df\n",
    "f[\"x\"] =f.tstop-f.tstart\n",
    "f = f.sort_values(by=\"x\")\n",
    "x = (f.tstop-f.tstart).values\n",
    "x = f.ed_rec.values\n",
    "y = f.ampl_rec.values\n",
    "plt.scatter(x, y)\n",
    "plt.scatter(flcd.flares.ed_rec, flcd.flares.ampl_rec)\n",
    "#plt.scatter(flcd.flares.tstop-flcd.flares.tstart, flcd.flares.ed_rec)\n",
    "plt.xscale(\"log\")\n",
    "plt.yscale(\"log\")\n",
    "#np.polyfit(f.tstop-f.tstart, f.ed_rec,1)\n",
    "from scipy.optimize import curve_fit\n",
    "def func(x, a, b):\n",
    "    return a * np.power(x , b)\n",
    "popt, pcov = curve_fit(func, x, y)\n",
    "x=np.array([5e-4,5e-3,5e-2,5e-1])\n",
    "plt.plot(x, func(x, *popt), 'r-',\n",
    "         label='fit: a=%5.3f, b=%5.3f' % tuple(popt))\n",
    "plt.legend()\n",
    "func(0.4, *popt),func(0.6, *popt)"
   ]
  },
  {
   "cell_type": "code",
   "execution_count": null,
   "metadata": {},
   "outputs": [],
   "source": [
    "f = flcd.flares.loc[[0,1,5],:]\n",
    "f[\"x\"] =f.tstop-f.tstart\n",
    "f = f.sort_values(by=\"x\")\n",
    "x = (f.tstop-f.tstart).values\n",
    "y = f.ampl_rec.values\n",
    "plt.scatter(x, y)\n",
    "plt.xscale(\"log\")\n",
    "plt.yscale(\"log\")\n",
    "#np.polyfit(f.tstop-f.tstart, f.ed_rec,1)\n",
    "from scipy.optimize import curve_fit\n",
    "def func(x, a):\n",
    "    return a * np.power(x , .965)#b=1.465 for edrec, b=0.965 for ampl_rec\n",
    "popt, pcov = curve_fit(func, x, y)\n",
    "x=np.array([5e-4,5e-3,5e-2,5e-1])\n",
    "plt.plot(x, func(x, *popt), 'r-',\n",
    "         label='fit: a=%5.3f' % tuple(popt))\n",
    "plt.legend()\n",
    "func(0.4, *popt),func(0.6, *popt)\n",
    "#ED = (7981.423328873443, 14456.196424545316) s, amplitude=(1.856542468781827, 2.7455727338847487)"
   ]
  },
  {
   "cell_type": "code",
   "execution_count": null,
   "metadata": {},
   "outputs": [],
   "source": [
    "plt.figure(figsize=(16,5))\n",
    "g = 14\n",
    "\n",
    "plt.plot(flck.time, flck.flux, c=\"orange\");#flc.time, \n",
    "#plt.plot(flcd.time,flcd.it_med+3*flcd.detrended_flux_err, c=\"r\");\n",
    "#plt.plot(flcd.time,flcd.detrended_flux, c=\"g\");\n",
    "f = flcd.flares.iloc[3]\n",
    "plt.xlim(f.tstart-.5,f.tstop+.5);\n",
    "#plt.ylim(1.36e5,1.4e5)\n",
    "#plt.xlim(298200,298600)\n",
    "#plt.xlim(1641.81,1644)\n",
    "for a in np.linspace(.9,1.7,10):\n",
    "    for d in np.linspace(.4,.6,10):\n",
    "        plt.plot(flcd.time,flcd.it_med*aflare(flcd.time, 1641.835, d/6, a,) + flcd.it_med, c=\"grey\", alpha=.05)\n",
    "plt.title(\"ampl=1.9-2.7, dur=.4-.6 d\")\n",
    "plt.savefig(\"/home/ekaterina/Documents/001_Science/TESS_UCDs/TESS_UCD_flares/weird_feature/flarefit1.png\", dpi=300)"
   ]
  },
  {
   "cell_type": "code",
   "execution_count": null,
   "metadata": {},
   "outputs": [],
   "source": [
    "tpf = search_targetpixelfile(\"TIC\" + str(flcd.targetid), sector=c).download()"
   ]
  },
  {
   "cell_type": "code",
   "execution_count": null,
   "metadata": {},
   "outputs": [],
   "source": [
    "tpf.interact()"
   ]
  },
  {
   "cell_type": "code",
   "execution_count": null,
   "metadata": {},
   "outputs": [],
   "source": [
    "markers =  ('o', 'v', '^', '<', '>', '8', 's', 'p', '*', 'h', 'H', 'D', 'd', 'P', 'X')"
   ]
  },
  {
   "cell_type": "markdown",
   "metadata": {},
   "source": [
    "358108509 1 last flare suffers from de-trending being weird at the end of the LC\n",
    "340703996 2 first flare could also be an undetrended wiggle in the LC"
   ]
  }
 ],
 "metadata": {
  "kernelspec": {
   "display_name": "tessenv",
   "language": "python",
   "name": "tessenv"
  },
  "language_info": {
   "codemirror_mode": {
    "name": "ipython",
    "version": 3
   },
   "file_extension": ".py",
   "mimetype": "text/x-python",
   "name": "python",
   "nbconvert_exporter": "python",
   "pygments_lexer": "ipython3",
   "version": "3.6.8"
  }
 },
 "nbformat": 4,
 "nbformat_minor": 2
}
