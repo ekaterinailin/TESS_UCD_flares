{
 "cells": [
  {
   "cell_type": "code",
   "execution_count": 2,
   "metadata": {},
   "outputs": [],
   "source": [
    "import astropy.units as u\n",
    "\n",
    "from altaipony.lcio import from_mast\n",
    "from altaipony.altai import find_iterative_median\n",
    "from altaipony.flarelc import FlareLightCurve\n",
    "\n",
    "\n",
    "from lightkurve import search_targetpixelfile\n",
    "\n",
    "import matplotlib.pyplot as plt\n",
    "%matplotlib inline\n",
    "\n",
    "import copy\n",
    "\n",
    "\n",
    "from scipy.interpolate import UnivariateSpline\n",
    "\n",
    "import os\n",
    "import pandas as pd\n",
    "import numpy as np\n",
    "\n",
    "from funcs.helper import read_custom_aperture_lc\n",
    "from funcs.custom_detrending import custom_detrending\n",
    "\n",
    "from scipy import optimize"
   ]
  },
  {
   "cell_type": "code",
   "execution_count": 3,
   "metadata": {},
   "outputs": [],
   "source": [
    "clcs = ! ls /home/ekaterina/Documents/001_Science/TESS_UCDs/TESS_UCD_flares/custom_aperture/*fits\n",
    "clcs = [x.split(\"/\")[-1] for x in clcs]\n",
    "\n",
    "def get_customlc(TIC, c, clcs):\n",
    "    for p in clcs:\n",
    "        if (str(TIC) in p.split(\"-\")[2]) & (c == int(p.split(\"-\")[1][1:])):\n",
    "            print(p)\n",
    "            pac = p\n",
    "    return pac\n"
   ]
  },
  {
   "cell_type": "code",
   "execution_count": null,
   "metadata": {},
   "outputs": [],
   "source": [
    "CWD = \"/\".join(os.getcwd().split(\"/\")[:-1])\n",
    "respath = f\"{CWD}/flare_tables/2019_11_21_TESSUCDs_flares.csv\"\n",
    "df = pd.read_csv(respath)\n",
    "targetswflare = df.TIC.unique().shape[0]\n",
    "LCswflares = df.groupby(by=[\"TIC\",\"Campaign\"]).count().sort_values(by=\"ampl_rec\").shape[0]\n",
    "candidates = df.shape[0]\n",
    "amplmax = df.ampl_rec.max()\n"
   ]
  },
  {
   "cell_type": "code",
   "execution_count": null,
   "metadata": {},
   "outputs": [],
   "source": [
    "plt.scatter(df.tstop-df.tstart, df.ampl_rec)\n",
    "plt.xscale(\"log\")\n",
    "plt.yscale(\"log\")"
   ]
  },
  {
   "cell_type": "code",
   "execution_count": null,
   "metadata": {},
   "outputs": [],
   "source": [
    "plt.scatter(df.ampl_rec, df.ed_rec)\n",
    "plt.xscale(\"log\")\n",
    "plt.yscale(\"log\")"
   ]
  },
  {
   "cell_type": "code",
   "execution_count": null,
   "metadata": {},
   "outputs": [],
   "source": [
    "df[df.ed_rec<1]"
   ]
  },
  {
   "cell_type": "code",
   "execution_count": null,
   "metadata": {},
   "outputs": [],
   "source": [
    "df[df.Campaign==6].groupby(\"TIC\").count()\n",
    "TIC = 389051009\n",
    "#df.groupby(\"TIC\").Campaign.count().sort_values(ascending=False)[:10]\n",
    "df[df.TIC==TIC].Campaign.unique()\n",
    "#df.sort_values(by=\"ed_rec\", ascending=False).head()"
   ]
  },
  {
   "cell_type": "code",
   "execution_count": null,
   "metadata": {},
   "outputs": [],
   "source": [
    "#c=1\n",
    "\n",
    "#path = get_customlc(TIC, c, clcs)\n",
    "\n",
    "#path = f\"{CWD}/custom_aperture/\" + path\n",
    "\n",
    "#flc = read_custom_aperture_lc(path)\n",
    "\n",
    "flck = copy.deepcopy(flc)\n",
    "flcd = custom_detrending(flc)\n",
    "flcd = flcd.find_flares()\n",
    "\n",
    "#flcd.flares.sort_values(by=\"ed_rec\",ascending=False)\n",
    "\n",
    "fig, ax = plt.subplots(ncols=1,nrows=1, figsize=(16,5))\n",
    "g = 14\n",
    "\n",
    "ax.plot(flck.time, flck.flux, c=\"orange\", label=f\"TIC {flc.targetid}, S{flc.campaign}\");#flc.time, \n",
    "ax.plot(flcd.time,flcd.it_med+3*flcd.detrended_flux_err, c=\"r\");\n",
    "ax.plot(flcd.time,flcd.detrended_flux, c=\"g\");\n",
    "for i, f in flcd.flares.iterrows():\n",
    "    cond = ((flcd.cadenceno >= f.cstart) & (flcd.cadenceno <= f.cstop))\n",
    "    end = np.where(flcd.cadenceno == f.cstop)[0][0]\n",
    "    sta = np.where(flcd.cadenceno == f.cstart)[0][0]\n",
    "    print(end, sta, flcd.time[sta],flcd.time[end],)\n",
    "    ax.axvspan(flcd.time[sta]-.5,flcd.time[end]+.5,alpha=.4\n",
    "\n",
    "            )\n",
    "#f = flcd.flares.iloc[2]\n",
    "#plt.xlim(f.tstart-1.1,f.tstop+1.1);\n",
    "#plt.xlim(f.cstart-1000,f.cstop+1000);\n",
    "#plt.ylim(1600,2000)\n",
    "#plt.xlim(298200,298600)\n",
    "#plt.xlim(1641.81,1644)\n",
    "plt.xlabel(\"time\",fontsize=14)\n",
    "plt.ylabel(\"flux\",fontsize=14)\n",
    "plt.legend(fontsize=14)\n",
    "plt.savefig(f\"{CWD}/plots/TIC{flc.targetid}_s{flc.campaign}.png\",dpi=300)\n",
    "plt.close()"
   ]
  },
  {
   "cell_type": "code",
   "execution_count": null,
   "metadata": {
    "scrolled": true
   },
   "outputs": [],
   "source": [
    "from altaipony.fakeflares import aflare\n",
    "#for i,f in flcd.flares.iterrows():\n",
    "plt.figure(figsize=(16,5))\n",
    "g = 14\n",
    "\n",
    "#plt.plot(flc.time, flc.flux, c=\"orange\");#flc.time, \n",
    "plt.plot(flck.time, flck.flux, c=\"grey\")\n",
    "#plt.plot(flcd.time,flcd.it_med+3*flcd.detrended_flux_err, c=\"r\");\n",
    "#plt.plot(flcd.time,flcd.detrended_flux, c=\"g\");\n",
    "f = flcd.flares.iloc[1]\n",
    "plt.xlim(f.tstart-1.1,f.tstop+1.1);\n",
    "#plt.xlim(1386.142,1386.15)\n",
    "#for a in np.linspace(.9,1.7,10):\n",
    "#    for d in np.linspace(.4,.6,10):\n",
    "#        plt.plot(flcd.time,flcd.it_med*aflare(flcd.time, 1641.835, d/6, a,) + flcd.it_med, c=\"grey\", alpha=.05)\n",
    "#plt.title(\"ampl=1.9-2.7, dur=.4-.6 d\")\n",
    "#plt.savefig(\"/home/ekaterina/Documents/001_Science/TESS_UCDs/TESS_UCD_flares/weird_feature/flarefit1.png\", dpi=300)\n",
    "i = 12\n",
    "#plt.xlim(flck.time[0]+i*2,flck.time[0]+2+i*2)\n",
    "plt.ylim(600,800)\n",
    "#plt.xlim(1331.5,1333)"
   ]
  },
  {
   "cell_type": "code",
   "execution_count": null,
   "metadata": {},
   "outputs": [],
   "source": [
    "def cosine(x, a, b, c, d):\n",
    "    return a * np.cos(b * x + c) + d \n",
    "    \n",
    "#flck = copy.deepcopy(flc)\n",
    "cond = np.invert(np.isnan(flck.time)) & np.invert(np.isnan(flck.flux)) \n",
    "p, p_cov = optimize.curve_fit(cosine, flck.time[cond], flck.flux[cond],\n",
    "                                          p0=[np.nanstd(flck.flux),\n",
    "                                          2*np.pi*pg.frequency_at_max_power.value,\n",
    "                                          0, np.nanmean(flck.flux)])\n",
    "#flck.flux = np.nanmean(flck.flux) + flck.flux-cosine(flck.time, p[0], p[1], p[2], p[3])\n",
    "rel_amplitude = p[0] / np.nanmedian(flck.flux)\n",
    "print(f\"Relative amplitude of modulation: {rel_amplitude:.1e}\")\n",
    "plt.figure(figsize=(15,6))\n",
    "plt.plot(flck.time, flck.flux,c=\"grey\")\n",
    "#plt.plot(flck.time, np.nanmean(flck.flux) + flck.flux - cosine(flck.time, p[0], p[1], p[2], p[3]))\n",
    "plt.plot(flck.time, cosine(flck.time, 1*p[0], p[1], p[2], p[3]), c=\"navy\") #+ 4*(1340.6- flck.time),\n",
    "plt.ylim(610,800)\n",
    "plt.xlim(1339.7,1341.7)\n",
    "plt.xlim(1331.5,1333.5)\n",
    "#plt.xlim(1340.225,1340.34)\n",
    "plt.title(\"TIC 389051009, sector 1\")\n",
    "plt.savefig(f\"{CWD}/multiperiod_flares/{TIC}_{c}/plots/{TIC}_s{c}_sinusoidal2.png\",dpi=300)"
   ]
  },
  {
   "cell_type": "code",
   "execution_count": null,
   "metadata": {},
   "outputs": [],
   "source": [
    "(1340.225-1340.34)/0.14316634"
   ]
  },
  {
   "cell_type": "code",
   "execution_count": null,
   "metadata": {
    "scrolled": true
   },
   "outputs": [],
   "source": [
    "per = 0.41302504\n",
    "minim = 1625.28\n",
    "\n",
    "flcd.flares[\"phases\"] = ((flcd.flares.tstart - minim) % per) / per\n",
    "flcd.flares[\"phasef\"] = ((flcd.flares.tstop - minim) % per) / per\n",
    "#plt.hist(flcd.flares.phases, bins=5)\n",
    "plt.xlim(0,1)\n",
    "#flcd.flares\n",
    "for i,row in flcd.flares.iterrows():\n",
    "    plt.plot([row.phases,row.phasef],[1+i]*2)"
   ]
  },
  {
   "cell_type": "code",
   "execution_count": null,
   "metadata": {},
   "outputs": [],
   "source": [
    "flcd.flares"
   ]
  },
  {
   "cell_type": "code",
   "execution_count": null,
   "metadata": {},
   "outputs": [],
   "source": [
    "c=6\n",
    "\n",
    "#path = get_customlc(TIC, c, clcs)\n",
    "for path in clcs[3:]:\n",
    "    path = f\"{CWD}/custom_aperture/\" + path\n",
    "\n",
    "    flc = read_custom_aperture_lc(path)\n",
    "    flck = copy.deepcopy(flc)\n",
    "    flcd = custom_detrending(flc)\n",
    "    flcd = flcd.find_flares()\n",
    "\n",
    "    #flcd.flares.sort_values(by=\"ed_rec\",ascending=False)\n",
    "\n",
    "    fig, ax = plt.subplots(ncols=1,nrows=1, figsize=(16,5))\n",
    "    g = 14\n",
    "\n",
    "    ax.plot(flck.time, flck.flux, c=\"orange\", label=f\"TIC {flc.targetid}, S{flc.campaign}\");#flc.time, \n",
    "    ax.plot(flcd.time,flcd.it_med+13*flcd.detrended_flux_err, c=\"r\");\n",
    "    ax.plot(flcd.time,flcd.detrended_flux+10*flcd.detrended_flux_err, c=\"g\");\n",
    "    for i, f in flcd.flares.iterrows():\n",
    "        cond = ((flcd.cadenceno >= f.cstart) & (flcd.cadenceno <= f.cstop))\n",
    "        end = np.where(flcd.cadenceno == f.cstop)[0][0]\n",
    "        sta = np.where(flcd.cadenceno == f.cstart)[0][0]\n",
    "      #  print(end, sta, flcd.time[sta],flcd.time[end],)\n",
    "        ax.axvspan(flcd.time[sta]-.5,flcd.time[end]+.5,alpha=.4\n",
    "                \n",
    "                )\n",
    "    #f = flcd.flares.iloc[2]\n",
    "    #plt.xlim(f.tstart-1.1,f.tstop+1.1);\n",
    "    #plt.xlim(f.cstart-1000,f.cstop+1000);\n",
    "    #plt.ylim(1600,2000)\n",
    "    #plt.xlim(298200,298600)\n",
    "    #plt.xlim(1641.81,1644)\n",
    "    plt.xlabel(\"time\",fontsize=14)\n",
    "    plt.ylabel(\"flux\",fontsize=14)\n",
    "    plt.legend(fontsize=14)\n",
    "    plt.savefig(f\"{CWD}/plots/TIC{flc.targetid}_s{flc.campaign}.png\",dpi=300)\n",
    "    plt.close()"
   ]
  },
  {
   "cell_type": "code",
   "execution_count": null,
   "metadata": {},
   "outputs": [],
   "source": [
    "CWD = \"/\".join(os.getcwd().split(\"/\")[:-1])\n",
    "respath = f\"{CWD}/flare_tables/2019_11_18_TESSUCDs_flares.csv\"\n",
    "df = pd.read_csv(respath)\n",
    "f = df\n",
    "f[\"x\"] =f.tstop-f.tstart\n",
    "f = f.sort_values(by=\"x\")\n",
    "x = (f.tstop-f.tstart).values\n",
    "x = f.ed_rec.values\n",
    "y = f.ampl_rec.values\n",
    "plt.scatter(x, y)\n",
    "plt.scatter(flcd.flares.ed_rec, flcd.flares.ampl_rec)\n",
    "#plt.scatter(flcd.flares.tstop-flcd.flares.tstart, flcd.flares.ed_rec)\n",
    "plt.xscale(\"log\")\n",
    "plt.yscale(\"log\")\n",
    "#np.polyfit(f.tstop-f.tstart, f.ed_rec,1)\n",
    "from scipy.optimize import curve_fit\n",
    "def func(x, a, b):\n",
    "    return a * np.power(x , b)\n",
    "popt, pcov = curve_fit(func, x, y)\n",
    "x=np.array([5e-4,5e-3,5e-2,5e-1])\n",
    "plt.plot(x, func(x, *popt), 'r-',\n",
    "         label='fit: a=%5.3f, b=%5.3f' % tuple(popt))\n",
    "plt.legend()\n",
    "func(0.4, *popt),func(0.6, *popt)"
   ]
  },
  {
   "cell_type": "code",
   "execution_count": null,
   "metadata": {},
   "outputs": [],
   "source": [
    "f = flcd.flares.loc[[0,1,5],:]\n",
    "f[\"x\"] =f.tstop-f.tstart\n",
    "f = f.sort_values(by=\"x\")\n",
    "x = (f.tstop-f.tstart).values\n",
    "y = f.ampl_rec.values\n",
    "plt.scatter(x, y)\n",
    "plt.xscale(\"log\")\n",
    "plt.yscale(\"log\")\n",
    "#np.polyfit(f.tstop-f.tstart, f.ed_rec,1)\n",
    "from scipy.optimize import curve_fit\n",
    "def func(x, a):\n",
    "    return a * np.power(x , .965)#b=1.465 for edrec, b=0.965 for ampl_rec\n",
    "popt, pcov = curve_fit(func, x, y)\n",
    "x=np.array([5e-4,5e-3,5e-2,5e-1])\n",
    "plt.plot(x, func(x, *popt), 'r-',\n",
    "         label='fit: a=%5.3f' % tuple(popt))\n",
    "plt.legend()\n",
    "func(0.4, *popt),func(0.6, *popt)\n",
    "#ED = (7981.423328873443, 14456.196424545316) s, amplitude=(1.856542468781827, 2.7455727338847487)"
   ]
  },
  {
   "cell_type": "code",
   "execution_count": null,
   "metadata": {},
   "outputs": [],
   "source": [
    "tpf = search_targetpixelfile(\"TIC\" + str(flcd.targetid), sector=c).download()"
   ]
  },
  {
   "cell_type": "code",
   "execution_count": 7,
   "metadata": {},
   "outputs": [
    {
     "name": "stderr",
     "output_type": "stream",
     "text": [
      "/work1/eilin/Flares_in_Clusters_2/RESULTS_Github/flares-in-clusters-with-k2-ii/flaresinclustersii/lib64/python3.6/site-packages/lightkurve/search.py:225: LightkurveWarning: Cannot download from an empty search result.\n",
      "  LightkurveWarning)\n"
     ]
    }
   ],
   "source": [
    "tpf = search_targetpixelfile(\"TIC 332470458\", sector=10).download()"
   ]
  },
  {
   "cell_type": "code",
   "execution_count": 5,
   "metadata": {},
   "outputs": [
    {
     "ename": "AttributeError",
     "evalue": "'NoneType' object has no attribute 'interact'",
     "output_type": "error",
     "traceback": [
      "\u001b[0;31m---------------------------------------------------------------------------\u001b[0m",
      "\u001b[0;31mAttributeError\u001b[0m                            Traceback (most recent call last)",
      "\u001b[0;32m<ipython-input-5-7bfcb21a8385>\u001b[0m in \u001b[0;36m<module>\u001b[0;34m\u001b[0m\n\u001b[0;32m----> 1\u001b[0;31m \u001b[0mtpf\u001b[0m\u001b[0;34m.\u001b[0m\u001b[0minteract\u001b[0m\u001b[0;34m(\u001b[0m\u001b[0;34m)\u001b[0m\u001b[0;34m\u001b[0m\u001b[0;34m\u001b[0m\u001b[0m\n\u001b[0m",
      "\u001b[0;31mAttributeError\u001b[0m: 'NoneType' object has no attribute 'interact'"
     ]
    }
   ],
   "source": [
    "tpf.interact()"
   ]
  },
  {
   "cell_type": "code",
   "execution_count": null,
   "metadata": {},
   "outputs": [],
   "source": [
    "tpf.plot(cadenceno=251071)"
   ]
  },
  {
   "cell_type": "markdown",
   "metadata": {},
   "source": [
    "358108509 1 last flare suffers from de-trending being weird at the end of the LC\n",
    "340703996 2 first flare could also be an undetrended wiggle in the LC"
   ]
  },
  {
   "cell_type": "code",
   "execution_count": null,
   "metadata": {},
   "outputs": [],
   "source": [
    "pg = flck.remove_nans().to_periodogram(freq_unit=1/u.d,\n",
    "                                          maximum_frequency=10,\n",
    "                                          minimum_frequency=0.5)\n",
    "pg.plot()\n",
    "plt.xlim(.5, 10)\n",
    "period = (1 / pg.frequency_at_max_power).to(\"h\")\n",
    "period.to(\"d\")"
   ]
  },
  {
   "cell_type": "code",
   "execution_count": null,
   "metadata": {},
   "outputs": [],
   "source": []
  }
 ],
 "metadata": {
  "kernelspec": {
   "display_name": "flaresinclustersii",
   "language": "python",
   "name": "flaresinclustersii"
  },
  "language_info": {
   "codemirror_mode": {
    "name": "ipython",
    "version": 3
   },
   "file_extension": ".py",
   "mimetype": "text/x-python",
   "name": "python",
   "nbconvert_exporter": "python",
   "pygments_lexer": "ipython3",
   "version": "3.6.9"
  }
 },
 "nbformat": 4,
 "nbformat_minor": 2
}
