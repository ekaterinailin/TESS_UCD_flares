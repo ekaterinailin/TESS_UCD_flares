{
 "cells": [
  {
   "cell_type": "code",
   "execution_count": 1,
   "metadata": {},
   "outputs": [
    {
     "name": "stderr",
     "output_type": "stream",
     "text": [
      "/usr/lib/python3.6/importlib/_bootstrap.py:219: RuntimeWarning: numpy.ufunc size changed, may indicate binary incompatibility. Expected 192 from C header, got 216 from PyObject\n",
      "  return f(*args, **kwds)\n",
      "/usr/lib/python3.6/importlib/_bootstrap.py:219: RuntimeWarning: numpy.ufunc size changed, may indicate binary incompatibility. Expected 192 from C header, got 216 from PyObject\n",
      "  return f(*args, **kwds)\n",
      "/usr/lib/python3.6/importlib/_bootstrap.py:219: RuntimeWarning: numpy.ufunc size changed, may indicate binary incompatibility. Expected 192 from C header, got 216 from PyObject\n",
      "  return f(*args, **kwds)\n"
     ]
    }
   ],
   "source": [
    "import numpy as np\n",
    "import pandas as pd\n",
    "from astropy.io import fits\n",
    "from altaipony.flarelc import FlareLightCurve\n",
    "import sys\n",
    "\n",
    "import matplotlib.pyplot as plt\n",
    "%matplotlib inline\n",
    "\n",
    "from funcs.funcs import write_flares_to_file, read_custom_aperture_lc\n",
    "from funcs.custom_detrending import custom_detrending\n",
    "import os"
   ]
  },
  {
   "cell_type": "code",
   "execution_count": 2,
   "metadata": {},
   "outputs": [
    {
     "data": {
      "text/plain": [
       "191"
      ]
     },
     "execution_count": 2,
     "metadata": {},
     "output_type": "execute_result"
    }
   ],
   "source": [
    "CWD = \"/\".join(os.getcwd().split(\"/\")[:-1])\n",
    "paths = pd.read_csv(f\"{CWD}/custom_aperture/lclist.txt\", header=None)\n",
    "paths = list(paths[0].values)\n",
    "len(paths)"
   ]
  },
  {
   "cell_type": "code",
   "execution_count": 11,
   "metadata": {
    "scrolled": true
   },
   "outputs": [
    {
     "name": "stdout",
     "output_type": "stream",
     "text": [
      "0ca_tess2019082014090-s0001-0000000029780677-0000-s_lc.fits \n",
      "\n"
     ]
    },
    {
     "name": "stderr",
     "output_type": "stream",
     "text": [
      "/home/ekaterina/Documents/001_Science/TESS_UCDs/TESS_UCD_flares/tessenv/lib/python3.6/site-packages/ipykernel_launcher.py:6: ResourceWarning: unclosed file <_io.FileIO name='/home/ekaterina/Documents/001_Science/TESS_UCDs/TESS_UCD_flares/custom_aperture/0ca_tess2019082014090-s0001-0000000029780677-0000-s_lc.fits' mode='rb' closefd=True>\n",
      "  \n",
      "/home/ekaterina/Documents/001_Science/TESS_UCDs/TESS_UCD_flares/tessenv/lib/python3.6/site-packages/numpy/lib/nanfunctions.py:1115: RuntimeWarning: All-NaN slice encountered\n",
      "  overwrite_input=overwrite_input)\n"
     ]
    },
    {
     "name": "stdout",
     "output_type": "stream",
     "text": [
      "[(0, 9223), (9223, 15240), (15240, 18104)] GAPS [75, 107, 75]\n"
     ]
    },
    {
     "name": "stderr",
     "output_type": "stream",
     "text": [
      "Found 0 candidate(s) in the (0,9073) gap.\n",
      "Found 2 candidate(s) in the (9073,15090) gap.\n",
      "Found 0 candidate(s) in the (15090,17805) gap.\n",
      "/home/ekaterina/Documents/001_Science/TESS_UCDs/TESS_UCD_flares/tessenv/lib/python3.6/site-packages/pandas/core/frame.py:7138: FutureWarning: Sorting because non-concatenation axis is not aligned. A future version\n",
      "of pandas will change to not sort by default.\n",
      "\n",
      "To accept the future behavior, pass 'sort=False'.\n",
      "\n",
      "To retain the current behavior and silence the warning, pass 'sort=True'.\n",
      "\n",
      "  sort=sort,\n"
     ]
    },
    {
     "name": "stdout",
     "output_type": "stream",
     "text": [
      "   ampl_rec cstart  cstop       ed_rec  ed_rec_err istart  istop  \\\n",
      "0  2.425364  81083  81126  1622.637596    4.183171   9368   9411   \n",
      "1  0.183530  83396  83416   240.724990    4.335240  11653  11673   \n",
      "\n",
      "   total_n_valid_data_points       tstart        tstop       TIC  Campaign  \n",
      "0                    17805.0  1340.071717  1340.131439  29780677         1  \n",
      "1                    17805.0  1343.284226  1343.312004  29780677         1  \n",
      "\n",
      "Finished TIC 29780677 (1)\n",
      "------------------------------\n",
      "\n",
      "0.013888928874621342\n"
     ]
    },
    {
     "name": "stderr",
     "output_type": "stream",
     "text": [
      "/home/ekaterina/Documents/001_Science/TESS_UCDs/TESS_UCD_flares/tessenv/lib/python3.6/site-packages/numpy/lib/nanfunctions.py:1112: RuntimeWarning: Mean of empty slice\n",
      "  return np.nanmean(a, axis, out=out, keepdims=keepdims)\n"
     ]
    },
    {
     "name": "stdout",
     "output_type": "stream",
     "text": [
      "[(0, 9073), (9073, 15090), (15090, 17805)] GAPS [75, 107, 75]\n"
     ]
    },
    {
     "name": "stderr",
     "output_type": "stream",
     "text": [
      "N/A%|                                                                         |\n",
      "Detrending fake LC:\n",
      "\n"
     ]
    },
    {
     "name": "stdout",
     "output_type": "stream",
     "text": [
      "FITMED [573.29486 573.29486 573.29486 ... 573.3451  573.3451  573.3451 ]\n",
      "nfakesum 3\n",
      "NEWITMED [573.29486 573.29486 573.29486 ... 573.3451  573.3451  573.3451 ]\n",
      "FI [574.602   571.62445 572.44354 ... 568.00146 574.9565  570.582  ] [0.00000000e+000 0.00000000e+000 0.00000000e+000 ... 5.62963764e-172\n",
      " 4.92758995e-172 4.31309158e-172] [573.29486 573.29486 573.29486 ... 573.29486 573.29486 573.29486]\n",
      "FIN (array([   0,    1,    2, ..., 8920, 8921, 8922]),)\n",
      "FI [574.8579  571.293   585.2883  ... 565.7952  568.67267 570.17365] [0.00000000e+00 0.00000000e+00 0.00000000e+00 ... 1.72121556e-42\n",
      " 1.43465501e-42 1.35015891e-42] [573.2182 573.2182 573.2182 ... 573.2182 573.2182 573.2182]\n",
      "FIN (array([   0,    1,    2, ..., 6014, 6015, 6016]),)\n",
      "FI [571.75433 580.79047 573.5972  ... 574.5179  574.17676 572.4683 ] [0.00000000e+000 0.00000000e+000 0.00000000e+000 ... 4.75130546e-134\n",
      " 4.29880702e-134 3.88940304e-134] [573.3451 573.3451 573.3451 ... 573.3451 573.3451 573.3451]\n",
      "FIN (array([   0,    1,    2, ..., 2563, 2564, 2565]),)\n",
      "(17805,) PRE custom <function custom_detrending at 0x7fb43e1f1d08>\n",
      "[(0, 8923), (8923, 14940), (14940, 17506)] GAPS [75, 101, 75]\n"
     ]
    },
    {
     "name": "stderr",
     "output_type": "stream",
     "text": [
      "Found 0 candidate(s) in the (0,8923) gap.\n",
      "Found 3 candidate(s) in the (8923,14940) gap.\n",
      "Found 0 candidate(s) in the (14940,17506) gap.\n",
      "/home/ekaterina/Documents/001_Science/TESS_UCDs/TESS_UCD_flares/tessenv/lib/python3.6/site-packages/pandas/core/frame.py:7138: FutureWarning: Sorting because non-concatenation axis is not aligned. A future version\n",
      "of pandas will change to not sort by default.\n",
      "\n",
      "To accept the future behavior, pass 'sort=False'.\n",
      "\n",
      "To retain the current behavior and silence the warning, pass 'sort=True'.\n",
      "\n",
      "  sort=sort,\n",
      " 20%|##############                                                           |\n",
      "Detrending fake LC:\n",
      "\n"
     ]
    },
    {
     "name": "stdout",
     "output_type": "stream",
     "text": [
      "FITMED [573.29486 573.29486 573.29486 ... 573.3451  573.3451  573.3451 ]\n",
      "nfakesum 3\n",
      "NEWITMED [573.29486 573.29486 573.29486 ... 573.3451  573.3451  573.3451 ]\n",
      "FI [574.602   571.62445 572.44354 ... 568.00146 574.9565  570.582  ] [0.00000000e+000 0.00000000e+000 0.00000000e+000 ... 9.21017299e-139\n",
      " 8.15351813e-139 7.21809004e-139] [573.29486 573.29486 573.29486 ... 573.29486 573.29486 573.29486]\n",
      "FIN (array([   0,    1,    2, ..., 8920, 8921, 8922]),)\n",
      "FI [574.8579  571.293   585.2883  ... 565.7952  568.67267 570.17365] [0.00000000e+000 0.00000000e+000 0.00000000e+000 ... 3.55657267e-207\n",
      " 2.88722098e-207 2.69337074e-207] [573.2182 573.2182 573.2182 ... 573.2182 573.2182 573.2182]\n",
      "FIN (array([   0,    1,    2, ..., 6014, 6015, 6016]),)\n",
      "FI [571.75433 580.79047 573.5972  ... 574.5179  574.17676 572.4683 ] [0.00000000e+00 0.00000000e+00 0.00000000e+00 ... 7.97730372e-44\n",
      " 7.60758977e-44 7.25501052e-44] [573.3451 573.3451 573.3451 ... 573.3451 573.3451 573.3451]\n",
      "FIN (array([   0,    1,    2, ..., 2563, 2564, 2565]),)\n",
      "(17805,) PRE custom <function custom_detrending at 0x7fb43e1f1d08>\n",
      "[(0, 8923), (8923, 14940), (14940, 17506)] GAPS [75, 107, 123]\n"
     ]
    },
    {
     "name": "stderr",
     "output_type": "stream",
     "text": [
      "Found 1 candidate(s) in the (0,8923) gap.\n",
      "Found 2 candidate(s) in the (8923,14940) gap.\n",
      "Found 1 candidate(s) in the (14940,17506) gap.\n",
      " 40%|#############################                                            |\n",
      "Detrending fake LC:\n",
      "\n"
     ]
    },
    {
     "name": "stdout",
     "output_type": "stream",
     "text": [
      "FITMED [573.29486 573.29486 573.29486 ... 573.3451  573.3451  573.3451 ]\n",
      "nfakesum 3\n",
      "NEWITMED [573.29486 573.29486 573.29486 ... 573.3451  573.3451  573.3451 ]\n",
      "FI [574.602   571.62445 572.44354 ... 568.00146 574.9565  570.582  ] [0. 0. 0. ... 0. 0. 0.] [573.29486 573.29486 573.29486 ... 573.29486 573.29486 573.29486]\n",
      "FIN (array([   0,    1,    2, ..., 8920, 8921, 8922]),)\n",
      "FI [574.8579  571.293   585.2883  ... 565.7952  568.67267 570.17365] [0.00000000e+00 0.00000000e+00 0.00000000e+00 ... 3.94573488e-08\n",
      " 2.83322145e-08 2.53706383e-08] [573.2182 573.2182 573.2182 ... 573.2182 573.2182 573.2182]\n",
      "FIN (array([   0,    1,    2, ..., 6014, 6015, 6016]),)\n",
      "FI [571.75433 580.79047 573.5972  ... 574.5179  574.17676 572.4683 ] [0.00000000e+00 0.00000000e+00 0.00000000e+00 ... 5.04509427e-41\n",
      " 4.72519807e-41 4.42558568e-41] [573.3451 573.3451 573.3451 ... 573.3451 573.3451 573.3451]\n",
      "FIN (array([   0,    1,    2, ..., 2563, 2564, 2565]),)\n",
      "(17805,) PRE custom <function custom_detrending at 0x7fb43e1f1d08>\n",
      "[(0, 8923), (8923, 14940), (14940, 17506)] GAPS [75, 2007, 171]\n"
     ]
    },
    {
     "name": "stderr",
     "output_type": "stream",
     "text": [
      "Found 0 candidate(s) in the (0,8923) gap.\n",
      "Found 3 candidate(s) in the (8923,14940) gap.\n",
      "Found 1 candidate(s) in the (14940,17506) gap.\n",
      " 60%|###########################################                              |\n",
      "Detrending fake LC:\n",
      "\n"
     ]
    },
    {
     "name": "stdout",
     "output_type": "stream",
     "text": [
      "FITMED [573.29486 573.29486 573.29486 ... 573.3451  573.3451  573.3451 ]\n",
      "nfakesum 3\n",
      "NEWITMED [573.29486 573.29486 573.29486 ... 573.3451  573.3451  573.3451 ]\n",
      "FI [574.602   571.62445 572.44354 ... 568.00146 574.9565  570.582  ] [0.00000000e+000 0.00000000e+000 0.00000000e+000 ... 1.71818845e-143\n",
      " 1.49872435e-143 1.30729238e-143] [573.29486 573.29486 573.29486 ... 573.29486 573.29486 573.29486]\n",
      "FIN (array([   0,    1,    2, ..., 8920, 8921, 8922]),)\n",
      "FI [574.8579  571.293   585.2883  ... 565.7952  568.67267 570.17365] [0.00000000e+000 0.00000000e+000 0.00000000e+000 ... 4.31760708e-141\n",
      " 3.71833604e-141 3.53766856e-141] [573.2182 573.2182 573.2182 ... 573.2182 573.2182 573.2182]\n",
      "FIN (array([   0,    1,    2, ..., 6014, 6015, 6016]),)\n",
      "FI [571.75433 580.79047 573.5972  ... 574.5179  574.17676 572.4683 ] [0.00000000e+00 0.00000000e+00 0.00000000e+00 ... 3.24672037e-52\n",
      " 3.05422071e-52 2.87313446e-52] [573.3451 573.3451 573.3451 ... 573.3451 573.3451 573.3451]\n",
      "FIN (array([   0,    1,    2, ..., 2563, 2564, 2565]),)\n",
      "(17805,) PRE custom <function custom_detrending at 0x7fb43e1f1d08>\n",
      "[(0, 8923), (8923, 14940), (14940, 17506)] GAPS [75, 107, 171]\n"
     ]
    },
    {
     "name": "stderr",
     "output_type": "stream",
     "text": [
      "Found 1 candidate(s) in the (0,8923) gap.\n",
      "Found 2 candidate(s) in the (8923,14940) gap.\n",
      "Found 1 candidate(s) in the (14940,17506) gap.\n",
      " 80%|##########################################################               |\n",
      "Detrending fake LC:\n",
      "\n"
     ]
    },
    {
     "name": "stdout",
     "output_type": "stream",
     "text": [
      "FITMED [573.29486 573.29486 573.29486 ... 573.3451  573.3451  573.3451 ]\n",
      "nfakesum 3\n",
      "NEWITMED [573.29486 573.29486 573.29486 ... 573.3451  573.3451  573.3451 ]\n",
      "FI [574.602   571.62445 572.44354 ... 568.00146 574.9565  570.582  ] [0. 0. 0. ... 0. 0. 0.] [573.29486 573.29486 573.29486 ... 573.29486 573.29486 573.29486]\n",
      "FIN (array([   0,    1,    2, ..., 8920, 8921, 8922]),)\n",
      "FI [574.8579  571.293   585.2883  ... 565.7952  568.67267 570.17365] [0.00000000e+00 0.00000000e+00 0.00000000e+00 ... 3.09340463e-92\n",
      " 2.32347562e-92 2.11205512e-92] [573.2182 573.2182 573.2182 ... 573.2182 573.2182 573.2182]\n",
      "FIN (array([   0,    1,    2, ..., 6014, 6015, 6016]),)\n",
      "FI [571.75433 580.79047 573.5972  ... 574.5179  574.17676 572.4683 ] [0.00000000e+00 0.00000000e+00 0.00000000e+00 ... 2.05173323e-66\n",
      " 1.94302317e-66 1.84007307e-66] [573.3451 573.3451 573.3451 ... 573.3451 573.3451 573.3451]\n",
      "FIN (array([   0,    1,    2, ..., 2563, 2564, 2565]),)\n",
      "(17805,) PRE custom <function custom_detrending at 0x7fb43e1f1d08>\n",
      "[(0, 8923), (8923, 14940), (14940, 17506)] GAPS [2975, 75, 75]\n"
     ]
    },
    {
     "name": "stderr",
     "output_type": "stream",
     "text": [
      "Found 1 candidate(s) in the (0,8923) gap.\n",
      "Found 3 candidate(s) in the (8923,14940) gap.\n",
      "Found 0 candidate(s) in the (14940,17506) gap.\n",
      "100%|#########################################################################|\n"
     ]
    },
    {
     "name": "stdout",
     "output_type": "stream",
     "text": [
      "[(0, 9073), (9073, 15090), (15090, 17805)] GAPS [75, 107, 75]\n"
     ]
    },
    {
     "name": "stderr",
     "output_type": "stream",
     "text": [
      "N/A%|                                                                         |\n",
      "Detrending fake LC:\n",
      "\n"
     ]
    },
    {
     "name": "stdout",
     "output_type": "stream",
     "text": [
      "FITMED [573.29486 573.29486 573.29486 ... 573.3451  573.3451  573.3451 ]\n",
      "nfakesum 3\n",
      "NEWITMED [573.29486 573.29486 573.29486 ... 573.3451  573.3451  573.3451 ]\n",
      "FI [574.602   571.62445 572.44354 ... 568.00146 574.9565  570.582  ] [0.00000000e+00 0.00000000e+00 0.00000000e+00 ... 1.47009005e-28\n",
      " 1.39844744e-28 1.33029622e-28] [573.29486 573.29486 573.29486 ... 573.29486 573.29486 573.29486]\n",
      "FIN (array([   0,    1,    2, ..., 8920, 8921, 8922]),)\n",
      "FI [574.8579  571.293   585.2883  ... 565.7952  568.67267 570.17365] [0.00000000e+00 0.00000000e+00 0.00000000e+00 ... 1.46456110e-05\n",
      " 1.22226347e-05 1.15075785e-05] [573.2182 573.2182 573.2182 ... 573.2182 573.2182 573.2182]\n",
      "FIN (array([   0,    1,    2, ..., 6014, 6015, 6016]),)\n",
      "FI [571.75433 580.79047 573.5972  ... 574.5179  574.17676 572.4683 ] [0.00000000e+00 0.00000000e+00 0.00000000e+00 ... 1.66915933e-27\n",
      " 1.25693093e-27 9.46509637e-28] [573.3451 573.3451 573.3451 ... 573.3451 573.3451 573.3451]\n",
      "FIN (array([   0,    1,    2, ..., 2563, 2564, 2565]),)\n",
      "(17805,) PRE custom <function custom_detrending at 0x7fb43e1f1d08>\n",
      "[(0, 8923), (8923, 14940), (14940, 17506)] GAPS [93, 2007, 75]\n"
     ]
    },
    {
     "name": "stderr",
     "output_type": "stream",
     "text": [
      "Found 1 candidate(s) in the (0,8923) gap.\n",
      "Found 3 candidate(s) in the (8923,14940) gap.\n",
      "Found 0 candidate(s) in the (14940,17506) gap.\n",
      " 20%|##############                                                           |\n",
      "Detrending fake LC:\n",
      "\n"
     ]
    },
    {
     "name": "stdout",
     "output_type": "stream",
     "text": [
      "FITMED [573.29486 573.29486 573.29486 ... 573.3451  573.3451  573.3451 ]\n",
      "nfakesum 3\n",
      "NEWITMED [573.29486 573.29486 573.29486 ... 573.3451  573.3451  573.3451 ]\n",
      "FI [574.602   571.62445 572.44354 ... 568.00146 574.9565  570.582  ] [0.00000000e+000 0.00000000e+000 0.00000000e+000 ... 1.30174404e-217\n",
      " 1.19718192e-217 1.10101870e-217] [573.29486 573.29486 573.29486 ... 573.29486 573.29486 573.29486]\n",
      "FIN (array([   0,    1,    2, ..., 8920, 8921, 8922]),)\n",
      "FI [574.8579  571.293   585.2883  ... 565.7952  568.67267 570.17365] [0.00000000e+00 0.00000000e+00 0.00000000e+00 ... 7.38448116e-90\n",
      " 4.92177355e-90 4.29921180e-90] [573.2182 573.2182 573.2182 ... 573.2182 573.2182 573.2182]\n",
      "FIN (array([   0,    1,    2, ..., 6014, 6015, 6016]),)\n",
      "FI [571.75433 580.79047 573.5972  ... 574.5179  574.17676 572.4683 ] [0.00000000e+00 0.00000000e+00 0.00000000e+00 ... 8.24083547e-23\n",
      " 7.53267422e-23 6.88536757e-23] [573.3451 573.3451 573.3451 ... 573.3451 573.3451 573.3451]\n",
      "FIN (array([   0,    1,    2, ..., 2563, 2564, 2565]),)\n",
      "(17805,) PRE custom <function custom_detrending at 0x7fb43e1f1d08>\n",
      "[(0, 8923), (8923, 14940), (14940, 17506)] GAPS [75, 97, 79]\n"
     ]
    },
    {
     "name": "stderr",
     "output_type": "stream",
     "text": [
      "Found 1 candidate(s) in the (0,8923) gap.\n",
      "Found 3 candidate(s) in the (8923,14940) gap.\n",
      "Found 1 candidate(s) in the (14940,17506) gap.\n",
      " 40%|#############################                                            |\n",
      "Detrending fake LC:\n",
      "\n"
     ]
    },
    {
     "name": "stdout",
     "output_type": "stream",
     "text": [
      "FITMED [573.29486 573.29486 573.29486 ... 573.3451  573.3451  573.3451 ]\n",
      "nfakesum 3\n",
      "NEWITMED [573.29486 573.29486 573.29486 ... 573.3451  573.3451  573.3451 ]\n",
      "FI [574.602   571.62445 572.44354 ... 568.00146 574.9565  570.582  ] [0. 0. 0. ... 0. 0. 0.] [573.29486 573.29486 573.29486 ... 573.29486 573.29486 573.29486]\n",
      "FIN (array([   0,    1,    2, ..., 8920, 8921, 8922]),)\n",
      "FI [574.8579  571.293   585.2883  ... 565.7952  568.67267 570.17365] [0.00000000e+00 0.00000000e+00 0.00000000e+00 ... 2.47100629e-87\n",
      " 1.52070263e-87 1.29350401e-87] [573.2182 573.2182 573.2182 ... 573.2182 573.2182 573.2182]\n",
      "FIN (array([   0,    1,    2, ..., 6014, 6015, 6016]),)\n",
      "FI [571.75433 580.79047 573.5972  ... 574.5179  574.17676 572.4683 ] [0.00000000e+00 0.00000000e+00 0.00000000e+00 ... 1.38353362e-37\n",
      " 1.27310329e-37 1.17148726e-37] [573.3451 573.3451 573.3451 ... 573.3451 573.3451 573.3451]\n",
      "FIN (array([   0,    1,    2, ..., 2563, 2564, 2565]),)\n",
      "(17805,) PRE custom <function custom_detrending at 0x7fb43e1f1d08>\n",
      "[(0, 8923), (8923, 14940), (14940, 17506)] GAPS [81, 97, 95]\n"
     ]
    },
    {
     "name": "stderr",
     "output_type": "stream",
     "text": [
      "Found 1 candidate(s) in the (0,8923) gap.\n",
      "Found 3 candidate(s) in the (8923,14940) gap.\n",
      "Found 1 candidate(s) in the (14940,17506) gap.\n",
      " 60%|###########################################                              |\n",
      "Detrending fake LC:\n",
      "\n"
     ]
    },
    {
     "name": "stdout",
     "output_type": "stream",
     "text": [
      "FITMED [573.29486 573.29486 573.29486 ... 573.3451  573.3451  573.3451 ]\n",
      "nfakesum 3\n",
      "NEWITMED [573.29486 573.29486 573.29486 ... 573.3451  573.3451  573.3451 ]\n",
      "FI [574.602   571.62445 572.44354 ... 568.00146 574.9565  570.582  ] [0. 0. 0. ... 0. 0. 0.] [573.29486 573.29486 573.29486 ... 573.29486 573.29486 573.29486]\n",
      "FIN (array([   0,    1,    2, ..., 8920, 8921, 8922]),)\n",
      "FI [574.8579  571.293   585.2883  ... 565.7952  568.67267 570.17365] [0.00000000e+000 0.00000000e+000 0.00000000e+000 ... 7.57784510e-207\n",
      " 5.67502290e-207 5.15357084e-207] [573.2182 573.2182 573.2182 ... 573.2182 573.2182 573.2182]\n",
      "FIN (array([   0,    1,    2, ..., 6014, 6015, 6016]),)\n",
      "FI [571.75433 580.79047 573.5972  ... 574.5179  574.17676 572.4683 ] [0.00000000e+00 0.00000000e+00 0.00000000e+00 ... 5.78947131e-15\n",
      " 5.39171594e-15 5.02128768e-15] [573.3451 573.3451 573.3451 ... 573.3451 573.3451 573.3451]\n",
      "FIN (array([   0,    1,    2, ..., 2563, 2564, 2565]),)\n",
      "(17805,) PRE custom <function custom_detrending at 0x7fb43e1f1d08>\n",
      "[(0, 8923), (8923, 14940), (14940, 17506)] GAPS [75, 101, 75]\n"
     ]
    },
    {
     "name": "stderr",
     "output_type": "stream",
     "text": [
      "Found 1 candidate(s) in the (0,8923) gap.\n",
      "Found 3 candidate(s) in the (8923,14940) gap.\n",
      "Found 1 candidate(s) in the (14940,17506) gap.\n",
      " 80%|##########################################################               |\n",
      "Detrending fake LC:\n",
      "\n"
     ]
    },
    {
     "name": "stdout",
     "output_type": "stream",
     "text": [
      "FITMED [573.29486 573.29486 573.29486 ... 573.3451  573.3451  573.3451 ]\n",
      "nfakesum 3\n",
      "NEWITMED [573.29486 573.29486 573.29486 ... 573.3451  573.3451  573.3451 ]\n",
      "FI [574.602   571.62445 572.44354 ... 568.00146 574.9565  570.582  ] [0. 0. 0. ... 0. 0. 0.] [573.29486 573.29486 573.29486 ... 573.29486 573.29486 573.29486]\n",
      "FIN (array([   0,    1,    2, ..., 8920, 8921, 8922]),)\n",
      "FI [574.8579  571.293   585.2883  ... 565.7952  568.67267 570.17365] [0.00000000e+000 0.00000000e+000 0.00000000e+000 ... 6.03711848e-149\n",
      " 2.72615339e-149 2.09149655e-149] [573.2182 573.2182 573.2182 ... 573.2182 573.2182 573.2182]\n",
      "FIN (array([   0,    1,    2, ..., 6014, 6015, 6016]),)\n",
      "FI [571.75433 580.79047 573.5972  ... 574.5179  574.17676 572.4683 ] [0.00000000e+00 0.00000000e+00 0.00000000e+00 ... 1.14444253e-86\n",
      " 1.03663642e-86 9.38985608e-87] [573.3451 573.3451 573.3451 ... 573.3451 573.3451 573.3451]\n",
      "FIN (array([   0,    1,    2, ..., 2563, 2564, 2565]),)\n",
      "(17805,) PRE custom <function custom_detrending at 0x7fb43e1f1d08>\n",
      "[(0, 8923), (8923, 14940), (14940, 17506)] GAPS [75, 107, 75]\n"
     ]
    },
    {
     "name": "stderr",
     "output_type": "stream",
     "text": [
      "Found 1 candidate(s) in the (0,8923) gap.\n",
      "Found 3 candidate(s) in the (8923,14940) gap.\n",
      "Found 1 candidate(s) in the (14940,17506) gap.\n",
      "100%|#########################################################################|\n"
     ]
    },
    {
     "name": "stdout",
     "output_type": "stream",
     "text": [
      "[(0, 9073), (9073, 15090), (15090, 17805)] GAPS [75, 107, 75]\n"
     ]
    },
    {
     "name": "stderr",
     "output_type": "stream",
     "text": [
      "N/A%|                                                                         |\n",
      "Detrending fake LC:\n",
      "\n"
     ]
    },
    {
     "name": "stdout",
     "output_type": "stream",
     "text": [
      "FITMED [573.29486 573.29486 573.29486 ... 573.3451  573.3451  573.3451 ]\n",
      "nfakesum 3\n",
      "NEWITMED [573.29486 573.29486 573.29486 ... 573.3451  573.3451  573.3451 ]\n",
      "FI [574.602   571.62445 572.44354 ... 568.00146 574.9565  570.582  ] [0.0000000e+00 0.0000000e+00 0.0000000e+00 ... 7.6113448e-85 6.9730960e-85\n",
      " 6.3883675e-85] [573.29486 573.29486 573.29486 ... 573.29486 573.29486 573.29486]\n",
      "FIN (array([   0,    1,    2, ..., 8920, 8921, 8922]),)\n",
      "FI [574.8579  571.293   585.2883  ... 565.7952  568.67267 570.17365] [0.00000000e+00 0.00000000e+00 0.00000000e+00 ... 1.01786040e-46\n",
      " 7.90296436e-47 7.26368985e-47] [573.2182 573.2182 573.2182 ... 573.2182 573.2182 573.2182]\n",
      "FIN (array([   0,    1,    2, ..., 6014, 6015, 6016]),)\n",
      "FI [571.75433 580.79047 573.5972  ... 574.5179  574.17676 572.4683 ] [0.00000000e+00 0.00000000e+00 0.00000000e+00 ... 2.53961051e-36\n",
      " 2.32460089e-36 2.12779453e-36] [573.3451 573.3451 573.3451 ... 573.3451 573.3451 573.3451]\n",
      "FIN (array([   0,    1,    2, ..., 2563, 2564, 2565]),)\n",
      "(17805,) PRE custom <function custom_detrending at 0x7fb43e1f1d08>\n",
      "[(0, 8923), (8923, 14940), (14940, 17506)] GAPS [111, 101, 171]\n"
     ]
    },
    {
     "name": "stderr",
     "output_type": "stream",
     "text": [
      "Found 1 candidate(s) in the (0,8923) gap.\n",
      "Found 3 candidate(s) in the (8923,14940) gap.\n",
      "Found 1 candidate(s) in the (14940,17506) gap.\n",
      " 20%|##############                                                           |\n",
      "Detrending fake LC:\n",
      "\n"
     ]
    },
    {
     "name": "stdout",
     "output_type": "stream",
     "text": [
      "FITMED [573.29486 573.29486 573.29486 ... 573.3451  573.3451  573.3451 ]\n",
      "nfakesum 3\n",
      "NEWITMED [573.29486 573.29486 573.29486 ... 573.3451  573.3451  573.3451 ]\n",
      "FI [574.602   571.62445 572.44354 ... 568.00146 574.9565  570.582  ] [0. 0. 0. ... 0. 0. 0.] [573.29486 573.29486 573.29486 ... 573.29486 573.29486 573.29486]\n",
      "FIN (array([   0,    1,    2, ..., 8920, 8921, 8922]),)\n",
      "FI [574.8579  571.293   585.2883  ... 565.7952  568.67267 570.17365] [0.00000000e+00 0.00000000e+00 0.00000000e+00 ... 5.85775926e-55\n",
      " 4.83644330e-55 4.53723174e-55] [573.2182 573.2182 573.2182 ... 573.2182 573.2182 573.2182]\n",
      "FIN (array([   0,    1,    2, ..., 6014, 6015, 6016]),)\n",
      "FI [571.75433 580.79047 573.5972  ... 574.5179  574.17676 572.4683 ] [0.00000000e+00 0.00000000e+00 0.00000000e+00 ... 2.47669026e-70\n",
      " 2.31168736e-70 2.15767735e-70] [573.3451 573.3451 573.3451 ... 573.3451 573.3451 573.3451]\n",
      "FIN (array([   0,    1,    2, ..., 2563, 2564, 2565]),)\n",
      "(17805,) PRE custom <function custom_detrending at 0x7fb43e1f1d08>\n",
      "[(0, 8923), (8923, 14940), (14940, 17506)] GAPS [75, 107, 75]\n"
     ]
    },
    {
     "name": "stderr",
     "output_type": "stream",
     "text": [
      "Found 1 candidate(s) in the (0,8923) gap.\n",
      "Found 4 candidate(s) in the (8923,14940) gap.\n",
      "Found 1 candidate(s) in the (14940,17506) gap.\n",
      " 40%|#############################                                            |\n",
      "Detrending fake LC:\n",
      "\n"
     ]
    },
    {
     "name": "stdout",
     "output_type": "stream",
     "text": [
      "FITMED [573.29486 573.29486 573.29486 ... 573.3451  573.3451  573.3451 ]\n",
      "nfakesum 3\n",
      "NEWITMED [573.29486 573.29486 573.29486 ... 573.3451  573.3451  573.3451 ]\n",
      "FI [574.602   571.62445 572.44354 ... 568.00146 574.9565  570.582  ] [0.00000000e+00 0.00000000e+00 0.00000000e+00 ... 1.75657004e-21\n",
      " 1.66611138e-21 1.58031110e-21] [573.29486 573.29486 573.29486 ... 573.29486 573.29486 573.29486]\n",
      "FIN (array([   0,    1,    2, ..., 8920, 8921, 8922]),)\n",
      "FI [574.8579  571.293   585.2883  ... 565.7952  568.67267 570.17365] [0.00000000e+00 0.00000000e+00 0.00000000e+00 ... 1.38309364e-16\n",
      " 1.09549583e-16 1.01359341e-16] [573.2182 573.2182 573.2182 ... 573.2182 573.2182 573.2182]\n",
      "FIN (array([   0,    1,    2, ..., 6014, 6015, 6016]),)\n",
      "FI [571.75433 580.79047 573.5972  ... 574.5179  574.17676 572.4683 ] [0.00000000e+00 0.00000000e+00 0.00000000e+00 ... 3.54821288e-96\n",
      " 3.27604653e-96 3.02475677e-96] [573.3451 573.3451 573.3451 ... 573.3451 573.3451 573.3451]\n",
      "FIN (array([   0,    1,    2, ..., 2563, 2564, 2565]),)\n",
      "(17805,) PRE custom <function custom_detrending at 0x7fb43e1f1d08>\n",
      "[(0, 8923), (8923, 14940), (14940, 17506)] GAPS [115, 75, 75]\n"
     ]
    },
    {
     "name": "stderr",
     "output_type": "stream",
     "text": [
      "Found 1 candidate(s) in the (0,8923) gap.\n",
      "Found 3 candidate(s) in the (8923,14940) gap.\n",
      "Found 1 candidate(s) in the (14940,17506) gap.\n",
      " 60%|###########################################                              |\n",
      "Detrending fake LC:\n",
      "\n"
     ]
    },
    {
     "name": "stdout",
     "output_type": "stream",
     "text": [
      "FITMED [573.29486 573.29486 573.29486 ... 573.3451  573.3451  573.3451 ]\n",
      "nfakesum 3\n",
      "NEWITMED [573.29486 573.29486 573.29486 ... 573.3451  573.3451  573.3451 ]\n",
      "FI [574.602   571.62445 572.44354 ... 568.00146 574.9565  570.582  ] [0.00000000e+00 0.00000000e+00 0.00000000e+00 ... 2.29194724e-44\n",
      " 2.18261776e-44 2.07850347e-44] [573.29486 573.29486 573.29486 ... 573.29486 573.29486 573.29486]\n",
      "FIN (array([   0,    1,    2, ..., 8920, 8921, 8922]),)\n",
      "FI [574.8579  571.293   585.2883  ... 565.7952  568.67267 570.17365] [0.00000000e+00 0.00000000e+00 0.00000000e+00 ... 7.79461181e-53\n",
      " 5.66020496e-53 5.08758150e-53] [573.2182 573.2182 573.2182 ... 573.2182 573.2182 573.2182]\n",
      "FIN (array([   0,    1,    2, ..., 6014, 6015, 6016]),)\n",
      "FI [571.75433 580.79047 573.5972  ... 574.5179  574.17676 572.4683 ] [0.00000000e+00 0.00000000e+00 0.00000000e+00 ... 6.90208460e-34\n",
      " 5.46441058e-34 4.32619785e-34] [573.3451 573.3451 573.3451 ... 573.3451 573.3451 573.3451]\n",
      "FIN (array([   0,    1,    2, ..., 2563, 2564, 2565]),)\n",
      "(17805,) PRE custom <function custom_detrending at 0x7fb43e1f1d08>\n",
      "[(0, 8923), (8923, 14940), (14940, 17506)] GAPS [91, 75, 79]\n"
     ]
    },
    {
     "name": "stderr",
     "output_type": "stream",
     "text": [
      "Found 1 candidate(s) in the (0,8923) gap.\n",
      "Found 3 candidate(s) in the (8923,14940) gap.\n",
      "Found 1 candidate(s) in the (14940,17506) gap.\n",
      " 80%|##########################################################               |\n",
      "Detrending fake LC:\n",
      "\n"
     ]
    },
    {
     "name": "stdout",
     "output_type": "stream",
     "text": [
      "FITMED [573.29486 573.29486 573.29486 ... 573.3451  573.3451  573.3451 ]\n",
      "nfakesum 3\n",
      "NEWITMED [573.29486 573.29486 573.29486 ... 573.3451  573.3451  573.3451 ]\n",
      "FI [574.602   571.62445 572.44354 ... 568.00146 574.9565  570.582  ] [0.00000000e+000 0.00000000e+000 0.00000000e+000 ... 7.14981001e-114\n",
      " 6.11647502e-114 5.23248402e-114] [573.29486 573.29486 573.29486 ... 573.29486 573.29486 573.29486]\n",
      "FIN (array([   0,    1,    2, ..., 8920, 8921, 8922]),)\n",
      "FI [574.8579  571.293   585.2883  ... 565.7952  568.67267 570.17365] [0.00000000e+000 0.00000000e+000 0.00000000e+000 ... 4.81000233e-100\n",
      " 3.68034035e-100 3.36616616e-100] [573.2182 573.2182 573.2182 ... 573.2182 573.2182 573.2182]\n",
      "FIN (array([   0,    1,    2, ..., 6014, 6015, 6016]),)\n",
      "FI [571.75433 580.79047 573.5972  ... 574.5179  574.17676 572.4683 ] [0.00000000e+00 0.00000000e+00 0.00000000e+00 ... 5.24952318e-55\n",
      " 4.14673457e-55 3.27561329e-55] [573.3451 573.3451 573.3451 ... 573.3451 573.3451 573.3451]\n",
      "FIN (array([   0,    1,    2, ..., 2563, 2564, 2565]),)\n",
      "(17805,) PRE custom <function custom_detrending at 0x7fb43e1f1d08>\n",
      "[(0, 8923), (8923, 14940), (14940, 17506)] GAPS [75, 75, 75]\n"
     ]
    },
    {
     "name": "stderr",
     "output_type": "stream",
     "text": [
      "Found 1 candidate(s) in the (0,8923) gap.\n",
      "Found 3 candidate(s) in the (8923,14940) gap.\n",
      "Found 1 candidate(s) in the (14940,17506) gap.\n",
      "100%|#########################################################################|\n"
     ]
    },
    {
     "data": {
      "image/png": "[encoded data removed]",
      "text/plain": [
       "<Figure size 848.5x400 with 1 Axes>"
      ]
     },
     "metadata": {},
     "output_type": "display_data"
    }
   ],
   "source": [
    "for i, path in enumerate(paths[:1]):\n",
    "    print(path, \"\\n\")\n",
    "    path = f\"{CWD}/custom_aperture/\" + path\n",
    "    cluster = f\"{CWD}/flare_tables/2020_02_05_TESSUCDs\"\n",
    "\n",
    "    flc = read_custom_aperture_lc(path)\n",
    "\n",
    "    flcd = flc.detrend(\"custom\", func=custom_detrending)\n",
    "    \n",
    "    flcd = flcd.find_flares()\n",
    "    \n",
    "    write_flares_to_file(flcd, cluster)\n",
    "\n",
    "    print(\"\\nFinished TIC {} ({})\\n------------------------------\\n\".format(flc.targetid, flc.campaign))\n",
    "    flc.plot()\n",
    "    plt.plot(flcd.time, flcd.detrended_flux+50)\n",
    "    plt.ylim(500,700)\n",
    "    \n",
    "    max_ampl = 2*flcd.flares.ampl_rec.max()\n",
    "    #print(max_ampl)\n",
    "    min_dur = .5 * np.min(flcd.flares.tstop-flcd.flares.tstart)\n",
    "    print(min_dur)\n",
    "    for i in range(3):\n",
    "        flce, fake_flc = flcd.sample_flare_recovery(inject_before_detrending=True, mode=\"custom\",\n",
    "                                                    func=custom_detrending,\n",
    "                                                  iterations=5, fakefreq=1e-3, ampl=[1e-2, max_ampl],\n",
    "                                                  dur=[min_dur/6., 0.1/6.], save=True,\n",
    "                                                  path=\"{}{}_{:012d}_s{:04d}.csv\".format(i,5,\n",
    "                                                                                         flc.targetid,\n",
    "                                                                                         flc.campaign))\n",
    "\n",
    "    flcc = flce.characterize_flares( ampl_bins=2, dur_bins=2)"
   ]
  },
  {
   "cell_type": "code",
   "execution_count": 14,
   "metadata": {},
   "outputs": [
    {
     "data": {
      "text/html": [
       "<div>\n",
       "<style scoped>\n",
       "    .dataframe tbody tr th:only-of-type {\n",
       "        vertical-align: middle;\n",
       "    }\n",
       "\n",
       "    .dataframe tbody tr th {\n",
       "        vertical-align: top;\n",
       "    }\n",
       "\n",
       "    .dataframe thead th {\n",
       "        text-align: right;\n",
       "    }\n",
       "</style>\n",
       "<table border=\"1\" class=\"dataframe\">\n",
       "  <thead>\n",
       "    <tr style=\"text-align: right;\">\n",
       "      <th></th>\n",
       "      <th>0</th>\n",
       "      <th>1</th>\n",
       "    </tr>\n",
       "  </thead>\n",
       "  <tbody>\n",
       "    <tr>\n",
       "      <th>ampl_rec</th>\n",
       "      <td>2.42536</td>\n",
       "      <td>0.18353</td>\n",
       "    </tr>\n",
       "    <tr>\n",
       "      <th>cstart</th>\n",
       "      <td>81083</td>\n",
       "      <td>83396</td>\n",
       "    </tr>\n",
       "    <tr>\n",
       "      <th>cstop</th>\n",
       "      <td>81126</td>\n",
       "      <td>83416</td>\n",
       "    </tr>\n",
       "    <tr>\n",
       "      <th>ed_rec</th>\n",
       "      <td>1622.64</td>\n",
       "      <td>240.725</td>\n",
       "    </tr>\n",
       "    <tr>\n",
       "      <th>ed_rec_err</th>\n",
       "      <td>4.18317</td>\n",
       "      <td>4.33524</td>\n",
       "    </tr>\n",
       "    <tr>\n",
       "      <th>istart</th>\n",
       "      <td>9368</td>\n",
       "      <td>11653</td>\n",
       "    </tr>\n",
       "    <tr>\n",
       "      <th>istop</th>\n",
       "      <td>9411</td>\n",
       "      <td>11673</td>\n",
       "    </tr>\n",
       "    <tr>\n",
       "      <th>total_n_valid_data_points</th>\n",
       "      <td>17805</td>\n",
       "      <td>17805</td>\n",
       "    </tr>\n",
       "    <tr>\n",
       "      <th>tstart</th>\n",
       "      <td>1340.07</td>\n",
       "      <td>1343.28</td>\n",
       "    </tr>\n",
       "    <tr>\n",
       "      <th>tstop</th>\n",
       "      <td>1340.13</td>\n",
       "      <td>1343.31</td>\n",
       "    </tr>\n",
       "    <tr>\n",
       "      <th>TIC</th>\n",
       "      <td>29780677</td>\n",
       "      <td>29780677</td>\n",
       "    </tr>\n",
       "    <tr>\n",
       "      <th>Campaign</th>\n",
       "      <td>1</td>\n",
       "      <td>1</td>\n",
       "    </tr>\n",
       "    <tr>\n",
       "      <th>dur</th>\n",
       "      <td>0.0597224</td>\n",
       "      <td>0.0277779</td>\n",
       "    </tr>\n",
       "    <tr>\n",
       "      <th>ed_ratio</th>\n",
       "      <td>0.967968</td>\n",
       "      <td>NaN</td>\n",
       "    </tr>\n",
       "    <tr>\n",
       "      <th>ed_ratio_count</th>\n",
       "      <td>13</td>\n",
       "      <td>NaN</td>\n",
       "    </tr>\n",
       "    <tr>\n",
       "      <th>amplitude_ratio</th>\n",
       "      <td>0.849104</td>\n",
       "      <td>NaN</td>\n",
       "    </tr>\n",
       "    <tr>\n",
       "      <th>amplitude_ratio_count</th>\n",
       "      <td>13</td>\n",
       "      <td>NaN</td>\n",
       "    </tr>\n",
       "    <tr>\n",
       "      <th>duration_ratio</th>\n",
       "      <td>5.88892</td>\n",
       "      <td>NaN</td>\n",
       "    </tr>\n",
       "    <tr>\n",
       "      <th>duration_ratio_count</th>\n",
       "      <td>13</td>\n",
       "      <td>NaN</td>\n",
       "    </tr>\n",
       "    <tr>\n",
       "      <th>amplitude_corr</th>\n",
       "      <td>2.85638</td>\n",
       "      <td>NaN</td>\n",
       "    </tr>\n",
       "    <tr>\n",
       "      <th>duration_corr</th>\n",
       "      <td>0.0101415</td>\n",
       "      <td>NaN</td>\n",
       "    </tr>\n",
       "    <tr>\n",
       "      <th>ed_corr</th>\n",
       "      <td>1676.33</td>\n",
       "      <td>NaN</td>\n",
       "    </tr>\n",
       "    <tr>\n",
       "      <th>recovery_probability</th>\n",
       "      <td>0.928571</td>\n",
       "      <td>NaN</td>\n",
       "    </tr>\n",
       "    <tr>\n",
       "      <th>recovery_probability_count</th>\n",
       "      <td>14</td>\n",
       "      <td>NaN</td>\n",
       "    </tr>\n",
       "    <tr>\n",
       "      <th>ed_ratio_std</th>\n",
       "      <td>0.0820653</td>\n",
       "      <td>NaN</td>\n",
       "    </tr>\n",
       "    <tr>\n",
       "      <th>amplitude_ratio_std</th>\n",
       "      <td>0.0784341</td>\n",
       "      <td>NaN</td>\n",
       "    </tr>\n",
       "    <tr>\n",
       "      <th>duration_ratio_std</th>\n",
       "      <td>1.78063</td>\n",
       "      <td>NaN</td>\n",
       "    </tr>\n",
       "    <tr>\n",
       "      <th>recovery_probability_std</th>\n",
       "      <td>0.267261</td>\n",
       "      <td>NaN</td>\n",
       "    </tr>\n",
       "    <tr>\n",
       "      <th>ed_corr_err</th>\n",
       "      <td>137.632</td>\n",
       "      <td>NaN</td>\n",
       "    </tr>\n",
       "    <tr>\n",
       "      <th>amplitude_corr_err</th>\n",
       "      <td>0.263852</td>\n",
       "      <td>NaN</td>\n",
       "    </tr>\n",
       "    <tr>\n",
       "      <th>duration_corr_err</th>\n",
       "      <td>0.00306647</td>\n",
       "      <td>NaN</td>\n",
       "    </tr>\n",
       "  </tbody>\n",
       "</table>\n",
       "</div>"
      ],
      "text/plain": [
       "                                     0          1\n",
       "ampl_rec                       2.42536    0.18353\n",
       "cstart                           81083      83396\n",
       "cstop                            81126      83416\n",
       "ed_rec                         1622.64    240.725\n",
       "ed_rec_err                     4.18317    4.33524\n",
       "istart                            9368      11653\n",
       "istop                             9411      11673\n",
       "total_n_valid_data_points        17805      17805\n",
       "tstart                         1340.07    1343.28\n",
       "tstop                          1340.13    1343.31\n",
       "TIC                           29780677   29780677\n",
       "Campaign                             1          1\n",
       "dur                          0.0597224  0.0277779\n",
       "ed_ratio                      0.967968        NaN\n",
       "ed_ratio_count                      13        NaN\n",
       "amplitude_ratio               0.849104        NaN\n",
       "amplitude_ratio_count               13        NaN\n",
       "duration_ratio                 5.88892        NaN\n",
       "duration_ratio_count                13        NaN\n",
       "amplitude_corr                 2.85638        NaN\n",
       "duration_corr                0.0101415        NaN\n",
       "ed_corr                        1676.33        NaN\n",
       "recovery_probability          0.928571        NaN\n",
       "recovery_probability_count          14        NaN\n",
       "ed_ratio_std                 0.0820653        NaN\n",
       "amplitude_ratio_std          0.0784341        NaN\n",
       "duration_ratio_std             1.78063        NaN\n",
       "recovery_probability_std      0.267261        NaN\n",
       "ed_corr_err                    137.632        NaN\n",
       "amplitude_corr_err            0.263852        NaN\n",
       "duration_corr_err           0.00306647        NaN"
      ]
     },
     "execution_count": 14,
     "metadata": {},
     "output_type": "execute_result"
    }
   ],
   "source": [
    "flcc = flce.characterize_flares( ampl_bins=2, dur_bins=2)\n",
    "flcc.flares.T"
   ]
  },
  {
   "cell_type": "code",
   "execution_count": 5,
   "metadata": {},
   "outputs": [],
   "source": [
    "# respath = f\"{CWD}/flare_tables/2020_02_05_TESSUCDs_flares.csv\"\n",
    "# df = pd.read_csv(respath)\n",
    "# df = df[df.ed_rec > 0] # keep only positive flare values\n",
    "# df.to_csv(respath)"
   ]
  },
  {
   "cell_type": "code",
   "execution_count": 6,
   "metadata": {},
   "outputs": [],
   "source": [
    "# a = pd.DataFrame()\n",
    "# for i, lf in df.groupby(\"TIC\"):\n",
    "#     a.loc[i,\"nflares\"] = int(lf.TIC.count())\n",
    "#     a.loc[i,\"nsectors\"] = int(len(lf.Campaign.unique()))\n",
    "# a[\"flarespersec\"] = a.nflares/a.nsectors\n",
    "# a.sort_values(by=\"flarespersec\",ascending=False)\n"
   ]
  },
  {
   "cell_type": "code",
   "execution_count": 7,
   "metadata": {},
   "outputs": [],
   "source": [
    "# plt.figure(figsize=(16,5))\n",
    "# markers =  ['o', 'v', '^', '<', '>', '8', 's', 'p', '*', 'h', 'H', 'D', 'd', 'P', 'X']\n",
    "# for c, dfs in df.groupby(\"Campaign\"):\n",
    "#     plt.scatter(dfs.cstart, dfs.ampl_rec, label=f\"{c}\", marker=markers.pop())\n",
    "# plt.legend(loc=(1.01,0))\n",
    "# plt.title(\"cadence vs. flare amplitude by sector\", fontsize=14);\n",
    "# plt.yscale(\"log\")\n",
    "# plt.xlabel(\"cadence\", fontsize=14)\n",
    "# plt.ylabel(\"rel. amplitude\", fontsize=14)\n",
    "# plt.savefig(\"/home/ekaterina/Documents/001_Science/TESS_UCDs/TESS_UCD_flares/plots/TESS_UCD_flares_21_11_2019.png\", dpi=300)"
   ]
  },
  {
   "cell_type": "code",
   "execution_count": 8,
   "metadata": {},
   "outputs": [],
   "source": [
    "# plt.figure(figsize=(16,5))\n",
    "# markers =  ['o', 'v', '^', '<', '>', '8', 's', 'p', '*', 'h', 'H', 'D', 'd', 'P', 'X'] *100\n",
    "# for c, dfs in df.groupby(\"TIC\"):\n",
    "#     plt.scatter(dfs.cstart, dfs.ampl_rec, label=f\"TIC {c}\", marker=markers.pop())\n",
    "# #plt.legend()\n",
    "# plt.title(\"cadence vs. flare amplitude by target\");\n",
    "# plt.yscale(\"log\")\n",
    "# plt.xlabel(\"cadence\")\n",
    "# plt.ylabel(\"rel. amplitude\")\n"
   ]
  },
  {
   "cell_type": "code",
   "execution_count": 9,
   "metadata": {},
   "outputs": [
    {
     "ename": "NameError",
     "evalue": "name 'df' is not defined",
     "output_type": "error",
     "traceback": [
      "\u001b[0;31m---------------------------------------------------------------------------\u001b[0m",
      "\u001b[0;31mNameError\u001b[0m                                 Traceback (most recent call last)",
      "\u001b[0;32m<ipython-input-9-633337079cd0>\u001b[0m in \u001b[0;36m<module>\u001b[0;34m\u001b[0m\n\u001b[0;32m----> 1\u001b[0;31m \u001b[0mdf\u001b[0m\u001b[0;34m.\u001b[0m\u001b[0mshape\u001b[0m\u001b[0;34m\u001b[0m\u001b[0;34m\u001b[0m\u001b[0m\n\u001b[0m",
      "\u001b[0;31mNameError\u001b[0m: name 'df' is not defined"
     ]
    }
   ],
   "source": [
    "df.shape"
   ]
  },
  {
   "cell_type": "code",
   "execution_count": null,
   "metadata": {},
   "outputs": [],
   "source": []
  },
  {
   "cell_type": "code",
   "execution_count": null,
   "metadata": {
    "scrolled": true
   },
   "outputs": [],
   "source": [
    "# for i, path in enumerate(paths):\n",
    "#     print(path, \"\\n\")\n",
    "#     path = f\"{CWD}/custom_aperture/\" + path\n",
    "#     cluster = f\"{CWD}/flare_tables/2019_11_13_TESSUCDs\"\n",
    "\n",
    "#     flc = read_custom_aperture_lc(path)\n",
    "    \n",
    "#     w = search_gaps_for_window_length(flc)\n",
    "#     print(w)\n",
    "#     flcd = custom_detrending(flc, d={flc.targetid:tuple(w)})\n",
    "\n",
    "#     flcd = refine_detrended_flux_err(flcd)\n",
    "\n",
    "#     flcd = flcd.find_flares()\n",
    "\n",
    "#     write_flares_to_file(flcd, cluster)\n",
    "\n",
    "#     print(\"\\nFinished TIC {} ({})\\n------------------------------\\n\".format(flc.targetid, flc.campaign))\n"
   ]
  }
 ],
 "metadata": {
  "kernelspec": {
   "display_name": "tessenv",
   "language": "python",
   "name": "tessenv"
  },
  "language_info": {
   "codemirror_mode": {
    "name": "ipython",
    "version": 3
   },
   "file_extension": ".py",
   "mimetype": "text/x-python",
   "name": "python",
   "nbconvert_exporter": "python",
   "pygments_lexer": "ipython3",
   "version": "3.6.9"
  }
 },
 "nbformat": 4,
 "nbformat_minor": 2
}
