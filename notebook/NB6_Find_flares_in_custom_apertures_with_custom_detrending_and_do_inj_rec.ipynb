{
 "cells": [
  {
   "cell_type": "code",
   "execution_count": 1,
   "metadata": {},
   "outputs": [
    {
     "name": "stderr",
     "output_type": "stream",
     "text": [
      "/usr/lib/python3.6/importlib/_bootstrap_external.py:426: ImportWarning: Not importing directory /home/ekaterina/Documents/001_Science/Flares_in_Clusters_II/flaresinclustersii/lib/python3.6/site-packages/mpl_toolkits: missing __init__\n",
      "  _warnings.warn(msg.format(portions[0]), ImportWarning)\n",
      "/usr/lib/python3.6/importlib/_bootstrap.py:219: RuntimeWarning: numpy.ufunc size changed, may indicate binary incompatibility. Expected 192 from C header, got 216 from PyObject\n",
      "  return f(*args, **kwds)\n",
      "/usr/lib/python3.6/importlib/_bootstrap.py:219: RuntimeWarning: numpy.ufunc size changed, may indicate binary incompatibility. Expected 192 from C header, got 216 from PyObject\n",
      "  return f(*args, **kwds)\n",
      "/usr/lib/python3.6/importlib/_bootstrap.py:219: RuntimeWarning: numpy.ufunc size changed, may indicate binary incompatibility. Expected 192 from C header, got 216 from PyObject\n",
      "  return f(*args, **kwds)\n"
     ]
    }
   ],
   "source": [
    "import numpy as np\n",
    "import pandas as pd\n",
    "from astropy.io import fits\n",
    "from altaipony.flarelc import FlareLightCurve\n",
    "import sys\n",
    "\n",
    "import matplotlib.pyplot as plt\n",
    "%matplotlib inline\n",
    "\n",
    "from funcs.helper import write_flares_to_file, read_custom_aperture_lc\n",
    "from funcs.custom_detrending import custom_detrending\n",
    "import os"
   ]
  },
  {
   "cell_type": "code",
   "execution_count": 2,
   "metadata": {},
   "outputs": [
    {
     "data": {
      "text/plain": [
       "191"
      ]
     },
     "execution_count": 2,
     "metadata": {},
     "output_type": "execute_result"
    }
   ],
   "source": [
    "CWD = \"/\".join(os.getcwd().split(\"/\")[:-1])\n",
    "paths = pd.read_csv(f\"{CWD}/custom_aperture/lclist.txt\", header=None)\n",
    "paths = list(paths[0].values)\n",
    "len(paths)"
   ]
  },
  {
   "cell_type": "code",
   "execution_count": 3,
   "metadata": {
    "scrolled": true
   },
   "outputs": [
    {
     "name": "stderr",
     "output_type": "stream",
     "text": [
      "/home/ekaterina/Documents/001_Science/Flares_in_Clusters_II/flaresinclustersii/lib/python3.6/site-packages/ipykernel_launcher.py:6: ResourceWarning: unclosed file <_io.FileIO name='/home/ekaterina/Documents/001_Science/TESS_UCDs/TESS_UCD_flares/custom_aperture/0ca_tess2019082014090-s0001-0000000029780677-0000-s_lc.fits' mode='rb' closefd=True>\n",
      "  \n",
      "\n",
      "De-trending mode custom does not exist. Pass \"k2sc\" (K2 LCs) or \"savgol\" (Kepler, TESS).\n",
      "NoneType: None\n"
     ]
    },
    {
     "name": "stdout",
     "output_type": "stream",
     "text": [
      "0ca_tess2019082014090-s0001-0000000029780677-0000-s_lc.fits \n",
      "\n"
     ]
    },
    {
     "ename": "ValueError",
     "evalue": "\nDe-trending mode custom does not exist. Pass \"k2sc\" (K2 LCs) or \"savgol\" (Kepler, TESS).",
     "output_type": "error",
     "traceback": [
      "\u001b[0;31m---------------------------------------------------------------------------\u001b[0m",
      "\u001b[0;31mValueError\u001b[0m                                Traceback (most recent call last)",
      "\u001b[0;32m<ipython-input-3-133c8edb0d45>\u001b[0m in \u001b[0;36m<module>\u001b[0;34m\u001b[0m\n\u001b[1;32m      6\u001b[0m     \u001b[0mflc\u001b[0m \u001b[0;34m=\u001b[0m \u001b[0mread_custom_aperture_lc\u001b[0m\u001b[0;34m(\u001b[0m\u001b[0mpath\u001b[0m\u001b[0;34m)\u001b[0m\u001b[0;34m\u001b[0m\u001b[0;34m\u001b[0m\u001b[0m\n\u001b[1;32m      7\u001b[0m \u001b[0;34m\u001b[0m\u001b[0m\n\u001b[0;32m----> 8\u001b[0;31m     \u001b[0mflcd\u001b[0m \u001b[0;34m=\u001b[0m \u001b[0mflc\u001b[0m\u001b[0;34m.\u001b[0m\u001b[0mdetrend\u001b[0m\u001b[0;34m(\u001b[0m\u001b[0;34m\"custom\"\u001b[0m\u001b[0;34m,\u001b[0m \u001b[0mfunc\u001b[0m\u001b[0;34m=\u001b[0m\u001b[0mcustom_detrending\u001b[0m\u001b[0;34m)\u001b[0m\u001b[0;34m\u001b[0m\u001b[0;34m\u001b[0m\u001b[0m\n\u001b[0m\u001b[1;32m      9\u001b[0m \u001b[0;34m\u001b[0m\u001b[0m\n\u001b[1;32m     10\u001b[0m     \u001b[0mflcd\u001b[0m \u001b[0;34m=\u001b[0m \u001b[0mflcd\u001b[0m\u001b[0;34m.\u001b[0m\u001b[0mfind_flares\u001b[0m\u001b[0;34m(\u001b[0m\u001b[0;34m)\u001b[0m\u001b[0;34m\u001b[0m\u001b[0;34m\u001b[0m\u001b[0m\n",
      "\u001b[0;32m~/Documents/001_Science/Flares_in_Clusters_II/flaresinclustersii/lib/python3.6/site-packages/altaipony-0.0.1-py3.6.egg/altaipony/flarelc.py\u001b[0m in \u001b[0;36mdetrend\u001b[0;34m(self, mode, save, path, de_niter, max_sigma, **kwargs)\u001b[0m\n\u001b[1;32m    336\u001b[0m                        ' or \"savgol\" (Kepler, TESS).'.format(mode))\n\u001b[1;32m    337\u001b[0m             \u001b[0mLOG\u001b[0m\u001b[0;34m.\u001b[0m\u001b[0mexception\u001b[0m\u001b[0;34m(\u001b[0m\u001b[0merr_str\u001b[0m\u001b[0;34m)\u001b[0m\u001b[0;34m\u001b[0m\u001b[0;34m\u001b[0m\u001b[0m\n\u001b[0;32m--> 338\u001b[0;31m             \u001b[0;32mraise\u001b[0m \u001b[0mValueError\u001b[0m\u001b[0;34m(\u001b[0m\u001b[0merr_str\u001b[0m\u001b[0;34m)\u001b[0m\u001b[0;34m\u001b[0m\u001b[0;34m\u001b[0m\u001b[0m\n\u001b[0m\u001b[1;32m    339\u001b[0m \u001b[0;34m\u001b[0m\u001b[0m\n\u001b[1;32m    340\u001b[0m \u001b[0;34m\u001b[0m\u001b[0m\n",
      "\u001b[0;31mValueError\u001b[0m: \nDe-trending mode custom does not exist. Pass \"k2sc\" (K2 LCs) or \"savgol\" (Kepler, TESS)."
     ]
    }
   ],
   "source": [
    "for i, path in enumerate(paths[:1]):\n",
    "    print(path, \"\\n\")\n",
    "    path = f\"{CWD}/custom_aperture/\" + path\n",
    "    cluster = f\"{CWD}/flare_tables/2020_02_05_TESSUCDs\"\n",
    "\n",
    "    flc = read_custom_aperture_lc(path)\n",
    "\n",
    "    flcd = flc.detrend(\"custom\", func=custom_detrending)\n",
    "    \n",
    "    flcd = flcd.find_flares()\n",
    "    \n",
    "    write_flares_to_file(flcd, cluster)\n",
    "\n",
    "    print(\"\\nFinished TIC {} ({})\\n------------------------------\\n\".format(flc.targetid, flc.campaign))\n",
    "    flc.plot()\n",
    "    plt.plot(flcd.time, flcd.detrended_flux+50)\n",
    "    plt.ylim(500,700)\n",
    "    \n",
    "    max_ampl = 2*flcd.flares.ampl_rec.max()\n",
    "    #print(max_ampl)\n",
    "    min_dur = .5 * np.min(flcd.flares.tstop-flcd.flares.tstart)\n",
    "    print(min_dur)\n",
    "    for i in range(3):\n",
    "        flce, fake_flc = flcd.sample_flare_recovery(inject_before_detrending=True, mode=\"custom\",\n",
    "                                                    func=custom_detrending,\n",
    "                                                  iterations=6, fakefreq=1e-3, ampl=[1e-2, max_ampl],\n",
    "                                                  dur=[min_dur/6., 0.1/6.], save=True,\n",
    "                                                  path=\"{}{}_{:012d}_s{:04d}.csv\".format(i,5,\n",
    "                                                                                         flc.targetid,\n",
    "                                                                                         flc.campaign))\n",
    "\n",
    "    flcc = flce.characterize_flares( ampl_bins=2, dur_bins=2)"
   ]
  },
  {
   "cell_type": "code",
   "execution_count": null,
   "metadata": {},
   "outputs": [],
   "source": [
    "flcc = flce.characterize_flares( ampl_bins=2, dur_bins=2)\n",
    "flcc.flares.T"
   ]
  },
  {
   "cell_type": "code",
   "execution_count": null,
   "metadata": {},
   "outputs": [],
   "source": [
    "# respath = f\"{CWD}/flare_tables/2020_02_05_TESSUCDs_flares.csv\"\n",
    "# df = pd.read_csv(respath)\n",
    "# df = df[df.ed_rec > 0] # keep only positive flare values\n",
    "# df.to_csv(respath)"
   ]
  },
  {
   "cell_type": "code",
   "execution_count": null,
   "metadata": {},
   "outputs": [],
   "source": [
    "# a = pd.DataFrame()\n",
    "# for i, lf in df.groupby(\"TIC\"):\n",
    "#     a.loc[i,\"nflares\"] = int(lf.TIC.count())\n",
    "#     a.loc[i,\"nsectors\"] = int(len(lf.Campaign.unique()))\n",
    "# a[\"flarespersec\"] = a.nflares/a.nsectors\n",
    "# a.sort_values(by=\"flarespersec\",ascending=False)\n"
   ]
  },
  {
   "cell_type": "code",
   "execution_count": null,
   "metadata": {},
   "outputs": [],
   "source": [
    "# plt.figure(figsize=(16,5))\n",
    "# markers =  ['o', 'v', '^', '<', '>', '8', 's', 'p', '*', 'h', 'H', 'D', 'd', 'P', 'X']\n",
    "# for c, dfs in df.groupby(\"Campaign\"):\n",
    "#     plt.scatter(dfs.cstart, dfs.ampl_rec, label=f\"{c}\", marker=markers.pop())\n",
    "# plt.legend(loc=(1.01,0))\n",
    "# plt.title(\"cadence vs. flare amplitude by sector\", fontsize=14);\n",
    "# plt.yscale(\"log\")\n",
    "# plt.xlabel(\"cadence\", fontsize=14)\n",
    "# plt.ylabel(\"rel. amplitude\", fontsize=14)\n",
    "# plt.savefig(\"/home/ekaterina/Documents/001_Science/TESS_UCDs/TESS_UCD_flares/plots/TESS_UCD_flares_21_11_2019.png\", dpi=300)"
   ]
  },
  {
   "cell_type": "code",
   "execution_count": null,
   "metadata": {},
   "outputs": [],
   "source": [
    "# plt.figure(figsize=(16,5))\n",
    "# markers =  ['o', 'v', '^', '<', '>', '8', 's', 'p', '*', 'h', 'H', 'D', 'd', 'P', 'X'] *100\n",
    "# for c, dfs in df.groupby(\"TIC\"):\n",
    "#     plt.scatter(dfs.cstart, dfs.ampl_rec, label=f\"TIC {c}\", marker=markers.pop())\n",
    "# #plt.legend()\n",
    "# plt.title(\"cadence vs. flare amplitude by target\");\n",
    "# plt.yscale(\"log\")\n",
    "# plt.xlabel(\"cadence\")\n",
    "# plt.ylabel(\"rel. amplitude\")\n"
   ]
  },
  {
   "cell_type": "code",
   "execution_count": null,
   "metadata": {},
   "outputs": [],
   "source": [
    "df.shape"
   ]
  },
  {
   "cell_type": "code",
   "execution_count": null,
   "metadata": {},
   "outputs": [],
   "source": []
  },
  {
   "cell_type": "code",
   "execution_count": null,
   "metadata": {
    "scrolled": true
   },
   "outputs": [],
   "source": [
    "# for i, path in enumerate(paths):\n",
    "#     print(path, \"\\n\")\n",
    "#     path = f\"{CWD}/custom_aperture/\" + path\n",
    "#     cluster = f\"{CWD}/flare_tables/2019_11_13_TESSUCDs\"\n",
    "\n",
    "#     flc = read_custom_aperture_lc(path)\n",
    "    \n",
    "#     w = search_gaps_for_window_length(flc)\n",
    "#     print(w)\n",
    "#     flcd = custom_detrending(flc, d={flc.targetid:tuple(w)})\n",
    "\n",
    "#     flcd = refine_detrended_flux_err(flcd)\n",
    "\n",
    "#     flcd = flcd.find_flares()\n",
    "\n",
    "#     write_flares_to_file(flcd, cluster)\n",
    "\n",
    "#     print(\"\\nFinished TIC {} ({})\\n------------------------------\\n\".format(flc.targetid, flc.campaign))\n"
   ]
  }
 ],
 "metadata": {
  "kernelspec": {
   "display_name": "flaresinclustersii",
   "language": "python",
   "name": "flaresinclustersii"
  },
  "language_info": {
   "codemirror_mode": {
    "name": "ipython",
    "version": 3
   },
   "file_extension": ".py",
   "mimetype": "text/x-python",
   "name": "python",
   "nbconvert_exporter": "python",
   "pygments_lexer": "ipython3",
   "version": "3.6.9"
  }
 },
 "nbformat": 4,
 "nbformat_minor": 2
}
