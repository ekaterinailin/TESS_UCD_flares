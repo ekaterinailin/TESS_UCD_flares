{
 "cells": [
  {
   "cell_type": "code",
   "execution_count": 1,
   "metadata": {},
   "outputs": [],
   "source": [
    "import pandas as pd\n",
    "import numpy as np"
   ]
  },
  {
   "cell_type": "code",
   "execution_count": 2,
   "metadata": {},
   "outputs": [
    {
     "data": {
      "text/plain": [
       "61        926898\n",
       "83       1539914\n",
       "96       2470992\n",
       "90       5630425\n",
       "2        7150628\n",
       "         ...    \n",
       "109    464378628\n",
       "68     471012394\n",
       "86     471012738\n",
       "95     471012740\n",
       "102    471012770\n",
       "Name: TIC, Length: 120, dtype: int64"
      ]
     },
     "execution_count": 2,
     "metadata": {},
     "output_type": "execute_result"
    }
   ],
   "source": [
    "pts = !ls ../custom_aperture/masks\n",
    "spts = pd.read_csv(\"../flare_tables/spts.csv\")\n",
    "spts.TIC.sort_values(ascending=True)"
   ]
  },
  {
   "cell_type": "code",
   "execution_count": 3,
   "metadata": {},
   "outputs": [
    {
     "data": {
      "text/html": [
       "<div>\n",
       "<style scoped>\n",
       "    .dataframe tbody tr th:only-of-type {\n",
       "        vertical-align: middle;\n",
       "    }\n",
       "\n",
       "    .dataframe tbody tr th {\n",
       "        vertical-align: top;\n",
       "    }\n",
       "\n",
       "    .dataframe thead th {\n",
       "        text-align: right;\n",
       "    }\n",
       "</style>\n",
       "<table border=\"1\" class=\"dataframe\">\n",
       "  <thead>\n",
       "    <tr style=\"text-align: right;\">\n",
       "      <th></th>\n",
       "      <th>TIC</th>\n",
       "      <th>sector</th>\n",
       "      <th>st</th>\n",
       "      <th>time_years</th>\n",
       "    </tr>\n",
       "  </thead>\n",
       "  <tbody>\n",
       "    <tr>\n",
       "      <th>0</th>\n",
       "      <td>107012050</td>\n",
       "      <td>10</td>\n",
       "      <td>M9</td>\n",
       "      <td>0.058423</td>\n",
       "    </tr>\n",
       "    <tr>\n",
       "      <th>1</th>\n",
       "      <td>107012050</td>\n",
       "      <td>9</td>\n",
       "      <td>M9</td>\n",
       "      <td>0.056685</td>\n",
       "    </tr>\n",
       "    <tr>\n",
       "      <th>2</th>\n",
       "      <td>11654435</td>\n",
       "      <td>8</td>\n",
       "      <td>M6</td>\n",
       "      <td>0.049065</td>\n",
       "    </tr>\n",
       "    <tr>\n",
       "      <th>3</th>\n",
       "      <td>117733072</td>\n",
       "      <td>5</td>\n",
       "      <td>M6</td>\n",
       "      <td>0.064442</td>\n",
       "    </tr>\n",
       "    <tr>\n",
       "      <th>4</th>\n",
       "      <td>117733581</td>\n",
       "      <td>5</td>\n",
       "      <td>M7</td>\n",
       "      <td>0.064442</td>\n",
       "    </tr>\n",
       "    <tr>\n",
       "      <th>...</th>\n",
       "      <td>...</td>\n",
       "      <td>...</td>\n",
       "      <td>...</td>\n",
       "      <td>...</td>\n",
       "    </tr>\n",
       "    <tr>\n",
       "      <th>186</th>\n",
       "      <td>77959225</td>\n",
       "      <td>6</td>\n",
       "      <td>M6</td>\n",
       "      <td>0.055502</td>\n",
       "    </tr>\n",
       "    <tr>\n",
       "      <th>187</th>\n",
       "      <td>7975441</td>\n",
       "      <td>8</td>\n",
       "      <td>M9</td>\n",
       "      <td>0.049065</td>\n",
       "    </tr>\n",
       "    <tr>\n",
       "      <th>188</th>\n",
       "      <td>926898</td>\n",
       "      <td>7</td>\n",
       "      <td>L2</td>\n",
       "      <td>0.062218</td>\n",
       "    </tr>\n",
       "    <tr>\n",
       "      <th>189</th>\n",
       "      <td>926898</td>\n",
       "      <td>8</td>\n",
       "      <td>L2</td>\n",
       "      <td>0.049065</td>\n",
       "    </tr>\n",
       "    <tr>\n",
       "      <th>190</th>\n",
       "      <td>98874143</td>\n",
       "      <td>10</td>\n",
       "      <td>M6</td>\n",
       "      <td>0.058423</td>\n",
       "    </tr>\n",
       "  </tbody>\n",
       "</table>\n",
       "<p>191 rows × 4 columns</p>\n",
       "</div>"
      ],
      "text/plain": [
       "           TIC sector  st  time_years\n",
       "0    107012050     10  M9    0.058423\n",
       "1    107012050      9  M9    0.056685\n",
       "2     11654435      8  M6    0.049065\n",
       "3    117733072      5  M6    0.064442\n",
       "4    117733581      5  M7    0.064442\n",
       "..         ...    ...  ..         ...\n",
       "186   77959225      6  M6    0.055502\n",
       "187    7975441      8  M9    0.049065\n",
       "188     926898      7  L2    0.062218\n",
       "189     926898      8  L2    0.049065\n",
       "190   98874143     10  M6    0.058423\n",
       "\n",
       "[191 rows x 4 columns]"
      ]
     },
     "execution_count": 3,
     "metadata": {},
     "output_type": "execute_result"
    }
   ],
   "source": [
    "df = pd.DataFrame()\n",
    "\n",
    "for p in pts:\n",
    "    tic, sector = p.split(\"_\")[0], p.split(\"_\")[1][:-4]\n",
    "    d = pd.read_csv(f\"../custom_aperture/masks/{p}\", names=[\"time\",\"flag\"])\n",
    "\n",
    "    df = df.append(pd.Series({\"time_years\":d[d.flag==0].shape[0]/30/24/365.25,\n",
    "                    \"TIC\":tic,\n",
    "                    \"sector\":sector,\n",
    "                    \"st\":spts[spts.TIC==int(tic)].spt.iloc[0]}),ignore_index=True)\n",
    "df"
   ]
  },
  {
   "cell_type": "code",
   "execution_count": 4,
   "metadata": {},
   "outputs": [],
   "source": [
    "df.to_csv(\"../flare_tables/obs_times.csv\",index=False)"
   ]
  },
  {
   "cell_type": "code",
   "execution_count": null,
   "metadata": {},
   "outputs": [],
   "source": []
  }
 ],
 "metadata": {
  "kernelspec": {
   "display_name": "flaresinclustersii",
   "language": "python",
   "name": "flaresinclustersii"
  },
  "language_info": {
   "codemirror_mode": {
    "name": "ipython",
    "version": 3
   },
   "file_extension": ".py",
   "mimetype": "text/x-python",
   "name": "python",
   "nbconvert_exporter": "python",
   "pygments_lexer": "ipython3",
   "version": "3.6.9"
  }
 },
 "nbformat": 4,
 "nbformat_minor": 2
}
