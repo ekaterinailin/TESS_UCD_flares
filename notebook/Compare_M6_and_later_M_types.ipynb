{
 "cells": [
  {
   "cell_type": "code",
   "execution_count": 1,
   "metadata": {},
   "outputs": [],
   "source": [
    "import pandas as pd\n",
    "import numpy as np\n",
    "\n",
    "import matplotlib.pyplot as plt\n",
    "%matplotlib inline"
   ]
  },
  {
   "cell_type": "code",
   "execution_count": 89,
   "metadata": {},
   "outputs": [],
   "source": [
    "df = pd.read_csv(\"../flare_tables/20200227_vetted_flares_lacking_some.csv\")\n",
    "df = df[df.complex==0]"
   ]
  },
  {
   "cell_type": "code",
   "execution_count": 90,
   "metadata": {},
   "outputs": [],
   "source": [
    "df1 = df[(df.real==1) &\n",
    "        (df.st>6) &\n",
    "        (df.ampl_rec > 0.05) &\n",
    "        (df.ampl_rec < .5)]\n",
    "df2 = df[(df.real==1) &\n",
    "        (df.st==6) &\n",
    "        (df.ampl_rec > 0.05) &\n",
    "        (df.ampl_rec < .5)]"
   ]
  },
  {
   "cell_type": "code",
   "execution_count": 93,
   "metadata": {},
   "outputs": [
    {
     "data": {
      "text/plain": [
       "<matplotlib.legend.Legend at 0x7f8cf180dc88>"
      ]
     },
     "execution_count": 93,
     "metadata": {},
     "output_type": "execute_result"
    },
    {
     "data": {
      "image/png": "[encoded data removed]",
      "text/plain": [
       "<Figure size 432x288 with 1 Axes>"
      ]
     },
     "metadata": {
      "needs_background": "light"
     },
     "output_type": "display_data"
    }
   ],
   "source": [
    "df1.ampl_rec.hist(bins=np.linspace(.05,.5,20), histtype=\"step\", linewidth=2, label=\"later\")\n",
    "df2.ampl_rec.hist(bins=np.linspace(.05,.5,20), histtype=\"step\", linewidth=2, label=\"equal\")\n",
    "plt.legend()"
   ]
  },
  {
   "cell_type": "code",
   "execution_count": 94,
   "metadata": {},
   "outputs": [
    {
     "data": {
      "text/plain": [
       "<matplotlib.legend.Legend at 0x7f8cf17d1908>"
      ]
     },
     "execution_count": 94,
     "metadata": {},
     "output_type": "execute_result"
    },
    {
     "data": {
      "image/png": "[encoded data removed]",
      "text/plain": [
       "<Figure size 432x288 with 1 Axes>"
      ]
     },
     "metadata": {
      "needs_background": "light"
     },
     "output_type": "display_data"
    }
   ],
   "source": [
    "(df1.cstop-df1.cstart).hist(bins=np.linspace(3,60,50), histtype=\"step\", linewidth=2, label=\"later\")\n",
    "(df2.cstop-df2.cstart).hist(bins=np.linspace(3,60,50), histtype=\"step\", linewidth=2, label=\"equal\")\n",
    "plt.legend()"
   ]
  },
  {
   "cell_type": "code",
   "execution_count": 85,
   "metadata": {
    "scrolled": false
   },
   "outputs": [],
   "source": [
    "for i in range(0,df2.shape[0]):\n",
    "    l = df2[[\"TIC\",\"sector\",\"cstart\"]].iloc[i]\n",
    "    s =f\"{str(l.TIC).zfill(16)}_{l.sector}_{l.cstart}.csv\"\n",
    "    f = pd.read_csv(f\"../flare_snippets/{s}\")\n",
    "    plt.figure()\n",
    "    plt.plot(f.c, f.f, label=f\"TIC {l.TIC} sector {l.sector}, c={l.cstart}\")\n",
    "    plt.legend()\n",
    "    plt.savefig(f\"../plots/{i}.png\")\n",
    "    plt.close()"
   ]
  },
  {
   "cell_type": "code",
   "execution_count": null,
   "metadata": {},
   "outputs": [],
   "source": []
  },
  {
   "cell_type": "code",
   "execution_count": null,
   "metadata": {},
   "outputs": [],
   "source": []
  }
 ],
 "metadata": {
  "kernelspec": {
   "display_name": "flaresinclustersii",
   "language": "python",
   "name": "flaresinclustersii"
  },
  "language_info": {
   "codemirror_mode": {
    "name": "ipython",
    "version": 3
   },
   "file_extension": ".py",
   "mimetype": "text/x-python",
   "name": "python",
   "nbconvert_exporter": "python",
   "pygments_lexer": "ipython3",
   "version": "3.6.9"
  }
 },
 "nbformat": 4,
 "nbformat_minor": 2
}
