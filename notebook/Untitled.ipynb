{
 "cells": [
  {
   "cell_type": "code",
   "execution_count": 30,
   "metadata": {},
   "outputs": [],
   "source": [
    "import pandas as pd\n",
    "import numpy as np\n"
   ]
  },
  {
   "cell_type": "code",
   "execution_count": 31,
   "metadata": {},
   "outputs": [],
   "source": [
    "old = pd.read_csv(\"/work1/eilin/TESS_UCDs/TESS_UCD_flares/cluster_scripts/charold.sh\", delimiter=\" \", header=None,\n",
    "                 names=[\"p\",\"pa\",\"f\"])[\"f\"]\n",
    "new = pd.read_csv(\"/work1/eilin/TESS_UCDs/TESS_UCD_flares/cluster_scripts/characterisation.sh\", delimiter=\" \", header=None,\n",
    "                 names=[\"p\",\"pa\",\"f\"])[\"f\"]\n",
    "inj = pd.read_csv(\"/work1/eilin/TESS_UCDs/TESS_UCD_flares/cluster_scripts/tessjobs.sh\", delimiter=\" \", header=None,\n",
    "                 names=[\"p\",\"pa\",\"f\"])[\"f\"]\n",
    "injold = pd.read_csv(\"/work1/eilin/TESS_UCDs/TESS_UCD_flares/cluster_scripts/tessold.sh\", delimiter=\" \", header=None,\n",
    "                 names=[\"p\",\"pa\",\"f\"])[\"f\"]"
   ]
  },
  {
   "cell_type": "code",
   "execution_count": 38,
   "metadata": {},
   "outputs": [],
   "source": [
    "L = list(set(inj) - set(injold))  + list(set(new)-set(old))"
   ]
  },
  {
   "cell_type": "code",
   "execution_count": 39,
   "metadata": {},
   "outputs": [],
   "source": [
    "with open(\"/work1/eilin/TESS_UCDs/TESS_UCD_flares/cluster_scripts/20191022_tessjobs.sh\", \"a\" ) as f:\n",
    "    for l in L:\n",
    "        string = f\"python /home/eilin/TESSUCDs/src/single_tess_injrec.py {l}\\n\"\n",
    "        f.write(string)"
   ]
  },
  {
   "cell_type": "code",
   "execution_count": 36,
   "metadata": {},
   "outputs": [
    {
     "data": {
      "text/plain": [
       "{'0ca_tess2019082014090-s0001-0000000029780677-0000-s_lc.fits',\n",
       " '13ca_tess2019090409390-s0002-0000000034014829-0000-s_lc.fits',\n",
       " '5ca_tess2019082311060-s0001-0000000259901346-0000-s_lc.fits',\n",
       " '9ca_tess2019082314154-s0001-0000000389051009-0000-s_lc.fits'}"
      ]
     },
     "execution_count": 36,
     "metadata": {},
     "output_type": "execute_result"
    }
   ],
   "source": [
    "\n",
    "list(set(new)-set(old))"
   ]
  },
  {
   "cell_type": "code",
   "execution_count": null,
   "metadata": {},
   "outputs": [],
   "source": []
  }
 ],
 "metadata": {
  "kernelspec": {
   "display_name": "altaipony",
   "language": "python",
   "name": "altaipony"
  },
  "language_info": {
   "codemirror_mode": {
    "name": "ipython",
    "version": 3
   },
   "file_extension": ".py",
   "mimetype": "text/x-python",
   "name": "python",
   "nbconvert_exporter": "python",
   "pygments_lexer": "ipython3",
   "version": "3.6.5"
  }
 },
 "nbformat": 4,
 "nbformat_minor": 2
}
