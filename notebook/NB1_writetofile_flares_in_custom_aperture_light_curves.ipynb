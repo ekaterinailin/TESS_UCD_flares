{
 "cells": [
  {
   "cell_type": "code",
   "execution_count": 1,
   "metadata": {},
   "outputs": [
    {
     "name": "stderr",
     "output_type": "stream",
     "text": [
      "/usr/lib/python3.6/importlib/_bootstrap_external.py:426: ImportWarning: Not importing directory /home/ekaterina/Documents/001_Science/Flares_in_Clusters_II/flaresinclustersii/lib/python3.6/site-packages/sphinxcontrib: missing __init__\n",
      "  _warnings.warn(msg.format(portions[0]), ImportWarning)\n",
      "/usr/lib/python3.6/importlib/_bootstrap_external.py:426: ImportWarning: Not importing directory /home/ekaterina/Documents/001_Science/Flares_in_Clusters_II/flaresinclustersii/lib/python3.6/site-packages/mpl_toolkits: missing __init__\n",
      "  _warnings.warn(msg.format(portions[0]), ImportWarning)\n",
      "/usr/lib/python3.6/importlib/_bootstrap.py:219: RuntimeWarning: numpy.ufunc size changed, may indicate binary incompatibility. Expected 192 from C header, got 216 from PyObject\n",
      "  return f(*args, **kwds)\n",
      "/usr/lib/python3.6/importlib/_bootstrap.py:219: RuntimeWarning: numpy.ufunc size changed, may indicate binary incompatibility. Expected 192 from C header, got 216 from PyObject\n",
      "  return f(*args, **kwds)\n",
      "/usr/lib/python3.6/importlib/_bootstrap.py:219: RuntimeWarning: numpy.ufunc size changed, may indicate binary incompatibility. Expected 192 from C header, got 216 from PyObject\n",
      "  return f(*args, **kwds)\n"
     ]
    }
   ],
   "source": [
    "import numpy as np\n",
    "import pandas as pd\n",
    "\n",
    "import matplotlib.pyplot as plt\n",
    "%matplotlib inline\n",
    "\n",
    "from altaipony.injrecanalysis import plot_heatmap, tile_up_injection_recovery\n",
    "\n",
    "from funcs.helper import write_flares_to_file, read_custom_aperture_lc\n",
    "from funcs.custom_detrending import custom_detrending"
   ]
  },
  {
   "cell_type": "markdown",
   "metadata": {},
   "source": [
    "### Read a light curve from file"
   ]
  },
  {
   "cell_type": "code",
   "execution_count": 2,
   "metadata": {},
   "outputs": [],
   "source": [
    "paths = !ls '../custom_aperture/'\n",
    "paths = paths[:-3]\n"
   ]
  },
  {
   "cell_type": "code",
   "execution_count": 3,
   "metadata": {},
   "outputs": [
    {
     "name": "stderr",
     "output_type": "stream",
     "text": [
      "/home/ekaterina/Documents/001_Science/Flares_in_Clusters_II/flaresinclustersii/lib/python3.6/site-packages/ipykernel_launcher.py:5: ResourceWarning: unclosed file <_io.FileIO name='../custom_aperture/0ca_tess2019082014090-s0001-0000000029780677-0000-s_lc.fits' mode='rb' closefd=True>\n",
      "  \"\"\"\n",
      "/home/ekaterina/Documents/001_Science/Flares_in_Clusters_II/flaresinclustersii/lib/python3.6/site-packages/numpy/lib/nanfunctions.py:1116: RuntimeWarning: All-NaN slice encountered\n",
      "  overwrite_input=overwrite_input)\n"
     ]
    },
    {
     "name": "stdout",
     "output_type": "stream",
     "text": [
      "MODE  custom\n",
      "MODE  savgol\n",
      "MODE  savgol\n"
     ]
    },
    {
     "name": "stderr",
     "output_type": "stream",
     "text": [
      "Found 0 candidate(s) in the (0,9073) gap.\n",
      "Found 2 candidate(s) in the (9073,15090) gap.\n",
      "Found 0 candidate(s) in the (15090,17805) gap.\n",
      "/home/ekaterina/Documents/001_Science/Flares_in_Clusters_II/flaresinclustersii/lib/python3.6/site-packages/ipykernel_launcher.py:5: ResourceWarning: unclosed file <_io.FileIO name='../custom_aperture/100ca_tess2019090910225-s0007-0000000318801864-0000-s_lc.fits' mode='rb' closefd=True>\n",
      "  \"\"\"\n"
     ]
    },
    {
     "name": "stdout",
     "output_type": "stream",
     "text": [
      "MODE  custom\n",
      "MODE  savgol\n",
      "MODE  savgol\n"
     ]
    },
    {
     "name": "stderr",
     "output_type": "stream",
     "text": [
      "Found 1 candidate(s) in the (0,8040) gap.\n",
      "Found 0 candidate(s) in the (8040,16063) gap.\n",
      "/home/ekaterina/Documents/001_Science/Flares_in_Clusters_II/flaresinclustersii/lib/python3.6/site-packages/ipykernel_launcher.py:5: ResourceWarning: unclosed file <_io.FileIO name='../custom_aperture/101ca_tess2019090910464-s0007-0000000366567664-0000-s_lc.fits' mode='rb' closefd=True>\n",
      "  \"\"\"\n"
     ]
    },
    {
     "name": "stdout",
     "output_type": "stream",
     "text": [
      "MODE  custom\n",
      "MODE  savgol\n",
      "MODE  savgol\n"
     ]
    },
    {
     "name": "stderr",
     "output_type": "stream",
     "text": [
      "Found 2 candidate(s) in the (0,8040) gap.\n",
      "Found 1 candidate(s) in the (8040,16063) gap.\n",
      "/home/ekaterina/Documents/001_Science/Flares_in_Clusters_II/flaresinclustersii/lib/python3.6/site-packages/ipykernel_launcher.py:5: ResourceWarning: unclosed file <_io.FileIO name='../custom_aperture/102ca_tess2019090910530-s0007-0000000410898932-0000-s_lc.fits' mode='rb' closefd=True>\n",
      "  \"\"\"\n"
     ]
    },
    {
     "name": "stdout",
     "output_type": "stream",
     "text": [
      "MODE  custom\n",
      "MODE  savgol\n",
      "MODE  savgol\n"
     ]
    },
    {
     "name": "stderr",
     "output_type": "stream",
     "text": [
      "Found 1 candidate(s) in the (0,8040) gap.\n",
      "Found 0 candidate(s) in the (8040,16063) gap.\n",
      "/home/ekaterina/Documents/001_Science/Flares_in_Clusters_II/flaresinclustersii/lib/python3.6/site-packages/ipykernel_launcher.py:5: ResourceWarning: unclosed file <_io.FileIO name='../custom_aperture/103ca_tess2019090910582-s0008-0000000000926898-0000-s_lc.fits' mode='rb' closefd=True>\n",
      "  \"\"\"\n"
     ]
    },
    {
     "name": "stdout",
     "output_type": "stream",
     "text": [
      "MODE  custom\n",
      "MODE  savgol\n",
      "MODE  savgol\n"
     ]
    },
    {
     "name": "stderr",
     "output_type": "stream",
     "text": [
      "Found 0 candidate(s) in the (0,7583) gap.\n",
      "Found 0 candidate(s) in the (7583,12039) gap.\n",
      "/home/ekaterina/Documents/001_Science/Flares_in_Clusters_II/flaresinclustersii/lib/python3.6/site-packages/ipykernel_launcher.py:5: ResourceWarning: unclosed file <_io.FileIO name='../custom_aperture/103ca_tess2019102415201-s0008-0000000000926898-0000-s_lc.fits' mode='rb' closefd=True>\n",
      "  \"\"\"\n"
     ]
    },
    {
     "name": "stdout",
     "output_type": "stream",
     "text": [
      "MODE  custom\n",
      "MODE  savgol\n",
      "MODE  savgol\n"
     ]
    },
    {
     "name": "stderr",
     "output_type": "stream",
     "text": [
      "Found 0 candidate(s) in the (0,7583) gap.\n",
      "Found 0 candidate(s) in the (7583,12039) gap.\n",
      "/home/ekaterina/Documents/001_Science/Flares_in_Clusters_II/flaresinclustersii/lib/python3.6/site-packages/ipykernel_launcher.py:5: ResourceWarning: unclosed file <_io.FileIO name='../custom_aperture/104ca_tess2019090911104-s0008-0000000007975441-0000-s_lc.fits' mode='rb' closefd=True>\n",
      "  \"\"\"\n"
     ]
    },
    {
     "name": "stdout",
     "output_type": "stream",
     "text": [
      "MODE  custom\n",
      "MODE  savgol\n",
      "MODE  savgol\n"
     ]
    },
    {
     "name": "stderr",
     "output_type": "stream",
     "text": [
      "Found 2 candidate(s) in the (0,7583) gap.\n",
      "Found 1 candidate(s) in the (7583,12039) gap.\n",
      "/home/ekaterina/Documents/001_Science/Flares_in_Clusters_II/flaresinclustersii/lib/python3.6/site-packages/ipykernel_launcher.py:5: ResourceWarning: unclosed file <_io.FileIO name='../custom_aperture/105ca_tess2019090911241-s0008-0000000011654435-0000-s_lc.fits' mode='rb' closefd=True>\n",
      "  \"\"\"\n"
     ]
    },
    {
     "name": "stdout",
     "output_type": "stream",
     "text": [
      "MODE  custom\n",
      "MODE  savgol\n",
      "MODE  savgol\n"
     ]
    },
    {
     "name": "stderr",
     "output_type": "stream",
     "text": [
      "Found 0 candidate(s) in the (0,7583) gap.\n",
      "Found 0 candidate(s) in the (7583,12039) gap.\n",
      "/home/ekaterina/Documents/001_Science/Flares_in_Clusters_II/flaresinclustersii/lib/python3.6/site-packages/ipykernel_launcher.py:5: ResourceWarning: unclosed file <_io.FileIO name='../custom_aperture/106ca_tess2019090911283-s0008-0000000044984200-0000-s_lc.fits' mode='rb' closefd=True>\n",
      "  \"\"\"\n"
     ]
    },
    {
     "name": "stdout",
     "output_type": "stream",
     "text": [
      "MODE  custom\n",
      "MODE  savgol\n",
      "MODE  savgol\n"
     ]
    },
    {
     "name": "stderr",
     "output_type": "stream",
     "text": [
      "Found 0 candidate(s) in the (0,7583) gap.\n",
      "Found 0 candidate(s) in the (7583,12039) gap.\n",
      "/home/ekaterina/Documents/001_Science/Flares_in_Clusters_II/flaresinclustersii/lib/python3.6/site-packages/ipykernel_launcher.py:5: ResourceWarning: unclosed file <_io.FileIO name='../custom_aperture/107ca_tess2019100910514-s0008-0000000130414729-0000-s_lc.fits' mode='rb' closefd=True>\n",
      "  \"\"\"\n"
     ]
    },
    {
     "name": "stdout",
     "output_type": "stream",
     "text": [
      "MODE  custom\n",
      "MODE  savgol\n",
      "MODE  savgol\n"
     ]
    },
    {
     "name": "stderr",
     "output_type": "stream",
     "text": [
      "Found 0 candidate(s) in the (0,7583) gap.\n",
      "Found 0 candidate(s) in the (7583,12039) gap.\n",
      "/home/ekaterina/Documents/001_Science/Flares_in_Clusters_II/flaresinclustersii/lib/python3.6/site-packages/ipykernel_launcher.py:5: ResourceWarning: unclosed file <_io.FileIO name='../custom_aperture/108ca_tess2019090911533-s0008-0000000142052876-0000-s_lc.fits' mode='rb' closefd=True>\n",
      "  \"\"\"\n"
     ]
    },
    {
     "name": "stdout",
     "output_type": "stream",
     "text": [
      "MODE  custom\n",
      "Do a coarse spline interpolation to remove trends.\n"
     ]
    },
    {
     "name": "stderr",
     "output_type": "stream",
     "text": [
      "/home/ekaterina/Documents/001_Science/Flares_in_Clusters_II/flaresinclustersii/lib/python3.6/site-packages/numpy/lib/nanfunctions.py:1113: RuntimeWarning: Mean of empty slice\n",
      "  return np.nanmean(a, axis, out=out, keepdims=keepdims)\n"
     ]
    },
    {
     "name": "stdout",
     "output_type": "stream",
     "text": [
      "MODE  savgol\n",
      "MODE  savgol\n"
     ]
    },
    {
     "name": "stderr",
     "output_type": "stream",
     "text": [
      "Found 0 candidate(s) in the (0,7732) gap.\n",
      "Found 0 candidate(s) in the (7732,12338) gap.\n",
      "/home/ekaterina/Documents/001_Science/Flares_in_Clusters_II/flaresinclustersii/lib/python3.6/site-packages/ipykernel_launcher.py:5: ResourceWarning: unclosed file <_io.FileIO name='../custom_aperture/108ca_tess2019102509445-s0008-0000000142052876-0000-s_lc.fits' mode='rb' closefd=True>\n",
      "  \"\"\"\n"
     ]
    },
    {
     "name": "stdout",
     "output_type": "stream",
     "text": [
      "MODE  custom\n",
      "MODE  savgol\n",
      "MODE  savgol\n"
     ]
    },
    {
     "name": "stderr",
     "output_type": "stream",
     "text": [
      "Found 3 candidate(s) in the (0,7583) gap.\n",
      "Found 0 candidate(s) in the (7583,12039) gap.\n",
      "/home/ekaterina/Documents/001_Science/Flares_in_Clusters_II/flaresinclustersii/lib/python3.6/site-packages/ipykernel_launcher.py:5: ResourceWarning: unclosed file <_io.FileIO name='../custom_aperture/109ca_tess2019090911560-s0008-0000000167894019-0000-s_lc.fits' mode='rb' closefd=True>\n",
      "  \"\"\"\n"
     ]
    },
    {
     "name": "stdout",
     "output_type": "stream",
     "text": [
      "MODE  custom\n",
      "MODE  savgol\n",
      "MODE  savgol\n"
     ]
    },
    {
     "name": "stderr",
     "output_type": "stream",
     "text": [
      "Found 0 candidate(s) in the (0,7583) gap.\n",
      "Found 2 candidate(s) in the (7583,12039) gap.\n",
      "/home/ekaterina/Documents/001_Science/Flares_in_Clusters_II/flaresinclustersii/lib/python3.6/site-packages/ipykernel_launcher.py:5: ResourceWarning: unclosed file <_io.FileIO name='../custom_aperture/109ca_tess2019102510083-s0008-0000000167894019-0000-s_lc.fits' mode='rb' closefd=True>\n",
      "  \"\"\"\n"
     ]
    },
    {
     "name": "stdout",
     "output_type": "stream",
     "text": [
      "MODE  custom\n",
      "MODE  savgol\n",
      "MODE  savgol\n"
     ]
    },
    {
     "name": "stderr",
     "output_type": "stream",
     "text": [
      "Found 0 candidate(s) in the (0,7583) gap.\n",
      "Found 3 candidate(s) in the (7583,12039) gap.\n",
      "/home/ekaterina/Documents/001_Science/Flares_in_Clusters_II/flaresinclustersii/lib/python3.6/site-packages/ipykernel_launcher.py:5: ResourceWarning: unclosed file <_io.FileIO name='../custom_aperture/10ca_tess2019100710504-s0001-0000000401984769-0000-s_lc.fits' mode='rb' closefd=True>\n",
      "  \"\"\"\n"
     ]
    },
    {
     "name": "stdout",
     "output_type": "stream",
     "text": [
      "MODE  custom\n",
      "MODE  savgol\n",
      "MODE  savgol\n"
     ]
    },
    {
     "name": "stderr",
     "output_type": "stream",
     "text": [
      "Found 0 candidate(s) in the (0,9073) gap.\n",
      "Found 0 candidate(s) in the (9073,15090) gap.\n",
      "Found 0 candidate(s) in the (15090,17805) gap.\n",
      "/home/ekaterina/Documents/001_Science/Flares_in_Clusters_II/flaresinclustersii/lib/python3.6/site-packages/ipykernel_launcher.py:5: ResourceWarning: unclosed file <_io.FileIO name='../custom_aperture/110ca_tess2019091014092-s0008-0000000184457945-0000-s_lc.fits' mode='rb' closefd=True>\n",
      "  \"\"\"\n"
     ]
    },
    {
     "name": "stdout",
     "output_type": "stream",
     "text": [
      "MODE  custom\n",
      "MODE  savgol\n",
      "MODE  savgol\n"
     ]
    },
    {
     "name": "stderr",
     "output_type": "stream",
     "text": [
      "Found 0 candidate(s) in the (0,7583) gap.\n",
      "Found 0 candidate(s) in the (7583,12039) gap.\n",
      "/home/ekaterina/Documents/001_Science/Flares_in_Clusters_II/flaresinclustersii/lib/python3.6/site-packages/ipykernel_launcher.py:5: ResourceWarning: unclosed file <_io.FileIO name='../custom_aperture/111ca_tess2019091014120-s0008-0000000220429097-0000-s_lc.fits' mode='rb' closefd=True>\n",
      "  \"\"\"\n"
     ]
    },
    {
     "name": "stdout",
     "output_type": "stream",
     "text": [
      "MODE  custom\n",
      "MODE  savgol\n",
      "MODE  savgol\n"
     ]
    },
    {
     "name": "stderr",
     "output_type": "stream",
     "text": [
      "Found 1 candidate(s) in the (0,7583) gap.\n",
      "Found 0 candidate(s) in the (7583,12039) gap.\n",
      "/home/ekaterina/Documents/001_Science/Flares_in_Clusters_II/flaresinclustersii/lib/python3.6/site-packages/ipykernel_launcher.py:5: ResourceWarning: unclosed file <_io.FileIO name='../custom_aperture/112ca_tess2019091014144-s0008-0000000270511002-0000-s_lc.fits' mode='rb' closefd=True>\n",
      "  \"\"\"\n"
     ]
    },
    {
     "name": "stdout",
     "output_type": "stream",
     "text": [
      "MODE  custom\n",
      "MODE  savgol\n",
      "MODE  savgol\n"
     ]
    },
    {
     "name": "stderr",
     "output_type": "stream",
     "text": [
      "Found 0 candidate(s) in the (0,7583) gap.\n",
      "Found 0 candidate(s) in the (7583,12039) gap.\n",
      "/home/ekaterina/Documents/001_Science/Flares_in_Clusters_II/flaresinclustersii/lib/python3.6/site-packages/ipykernel_launcher.py:5: ResourceWarning: unclosed file <_io.FileIO name='../custom_aperture/113ca_tess2019091014165-s0008-0000000293520468-0000-s_lc.fits' mode='rb' closefd=True>\n",
      "  \"\"\"\n"
     ]
    },
    {
     "name": "stdout",
     "output_type": "stream",
     "text": [
      "MODE  custom\n",
      "MODE  savgol\n",
      "MODE  savgol\n"
     ]
    },
    {
     "name": "stderr",
     "output_type": "stream",
     "text": [
      "Found 0 candidate(s) in the (0,7583) gap.\n",
      "Found 0 candidate(s) in the (7583,12039) gap.\n",
      "/home/ekaterina/Documents/001_Science/Flares_in_Clusters_II/flaresinclustersii/lib/python3.6/site-packages/ipykernel_launcher.py:5: ResourceWarning: unclosed file <_io.FileIO name='../custom_aperture/114ca_tess2019091014253-s0008-0000000380532990-0000-s_lc.fits' mode='rb' closefd=True>\n",
      "  \"\"\"\n"
     ]
    },
    {
     "name": "stdout",
     "output_type": "stream",
     "text": [
      "MODE  custom\n",
      "MODE  savgol\n",
      "MODE  savgol\n"
     ]
    },
    {
     "name": "stderr",
     "output_type": "stream",
     "text": [
      "Found 0 candidate(s) in the (0,7583) gap.\n",
      "Found 0 candidate(s) in the (7583,12039) gap.\n",
      "/home/ekaterina/Documents/001_Science/Flares_in_Clusters_II/flaresinclustersii/lib/python3.6/site-packages/ipykernel_launcher.py:5: ResourceWarning: unclosed file <_io.FileIO name='../custom_aperture/115ca_tess2019091014331-s0008-0000000410898932-0000-s_lc.fits' mode='rb' closefd=True>\n",
      "  \"\"\"\n"
     ]
    },
    {
     "name": "stdout",
     "output_type": "stream",
     "text": [
      "MODE  custom\n",
      "MODE  savgol\n",
      "MODE  savgol\n"
     ]
    },
    {
     "name": "stderr",
     "output_type": "stream",
     "text": [
      "Found 0 candidate(s) in the (0,7583) gap.\n",
      "Found 0 candidate(s) in the (7583,12039) gap.\n",
      "/home/ekaterina/Documents/001_Science/Flares_in_Clusters_II/flaresinclustersii/lib/python3.6/site-packages/ipykernel_launcher.py:5: ResourceWarning: unclosed file <_io.FileIO name='../custom_aperture/116ca_tess2019091014345-s0008-0000000415678624-0000-s_lc.fits' mode='rb' closefd=True>\n",
      "  \"\"\"\n"
     ]
    },
    {
     "name": "stdout",
     "output_type": "stream",
     "text": [
      "MODE  custom\n",
      "MODE  savgol\n",
      "MODE  savgol\n"
     ]
    },
    {
     "name": "stderr",
     "output_type": "stream",
     "text": [
      "Found 1 candidate(s) in the (0,7583) gap.\n",
      "Found 3 candidate(s) in the (7583,12039) gap.\n",
      "/home/ekaterina/Documents/001_Science/Flares_in_Clusters_II/flaresinclustersii/lib/python3.6/site-packages/ipykernel_launcher.py:5: ResourceWarning: unclosed file <_io.FileIO name='../custom_aperture/117ca_tess2019091014370-s0008-0000000013713626-0000-s_lc.fits' mode='rb' closefd=True>\n",
      "  \"\"\"\n"
     ]
    },
    {
     "name": "stdout",
     "output_type": "stream",
     "text": [
      "MODE  custom\n",
      "MODE  savgol\n",
      "MODE  savgol\n"
     ]
    },
    {
     "name": "stderr",
     "output_type": "stream",
     "text": [
      "Found 0 candidate(s) in the (0,7583) gap.\n",
      "Found 0 candidate(s) in the (7583,12039) gap.\n",
      "/home/ekaterina/Documents/001_Science/Flares_in_Clusters_II/flaresinclustersii/lib/python3.6/site-packages/ipykernel_launcher.py:5: ResourceWarning: unclosed file <_io.FileIO name='../custom_aperture/117ca_tess2019102314031-s0008-0000000013713626-0000-s_lc.fits' mode='rb' closefd=True>\n",
      "  \"\"\"\n"
     ]
    },
    {
     "name": "stdout",
     "output_type": "stream",
     "text": [
      "MODE  custom\n",
      "MODE  savgol\n",
      "MODE  savgol\n"
     ]
    },
    {
     "name": "stderr",
     "output_type": "stream",
     "text": [
      "Found 0 candidate(s) in the (0,7583) gap.\n",
      "Found 0 candidate(s) in the (7583,12039) gap.\n",
      "/home/ekaterina/Documents/001_Science/Flares_in_Clusters_II/flaresinclustersii/lib/python3.6/site-packages/ipykernel_launcher.py:5: ResourceWarning: unclosed file <_io.FileIO name='../custom_aperture/117ca_tess2019102314173-s0008-0000000471012394-0000-s_lc.fits' mode='rb' closefd=True>\n",
      "  \"\"\"\n"
     ]
    },
    {
     "name": "stdout",
     "output_type": "stream",
     "text": [
      "MODE  custom\n",
      "MODE  savgol\n",
      "MODE  savgol\n"
     ]
    },
    {
     "name": "stderr",
     "output_type": "stream",
     "text": [
      "Found 0 candidate(s) in the (0,7583) gap.\n",
      "Found 0 candidate(s) in the (7583,12039) gap.\n",
      "/home/ekaterina/Documents/001_Science/Flares_in_Clusters_II/flaresinclustersii/lib/python3.6/site-packages/ipykernel_launcher.py:5: ResourceWarning: unclosed file <_io.FileIO name='../custom_aperture/117ca_tess2019102314210-s0010-0000000471012740-0000-s_lc.fits' mode='rb' closefd=True>\n",
      "  \"\"\"\n"
     ]
    },
    {
     "name": "stdout",
     "output_type": "stream",
     "text": [
      "MODE  custom\n",
      "MODE  savgol\n",
      "MODE  savgol\n"
     ]
    },
    {
     "name": "stderr",
     "output_type": "stream",
     "text": [
      "Found 0 candidate(s) in the (0,7342) gap.\n",
      "Found 0 candidate(s) in the (7342,14766) gap.\n",
      "/home/ekaterina/Documents/001_Science/Flares_in_Clusters_II/flaresinclustersii/lib/python3.6/site-packages/ipykernel_launcher.py:5: ResourceWarning: unclosed file <_io.FileIO name='../custom_aperture/118ca_tess2019091014425-s0009-0000000001539914-0000-s_lc.fits' mode='rb' closefd=True>\n",
      "  \"\"\"\n"
     ]
    },
    {
     "name": "stdout",
     "output_type": "stream",
     "text": [
      "MODE  custom\n",
      "MODE  savgol\n",
      "MODE  savgol\n"
     ]
    },
    {
     "name": "stderr",
     "output_type": "stream",
     "text": [
      "Found 1 candidate(s) in the (0,7349) gap.\n",
      "Found 1 candidate(s) in the (7349,14309) gap.\n",
      "/home/ekaterina/Documents/001_Science/Flares_in_Clusters_II/flaresinclustersii/lib/python3.6/site-packages/ipykernel_launcher.py:5: ResourceWarning: unclosed file <_io.FileIO name='../custom_aperture/119ca_tess2019091014441-s0009-0000000029780677-0000-s_lc.fits' mode='rb' closefd=True>\n",
      "  \"\"\"\n"
     ]
    },
    {
     "name": "stdout",
     "output_type": "stream",
     "text": [
      "MODE  custom\n",
      "MODE  savgol\n",
      "MODE  savgol\n"
     ]
    },
    {
     "name": "stderr",
     "output_type": "stream",
     "text": [
      "Found 1 candidate(s) in the (0,7349) gap.\n",
      "Found 0 candidate(s) in the (7349,14309) gap.\n",
      "/home/ekaterina/Documents/001_Science/Flares_in_Clusters_II/flaresinclustersii/lib/python3.6/site-packages/ipykernel_launcher.py:5: ResourceWarning: unclosed file <_io.FileIO name='../custom_aperture/11ca_tess2019090409285-s0002-0000000007150628-0000-s_lc.fits' mode='rb' closefd=True>\n",
      "  \"\"\"\n"
     ]
    },
    {
     "name": "stdout",
     "output_type": "stream",
     "text": [
      "MODE  custom\n",
      "MODE  savgol\n",
      "MODE  savgol\n"
     ]
    },
    {
     "name": "stderr",
     "output_type": "stream",
     "text": [
      "Found 0 candidate(s) in the (0,9077) gap.\n",
      "Found 0 candidate(s) in the (9077,18018) gap.\n",
      "/home/ekaterina/Documents/001_Science/Flares_in_Clusters_II/flaresinclustersii/lib/python3.6/site-packages/ipykernel_launcher.py:5: ResourceWarning: unclosed file <_io.FileIO name='../custom_aperture/120ca_tess2019091014580-s0009-0000000044984200-0000-s_lc.fits' mode='rb' closefd=True>\n",
      "  \"\"\"\n"
     ]
    },
    {
     "name": "stdout",
     "output_type": "stream",
     "text": [
      "MODE  custom\n",
      "MODE  savgol\n",
      "MODE  savgol\n"
     ]
    },
    {
     "name": "stderr",
     "output_type": "stream",
     "text": [
      "Found 0 candidate(s) in the (0,7349) gap.\n",
      "Found 1 candidate(s) in the (7349,14309) gap.\n",
      "/home/ekaterina/Documents/001_Science/Flares_in_Clusters_II/flaresinclustersii/lib/python3.6/site-packages/ipykernel_launcher.py:5: ResourceWarning: unclosed file <_io.FileIO name='../custom_aperture/121ca_tess2019091015002-s0009-0000000055099399-0000-s_lc.fits' mode='rb' closefd=True>\n",
      "  \"\"\"\n"
     ]
    },
    {
     "name": "stdout",
     "output_type": "stream",
     "text": [
      "MODE  custom\n",
      "MODE  savgol\n",
      "MODE  savgol\n"
     ]
    },
    {
     "name": "stderr",
     "output_type": "stream",
     "text": [
      "Found 2 candidate(s) in the (0,7349) gap.\n",
      "Found 1 candidate(s) in the (7349,14309) gap.\n",
      "/home/ekaterina/Documents/001_Science/Flares_in_Clusters_II/flaresinclustersii/lib/python3.6/site-packages/ipykernel_launcher.py:5: ResourceWarning: unclosed file <_io.FileIO name='../custom_aperture/122ca_tess2019091015032-s0009-0000000073118477-0000-s_lc.fits' mode='rb' closefd=True>\n",
      "  \"\"\"\n"
     ]
    },
    {
     "name": "stdout",
     "output_type": "stream",
     "text": [
      "MODE  custom\n",
      "MODE  savgol\n",
      "MODE  savgol\n"
     ]
    },
    {
     "name": "stderr",
     "output_type": "stream",
     "text": [
      "Found 0 candidate(s) in the (0,7349) gap.\n",
      "Found 0 candidate(s) in the (7349,14309) gap.\n",
      "/home/ekaterina/Documents/001_Science/Flares_in_Clusters_II/flaresinclustersii/lib/python3.6/site-packages/ipykernel_launcher.py:5: ResourceWarning: unclosed file <_io.FileIO name='../custom_aperture/123ca_tess2019100711253-s0009-0000000107012050-0000-s_lc.fits' mode='rb' closefd=True>\n",
      "  \"\"\"\n"
     ]
    },
    {
     "name": "stdout",
     "output_type": "stream",
     "text": [
      "MODE  custom\n",
      "MODE  savgol\n",
      "MODE  savgol\n"
     ]
    },
    {
     "name": "stderr",
     "output_type": "stream",
     "text": [
      "Found 0 candidate(s) in the (0,7349) gap.\n",
      "Found 1 candidate(s) in the (7349,14309) gap.\n",
      "/home/ekaterina/Documents/001_Science/Flares_in_Clusters_II/flaresinclustersii/lib/python3.6/site-packages/ipykernel_launcher.py:5: ResourceWarning: unclosed file <_io.FileIO name='../custom_aperture/124ca_tess2019091015090-s0009-0000000142052876-0000-s_lc.fits' mode='rb' closefd=True>\n",
      "  \"\"\"\n"
     ]
    },
    {
     "name": "stdout",
     "output_type": "stream",
     "text": [
      "MODE  custom\n",
      "MODE  savgol\n",
      "MODE  savgol\n"
     ]
    },
    {
     "name": "stderr",
     "output_type": "stream",
     "text": [
      "Found 3 candidate(s) in the (0,7349) gap.\n",
      "Found 2 candidate(s) in the (7349,14309) gap.\n",
      "/home/ekaterina/Documents/001_Science/Flares_in_Clusters_II/flaresinclustersii/lib/python3.6/site-packages/ipykernel_launcher.py:5: ResourceWarning: unclosed file <_io.FileIO name='../custom_aperture/125ca_tess2019091209395-s0009-0000000167894019-0000-s_lc.fits' mode='rb' closefd=True>\n",
      "  \"\"\"\n"
     ]
    },
    {
     "name": "stdout",
     "output_type": "stream",
     "text": [
      "MODE  custom\n",
      "MODE  savgol\n",
      "MODE  savgol\n"
     ]
    },
    {
     "name": "stderr",
     "output_type": "stream",
     "text": [
      "Found 2 candidate(s) in the (0,7349) gap.\n",
      "Found 2 candidate(s) in the (7349,14309) gap.\n",
      "/home/ekaterina/Documents/001_Science/Flares_in_Clusters_II/flaresinclustersii/lib/python3.6/site-packages/ipykernel_launcher.py:5: ResourceWarning: unclosed file <_io.FileIO name='../custom_aperture/126ca_tess2019091209414-s0009-0000000220429097-0000-s_lc.fits' mode='rb' closefd=True>\n",
      "  \"\"\"\n"
     ]
    },
    {
     "name": "stdout",
     "output_type": "stream",
     "text": [
      "MODE  custom\n",
      "MODE  savgol\n",
      "MODE  savgol\n"
     ]
    },
    {
     "name": "stderr",
     "output_type": "stream",
     "text": [
      "Found 1 candidate(s) in the (0,7349) gap.\n",
      "Found 1 candidate(s) in the (7349,14309) gap.\n",
      "/home/ekaterina/Documents/001_Science/Flares_in_Clusters_II/flaresinclustersii/lib/python3.6/site-packages/ipykernel_launcher.py:5: ResourceWarning: unclosed file <_io.FileIO name='../custom_aperture/127ca_tess2019091209454-s0009-0000000272349442-0000-s_lc.fits' mode='rb' closefd=True>\n",
      "  \"\"\"\n"
     ]
    },
    {
     "name": "stdout",
     "output_type": "stream",
     "text": [
      "MODE  custom\n",
      "MODE  savgol\n",
      "MODE  savgol\n"
     ]
    },
    {
     "name": "stderr",
     "output_type": "stream",
     "text": [
      "Found 8 candidate(s) in the (0,7349) gap.\n",
      "Found 17 candidate(s) in the (7349,14309) gap.\n",
      "/home/ekaterina/Documents/001_Science/Flares_in_Clusters_II/flaresinclustersii/lib/python3.6/site-packages/ipykernel_launcher.py:5: ResourceWarning: unclosed file <_io.FileIO name='../custom_aperture/128ca_tess2019091209473-s0010-0000000002470992-0000-s_lc.fits' mode='rb' closefd=True>\n",
      "  \"\"\"\n"
     ]
    },
    {
     "name": "stdout",
     "output_type": "stream",
     "text": [
      "MODE  custom\n",
      "MODE  savgol\n",
      "MODE  savgol\n"
     ]
    },
    {
     "name": "stderr",
     "output_type": "stream",
     "text": [
      "Found 0 candidate(s) in the (0,7342) gap.\n",
      "Found 4 candidate(s) in the (7342,14766) gap.\n",
      "/home/ekaterina/Documents/001_Science/Flares_in_Clusters_II/flaresinclustersii/lib/python3.6/site-packages/ipykernel_launcher.py:5: ResourceWarning: unclosed file <_io.FileIO name='../custom_aperture/128ca_tess2019102414065-s0010-0000000002470992-0000-s_lc.fits' mode='rb' closefd=True>\n",
      "  \"\"\"\n"
     ]
    },
    {
     "name": "stdout",
     "output_type": "stream",
     "text": [
      "MODE  custom\n",
      "MODE  savgol\n",
      "MODE  savgol\n"
     ]
    },
    {
     "name": "stderr",
     "output_type": "stream",
     "text": [
      "Found 1 candidate(s) in the (0,7342) gap.\n",
      "Found 3 candidate(s) in the (7342,14766) gap.\n",
      "/home/ekaterina/Documents/001_Science/Flares_in_Clusters_II/flaresinclustersii/lib/python3.6/site-packages/ipykernel_launcher.py:5: ResourceWarning: unclosed file <_io.FileIO name='../custom_aperture/129ca_tess2019091209500-s0010-0000000005630425-0000-s_lc.fits' mode='rb' closefd=True>\n",
      "  \"\"\"\n"
     ]
    },
    {
     "name": "stdout",
     "output_type": "stream",
     "text": [
      "MODE  custom\n",
      "Do a coarse spline interpolation to remove trends.\n",
      "MODE  savgol\n",
      "MODE  savgol\n"
     ]
    },
    {
     "name": "stderr",
     "output_type": "stream",
     "text": [
      "Found 0 candidate(s) in the (0,7491) gap.\n",
      "Found 0 candidate(s) in the (7491,15065) gap.\n",
      "/home/ekaterina/Documents/001_Science/Flares_in_Clusters_II/flaresinclustersii/lib/python3.6/site-packages/ipykernel_launcher.py:5: ResourceWarning: unclosed file <_io.FileIO name='../custom_aperture/12ca_tess2019090409343-s0002-0000000029780677-0000-s_lc.fits' mode='rb' closefd=True>\n",
      "  \"\"\"\n"
     ]
    },
    {
     "name": "stdout",
     "output_type": "stream",
     "text": [
      "MODE  custom\n",
      "MODE  savgol\n",
      "MODE  savgol\n"
     ]
    },
    {
     "name": "stderr",
     "output_type": "stream",
     "text": [
      "Found 0 candidate(s) in the (0,9077) gap.\n",
      "Found 5 candidate(s) in the (9077,18018) gap.\n",
      "/home/ekaterina/Documents/001_Science/Flares_in_Clusters_II/flaresinclustersii/lib/python3.6/site-packages/ipykernel_launcher.py:5: ResourceWarning: unclosed file <_io.FileIO name='../custom_aperture/130ca_tess2019091210013-s0010-0000000029780677-0000-s_lc.fits' mode='rb' closefd=True>\n",
      "  \"\"\"\n"
     ]
    },
    {
     "name": "stdout",
     "output_type": "stream",
     "text": [
      "MODE  custom\n",
      "MODE  savgol\n",
      "MODE  savgol\n"
     ]
    },
    {
     "name": "stderr",
     "output_type": "stream",
     "text": [
      "Found 0 candidate(s) in the (0,7342) gap.\n",
      "Found 0 candidate(s) in the (7342,14766) gap.\n",
      "/home/ekaterina/Documents/001_Science/Flares_in_Clusters_II/flaresinclustersii/lib/python3.6/site-packages/ipykernel_launcher.py:5: ResourceWarning: unclosed file <_io.FileIO name='../custom_aperture/131ca_tess2019091210055-s0010-0000000044984200-0000-s_lc.fits' mode='rb' closefd=True>\n",
      "  \"\"\"\n"
     ]
    },
    {
     "name": "stdout",
     "output_type": "stream",
     "text": [
      "MODE  custom\n",
      "MODE  savgol\n",
      "MODE  savgol\n"
     ]
    },
    {
     "name": "stderr",
     "output_type": "stream",
     "text": [
      "Found 1 candidate(s) in the (0,7342) gap.\n",
      "Found 2 candidate(s) in the (7342,14766) gap.\n",
      "/home/ekaterina/Documents/001_Science/Flares_in_Clusters_II/flaresinclustersii/lib/python3.6/site-packages/ipykernel_launcher.py:5: ResourceWarning: unclosed file <_io.FileIO name='../custom_aperture/132ca_tess2019091210104-s0010-0000000061476051-0000-s_lc.fits' mode='rb' closefd=True>\n",
      "  \"\"\"\n"
     ]
    },
    {
     "name": "stdout",
     "output_type": "stream",
     "text": [
      "MODE  custom\n",
      "MODE  savgol\n",
      "MODE  savgol\n"
     ]
    },
    {
     "name": "stderr",
     "output_type": "stream",
     "text": [
      "Found 0 candidate(s) in the (0,7342) gap.\n",
      "Found 0 candidate(s) in the (7342,14766) gap.\n",
      "/home/ekaterina/Documents/001_Science/Flares_in_Clusters_II/flaresinclustersii/lib/python3.6/site-packages/ipykernel_launcher.py:5: ResourceWarning: unclosed file <_io.FileIO name='../custom_aperture/133ca_tess2019091212342-s0010-0000000098874143-0000-s_lc.fits' mode='rb' closefd=True>\n",
      "  \"\"\"\n"
     ]
    },
    {
     "name": "stdout",
     "output_type": "stream",
     "text": [
      "MODE  custom\n",
      "MODE  savgol\n",
      "MODE  savgol\n"
     ]
    },
    {
     "name": "stderr",
     "output_type": "stream",
     "text": [
      "Found 0 candidate(s) in the (0,7342) gap.\n",
      "Found 0 candidate(s) in the (7342,14766) gap.\n",
      "/home/ekaterina/Documents/001_Science/Flares_in_Clusters_II/flaresinclustersii/lib/python3.6/site-packages/ipykernel_launcher.py:5: ResourceWarning: unclosed file <_io.FileIO name='../custom_aperture/134ca_tess2019100711282-s0010-0000000107012050-0000-s_lc.fits' mode='rb' closefd=True>\n",
      "  \"\"\"\n"
     ]
    },
    {
     "name": "stdout",
     "output_type": "stream",
     "text": [
      "MODE  custom\n",
      "MODE  savgol\n",
      "MODE  savgol\n"
     ]
    },
    {
     "name": "stderr",
     "output_type": "stream",
     "text": [
      "Found 0 candidate(s) in the (0,7342) gap.\n",
      "Found 0 candidate(s) in the (7342,14766) gap.\n",
      "/home/ekaterina/Documents/001_Science/Flares_in_Clusters_II/flaresinclustersii/lib/python3.6/site-packages/ipykernel_launcher.py:5: ResourceWarning: unclosed file <_io.FileIO name='../custom_aperture/135ca_tess2019091214063-s0010-0000000142052876-0000-s_lc.fits' mode='rb' closefd=True>\n",
      "  \"\"\"\n"
     ]
    },
    {
     "name": "stdout",
     "output_type": "stream",
     "text": [
      "MODE  custom\n",
      "MODE  savgol\n",
      "MODE  savgol\n"
     ]
    },
    {
     "name": "stderr",
     "output_type": "stream",
     "text": [
      "Found 1 candidate(s) in the (0,7342) gap.\n",
      "Found 3 candidate(s) in the (7342,14766) gap.\n",
      "/home/ekaterina/Documents/001_Science/Flares_in_Clusters_II/flaresinclustersii/lib/python3.6/site-packages/ipykernel_launcher.py:5: ResourceWarning: unclosed file <_io.FileIO name='../custom_aperture/136ca_tess2019091214223-s0010-0000000165231308-0000-s_lc.fits' mode='rb' closefd=True>\n",
      "  \"\"\"\n"
     ]
    },
    {
     "name": "stdout",
     "output_type": "stream",
     "text": [
      "MODE  custom\n",
      "Do a coarse spline interpolation to remove trends.\n",
      "MODE  savgol\n",
      "MODE  savgol\n"
     ]
    },
    {
     "name": "stderr",
     "output_type": "stream",
     "text": [
      "Found 0 candidate(s) in the (0,7491) gap.\n",
      "Found 0 candidate(s) in the (7491,15065) gap.\n",
      "/home/ekaterina/Documents/001_Science/Flares_in_Clusters_II/flaresinclustersii/lib/python3.6/site-packages/ipykernel_launcher.py:5: ResourceWarning: unclosed file <_io.FileIO name='../custom_aperture/137ca_tess2019091214252-s0010-0000000167894019-0000-s_lc.fits' mode='rb' closefd=True>\n",
      "  \"\"\"\n"
     ]
    },
    {
     "name": "stdout",
     "output_type": "stream",
     "text": [
      "MODE  custom\n",
      "MODE  savgol\n",
      "MODE  savgol\n"
     ]
    },
    {
     "name": "stderr",
     "output_type": "stream",
     "text": [
      "Found 2 candidate(s) in the (0,7342) gap.\n",
      "Found 1 candidate(s) in the (7342,14766) gap.\n",
      "/home/ekaterina/Documents/001_Science/Flares_in_Clusters_II/flaresinclustersii/lib/python3.6/site-packages/ipykernel_launcher.py:5: ResourceWarning: unclosed file <_io.FileIO name='../custom_aperture/138ca_tess2019091214264-s0010-0000000204721469-0000-s_lc.fits' mode='rb' closefd=True>\n",
      "  \"\"\"\n"
     ]
    },
    {
     "name": "stdout",
     "output_type": "stream",
     "text": [
      "MODE  custom\n",
      "MODE  savgol\n",
      "MODE  savgol\n"
     ]
    },
    {
     "name": "stderr",
     "output_type": "stream",
     "text": [
      "Found 0 candidate(s) in the (0,7342) gap.\n",
      "Found 0 candidate(s) in the (7342,14766) gap.\n",
      "/home/ekaterina/Documents/001_Science/Flares_in_Clusters_II/flaresinclustersii/lib/python3.6/site-packages/ipykernel_launcher.py:5: ResourceWarning: unclosed file <_io.FileIO name='../custom_aperture/139ca_tess2019091214282-s0010-0000000220429097-0000-s_lc.fits' mode='rb' closefd=True>\n",
      "  \"\"\"\n"
     ]
    },
    {
     "name": "stdout",
     "output_type": "stream",
     "text": [
      "MODE  custom\n",
      "MODE  savgol\n",
      "MODE  savgol\n"
     ]
    },
    {
     "name": "stderr",
     "output_type": "stream",
     "text": [
      "Found 0 candidate(s) in the (0,7342) gap.\n",
      "Found 1 candidate(s) in the (7342,14766) gap.\n",
      "/home/ekaterina/Documents/001_Science/Flares_in_Clusters_II/flaresinclustersii/lib/python3.6/site-packages/ipykernel_launcher.py:5: ResourceWarning: unclosed file <_io.FileIO name='../custom_aperture/13ca_tess2019090409390-s0002-0000000034014829-0000-s_lc.fits' mode='rb' closefd=True>\n",
      "  \"\"\"\n"
     ]
    },
    {
     "name": "stdout",
     "output_type": "stream",
     "text": [
      "MODE  custom\n",
      "MODE  savgol\n",
      "MODE  savgol\n"
     ]
    },
    {
     "name": "stderr",
     "output_type": "stream",
     "text": [
      "Found 1 candidate(s) in the (0,9077) gap.\n",
      "Found 0 candidate(s) in the (9077,18018) gap.\n",
      "/home/ekaterina/Documents/001_Science/Flares_in_Clusters_II/flaresinclustersii/lib/python3.6/site-packages/ipykernel_launcher.py:5: ResourceWarning: unclosed file <_io.FileIO name='../custom_aperture/140ca_tess2019091214301-s0010-0000000248223026-0000-s_lc.fits' mode='rb' closefd=True>\n",
      "  \"\"\"\n"
     ]
    },
    {
     "name": "stdout",
     "output_type": "stream",
     "text": [
      "MODE  custom\n",
      "MODE  savgol\n",
      "MODE  savgol\n"
     ]
    },
    {
     "name": "stderr",
     "output_type": "stream",
     "text": [
      "Found 1 candidate(s) in the (0,7342) gap.\n",
      "Found 2 candidate(s) in the (7342,14766) gap.\n",
      "/home/ekaterina/Documents/001_Science/Flares_in_Clusters_II/flaresinclustersii/lib/python3.6/site-packages/ipykernel_launcher.py:5: ResourceWarning: unclosed file <_io.FileIO name='../custom_aperture/140ca_tess2019102508334-s0010-0000000248223026-0000-s_lc.fits' mode='rb' closefd=True>\n",
      "  \"\"\"\n"
     ]
    },
    {
     "name": "stdout",
     "output_type": "stream",
     "text": [
      "MODE  custom\n",
      "MODE  savgol\n",
      "MODE  savgol\n"
     ]
    },
    {
     "name": "stderr",
     "output_type": "stream",
     "text": [
      "Found 1 candidate(s) in the (0,7342) gap.\n",
      "Found 2 candidate(s) in the (7342,14766) gap.\n",
      "/home/ekaterina/Documents/001_Science/Flares_in_Clusters_II/flaresinclustersii/lib/python3.6/site-packages/ipykernel_launcher.py:5: ResourceWarning: unclosed file <_io.FileIO name='../custom_aperture/141ca_tess2019091214312-s0010-0000000272349442-0000-s_lc.fits' mode='rb' closefd=True>\n",
      "  \"\"\"\n"
     ]
    },
    {
     "name": "stdout",
     "output_type": "stream",
     "text": [
      "MODE  custom\n",
      "MODE  savgol\n",
      "MODE  savgol\n"
     ]
    },
    {
     "name": "stderr",
     "output_type": "stream",
     "text": [
      "Found 7 candidate(s) in the (0,7342) gap.\n",
      "Found 5 candidate(s) in the (7342,14766) gap.\n",
      "/home/ekaterina/Documents/001_Science/Flares_in_Clusters_II/flaresinclustersii/lib/python3.6/site-packages/ipykernel_launcher.py:5: ResourceWarning: unclosed file <_io.FileIO name='../custom_aperture/142ca_tess2019091214440-s0010-0000000322568489-0000-s_lc.fits' mode='rb' closefd=True>\n",
      "  \"\"\"\n"
     ]
    },
    {
     "name": "stdout",
     "output_type": "stream",
     "text": [
      "MODE  custom\n",
      "MODE  savgol\n",
      "MODE  savgol\n"
     ]
    },
    {
     "name": "stderr",
     "output_type": "stream",
     "text": [
      "Found 0 candidate(s) in the (0,7342) gap.\n",
      "Found 0 candidate(s) in the (7342,14766) gap.\n",
      "/home/ekaterina/Documents/001_Science/Flares_in_Clusters_II/flaresinclustersii/lib/python3.6/site-packages/ipykernel_launcher.py:5: ResourceWarning: unclosed file <_io.FileIO name='../custom_aperture/142ca_tess2019102508382-s0010-0000000322568489-0000-s_lc.fits' mode='rb' closefd=True>\n",
      "  \"\"\"\n"
     ]
    },
    {
     "name": "stdout",
     "output_type": "stream",
     "text": [
      "MODE  custom\n",
      "MODE  savgol\n",
      "MODE  savgol\n"
     ]
    },
    {
     "name": "stderr",
     "output_type": "stream",
     "text": [
      "Found 0 candidate(s) in the (0,7342) gap.\n",
      "Found 0 candidate(s) in the (7342,14766) gap.\n",
      "/home/ekaterina/Documents/001_Science/Flares_in_Clusters_II/flaresinclustersii/lib/python3.6/site-packages/ipykernel_launcher.py:5: ResourceWarning: unclosed file <_io.FileIO name='../custom_aperture/143ca_tess2019100711324-s0010-0000000332470458-0000-s_lc.fits' mode='rb' closefd=True>\n",
      "  \"\"\"\n"
     ]
    },
    {
     "name": "stdout",
     "output_type": "stream",
     "text": [
      "MODE  custom\n",
      "MODE  savgol\n",
      "MODE  savgol\n"
     ]
    },
    {
     "name": "stderr",
     "output_type": "stream",
     "text": [
      "Found 1 candidate(s) in the (0,7342) gap.\n",
      "Found 1 candidate(s) in the (7342,14766) gap.\n",
      "/home/ekaterina/Documents/001_Science/Flares_in_Clusters_II/flaresinclustersii/lib/python3.6/site-packages/ipykernel_launcher.py:5: ResourceWarning: unclosed file <_io.FileIO name='../custom_aperture/144ca_tess2019091214471-s0010-0000000398985964-0000-s_lc.fits' mode='rb' closefd=True>\n",
      "  \"\"\"\n"
     ]
    },
    {
     "name": "stdout",
     "output_type": "stream",
     "text": [
      "MODE  custom\n",
      "MODE  savgol\n",
      "MODE  savgol\n"
     ]
    },
    {
     "name": "stderr",
     "output_type": "stream",
     "text": [
      "Found 1 candidate(s) in the (0,7342) gap.\n",
      "Found 0 candidate(s) in the (7342,14766) gap.\n",
      "/home/ekaterina/Documents/001_Science/Flares_in_Clusters_II/flaresinclustersii/lib/python3.6/site-packages/ipykernel_launcher.py:5: ResourceWarning: unclosed file <_io.FileIO name='../custom_aperture/145ca_tess2019091214481-s0010-0000000415839928-0000-s_lc.fits' mode='rb' closefd=True>\n",
      "  \"\"\"\n"
     ]
    },
    {
     "name": "stdout",
     "output_type": "stream",
     "text": [
      "MODE  custom\n",
      "MODE  savgol\n",
      "MODE  savgol\n"
     ]
    },
    {
     "name": "stderr",
     "output_type": "stream",
     "text": [
      "Found 0 candidate(s) in the (0,7342) gap.\n",
      "Found 0 candidate(s) in the (7342,14766) gap.\n",
      "/home/ekaterina/Documents/001_Science/Flares_in_Clusters_II/flaresinclustersii/lib/python3.6/site-packages/ipykernel_launcher.py:5: ResourceWarning: unclosed file <_io.FileIO name='../custom_aperture/145ca_tess2019102414512-s0010-0000000415839928-0000-s_lc.fits' mode='rb' closefd=True>\n",
      "  \"\"\"\n"
     ]
    },
    {
     "name": "stdout",
     "output_type": "stream",
     "text": [
      "MODE  custom\n",
      "MODE  savgol\n",
      "MODE  savgol\n"
     ]
    },
    {
     "name": "stderr",
     "output_type": "stream",
     "text": [
      "Found 0 candidate(s) in the (0,7342) gap.\n",
      "Found 0 candidate(s) in the (7342,14766) gap.\n",
      "/home/ekaterina/Documents/001_Science/Flares_in_Clusters_II/flaresinclustersii/lib/python3.6/site-packages/ipykernel_launcher.py:5: ResourceWarning: unclosed file <_io.FileIO name='../custom_aperture/146ca_tess2019091214492-s0010-0000000345925651-0000-s_lc.fits' mode='rb' closefd=True>\n",
      "  \"\"\"\n"
     ]
    },
    {
     "name": "stdout",
     "output_type": "stream",
     "text": [
      "MODE  custom\n",
      "MODE  savgol\n",
      "MODE  savgol\n"
     ]
    },
    {
     "name": "stderr",
     "output_type": "stream",
     "text": [
      "Found 0 candidate(s) in the (0,7342) gap.\n",
      "Found 0 candidate(s) in the (7342,14766) gap.\n",
      "/home/ekaterina/Documents/001_Science/Flares_in_Clusters_II/flaresinclustersii/lib/python3.6/site-packages/ipykernel_launcher.py:5: ResourceWarning: unclosed file <_io.FileIO name='../custom_aperture/146ca_tess2019102314213-s0010-0000000471012740-0000-s_lc.fits' mode='rb' closefd=True>\n",
      "  \"\"\"\n"
     ]
    },
    {
     "name": "stdout",
     "output_type": "stream",
     "text": [
      "MODE  custom\n",
      "MODE  savgol\n",
      "MODE  savgol\n"
     ]
    },
    {
     "name": "stderr",
     "output_type": "stream",
     "text": [
      "Found 0 candidate(s) in the (0,7342) gap.\n",
      "Found 0 candidate(s) in the (7342,14766) gap.\n",
      "/home/ekaterina/Documents/001_Science/Flares_in_Clusters_II/flaresinclustersii/lib/python3.6/site-packages/ipykernel_launcher.py:5: ResourceWarning: unclosed file <_io.FileIO name='../custom_aperture/147ca_tess2019091214511-s0011-0000000029780677-0000-s_lc.fits' mode='rb' closefd=True>\n",
      "  \"\"\"\n"
     ]
    },
    {
     "name": "stdout",
     "output_type": "stream",
     "text": [
      "MODE  custom\n",
      "MODE  savgol\n",
      "MODE  savgol\n"
     ]
    },
    {
     "name": "stderr",
     "output_type": "stream",
     "text": [
      "Found 1 candidate(s) in the (0,6586) gap.\n",
      "Found 0 candidate(s) in the (6586,13204) gap.\n",
      "/home/ekaterina/Documents/001_Science/Flares_in_Clusters_II/flaresinclustersii/lib/python3.6/site-packages/ipykernel_launcher.py:5: ResourceWarning: unclosed file <_io.FileIO name='../custom_aperture/148ca_tess2019091214552-s0011-0000000030101427-0000-s_lc.fits' mode='rb' closefd=True>\n",
      "  \"\"\"\n"
     ]
    },
    {
     "name": "stdout",
     "output_type": "stream",
     "text": [
      "MODE  custom\n",
      "Do a coarse spline interpolation to remove trends.\n",
      "MODE  savgol\n",
      "MODE  savgol\n"
     ]
    },
    {
     "name": "stderr",
     "output_type": "stream",
     "text": [
      "Found 0 candidate(s) in the (0,6735) gap.\n",
      "Found 0 candidate(s) in the (6735,13503) gap.\n",
      "/home/ekaterina/Documents/001_Science/Flares_in_Clusters_II/flaresinclustersii/lib/python3.6/site-packages/ipykernel_launcher.py:5: ResourceWarning: unclosed file <_io.FileIO name='../custom_aperture/149ca_tess2019091214563-s0011-0000000125835702-0000-s_lc.fits' mode='rb' closefd=True>\n",
      "  \"\"\"\n"
     ]
    },
    {
     "name": "stdout",
     "output_type": "stream",
     "text": [
      "MODE  custom\n",
      "MODE  savgol\n",
      "MODE  savgol\n"
     ]
    },
    {
     "name": "stderr",
     "output_type": "stream",
     "text": [
      "Found 0 candidate(s) in the (0,6586) gap.\n",
      "Found 0 candidate(s) in the (6586,13204) gap.\n",
      "/home/ekaterina/Documents/001_Science/Flares_in_Clusters_II/flaresinclustersii/lib/python3.6/site-packages/ipykernel_launcher.py:5: ResourceWarning: unclosed file <_io.FileIO name='../custom_aperture/149ca_tess2019091214575-s0011-0000000125835702-0000-s_lc.fits' mode='rb' closefd=True>\n",
      "  \"\"\"\n"
     ]
    },
    {
     "name": "stdout",
     "output_type": "stream",
     "text": [
      "MODE  custom\n",
      "MODE  savgol\n",
      "MODE  savgol\n"
     ]
    },
    {
     "name": "stderr",
     "output_type": "stream",
     "text": [
      "Found 1 candidate(s) in the (0,6586) gap.\n",
      "Found 0 candidate(s) in the (6586,13204) gap.\n",
      "/home/ekaterina/Documents/001_Science/Flares_in_Clusters_II/flaresinclustersii/lib/python3.6/site-packages/ipykernel_launcher.py:5: ResourceWarning: unclosed file <_io.FileIO name='../custom_aperture/149ca_tess2019091610450-s0011-0000000125835702-0000-s_lc.fits' mode='rb' closefd=True>\n",
      "  \"\"\"\n"
     ]
    },
    {
     "name": "stdout",
     "output_type": "stream",
     "text": [
      "MODE  custom\n",
      "MODE  savgol\n",
      "MODE  savgol\n"
     ]
    },
    {
     "name": "stderr",
     "output_type": "stream",
     "text": [
      "Found 1 candidate(s) in the (0,6586) gap.\n",
      "Found 0 candidate(s) in the (6586,13204) gap.\n",
      "/home/ekaterina/Documents/001_Science/Flares_in_Clusters_II/flaresinclustersii/lib/python3.6/site-packages/ipykernel_launcher.py:5: ResourceWarning: unclosed file <_io.FileIO name='../custom_aperture/14ca_tess2019090410495-s0002-0000000077041175-0000-s_lc.fits' mode='rb' closefd=True>\n",
      "  \"\"\"\n"
     ]
    },
    {
     "name": "stdout",
     "output_type": "stream",
     "text": [
      "MODE  custom\n",
      "MODE  savgol\n",
      "MODE  savgol\n"
     ]
    },
    {
     "name": "stderr",
     "output_type": "stream",
     "text": [
      "Found 0 candidate(s) in the (0,9077) gap.\n",
      "Found 0 candidate(s) in the (9077,18018) gap.\n",
      "/home/ekaterina/Documents/001_Science/Flares_in_Clusters_II/flaresinclustersii/lib/python3.6/site-packages/ipykernel_launcher.py:5: ResourceWarning: unclosed file <_io.FileIO name='../custom_aperture/150ca_tess2019091610544-s0011-0000000142052876-0000-s_lc.fits' mode='rb' closefd=True>\n",
      "  \"\"\"\n"
     ]
    },
    {
     "name": "stdout",
     "output_type": "stream",
     "text": [
      "MODE  custom\n",
      "MODE  savgol\n",
      "MODE  savgol\n"
     ]
    },
    {
     "name": "stderr",
     "output_type": "stream",
     "text": [
      "Found 4 candidate(s) in the (0,6586) gap.\n",
      "Found 1 candidate(s) in the (6586,13204) gap.\n",
      "/home/ekaterina/Documents/001_Science/Flares_in_Clusters_II/flaresinclustersii/lib/python3.6/site-packages/ipykernel_launcher.py:5: ResourceWarning: unclosed file <_io.FileIO name='../custom_aperture/151ca_tess2019091610564-s0011-0000000167894019-0000-s_lc.fits' mode='rb' closefd=True>\n",
      "  \"\"\"\n"
     ]
    },
    {
     "name": "stdout",
     "output_type": "stream",
     "text": [
      "MODE  custom\n",
      "MODE  savgol\n",
      "MODE  savgol\n"
     ]
    },
    {
     "name": "stderr",
     "output_type": "stream",
     "text": [
      "Found 0 candidate(s) in the (0,6586) gap.\n",
      "Found 1 candidate(s) in the (6586,13204) gap.\n",
      "/home/ekaterina/Documents/001_Science/Flares_in_Clusters_II/flaresinclustersii/lib/python3.6/site-packages/ipykernel_launcher.py:5: ResourceWarning: unclosed file <_io.FileIO name='../custom_aperture/151ca_tess2019102510182-s0011-0000000167894019-0000-s_lc.fits' mode='rb' closefd=True>\n",
      "  \"\"\"\n"
     ]
    },
    {
     "name": "stdout",
     "output_type": "stream",
     "text": [
      "MODE  custom\n",
      "MODE  savgol\n",
      "MODE  savgol\n"
     ]
    },
    {
     "name": "stderr",
     "output_type": "stream",
     "text": [
      "Found 0 candidate(s) in the (0,6586) gap.\n",
      "Found 0 candidate(s) in the (6586,13204) gap.\n",
      "/home/ekaterina/Documents/001_Science/Flares_in_Clusters_II/flaresinclustersii/lib/python3.6/site-packages/ipykernel_launcher.py:5: ResourceWarning: unclosed file <_io.FileIO name='../custom_aperture/152ca_tess2019091614483-s0011-0000000220429097-0000-s_lc.fits' mode='rb' closefd=True>\n",
      "  \"\"\"\n"
     ]
    },
    {
     "name": "stdout",
     "output_type": "stream",
     "text": [
      "MODE  custom\n",
      "MODE  savgol\n",
      "MODE  savgol\n"
     ]
    },
    {
     "name": "stderr",
     "output_type": "stream",
     "text": [
      "Found 0 candidate(s) in the (0,6586) gap.\n",
      "Found 0 candidate(s) in the (6586,13204) gap.\n",
      "/home/ekaterina/Documents/001_Science/Flares_in_Clusters_II/flaresinclustersii/lib/python3.6/site-packages/ipykernel_launcher.py:5: ResourceWarning: unclosed file <_io.FileIO name='../custom_aperture/152ca_tess2019102510494-s0011-0000000220429097-0000-s_lc.fits' mode='rb' closefd=True>\n",
      "  \"\"\"\n"
     ]
    },
    {
     "name": "stdout",
     "output_type": "stream",
     "text": [
      "MODE  custom\n",
      "MODE  savgol\n",
      "MODE  savgol\n"
     ]
    },
    {
     "name": "stderr",
     "output_type": "stream",
     "text": [
      "Found 0 candidate(s) in the (0,6586) gap.\n",
      "Found 0 candidate(s) in the (6586,13204) gap.\n",
      "/home/ekaterina/Documents/001_Science/Flares_in_Clusters_II/flaresinclustersii/lib/python3.6/site-packages/ipykernel_launcher.py:5: ResourceWarning: unclosed file <_io.FileIO name='../custom_aperture/153ca_tess2019091614545-s0011-0000000248223026-0000-s_lc.fits' mode='rb' closefd=True>\n",
      "  \"\"\"\n"
     ]
    },
    {
     "name": "stdout",
     "output_type": "stream",
     "text": [
      "MODE  custom\n",
      "MODE  savgol\n",
      "MODE  savgol\n"
     ]
    },
    {
     "name": "stderr",
     "output_type": "stream",
     "text": [
      "Found 0 candidate(s) in the (0,6586) gap.\n",
      "Found 2 candidate(s) in the (6586,13204) gap.\n",
      "/home/ekaterina/Documents/001_Science/Flares_in_Clusters_II/flaresinclustersii/lib/python3.6/site-packages/ipykernel_launcher.py:5: ResourceWarning: unclosed file <_io.FileIO name='../custom_aperture/154ca_tess2019091614570-s0011-0000000278199738-0000-s_lc.fits' mode='rb' closefd=True>\n",
      "  \"\"\"\n"
     ]
    },
    {
     "name": "stdout",
     "output_type": "stream",
     "text": [
      "MODE  custom\n",
      "MODE  savgol\n",
      "MODE  savgol\n"
     ]
    },
    {
     "name": "stderr",
     "output_type": "stream",
     "text": [
      "Found 0 candidate(s) in the (0,6586) gap.\n",
      "Found 0 candidate(s) in the (6586,13204) gap.\n",
      "/home/ekaterina/Documents/001_Science/Flares_in_Clusters_II/flaresinclustersii/lib/python3.6/site-packages/ipykernel_launcher.py:5: ResourceWarning: unclosed file <_io.FileIO name='../custom_aperture/155ca_tess2019091615020-s0011-0000000322568489-0000-s_lc.fits' mode='rb' closefd=True>\n",
      "  \"\"\"\n"
     ]
    },
    {
     "name": "stdout",
     "output_type": "stream",
     "text": [
      "MODE  custom\n",
      "MODE  savgol\n",
      "MODE  savgol\n"
     ]
    },
    {
     "name": "stderr",
     "output_type": "stream",
     "text": [
      "Found 0 candidate(s) in the (0,6586) gap.\n",
      "Found 0 candidate(s) in the (6586,13204) gap.\n",
      "/home/ekaterina/Documents/001_Science/Flares_in_Clusters_II/flaresinclustersii/lib/python3.6/site-packages/ipykernel_launcher.py:5: ResourceWarning: unclosed file <_io.FileIO name='../custom_aperture/156ca_tess2019091615052-s0011-0000000369863567-0000-s_lc.fits' mode='rb' closefd=True>\n",
      "  \"\"\"\n"
     ]
    },
    {
     "name": "stdout",
     "output_type": "stream",
     "text": [
      "MODE  custom\n",
      "MODE  savgol\n",
      "MODE  savgol\n"
     ]
    },
    {
     "name": "stderr",
     "output_type": "stream",
     "text": [
      "Found 0 candidate(s) in the (0,6586) gap.\n",
      "Found 0 candidate(s) in the (6586,13204) gap.\n",
      "/home/ekaterina/Documents/001_Science/Flares_in_Clusters_II/flaresinclustersii/lib/python3.6/site-packages/ipykernel_launcher.py:5: ResourceWarning: unclosed file <_io.FileIO name='../custom_aperture/156ca_tess2019102509052-s0011-0000000369863567-0000-s_lc.fits' mode='rb' closefd=True>\n",
      "  \"\"\"\n"
     ]
    },
    {
     "name": "stdout",
     "output_type": "stream",
     "text": [
      "MODE  custom\n",
      "MODE  savgol\n",
      "MODE  savgol\n"
     ]
    },
    {
     "name": "stderr",
     "output_type": "stream",
     "text": [
      "Found 0 candidate(s) in the (0,6586) gap.\n",
      "Found 0 candidate(s) in the (6586,13204) gap.\n",
      "/home/ekaterina/Documents/001_Science/Flares_in_Clusters_II/flaresinclustersii/lib/python3.6/site-packages/ipykernel_launcher.py:5: ResourceWarning: unclosed file <_io.FileIO name='../custom_aperture/156ca_tess2019102509054-s0011-0000000369863567-0000-s_lc.fits' mode='rb' closefd=True>\n",
      "  \"\"\"\n"
     ]
    },
    {
     "name": "stdout",
     "output_type": "stream",
     "text": [
      "MODE  custom\n",
      "MODE  savgol\n",
      "MODE  savgol\n"
     ]
    },
    {
     "name": "stderr",
     "output_type": "stream",
     "text": [
      "Found 0 candidate(s) in the (0,6586) gap.\n",
      "Found 0 candidate(s) in the (6586,13204) gap.\n",
      "/home/ekaterina/Documents/001_Science/Flares_in_Clusters_II/flaresinclustersii/lib/python3.6/site-packages/ipykernel_launcher.py:5: ResourceWarning: unclosed file <_io.FileIO name='../custom_aperture/157ca_tess2019091615122-s0011-0000000388857263-0000-s_lc.fits' mode='rb' closefd=True>\n",
      "  \"\"\"\n"
     ]
    },
    {
     "name": "stdout",
     "output_type": "stream",
     "text": [
      "MODE  custom\n",
      "MODE  savgol\n",
      "MODE  savgol\n"
     ]
    },
    {
     "name": "stderr",
     "output_type": "stream",
     "text": [
      "Found 4 candidate(s) in the (0,6586) gap.\n",
      "Found 8 candidate(s) in the (6586,13204) gap.\n",
      "/home/ekaterina/Documents/001_Science/Flares_in_Clusters_II/flaresinclustersii/lib/python3.6/site-packages/ipykernel_launcher.py:5: ResourceWarning: unclosed file <_io.FileIO name='../custom_aperture/158ca_tess2019091615151-s0011-0000000395130640-0000-s_lc.fits' mode='rb' closefd=True>\n",
      "  \"\"\"\n"
     ]
    },
    {
     "name": "stdout",
     "output_type": "stream",
     "text": [
      "MODE  custom\n",
      "MODE  savgol\n",
      "MODE  savgol\n"
     ]
    },
    {
     "name": "stderr",
     "output_type": "stream",
     "text": [
      "Found 2 candidate(s) in the (0,6586) gap.\n",
      "Found 4 candidate(s) in the (6586,13204) gap.\n",
      "/home/ekaterina/Documents/001_Science/Flares_in_Clusters_II/flaresinclustersii/lib/python3.6/site-packages/ipykernel_launcher.py:5: ResourceWarning: unclosed file <_io.FileIO name='../custom_aperture/159ca_tess2019091615163-s0011-0000000441000085-0000-s_lc.fits' mode='rb' closefd=True>\n",
      "  \"\"\"\n"
     ]
    },
    {
     "name": "stdout",
     "output_type": "stream",
     "text": [
      "MODE  custom\n",
      "MODE  savgol\n",
      "MODE  savgol\n"
     ]
    },
    {
     "name": "stderr",
     "output_type": "stream",
     "text": [
      "Found 2 candidate(s) in the (0,6586) gap.\n",
      "Found 0 candidate(s) in the (6586,13204) gap.\n",
      "/home/ekaterina/Documents/001_Science/Flares_in_Clusters_II/flaresinclustersii/lib/python3.6/site-packages/ipykernel_launcher.py:5: ResourceWarning: unclosed file <_io.FileIO name='../custom_aperture/15ca_tess2019090410525-s0002-0000000142052876-0000-s_lc.fits' mode='rb' closefd=True>\n",
      "  \"\"\"\n"
     ]
    },
    {
     "name": "stdout",
     "output_type": "stream",
     "text": [
      "MODE  custom\n",
      "MODE  savgol\n",
      "MODE  savgol\n"
     ]
    },
    {
     "name": "stderr",
     "output_type": "stream",
     "text": [
      "Found 5 candidate(s) in the (0,9077) gap.\n",
      "Found 2 candidate(s) in the (9077,18018) gap.\n",
      "/home/ekaterina/Documents/001_Science/Flares_in_Clusters_II/flaresinclustersii/lib/python3.6/site-packages/ipykernel_launcher.py:5: ResourceWarning: unclosed file <_io.FileIO name='../custom_aperture/160ca_tess2019091615174-s0011-0000000449671564-0000-s_lc.fits' mode='rb' closefd=True>\n",
      "  \"\"\"\n"
     ]
    },
    {
     "name": "stdout",
     "output_type": "stream",
     "text": [
      "MODE  custom\n",
      "MODE  savgol\n",
      "MODE  savgol\n"
     ]
    },
    {
     "name": "stderr",
     "output_type": "stream",
     "text": [
      "Found 0 candidate(s) in the (0,6586) gap.\n",
      "Found 0 candidate(s) in the (6586,13204) gap.\n",
      "/home/ekaterina/Documents/001_Science/Flares_in_Clusters_II/flaresinclustersii/lib/python3.6/site-packages/ipykernel_launcher.py:5: ResourceWarning: unclosed file <_io.FileIO name='../custom_aperture/160ca_tess2019102508495-s0011-0000000449671564-0000-s_lc.fits' mode='rb' closefd=True>\n",
      "  \"\"\"\n"
     ]
    },
    {
     "name": "stdout",
     "output_type": "stream",
     "text": [
      "MODE  custom\n",
      "MODE  savgol\n",
      "MODE  savgol\n"
     ]
    },
    {
     "name": "stderr",
     "output_type": "stream",
     "text": [
      "Found 0 candidate(s) in the (0,6586) gap.\n",
      "Found 0 candidate(s) in the (6586,13204) gap.\n",
      "/home/ekaterina/Documents/001_Science/Flares_in_Clusters_II/flaresinclustersii/lib/python3.6/site-packages/ipykernel_launcher.py:5: ResourceWarning: unclosed file <_io.FileIO name='../custom_aperture/161ca_tess2019091615201-s0011-0000000454227159-0000-s_lc.fits' mode='rb' closefd=True>\n",
      "  \"\"\"\n"
     ]
    },
    {
     "name": "stdout",
     "output_type": "stream",
     "text": [
      "MODE  custom\n",
      "MODE  savgol\n",
      "MODE  savgol\n"
     ]
    },
    {
     "name": "stderr",
     "output_type": "stream",
     "text": [
      "Found 0 candidate(s) in the (0,6586) gap.\n",
      "Found 0 candidate(s) in the (6586,13204) gap.\n",
      "/home/ekaterina/Documents/001_Science/Flares_in_Clusters_II/flaresinclustersii/lib/python3.6/site-packages/ipykernel_launcher.py:5: ResourceWarning: unclosed file <_io.FileIO name='../custom_aperture/162ca_tess2019100115542-s0011-0000000454291779-0000-s_lc.fits' mode='rb' closefd=True>\n",
      "  \"\"\"\n"
     ]
    },
    {
     "name": "stdout",
     "output_type": "stream",
     "text": [
      "MODE  custom\n",
      "MODE  savgol\n",
      "MODE  savgol\n"
     ]
    },
    {
     "name": "stderr",
     "output_type": "stream",
     "text": [
      "Found 0 candidate(s) in the (0,6586) gap.\n",
      "Found 0 candidate(s) in the (6586,13204) gap.\n",
      "/home/ekaterina/Documents/001_Science/Flares_in_Clusters_II/flaresinclustersii/lib/python3.6/site-packages/ipykernel_launcher.py:5: ResourceWarning: unclosed file <_io.FileIO name='../custom_aperture/163ca_tess2019100115555-s0011-0000000440859813-0000-s_lc.fits' mode='rb' closefd=True>\n",
      "  \"\"\"\n"
     ]
    },
    {
     "name": "stdout",
     "output_type": "stream",
     "text": [
      "MODE  custom\n",
      "MODE  savgol\n",
      "MODE  savgol\n"
     ]
    },
    {
     "name": "stderr",
     "output_type": "stream",
     "text": [
      "Found 0 candidate(s) in the (0,6586) gap.\n",
      "Found 0 candidate(s) in the (6586,13204) gap.\n",
      "/home/ekaterina/Documents/001_Science/Flares_in_Clusters_II/flaresinclustersii/lib/python3.6/site-packages/ipykernel_launcher.py:5: ResourceWarning: unclosed file <_io.FileIO name='../custom_aperture/163ca_tess2019102314241-s0011-0000000471012770-0000-s_lc.fits' mode='rb' closefd=True>\n",
      "  \"\"\"\n"
     ]
    },
    {
     "name": "stdout",
     "output_type": "stream",
     "text": [
      "MODE  custom\n",
      "MODE  savgol\n",
      "MODE  savgol\n"
     ]
    },
    {
     "name": "stderr",
     "output_type": "stream",
     "text": [
      "Found 0 candidate(s) in the (0,6586) gap.\n",
      "Found 0 candidate(s) in the (6586,13204) gap.\n",
      "/home/ekaterina/Documents/001_Science/Flares_in_Clusters_II/flaresinclustersii/lib/python3.6/site-packages/ipykernel_launcher.py:5: ResourceWarning: unclosed file <_io.FileIO name='../custom_aperture/164ca_tess2019100115571-s0012-0000000029780677-0000-s_lc.fits' mode='rb' closefd=True>\n",
      "  \"\"\"\n"
     ]
    },
    {
     "name": "stdout",
     "output_type": "stream",
     "text": [
      "MODE  custom\n",
      "MODE  savgol\n",
      "MODE  savgol\n"
     ]
    },
    {
     "name": "stderr",
     "output_type": "stream",
     "text": [
      "Found 0 candidate(s) in the (0,9646) gap.\n",
      "Found 2 candidate(s) in the (9646,18704) gap.\n",
      "/home/ekaterina/Documents/001_Science/Flares_in_Clusters_II/flaresinclustersii/lib/python3.6/site-packages/ipykernel_launcher.py:5: ResourceWarning: unclosed file <_io.FileIO name='../custom_aperture/165ca_tess2019100211180-s0012-0000000072254026-0000-s_lc.fits' mode='rb' closefd=True>\n",
      "  \"\"\"\n"
     ]
    },
    {
     "name": "stdout",
     "output_type": "stream",
     "text": [
      "MODE  custom\n",
      "MODE  savgol\n",
      "MODE  savgol\n"
     ]
    },
    {
     "name": "stderr",
     "output_type": "stream",
     "text": [
      "Found 1 candidate(s) in the (0,9646) gap.\n",
      "Found 0 candidate(s) in the (9646,18704) gap.\n",
      "/home/ekaterina/Documents/001_Science/Flares_in_Clusters_II/flaresinclustersii/lib/python3.6/site-packages/ipykernel_launcher.py:5: ResourceWarning: unclosed file <_io.FileIO name='../custom_aperture/166ca_tess2019100211231-s0012-0000000142052876-0000-s_lc.fits' mode='rb' closefd=True>\n",
      "  \"\"\"\n"
     ]
    },
    {
     "name": "stdout",
     "output_type": "stream",
     "text": [
      "MODE  custom\n",
      "MODE  savgol\n",
      "MODE  savgol\n"
     ]
    },
    {
     "name": "stderr",
     "output_type": "stream",
     "text": [
      "Found 4 candidate(s) in the (0,9646) gap.\n",
      "Found 2 candidate(s) in the (9646,18704) gap.\n",
      "/home/ekaterina/Documents/001_Science/Flares_in_Clusters_II/flaresinclustersii/lib/python3.6/site-packages/ipykernel_launcher.py:5: ResourceWarning: unclosed file <_io.FileIO name='../custom_aperture/167ca_tess2019100211265-s0012-0000000167894019-0000-s_lc.fits' mode='rb' closefd=True>\n",
      "  \"\"\"\n"
     ]
    },
    {
     "name": "stdout",
     "output_type": "stream",
     "text": [
      "MODE  custom\n",
      "MODE  savgol\n",
      "MODE  savgol\n"
     ]
    },
    {
     "name": "stderr",
     "output_type": "stream",
     "text": [
      "Found 1 candidate(s) in the (0,9646) gap.\n",
      "Found 1 candidate(s) in the (9646,18704) gap.\n",
      "/home/ekaterina/Documents/001_Science/Flares_in_Clusters_II/flaresinclustersii/lib/python3.6/site-packages/ipykernel_launcher.py:5: ResourceWarning: unclosed file <_io.FileIO name='../custom_aperture/167ca_tess2019102510275-s0012-0000000167894019-0000-s_lc.fits' mode='rb' closefd=True>\n",
      "  \"\"\"\n"
     ]
    },
    {
     "name": "stdout",
     "output_type": "stream",
     "text": [
      "MODE  custom\n",
      "MODE  savgol\n",
      "MODE  savgol\n"
     ]
    },
    {
     "name": "stderr",
     "output_type": "stream",
     "text": [
      "Found 1 candidate(s) in the (0,9646) gap.\n",
      "Found 2 candidate(s) in the (9646,18704) gap.\n",
      "/home/ekaterina/Documents/001_Science/Flares_in_Clusters_II/flaresinclustersii/lib/python3.6/site-packages/ipykernel_launcher.py:5: ResourceWarning: unclosed file <_io.FileIO name='../custom_aperture/168ca_tess2019100211325-s0012-0000000190138951-0000-s_lc.fits' mode='rb' closefd=True>\n",
      "  \"\"\"\n"
     ]
    },
    {
     "name": "stdout",
     "output_type": "stream",
     "text": [
      "MODE  custom\n",
      "MODE  savgol\n",
      "MODE  savgol\n"
     ]
    },
    {
     "name": "stderr",
     "output_type": "stream",
     "text": [
      "Found 0 candidate(s) in the (0,9646) gap.\n",
      "Found 3 candidate(s) in the (9646,18704) gap.\n",
      "/home/ekaterina/Documents/001_Science/Flares_in_Clusters_II/flaresinclustersii/lib/python3.6/site-packages/ipykernel_launcher.py:5: ResourceWarning: unclosed file <_io.FileIO name='../custom_aperture/169ca_tess2019100211383-s0012-0000000220429097-0000-s_lc.fits' mode='rb' closefd=True>\n",
      "  \"\"\"\n"
     ]
    },
    {
     "name": "stdout",
     "output_type": "stream",
     "text": [
      "MODE  custom\n",
      "MODE  savgol\n",
      "MODE  savgol\n"
     ]
    },
    {
     "name": "stderr",
     "output_type": "stream",
     "text": [
      "Found 0 candidate(s) in the (0,9646) gap.\n",
      "Found 1 candidate(s) in the (9646,18704) gap.\n",
      "/home/ekaterina/Documents/001_Science/Flares_in_Clusters_II/flaresinclustersii/lib/python3.6/site-packages/ipykernel_launcher.py:5: ResourceWarning: unclosed file <_io.FileIO name='../custom_aperture/16ca_tess2019090410574-s0002-0000000167894019-0000-s_lc.fits' mode='rb' closefd=True>\n",
      "  \"\"\"\n"
     ]
    },
    {
     "name": "stdout",
     "output_type": "stream",
     "text": [
      "MODE  custom\n",
      "MODE  savgol\n",
      "MODE  savgol\n"
     ]
    },
    {
     "name": "stderr",
     "output_type": "stream",
     "text": [
      "Found 0 candidate(s) in the (0,9077) gap.\n",
      "Found 0 candidate(s) in the (9077,18018) gap.\n",
      "/home/ekaterina/Documents/001_Science/Flares_in_Clusters_II/flaresinclustersii/lib/python3.6/site-packages/ipykernel_launcher.py:5: ResourceWarning: unclosed file <_io.FileIO name='../custom_aperture/16ca_tess2019102509570-s0002-0000000167894019-0000-s_lc.fits' mode='rb' closefd=True>\n",
      "  \"\"\"\n"
     ]
    },
    {
     "name": "stdout",
     "output_type": "stream",
     "text": [
      "MODE  custom\n",
      "MODE  savgol\n",
      "MODE  savgol\n"
     ]
    },
    {
     "name": "stderr",
     "output_type": "stream",
     "text": [
      "Found 4 candidate(s) in the (0,9077) gap.\n",
      "Found 1 candidate(s) in the (9077,18018) gap.\n",
      "/home/ekaterina/Documents/001_Science/Flares_in_Clusters_II/flaresinclustersii/lib/python3.6/site-packages/ipykernel_launcher.py:5: ResourceWarning: unclosed file <_io.FileIO name='../custom_aperture/170ca_tess2019100211420-s0012-0000000277539431-0000-s_lc.fits' mode='rb' closefd=True>\n",
      "  \"\"\"\n"
     ]
    },
    {
     "name": "stdout",
     "output_type": "stream",
     "text": [
      "MODE  custom\n",
      "MODE  savgol\n",
      "MODE  savgol\n"
     ]
    },
    {
     "name": "stderr",
     "output_type": "stream",
     "text": [
      "Found 0 candidate(s) in the (0,9646) gap.\n",
      "Found 5 candidate(s) in the (9646,18704) gap.\n",
      "/home/ekaterina/Documents/001_Science/Flares_in_Clusters_II/flaresinclustersii/lib/python3.6/site-packages/ipykernel_launcher.py:5: ResourceWarning: unclosed file <_io.FileIO name='../custom_aperture/170ca_tess2019102314425-s0012-0000000277539431-0000-s_lc.fits' mode='rb' closefd=True>\n",
      "  \"\"\"\n"
     ]
    },
    {
     "name": "stdout",
     "output_type": "stream",
     "text": [
      "MODE  custom\n",
      "MODE  savgol\n",
      "MODE  savgol\n"
     ]
    },
    {
     "name": "stderr",
     "output_type": "stream",
     "text": [
      "Found 0 candidate(s) in the (0,9646) gap.\n",
      "Found 6 candidate(s) in the (9646,18704) gap.\n",
      "/home/ekaterina/Documents/001_Science/Flares_in_Clusters_II/flaresinclustersii/lib/python3.6/site-packages/ipykernel_launcher.py:5: ResourceWarning: unclosed file <_io.FileIO name='../custom_aperture/171ca_tess2019100215052-s0012-0000000278199738-0000-s_lc.fits' mode='rb' closefd=True>\n",
      "  \"\"\"\n"
     ]
    },
    {
     "name": "stdout",
     "output_type": "stream",
     "text": [
      "MODE  custom\n",
      "MODE  savgol\n",
      "MODE  savgol\n"
     ]
    },
    {
     "name": "stderr",
     "output_type": "stream",
     "text": [
      "Found 0 candidate(s) in the (0,9646) gap.\n",
      "Found 0 candidate(s) in the (9646,18704) gap.\n",
      "/home/ekaterina/Documents/001_Science/Flares_in_Clusters_II/flaresinclustersii/lib/python3.6/site-packages/ipykernel_launcher.py:5: ResourceWarning: unclosed file <_io.FileIO name='../custom_aperture/172ca_tess2019100910535-s0012-0000000358108509-0000-s_lc.fits' mode='rb' closefd=True>\n",
      "  \"\"\"\n"
     ]
    },
    {
     "name": "stdout",
     "output_type": "stream",
     "text": [
      "MODE  custom\n",
      "Do a coarse spline interpolation to remove trends.\n",
      "MODE  savgol\n",
      "MODE  savgol\n"
     ]
    },
    {
     "name": "stderr",
     "output_type": "stream",
     "text": [
      "Found 1 candidate(s) in the (0,9646) gap.\n",
      "Found 1 candidate(s) in the (9646,18704) gap.\n",
      "/home/ekaterina/Documents/001_Science/Flares_in_Clusters_II/flaresinclustersii/lib/python3.6/site-packages/ipykernel_launcher.py:5: ResourceWarning: unclosed file <_io.FileIO name='../custom_aperture/173ca_tess2019100215122-s0012-0000000363217984-0000-s_lc.fits' mode='rb' closefd=True>\n",
      "  \"\"\"\n"
     ]
    },
    {
     "name": "stdout",
     "output_type": "stream",
     "text": [
      "MODE  custom\n",
      "MODE  savgol\n",
      "MODE  savgol\n"
     ]
    },
    {
     "name": "stderr",
     "output_type": "stream",
     "text": [
      "Found 0 candidate(s) in the (0,9646) gap.\n",
      "Found 0 candidate(s) in the (9646,18704) gap.\n",
      "/home/ekaterina/Documents/001_Science/Flares_in_Clusters_II/flaresinclustersii/lib/python3.6/site-packages/ipykernel_launcher.py:5: ResourceWarning: unclosed file <_io.FileIO name='../custom_aperture/173ca_tess2019100215125-s0012-0000000363217984-0000-s_lc.fits' mode='rb' closefd=True>\n",
      "  \"\"\"\n"
     ]
    },
    {
     "name": "stdout",
     "output_type": "stream",
     "text": [
      "MODE  custom\n",
      "MODE  savgol\n",
      "MODE  savgol\n"
     ]
    },
    {
     "name": "stderr",
     "output_type": "stream",
     "text": [
      "Found 0 candidate(s) in the (0,9646) gap.\n",
      "Found 0 candidate(s) in the (9646,18704) gap.\n",
      "/home/ekaterina/Documents/001_Science/Flares_in_Clusters_II/flaresinclustersii/lib/python3.6/site-packages/ipykernel_launcher.py:5: ResourceWarning: unclosed file <_io.FileIO name='../custom_aperture/174ca_tess2019100215204-s0012-0000000369863567-0000-s_lc.fits' mode='rb' closefd=True>\n",
      "  \"\"\"\n"
     ]
    },
    {
     "name": "stdout",
     "output_type": "stream",
     "text": [
      "MODE  custom\n",
      "Do a coarse spline interpolation to remove trends.\n",
      "MODE  savgol\n",
      "MODE  savgol\n"
     ]
    },
    {
     "name": "stderr",
     "output_type": "stream",
     "text": [
      "Found 0 candidate(s) in the (0,9646) gap.\n",
      "Found 0 candidate(s) in the (9646,18704) gap.\n",
      "/home/ekaterina/Documents/001_Science/Flares_in_Clusters_II/flaresinclustersii/lib/python3.6/site-packages/ipykernel_launcher.py:5: ResourceWarning: unclosed file <_io.FileIO name='../custom_aperture/174ca_tess2019102509073-s0012-0000000369863567-0000-s_lc.fits' mode='rb' closefd=True>\n",
      "  \"\"\"\n"
     ]
    },
    {
     "name": "stdout",
     "output_type": "stream",
     "text": [
      "MODE  custom\n",
      "Do a coarse spline interpolation to remove trends.\n",
      "MODE  savgol\n",
      "MODE  savgol\n"
     ]
    },
    {
     "name": "stderr",
     "output_type": "stream",
     "text": [
      "Found 0 candidate(s) in the (0,9646) gap.\n",
      "Found 1 candidate(s) in the (9646,18704) gap.\n",
      "/home/ekaterina/Documents/001_Science/Flares_in_Clusters_II/flaresinclustersii/lib/python3.6/site-packages/ipykernel_launcher.py:5: ResourceWarning: unclosed file <_io.FileIO name='../custom_aperture/175ca_tess2019100215271-s0012-0000000388857263-0000-s_lc.fits' mode='rb' closefd=True>\n",
      "  \"\"\"\n"
     ]
    },
    {
     "name": "stdout",
     "output_type": "stream",
     "text": [
      "MODE  custom\n",
      "MODE  savgol\n",
      "MODE  savgol\n"
     ]
    },
    {
     "name": "stderr",
     "output_type": "stream",
     "text": [
      "Found 12 candidate(s) in the (0,9646) gap.\n",
      "Found 14 candidate(s) in the (9646,18704) gap.\n",
      "/home/ekaterina/Documents/001_Science/Flares_in_Clusters_II/flaresinclustersii/lib/python3.6/site-packages/ipykernel_launcher.py:5: ResourceWarning: unclosed file <_io.FileIO name='../custom_aperture/176ca_tess2019100215284-s0012-0000000395130640-0000-s_lc.fits' mode='rb' closefd=True>\n",
      "  \"\"\"\n"
     ]
    },
    {
     "name": "stdout",
     "output_type": "stream",
     "text": [
      "MODE  custom\n",
      "MODE  savgol\n",
      "MODE  savgol\n"
     ]
    },
    {
     "name": "stderr",
     "output_type": "stream",
     "text": [
      "Found 3 candidate(s) in the (0,9646) gap.\n",
      "Found 3 candidate(s) in the (9646,18704) gap.\n",
      "/home/ekaterina/Documents/001_Science/Flares_in_Clusters_II/flaresinclustersii/lib/python3.6/site-packages/ipykernel_launcher.py:5: ResourceWarning: unclosed file <_io.FileIO name='../custom_aperture/177ca_tess2019100215313-s0012-0000000449671564-0000-s_lc.fits' mode='rb' closefd=True>\n",
      "  \"\"\"\n"
     ]
    },
    {
     "name": "stdout",
     "output_type": "stream",
     "text": [
      "MODE  custom\n",
      "MODE  savgol\n",
      "MODE  savgol\n"
     ]
    },
    {
     "name": "stderr",
     "output_type": "stream",
     "text": [
      "Found 1 candidate(s) in the (0,9646) gap.\n",
      "Found 1 candidate(s) in the (9646,18704) gap.\n",
      "/home/ekaterina/Documents/001_Science/Flares_in_Clusters_II/flaresinclustersii/lib/python3.6/site-packages/ipykernel_launcher.py:5: ResourceWarning: unclosed file <_io.FileIO name='../custom_aperture/177ca_tess2019102508505-s0012-0000000449671564-0000-s_lc.fits' mode='rb' closefd=True>\n",
      "  \"\"\"\n"
     ]
    },
    {
     "name": "stdout",
     "output_type": "stream",
     "text": [
      "MODE  custom\n",
      "MODE  savgol\n",
      "MODE  savgol\n"
     ]
    },
    {
     "name": "stderr",
     "output_type": "stream",
     "text": [
      "Found 0 candidate(s) in the (0,9646) gap.\n",
      "Found 1 candidate(s) in the (9646,18704) gap.\n",
      "/home/ekaterina/Documents/001_Science/Flares_in_Clusters_II/flaresinclustersii/lib/python3.6/site-packages/ipykernel_launcher.py:5: ResourceWarning: unclosed file <_io.FileIO name='../custom_aperture/177ca_tess2019102508525-s0012-0000000449671564-0000-s_lc.fits' mode='rb' closefd=True>\n",
      "  \"\"\"\n"
     ]
    },
    {
     "name": "stdout",
     "output_type": "stream",
     "text": [
      "MODE  custom\n",
      "MODE  savgol\n",
      "MODE  savgol\n"
     ]
    },
    {
     "name": "stderr",
     "output_type": "stream",
     "text": [
      "Found 1 candidate(s) in the (0,9646) gap.\n",
      "Found 1 candidate(s) in the (9646,18704) gap.\n",
      "/home/ekaterina/Documents/001_Science/Flares_in_Clusters_II/flaresinclustersii/lib/python3.6/site-packages/ipykernel_launcher.py:5: ResourceWarning: unclosed file <_io.FileIO name='../custom_aperture/178ca_tess2019100215351-s0012-0000000454227159-0000-s_lc.fits' mode='rb' closefd=True>\n",
      "  \"\"\"\n"
     ]
    },
    {
     "name": "stdout",
     "output_type": "stream",
     "text": [
      "MODE  custom\n",
      "MODE  savgol\n",
      "MODE  savgol\n"
     ]
    },
    {
     "name": "stderr",
     "output_type": "stream",
     "text": [
      "Found 0 candidate(s) in the (0,9646) gap.\n",
      "Found 0 candidate(s) in the (9646,18704) gap.\n",
      "/home/ekaterina/Documents/001_Science/Flares_in_Clusters_II/flaresinclustersii/lib/python3.6/site-packages/ipykernel_launcher.py:5: ResourceWarning: unclosed file <_io.FileIO name='../custom_aperture/179ca_tess2019100215365-s0012-0000000454291779-0000-s_lc.fits' mode='rb' closefd=True>\n",
      "  \"\"\"\n"
     ]
    },
    {
     "name": "stdout",
     "output_type": "stream",
     "text": [
      "MODE  custom\n",
      "MODE  savgol\n",
      "MODE  savgol\n"
     ]
    },
    {
     "name": "stderr",
     "output_type": "stream",
     "text": [
      "Found 1 candidate(s) in the (0,9646) gap.\n",
      "Found 0 candidate(s) in the (9646,18704) gap.\n",
      "/home/ekaterina/Documents/001_Science/Flares_in_Clusters_II/flaresinclustersii/lib/python3.6/site-packages/ipykernel_launcher.py:5: ResourceWarning: unclosed file <_io.FileIO name='../custom_aperture/17ca_tess2019090411583-s0002-0000000180724005-0000-s_lc.fits' mode='rb' closefd=True>\n",
      "  \"\"\"\n"
     ]
    },
    {
     "name": "stdout",
     "output_type": "stream",
     "text": [
      "MODE  custom\n",
      "MODE  savgol\n",
      "MODE  savgol\n"
     ]
    },
    {
     "name": "stderr",
     "output_type": "stream",
     "text": [
      "Found 1 candidate(s) in the (0,9077) gap.\n",
      "Found 0 candidate(s) in the (9077,18018) gap.\n",
      "/home/ekaterina/Documents/001_Science/Flares_in_Clusters_II/flaresinclustersii/lib/python3.6/site-packages/ipykernel_launcher.py:5: ResourceWarning: unclosed file <_io.FileIO name='../custom_aperture/180ca_tess2019100215393-s0013-0000000029780677-0000-s_lc.fits' mode='rb' closefd=True>\n",
      "  \"\"\"\n"
     ]
    },
    {
     "name": "stdout",
     "output_type": "stream",
     "text": [
      "MODE  custom\n",
      "MODE  savgol\n",
      "MODE  savgol\n"
     ]
    },
    {
     "name": "stderr",
     "output_type": "stream",
     "text": [
      "Found 1 candidate(s) in the (0,9619) gap.\n",
      "Found 0 candidate(s) in the (9619,19284) gap.\n",
      "/home/ekaterina/Documents/001_Science/Flares_in_Clusters_II/flaresinclustersii/lib/python3.6/site-packages/ipykernel_launcher.py:5: ResourceWarning: unclosed file <_io.FileIO name='../custom_aperture/181ca_tess2019100215440-s0013-0000000142052876-0000-s_lc.fits' mode='rb' closefd=True>\n",
      "  \"\"\"\n"
     ]
    },
    {
     "name": "stdout",
     "output_type": "stream",
     "text": [
      "MODE  custom\n",
      "MODE  savgol\n",
      "MODE  savgol\n"
     ]
    },
    {
     "name": "stderr",
     "output_type": "stream",
     "text": [
      "Found 1 candidate(s) in the (0,9619) gap.\n",
      "Found 4 candidate(s) in the (9619,19284) gap.\n",
      "/home/ekaterina/Documents/001_Science/Flares_in_Clusters_II/flaresinclustersii/lib/python3.6/site-packages/ipykernel_launcher.py:5: ResourceWarning: unclosed file <_io.FileIO name='../custom_aperture/182ca_tess2019100215462-s0013-0000000167894019-0000-s_lc.fits' mode='rb' closefd=True>\n",
      "  \"\"\"\n"
     ]
    },
    {
     "name": "stdout",
     "output_type": "stream",
     "text": [
      "MODE  custom\n",
      "MODE  savgol\n",
      "MODE  savgol\n"
     ]
    },
    {
     "name": "stderr",
     "output_type": "stream",
     "text": [
      "Found 0 candidate(s) in the (0,9619) gap.\n",
      "Found 2 candidate(s) in the (9619,19284) gap.\n",
      "/home/ekaterina/Documents/001_Science/Flares_in_Clusters_II/flaresinclustersii/lib/python3.6/site-packages/ipykernel_launcher.py:5: ResourceWarning: unclosed file <_io.FileIO name='../custom_aperture/183ca_tess2019100709330-s0013-0000000201688405-0000-s_lc.fits' mode='rb' closefd=True>\n",
      "  \"\"\"\n"
     ]
    },
    {
     "name": "stdout",
     "output_type": "stream",
     "text": [
      "MODE  custom\n",
      "MODE  savgol\n",
      "MODE  savgol\n"
     ]
    },
    {
     "name": "stderr",
     "output_type": "stream",
     "text": [
      "Found 0 candidate(s) in the (0,9619) gap.\n",
      "Found 3 candidate(s) in the (9619,19284) gap.\n",
      "/home/ekaterina/Documents/001_Science/Flares_in_Clusters_II/flaresinclustersii/lib/python3.6/site-packages/ipykernel_launcher.py:5: ResourceWarning: unclosed file <_io.FileIO name='../custom_aperture/184ca_tess2019100709372-s0013-0000000220429097-0000-s_lc.fits' mode='rb' closefd=True>\n",
      "  \"\"\"\n"
     ]
    },
    {
     "name": "stdout",
     "output_type": "stream",
     "text": [
      "MODE  custom\n",
      "MODE  savgol\n",
      "MODE  savgol\n"
     ]
    },
    {
     "name": "stderr",
     "output_type": "stream",
     "text": [
      "Found 2 candidate(s) in the (0,9619) gap.\n",
      "Found 0 candidate(s) in the (9619,19284) gap.\n",
      "/home/ekaterina/Documents/001_Science/Flares_in_Clusters_II/flaresinclustersii/lib/python3.6/site-packages/ipykernel_launcher.py:5: ResourceWarning: unclosed file <_io.FileIO name='../custom_aperture/184ca_tess2019102510505-s0013-0000000220429097-0000-s_lc.fits' mode='rb' closefd=True>\n",
      "  \"\"\"\n"
     ]
    },
    {
     "name": "stdout",
     "output_type": "stream",
     "text": [
      "MODE  custom\n",
      "MODE  savgol\n",
      "MODE  savgol\n"
     ]
    },
    {
     "name": "stderr",
     "output_type": "stream",
     "text": [
      "Found 2 candidate(s) in the (0,9619) gap.\n",
      "Found 0 candidate(s) in the (9619,19284) gap.\n",
      "/home/ekaterina/Documents/001_Science/Flares_in_Clusters_II/flaresinclustersii/lib/python3.6/site-packages/ipykernel_launcher.py:5: ResourceWarning: unclosed file <_io.FileIO name='../custom_aperture/185ca_tess2019100709393-s0013-0000000278199738-0000-s_lc.fits' mode='rb' closefd=True>\n",
      "  \"\"\"\n"
     ]
    },
    {
     "name": "stdout",
     "output_type": "stream",
     "text": [
      "MODE  custom\n",
      "MODE  savgol\n",
      "MODE  savgol\n"
     ]
    },
    {
     "name": "stderr",
     "output_type": "stream",
     "text": [
      "Found 0 candidate(s) in the (0,9619) gap.\n",
      "Found 0 candidate(s) in the (9619,19284) gap.\n",
      "/home/ekaterina/Documents/001_Science/Flares_in_Clusters_II/flaresinclustersii/lib/python3.6/site-packages/ipykernel_launcher.py:5: ResourceWarning: unclosed file <_io.FileIO name='../custom_aperture/186ca_tess2019100709410-s0013-0000000358108509-0000-s_lc.fits' mode='rb' closefd=True>\n",
      "  \"\"\"\n"
     ]
    },
    {
     "name": "stdout",
     "output_type": "stream",
     "text": [
      "MODE  custom\n",
      "MODE  savgol\n",
      "MODE  savgol\n"
     ]
    },
    {
     "name": "stderr",
     "output_type": "stream",
     "text": [
      "Found 0 candidate(s) in the (0,9619) gap.\n",
      "Found 0 candidate(s) in the (9619,19284) gap.\n",
      "/home/ekaterina/Documents/001_Science/Flares_in_Clusters_II/flaresinclustersii/lib/python3.6/site-packages/ipykernel_launcher.py:5: ResourceWarning: unclosed file <_io.FileIO name='../custom_aperture/187ca_tess2019100709452-s0013-0000000369863567-0000-s_lc.fits' mode='rb' closefd=True>\n",
      "  \"\"\"\n"
     ]
    },
    {
     "name": "stdout",
     "output_type": "stream",
     "text": [
      "MODE  custom\n",
      "MODE  savgol\n",
      "MODE  savgol\n"
     ]
    },
    {
     "name": "stderr",
     "output_type": "stream",
     "text": [
      "Found 0 candidate(s) in the (0,9619) gap.\n",
      "Found 0 candidate(s) in the (9619,19284) gap.\n",
      "/home/ekaterina/Documents/001_Science/Flares_in_Clusters_II/flaresinclustersii/lib/python3.6/site-packages/ipykernel_launcher.py:5: ResourceWarning: unclosed file <_io.FileIO name='../custom_aperture/188ca_tess2019100709471-s0013-0000000381983159-0000-s_lc.fits' mode='rb' closefd=True>\n",
      "  \"\"\"\n"
     ]
    },
    {
     "name": "stdout",
     "output_type": "stream",
     "text": [
      "MODE  custom\n",
      "MODE  savgol\n",
      "MODE  savgol\n"
     ]
    },
    {
     "name": "stderr",
     "output_type": "stream",
     "text": [
      "Found 0 candidate(s) in the (0,9619) gap.\n",
      "Found 0 candidate(s) in the (9619,19284) gap.\n",
      "/home/ekaterina/Documents/001_Science/Flares_in_Clusters_II/flaresinclustersii/lib/python3.6/site-packages/ipykernel_launcher.py:5: ResourceWarning: unclosed file <_io.FileIO name='../custom_aperture/189ca_tess2019100709483-s0013-0000000387220832-0000-s_lc.fits' mode='rb' closefd=True>\n",
      "  \"\"\"\n"
     ]
    },
    {
     "name": "stdout",
     "output_type": "stream",
     "text": [
      "MODE  custom\n",
      "MODE  savgol\n",
      "MODE  savgol\n"
     ]
    },
    {
     "name": "stderr",
     "output_type": "stream",
     "text": [
      "Found 3 candidate(s) in the (0,9619) gap.\n",
      "Found 7 candidate(s) in the (9619,19284) gap.\n",
      "/home/ekaterina/Documents/001_Science/Flares_in_Clusters_II/flaresinclustersii/lib/python3.6/site-packages/ipykernel_launcher.py:5: ResourceWarning: unclosed file <_io.FileIO name='../custom_aperture/18ca_tess2019090412003-s0002-0000000220429097-0000-s_lc.fits' mode='rb' closefd=True>\n",
      "  \"\"\"\n"
     ]
    },
    {
     "name": "stdout",
     "output_type": "stream",
     "text": [
      "MODE  custom\n",
      "MODE  savgol\n",
      "MODE  savgol\n"
     ]
    },
    {
     "name": "stderr",
     "output_type": "stream",
     "text": [
      "Found 0 candidate(s) in the (0,9077) gap.\n",
      "Found 1 candidate(s) in the (9077,18018) gap.\n",
      "/home/ekaterina/Documents/001_Science/Flares_in_Clusters_II/flaresinclustersii/lib/python3.6/site-packages/ipykernel_launcher.py:5: ResourceWarning: unclosed file <_io.FileIO name='../custom_aperture/18ca_tess2019102510421-s0002-0000000220429097-0000-s_lc.fits' mode='rb' closefd=True>\n",
      "  \"\"\"\n"
     ]
    },
    {
     "name": "stdout",
     "output_type": "stream",
     "text": [
      "MODE  custom\n",
      "MODE  savgol\n",
      "MODE  savgol\n"
     ]
    },
    {
     "name": "stderr",
     "output_type": "stream",
     "text": [
      "Found 0 candidate(s) in the (0,9077) gap.\n",
      "Found 2 candidate(s) in the (9077,18018) gap.\n",
      "/home/ekaterina/Documents/001_Science/Flares_in_Clusters_II/flaresinclustersii/lib/python3.6/site-packages/ipykernel_launcher.py:5: ResourceWarning: unclosed file <_io.FileIO name='../custom_aperture/190ca_tess2019100711353-s0013-0000000464378628-0000-s_lc.fits' mode='rb' closefd=True>\n",
      "  \"\"\"\n"
     ]
    },
    {
     "name": "stdout",
     "output_type": "stream",
     "text": [
      "MODE  custom\n",
      "MODE  savgol\n",
      "MODE  savgol\n"
     ]
    },
    {
     "name": "stderr",
     "output_type": "stream",
     "text": [
      "Found 0 candidate(s) in the (0,9619) gap.\n",
      "Found 0 candidate(s) in the (9619,19284) gap.\n",
      "/home/ekaterina/Documents/001_Science/Flares_in_Clusters_II/flaresinclustersii/lib/python3.6/site-packages/ipykernel_launcher.py:5: ResourceWarning: unclosed file <_io.FileIO name='../custom_aperture/19ca_tess2019090412043-s0002-0000000234307350-0000-s_lc.fits' mode='rb' closefd=True>\n",
      "  \"\"\"\n"
     ]
    },
    {
     "name": "stdout",
     "output_type": "stream",
     "text": [
      "MODE  custom\n",
      "MODE  savgol\n",
      "MODE  savgol\n"
     ]
    },
    {
     "name": "stderr",
     "output_type": "stream",
     "text": [
      "Found 0 candidate(s) in the (0,9077) gap.\n",
      "Found 1 candidate(s) in the (9077,18018) gap.\n",
      "/home/ekaterina/Documents/001_Science/Flares_in_Clusters_II/flaresinclustersii/lib/python3.6/site-packages/ipykernel_launcher.py:5: ResourceWarning: unclosed file <_io.FileIO name='../custom_aperture/1ca_tess2019082014114-s0001-0000000142052876-0000-s_lc.fits' mode='rb' closefd=True>\n",
      "  \"\"\"\n"
     ]
    },
    {
     "name": "stdout",
     "output_type": "stream",
     "text": [
      "MODE  custom\n",
      "MODE  savgol\n",
      "MODE  savgol\n"
     ]
    },
    {
     "name": "stderr",
     "output_type": "stream",
     "text": [
      "Found 5 candidate(s) in the (0,9073) gap.\n",
      "Found 2 candidate(s) in the (9073,15090) gap.\n",
      "Found 2 candidate(s) in the (15090,17805) gap.\n",
      "/home/ekaterina/Documents/001_Science/Flares_in_Clusters_II/flaresinclustersii/lib/python3.6/site-packages/ipykernel_launcher.py:5: ResourceWarning: unclosed file <_io.FileIO name='../custom_aperture/20ca_tess2019090412090-s0002-0000000259901346-0000-s_lc.fits' mode='rb' closefd=True>\n",
      "  \"\"\"\n"
     ]
    },
    {
     "name": "stdout",
     "output_type": "stream",
     "text": [
      "MODE  custom\n",
      "MODE  savgol\n",
      "MODE  savgol\n"
     ]
    },
    {
     "name": "stderr",
     "output_type": "stream",
     "text": [
      "Found 0 candidate(s) in the (0,9077) gap.\n",
      "Found 0 candidate(s) in the (9077,18018) gap.\n",
      "/home/ekaterina/Documents/001_Science/Flares_in_Clusters_II/flaresinclustersii/lib/python3.6/site-packages/ipykernel_launcher.py:5: ResourceWarning: unclosed file <_io.FileIO name='../custom_aperture/21ca_tess2019090412111-s0002-0000000270218775-0000-s_lc.fits' mode='rb' closefd=True>\n",
      "  \"\"\"\n"
     ]
    },
    {
     "name": "stdout",
     "output_type": "stream",
     "text": [
      "MODE  custom\n",
      "MODE  savgol\n",
      "MODE  savgol\n"
     ]
    },
    {
     "name": "stderr",
     "output_type": "stream",
     "text": [
      "Found 0 candidate(s) in the (0,9077) gap.\n",
      "Found 0 candidate(s) in the (9077,18018) gap.\n",
      "/home/ekaterina/Documents/001_Science/Flares_in_Clusters_II/flaresinclustersii/lib/python3.6/site-packages/ipykernel_launcher.py:5: ResourceWarning: unclosed file <_io.FileIO name='../custom_aperture/22ca_tess2019090412202-s0002-0000000281668854-0000-s_lc.fits' mode='rb' closefd=True>\n",
      "  \"\"\"\n"
     ]
    },
    {
     "name": "stdout",
     "output_type": "stream",
     "text": [
      "MODE  custom\n",
      "MODE  savgol\n",
      "MODE  savgol\n"
     ]
    },
    {
     "name": "stderr",
     "output_type": "stream",
     "text": [
      "Found 0 candidate(s) in the (0,9077) gap.\n",
      "Found 0 candidate(s) in the (9077,18018) gap.\n",
      "/home/ekaterina/Documents/001_Science/Flares_in_Clusters_II/flaresinclustersii/lib/python3.6/site-packages/ipykernel_launcher.py:5: ResourceWarning: unclosed file <_io.FileIO name='../custom_aperture/23ca_tess2019090412295-s0002-0000000303978478-0000-s_lc.fits' mode='rb' closefd=True>\n",
      "  \"\"\"\n"
     ]
    },
    {
     "name": "stdout",
     "output_type": "stream",
     "text": [
      "MODE  custom\n",
      "MODE  savgol\n",
      "MODE  savgol\n"
     ]
    },
    {
     "name": "stderr",
     "output_type": "stream",
     "text": [
      "Found 0 candidate(s) in the (0,9077) gap.\n",
      "Found 0 candidate(s) in the (9077,18018) gap.\n",
      "/home/ekaterina/Documents/001_Science/Flares_in_Clusters_II/flaresinclustersii/lib/python3.6/site-packages/ipykernel_launcher.py:5: ResourceWarning: unclosed file <_io.FileIO name='../custom_aperture/24ca_tess2019090412363-s0002-0000000304392811-0000-s_lc.fits' mode='rb' closefd=True>\n",
      "  \"\"\"\n"
     ]
    },
    {
     "name": "stdout",
     "output_type": "stream",
     "text": [
      "MODE  custom\n",
      "MODE  savgol\n",
      "MODE  savgol\n"
     ]
    },
    {
     "name": "stderr",
     "output_type": "stream",
     "text": [
      "Found 0 candidate(s) in the (0,9077) gap.\n",
      "Found 1 candidate(s) in the (9077,18018) gap.\n",
      "/home/ekaterina/Documents/001_Science/Flares_in_Clusters_II/flaresinclustersii/lib/python3.6/site-packages/ipykernel_launcher.py:5: ResourceWarning: unclosed file <_io.FileIO name='../custom_aperture/24ca_tess2019090412410-s0002-0000000304392811-0000-s_lc.fits' mode='rb' closefd=True>\n",
      "  \"\"\"\n"
     ]
    },
    {
     "name": "stdout",
     "output_type": "stream",
     "text": [
      "MODE  custom\n",
      "MODE  savgol\n",
      "MODE  savgol\n"
     ]
    },
    {
     "name": "stderr",
     "output_type": "stream",
     "text": [
      "Found 0 candidate(s) in the (0,9077) gap.\n",
      "Found 0 candidate(s) in the (9077,18018) gap.\n",
      "/home/ekaterina/Documents/001_Science/Flares_in_Clusters_II/flaresinclustersii/lib/python3.6/site-packages/ipykernel_launcher.py:5: ResourceWarning: unclosed file <_io.FileIO name='../custom_aperture/24ca_tess2019102414445-s0002-0000000304392811-0000-s_lc.fits' mode='rb' closefd=True>\n",
      "  \"\"\"\n"
     ]
    },
    {
     "name": "stdout",
     "output_type": "stream",
     "text": [
      "MODE  custom\n",
      "MODE  savgol\n",
      "MODE  savgol\n"
     ]
    },
    {
     "name": "stderr",
     "output_type": "stream",
     "text": [
      "Found 0 candidate(s) in the (0,9077) gap.\n",
      "Found 1 candidate(s) in the (9077,18018) gap.\n",
      "/home/ekaterina/Documents/001_Science/Flares_in_Clusters_II/flaresinclustersii/lib/python3.6/site-packages/ipykernel_launcher.py:5: ResourceWarning: unclosed file <_io.FileIO name='../custom_aperture/25ca_tess2019090412554-s0002-0000000340703996-0000-s_lc.fits' mode='rb' closefd=True>\n",
      "  \"\"\"\n"
     ]
    },
    {
     "name": "stdout",
     "output_type": "stream",
     "text": [
      "MODE  custom\n",
      "MODE  savgol\n",
      "MODE  savgol\n"
     ]
    },
    {
     "name": "stderr",
     "output_type": "stream",
     "text": [
      "Found 3 candidate(s) in the (0,9077) gap.\n",
      "Found 1 candidate(s) in the (9077,18018) gap.\n",
      "/home/ekaterina/Documents/001_Science/Flares_in_Clusters_II/flaresinclustersii/lib/python3.6/site-packages/ipykernel_launcher.py:5: ResourceWarning: unclosed file <_io.FileIO name='../custom_aperture/25ca_tess2019090412562-s0002-0000000340703996-0000-s_lc.fits' mode='rb' closefd=True>\n",
      "  \"\"\"\n"
     ]
    },
    {
     "name": "stdout",
     "output_type": "stream",
     "text": [
      "MODE  custom\n",
      "MODE  savgol\n",
      "MODE  savgol\n"
     ]
    },
    {
     "name": "stderr",
     "output_type": "stream",
     "text": [
      "Found 3 candidate(s) in the (0,9077) gap.\n",
      "Found 1 candidate(s) in the (9077,18018) gap.\n",
      "/home/ekaterina/Documents/001_Science/Flares_in_Clusters_II/flaresinclustersii/lib/python3.6/site-packages/ipykernel_launcher.py:5: ResourceWarning: unclosed file <_io.FileIO name='../custom_aperture/26ca_tess2019090608014-s0002-0000000358108509-0000-s_lc.fits' mode='rb' closefd=True>\n",
      "  \"\"\"\n"
     ]
    },
    {
     "name": "stdout",
     "output_type": "stream",
     "text": [
      "MODE  custom\n",
      "MODE  savgol\n",
      "MODE  savgol\n"
     ]
    },
    {
     "name": "stderr",
     "output_type": "stream",
     "text": [
      "Found 0 candidate(s) in the (0,9077) gap.\n",
      "Found 0 candidate(s) in the (9077,18018) gap.\n",
      "/home/ekaterina/Documents/001_Science/Flares_in_Clusters_II/flaresinclustersii/lib/python3.6/site-packages/ipykernel_launcher.py:5: ResourceWarning: unclosed file <_io.FileIO name='../custom_aperture/26ca_tess2019102509250-s0002-0000000358108509-0000-s_lc.fits' mode='rb' closefd=True>\n",
      "  \"\"\"\n"
     ]
    },
    {
     "name": "stdout",
     "output_type": "stream",
     "text": [
      "MODE  custom\n",
      "MODE  savgol\n",
      "MODE  savgol\n"
     ]
    },
    {
     "name": "stderr",
     "output_type": "stream",
     "text": [
      "Found 0 candidate(s) in the (0,9077) gap.\n",
      "Found 0 candidate(s) in the (9077,18018) gap.\n",
      "/home/ekaterina/Documents/001_Science/Flares_in_Clusters_II/flaresinclustersii/lib/python3.6/site-packages/ipykernel_launcher.py:5: ResourceWarning: unclosed file <_io.FileIO name='../custom_aperture/27ca_tess2019100710515-s0002-0000000401984769-0000-s_lc.fits' mode='rb' closefd=True>\n",
      "  \"\"\"\n"
     ]
    },
    {
     "name": "stdout",
     "output_type": "stream",
     "text": [
      "MODE  custom\n",
      "MODE  savgol\n",
      "MODE  savgol\n"
     ]
    },
    {
     "name": "stderr",
     "output_type": "stream",
     "text": [
      "Found 0 candidate(s) in the (0,9077) gap.\n",
      "Found 0 candidate(s) in the (9077,18018) gap.\n",
      "/home/ekaterina/Documents/001_Science/Flares_in_Clusters_II/flaresinclustersii/lib/python3.6/site-packages/ipykernel_launcher.py:5: ResourceWarning: unclosed file <_io.FileIO name='../custom_aperture/28ca_tess2019090608070-s0003-0000000029780677-0000-s_lc.fits' mode='rb' closefd=True>\n",
      "  \"\"\"\n"
     ]
    },
    {
     "name": "stdout",
     "output_type": "stream",
     "text": [
      "MODE  custom\n",
      "MODE  savgol\n",
      "MODE  savgol\n"
     ]
    },
    {
     "name": "stderr",
     "output_type": "stream",
     "text": [
      "Found 0 candidate(s) in the (0,6374) gap.\n",
      "Found 1 candidate(s) in the (6374,12835) gap.\n",
      "/home/ekaterina/Documents/001_Science/Flares_in_Clusters_II/flaresinclustersii/lib/python3.6/site-packages/ipykernel_launcher.py:5: ResourceWarning: unclosed file <_io.FileIO name='../custom_aperture/29ca_tess2019090608091-s0003-0000000029928567-0000-s_lc.fits' mode='rb' closefd=True>\n",
      "  \"\"\"\n"
     ]
    },
    {
     "name": "stdout",
     "output_type": "stream",
     "text": [
      "MODE  custom\n",
      "MODE  savgol\n",
      "MODE  savgol\n"
     ]
    },
    {
     "name": "stderr",
     "output_type": "stream",
     "text": [
      "Found 18 candidate(s) in the (0,6374) gap.\n",
      "Found 17 candidate(s) in the (6374,12835) gap.\n",
      "/home/ekaterina/Documents/001_Science/Flares_in_Clusters_II/flaresinclustersii/lib/python3.6/site-packages/ipykernel_launcher.py:5: ResourceWarning: unclosed file <_io.FileIO name='../custom_aperture/2ca_tess2019082014592-s0001-0000000167894019-0000-s_lc.fits' mode='rb' closefd=True>\n",
      "  \"\"\"\n"
     ]
    },
    {
     "name": "stdout",
     "output_type": "stream",
     "text": [
      "MODE  custom\n",
      "MODE  savgol\n",
      "MODE  savgol\n"
     ]
    },
    {
     "name": "stderr",
     "output_type": "stream",
     "text": [
      "Found 1 candidate(s) in the (0,9073) gap.\n",
      "Found 3 candidate(s) in the (9073,15090) gap.\n",
      "Found 1 candidate(s) in the (15090,17805) gap.\n",
      "/home/ekaterina/Documents/001_Science/Flares_in_Clusters_II/flaresinclustersii/lib/python3.6/site-packages/ipykernel_launcher.py:5: ResourceWarning: unclosed file <_io.FileIO name='../custom_aperture/30ca_tess2019090608180-s0003-0000000038314290-0000-s_lc.fits' mode='rb' closefd=True>\n",
      "  \"\"\"\n"
     ]
    },
    {
     "name": "stdout",
     "output_type": "stream",
     "text": [
      "MODE  custom\n",
      "MODE  savgol\n",
      "MODE  savgol\n"
     ]
    },
    {
     "name": "stderr",
     "output_type": "stream",
     "text": [
      "Found 1 candidate(s) in the (0,6374) gap.\n",
      "Found 0 candidate(s) in the (6374,12835) gap.\n",
      "/home/ekaterina/Documents/001_Science/Flares_in_Clusters_II/flaresinclustersii/lib/python3.6/site-packages/ipykernel_launcher.py:5: ResourceWarning: unclosed file <_io.FileIO name='../custom_aperture/31ca_tess2019090608222-s0003-0000000070555405-0000-s_lc.fits' mode='rb' closefd=True>\n",
      "  \"\"\"\n"
     ]
    },
    {
     "name": "stdout",
     "output_type": "stream",
     "text": [
      "MODE  custom\n",
      "MODE  savgol\n",
      "MODE  savgol\n"
     ]
    },
    {
     "name": "stderr",
     "output_type": "stream",
     "text": [
      "Found 0 candidate(s) in the (0,6374) gap.\n",
      "Found 0 candidate(s) in the (6374,12835) gap.\n",
      "/home/ekaterina/Documents/001_Science/Flares_in_Clusters_II/flaresinclustersii/lib/python3.6/site-packages/ipykernel_launcher.py:5: ResourceWarning: unclosed file <_io.FileIO name='../custom_aperture/31ca_tess2019090608230-s0003-0000000070555405-0000-s_lc.fits' mode='rb' closefd=True>\n",
      "  \"\"\"\n"
     ]
    },
    {
     "name": "stdout",
     "output_type": "stream",
     "text": [
      "MODE  custom\n",
      "MODE  savgol\n",
      "MODE  savgol\n"
     ]
    },
    {
     "name": "stderr",
     "output_type": "stream",
     "text": [
      "Found 0 candidate(s) in the (0,6374) gap.\n",
      "Found 0 candidate(s) in the (6374,12835) gap.\n",
      "/home/ekaterina/Documents/001_Science/Flares_in_Clusters_II/flaresinclustersii/lib/python3.6/site-packages/ipykernel_launcher.py:5: ResourceWarning: unclosed file <_io.FileIO name='../custom_aperture/32ca_tess2019090608262-s0003-0000000077111651-0000-s_lc.fits' mode='rb' closefd=True>\n",
      "  \"\"\"\n"
     ]
    },
    {
     "name": "stdout",
     "output_type": "stream",
     "text": [
      "MODE  custom\n",
      "MODE  savgol\n",
      "MODE  savgol\n"
     ]
    },
    {
     "name": "stderr",
     "output_type": "stream",
     "text": [
      "Found 0 candidate(s) in the (0,6374) gap.\n",
      "Found 1 candidate(s) in the (6374,12835) gap.\n",
      "/home/ekaterina/Documents/001_Science/Flares_in_Clusters_II/flaresinclustersii/lib/python3.6/site-packages/ipykernel_launcher.py:5: ResourceWarning: unclosed file <_io.FileIO name='../custom_aperture/33ca_tess2019090608301-s0003-0000000140478472-0000-s_lc.fits' mode='rb' closefd=True>\n",
      "  \"\"\"\n"
     ]
    },
    {
     "name": "stdout",
     "output_type": "stream",
     "text": [
      "MODE  custom\n",
      "MODE  savgol\n",
      "MODE  savgol\n"
     ]
    },
    {
     "name": "stderr",
     "output_type": "stream",
     "text": [
      "Found 1 candidate(s) in the (0,6374) gap.\n",
      "Found 0 candidate(s) in the (6374,12835) gap.\n",
      "/home/ekaterina/Documents/001_Science/Flares_in_Clusters_II/flaresinclustersii/lib/python3.6/site-packages/ipykernel_launcher.py:5: ResourceWarning: unclosed file <_io.FileIO name='../custom_aperture/34ca_tess2019090608344-s0003-0000000142052876-0000-s_lc.fits' mode='rb' closefd=True>\n",
      "  \"\"\"\n"
     ]
    },
    {
     "name": "stdout",
     "output_type": "stream",
     "text": [
      "MODE  custom\n",
      "MODE  savgol\n",
      "MODE  savgol\n"
     ]
    },
    {
     "name": "stderr",
     "output_type": "stream",
     "text": [
      "Found 2 candidate(s) in the (0,6374) gap.\n",
      "Found 3 candidate(s) in the (6374,12835) gap.\n",
      "/home/ekaterina/Documents/001_Science/Flares_in_Clusters_II/flaresinclustersii/lib/python3.6/site-packages/ipykernel_launcher.py:5: ResourceWarning: unclosed file <_io.FileIO name='../custom_aperture/35ca_tess2019090608400-s0003-0000000167894019-0000-s_lc.fits' mode='rb' closefd=True>\n",
      "  \"\"\"\n"
     ]
    },
    {
     "name": "stdout",
     "output_type": "stream",
     "text": [
      "MODE  custom\n",
      "MODE  savgol\n",
      "MODE  savgol\n"
     ]
    },
    {
     "name": "stderr",
     "output_type": "stream",
     "text": [
      "Found 1 candidate(s) in the (0,6374) gap.\n",
      "Found 2 candidate(s) in the (6374,12835) gap.\n",
      "/home/ekaterina/Documents/001_Science/Flares_in_Clusters_II/flaresinclustersii/lib/python3.6/site-packages/ipykernel_launcher.py:5: ResourceWarning: unclosed file <_io.FileIO name='../custom_aperture/36ca_tess2019090608431-s0003-0000000180724005-0000-s_lc.fits' mode='rb' closefd=True>\n",
      "  \"\"\"\n"
     ]
    },
    {
     "name": "stdout",
     "output_type": "stream",
     "text": [
      "MODE  custom\n",
      "MODE  savgol\n",
      "MODE  savgol\n"
     ]
    },
    {
     "name": "stderr",
     "output_type": "stream",
     "text": [
      "Found 1 candidate(s) in the (0,6374) gap.\n",
      "Found 2 candidate(s) in the (6374,12835) gap.\n",
      "/home/ekaterina/Documents/001_Science/Flares_in_Clusters_II/flaresinclustersii/lib/python3.6/site-packages/ipykernel_launcher.py:5: ResourceWarning: unclosed file <_io.FileIO name='../custom_aperture/37ca_tess2019090608464-s0003-0000000220429097-0000-s_lc.fits' mode='rb' closefd=True>\n",
      "  \"\"\"\n"
     ]
    },
    {
     "name": "stdout",
     "output_type": "stream",
     "text": [
      "MODE  custom\n",
      "MODE  savgol\n",
      "MODE  savgol\n"
     ]
    },
    {
     "name": "stderr",
     "output_type": "stream",
     "text": [
      "Found 0 candidate(s) in the (0,6374) gap.\n",
      "Found 1 candidate(s) in the (6374,12835) gap.\n",
      "/home/ekaterina/Documents/001_Science/Flares_in_Clusters_II/flaresinclustersii/lib/python3.6/site-packages/ipykernel_launcher.py:5: ResourceWarning: unclosed file <_io.FileIO name='../custom_aperture/37ca_tess2019102510435-s0003-0000000220429097-0000-s_lc.fits' mode='rb' closefd=True>\n",
      "  \"\"\"\n"
     ]
    },
    {
     "name": "stdout",
     "output_type": "stream",
     "text": [
      "MODE  custom\n",
      "MODE  savgol\n",
      "MODE  savgol\n"
     ]
    },
    {
     "name": "stderr",
     "output_type": "stream",
     "text": [
      "Found 0 candidate(s) in the (0,6374) gap.\n",
      "Found 2 candidate(s) in the (6374,12835) gap.\n",
      "/home/ekaterina/Documents/001_Science/Flares_in_Clusters_II/flaresinclustersii/lib/python3.6/site-packages/ipykernel_launcher.py:5: ResourceWarning: unclosed file <_io.FileIO name='../custom_aperture/38ca_tess2019090608483-s0003-0000000248350761-0000-s_lc.fits' mode='rb' closefd=True>\n",
      "  \"\"\"\n"
     ]
    },
    {
     "name": "stdout",
     "output_type": "stream",
     "text": [
      "MODE  custom\n",
      "MODE  savgol\n",
      "MODE  savgol\n"
     ]
    },
    {
     "name": "stderr",
     "output_type": "stream",
     "text": [
      "Found 0 candidate(s) in the (0,6374) gap.\n",
      "Found 0 candidate(s) in the (6374,12835) gap.\n",
      "/home/ekaterina/Documents/001_Science/Flares_in_Clusters_II/flaresinclustersii/lib/python3.6/site-packages/ipykernel_launcher.py:5: ResourceWarning: unclosed file <_io.FileIO name='../custom_aperture/39ca_tess2019090608520-s0003-0000000308243298-0000-s_lc.fits' mode='rb' closefd=True>\n",
      "  \"\"\"\n"
     ]
    },
    {
     "name": "stdout",
     "output_type": "stream",
     "text": [
      "MODE  custom\n",
      "MODE  savgol\n",
      "MODE  savgol\n"
     ]
    },
    {
     "name": "stderr",
     "output_type": "stream",
     "text": [
      "Found 0 candidate(s) in the (0,6374) gap.\n",
      "Found 0 candidate(s) in the (6374,12835) gap.\n",
      "/home/ekaterina/Documents/001_Science/Flares_in_Clusters_II/flaresinclustersii/lib/python3.6/site-packages/ipykernel_launcher.py:5: ResourceWarning: unclosed file <_io.FileIO name='../custom_aperture/3ca_tess2019090408595-s0001-0000000220429097-0000-s_lc.fits' mode='rb' closefd=True>\n",
      "  \"\"\"\n"
     ]
    },
    {
     "name": "stdout",
     "output_type": "stream",
     "text": [
      "MODE  custom\n",
      "MODE  savgol\n",
      "MODE  savgol\n"
     ]
    },
    {
     "name": "stderr",
     "output_type": "stream",
     "text": [
      "Found 2 candidate(s) in the (0,9073) gap.\n",
      "Found 0 candidate(s) in the (9073,15090) gap.\n",
      "Found 0 candidate(s) in the (15090,17805) gap.\n",
      "/home/ekaterina/Documents/001_Science/Flares_in_Clusters_II/flaresinclustersii/lib/python3.6/site-packages/ipykernel_launcher.py:5: ResourceWarning: unclosed file <_io.FileIO name='../custom_aperture/3ca_tess2019102510403-s0001-0000000220429097-0000-s_lc.fits' mode='rb' closefd=True>\n",
      "  \"\"\"\n"
     ]
    },
    {
     "name": "stdout",
     "output_type": "stream",
     "text": [
      "MODE  custom\n",
      "MODE  savgol\n",
      "MODE  savgol\n"
     ]
    },
    {
     "name": "stderr",
     "output_type": "stream",
     "text": [
      "Found 2 candidate(s) in the (0,9073) gap.\n",
      "Found 0 candidate(s) in the (9073,15090) gap.\n",
      "Found 0 candidate(s) in the (15090,17805) gap.\n",
      "/home/ekaterina/Documents/001_Science/Flares_in_Clusters_II/flaresinclustersii/lib/python3.6/site-packages/ipykernel_launcher.py:5: ResourceWarning: unclosed file <_io.FileIO name='../custom_aperture/40ca_tess2019090608553-s0003-0000000344297533-0000-s_lc.fits' mode='rb' closefd=True>\n",
      "  \"\"\"\n"
     ]
    },
    {
     "name": "stdout",
     "output_type": "stream",
     "text": [
      "MODE  custom\n",
      "MODE  savgol\n",
      "MODE  savgol\n"
     ]
    },
    {
     "name": "stderr",
     "output_type": "stream",
     "text": [
      "Found 0 candidate(s) in the (0,6374) gap.\n",
      "Found 0 candidate(s) in the (6374,12835) gap.\n",
      "/home/ekaterina/Documents/001_Science/Flares_in_Clusters_II/flaresinclustersii/lib/python3.6/site-packages/ipykernel_launcher.py:5: ResourceWarning: unclosed file <_io.FileIO name='../custom_aperture/41ca_tess2019090608565-s0003-0000000369555560-0000-s_lc.fits' mode='rb' closefd=True>\n",
      "  \"\"\"\n"
     ]
    },
    {
     "name": "stdout",
     "output_type": "stream",
     "text": [
      "MODE  custom\n",
      "MODE  savgol\n",
      "MODE  savgol\n"
     ]
    },
    {
     "name": "stderr",
     "output_type": "stream",
     "text": [
      "Found 0 candidate(s) in the (0,6374) gap.\n",
      "Found 2 candidate(s) in the (6374,12835) gap.\n",
      "/home/ekaterina/Documents/001_Science/Flares_in_Clusters_II/flaresinclustersii/lib/python3.6/site-packages/ipykernel_launcher.py:5: ResourceWarning: unclosed file <_io.FileIO name='../custom_aperture/42ca_tess2019090609232-s0004-0000000029780677-0000-s_lc.fits' mode='rb' closefd=True>\n",
      "  \"\"\"\n"
     ]
    },
    {
     "name": "stdout",
     "output_type": "stream",
     "text": [
      "MODE  custom\n",
      "MODE  savgol\n",
      "MODE  savgol\n"
     ]
    },
    {
     "name": "stderr",
     "output_type": "stream",
     "text": [
      "Found 1 candidate(s) in the (0,5076) gap.\n",
      "Found 0 candidate(s) in the (5076,5676) gap.\n",
      "Found 0 candidate(s) in the (5676,14058) gap.\n",
      "/home/ekaterina/Documents/001_Science/Flares_in_Clusters_II/flaresinclustersii/lib/python3.6/site-packages/ipykernel_launcher.py:5: ResourceWarning: unclosed file <_io.FileIO name='../custom_aperture/43ca_tess2019090609300-s0004-0000000035858101-0000-s_lc.fits' mode='rb' closefd=True>\n",
      "  \"\"\"\n"
     ]
    },
    {
     "name": "stdout",
     "output_type": "stream",
     "text": [
      "MODE  custom\n",
      "MODE  savgol\n",
      "MODE  savgol\n"
     ]
    },
    {
     "name": "stderr",
     "output_type": "stream",
     "text": [
      "Found 0 candidate(s) in the (0,5076) gap.\n",
      "Found 0 candidate(s) in the (5076,5676) gap.\n",
      "Found 0 candidate(s) in the (5676,14058) gap.\n",
      "/home/ekaterina/Documents/001_Science/Flares_in_Clusters_II/flaresinclustersii/lib/python3.6/site-packages/ipykernel_launcher.py:5: ResourceWarning: unclosed file <_io.FileIO name='../custom_aperture/44ca_tess2019100910402-s0004-0000000044892011-0000-s_lc.fits' mode='rb' closefd=True>\n",
      "  \"\"\"\n"
     ]
    },
    {
     "name": "stdout",
     "output_type": "stream",
     "text": [
      "MODE  custom\n",
      "MODE  savgol\n",
      "MODE  savgol\n"
     ]
    },
    {
     "name": "stderr",
     "output_type": "stream",
     "text": [
      "Found 1 candidate(s) in the (0,5076) gap.\n",
      "Found 0 candidate(s) in the (5076,5676) gap.\n",
      "Found 0 candidate(s) in the (5676,14058) gap.\n",
      "/home/ekaterina/Documents/001_Science/Flares_in_Clusters_II/flaresinclustersii/lib/python3.6/site-packages/ipykernel_launcher.py:5: ResourceWarning: unclosed file <_io.FileIO name='../custom_aperture/45ca_tess2019090609424-s0004-0000000121024099-0000-s_lc.fits' mode='rb' closefd=True>\n",
      "  \"\"\"\n"
     ]
    },
    {
     "name": "stdout",
     "output_type": "stream",
     "text": [
      "MODE  custom\n",
      "MODE  savgol\n",
      "MODE  savgol\n"
     ]
    },
    {
     "name": "stderr",
     "output_type": "stream",
     "text": [
      "Found 0 candidate(s) in the (0,5076) gap.\n",
      "Found 0 candidate(s) in the (5076,5676) gap.\n",
      "Found 0 candidate(s) in the (5676,14058) gap.\n",
      "/home/ekaterina/Documents/001_Science/Flares_in_Clusters_II/flaresinclustersii/lib/python3.6/site-packages/ipykernel_launcher.py:5: ResourceWarning: unclosed file <_io.FileIO name='../custom_aperture/46ca_tess2019090609482-s0004-0000000141306513-0000-s_lc.fits' mode='rb' closefd=True>\n",
      "  \"\"\"\n"
     ]
    },
    {
     "name": "stdout",
     "output_type": "stream",
     "text": [
      "MODE  custom\n",
      "Do a coarse spline interpolation to remove trends.\n",
      "MODE  savgol\n",
      "MODE  savgol\n"
     ]
    },
    {
     "name": "stderr",
     "output_type": "stream",
     "text": [
      "Found 2 candidate(s) in the (0,5225) gap.\n",
      "Found 0 candidate(s) in the (5225,6124) gap.\n",
      "Found 2 candidate(s) in the (6124,14656) gap.\n",
      "/home/ekaterina/Documents/001_Science/Flares_in_Clusters_II/flaresinclustersii/lib/python3.6/site-packages/ipykernel_launcher.py:5: ResourceWarning: unclosed file <_io.FileIO name='../custom_aperture/47ca_tess2019090609523-s0004-0000000142052876-0000-s_lc.fits' mode='rb' closefd=True>\n",
      "  \"\"\"\n"
     ]
    },
    {
     "name": "stdout",
     "output_type": "stream",
     "text": [
      "MODE  custom\n",
      "MODE  savgol\n",
      "MODE  savgol\n"
     ]
    },
    {
     "name": "stderr",
     "output_type": "stream",
     "text": [
      "Found 6 candidate(s) in the (0,5076) gap.\n",
      "Found 0 candidate(s) in the (5076,5676) gap.\n",
      "Found 2 candidate(s) in the (5676,14058) gap.\n",
      "/home/ekaterina/Documents/001_Science/Flares_in_Clusters_II/flaresinclustersii/lib/python3.6/site-packages/ipykernel_launcher.py:5: ResourceWarning: unclosed file <_io.FileIO name='../custom_aperture/48ca_tess2019090609573-s0004-0000000142944290-0000-s_lc.fits' mode='rb' closefd=True>\n",
      "  \"\"\"\n"
     ]
    },
    {
     "name": "stdout",
     "output_type": "stream",
     "text": [
      "MODE  custom\n",
      "MODE  savgol\n",
      "MODE  savgol\n"
     ]
    },
    {
     "name": "stderr",
     "output_type": "stream",
     "text": [
      "Found 0 candidate(s) in the (0,5076) gap.\n",
      "Found 0 candidate(s) in the (5076,5676) gap.\n",
      "Found 0 candidate(s) in the (5676,14058) gap.\n",
      "/home/ekaterina/Documents/001_Science/Flares_in_Clusters_II/flaresinclustersii/lib/python3.6/site-packages/ipykernel_launcher.py:5: ResourceWarning: unclosed file <_io.FileIO name='../custom_aperture/49ca_tess2019090610040-s0004-0000000143029977-0000-s_lc.fits' mode='rb' closefd=True>\n",
      "  \"\"\"\n"
     ]
    },
    {
     "name": "stdout",
     "output_type": "stream",
     "text": [
      "MODE  custom\n",
      "MODE  savgol\n",
      "MODE  savgol\n"
     ]
    },
    {
     "name": "stderr",
     "output_type": "stream",
     "text": [
      "Found 0 candidate(s) in the (0,5076) gap.\n",
      "Found 0 candidate(s) in the (5076,5676) gap.\n",
      "Found 0 candidate(s) in the (5676,14058) gap.\n",
      "/home/ekaterina/Documents/001_Science/Flares_in_Clusters_II/flaresinclustersii/lib/python3.6/site-packages/ipykernel_launcher.py:5: ResourceWarning: unclosed file <_io.FileIO name='../custom_aperture/4ca_tess2019090409262-s0001-0000000234307350-0000-s_lc.fits' mode='rb' closefd=True>\n",
      "  \"\"\"\n"
     ]
    },
    {
     "name": "stdout",
     "output_type": "stream",
     "text": [
      "MODE  custom\n",
      "MODE  savgol\n",
      "MODE  savgol\n"
     ]
    },
    {
     "name": "stderr",
     "output_type": "stream",
     "text": [
      "Found 0 candidate(s) in the (0,9073) gap.\n",
      "Found 0 candidate(s) in the (9073,15090) gap.\n",
      "Found 1 candidate(s) in the (15090,17805) gap.\n",
      "/home/ekaterina/Documents/001_Science/Flares_in_Clusters_II/flaresinclustersii/lib/python3.6/site-packages/ipykernel_launcher.py:5: ResourceWarning: unclosed file <_io.FileIO name='../custom_aperture/50ca_tess2019090610062-s0004-0000000167894019-0000-s_lc.fits' mode='rb' closefd=True>\n",
      "  \"\"\"\n"
     ]
    },
    {
     "name": "stdout",
     "output_type": "stream",
     "text": [
      "MODE  custom\n",
      "MODE  savgol\n",
      "MODE  savgol\n"
     ]
    },
    {
     "name": "stderr",
     "output_type": "stream",
     "text": [
      "Found 0 candidate(s) in the (0,5076) gap.\n",
      "Found 0 candidate(s) in the (5076,5676) gap.\n",
      "Found 0 candidate(s) in the (5676,14058) gap.\n",
      "/home/ekaterina/Documents/001_Science/Flares_in_Clusters_II/flaresinclustersii/lib/python3.6/site-packages/ipykernel_launcher.py:5: ResourceWarning: unclosed file <_io.FileIO name='../custom_aperture/51ca_tess2019090610111-s0004-0000000170675902-0000-s_lc.fits' mode='rb' closefd=True>\n",
      "  \"\"\"\n"
     ]
    },
    {
     "name": "stdout",
     "output_type": "stream",
     "text": [
      "MODE  custom\n",
      "MODE  savgol\n",
      "MODE  savgol\n"
     ]
    },
    {
     "name": "stderr",
     "output_type": "stream",
     "text": [
      "Found 0 candidate(s) in the (0,5076) gap.\n",
      "Found 0 candidate(s) in the (5076,5676) gap.\n",
      "Found 1 candidate(s) in the (5676,14058) gap.\n",
      "/home/ekaterina/Documents/001_Science/Flares_in_Clusters_II/flaresinclustersii/lib/python3.6/site-packages/ipykernel_launcher.py:5: ResourceWarning: unclosed file <_io.FileIO name='../custom_aperture/52ca_tess2019090610130-s0004-0000000278199738-0000-s_lc.fits' mode='rb' closefd=True>\n",
      "  \"\"\"\n"
     ]
    },
    {
     "name": "stdout",
     "output_type": "stream",
     "text": [
      "MODE  custom\n",
      "MODE  savgol\n",
      "MODE  savgol\n"
     ]
    },
    {
     "name": "stderr",
     "output_type": "stream",
     "text": [
      "Found 0 candidate(s) in the (0,5076) gap.\n",
      "Found 0 candidate(s) in the (5076,5676) gap.\n",
      "Found 0 candidate(s) in the (5676,14058) gap.\n",
      "/home/ekaterina/Documents/001_Science/Flares_in_Clusters_II/flaresinclustersii/lib/python3.6/site-packages/ipykernel_launcher.py:5: ResourceWarning: unclosed file <_io.FileIO name='../custom_aperture/53ca_tess2019090610180-s0004-0000000279482950-0000-s_lc.fits' mode='rb' closefd=True>\n",
      "  \"\"\"\n"
     ]
    },
    {
     "name": "stdout",
     "output_type": "stream",
     "text": [
      "MODE  custom\n",
      "MODE  savgol\n",
      "MODE  savgol\n"
     ]
    },
    {
     "name": "stderr",
     "output_type": "stream",
     "text": [
      "Found 3 candidate(s) in the (0,5076) gap.\n",
      "Found 0 candidate(s) in the (5076,5676) gap.\n",
      "Found 0 candidate(s) in the (5676,14058) gap.\n",
      "/home/ekaterina/Documents/001_Science/Flares_in_Clusters_II/flaresinclustersii/lib/python3.6/site-packages/ipykernel_launcher.py:5: ResourceWarning: unclosed file <_io.FileIO name='../custom_aperture/54ca_tess2019090610244-s0004-0000000293561794-0000-s_lc.fits' mode='rb' closefd=True>\n",
      "  \"\"\"\n"
     ]
    },
    {
     "name": "stdout",
     "output_type": "stream",
     "text": [
      "MODE  custom\n",
      "MODE  savgol\n",
      "MODE  savgol\n"
     ]
    },
    {
     "name": "stderr",
     "output_type": "stream",
     "text": [
      "Found 3 candidate(s) in the (0,5076) gap.\n",
      "Found 1 candidate(s) in the (5076,5676) gap.\n",
      "Found 6 candidate(s) in the (5676,14058) gap.\n",
      "/home/ekaterina/Documents/001_Science/Flares_in_Clusters_II/flaresinclustersii/lib/python3.6/site-packages/ipykernel_launcher.py:5: ResourceWarning: unclosed file <_io.FileIO name='../custom_aperture/55ca_tess2019090610310-s0004-0000000308243298-0000-s_lc.fits' mode='rb' closefd=True>\n",
      "  \"\"\"\n"
     ]
    },
    {
     "name": "stdout",
     "output_type": "stream",
     "text": [
      "MODE  custom\n",
      "MODE  savgol\n",
      "MODE  savgol\n"
     ]
    },
    {
     "name": "stderr",
     "output_type": "stream",
     "text": [
      "Found 0 candidate(s) in the (0,5076) gap.\n",
      "Found 0 candidate(s) in the (5076,5676) gap.\n",
      "Found 0 candidate(s) in the (5676,14058) gap.\n",
      "/home/ekaterina/Documents/001_Science/Flares_in_Clusters_II/flaresinclustersii/lib/python3.6/site-packages/ipykernel_launcher.py:5: ResourceWarning: unclosed file <_io.FileIO name='../custom_aperture/56ca_tess2019090610330-s0004-0000000328254412-0000-s_lc.fits' mode='rb' closefd=True>\n",
      "  \"\"\"\n"
     ]
    },
    {
     "name": "stdout",
     "output_type": "stream",
     "text": [
      "MODE  custom\n",
      "MODE  savgol\n",
      "MODE  savgol\n"
     ]
    },
    {
     "name": "stderr",
     "output_type": "stream",
     "text": [
      "Found 3 candidate(s) in the (0,5076) gap.\n",
      "Found 1 candidate(s) in the (5076,5676) gap.\n",
      "Found 2 candidate(s) in the (5676,14058) gap.\n",
      "/home/ekaterina/Documents/001_Science/Flares_in_Clusters_II/flaresinclustersii/lib/python3.6/site-packages/ipykernel_launcher.py:5: ResourceWarning: unclosed file <_io.FileIO name='../custom_aperture/57ca_tess2019090610345-s0004-0000000328401671-0000-s_lc.fits' mode='rb' closefd=True>\n",
      "  \"\"\"\n"
     ]
    },
    {
     "name": "stdout",
     "output_type": "stream",
     "text": [
      "MODE  custom\n",
      "MODE  savgol\n",
      "MODE  savgol\n"
     ]
    },
    {
     "name": "stderr",
     "output_type": "stream",
     "text": [
      "Found 0 candidate(s) in the (0,5076) gap.\n",
      "Found 0 candidate(s) in the (5076,5676) gap.\n",
      "Found 0 candidate(s) in the (5676,14058) gap.\n",
      "/home/ekaterina/Documents/001_Science/Flares_in_Clusters_II/flaresinclustersii/lib/python3.6/site-packages/ipykernel_launcher.py:5: ResourceWarning: unclosed file <_io.FileIO name='../custom_aperture/58ca_tess2019090610383-s0004-0000000365369408-0000-s_lc.fits' mode='rb' closefd=True>\n",
      "  \"\"\"\n"
     ]
    },
    {
     "name": "stdout",
     "output_type": "stream",
     "text": [
      "MODE  custom\n",
      "MODE  savgol\n",
      "MODE  savgol\n"
     ]
    },
    {
     "name": "stderr",
     "output_type": "stream",
     "text": [
      "Found 0 candidate(s) in the (0,5076) gap.\n",
      "Found 0 candidate(s) in the (5076,5676) gap.\n",
      "Found 0 candidate(s) in the (5676,14058) gap.\n",
      "/home/ekaterina/Documents/001_Science/Flares_in_Clusters_II/flaresinclustersii/lib/python3.6/site-packages/ipykernel_launcher.py:5: ResourceWarning: unclosed file <_io.FileIO name='../custom_aperture/59ca_tess2019090610403-s0004-0000000406479664-0000-s_lc.fits' mode='rb' closefd=True>\n",
      "  \"\"\"\n"
     ]
    },
    {
     "name": "stdout",
     "output_type": "stream",
     "text": [
      "MODE  custom\n",
      "Do a coarse spline interpolation to remove trends.\n",
      "MODE  savgol\n",
      "MODE  savgol\n"
     ]
    },
    {
     "name": "stderr",
     "output_type": "stream",
     "text": [
      "Found 1 candidate(s) in the (0,5225) gap.\n",
      "Found 3 candidate(s) in the (5225,6124) gap.\n",
      "Found 0 candidate(s) in the (6124,14656) gap.\n",
      "/home/ekaterina/Documents/001_Science/Flares_in_Clusters_II/flaresinclustersii/lib/python3.6/site-packages/ipykernel_launcher.py:5: ResourceWarning: unclosed file <_io.FileIO name='../custom_aperture/5ca_tess2019082311060-s0001-0000000259901346-0000-s_lc.fits' mode='rb' closefd=True>\n",
      "  \"\"\"\n"
     ]
    },
    {
     "name": "stdout",
     "output_type": "stream",
     "text": [
      "MODE  custom\n",
      "MODE  savgol\n",
      "MODE  savgol\n"
     ]
    },
    {
     "name": "stderr",
     "output_type": "stream",
     "text": [
      "Found 0 candidate(s) in the (0,9073) gap.\n",
      "Found 0 candidate(s) in the (9073,15090) gap.\n",
      "Found 0 candidate(s) in the (15090,17805) gap.\n",
      "/home/ekaterina/Documents/001_Science/Flares_in_Clusters_II/flaresinclustersii/lib/python3.6/site-packages/ipykernel_launcher.py:5: ResourceWarning: unclosed file <_io.FileIO name='../custom_aperture/60ca_tess2019090610412-s0004-0000000420001446-0000-s_lc.fits' mode='rb' closefd=True>\n",
      "  \"\"\"\n"
     ]
    },
    {
     "name": "stdout",
     "output_type": "stream",
     "text": [
      "MODE  custom\n",
      "MODE  savgol\n",
      "MODE  savgol\n"
     ]
    },
    {
     "name": "stderr",
     "output_type": "stream",
     "text": [
      "Found 0 candidate(s) in the (0,5076) gap.\n",
      "Found 0 candidate(s) in the (5076,5676) gap.\n",
      "Found 4 candidate(s) in the (5676,14058) gap.\n",
      "/home/ekaterina/Documents/001_Science/Flares_in_Clusters_II/flaresinclustersii/lib/python3.6/site-packages/ipykernel_launcher.py:5: ResourceWarning: unclosed file <_io.FileIO name='../custom_aperture/61ca_tess2019090610424-s0004-0000000441519239-0000-s_lc.fits' mode='rb' closefd=True>\n",
      "  \"\"\"\n"
     ]
    },
    {
     "name": "stdout",
     "output_type": "stream",
     "text": [
      "MODE  custom\n",
      "MODE  savgol\n",
      "MODE  savgol\n"
     ]
    },
    {
     "name": "stderr",
     "output_type": "stream",
     "text": [
      "Found 1 candidate(s) in the (0,5076) gap.\n",
      "Found 0 candidate(s) in the (5076,5676) gap.\n",
      "Found 0 candidate(s) in the (5676,14058) gap.\n",
      "/home/ekaterina/Documents/001_Science/Flares_in_Clusters_II/flaresinclustersii/lib/python3.6/site-packages/ipykernel_launcher.py:5: ResourceWarning: unclosed file <_io.FileIO name='../custom_aperture/62ca_tess2019090610453-s0005-0000000029780677-0000-s_lc.fits' mode='rb' closefd=True>\n",
      "  \"\"\"\n"
     ]
    },
    {
     "name": "stdout",
     "output_type": "stream",
     "text": [
      "MODE  custom\n",
      "MODE  savgol\n",
      "MODE  savgol\n"
     ]
    },
    {
     "name": "stderr",
     "output_type": "stream",
     "text": [
      "Found 0 candidate(s) in the (0,8023) gap.\n",
      "Found 4 candidate(s) in the (8023,16349) gap.\n",
      "/home/ekaterina/Documents/001_Science/Flares_in_Clusters_II/flaresinclustersii/lib/python3.6/site-packages/ipykernel_launcher.py:5: ResourceWarning: unclosed file <_io.FileIO name='../custom_aperture/63ca_tess2019090610494-s0005-0000000044892011-0000-s_lc.fits' mode='rb' closefd=True>\n",
      "  \"\"\"\n"
     ]
    },
    {
     "name": "stdout",
     "output_type": "stream",
     "text": [
      "MODE  custom\n",
      "MODE  savgol\n",
      "MODE  savgol\n"
     ]
    },
    {
     "name": "stderr",
     "output_type": "stream",
     "text": [
      "Found 0 candidate(s) in the (0,8023) gap.\n",
      "Found 0 candidate(s) in the (8023,16349) gap.\n",
      "/home/ekaterina/Documents/001_Science/Flares_in_Clusters_II/flaresinclustersii/lib/python3.6/site-packages/ipykernel_launcher.py:5: ResourceWarning: unclosed file <_io.FileIO name='../custom_aperture/64ca_tess2019090610505-s0005-0000000077842052-0000-s_lc.fits' mode='rb' closefd=True>\n",
      "  \"\"\"\n"
     ]
    },
    {
     "name": "stdout",
     "output_type": "stream",
     "text": [
      "MODE  custom\n",
      "MODE  savgol\n",
      "MODE  savgol\n"
     ]
    },
    {
     "name": "stderr",
     "output_type": "stream",
     "text": [
      "Found 0 candidate(s) in the (0,8023) gap.\n",
      "Found 0 candidate(s) in the (8023,16349) gap.\n",
      "/home/ekaterina/Documents/001_Science/Flares_in_Clusters_II/flaresinclustersii/lib/python3.6/site-packages/ipykernel_launcher.py:5: ResourceWarning: unclosed file <_io.FileIO name='../custom_aperture/65ca_tess2019090610534-s0005-0000000077959225-0000-s_lc.fits' mode='rb' closefd=True>\n",
      "  \"\"\"\n"
     ]
    },
    {
     "name": "stdout",
     "output_type": "stream",
     "text": [
      "MODE  custom\n",
      "MODE  savgol\n",
      "MODE  savgol\n"
     ]
    },
    {
     "name": "stderr",
     "output_type": "stream",
     "text": [
      "Found 0 candidate(s) in the (0,8023) gap.\n",
      "Found 0 candidate(s) in the (8023,16349) gap.\n",
      "/home/ekaterina/Documents/001_Science/Flares_in_Clusters_II/flaresinclustersii/lib/python3.6/site-packages/ipykernel_launcher.py:5: ResourceWarning: unclosed file <_io.FileIO name='../custom_aperture/66ca_tess2019090610560-s0005-0000000117733072-0000-s_lc.fits' mode='rb' closefd=True>\n",
      "  \"\"\"\n"
     ]
    },
    {
     "name": "stdout",
     "output_type": "stream",
     "text": [
      "MODE  custom\n",
      "MODE  savgol\n",
      "MODE  savgol\n"
     ]
    },
    {
     "name": "stderr",
     "output_type": "stream",
     "text": [
      "Found 0 candidate(s) in the (0,8023) gap.\n",
      "Found 0 candidate(s) in the (8023,16349) gap.\n",
      "/home/ekaterina/Documents/001_Science/Flares_in_Clusters_II/flaresinclustersii/lib/python3.6/site-packages/ipykernel_launcher.py:5: ResourceWarning: unclosed file <_io.FileIO name='../custom_aperture/67ca_tess2019090610575-s0005-0000000117733581-0000-s_lc.fits' mode='rb' closefd=True>\n",
      "  \"\"\"\n"
     ]
    },
    {
     "name": "stdout",
     "output_type": "stream",
     "text": [
      "MODE  custom\n",
      "MODE  savgol\n",
      "MODE  savgol\n"
     ]
    },
    {
     "name": "stderr",
     "output_type": "stream",
     "text": [
      "Found 3 candidate(s) in the (0,8023) gap.\n",
      "Found 1 candidate(s) in the (8023,16349) gap.\n",
      "/home/ekaterina/Documents/001_Science/Flares_in_Clusters_II/flaresinclustersii/lib/python3.6/site-packages/ipykernel_launcher.py:5: ResourceWarning: unclosed file <_io.FileIO name='../custom_aperture/67ca_tess2019090611021-s0005-0000000117733581-0000-s_lc.fits' mode='rb' closefd=True>\n",
      "  \"\"\"\n"
     ]
    },
    {
     "name": "stdout",
     "output_type": "stream",
     "text": [
      "MODE  custom\n",
      "MODE  savgol\n",
      "MODE  savgol\n"
     ]
    },
    {
     "name": "stderr",
     "output_type": "stream",
     "text": [
      "Found 3 candidate(s) in the (0,8023) gap.\n",
      "Found 1 candidate(s) in the (8023,16349) gap.\n",
      "/home/ekaterina/Documents/001_Science/Flares_in_Clusters_II/flaresinclustersii/lib/python3.6/site-packages/ipykernel_launcher.py:5: ResourceWarning: unclosed file <_io.FileIO name='../custom_aperture/68ca_tess2019090611004-s0005-0000000142052876-0000-s_lc.fits' mode='rb' closefd=True>\n",
      "  \"\"\"\n"
     ]
    },
    {
     "name": "stdout",
     "output_type": "stream",
     "text": [
      "MODE  custom\n",
      "MODE  savgol\n",
      "MODE  savgol\n"
     ]
    },
    {
     "name": "stderr",
     "output_type": "stream",
     "text": [
      "Found 1 candidate(s) in the (0,8023) gap.\n",
      "Found 2 candidate(s) in the (8023,16349) gap.\n",
      "/home/ekaterina/Documents/001_Science/Flares_in_Clusters_II/flaresinclustersii/lib/python3.6/site-packages/ipykernel_launcher.py:5: ResourceWarning: unclosed file <_io.FileIO name='../custom_aperture/69ca_tess2019090611060-s0005-0000000167894019-0000-s_lc.fits' mode='rb' closefd=True>\n",
      "  \"\"\"\n"
     ]
    },
    {
     "name": "stdout",
     "output_type": "stream",
     "text": [
      "MODE  custom\n",
      "MODE  savgol\n",
      "MODE  savgol\n"
     ]
    },
    {
     "name": "stderr",
     "output_type": "stream",
     "text": [
      "Found 1 candidate(s) in the (0,8023) gap.\n",
      "Found 3 candidate(s) in the (8023,16349) gap.\n",
      "/home/ekaterina/Documents/001_Science/Flares_in_Clusters_II/flaresinclustersii/lib/python3.6/site-packages/ipykernel_launcher.py:5: ResourceWarning: unclosed file <_io.FileIO name='../custom_aperture/6ca_tess2019082314042-s0001-0000000280801342-0000-s_lc.fits' mode='rb' closefd=True>\n",
      "  \"\"\"\n"
     ]
    },
    {
     "name": "stdout",
     "output_type": "stream",
     "text": [
      "MODE  custom\n",
      "MODE  savgol\n",
      "MODE  savgol\n"
     ]
    },
    {
     "name": "stderr",
     "output_type": "stream",
     "text": [
      "Found 0 candidate(s) in the (0,9073) gap.\n",
      "Found 0 candidate(s) in the (9073,15090) gap.\n",
      "Found 0 candidate(s) in the (15090,17805) gap.\n",
      "/home/ekaterina/Documents/001_Science/Flares_in_Clusters_II/flaresinclustersii/lib/python3.6/site-packages/ipykernel_launcher.py:5: ResourceWarning: unclosed file <_io.FileIO name='../custom_aperture/70ca_tess2019090611095-s0005-0000000170675902-0000-s_lc.fits' mode='rb' closefd=True>\n",
      "  \"\"\"\n"
     ]
    },
    {
     "name": "stdout",
     "output_type": "stream",
     "text": [
      "MODE  custom\n",
      "MODE  savgol\n",
      "MODE  savgol\n"
     ]
    },
    {
     "name": "stderr",
     "output_type": "stream",
     "text": [
      "Found 1 candidate(s) in the (0,8023) gap.\n",
      "Found 2 candidate(s) in the (8023,16349) gap.\n",
      "/home/ekaterina/Documents/001_Science/Flares_in_Clusters_II/flaresinclustersii/lib/python3.6/site-packages/ipykernel_launcher.py:5: ResourceWarning: unclosed file <_io.FileIO name='../custom_aperture/71ca_tess2019090611125-s0005-0000000220429097-0000-s_lc.fits' mode='rb' closefd=True>\n",
      "  \"\"\"\n"
     ]
    },
    {
     "name": "stdout",
     "output_type": "stream",
     "text": [
      "MODE  custom\n",
      "MODE  savgol\n",
      "MODE  savgol\n"
     ]
    },
    {
     "name": "stderr",
     "output_type": "stream",
     "text": [
      "Found 1 candidate(s) in the (0,8023) gap.\n",
      "Found 0 candidate(s) in the (8023,16349) gap.\n",
      "/home/ekaterina/Documents/001_Science/Flares_in_Clusters_II/flaresinclustersii/lib/python3.6/site-packages/ipykernel_launcher.py:5: ResourceWarning: unclosed file <_io.FileIO name='../custom_aperture/71ca_tess2019102510482-s0005-0000000220429097-0000-s_lc.fits' mode='rb' closefd=True>\n",
      "  \"\"\"\n"
     ]
    },
    {
     "name": "stdout",
     "output_type": "stream",
     "text": [
      "MODE  custom\n",
      "MODE  savgol\n",
      "MODE  savgol\n"
     ]
    },
    {
     "name": "stderr",
     "output_type": "stream",
     "text": [
      "Found 1 candidate(s) in the (0,8023) gap.\n",
      "Found 1 candidate(s) in the (8023,16349) gap.\n",
      "/home/ekaterina/Documents/001_Science/Flares_in_Clusters_II/flaresinclustersii/lib/python3.6/site-packages/ipykernel_launcher.py:5: ResourceWarning: unclosed file <_io.FileIO name='../custom_aperture/72ca_tess2019090611163-s0005-0000000279482950-0000-s_lc.fits' mode='rb' closefd=True>\n",
      "  \"\"\"\n"
     ]
    },
    {
     "name": "stdout",
     "output_type": "stream",
     "text": [
      "MODE  custom\n",
      "MODE  savgol\n",
      "MODE  savgol\n"
     ]
    },
    {
     "name": "stderr",
     "output_type": "stream",
     "text": [
      "Found 1 candidate(s) in the (0,8023) gap.\n",
      "Found 2 candidate(s) in the (8023,16349) gap.\n",
      "/home/ekaterina/Documents/001_Science/Flares_in_Clusters_II/flaresinclustersii/lib/python3.6/site-packages/ipykernel_launcher.py:5: ResourceWarning: unclosed file <_io.FileIO name='../custom_aperture/73ca_tess2019090611183-s0005-0000000284678097-0000-s_lc.fits' mode='rb' closefd=True>\n",
      "  \"\"\"\n"
     ]
    },
    {
     "name": "stdout",
     "output_type": "stream",
     "text": [
      "MODE  custom\n",
      "MODE  savgol\n",
      "MODE  savgol\n"
     ]
    },
    {
     "name": "stderr",
     "output_type": "stream",
     "text": [
      "Found 0 candidate(s) in the (0,8023) gap.\n",
      "Found 0 candidate(s) in the (8023,16349) gap.\n",
      "/home/ekaterina/Documents/001_Science/Flares_in_Clusters_II/flaresinclustersii/lib/python3.6/site-packages/ipykernel_launcher.py:5: ResourceWarning: unclosed file <_io.FileIO name='../custom_aperture/74ca_tess2019090611242-s0005-0000000298907057-0000-s_lc.fits' mode='rb' closefd=True>\n",
      "  \"\"\"\n"
     ]
    },
    {
     "name": "stdout",
     "output_type": "stream",
     "text": [
      "MODE  custom\n",
      "MODE  savgol\n",
      "MODE  savgol\n"
     ]
    },
    {
     "name": "stderr",
     "output_type": "stream",
     "text": [
      "Found 2 candidate(s) in the (0,8023) gap.\n",
      "Found 2 candidate(s) in the (8023,16349) gap.\n",
      "/home/ekaterina/Documents/001_Science/Flares_in_Clusters_II/flaresinclustersii/lib/python3.6/site-packages/ipykernel_launcher.py:5: ResourceWarning: unclosed file <_io.FileIO name='../custom_aperture/75ca_tess2019090611284-s0005-0000000332623751-0000-s_lc.fits' mode='rb' closefd=True>\n",
      "  \"\"\"\n"
     ]
    },
    {
     "name": "stdout",
     "output_type": "stream",
     "text": [
      "MODE  custom\n",
      "MODE  savgol\n",
      "MODE  savgol\n"
     ]
    },
    {
     "name": "stderr",
     "output_type": "stream",
     "text": [
      "Found 0 candidate(s) in the (0,8023) gap.\n",
      "Found 4 candidate(s) in the (8023,16349) gap.\n",
      "/home/ekaterina/Documents/001_Science/Flares_in_Clusters_II/flaresinclustersii/lib/python3.6/site-packages/ipykernel_launcher.py:5: ResourceWarning: unclosed file <_io.FileIO name='../custom_aperture/76ca_tess2019090611304-s0005-0000000396862832-0000-s_lc.fits' mode='rb' closefd=True>\n",
      "  \"\"\"\n"
     ]
    },
    {
     "name": "stdout",
     "output_type": "stream",
     "text": [
      "MODE  custom\n",
      "MODE  savgol\n",
      "MODE  savgol\n"
     ]
    },
    {
     "name": "stderr",
     "output_type": "stream",
     "text": [
      "Found 1 candidate(s) in the (0,8023) gap.\n",
      "Found 1 candidate(s) in the (8023,16349) gap.\n",
      "/home/ekaterina/Documents/001_Science/Flares_in_Clusters_II/flaresinclustersii/lib/python3.6/site-packages/ipykernel_launcher.py:5: ResourceWarning: unclosed file <_io.FileIO name='../custom_aperture/77ca_tess2019090611333-s0005-0000000401945077-0000-s_lc.fits' mode='rb' closefd=True>\n",
      "  \"\"\"\n"
     ]
    },
    {
     "name": "stdout",
     "output_type": "stream",
     "text": [
      "MODE  custom\n",
      "MODE  savgol\n",
      "MODE  savgol\n"
     ]
    },
    {
     "name": "stderr",
     "output_type": "stream",
     "text": [
      "Found 0 candidate(s) in the (0,8023) gap.\n",
      "Found 0 candidate(s) in the (8023,16349) gap.\n",
      "/home/ekaterina/Documents/001_Science/Flares_in_Clusters_II/flaresinclustersii/lib/python3.6/site-packages/ipykernel_launcher.py:5: ResourceWarning: unclosed file <_io.FileIO name='../custom_aperture/78ca_tess2019090611381-s0005-0000000416744592-0000-s_lc.fits' mode='rb' closefd=True>\n",
      "  \"\"\"\n"
     ]
    },
    {
     "name": "stdout",
     "output_type": "stream",
     "text": [
      "MODE  custom\n",
      "MODE  savgol\n",
      "MODE  savgol\n"
     ]
    },
    {
     "name": "stderr",
     "output_type": "stream",
     "text": [
      "Found 1 candidate(s) in the (0,8023) gap.\n",
      "Found 2 candidate(s) in the (8023,16349) gap.\n",
      "/home/ekaterina/Documents/001_Science/Flares_in_Clusters_II/flaresinclustersii/lib/python3.6/site-packages/ipykernel_launcher.py:5: ResourceWarning: unclosed file <_io.FileIO name='../custom_aperture/79ca_tess2019090612002-s0006-0000000029780677-0000-s_lc.fits' mode='rb' closefd=True>\n",
      "  \"\"\"\n"
     ]
    },
    {
     "name": "stdout",
     "output_type": "stream",
     "text": [
      "MODE  custom\n",
      "MODE  savgol\n",
      "MODE  savgol\n"
     ]
    },
    {
     "name": "stderr",
     "output_type": "stream",
     "text": [
      "Found 3 candidate(s) in the (0,5939) gap.\n",
      "Found 4 candidate(s) in the (5939,13998) gap.\n",
      "/home/ekaterina/Documents/001_Science/Flares_in_Clusters_II/flaresinclustersii/lib/python3.6/site-packages/ipykernel_launcher.py:5: ResourceWarning: unclosed file <_io.FileIO name='../custom_aperture/7ca_tess2019082314075-s0001-0000000303978478-0000-s_lc.fits' mode='rb' closefd=True>\n",
      "  \"\"\"\n"
     ]
    },
    {
     "name": "stdout",
     "output_type": "stream",
     "text": [
      "MODE  custom\n",
      "MODE  savgol\n",
      "MODE  savgol\n"
     ]
    },
    {
     "name": "stderr",
     "output_type": "stream",
     "text": [
      "Found 0 candidate(s) in the (0,9073) gap.\n",
      "Found 0 candidate(s) in the (9073,15090) gap.\n",
      "Found 0 candidate(s) in the (15090,17805) gap.\n",
      "/home/ekaterina/Documents/001_Science/Flares_in_Clusters_II/flaresinclustersii/lib/python3.6/site-packages/ipykernel_launcher.py:5: ResourceWarning: unclosed file <_io.FileIO name='../custom_aperture/80ca_tess2019090612025-s0006-0000000053603145-0000-s_lc.fits' mode='rb' closefd=True>\n",
      "  \"\"\"\n"
     ]
    },
    {
     "name": "stdout",
     "output_type": "stream",
     "text": [
      "MODE  custom\n",
      "Do a coarse spline interpolation to remove trends.\n",
      "MODE  savgol\n",
      "MODE  savgol\n"
     ]
    },
    {
     "name": "stderr",
     "output_type": "stream",
     "text": [
      "Found 0 candidate(s) in the (0,6088) gap.\n",
      "Found 0 candidate(s) in the (6088,14297) gap.\n",
      "/home/ekaterina/Documents/001_Science/Flares_in_Clusters_II/flaresinclustersii/lib/python3.6/site-packages/ipykernel_launcher.py:5: ResourceWarning: unclosed file <_io.FileIO name='../custom_aperture/81ca_tess2019090612125-s0006-0000000077959225-0000-s_lc.fits' mode='rb' closefd=True>\n",
      "  \"\"\"\n"
     ]
    },
    {
     "name": "stdout",
     "output_type": "stream",
     "text": [
      "MODE  custom\n",
      "MODE  savgol\n",
      "MODE  savgol\n"
     ]
    },
    {
     "name": "stderr",
     "output_type": "stream",
     "text": [
      "Found 0 candidate(s) in the (0,5939) gap.\n",
      "Found 1 candidate(s) in the (5939,13998) gap.\n",
      "/home/ekaterina/Documents/001_Science/Flares_in_Clusters_II/flaresinclustersii/lib/python3.6/site-packages/ipykernel_launcher.py:5: ResourceWarning: unclosed file <_io.FileIO name='../custom_aperture/82ca_tess2019090612211-s0006-0000000130414729-0000-s_lc.fits' mode='rb' closefd=True>\n",
      "  \"\"\"\n"
     ]
    },
    {
     "name": "stdout",
     "output_type": "stream",
     "text": [
      "MODE  custom\n",
      "MODE  savgol\n",
      "MODE  savgol\n"
     ]
    },
    {
     "name": "stderr",
     "output_type": "stream",
     "text": [
      "Found 0 candidate(s) in the (0,5939) gap.\n",
      "Found 0 candidate(s) in the (5939,13998) gap.\n",
      "/home/ekaterina/Documents/001_Science/Flares_in_Clusters_II/flaresinclustersii/lib/python3.6/site-packages/ipykernel_launcher.py:5: ResourceWarning: unclosed file <_io.FileIO name='../custom_aperture/82ca_tess2019102415564-s0006-0000000130414729-0000-s_lc.fits' mode='rb' closefd=True>\n",
      "  \"\"\"\n"
     ]
    },
    {
     "name": "stdout",
     "output_type": "stream",
     "text": [
      "MODE  custom\n",
      "MODE  savgol\n",
      "MODE  savgol\n"
     ]
    },
    {
     "name": "stderr",
     "output_type": "stream",
     "text": [
      "Found 0 candidate(s) in the (0,5939) gap.\n",
      "Found 0 candidate(s) in the (5939,13998) gap.\n",
      "/home/ekaterina/Documents/001_Science/Flares_in_Clusters_II/flaresinclustersii/lib/python3.6/site-packages/ipykernel_launcher.py:5: ResourceWarning: unclosed file <_io.FileIO name='../custom_aperture/83ca_tess2019090612281-s0006-0000000142052876-0000-s_lc.fits' mode='rb' closefd=True>\n",
      "  \"\"\"\n"
     ]
    },
    {
     "name": "stdout",
     "output_type": "stream",
     "text": [
      "MODE  custom\n",
      "MODE  savgol\n",
      "MODE  savgol\n"
     ]
    },
    {
     "name": "stderr",
     "output_type": "stream",
     "text": [
      "Found 2 candidate(s) in the (0,5939) gap.\n",
      "Found 1 candidate(s) in the (5939,13998) gap.\n",
      "/home/ekaterina/Documents/001_Science/Flares_in_Clusters_II/flaresinclustersii/lib/python3.6/site-packages/ipykernel_launcher.py:5: ResourceWarning: unclosed file <_io.FileIO name='../custom_aperture/83ca_tess2019090612435-s0006-0000000142052876-0000-s_lc.fits' mode='rb' closefd=True>\n",
      "  \"\"\"\n"
     ]
    },
    {
     "name": "stdout",
     "output_type": "stream",
     "text": [
      "MODE  custom\n",
      "MODE  savgol\n",
      "MODE  savgol\n"
     ]
    },
    {
     "name": "stderr",
     "output_type": "stream",
     "text": [
      "Found 2 candidate(s) in the (0,5939) gap.\n",
      "Found 2 candidate(s) in the (5939,13998) gap.\n",
      "/home/ekaterina/Documents/001_Science/Flares_in_Clusters_II/flaresinclustersii/lib/python3.6/site-packages/ipykernel_launcher.py:5: ResourceWarning: unclosed file <_io.FileIO name='../custom_aperture/84ca_tess2019100910473-s0006-0000000144776281-0000-s_lc.fits' mode='rb' closefd=True>\n",
      "  \"\"\"\n"
     ]
    },
    {
     "name": "stdout",
     "output_type": "stream",
     "text": [
      "MODE  custom\n",
      "MODE  savgol\n",
      "MODE  savgol\n"
     ]
    },
    {
     "name": "stderr",
     "output_type": "stream",
     "text": [
      "Found 0 candidate(s) in the (0,5939) gap.\n",
      "Found 1 candidate(s) in the (5939,13998) gap.\n",
      "/home/ekaterina/Documents/001_Science/Flares_in_Clusters_II/flaresinclustersii/lib/python3.6/site-packages/ipykernel_launcher.py:5: ResourceWarning: unclosed file <_io.FileIO name='../custom_aperture/85ca_tess2019090612462-s0006-0000000156735150-0000-s_lc.fits' mode='rb' closefd=True>\n",
      "  \"\"\"\n"
     ]
    },
    {
     "name": "stdout",
     "output_type": "stream",
     "text": [
      "MODE  custom\n",
      "MODE  savgol\n",
      "MODE  savgol\n"
     ]
    },
    {
     "name": "stderr",
     "output_type": "stream",
     "text": [
      "Found 0 candidate(s) in the (0,5939) gap.\n",
      "Found 2 candidate(s) in the (5939,13998) gap.\n",
      "/home/ekaterina/Documents/001_Science/Flares_in_Clusters_II/flaresinclustersii/lib/python3.6/site-packages/ipykernel_launcher.py:5: ResourceWarning: unclosed file <_io.FileIO name='../custom_aperture/86ca_tess2019090613195-s0006-0000000167894019-0000-s_lc.fits' mode='rb' closefd=True>\n",
      "  \"\"\"\n"
     ]
    },
    {
     "name": "stdout",
     "output_type": "stream",
     "text": [
      "MODE  custom\n",
      "MODE  savgol\n",
      "MODE  savgol\n"
     ]
    },
    {
     "name": "stderr",
     "output_type": "stream",
     "text": [
      "Found 0 candidate(s) in the (0,5939) gap.\n",
      "Found 0 candidate(s) in the (5939,13998) gap.\n",
      "/home/ekaterina/Documents/001_Science/Flares_in_Clusters_II/flaresinclustersii/lib/python3.6/site-packages/ipykernel_launcher.py:5: ResourceWarning: unclosed file <_io.FileIO name='../custom_aperture/86ca_tess2019102510124-s0006-0000000167894019-0000-s_lc.fits' mode='rb' closefd=True>\n",
      "  \"\"\"\n"
     ]
    },
    {
     "name": "stdout",
     "output_type": "stream",
     "text": [
      "MODE  custom\n",
      "MODE  savgol\n",
      "MODE  savgol\n"
     ]
    },
    {
     "name": "stderr",
     "output_type": "stream",
     "text": [
      "Found 1 candidate(s) in the (0,5939) gap.\n",
      "Found 0 candidate(s) in the (5939,13998) gap.\n",
      "/home/ekaterina/Documents/001_Science/Flares_in_Clusters_II/flaresinclustersii/lib/python3.6/site-packages/ipykernel_launcher.py:5: ResourceWarning: unclosed file <_io.FileIO name='../custom_aperture/87ca_tess2019090613212-s0006-0000000220146061-0000-s_lc.fits' mode='rb' closefd=True>\n",
      "  \"\"\"\n"
     ]
    },
    {
     "name": "stdout",
     "output_type": "stream",
     "text": [
      "MODE  custom\n",
      "MODE  savgol\n",
      "MODE  savgol\n"
     ]
    },
    {
     "name": "stderr",
     "output_type": "stream",
     "text": [
      "Found 0 candidate(s) in the (0,5939) gap.\n",
      "Found 1 candidate(s) in the (5939,13998) gap.\n",
      "/home/ekaterina/Documents/001_Science/Flares_in_Clusters_II/flaresinclustersii/lib/python3.6/site-packages/ipykernel_launcher.py:5: ResourceWarning: unclosed file <_io.FileIO name='../custom_aperture/88ca_tess2019090613243-s0006-0000000220429097-0000-s_lc.fits' mode='rb' closefd=True>\n",
      "  \"\"\"\n"
     ]
    },
    {
     "name": "stdout",
     "output_type": "stream",
     "text": [
      "MODE  custom\n",
      "MODE  savgol\n",
      "MODE  savgol\n"
     ]
    },
    {
     "name": "stderr",
     "output_type": "stream",
     "text": [
      "Found 2 candidate(s) in the (0,5939) gap.\n",
      "Found 2 candidate(s) in the (5939,13998) gap.\n",
      "/home/ekaterina/Documents/001_Science/Flares_in_Clusters_II/flaresinclustersii/lib/python3.6/site-packages/ipykernel_launcher.py:5: ResourceWarning: unclosed file <_io.FileIO name='../custom_aperture/89ca_tess2019090613261-s0006-0000000388903843-0000-s_lc.fits' mode='rb' closefd=True>\n",
      "  \"\"\"\n"
     ]
    },
    {
     "name": "stdout",
     "output_type": "stream",
     "text": [
      "MODE  custom\n",
      "MODE  savgol\n",
      "MODE  savgol\n"
     ]
    },
    {
     "name": "stderr",
     "output_type": "stream",
     "text": [
      "Found 0 candidate(s) in the (0,5939) gap.\n",
      "Found 5 candidate(s) in the (5939,13998) gap.\n",
      "/home/ekaterina/Documents/001_Science/Flares_in_Clusters_II/flaresinclustersii/lib/python3.6/site-packages/ipykernel_launcher.py:5: ResourceWarning: unclosed file <_io.FileIO name='../custom_aperture/8ca_tess2019082314135-s0001-0000000358108509-0000-s_lc.fits' mode='rb' closefd=True>\n",
      "  \"\"\"\n"
     ]
    },
    {
     "name": "stdout",
     "output_type": "stream",
     "text": [
      "MODE  custom\n",
      "Do a coarse spline interpolation to remove trends.\n",
      "MODE  savgol\n",
      "MODE  savgol\n"
     ]
    },
    {
     "name": "stderr",
     "output_type": "stream",
     "text": [
      "Found 1 candidate(s) in the (0,9073) gap.\n",
      "Found 0 candidate(s) in the (9073,15090) gap.\n",
      "Found 0 candidate(s) in the (15090,17805) gap.\n",
      "/home/ekaterina/Documents/001_Science/Flares_in_Clusters_II/flaresinclustersii/lib/python3.6/site-packages/ipykernel_launcher.py:5: ResourceWarning: unclosed file <_io.FileIO name='../custom_aperture/8ca_tess2019102509142-s0001-0000000358108509-0000-s_lc.fits' mode='rb' closefd=True>\n",
      "  \"\"\"\n"
     ]
    },
    {
     "name": "stdout",
     "output_type": "stream",
     "text": [
      "MODE  custom\n",
      "Do a coarse spline interpolation to remove trends.\n",
      "MODE  savgol\n",
      "MODE  savgol\n"
     ]
    },
    {
     "name": "stderr",
     "output_type": "stream",
     "text": [
      "Found 1 candidate(s) in the (0,9073) gap.\n",
      "Found 0 candidate(s) in the (9073,15090) gap.\n",
      "Found 0 candidate(s) in the (15090,17805) gap.\n",
      "/home/ekaterina/Documents/001_Science/Flares_in_Clusters_II/flaresinclustersii/lib/python3.6/site-packages/ipykernel_launcher.py:5: ResourceWarning: unclosed file <_io.FileIO name='../custom_aperture/90ca_tess2019090613464-s0006-0000000410898932-0000-s_lc.fits' mode='rb' closefd=True>\n",
      "  \"\"\"\n"
     ]
    },
    {
     "name": "stdout",
     "output_type": "stream",
     "text": [
      "MODE  custom\n",
      "MODE  savgol\n",
      "MODE  savgol\n"
     ]
    },
    {
     "name": "stderr",
     "output_type": "stream",
     "text": [
      "Found 0 candidate(s) in the (0,5939) gap.\n",
      "Found 0 candidate(s) in the (5939,13998) gap.\n",
      "/home/ekaterina/Documents/001_Science/Flares_in_Clusters_II/flaresinclustersii/lib/python3.6/site-packages/ipykernel_launcher.py:5: ResourceWarning: unclosed file <_io.FileIO name='../custom_aperture/91ca_tess2019090613542-s0007-0000000000926898-0000-s_lc.fits' mode='rb' closefd=True>\n",
      "  \"\"\"\n"
     ]
    },
    {
     "name": "stdout",
     "output_type": "stream",
     "text": [
      "MODE  custom\n",
      "MODE  savgol\n",
      "MODE  savgol\n"
     ]
    },
    {
     "name": "stderr",
     "output_type": "stream",
     "text": [
      "Found 0 candidate(s) in the (0,8040) gap.\n",
      "Found 0 candidate(s) in the (8040,16063) gap.\n",
      "/home/ekaterina/Documents/001_Science/Flares_in_Clusters_II/flaresinclustersii/lib/python3.6/site-packages/ipykernel_launcher.py:5: ResourceWarning: unclosed file <_io.FileIO name='../custom_aperture/91ca_tess2019102415132-s0007-0000000000926898-0000-s_lc.fits' mode='rb' closefd=True>\n",
      "  \"\"\"\n"
     ]
    },
    {
     "name": "stdout",
     "output_type": "stream",
     "text": [
      "MODE  custom\n",
      "MODE  savgol\n",
      "MODE  savgol\n"
     ]
    },
    {
     "name": "stderr",
     "output_type": "stream",
     "text": [
      "Found 0 candidate(s) in the (0,8040) gap.\n",
      "Found 0 candidate(s) in the (8040,16063) gap.\n",
      "/home/ekaterina/Documents/001_Science/Flares_in_Clusters_II/flaresinclustersii/lib/python3.6/site-packages/ipykernel_launcher.py:5: ResourceWarning: unclosed file <_io.FileIO name='../custom_aperture/92ca_tess2019090613562-s0007-0000000029780677-0000-s_lc.fits' mode='rb' closefd=True>\n",
      "  \"\"\"\n"
     ]
    },
    {
     "name": "stdout",
     "output_type": "stream",
     "text": [
      "MODE  custom\n",
      "MODE  savgol\n",
      "MODE  savgol\n"
     ]
    },
    {
     "name": "stderr",
     "output_type": "stream",
     "text": [
      "Found 0 candidate(s) in the (0,8040) gap.\n",
      "Found 0 candidate(s) in the (8040,16063) gap.\n",
      "/home/ekaterina/Documents/001_Science/Flares_in_Clusters_II/flaresinclustersii/lib/python3.6/site-packages/ipykernel_launcher.py:5: ResourceWarning: unclosed file <_io.FileIO name='../custom_aperture/93ca_tess2019090614093-s0007-0000000053603145-0000-s_lc.fits' mode='rb' closefd=True>\n",
      "  \"\"\"\n"
     ]
    },
    {
     "name": "stdout",
     "output_type": "stream",
     "text": [
      "MODE  custom\n",
      "MODE  savgol\n",
      "MODE  savgol\n"
     ]
    },
    {
     "name": "stderr",
     "output_type": "stream",
     "text": [
      "Found 0 candidate(s) in the (0,8040) gap.\n",
      "Found 0 candidate(s) in the (8040,16063) gap.\n",
      "/home/ekaterina/Documents/001_Science/Flares_in_Clusters_II/flaresinclustersii/lib/python3.6/site-packages/ipykernel_launcher.py:5: ResourceWarning: unclosed file <_io.FileIO name='../custom_aperture/94ca_tess2019090614200-s0007-0000000121204333-0000-s_lc.fits' mode='rb' closefd=True>\n",
      "  \"\"\"\n"
     ]
    },
    {
     "name": "stdout",
     "output_type": "stream",
     "text": [
      "MODE  custom\n",
      "MODE  savgol\n",
      "MODE  savgol\n"
     ]
    },
    {
     "name": "stderr",
     "output_type": "stream",
     "text": [
      "Found 0 candidate(s) in the (0,8040) gap.\n",
      "Found 0 candidate(s) in the (8040,16063) gap.\n",
      "/home/ekaterina/Documents/001_Science/Flares_in_Clusters_II/flaresinclustersii/lib/python3.6/site-packages/ipykernel_launcher.py:5: ResourceWarning: unclosed file <_io.FileIO name='../custom_aperture/95ca_tess2019090614254-s0007-0000000142052876-0000-s_lc.fits' mode='rb' closefd=True>\n",
      "  \"\"\"\n"
     ]
    },
    {
     "name": "stdout",
     "output_type": "stream",
     "text": [
      "MODE  custom\n",
      "MODE  savgol\n",
      "MODE  savgol\n"
     ]
    },
    {
     "name": "stderr",
     "output_type": "stream",
     "text": [
      "Found 2 candidate(s) in the (0,8040) gap.\n",
      "Found 1 candidate(s) in the (8040,16063) gap.\n",
      "/home/ekaterina/Documents/001_Science/Flares_in_Clusters_II/flaresinclustersii/lib/python3.6/site-packages/ipykernel_launcher.py:5: ResourceWarning: unclosed file <_io.FileIO name='../custom_aperture/96ca_tess2019090614335-s0007-0000000167894019-0000-s_lc.fits' mode='rb' closefd=True>\n",
      "  \"\"\"\n"
     ]
    },
    {
     "name": "stdout",
     "output_type": "stream",
     "text": [
      "MODE  custom\n",
      "MODE  savgol\n",
      "MODE  savgol\n"
     ]
    },
    {
     "name": "stderr",
     "output_type": "stream",
     "text": [
      "Found 2 candidate(s) in the (0,8040) gap.\n",
      "Found 2 candidate(s) in the (8040,16063) gap.\n",
      "/home/ekaterina/Documents/001_Science/Flares_in_Clusters_II/flaresinclustersii/lib/python3.6/site-packages/ipykernel_launcher.py:5: ResourceWarning: unclosed file <_io.FileIO name='../custom_aperture/97ca_tess2019090614361-s0007-0000000220429097-0000-s_lc.fits' mode='rb' closefd=True>\n",
      "  \"\"\"\n"
     ]
    },
    {
     "name": "stdout",
     "output_type": "stream",
     "text": [
      "MODE  custom\n",
      "MODE  savgol\n",
      "MODE  savgol\n"
     ]
    },
    {
     "name": "stderr",
     "output_type": "stream",
     "text": [
      "Found 0 candidate(s) in the (0,8040) gap.\n",
      "Found 1 candidate(s) in the (8040,16063) gap.\n",
      "/home/ekaterina/Documents/001_Science/Flares_in_Clusters_II/flaresinclustersii/lib/python3.6/site-packages/ipykernel_launcher.py:5: ResourceWarning: unclosed file <_io.FileIO name='../custom_aperture/98ca_tess2019090614384-s0007-0000000278199738-0000-s_lc.fits' mode='rb' closefd=True>\n",
      "  \"\"\"\n"
     ]
    },
    {
     "name": "stdout",
     "output_type": "stream",
     "text": [
      "MODE  custom\n",
      "MODE  savgol\n",
      "MODE  savgol\n"
     ]
    },
    {
     "name": "stderr",
     "output_type": "stream",
     "text": [
      "Found 0 candidate(s) in the (0,8040) gap.\n",
      "Found 0 candidate(s) in the (8040,16063) gap.\n",
      "/home/ekaterina/Documents/001_Science/Flares_in_Clusters_II/flaresinclustersii/lib/python3.6/site-packages/ipykernel_launcher.py:5: ResourceWarning: unclosed file <_io.FileIO name='../custom_aperture/99ca_tess2019100910491-s0007-0000000289113766-0000-s_lc.fits' mode='rb' closefd=True>\n",
      "  \"\"\"\n"
     ]
    },
    {
     "name": "stdout",
     "output_type": "stream",
     "text": [
      "MODE  custom\n",
      "MODE  savgol\n",
      "MODE  savgol\n"
     ]
    },
    {
     "name": "stderr",
     "output_type": "stream",
     "text": [
      "Found 0 candidate(s) in the (0,8040) gap.\n",
      "Found 0 candidate(s) in the (8040,16063) gap.\n",
      "/home/ekaterina/Documents/001_Science/Flares_in_Clusters_II/flaresinclustersii/lib/python3.6/site-packages/ipykernel_launcher.py:5: ResourceWarning: unclosed file <_io.FileIO name='../custom_aperture/9ca_tess2019082314154-s0001-0000000389051009-0000-s_lc.fits' mode='rb' closefd=True>\n",
      "  \"\"\"\n"
     ]
    },
    {
     "name": "stdout",
     "output_type": "stream",
     "text": [
      "MODE  custom\n",
      "MODE  savgol\n",
      "MODE  savgol\n"
     ]
    },
    {
     "name": "stderr",
     "output_type": "stream",
     "text": [
      "Found 1 candidate(s) in the (0,9073) gap.\n",
      "Found 1 candidate(s) in the (9073,15090) gap.\n",
      "Found 0 candidate(s) in the (15090,17805) gap.\n"
     ]
    }
   ],
   "source": [
    "for p in paths:\n",
    "    s = int(p.split(\"-\")[1][1:])\n",
    "    tic = p.split(\"-\")[2]\n",
    "\n",
    "    flc = read_custom_aperture_lc(f\"../custom_aperture/{p}\", typ=\"custom\")\n",
    "\n",
    "    # alternatively, read a generic light curve\n",
    "    # flc = read_custom_aperture_lc(path, typ=\"generic\", mission=\"TESS\", mode=\"LC\")\n",
    "\n",
    "    # De-trend the light curve\n",
    "    flcd = flc.detrend(\"custom\", func=custom_detrending)\n",
    "\n",
    "    # alternatively, use a generic method, like a Savitzky-Golay filter\n",
    "    # flcd = flc.detrend(\"savgol\")\n",
    "\n",
    "    # Find flares in the detrended light curve\n",
    "    flcd = flcd.find_flares()\n",
    "\n",
    "    \n",
    "    for i, row in flcd.flares.iterrows():\n",
    "        l = row.cstop - row.cstart\n",
    "        l = 120\n",
    "        xs = ((flcd.cadenceno >= row.cstart - l) &\n",
    "              (flcd.cadenceno <= min(row.cstop + 240,\n",
    "                                     max(flcd.cadenceno))\n",
    "              )\n",
    "             )\n",
    "        ctime = flcd.cadenceno[xs]\n",
    "        flux = flcd.detrended_flux[xs] / np.nanmedian(flcd.it_med)\n",
    "        df = pd.DataFrame({\"c\": ctime, \"f\": flux})\n",
    "        df.to_csv(f\"../flare_snippets/{tic}_{s}_{row.cstart}_long.csv\", index=False)"
   ]
  },
  {
   "cell_type": "code",
   "execution_count": null,
   "metadata": {},
   "outputs": [],
   "source": []
  }
 ],
 "metadata": {
  "kernelspec": {
   "display_name": "flaresinclustersii",
   "language": "python",
   "name": "flaresinclustersii"
  },
  "language_info": {
   "codemirror_mode": {
    "name": "ipython",
    "version": 3
   },
   "file_extension": ".py",
   "mimetype": "text/x-python",
   "name": "python",
   "nbconvert_exporter": "python",
   "pygments_lexer": "ipython3",
   "version": "3.6.9"
  }
 },
 "nbformat": 4,
 "nbformat_minor": 2
}
