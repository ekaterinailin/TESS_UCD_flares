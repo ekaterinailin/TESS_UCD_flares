{
 "cells": [
  {
   "cell_type": "code",
   "execution_count": 84,
   "metadata": {},
   "outputs": [],
   "source": [
    "import numpy as np\n",
    "import pandas as pd\n",
    "\n",
    "import matplotlib.pyplot as plt\n",
    "%matplotlib inline\n",
    "\n",
    "from funcs.ffd import fit_beta_to_powerlaw, plot_powerlaw\n",
    "\n",
    "import time\n",
    "tstamp = time.strftime(\"%d_%m_%Y_%H_%M\", time.localtime())"
   ]
  },
  {
   "cell_type": "code",
   "execution_count": 52,
   "metadata": {
    "scrolled": true
   },
   "outputs": [
    {
     "data": {
      "text/html": [
       "<div>\n",
       "<style scoped>\n",
       "    .dataframe tbody tr th:only-of-type {\n",
       "        vertical-align: middle;\n",
       "    }\n",
       "\n",
       "    .dataframe tbody tr th {\n",
       "        vertical-align: top;\n",
       "    }\n",
       "\n",
       "    .dataframe thead th {\n",
       "        text-align: right;\n",
       "    }\n",
       "</style>\n",
       "<table border=\"1\" class=\"dataframe\">\n",
       "  <thead>\n",
       "    <tr style=\"text-align: right;\">\n",
       "      <th></th>\n",
       "      <th>ampl_rec</th>\n",
       "      <th>cstart</th>\n",
       "      <th>cstop</th>\n",
       "      <th>ed_rec</th>\n",
       "      <th>ed_rec_err</th>\n",
       "      <th>istart</th>\n",
       "      <th>istop</th>\n",
       "      <th>total_n_valid_data_points</th>\n",
       "      <th>tstart</th>\n",
       "      <th>tstop</th>\n",
       "      <th>...</th>\n",
       "      <th>amplitude_ratio_std</th>\n",
       "      <th>duration_ratio_std</th>\n",
       "      <th>recovery_probability_std</th>\n",
       "      <th>ed_corr_err</th>\n",
       "      <th>amplitude_corr_err</th>\n",
       "      <th>duration_corr_err</th>\n",
       "      <th>TIC</th>\n",
       "      <th>sector</th>\n",
       "      <th>spt</th>\n",
       "      <th>TESSmag</th>\n",
       "    </tr>\n",
       "  </thead>\n",
       "  <tbody>\n",
       "    <tr>\n",
       "      <th>0</th>\n",
       "      <td>0.205888</td>\n",
       "      <td>134304</td>\n",
       "      <td>134309</td>\n",
       "      <td>67.120761</td>\n",
       "      <td>3.173210</td>\n",
       "      <td>2025</td>\n",
       "      <td>2030</td>\n",
       "      <td>14656</td>\n",
       "      <td>1413.993959</td>\n",
       "      <td>1414.000903</td>\n",
       "      <td>...</td>\n",
       "      <td>0.216691</td>\n",
       "      <td>0.861911</td>\n",
       "      <td>0.480091</td>\n",
       "      <td>19.234675</td>\n",
       "      <td>0.076164</td>\n",
       "      <td>0.004110</td>\n",
       "      <td>141306513</td>\n",
       "      <td>4</td>\n",
       "      <td>M7</td>\n",
       "      <td>14.114</td>\n",
       "    </tr>\n",
       "    <tr>\n",
       "      <th>1</th>\n",
       "      <td>0.046567</td>\n",
       "      <td>137530</td>\n",
       "      <td>137534</td>\n",
       "      <td>15.629983</td>\n",
       "      <td>1.373603</td>\n",
       "      <td>5211</td>\n",
       "      <td>5215</td>\n",
       "      <td>14656</td>\n",
       "      <td>1418.474567</td>\n",
       "      <td>1418.480123</td>\n",
       "      <td>...</td>\n",
       "      <td>0.106518</td>\n",
       "      <td>0.179538</td>\n",
       "      <td>0.233295</td>\n",
       "      <td>18.366493</td>\n",
       "      <td>0.006369</td>\n",
       "      <td>0.078722</td>\n",
       "      <td>141306513</td>\n",
       "      <td>4</td>\n",
       "      <td>M7</td>\n",
       "      <td>14.114</td>\n",
       "    </tr>\n",
       "    <tr>\n",
       "      <th>2</th>\n",
       "      <td>0.432789</td>\n",
       "      <td>142823</td>\n",
       "      <td>142831</td>\n",
       "      <td>158.509751</td>\n",
       "      <td>2.815147</td>\n",
       "      <td>7029</td>\n",
       "      <td>7037</td>\n",
       "      <td>14656</td>\n",
       "      <td>1425.825985</td>\n",
       "      <td>1425.837096</td>\n",
       "      <td>...</td>\n",
       "      <td>1.313973</td>\n",
       "      <td>0.560077</td>\n",
       "      <td>0.398147</td>\n",
       "      <td>73.540852</td>\n",
       "      <td>0.715953</td>\n",
       "      <td>0.001228</td>\n",
       "      <td>141306513</td>\n",
       "      <td>4</td>\n",
       "      <td>M7</td>\n",
       "      <td>14.114</td>\n",
       "    </tr>\n",
       "    <tr>\n",
       "      <th>3</th>\n",
       "      <td>0.184068</td>\n",
       "      <td>146868</td>\n",
       "      <td>146872</td>\n",
       "      <td>54.249658</td>\n",
       "      <td>2.487500</td>\n",
       "      <td>11047</td>\n",
       "      <td>11051</td>\n",
       "      <td>14656</td>\n",
       "      <td>1431.444002</td>\n",
       "      <td>1431.449558</td>\n",
       "      <td>...</td>\n",
       "      <td>0.216691</td>\n",
       "      <td>0.861911</td>\n",
       "      <td>0.427976</td>\n",
       "      <td>15.533675</td>\n",
       "      <td>0.068093</td>\n",
       "      <td>0.003288</td>\n",
       "      <td>141306513</td>\n",
       "      <td>4</td>\n",
       "      <td>M7</td>\n",
       "      <td>14.114</td>\n",
       "    </tr>\n",
       "    <tr>\n",
       "      <th>4</th>\n",
       "      <td>0.149158</td>\n",
       "      <td>289806</td>\n",
       "      <td>289811</td>\n",
       "      <td>52.999981</td>\n",
       "      <td>2.495028</td>\n",
       "      <td>3262</td>\n",
       "      <td>3267</td>\n",
       "      <td>18704</td>\n",
       "      <td>1629.964562</td>\n",
       "      <td>1629.971506</td>\n",
       "      <td>...</td>\n",
       "      <td>0.124189</td>\n",
       "      <td>0.329367</td>\n",
       "      <td>0.492076</td>\n",
       "      <td>27.150836</td>\n",
       "      <td>0.021153</td>\n",
       "      <td>0.013543</td>\n",
       "      <td>358108509</td>\n",
       "      <td>12</td>\n",
       "      <td>M6</td>\n",
       "      <td>14.351</td>\n",
       "    </tr>\n",
       "  </tbody>\n",
       "</table>\n",
       "<p>5 rows × 33 columns</p>\n",
       "</div>"
      ],
      "text/plain": [
       "   ampl_rec  cstart   cstop      ed_rec  ed_rec_err  istart  istop  \\\n",
       "0  0.205888  134304  134309   67.120761    3.173210    2025   2030   \n",
       "1  0.046567  137530  137534   15.629983    1.373603    5211   5215   \n",
       "2  0.432789  142823  142831  158.509751    2.815147    7029   7037   \n",
       "3  0.184068  146868  146872   54.249658    2.487500   11047  11051   \n",
       "4  0.149158  289806  289811   52.999981    2.495028    3262   3267   \n",
       "\n",
       "   total_n_valid_data_points       tstart        tstop  ...  \\\n",
       "0                      14656  1413.993959  1414.000903  ...   \n",
       "1                      14656  1418.474567  1418.480123  ...   \n",
       "2                      14656  1425.825985  1425.837096  ...   \n",
       "3                      14656  1431.444002  1431.449558  ...   \n",
       "4                      18704  1629.964562  1629.971506  ...   \n",
       "\n",
       "   amplitude_ratio_std  duration_ratio_std  recovery_probability_std  \\\n",
       "0             0.216691            0.861911                  0.480091   \n",
       "1             0.106518            0.179538                  0.233295   \n",
       "2             1.313973            0.560077                  0.398147   \n",
       "3             0.216691            0.861911                  0.427976   \n",
       "4             0.124189            0.329367                  0.492076   \n",
       "\n",
       "   ed_corr_err  amplitude_corr_err  duration_corr_err        TIC  sector  spt  \\\n",
       "0    19.234675            0.076164           0.004110  141306513       4   M7   \n",
       "1    18.366493            0.006369           0.078722  141306513       4   M7   \n",
       "2    73.540852            0.715953           0.001228  141306513       4   M7   \n",
       "3    15.533675            0.068093           0.003288  141306513       4   M7   \n",
       "4    27.150836            0.021153           0.013543  358108509      12   M6   \n",
       "\n",
       "   TESSmag  \n",
       "0   14.114  \n",
       "1   14.114  \n",
       "2   14.114  \n",
       "3   14.114  \n",
       "4   14.351  \n",
       "\n",
       "[5 rows x 33 columns]"
      ]
     },
     "execution_count": 52,
     "metadata": {},
     "output_type": "execute_result"
    }
   ],
   "source": [
    "df = pd.read_csv(\"../flare_tables/20200225_vetted_flares.csv\",\n",
    "                names=['ampl_rec','cstart','cstop','ed_rec','ed_rec_err',\n",
    "                    'istart', 'istop','total_n_valid_data_points', \n",
    "                    'tstart', 'tstop',  'dur', 'ed_ratio','ed_ratio_count',\n",
    "            'amplitude_ratio','amplitude_ratio_count','duration_ratio','duration_ratio_count',\n",
    "            'amplitude_corr','duration_corr','ed_corr','recovery_probability','recovery_probability_count',\n",
    "            'ed_ratio_std','amplitude_ratio_std','duration_ratio_std','recovery_probability_std',\n",
    "            'ed_corr_err','amplitude_corr_err','duration_corr_err',\"TIC\",\"sector\"])\n",
    "              \n",
    "spts = pd.read_csv(\"../flare_tables/spts.csv\")\n",
    "\n",
    "spts.head()\n",
    "df = df.merge(spts[[\"TIC\",\"spt\",\"TESSmag\"]],on=\"TIC\")\n",
    "df.head()"
   ]
  },
  {
   "cell_type": "code",
   "execution_count": 76,
   "metadata": {},
   "outputs": [],
   "source": [
    "totobs = df.groupby([\"TIC\",\"sector\"]).total_n_valid_data_points.apply(lambda x: x.iloc[0]).sum()/30./24./365.25"
   ]
  },
  {
   "cell_type": "code",
   "execution_count": 77,
   "metadata": {},
   "outputs": [
    {
     "data": {
      "text/plain": [
       "6.161734732679292"
      ]
     },
     "execution_count": 77,
     "metadata": {},
     "output_type": "execute_result"
    }
   ],
   "source": [
    "totobs"
   ]
  },
  {
   "cell_type": "code",
   "execution_count": 88,
   "metadata": {},
   "outputs": [
    {
     "data": {
      "image/png": "[encoded data removed]",
      "text/plain": [
       "<Figure size 432x288 with 1 Axes>"
      ]
     },
     "metadata": {
      "needs_background": "light"
     },
     "output_type": "display_data"
    }
   ],
   "source": [
    "plt.hist(df.recovery_probability_count, bins=np.linspace(0,50,10), histtype=\"step\");"
   ]
  },
  {
   "cell_type": "code",
   "execution_count": 89,
   "metadata": {},
   "outputs": [
    {
     "data": {
      "image/png": "[encoded data removed]",
      "text/plain": [
       "<Figure size 432x288 with 1 Axes>"
      ]
     },
     "metadata": {
      "needs_background": "light"
     },
     "output_type": "display_data"
    }
   ],
   "source": [
    "plt.hist(df.ed_ratio_count, bins=np.linspace(0,50,10), histtype=\"step\");"
   ]
  },
  {
   "cell_type": "code",
   "execution_count": 56,
   "metadata": {},
   "outputs": [
    {
     "data": {
      "text/plain": [
       "[<matplotlib.lines.Line2D at 0x7f3218207a90>]"
      ]
     },
     "execution_count": 56,
     "metadata": {},
     "output_type": "execute_result"
    },
    {
     "data": {
      "image/png": "[encoded data removed]",
      "text/plain": [
       "<Figure size 432x288 with 1 Axes>"
      ]
     },
     "metadata": {
      "needs_background": "light"
     },
     "output_type": "display_data"
    }
   ],
   "source": [
    "plt.scatter(df.ampl_rec, df.amplitude_corr)\n",
    "plt.plot([0,12],[0,12])"
   ]
  },
  {
   "cell_type": "code",
   "execution_count": 57,
   "metadata": {},
   "outputs": [
    {
     "data": {
      "image/png": "[encoded data removed]",
      "text/plain": [
       "<Figure size 432x288 with 1 Axes>"
      ]
     },
     "metadata": {
      "needs_background": "light"
     },
     "output_type": "display_data"
    }
   ],
   "source": [
    "plt.hist(df.amplitude_ratio_count, bins=np.linspace(0,300,10), histtype=\"step\");"
   ]
  },
  {
   "cell_type": "code",
   "execution_count": 58,
   "metadata": {},
   "outputs": [
    {
     "data": {
      "image/png": "[encoded data removed]",
      "text/plain": [
       "<Figure size 432x288 with 1 Axes>"
      ]
     },
     "metadata": {
      "needs_background": "light"
     },
     "output_type": "display_data"
    }
   ],
   "source": [
    "plt.hist(df.duration_ratio_count, bins=np.linspace(0,300,10), histtype=\"step\");"
   ]
  },
  {
   "cell_type": "code",
   "execution_count": 59,
   "metadata": {},
   "outputs": [
    {
     "data": {
      "image/png": "[encoded data removed]",
      "text/plain": [
       "<Figure size 432x288 with 1 Axes>"
      ]
     },
     "metadata": {
      "needs_background": "light"
     },
     "output_type": "display_data"
    }
   ],
   "source": [
    "plt.scatter(df.ed_rec, df.ed_corr)\n",
    "plt.plot([1,3e3],[1,3e3])\n",
    "plt.yscale(\"log\")\n",
    "plt.xscale(\"log\")"
   ]
  },
  {
   "cell_type": "code",
   "execution_count": 60,
   "metadata": {
    "scrolled": true
   },
   "outputs": [
    {
     "data": {
      "image/png": "[encoded data removed]",
      "text/plain": [
       "<Figure size 432x288 with 1 Axes>"
      ]
     },
     "metadata": {
      "needs_background": "light"
     },
     "output_type": "display_data"
    }
   ],
   "source": [
    "plt.hist(df.recovery_probability, bins=np.linspace(0,1,6), histtype=\"step\");"
   ]
  },
  {
   "cell_type": "code",
   "execution_count": 61,
   "metadata": {},
   "outputs": [
    {
     "data": {
      "image/png": "[encoded data removed]",
      "text/plain": [
       "<Figure size 468x396 with 1 Axes>"
      ]
     },
     "metadata": {
      "needs_background": "light"
     },
     "output_type": "display_data"
    }
   ],
   "source": [
    "#correct for magnitudes\n",
    "plt.figure(figsize=(6.5,5.5))\n",
    "plt.hist(df.TESSmag, bins=20);\n"
   ]
  },
  {
   "cell_type": "code",
   "execution_count": 62,
   "metadata": {},
   "outputs": [
    {
     "name": "stderr",
     "output_type": "stream",
     "text": [
      "/work1/eilin/Flares_in_Clusters_2/RESULTS_Github/flares-in-clusters-with-k2-ii/flaresinclustersii/lib64/python3.6/site-packages/ipykernel_launcher.py:4: RuntimeWarning: divide by zero encountered in true_divide\n",
      "  after removing the cwd from sys.path.\n"
     ]
    }
   ],
   "source": [
    "df = df[~np.isnan(df.recovery_probability)]\n",
    "df = df.sort_values(by=\"ed_corr\", ascending=False)\n",
    "df = df[~df.ed_corr.isnull() & np.isfinite(df.ed_corr)]\n",
    "df[\"encorrprob\"] = 1./df.recovery_probability.values"
   ]
  },
  {
   "cell_type": "code",
   "execution_count": 63,
   "metadata": {},
   "outputs": [
    {
     "data": {
      "text/plain": [
       "<matplotlib.axes._subplots.AxesSubplot at 0x7f32133a8940>"
      ]
     },
     "execution_count": 63,
     "metadata": {},
     "output_type": "execute_result"
    },
    {
     "data": {
      "image/png": "[encoded data removed]",
      "text/plain": [
       "<Figure size 432x288 with 1 Axes>"
      ]
     },
     "metadata": {
      "needs_background": "light"
     },
     "output_type": "display_data"
    }
   ],
   "source": [
    "df[df.TESSmag>10].TESSmag.hist()"
   ]
  },
  {
   "cell_type": "code",
   "execution_count": 64,
   "metadata": {},
   "outputs": [],
   "source": [
    "#df = df[df.TESSmag>10]"
   ]
  },
  {
   "cell_type": "code",
   "execution_count": 65,
   "metadata": {},
   "outputs": [
    {
     "data": {
      "text/html": [
       "<div>\n",
       "<style scoped>\n",
       "    .dataframe tbody tr th:only-of-type {\n",
       "        vertical-align: middle;\n",
       "    }\n",
       "\n",
       "    .dataframe tbody tr th {\n",
       "        vertical-align: top;\n",
       "    }\n",
       "\n",
       "    .dataframe thead th {\n",
       "        text-align: right;\n",
       "    }\n",
       "</style>\n",
       "<table border=\"1\" class=\"dataframe\">\n",
       "  <thead>\n",
       "    <tr style=\"text-align: right;\">\n",
       "      <th></th>\n",
       "      <th>143</th>\n",
       "      <th>343</th>\n",
       "      <th>338</th>\n",
       "      <th>299</th>\n",
       "      <th>18</th>\n",
       "      <th>367</th>\n",
       "    </tr>\n",
       "  </thead>\n",
       "  <tbody>\n",
       "    <tr>\n",
       "      <th>ampl_rec</th>\n",
       "      <td>14.5031</td>\n",
       "      <td>12.4642</td>\n",
       "      <td>0.762096</td>\n",
       "      <td>0.234379</td>\n",
       "      <td>2.42536</td>\n",
       "      <td>0.380735</td>\n",
       "    </tr>\n",
       "    <tr>\n",
       "      <th>cstart</th>\n",
       "      <td>261209</td>\n",
       "      <td>162283</td>\n",
       "      <td>287775</td>\n",
       "      <td>182725</td>\n",
       "      <td>81083</td>\n",
       "      <td>163838</td>\n",
       "    </tr>\n",
       "    <tr>\n",
       "      <th>cstop</th>\n",
       "      <td>261270</td>\n",
       "      <td>162332</td>\n",
       "      <td>287814</td>\n",
       "      <td>182797</td>\n",
       "      <td>81126</td>\n",
       "      <td>163935</td>\n",
       "    </tr>\n",
       "    <tr>\n",
       "      <th>ed_rec</th>\n",
       "      <td>8158.73</td>\n",
       "      <td>5505.37</td>\n",
       "      <td>1552.75</td>\n",
       "      <td>1162.49</td>\n",
       "      <td>1622.64</td>\n",
       "      <td>2962.93</td>\n",
       "    </tr>\n",
       "    <tr>\n",
       "      <th>ed_rec_err</th>\n",
       "      <td>3.83182</td>\n",
       "      <td>2.70926</td>\n",
       "      <td>35.0085</td>\n",
       "      <td>5.46696</td>\n",
       "      <td>4.18317</td>\n",
       "      <td>19.8269</td>\n",
       "    </tr>\n",
       "    <tr>\n",
       "      <th>istart</th>\n",
       "      <td>11012</td>\n",
       "      <td>8802</td>\n",
       "      <td>1315</td>\n",
       "      <td>7828</td>\n",
       "      <td>9368</td>\n",
       "      <td>10350</td>\n",
       "    </tr>\n",
       "    <tr>\n",
       "      <th>istop</th>\n",
       "      <td>11073</td>\n",
       "      <td>8851</td>\n",
       "      <td>1354</td>\n",
       "      <td>7893</td>\n",
       "      <td>9411</td>\n",
       "      <td>10447</td>\n",
       "    </tr>\n",
       "    <tr>\n",
       "      <th>total_n_valid_data_points</th>\n",
       "      <td>14766</td>\n",
       "      <td>16349</td>\n",
       "      <td>18704</td>\n",
       "      <td>13998</td>\n",
       "      <td>17805</td>\n",
       "      <td>16349</td>\n",
       "    </tr>\n",
       "    <tr>\n",
       "      <th>tstart</th>\n",
       "      <td>1590.25</td>\n",
       "      <td>1452.85</td>\n",
       "      <td>1627.15</td>\n",
       "      <td>1481.25</td>\n",
       "      <td>1340.07</td>\n",
       "      <td>1455.01</td>\n",
       "    </tr>\n",
       "    <tr>\n",
       "      <th>tstop</th>\n",
       "      <td>1590.34</td>\n",
       "      <td>1452.92</td>\n",
       "      <td>1627.2</td>\n",
       "      <td>1481.35</td>\n",
       "      <td>1340.13</td>\n",
       "      <td>1455.15</td>\n",
       "    </tr>\n",
       "    <tr>\n",
       "      <th>dur</th>\n",
       "      <td>0.0847232</td>\n",
       "      <td>0.0680557</td>\n",
       "      <td>0.0541666</td>\n",
       "      <td>0.100001</td>\n",
       "      <td>0.0597224</td>\n",
       "      <td>0.134718</td>\n",
       "    </tr>\n",
       "    <tr>\n",
       "      <th>ed_ratio</th>\n",
       "      <td>0.986914</td>\n",
       "      <td>0.99342</td>\n",
       "      <td>0.395951</td>\n",
       "      <td>0.587096</td>\n",
       "      <td>0.966063</td>\n",
       "      <td>13.1982</td>\n",
       "    </tr>\n",
       "    <tr>\n",
       "      <th>ed_ratio_count</th>\n",
       "      <td>15</td>\n",
       "      <td>13</td>\n",
       "      <td>41</td>\n",
       "      <td>64</td>\n",
       "      <td>68</td>\n",
       "      <td>4</td>\n",
       "    </tr>\n",
       "    <tr>\n",
       "      <th>amplitude_ratio</th>\n",
       "      <td>0.922085</td>\n",
       "      <td>0.862615</td>\n",
       "      <td>0.934889</td>\n",
       "      <td>0.920554</td>\n",
       "      <td>0.906073</td>\n",
       "      <td>2.45677</td>\n",
       "    </tr>\n",
       "    <tr>\n",
       "      <th>amplitude_ratio_count</th>\n",
       "      <td>15</td>\n",
       "      <td>13</td>\n",
       "      <td>41</td>\n",
       "      <td>64</td>\n",
       "      <td>68</td>\n",
       "      <td>4</td>\n",
       "    </tr>\n",
       "    <tr>\n",
       "      <th>duration_ratio</th>\n",
       "      <td>7.53994</td>\n",
       "      <td>8.29454</td>\n",
       "      <td>0.637607</td>\n",
       "      <td>1.50246</td>\n",
       "      <td>5.7518</td>\n",
       "      <td>5.64969</td>\n",
       "    </tr>\n",
       "    <tr>\n",
       "      <th>duration_ratio_count</th>\n",
       "      <td>15</td>\n",
       "      <td>13</td>\n",
       "      <td>41</td>\n",
       "      <td>64</td>\n",
       "      <td>68</td>\n",
       "      <td>4</td>\n",
       "    </tr>\n",
       "    <tr>\n",
       "      <th>amplitude_corr</th>\n",
       "      <td>15.7286</td>\n",
       "      <td>14.4493</td>\n",
       "      <td>0.815173</td>\n",
       "      <td>0.254606</td>\n",
       "      <td>2.67679</td>\n",
       "      <td>0.154974</td>\n",
       "    </tr>\n",
       "    <tr>\n",
       "      <th>duration_corr</th>\n",
       "      <td>0.0112366</td>\n",
       "      <td>0.00820488</td>\n",
       "      <td>0.0849528</td>\n",
       "      <td>0.066558</td>\n",
       "      <td>0.0103832</td>\n",
       "      <td>0.0238453</td>\n",
       "    </tr>\n",
       "    <tr>\n",
       "      <th>ed_corr</th>\n",
       "      <td>8266.91</td>\n",
       "      <td>5541.83</td>\n",
       "      <td>3921.58</td>\n",
       "      <td>1980.06</td>\n",
       "      <td>1679.64</td>\n",
       "      <td>224.496</td>\n",
       "    </tr>\n",
       "    <tr>\n",
       "      <th>recovery_probability</th>\n",
       "      <td>0.952381</td>\n",
       "      <td>0.849057</td>\n",
       "      <td>0.96</td>\n",
       "      <td>1</td>\n",
       "      <td>0.945455</td>\n",
       "      <td>0.946429</td>\n",
       "    </tr>\n",
       "    <tr>\n",
       "      <th>recovery_probability_count</th>\n",
       "      <td>42</td>\n",
       "      <td>53</td>\n",
       "      <td>25</td>\n",
       "      <td>39</td>\n",
       "      <td>220</td>\n",
       "      <td>56</td>\n",
       "    </tr>\n",
       "    <tr>\n",
       "      <th>ed_ratio_std</th>\n",
       "      <td>0.308555</td>\n",
       "      <td>0.522035</td>\n",
       "      <td>0.0350564</td>\n",
       "      <td>0.0545523</td>\n",
       "      <td>0.086509</td>\n",
       "      <td>38.2185</td>\n",
       "    </tr>\n",
       "    <tr>\n",
       "      <th>amplitude_ratio_std</th>\n",
       "      <td>0.118575</td>\n",
       "      <td>2.72613</td>\n",
       "      <td>0.0537107</td>\n",
       "      <td>0.0279427</td>\n",
       "      <td>0.0577067</td>\n",
       "      <td>1.46586</td>\n",
       "    </tr>\n",
       "    <tr>\n",
       "      <th>duration_ratio_std</th>\n",
       "      <td>1.82795</td>\n",
       "      <td>2.08473</td>\n",
       "      <td>0.0736091</td>\n",
       "      <td>0.193975</td>\n",
       "      <td>0.904189</td>\n",
       "      <td>39.7911</td>\n",
       "    </tr>\n",
       "    <tr>\n",
       "      <th>recovery_probability_std</th>\n",
       "      <td>0.21554</td>\n",
       "      <td>0.36142</td>\n",
       "      <td>0.2</td>\n",
       "      <td>0</td>\n",
       "      <td>0.227609</td>\n",
       "      <td>0.227208</td>\n",
       "    </tr>\n",
       "    <tr>\n",
       "      <th>ed_corr_err</th>\n",
       "      <td>2550.8</td>\n",
       "      <td>2893.03</td>\n",
       "      <td>141.864</td>\n",
       "      <td>108.155</td>\n",
       "      <td>145.364</td>\n",
       "      <td>8579.91</td>\n",
       "    </tr>\n",
       "    <tr>\n",
       "      <th>amplitude_corr_err</th>\n",
       "      <td>2.02261</td>\n",
       "      <td>45.6641</td>\n",
       "      <td>0.0468328</td>\n",
       "      <td>0.00772837</td>\n",
       "      <td>0.170481</td>\n",
       "      <td>0.0924669</td>\n",
       "    </tr>\n",
       "    <tr>\n",
       "      <th>duration_corr_err</th>\n",
       "      <td>0.00272415</td>\n",
       "      <td>0.00206219</td>\n",
       "      <td>0.00980745</td>\n",
       "      <td>0.00859299</td>\n",
       "      <td>0.00163226</td>\n",
       "      <td>0.167944</td>\n",
       "    </tr>\n",
       "    <tr>\n",
       "      <th>TIC</th>\n",
       "      <td>248223026</td>\n",
       "      <td>298907057</td>\n",
       "      <td>454291779</td>\n",
       "      <td>220146061</td>\n",
       "      <td>29780677</td>\n",
       "      <td>416744592</td>\n",
       "    </tr>\n",
       "    <tr>\n",
       "      <th>sector</th>\n",
       "      <td>10</td>\n",
       "      <td>5</td>\n",
       "      <td>12</td>\n",
       "      <td>6</td>\n",
       "      <td>1</td>\n",
       "      <td>5</td>\n",
       "    </tr>\n",
       "    <tr>\n",
       "      <th>spt</th>\n",
       "      <td>M8</td>\n",
       "      <td>M6</td>\n",
       "      <td>M7</td>\n",
       "      <td>M6</td>\n",
       "      <td>M6</td>\n",
       "      <td>M7</td>\n",
       "    </tr>\n",
       "    <tr>\n",
       "      <th>TESSmag</th>\n",
       "      <td>13.08</td>\n",
       "      <td>12.9865</td>\n",
       "      <td>15.8445</td>\n",
       "      <td>13.498</td>\n",
       "      <td>13.448</td>\n",
       "      <td>14.294</td>\n",
       "    </tr>\n",
       "    <tr>\n",
       "      <th>encorrprob</th>\n",
       "      <td>1.05</td>\n",
       "      <td>1.17778</td>\n",
       "      <td>1.04167</td>\n",
       "      <td>1</td>\n",
       "      <td>1.05769</td>\n",
       "      <td>1.0566</td>\n",
       "    </tr>\n",
       "  </tbody>\n",
       "</table>\n",
       "</div>"
      ],
      "text/plain": [
       "                                   143         343         338         299  \\\n",
       "ampl_rec                       14.5031     12.4642    0.762096    0.234379   \n",
       "cstart                          261209      162283      287775      182725   \n",
       "cstop                           261270      162332      287814      182797   \n",
       "ed_rec                         8158.73     5505.37     1552.75     1162.49   \n",
       "ed_rec_err                     3.83182     2.70926     35.0085     5.46696   \n",
       "istart                           11012        8802        1315        7828   \n",
       "istop                            11073        8851        1354        7893   \n",
       "total_n_valid_data_points        14766       16349       18704       13998   \n",
       "tstart                         1590.25     1452.85     1627.15     1481.25   \n",
       "tstop                          1590.34     1452.92      1627.2     1481.35   \n",
       "dur                          0.0847232   0.0680557   0.0541666    0.100001   \n",
       "ed_ratio                      0.986914     0.99342    0.395951    0.587096   \n",
       "ed_ratio_count                      15          13          41          64   \n",
       "amplitude_ratio               0.922085    0.862615    0.934889    0.920554   \n",
       "amplitude_ratio_count               15          13          41          64   \n",
       "duration_ratio                 7.53994     8.29454    0.637607     1.50246   \n",
       "duration_ratio_count                15          13          41          64   \n",
       "amplitude_corr                 15.7286     14.4493    0.815173    0.254606   \n",
       "duration_corr                0.0112366  0.00820488   0.0849528    0.066558   \n",
       "ed_corr                        8266.91     5541.83     3921.58     1980.06   \n",
       "recovery_probability          0.952381    0.849057        0.96           1   \n",
       "recovery_probability_count          42          53          25          39   \n",
       "ed_ratio_std                  0.308555    0.522035   0.0350564   0.0545523   \n",
       "amplitude_ratio_std           0.118575     2.72613   0.0537107   0.0279427   \n",
       "duration_ratio_std             1.82795     2.08473   0.0736091    0.193975   \n",
       "recovery_probability_std       0.21554     0.36142         0.2           0   \n",
       "ed_corr_err                     2550.8     2893.03     141.864     108.155   \n",
       "amplitude_corr_err             2.02261     45.6641   0.0468328  0.00772837   \n",
       "duration_corr_err           0.00272415  0.00206219  0.00980745  0.00859299   \n",
       "TIC                          248223026   298907057   454291779   220146061   \n",
       "sector                              10           5          12           6   \n",
       "spt                                 M8          M6          M7          M6   \n",
       "TESSmag                          13.08     12.9865     15.8445      13.498   \n",
       "encorrprob                        1.05     1.17778     1.04167           1   \n",
       "\n",
       "                                   18         367  \n",
       "ampl_rec                       2.42536   0.380735  \n",
       "cstart                           81083     163838  \n",
       "cstop                            81126     163935  \n",
       "ed_rec                         1622.64    2962.93  \n",
       "ed_rec_err                     4.18317    19.8269  \n",
       "istart                            9368      10350  \n",
       "istop                             9411      10447  \n",
       "total_n_valid_data_points        17805      16349  \n",
       "tstart                         1340.07    1455.01  \n",
       "tstop                          1340.13    1455.15  \n",
       "dur                          0.0597224   0.134718  \n",
       "ed_ratio                      0.966063    13.1982  \n",
       "ed_ratio_count                      68          4  \n",
       "amplitude_ratio               0.906073    2.45677  \n",
       "amplitude_ratio_count               68          4  \n",
       "duration_ratio                  5.7518    5.64969  \n",
       "duration_ratio_count                68          4  \n",
       "amplitude_corr                 2.67679   0.154974  \n",
       "duration_corr                0.0103832  0.0238453  \n",
       "ed_corr                        1679.64    224.496  \n",
       "recovery_probability          0.945455   0.946429  \n",
       "recovery_probability_count         220         56  \n",
       "ed_ratio_std                  0.086509    38.2185  \n",
       "amplitude_ratio_std          0.0577067    1.46586  \n",
       "duration_ratio_std            0.904189    39.7911  \n",
       "recovery_probability_std      0.227609   0.227208  \n",
       "ed_corr_err                    145.364    8579.91  \n",
       "amplitude_corr_err            0.170481  0.0924669  \n",
       "duration_corr_err           0.00163226   0.167944  \n",
       "TIC                           29780677  416744592  \n",
       "sector                               1          5  \n",
       "spt                                 M6         M7  \n",
       "TESSmag                         13.448     14.294  \n",
       "encorrprob                     1.05769     1.0566  "
      ]
     },
     "execution_count": 65,
     "metadata": {},
     "output_type": "execute_result"
    }
   ],
   "source": [
    "df[df.ed_rec>1e3].T"
   ]
  },
  {
   "cell_type": "code",
   "execution_count": 66,
   "metadata": {
    "scrolled": false
   },
   "outputs": [],
   "source": [
    "#df[['ed_rec', 'ed_corr','TIC',\"sector\", \"TESSmag\"]].tail(25)"
   ]
  },
  {
   "cell_type": "code",
   "execution_count": 87,
   "metadata": {
    "scrolled": false
   },
   "outputs": [
    {
     "data": {
      "image/png": "[encoded data removed]",
      "text/plain": [
       "<Figure size 612x540 with 1 Axes>"
      ]
     },
     "metadata": {
      "needs_background": "light"
     },
     "output_type": "display_data"
    }
   ],
   "source": [
    "df = df[~np.isnan(df.recovery_probability) & (df.recovery_probability > 0.2)]\n",
    "df = df.sort_values(by=\"ed_corr\", ascending=False)\n",
    "df = df[~df.ed_corr.isnull() & np.isfinite(df.ed_corr) & (df.ed_corr > 6)]\n",
    "#df[\"encorrprob\"] = 1./df.recovery_probability.values/np.array(freq)\n",
    "df = df.sort_values(by=\"ed_corr\", ascending=True)\n",
    "freq = []\n",
    "for i in range(df.shape[0]):\n",
    "    f = df.iloc[:i+1]\n",
    "    freq.append(len(set(f.TIC.values)))\n",
    "\n",
    "df = df.sort_values(by=\"ed_corr\", ascending=False)\n",
    "\n",
    "#for spt, df in F.groupby(\"spt\"):\n",
    "    #print(la)\n",
    "    #df = df[(df.TESSmag > 11.14) & (df.TESSmag <11.3)]\n",
    "fig, ax = plt.subplots(1,figsize=(8.5,7.5))\n",
    "alphaval,alpha_err = 2., .2\n",
    "\n",
    "\n",
    "a = df.ed_rec.values\n",
    "f = np.cumsum(1/np.array(freq[::-1]))\n",
    "f = f/f[0]\n",
    "plt.scatter(df.ed_rec.sort_values(ascending=False), f/totobs, c=\"c\", label=\"no correction\")\n",
    "#plt.scatter(df.ed_rec.sort_values(ascending=False), np.cumsum(np.ones_like(freq)), c=\"c\", label=\"no correction\")\n",
    "_beta, beta, beta_err = fit_beta_to_powerlaw(a,f, alphaval, alpha_err,totobs)\n",
    "plot_powerlaw(ax, a, alphaval, beta, mode=\"ED\", c=\"k\")\n",
    "\n",
    "\n",
    "a = df.ed_corr.values\n",
    "f = np.cumsum(1/np.array(freq[::-1]))\n",
    "f = f/f[0]\n",
    "plt.scatter(df.ed_corr.sort_values(ascending=False), f/totobs, c=\"g\", label=\"energy ratio correction only\")\n",
    "#plt.scatter(df.ed_corr.sort_values(ascending=False), np.cumsum(np.ones_like(freq)), c=\"g\", label=\"energy ratio correction only\")\n",
    "_beta,beta, beta_err = fit_beta_to_powerlaw(a,f, alphaval, alpha_err,totobs)\n",
    "plot_powerlaw(ax, a, alphaval, beta, mode=\"ED\", c=\"k\")\n",
    "\n",
    "f = np.cumsum(1./df.recovery_probability.values/np.array(freq[::-1]))\n",
    "f = f/f[0]\n",
    "plt.scatter(df.ed_corr.sort_values(ascending=False), f/totobs, c=\"r\", label=\"energy ratio and recovery probability correction\")\n",
    "#plt.scatter(df.ed_corr.sort_values(ascending=False), np.cumsum(1./df.recovery_probability.values), c=\"orange\", label=\"energy ratio and recovery probability correction\")\n",
    "_beta, beta, beta_err = fit_beta_to_powerlaw(a,f, alphaval, alpha_err,totobs)\n",
    "plot_powerlaw(ax, a, alphaval, beta, mode=\"ED\", c=\"k\", label=r\"$\\alpha=2$\")\n",
    "\n",
    "\n",
    "plt.xscale('log')\n",
    "plt.yscale('log')\n",
    "plt.xlabel(\"ED [s]\")#\"flare energy in TESS band [erg]\")\n",
    "plt.ylabel(\"cumulative number of flares per year\")\n",
    "#plt.title(spt)\n",
    "plt.legend(fontsize=14)\n",
    "#     plt.figure(figsize=(6.5,5.5))\n",
    "#     plt.hist(df.TESSmag)\n",
    "#     plt.title(spt)\n",
    "\n",
    "plt.ylim(.1,1e3)\n",
    "plt.xlim(1,10000)\n",
    "# for x,z in zip(a,f):\n",
    "#     print(x,z)\n",
    "# print(df.shape)\n",
    "plt.savefig(f\"../plots/{tstamp}_FFD_two_step_correction.png\".format(tstamp), dpi=300)"
   ]
  },
  {
   "cell_type": "code",
   "execution_count": 19,
   "metadata": {},
   "outputs": [
    {
     "data": {
      "text/plain": [
       "<matplotlib.legend.Legend at 0x7f32134afef0>"
      ]
     },
     "execution_count": 19,
     "metadata": {},
     "output_type": "execute_result"
    },
    {
     "data": {
      "image/png": "[encoded data removed]",
      "text/plain": [
       "<Figure size 468x396 with 1 Axes>"
      ]
     },
     "metadata": {
      "needs_background": "light"
     },
     "output_type": "display_data"
    }
   ],
   "source": [
    "#df = df[df.recovery_probability > .2]\n",
    "\n",
    "\n",
    "df = df.sort_values(by=\"ed_rec\", ascending=False)\n",
    "#df['probnocorrcum'] = np.cumsum(1/np.array(freq[::-1])*freq[-1])\n",
    "df['probnocorrcum'] = np.cumsum(np.ones_like(freq))\n",
    "df['sortededrec'] =df.ed_rec.sort_values(ascending=False)\n",
    "df = df.sort_values(by=\"ed_corr\", ascending=False)\n",
    "df = df[(~df.ed_corr.isnull()) & (np.isfinite(df.ed_corr)) & (df.recovery_probability >0.0) ]\n",
    "df[\"ed_corrprob\"] = 1/df.recovery_probability.values\n",
    "df[\"ed_corrprob_err\"] = df.recovery_probability_std / df.recovery_probability**2\n",
    "df[\"ed_corrprobcum\"] = np.cumsum(df.ed_corrprob.values)\n",
    "\n",
    "\n",
    "plt.figure(figsize=(6.5,5.5))\n",
    "for l, row in df.iterrows():\n",
    "    plt.plot([row.sortededrec, row.ed_corr], [row.probnocorrcum, row.ed_corrprobcum],c=\"grey\",alpha=.5)\n",
    "plt.scatter(df[\"sortededrec\"], df[\"probnocorrcum\"], label=\"no correction\", c=\"k\")#, condition {}\".format(label))\n",
    "plt.scatter(df.ed_corr, df[\"ed_corrprobcum\"], label=\"energy ratio and recovery probability correction\", c=\"r\")#, condition {}\".format(label))\n",
    "plt.plot([10, 4000],[4000, 10], label=\"slope=-1\", linestyle=\"dashed\", c=\"grey\", linewidth=3)\n",
    "plt.xscale('log')\n",
    "plt.yscale('log')\n",
    "#plt.ylim(.8,250)\n",
    "#plt.xlim(5,4000)\n",
    "plt.xlabel(\"ED [s]\")#\"flare energy in TESS band [erg]\")\n",
    "plt.ylabel(\"cumulative number of flares\")\n",
    "plt.legend()\n",
    "#plt.savefig(\"plots/{}_FFD_flare_correspondence_correction.png\".format(today), dpi=300)"
   ]
  },
  {
   "cell_type": "code",
   "execution_count": 20,
   "metadata": {},
   "outputs": [
    {
     "data": {
      "text/plain": [
       "array([2.28338430e-02, 4.70226336e-02, 7.02906074e-02, 1.01738419e-01,\n",
       "       1.24994233e-01, 1.50573383e-01, 1.74601343e-01, 1.98896776e-01,\n",
       "       2.40913582e-01, 2.65049264e-01, 2.90878346e-01, 3.23021203e-01,\n",
       "       3.56122248e-01, 3.81954926e-01, 4.21056745e-01, 4.46792040e-01,\n",
       "       4.72778882e-01, 5.00939801e-01, 5.27221852e-01, 5.78278190e-01,\n",
       "       6.03611524e-01, 6.30160196e-01, 6.57911005e-01, 6.86446359e-01,\n",
       "       7.14833456e-01, 7.45732332e-01, 7.72919832e-01, 7.98323058e-01,\n",
       "       8.43571927e-01, 8.69212952e-01, 8.99784945e-01, 9.25425970e-01,\n",
       "       9.51860017e-01, 9.83551172e-01, 1.01035770e+00, 1.03795440e+00,\n",
       "       1.06975913e+00, 1.10231916e+00, 1.13401032e+00, 1.16370526e+00,\n",
       "       1.19148304e+00, 1.22267212e+00, 1.25354932e+00, 1.28278908e+00,\n",
       "       1.31531421e+00, 1.35102850e+00, 1.37734429e+00, 1.40474527e+00,\n",
       "       1.44918012e+00, 1.48264341e+00, 1.57053815e+00, 1.62621382e+00,\n",
       "       1.67412537e+00, 1.70268223e+00, 1.73172997e+00, 1.76309152e+00,\n",
       "       1.79054755e+00, 1.82662673e+00, 1.85659749e+00, 1.88471402e+00,\n",
       "       1.92026958e+00, 1.96721793e+00, 1.99499571e+00, 2.04177934e+00,\n",
       "       2.08262901e+00, 2.11063827e+00, 2.14543681e+00, 2.17426280e+00,\n",
       "       2.20687150e+00, 2.24479885e+00, 2.29079156e+00, 2.32012697e+00,\n",
       "       2.35273567e+00, 2.38721843e+00, 2.43400205e+00, 2.46481013e+00,\n",
       "       2.49353980e+00, 2.52303579e+00, 2.55834879e+00, 2.59154207e+00,\n",
       "       2.62092212e+00, 2.65297787e+00, 2.68376605e+00, 2.72640997e+00,\n",
       "       2.75630008e+00, 2.80371649e+00, 2.83697980e+00, 2.87231091e+00,\n",
       "       2.93624953e+00, 2.98005429e+00, 3.01401787e+00, 3.05111296e+00,\n",
       "       3.08952525e+00, 3.14871086e+00, 3.19854251e+00, 3.23491104e+00,\n",
       "       3.29294676e+00, 3.32872388e+00, 3.36442698e+00, 3.39958000e+00,\n",
       "       3.43944952e+00, 3.51855858e+00, 3.55545985e+00, 3.58994261e+00,\n",
       "       3.62895237e+00, 3.66692119e+00, 3.70700558e+00, 3.74363561e+00,\n",
       "       3.78113561e+00, 3.82289385e+00, 3.89785637e+00, 3.99796761e+00,\n",
       "       4.04928124e+00, 4.11494944e+00, 4.16295881e+00, 4.21750426e+00,\n",
       "       4.28052947e+00, 4.32201095e+00, 4.37614201e+00, 4.42191812e+00,\n",
       "       4.46502157e+00, 4.58157930e+00, 4.62953752e+00, 4.70072396e+00,\n",
       "       4.74667984e+00, 4.92897151e+00, 5.02434188e+00, 5.07673876e+00,\n",
       "       5.14583814e+00, 5.19136243e+00, 5.25908818e+00, 5.30604471e+00,\n",
       "       5.35815468e+00, 5.42436021e+00, 5.47502309e+00, 5.56401543e+00,\n",
       "       5.61221292e+00, 5.75096890e+00, 5.84397485e+00, 5.90622385e+00,\n",
       "       5.98056582e+00, 6.11620796e+00, 6.17243506e+00, 6.22565635e+00,\n",
       "       6.28451135e+00, 6.33836623e+00, 6.38709270e+00, 6.48032276e+00,\n",
       "       6.61596490e+00, 6.67319933e+00, 6.79784919e+00, 6.85670419e+00,\n",
       "       6.90818934e+00, 7.01157917e+00, 7.07378013e+00, 7.13841988e+00,\n",
       "       7.20204910e+00, 7.26200510e+00, 7.34688164e+00, 7.42727005e+00,\n",
       "       7.64521877e+00, 7.70077433e+00, 7.76349834e+00, 7.84388675e+00,\n",
       "       7.91999025e+00, 7.99059210e+00, 8.05754367e+00, 8.12060673e+00,\n",
       "       8.19399054e+00, 8.26737435e+00, 8.35544253e+00, 8.43035062e+00,\n",
       "       8.52580517e+00, 8.60250971e+00, 8.71046426e+00, 8.79648576e+00,\n",
       "       8.87596946e+00, 8.94653398e+00, 9.03352585e+00, 9.11342781e+00,\n",
       "       9.19136208e+00, 9.30651359e+00, 9.39683618e+00, 9.47986648e+00,\n",
       "       9.54849393e+00, 9.65031211e+00, 9.78667575e+00, 9.86532743e+00,\n",
       "       9.96691473e+00, 1.00902914e+01, 1.01870656e+01, 1.02754308e+01,\n",
       "       1.03716213e+01, 1.04451820e+01, 1.05233333e+01, 1.06566666e+01,\n",
       "       1.07981058e+01, 1.09064974e+01, 1.09988051e+01, 1.11030235e+01,\n",
       "       1.12376389e+01, 1.13649537e+01, 1.14778569e+01, 1.15975887e+01,\n",
       "       1.17132014e+01, 1.18251908e+01, 1.19191816e+01, 1.21555452e+01,\n",
       "       1.22475907e+01, 1.23823309e+01, 1.25494864e+01, 1.27858500e+01,\n",
       "       1.28859334e+01, 1.29928130e+01, 1.31564494e+01, 1.33200857e+01,\n",
       "       1.35039567e+01, 1.36958759e+01, 1.39833155e+01, 1.41137104e+01,\n",
       "       1.44025993e+01, 1.45745422e+01, 1.47311078e+01, 1.49308075e+01,\n",
       "       1.50504656e+01, 1.52202187e+01, 1.53712159e+01, 1.56601048e+01,\n",
       "       1.57749196e+01, 1.59671594e+01, 1.61391023e+01, 1.63109773e+01,\n",
       "       1.65155228e+01, 1.66531375e+01, 1.67932473e+01, 1.69626022e+01,\n",
       "       1.72876022e+01, 1.74252169e+01, 1.76482561e+01, 1.77936365e+01,\n",
       "       1.80166757e+01, 1.82056292e+01, 1.83855535e+01, 1.85252019e+01,\n",
       "       1.87498641e+01, 1.89410405e+01, 1.91227175e+01, 1.93294306e+01,\n",
       "       1.95178364e+01, 1.97724660e+01, 1.99608718e+01, 2.01541085e+01,\n",
       "       2.03403065e+01, 2.05661129e+01, 2.07736887e+01, 2.09571749e+01,\n",
       "       2.12779296e+01, 2.16685546e+01, 2.23185546e+01, 2.26034383e+01,\n",
       "       2.32411502e+01, 2.35163796e+01, 2.38317642e+01, 2.42022999e+01,\n",
       "       2.45842443e+01, 2.49610559e+01, 2.53280284e+01, 2.57804094e+01,\n",
       "       2.62561669e+01, 2.66800800e+01, 2.75536432e+01, 2.80334412e+01,\n",
       "       2.84214193e+01, 2.91884444e+01, 2.96581414e+01, 3.01379394e+01,\n",
       "       3.09882219e+01, 3.14680198e+01, 3.19999347e+01, 3.24285062e+01,\n",
       "       3.29225538e+01, 3.38328102e+01, 3.43328102e+01, 3.48782647e+01,\n",
       "       3.55657647e+01, 3.62869186e+01, 3.75623423e+01, 3.86927771e+01])"
      ]
     },
     "execution_count": 20,
     "metadata": {},
     "output_type": "execute_result"
    }
   ],
   "source": [
    "f\n"
   ]
  },
  {
   "cell_type": "code",
   "execution_count": null,
   "metadata": {},
   "outputs": [],
   "source": []
  }
 ],
 "metadata": {
  "kernelspec": {
   "display_name": "flaresinclustersii",
   "language": "python",
   "name": "flaresinclustersii"
  },
  "language_info": {
   "codemirror_mode": {
    "name": "ipython",
    "version": 3
   },
   "file_extension": ".py",
   "mimetype": "text/x-python",
   "name": "python",
   "nbconvert_exporter": "python",
   "pygments_lexer": "ipython3",
   "version": "3.6.9"
  }
 },
 "nbformat": 4,
 "nbformat_minor": 2
}
