{
 "cells": [
  {
   "cell_type": "code",
   "execution_count": 1,
   "metadata": {},
   "outputs": [],
   "source": [
    "import numpy as np\n",
    "import pandas as pd\n",
    "\n",
    "import matplotlib.pyplot as plt\n",
    "%matplotlib inline\n",
    "\n",
    "from funcs.ffd import FFD, _get_multistar_factors\n",
    "\n",
    "import time\n",
    "tstamp = time.strftime(\"%d_%m_%Y_%H_%M\", time.localtime())"
   ]
  },
  {
   "cell_type": "code",
   "execution_count": 2,
   "metadata": {
    "scrolled": true
   },
   "outputs": [
    {
     "name": "stdout",
     "output_type": "stream",
     "text": [
      "(313, 35)\n"
     ]
    },
    {
     "data": {
      "text/html": [
       "<div>\n",
       "<style scoped>\n",
       "    .dataframe tbody tr th:only-of-type {\n",
       "        vertical-align: middle;\n",
       "    }\n",
       "\n",
       "    .dataframe tbody tr th {\n",
       "        vertical-align: top;\n",
       "    }\n",
       "\n",
       "    .dataframe thead th {\n",
       "        text-align: right;\n",
       "    }\n",
       "</style>\n",
       "<table border=\"1\" class=\"dataframe\">\n",
       "  <thead>\n",
       "    <tr style=\"text-align: right;\">\n",
       "      <th></th>\n",
       "      <th>Unnamed: 0</th>\n",
       "      <th>ampl_rec</th>\n",
       "      <th>cstart</th>\n",
       "      <th>cstop</th>\n",
       "      <th>ed_rec</th>\n",
       "      <th>ed_rec_err</th>\n",
       "      <th>istart</th>\n",
       "      <th>istop</th>\n",
       "      <th>total_n_valid_data_points</th>\n",
       "      <th>tstart</th>\n",
       "      <th>...</th>\n",
       "      <th>duration_ratio_std</th>\n",
       "      <th>recovery_probability_std</th>\n",
       "      <th>ed_corr_err</th>\n",
       "      <th>amplitude_corr_err</th>\n",
       "      <th>duration_corr_err</th>\n",
       "      <th>TIC</th>\n",
       "      <th>sector</th>\n",
       "      <th>energy</th>\n",
       "      <th>st</th>\n",
       "      <th>real</th>\n",
       "    </tr>\n",
       "  </thead>\n",
       "  <tbody>\n",
       "    <tr>\n",
       "      <th>0</th>\n",
       "      <td>231</td>\n",
       "      <td>0.762096</td>\n",
       "      <td>287775</td>\n",
       "      <td>287814</td>\n",
       "      <td>1552.753649</td>\n",
       "      <td>35.008459</td>\n",
       "      <td>1315</td>\n",
       "      <td>1354</td>\n",
       "      <td>18704</td>\n",
       "      <td>1627.145175</td>\n",
       "      <td>...</td>\n",
       "      <td>0.073609</td>\n",
       "      <td>0.200000</td>\n",
       "      <td>141.864028</td>\n",
       "      <td>0.046833</td>\n",
       "      <td>0.009807</td>\n",
       "      <td>454291779</td>\n",
       "      <td>12</td>\n",
       "      <td>2.25571E+034</td>\n",
       "      <td>7.0</td>\n",
       "      <td>1.0</td>\n",
       "    </tr>\n",
       "    <tr>\n",
       "      <th>1</th>\n",
       "      <td>30</td>\n",
       "      <td>0.039327</td>\n",
       "      <td>304897</td>\n",
       "      <td>304901</td>\n",
       "      <td>11.984715</td>\n",
       "      <td>0.613684</td>\n",
       "      <td>17435</td>\n",
       "      <td>17439</td>\n",
       "      <td>18704</td>\n",
       "      <td>1650.925377</td>\n",
       "      <td>...</td>\n",
       "      <td>0.401894</td>\n",
       "      <td>0.501610</td>\n",
       "      <td>2.434664</td>\n",
       "      <td>0.006901</td>\n",
       "      <td>0.002603</td>\n",
       "      <td>449671564</td>\n",
       "      <td>12</td>\n",
       "      <td>6.354972E+032</td>\n",
       "      <td>6.0</td>\n",
       "      <td>1.0</td>\n",
       "    </tr>\n",
       "    <tr>\n",
       "      <th>5</th>\n",
       "      <td>68</td>\n",
       "      <td>0.999455</td>\n",
       "      <td>270340</td>\n",
       "      <td>270351</td>\n",
       "      <td>327.623519</td>\n",
       "      <td>6.905976</td>\n",
       "      <td>1898</td>\n",
       "      <td>1909</td>\n",
       "      <td>13204</td>\n",
       "      <td>1602.933193</td>\n",
       "      <td>...</td>\n",
       "      <td>0.528685</td>\n",
       "      <td>0.350605</td>\n",
       "      <td>29.992656</td>\n",
       "      <td>0.148482</td>\n",
       "      <td>0.001709</td>\n",
       "      <td>441000085</td>\n",
       "      <td>11</td>\n",
       "      <td>2.0024259E+032</td>\n",
       "      <td>7.0</td>\n",
       "      <td>1.0</td>\n",
       "    </tr>\n",
       "    <tr>\n",
       "      <th>6</th>\n",
       "      <td>137</td>\n",
       "      <td>0.035143</td>\n",
       "      <td>143992</td>\n",
       "      <td>143995</td>\n",
       "      <td>8.069187</td>\n",
       "      <td>0.484948</td>\n",
       "      <td>7600</td>\n",
       "      <td>7603</td>\n",
       "      <td>14058</td>\n",
       "      <td>1427.449927</td>\n",
       "      <td>...</td>\n",
       "      <td>0.334400</td>\n",
       "      <td>0.479899</td>\n",
       "      <td>2.799321</td>\n",
       "      <td>0.007029</td>\n",
       "      <td>0.004966</td>\n",
       "      <td>420001446</td>\n",
       "      <td>4</td>\n",
       "      <td>7.0202222E+031</td>\n",
       "      <td>6.0</td>\n",
       "      <td>1.0</td>\n",
       "    </tr>\n",
       "    <tr>\n",
       "      <th>7</th>\n",
       "      <td>140</td>\n",
       "      <td>0.038143</td>\n",
       "      <td>147741</td>\n",
       "      <td>147744</td>\n",
       "      <td>9.817022</td>\n",
       "      <td>0.646324</td>\n",
       "      <td>11322</td>\n",
       "      <td>11325</td>\n",
       "      <td>14058</td>\n",
       "      <td>1432.656759</td>\n",
       "      <td>...</td>\n",
       "      <td>0.334400</td>\n",
       "      <td>0.479899</td>\n",
       "      <td>3.415881</td>\n",
       "      <td>0.007630</td>\n",
       "      <td>0.004966</td>\n",
       "      <td>420001446</td>\n",
       "      <td>4</td>\n",
       "      <td>8.0306861E+031</td>\n",
       "      <td>6.0</td>\n",
       "      <td>1.0</td>\n",
       "    </tr>\n",
       "  </tbody>\n",
       "</table>\n",
       "<p>5 rows × 35 columns</p>\n",
       "</div>"
      ],
      "text/plain": [
       "   Unnamed: 0  ampl_rec  cstart   cstop       ed_rec  ed_rec_err  istart  \\\n",
       "0         231  0.762096  287775  287814  1552.753649   35.008459    1315   \n",
       "1          30  0.039327  304897  304901    11.984715    0.613684   17435   \n",
       "5          68  0.999455  270340  270351   327.623519    6.905976    1898   \n",
       "6         137  0.035143  143992  143995     8.069187    0.484948    7600   \n",
       "7         140  0.038143  147741  147744     9.817022    0.646324   11322   \n",
       "\n",
       "   istop  total_n_valid_data_points       tstart  ...  duration_ratio_std  \\\n",
       "0   1354                      18704  1627.145175  ...            0.073609   \n",
       "1  17439                      18704  1650.925377  ...            0.401894   \n",
       "5   1909                      13204  1602.933193  ...            0.528685   \n",
       "6   7603                      14058  1427.449927  ...            0.334400   \n",
       "7  11325                      14058  1432.656759  ...            0.334400   \n",
       "\n",
       "   recovery_probability_std  ed_corr_err  amplitude_corr_err  \\\n",
       "0                  0.200000   141.864028            0.046833   \n",
       "1                  0.501610     2.434664            0.006901   \n",
       "5                  0.350605    29.992656            0.148482   \n",
       "6                  0.479899     2.799321            0.007029   \n",
       "7                  0.479899     3.415881            0.007630   \n",
       "\n",
       "   duration_corr_err        TIC  sector          energy   st  real  \n",
       "0           0.009807  454291779      12    2.25571E+034  7.0   1.0  \n",
       "1           0.002603  449671564      12   6.354972E+032  6.0   1.0  \n",
       "5           0.001709  441000085      11  2.0024259E+032  7.0   1.0  \n",
       "6           0.004966  420001446       4  7.0202222E+031  6.0   1.0  \n",
       "7           0.004966  420001446       4  8.0306861E+031  6.0   1.0  \n",
       "\n",
       "[5 rows x 35 columns]"
      ]
     },
     "execution_count": 2,
     "metadata": {},
     "output_type": "execute_result"
    }
   ],
   "source": [
    "df = pd.read_csv(\"../flare_tables/20200227_vetted_flares_lacking_some.csv\",)\n",
    "#                 names=['ampl_rec','cstart','cstop','ed_rec','ed_rec_err',\n",
    "#                     'istart', 'istop','total_n_valid_data_points', \n",
    "#                     'tstart', 'tstop',  'dur', 'ed_ratio','ed_ratio_count',\n",
    "#             'amplitude_ratio','amplitude_ratio_count','duration_ratio','duration_ratio_count',\n",
    "#             'amplitude_corr','duration_corr','ed_corr','recovery_probability','recovery_probability_count',\n",
    "#             'ed_ratio_std','amplitude_ratio_std','duration_ratio_std','recovery_probability_std',\n",
    "#             'ed_corr_err','amplitude_corr_err','duration_corr_err',\"TIC\",\"sector\",\"energy\",\"st\",\"real\"\n",
    "# ])\n",
    "              \n",
    "#spts = pd.read_csv(\"../flare_tables/spts.csv\")\n",
    "\n",
    "#spts.head()\n",
    "#df = df.merge(spts[[\"TIC\",\"spt\",\"TESSmag\"]],on=\"TIC\")\n",
    "df = df[df.real==1]\n",
    "print(df.shape)\n",
    "df.head()"
   ]
  },
  {
   "cell_type": "code",
   "execution_count": null,
   "metadata": {},
   "outputs": [],
   "source": [
    "totobs = df.groupby([\"TIC\",\"sector\"]).total_n_valid_data_points.apply(lambda x: x.iloc[0]).sum()/30./24./365.25"
   ]
  },
  {
   "cell_type": "code",
   "execution_count": null,
   "metadata": {},
   "outputs": [],
   "source": [
    "totobs"
   ]
  },
  {
   "cell_type": "code",
   "execution_count": null,
   "metadata": {},
   "outputs": [],
   "source": [
    "plt.hist(df.recovery_probability_count, bins=np.linspace(0,50,10), histtype=\"step\");"
   ]
  },
  {
   "cell_type": "code",
   "execution_count": null,
   "metadata": {},
   "outputs": [],
   "source": [
    "plt.hist(df.ed_ratio_count, bins=np.linspace(0,50,10), histtype=\"step\");"
   ]
  },
  {
   "cell_type": "code",
   "execution_count": null,
   "metadata": {},
   "outputs": [],
   "source": [
    "plt.scatter(df.ampl_rec, df.amplitude_corr)\n",
    "plt.plot([0,12],[0,12])"
   ]
  },
  {
   "cell_type": "code",
   "execution_count": null,
   "metadata": {},
   "outputs": [],
   "source": [
    "plt.hist(df.amplitude_ratio_count, bins=np.linspace(0,300,10), histtype=\"step\");"
   ]
  },
  {
   "cell_type": "code",
   "execution_count": null,
   "metadata": {},
   "outputs": [],
   "source": [
    "plt.hist(df.duration_ratio_count, bins=np.linspace(0,300,10), histtype=\"step\");"
   ]
  },
  {
   "cell_type": "code",
   "execution_count": null,
   "metadata": {},
   "outputs": [],
   "source": [
    "plt.scatter(df.ed_rec, df.ed_corr)\n",
    "plt.plot([1,3e3],[1,3e3])\n",
    "plt.yscale(\"log\")\n",
    "plt.xscale(\"log\")"
   ]
  },
  {
   "cell_type": "code",
   "execution_count": null,
   "metadata": {
    "scrolled": false
   },
   "outputs": [],
   "source": [
    "plt.hist(df.recovery_probability, bins=np.linspace(0,1,6), histtype=\"step\");"
   ]
  },
  {
   "cell_type": "markdown",
   "metadata": {},
   "source": [
    "# target-wise FFDs"
   ]
  },
  {
   "cell_type": "code",
   "execution_count": 31,
   "metadata": {},
   "outputs": [
    {
     "data": {
      "text/plain": [
       "TIC\n",
       "142052876    59\n",
       "388857263    32\n",
       "29928567     30\n",
       "167894019    26\n",
       "272349442    20\n",
       "29780677     20\n",
       "220429097    13\n",
       "395130640     8\n",
       "Name: TIC, dtype: int64"
      ]
     },
     "execution_count": 31,
     "metadata": {},
     "output_type": "execute_result"
    }
   ],
   "source": [
    "h = df.groupby(\"TIC\").TIC.count().sort_values(ascending=False).head(8)\n",
    "h"
   ]
  },
  {
   "cell_type": "code",
   "execution_count": 32,
   "metadata": {},
   "outputs": [
    {
     "data": {
      "image/png": "[encoded data removed]",
      "text/plain": [
       "<Figure size 468x396 with 1 Axes>"
      ]
     },
     "metadata": {
      "needs_background": "light"
     },
     "output_type": "display_data"
    }
   ],
   "source": [
    "p = []\n",
    "fig, ax = plt.subplots(nrows=1,ncols=1,figsize=(6.5,5.5), sharex=True, sharey=True, squeeze=True)\n",
    "s, c = 4, \"k\"\n",
    "for TIC in h.index:\n",
    "    d = df[df.TIC==TIC]\n",
    "    tobs =  d.groupby([\"sector\"]).total_n_valid_data_points.apply(lambda x: x.iloc[0]).sum()/30./24./365.25\n",
    "    ffd = FFD(f=d, tot_obs_time=tobs)\n",
    "    ffd.alpha, ffd.alpha_err = 2., 0.2\n",
    "    ed, freq, counts = ffd.ed_and_freq(energy_correction=True,\n",
    "                                recovery_probability_correction=True,\n",
    "                                 multiple_stars=False)\n",
    "    _beta, ffd.beta, ffd.beta_err = ffd.fit_beta_to_powerlaw(ed, freq*ffd.tot_obs_time)\n",
    "    a, x, y = ffd.plot_powerlaw(ax, ed, c=c, alpha=0.3)\n",
    "    p.append([x,y])\n",
    "len(p)\n",
    "plt.xscale('log')\n",
    "plt.yscale('log')"
   ]
  },
  {
   "cell_type": "code",
   "execution_count": 35,
   "metadata": {
    "scrolled": true
   },
   "outputs": [
    {
     "name": "stdout",
     "output_type": "stream",
     "text": [
      "142052876\n",
      "388857263\n",
      "29928567\n",
      "167894019\n",
      "272349442\n",
      "29780677\n",
      "220429097\n",
      "395130640\n"
     ]
    },
    {
     "data": {
      "image/png": "[encoded data removed]",
      "text/plain": [
       "<Figure size 612x900 with 8 Axes>"
      ]
     },
     "metadata": {
      "needs_background": "light"
     },
     "output_type": "display_data"
    }
   ],
   "source": [
    "fig, axes = plt.subplots(nrows=4,ncols=2,figsize=(8.5,12.5), sharex=True, sharey=True, squeeze=True)\n",
    "s, c = 4, \"r\"\n",
    "axes = [i for ax in axes for i in ax]\n",
    "for ax,TIC in zip(axes,h.index):\n",
    "    print(TIC)\n",
    "    d = df[df.TIC==TIC]\n",
    "    tobs =  d.groupby([\"sector\"]).total_n_valid_data_points.apply(lambda x: x.iloc[0]).sum()/30./24./365.25\n",
    "    ffd = FFD(f=d, tot_obs_time=tobs)\n",
    "    ffd.alpha, ffd.alpha_err = 2., 0.2\n",
    "#     ed, freq, counts = ffd.ed_and_freq(energy_correction=False,\n",
    "#                                 recovery_probability_correction=False,\n",
    "#                                  multiple_stars=False)\n",
    "    \n",
    "#     _beta, ffd.beta, ffd.beta_err = ffd.fit_beta_to_powerlaw(ed, freq*ffd.tot_obs_time)\n",
    "#     ax.scatter(ed, freq,alpha=.2, c=c, s=s)\n",
    "#     ffd.plot_powerlaw(ax, ed, c=c, alpha=0.5)\n",
    "    \n",
    "    \n",
    "    ed, freq, counts = ffd.ed_and_freq(energy_correction=True,\n",
    "                                recovery_probability_correction=True,\n",
    "                                 multiple_stars=False)\n",
    "    for plot in p:\n",
    "        ax.plot(plot[0],plot[1],c=\"k\",alpha=.35)\n",
    "    _beta, ffd.beta, ffd.beta_err = ffd.fit_beta_to_powerlaw(ed, freq*ffd.tot_obs_time)\n",
    "    ax.scatter(ed, freq, c=c,label=f\"TIC {TIC}, M{int(d.st.iloc[0])}\", s=s)\n",
    "    ffd.plot_powerlaw(ax, ed, c=c, alpha=1)\n",
    "    ax.set_xscale(\"log\")\n",
    "    ax.set_yscale(\"log\")\n",
    "    ax.legend(frameon=False)\n",
    "    \n",
    "    ax.set_xlabel(\"ED [s]\")#\"flare energy in TESS band [erg]\")\n",
    "axes[2].set_ylabel(\"cumulative number of flares per year\")\n",
    "plt.ylim(1,2e3)\n",
    "plt.xlim(2,2e3)\n",
    "fig.subplots_adjust(hspace=0, wspace=0)\n",
    "#plt.tight_layout(pad=0.01, w_pad=0., h_pad=-0.5)"
   ]
  },
  {
   "cell_type": "markdown",
   "metadata": {},
   "source": [
    "# SpT wise FFDs\n"
   ]
  },
  {
   "cell_type": "code",
   "execution_count": 36,
   "metadata": {},
   "outputs": [
    {
     "data": {
      "text/plain": [
       "st\n",
       "6.0    243\n",
       "7.0     55\n",
       "8.0     10\n",
       "9.0      5\n",
       "Name: st, dtype: int64"
      ]
     },
     "execution_count": 36,
     "metadata": {},
     "output_type": "execute_result"
    }
   ],
   "source": [
    "h = df.groupby(\"st\").st.count().sort_values(ascending=False).head(8)\n",
    "h"
   ]
  },
  {
   "cell_type": "code",
   "execution_count": null,
   "metadata": {},
   "outputs": [],
   "source": [
    "d = df[df.TIC==h.index[0]]\n",
    "tobs =  d.groupby([\"sector\"]).total_n_valid_data_points.apply(lambda x: x.iloc[0]).sum()/30./24./365.25\n",
    "\n",
    "ffd = FFD(f=d, tot_obs_time=tobs)\n",
    "fig, ax = plt.subplots(1,figsize=(8.5,7.5))\n",
    "ed, freq, counts = ffd.ed_and_freq( energy_correction=False,\n",
    "                            recovery_probability_correction=False,\n",
    "                             multiple_stars=False)\n",
    "a, sig_a = ffd.fit_powerlaw(d.ed_rec.values)\n",
    "ffd.alpha, ffd.alpha_err = a, sig_a\n",
    "ispowerlaw = ffd.is_powerlaw(d.ed_rec.values)\n",
    "truncated = ffd.is_powerlaw_truncated(d.ed_rec.values)\n",
    "print(a, sig_a, ispowerlaw, truncated)\n",
    "\n",
    "ax.plot(ed, freq, c=\"c\", label=\"no correction\")\n",
    "\n",
    "ed, freq, counts = ffd.ed_and_freq( energy_correction=True,\n",
    "                            recovery_probability_correction=False,\n",
    "                             multiple_stars=False)\n",
    "a, sig_a = ffd.fit_powerlaw(d.ed_corr.values)\n",
    "ffd.alpha, ffd.alpha_err = a, sig_a\n",
    "ispowerlaw = ffd.is_powerlaw(d.ed_corr.values)\n",
    "truncated = ffd.is_powerlaw_truncated(d.ed_corr.values)\n",
    "print(a, sig_a, ispowerlaw, truncated)\n",
    "\n",
    "ax.plot(ed, freq, c=\"r\", label=\"ED correction\")\n",
    "\n",
    "\n",
    "eds, freq = [], []\n",
    "for n, ED, f in zip(np.rint(5*(1/d.recovery_probability)), \n",
    "                    df.ed_corr.sort_values(ascending=True), \n",
    "                    (1./d.recovery_probability).values):\n",
    "    eds.append(int(n)*[ED])\n",
    "    freq.append(int(n)*[f])\n",
    "    \n",
    "eds = np.array([i  for a in eds for i in a])\n",
    "freq = np.array([i  for a in freq for i in a])\n",
    "print(len(eds))\n",
    "a, sig_a = ffd.fit_powerlaw(eds)\n",
    "ffd.alpha, ffd.alpha_err = a, sig_a*1e13\n",
    "ispowerlaw = ffd.is_powerlaw(eds)\n",
    "truncated = ffd.is_powerlaw_truncated(eds)\n",
    "print(a, sig_a, ispowerlaw, truncated)\n",
    "ed, freq, counts = ffd.ed_and_freq( energy_correction=True,\n",
    "                            recovery_probability_correction=True,\n",
    "                             multiple_stars=False)\n",
    "_beta, ffd.beta, ffd.beta_err = ffd.fit_beta_to_powerlaw(ed, freq)\n",
    "ax.plot(ed, freq, c=\"k\", label=\"ED and rec. prob. correction\")\n",
    "ffd.plot_powerlaw(ax, ed)\n",
    "\n",
    "plt.xscale('log')\n",
    "plt.yscale('log')\n",
    "plt.xlabel(\"ED [s]\")#\"flare energy in TESS band [erg]\")\n",
    "plt.ylabel(\"cumulative number of flares per year\")"
   ]
  },
  {
   "cell_type": "code",
   "execution_count": null,
   "metadata": {},
   "outputs": [],
   "source": [
    "df = df[~np.isnan(df.recovery_probability) & (df.recovery_probability > 0.2)]\n",
    "df = df.sort_values(by=\"ed_corr\", ascending=False)\n",
    "df = df[~df.ed_corr.isnull() & np.isfinite(df.ed_corr) & (df.ed_corr > 6)]\n",
    "\n",
    "ffd = FFD(df,ID=\"TIC\")\n",
    "ffd.alpha, ffd.alpha_err = 2., .2\n",
    "ffd.tot_obs_time = 1.\n",
    "\n",
    "fig, ax = plt.subplots(1,figsize=(8.5,7.5))\n",
    "\n",
    "# No correction, single star mode\n",
    "ed, freq, counts = ffd.ed_and_freq( energy_correction=False,\n",
    "                            recovery_probability_correction=False,\n",
    "                             multiple_stars=False)\n",
    "ax.plot(ed, freq, c=\"c\", label=\"no correction\",alpha=.2)\n",
    "_beta, ffd.beta, beta_err = ffd.fit_beta_to_powerlaw(ed,freq, mode=\"ED\")\n",
    "ffd.plot_powerlaw(ax, ed, c=\"k\", alpha=.2,)\n",
    "plt.xscale('log')\n",
    "plt.yscale('log')"
   ]
  },
  {
   "cell_type": "code",
   "execution_count": null,
   "metadata": {},
   "outputs": [],
   "source": [
    "a, sig_a = ffd.fit_powerlaw(df.ed_rec.values)\n",
    "ispowerlaw = ffd.is_powerlaw(df.ed_rec.values)\n",
    "truncated = ffd.is_powerlaw_truncated(df.ed_rec.values)\n",
    "\n",
    "print(a, sig_a, ispowerlaw, truncated)"
   ]
  },
  {
   "cell_type": "code",
   "execution_count": null,
   "metadata": {},
   "outputs": [],
   "source": [
    "ed, freq, counts = ffd.ed_and_freq( energy_correction=True,\n",
    "                            recovery_probability_correction=True,\n",
    "                             multiple_stars=True)\n",
    "eds = []\n",
    "for n, ED in zip(np.rint((1/counts)*56), df.ed_rec.sort_values(ascending=True)):\n",
    "    eds.append(int(n)*[ED])\n",
    "eds =[i  for a in eds for i in a]"
   ]
  },
  {
   "cell_type": "code",
   "execution_count": null,
   "metadata": {},
   "outputs": [],
   "source": [
    "len(eds)"
   ]
  },
  {
   "cell_type": "code",
   "execution_count": null,
   "metadata": {},
   "outputs": [],
   "source": [
    "a, sig_a = ffd.fit_powerlaw(eds)\n",
    "a, sig_a"
   ]
  },
  {
   "cell_type": "code",
   "execution_count": null,
   "metadata": {},
   "outputs": [],
   "source": [
    "ffd.alpha = a\n",
    "ffd.alpha_err = sig_a"
   ]
  },
  {
   "cell_type": "code",
   "execution_count": null,
   "metadata": {},
   "outputs": [],
   "source": [
    "ispowerlaw = ffd.is_powerlaw(np.array(eds))\n",
    "ispowerlaw"
   ]
  },
  {
   "cell_type": "code",
   "execution_count": null,
   "metadata": {},
   "outputs": [],
   "source": [
    "truncated = ffd.is_powerlaw_truncated(eds)\n",
    "\n",
    "print(a, sig_a, ispowerlaw, truncated)"
   ]
  },
  {
   "cell_type": "code",
   "execution_count": null,
   "metadata": {},
   "outputs": [],
   "source": [
    "_get_multistar_factors(df, \"TIC\", \"ed_corr\")\n"
   ]
  },
  {
   "cell_type": "code",
   "execution_count": null,
   "metadata": {
    "scrolled": false
   },
   "outputs": [],
   "source": [
    "# ED correction, single star mode\n",
    "ed, freq = ffd.ed_and_freq( energy_correction=True,\n",
    "                            recovery_probability_correction=False,\n",
    "                             multiple_stars=False)\n",
    "ax.scatter(ed, freq, c=\"c\", label=\"ED correction\",alpha=.5)\n",
    "_beta, beta, beta_err = ffd.fit_beta_to_powerlaw(ed,freq, mode=\"ED\")\n",
    "ffd.plot_powerlaw(ax, ed, c=\"k\",alpha=.5, )\n",
    "\n",
    "\n",
    "# ED and recprob correction, single star mode\n",
    "ed, freq = ffd.ed_and_freq( energy_correction=True,\n",
    "                            recovery_probability_correction=True,\n",
    "                             multiple_stars=False)\n",
    "ax.scatter(ed, freq, c=\"c\",alpha=1, label=\"ED and recprob correction\")\n",
    "_beta, beta, beta_err = ffd.fit_beta_to_powerlaw(ed,freq, mode=\"ED\")\n",
    "ffd.plot_powerlaw(ax, ed, c=\"k\",alpha=1, )\n",
    "\n",
    "\n",
    "\n",
    "\n",
    "# No correction, multiple star mode\n",
    "ed, freq = ffd.ed_and_freq( energy_correction=False,\n",
    "                            recovery_probability_correction=False,\n",
    "                             multiple_stars=True)\n",
    "ax.scatter(ed, freq, c=\"r\", label=\"no correction\",alpha=.2)\n",
    "_beta, beta, beta_err = ffd.fit_beta_to_powerlaw(ed,freq, mode=\"ED\")\n",
    "ffd.plot_powerlaw(ax, ed, c=\"k\", alpha=.2, )\n",
    "\n",
    "# ED correction, multiple star mode\n",
    "ed, freq = ffd.ed_and_freq( energy_correction=True,\n",
    "                            recovery_probability_correction=False,\n",
    "                             multiple_stars=True)\n",
    "ax.scatter(ed, freq, c=\"r\", label=\"ED correction\",alpha=.5)\n",
    "_beta, beta, beta_err = ffd.fit_beta_to_powerlaw(ed,freq, mode=\"ED\")\n",
    "ffd.plot_powerlaw(ax, ed, c=\"k\",alpha=.5, )\n",
    "\n",
    "\n",
    "# ED and recprob correction, multiple star mode\n",
    "ed, freq = ffd.ed_and_freq( energy_correction=True,\n",
    "                            recovery_probability_correction=True,\n",
    "                             multiple_stars=True)\n",
    "ax.scatter(ed, freq, c=\"r\",alpha=1, label=\"ED and recprob correction\")\n",
    "_beta, beta, beta_err = ffd.fit_beta_to_powerlaw(ed,freq, mode=\"ED\")\n",
    "ffd.plot_powerlaw(ax, ed, c=\"k\",alpha=1, )\n",
    "\n",
    "\n",
    "plt.xscale('log')\n",
    "plt.yscale('log')\n",
    "plt.xlabel(\"ED [s]\")#\"flare energy in TESS band [erg]\")\n",
    "plt.ylabel(\"cumulative number of flares per year\")\n",
    "# #plt.title(spt)\n",
    "plt.legend(fontsize=14)\n",
    "# #     plt.figure(figsize=(6.5,5.5))\n",
    "# #     plt.hist(df.TESSmag)\n",
    "# #     plt.title(spt)\n",
    "\n",
    "# plt.ylim(.1,1e3)\n",
    "# plt.xlim(1,10000)\n",
    "# # for x,z in zip(a,f):\n",
    "# #     print(x,z)\n",
    "# # print(df.shape)\n",
    "# plt.savefig(f\"../plots/{tstamp}_FFD_two_step_correction.png\".format(tstamp), dpi=300)"
   ]
  },
  {
   "cell_type": "code",
   "execution_count": null,
   "metadata": {},
   "outputs": [],
   "source": [
    "ed, freq = ffd.ed_and_freq( energy_correction=True,\n",
    "                            recovery_probability_correction=True,\n",
    "                             multiple_stars=True)\n",
    "ffd.is_powerlaw(ed),  ffd.is_powerlaw_truncated(ed)"
   ]
  },
  {
   "cell_type": "code",
   "execution_count": null,
   "metadata": {},
   "outputs": [],
   "source": [
    "#df = df[df.recovery_probability > .2]\n",
    "\n",
    "\n",
    "df = df.sort_values(by=\"ed_rec\", ascending=False)\n",
    "#df['probnocorrcum'] = np.cumsum(1/np.array(freq[::-1])*freq[-1])\n",
    "df['probnocorrcum'] = np.cumsum(np.ones_like(freq))\n",
    "df['sortededrec'] =df.ed_rec.sort_values(ascending=False)\n",
    "df = df.sort_values(by=\"ed_corr\", ascending=False)\n",
    "df = df[(~df.ed_corr.isnull()) & (np.isfinite(df.ed_corr)) & (df.recovery_probability >0.0) ]\n",
    "df[\"ed_corrprob\"] = 1/df.recovery_probability.values\n",
    "df[\"ed_corrprob_err\"] = df.recovery_probability_std / df.recovery_probability**2\n",
    "df[\"ed_corrprobcum\"] = np.cumsum(df.ed_corrprob.values)\n",
    "\n",
    "\n",
    "plt.figure(figsize=(6.5,5.5))\n",
    "for l, row in df.iterrows():\n",
    "    plt.plot([row.sortededrec, row.ed_corr], [row.probnocorrcum, row.ed_corrprobcum],c=\"grey\",alpha=.5)\n",
    "plt.scatter(df[\"sortededrec\"], df[\"probnocorrcum\"], label=\"no correction\", c=\"k\")#, condition {}\".format(label))\n",
    "plt.scatter(df.ed_corr, df[\"ed_corrprobcum\"], label=\"energy ratio and recovery probability correction\", c=\"r\")#, condition {}\".format(label))\n",
    "plt.plot([10, 4000],[4000, 10], label=\"slope=-1\", linestyle=\"dashed\", c=\"grey\", linewidth=3)\n",
    "plt.xscale('log')\n",
    "plt.yscale('log')\n",
    "#plt.ylim(.8,250)\n",
    "#plt.xlim(5,4000)\n",
    "plt.xlabel(\"ED [s]\")#\"flare energy in TESS band [erg]\")\n",
    "plt.ylabel(\"cumulative number of flares\")\n",
    "plt.legend()\n",
    "#plt.savefig(\"plots/{}_FFD_flare_correspondence_correction.png\".format(today), dpi=300)"
   ]
  },
  {
   "cell_type": "code",
   "execution_count": null,
   "metadata": {},
   "outputs": [],
   "source": [
    "f\n"
   ]
  },
  {
   "cell_type": "code",
   "execution_count": null,
   "metadata": {},
   "outputs": [],
   "source": []
  }
 ],
 "metadata": {
  "kernelspec": {
   "display_name": "flaresinclustersii",
   "language": "python",
   "name": "flaresinclustersii"
  },
  "language_info": {
   "codemirror_mode": {
    "name": "ipython",
    "version": 3
   },
   "file_extension": ".py",
   "mimetype": "text/x-python",
   "name": "python",
   "nbconvert_exporter": "python",
   "pygments_lexer": "ipython3",
   "version": "3.6.9"
  }
 },
 "nbformat": 4,
 "nbformat_minor": 2
}
