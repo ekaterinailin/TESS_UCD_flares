{
 "cells": [
  {
   "cell_type": "code",
   "execution_count": 25,
   "metadata": {},
   "outputs": [],
   "source": [
    "import numpy as np\n",
    "import pandas as pd\n",
    "\n",
    "import matplotlib.pyplot as plt\n",
    "%matplotlib inline\n"
   ]
  },
  {
   "cell_type": "code",
   "execution_count": 199,
   "metadata": {
    "scrolled": true
   },
   "outputs": [
    {
     "data": {
      "text/html": [
       "<div>\n",
       "<style scoped>\n",
       "    .dataframe tbody tr th:only-of-type {\n",
       "        vertical-align: middle;\n",
       "    }\n",
       "\n",
       "    .dataframe tbody tr th {\n",
       "        vertical-align: top;\n",
       "    }\n",
       "\n",
       "    .dataframe thead th {\n",
       "        text-align: right;\n",
       "    }\n",
       "</style>\n",
       "<table border=\"1\" class=\"dataframe\">\n",
       "  <thead>\n",
       "    <tr style=\"text-align: right;\">\n",
       "      <th></th>\n",
       "      <th>ampl_rec</th>\n",
       "      <th>cstart</th>\n",
       "      <th>cstop</th>\n",
       "      <th>ed_rec</th>\n",
       "      <th>ed_rec_err</th>\n",
       "      <th>istart</th>\n",
       "      <th>istop</th>\n",
       "      <th>total_n_valid_data_points</th>\n",
       "      <th>tstart</th>\n",
       "      <th>tstop</th>\n",
       "      <th>...</th>\n",
       "      <th>amplitude_ratio_std</th>\n",
       "      <th>duration_ratio_std</th>\n",
       "      <th>recovery_probability_std</th>\n",
       "      <th>ed_corr_err</th>\n",
       "      <th>amplitude_corr_err</th>\n",
       "      <th>duration_corr_err</th>\n",
       "      <th>TIC</th>\n",
       "      <th>sector</th>\n",
       "      <th>spt</th>\n",
       "      <th>TESSmag</th>\n",
       "    </tr>\n",
       "  </thead>\n",
       "  <tbody>\n",
       "    <tr>\n",
       "      <th>0</th>\n",
       "      <td>0.311585</td>\n",
       "      <td>132727</td>\n",
       "      <td>132730</td>\n",
       "      <td>74.697007</td>\n",
       "      <td>3.282262</td>\n",
       "      <td>482</td>\n",
       "      <td>485</td>\n",
       "      <td>14058.0</td>\n",
       "      <td>1411.802828</td>\n",
       "      <td>1411.806994</td>\n",
       "      <td>...</td>\n",
       "      <td>NaN</td>\n",
       "      <td>NaN</td>\n",
       "      <td>NaN</td>\n",
       "      <td>NaN</td>\n",
       "      <td>NaN</td>\n",
       "      <td>NaN</td>\n",
       "      <td>279482950</td>\n",
       "      <td>4</td>\n",
       "      <td>M6</td>\n",
       "      <td>13.6675</td>\n",
       "    </tr>\n",
       "    <tr>\n",
       "      <th>1</th>\n",
       "      <td>0.950485</td>\n",
       "      <td>134409</td>\n",
       "      <td>134415</td>\n",
       "      <td>268.521311</td>\n",
       "      <td>3.197337</td>\n",
       "      <td>2128</td>\n",
       "      <td>2134</td>\n",
       "      <td>14058.0</td>\n",
       "      <td>1414.139021</td>\n",
       "      <td>1414.147355</td>\n",
       "      <td>...</td>\n",
       "      <td>NaN</td>\n",
       "      <td>NaN</td>\n",
       "      <td>NaN</td>\n",
       "      <td>NaN</td>\n",
       "      <td>NaN</td>\n",
       "      <td>NaN</td>\n",
       "      <td>279482950</td>\n",
       "      <td>4</td>\n",
       "      <td>M6</td>\n",
       "      <td>13.6675</td>\n",
       "    </tr>\n",
       "    <tr>\n",
       "      <th>2</th>\n",
       "      <td>1.555234</td>\n",
       "      <td>136554</td>\n",
       "      <td>136570</td>\n",
       "      <td>410.707539</td>\n",
       "      <td>3.836969</td>\n",
       "      <td>4246</td>\n",
       "      <td>4259</td>\n",
       "      <td>14058.0</td>\n",
       "      <td>1417.118276</td>\n",
       "      <td>1417.140499</td>\n",
       "      <td>...</td>\n",
       "      <td>NaN</td>\n",
       "      <td>NaN</td>\n",
       "      <td>NaN</td>\n",
       "      <td>NaN</td>\n",
       "      <td>NaN</td>\n",
       "      <td>NaN</td>\n",
       "      <td>279482950</td>\n",
       "      <td>4</td>\n",
       "      <td>M6</td>\n",
       "      <td>13.6675</td>\n",
       "    </tr>\n",
       "    <tr>\n",
       "      <th>3</th>\n",
       "      <td>0.431895</td>\n",
       "      <td>159134</td>\n",
       "      <td>159143</td>\n",
       "      <td>162.191646</td>\n",
       "      <td>2.411508</td>\n",
       "      <td>7057</td>\n",
       "      <td>7066</td>\n",
       "      <td>16349.0</td>\n",
       "      <td>1448.479556</td>\n",
       "      <td>1448.492056</td>\n",
       "      <td>...</td>\n",
       "      <td>0.127923</td>\n",
       "      <td>0.861177</td>\n",
       "      <td>0.390154</td>\n",
       "      <td>11.835807</td>\n",
       "      <td>0.079072</td>\n",
       "      <td>0.001837</td>\n",
       "      <td>279482950</td>\n",
       "      <td>5</td>\n",
       "      <td>M6</td>\n",
       "      <td>13.6675</td>\n",
       "    </tr>\n",
       "    <tr>\n",
       "      <th>4</th>\n",
       "      <td>0.357681</td>\n",
       "      <td>162470</td>\n",
       "      <td>162478</td>\n",
       "      <td>142.902470</td>\n",
       "      <td>2.105416</td>\n",
       "      <td>8989</td>\n",
       "      <td>8997</td>\n",
       "      <td>16349.0</td>\n",
       "      <td>1453.112801</td>\n",
       "      <td>1453.123912</td>\n",
       "      <td>...</td>\n",
       "      <td>0.147267</td>\n",
       "      <td>0.573457</td>\n",
       "      <td>0.331201</td>\n",
       "      <td>12.701748</td>\n",
       "      <td>0.077981</td>\n",
       "      <td>0.001645</td>\n",
       "      <td>279482950</td>\n",
       "      <td>5</td>\n",
       "      <td>M6</td>\n",
       "      <td>13.6675</td>\n",
       "    </tr>\n",
       "  </tbody>\n",
       "</table>\n",
       "<p>5 rows × 33 columns</p>\n",
       "</div>"
      ],
      "text/plain": [
       "   ampl_rec  cstart   cstop      ed_rec  ed_rec_err  istart  istop  \\\n",
       "0  0.311585  132727  132730   74.697007    3.282262     482    485   \n",
       "1  0.950485  134409  134415  268.521311    3.197337    2128   2134   \n",
       "2  1.555234  136554  136570  410.707539    3.836969    4246   4259   \n",
       "3  0.431895  159134  159143  162.191646    2.411508    7057   7066   \n",
       "4  0.357681  162470  162478  142.902470    2.105416    8989   8997   \n",
       "\n",
       "   total_n_valid_data_points       tstart        tstop  ...  \\\n",
       "0                    14058.0  1411.802828  1411.806994  ...   \n",
       "1                    14058.0  1414.139021  1414.147355  ...   \n",
       "2                    14058.0  1417.118276  1417.140499  ...   \n",
       "3                    16349.0  1448.479556  1448.492056  ...   \n",
       "4                    16349.0  1453.112801  1453.123912  ...   \n",
       "\n",
       "   amplitude_ratio_std  duration_ratio_std  recovery_probability_std  \\\n",
       "0                  NaN                 NaN                       NaN   \n",
       "1                  NaN                 NaN                       NaN   \n",
       "2                  NaN                 NaN                       NaN   \n",
       "3             0.127923            0.861177                  0.390154   \n",
       "4             0.147267            0.573457                  0.331201   \n",
       "\n",
       "   ed_corr_err  amplitude_corr_err  duration_corr_err        TIC  sector  spt  \\\n",
       "0          NaN                 NaN                NaN  279482950       4   M6   \n",
       "1          NaN                 NaN                NaN  279482950       4   M6   \n",
       "2          NaN                 NaN                NaN  279482950       4   M6   \n",
       "3    11.835807            0.079072           0.001837  279482950       5   M6   \n",
       "4    12.701748            0.077981           0.001645  279482950       5   M6   \n",
       "\n",
       "   TESSmag  \n",
       "0  13.6675  \n",
       "1  13.6675  \n",
       "2  13.6675  \n",
       "3  13.6675  \n",
       "4  13.6675  \n",
       "\n",
       "[5 rows x 33 columns]"
      ]
     },
     "execution_count": 199,
     "metadata": {},
     "output_type": "execute_result"
    }
   ],
   "source": [
    "df = pd.read_csv(\"../flare_tables/20200220_vetted_flares.csv\",\n",
    "                names=['ampl_rec','cstart','cstop','ed_rec','ed_rec_err',\n",
    "                    'istart', 'istop','total_n_valid_data_points', \n",
    "                    'tstart', 'tstop',  'dur', 'ed_ratio','ed_ratio_count',\n",
    "            'amplitude_ratio','amplitude_ratio_count','duration_ratio','duration_ratio_count',\n",
    "            'amplitude_corr','duration_corr','ed_corr','recovery_probability','recovery_probability_count',\n",
    "            'ed_ratio_std','amplitude_ratio_std','duration_ratio_std','recovery_probability_std',\n",
    "            'ed_corr_err','amplitude_corr_err','duration_corr_err',\"TIC\",\"sector\"])\n",
    "              \n",
    "spts = pd.read_csv(\"../flare_tables/spts.csv\")\n",
    "\n",
    "spts.head()\n",
    "df = df.merge(spts[[\"TIC\",\"spt\",\"TESSmag\"]],on=\"TIC\")\n",
    "df.head()"
   ]
  },
  {
   "cell_type": "code",
   "execution_count": 200,
   "metadata": {},
   "outputs": [
    {
     "data": {
      "text/plain": [
       "(408, 33)"
      ]
     },
     "execution_count": 200,
     "metadata": {},
     "output_type": "execute_result"
    }
   ],
   "source": [
    "df.shape"
   ]
  },
  {
   "cell_type": "code",
   "execution_count": 201,
   "metadata": {},
   "outputs": [],
   "source": [
    "df = df[df.istart-df.istop < -5]"
   ]
  },
  {
   "cell_type": "code",
   "execution_count": 202,
   "metadata": {},
   "outputs": [
    {
     "data": {
      "image/png": "[encoded data removed]",
      "text/plain": [
       "<Figure size 432x288 with 1 Axes>"
      ]
     },
     "metadata": {
      "needs_background": "light"
     },
     "output_type": "display_data"
    }
   ],
   "source": [
    "plt.hist(df.recovery_probability_count, bins=np.linspace(0,100,10), histtype=\"step\");"
   ]
  },
  {
   "cell_type": "code",
   "execution_count": 203,
   "metadata": {},
   "outputs": [
    {
     "data": {
      "image/png": "[encoded data removed]",
      "text/plain": [
       "<Figure size 432x288 with 1 Axes>"
      ]
     },
     "metadata": {
      "needs_background": "light"
     },
     "output_type": "display_data"
    }
   ],
   "source": [
    "plt.hist(df.ed_ratio_count, bins=np.linspace(0,100,10), histtype=\"step\");"
   ]
  },
  {
   "cell_type": "code",
   "execution_count": 204,
   "metadata": {},
   "outputs": [
    {
     "data": {
      "text/plain": [
       "[<matplotlib.lines.Line2D at 0x7f64943ba860>]"
      ]
     },
     "execution_count": 204,
     "metadata": {},
     "output_type": "execute_result"
    },
    {
     "data": {
      "image/png": "[encoded data removed]",
      "text/plain": [
       "<Figure size 432x288 with 1 Axes>"
      ]
     },
     "metadata": {
      "needs_background": "light"
     },
     "output_type": "display_data"
    }
   ],
   "source": [
    "plt.scatter(df.ampl_rec, df.amplitude_corr)\n",
    "plt.plot([0,12],[0,12])"
   ]
  },
  {
   "cell_type": "code",
   "execution_count": 205,
   "metadata": {},
   "outputs": [
    {
     "data": {
      "image/png": "[encoded data removed]",
      "text/plain": [
       "<Figure size 432x288 with 1 Axes>"
      ]
     },
     "metadata": {
      "needs_background": "light"
     },
     "output_type": "display_data"
    }
   ],
   "source": [
    "plt.hist(df.amplitude_ratio_count, bins=np.linspace(0,100,10), histtype=\"step\");"
   ]
  },
  {
   "cell_type": "code",
   "execution_count": 206,
   "metadata": {},
   "outputs": [
    {
     "data": {
      "image/png": "[encoded data removed]",
      "text/plain": [
       "<Figure size 432x288 with 1 Axes>"
      ]
     },
     "metadata": {
      "needs_background": "light"
     },
     "output_type": "display_data"
    }
   ],
   "source": [
    "plt.hist(df.duration_ratio_count, bins=np.linspace(0,100,10), histtype=\"step\");"
   ]
  },
  {
   "cell_type": "code",
   "execution_count": 207,
   "metadata": {},
   "outputs": [
    {
     "data": {
      "image/png": "[encoded data removed]",
      "text/plain": [
       "<Figure size 432x288 with 1 Axes>"
      ]
     },
     "metadata": {
      "needs_background": "light"
     },
     "output_type": "display_data"
    }
   ],
   "source": [
    "plt.scatter(df.ed_rec, df.ed_corr)\n",
    "plt.plot([1,3e3],[1,3e3])\n",
    "plt.yscale(\"log\")\n",
    "plt.xscale(\"log\")"
   ]
  },
  {
   "cell_type": "code",
   "execution_count": 208,
   "metadata": {
    "scrolled": true
   },
   "outputs": [
    {
     "data": {
      "image/png": "[encoded data removed]",
      "text/plain": [
       "<Figure size 432x288 with 1 Axes>"
      ]
     },
     "metadata": {
      "needs_background": "light"
     },
     "output_type": "display_data"
    }
   ],
   "source": [
    "plt.hist(df.recovery_probability, bins=np.linspace(0,1,6), histtype=\"step\");"
   ]
  },
  {
   "cell_type": "code",
   "execution_count": 209,
   "metadata": {},
   "outputs": [
    {
     "data": {
      "text/plain": [
       "(array([22.,  0., 20.,  0.,  0.,  0.,  0., 15., 31.,  4.,  6.,  0., 28.,\n",
       "        26., 22., 18.,  9.,  0.,  1.,  2.]),\n",
       " array([ 7.613  ,  8.02475,  8.4365 ,  8.84825,  9.26   ,  9.67175,\n",
       "        10.0835 , 10.49525, 10.907  , 11.31875, 11.7305 , 12.14225,\n",
       "        12.554  , 12.96575, 13.3775 , 13.78925, 14.201  , 14.61275,\n",
       "        15.0245 , 15.43625, 15.848  ]),\n",
       " <a list of 20 Patch objects>)"
      ]
     },
     "execution_count": 209,
     "metadata": {},
     "output_type": "execute_result"
    },
    {
     "data": {
      "image/png": "[encoded data removed]",
      "text/plain": [
       "<Figure size 468x396 with 1 Axes>"
      ]
     },
     "metadata": {
      "needs_background": "light"
     },
     "output_type": "display_data"
    }
   ],
   "source": [
    "#correct for magnitudes\n",
    "plt.figure(figsize=(6.5,5.5))\n",
    "plt.hist(df.TESSmag, bins=20)\n"
   ]
  },
  {
   "cell_type": "code",
   "execution_count": 210,
   "metadata": {},
   "outputs": [],
   "source": [
    "df = df[~np.isnan(df.recovery_probability)]\n",
    "df = df.sort_values(by=\"ed_corr\", ascending=False)\n",
    "df = df[~df.ed_corr.isnull() & np.isfinite(df.ed_corr)]\n",
    "df[\"encorrprob\"] = 1./df.recovery_probability.values"
   ]
  },
  {
   "cell_type": "code",
   "execution_count": 196,
   "metadata": {},
   "outputs": [
    {
     "data": {
      "text/plain": [
       "<matplotlib.axes._subplots.AxesSubplot at 0x7f6494498be0>"
      ]
     },
     "execution_count": 196,
     "metadata": {},
     "output_type": "execute_result"
    },
    {
     "data": {
      "image/png": "[encoded data removed]",
      "text/plain": [
       "<Figure size 432x288 with 1 Axes>"
      ]
     },
     "metadata": {
      "needs_background": "light"
     },
     "output_type": "display_data"
    }
   ],
   "source": [
    "df[df.TESSmag>10].TESSmag.hist()"
   ]
  },
  {
   "cell_type": "code",
   "execution_count": 197,
   "metadata": {},
   "outputs": [],
   "source": [
    "#df = df[df.TESSmag>10]"
   ]
  },
  {
   "cell_type": "code",
   "execution_count": 211,
   "metadata": {
    "scrolled": false
   },
   "outputs": [
    {
     "data": {
      "text/html": [
       "<div>\n",
       "<style scoped>\n",
       "    .dataframe tbody tr th:only-of-type {\n",
       "        vertical-align: middle;\n",
       "    }\n",
       "\n",
       "    .dataframe tbody tr th {\n",
       "        vertical-align: top;\n",
       "    }\n",
       "\n",
       "    .dataframe thead th {\n",
       "        text-align: right;\n",
       "    }\n",
       "</style>\n",
       "<table border=\"1\" class=\"dataframe\">\n",
       "  <thead>\n",
       "    <tr style=\"text-align: right;\">\n",
       "      <th></th>\n",
       "      <th>ed_rec</th>\n",
       "      <th>ed_corr</th>\n",
       "      <th>TIC</th>\n",
       "      <th>sector</th>\n",
       "      <th>TESSmag</th>\n",
       "    </tr>\n",
       "  </thead>\n",
       "  <tbody>\n",
       "    <tr>\n",
       "      <th>329</th>\n",
       "      <td>14.458862</td>\n",
       "      <td>17.559032</td>\n",
       "      <td>29928567</td>\n",
       "      <td>3</td>\n",
       "      <td>8.5390</td>\n",
       "    </tr>\n",
       "    <tr>\n",
       "      <th>302</th>\n",
       "      <td>7.728052</td>\n",
       "      <td>17.358056</td>\n",
       "      <td>272349442</td>\n",
       "      <td>10</td>\n",
       "      <td>10.8100</td>\n",
       "    </tr>\n",
       "    <tr>\n",
       "      <th>338</th>\n",
       "      <td>11.380163</td>\n",
       "      <td>17.134431</td>\n",
       "      <td>29928567</td>\n",
       "      <td>3</td>\n",
       "      <td>8.5390</td>\n",
       "    </tr>\n",
       "    <tr>\n",
       "      <th>353</th>\n",
       "      <td>13.497960</td>\n",
       "      <td>15.112616</td>\n",
       "      <td>29928567</td>\n",
       "      <td>3</td>\n",
       "      <td>8.5390</td>\n",
       "    </tr>\n",
       "    <tr>\n",
       "      <th>218</th>\n",
       "      <td>9.216663</td>\n",
       "      <td>12.752154</td>\n",
       "      <td>388857263</td>\n",
       "      <td>12</td>\n",
       "      <td>7.6130</td>\n",
       "    </tr>\n",
       "    <tr>\n",
       "      <th>238</th>\n",
       "      <td>6.413591</td>\n",
       "      <td>12.355184</td>\n",
       "      <td>388857263</td>\n",
       "      <td>12</td>\n",
       "      <td>7.6130</td>\n",
       "    </tr>\n",
       "    <tr>\n",
       "      <th>332</th>\n",
       "      <td>9.686625</td>\n",
       "      <td>11.840203</td>\n",
       "      <td>29928567</td>\n",
       "      <td>3</td>\n",
       "      <td>8.5390</td>\n",
       "    </tr>\n",
       "    <tr>\n",
       "      <th>233</th>\n",
       "      <td>5.897948</td>\n",
       "      <td>11.361847</td>\n",
       "      <td>388857263</td>\n",
       "      <td>12</td>\n",
       "      <td>7.6130</td>\n",
       "    </tr>\n",
       "    <tr>\n",
       "      <th>352</th>\n",
       "      <td>6.321271</td>\n",
       "      <td>11.166802</td>\n",
       "      <td>29928567</td>\n",
       "      <td>3</td>\n",
       "      <td>8.5390</td>\n",
       "    </tr>\n",
       "    <tr>\n",
       "      <th>321</th>\n",
       "      <td>7.074359</td>\n",
       "      <td>10.651439</td>\n",
       "      <td>29928567</td>\n",
       "      <td>3</td>\n",
       "      <td>8.5390</td>\n",
       "    </tr>\n",
       "    <tr>\n",
       "      <th>333</th>\n",
       "      <td>8.664285</td>\n",
       "      <td>10.490786</td>\n",
       "      <td>29928567</td>\n",
       "      <td>3</td>\n",
       "      <td>8.5390</td>\n",
       "    </tr>\n",
       "    <tr>\n",
       "      <th>230</th>\n",
       "      <td>5.413228</td>\n",
       "      <td>10.428079</td>\n",
       "      <td>388857263</td>\n",
       "      <td>12</td>\n",
       "      <td>7.6130</td>\n",
       "    </tr>\n",
       "    <tr>\n",
       "      <th>320</th>\n",
       "      <td>5.528677</td>\n",
       "      <td>9.766651</td>\n",
       "      <td>29928567</td>\n",
       "      <td>3</td>\n",
       "      <td>8.5390</td>\n",
       "    </tr>\n",
       "    <tr>\n",
       "      <th>351</th>\n",
       "      <td>5.498832</td>\n",
       "      <td>9.713928</td>\n",
       "      <td>29928567</td>\n",
       "      <td>3</td>\n",
       "      <td>8.5390</td>\n",
       "    </tr>\n",
       "    <tr>\n",
       "      <th>231</th>\n",
       "      <td>4.565193</td>\n",
       "      <td>8.794418</td>\n",
       "      <td>388857263</td>\n",
       "      <td>12</td>\n",
       "      <td>7.6130</td>\n",
       "    </tr>\n",
       "    <tr>\n",
       "      <th>326</th>\n",
       "      <td>5.521250</td>\n",
       "      <td>8.313016</td>\n",
       "      <td>29928567</td>\n",
       "      <td>3</td>\n",
       "      <td>8.5390</td>\n",
       "    </tr>\n",
       "    <tr>\n",
       "      <th>241</th>\n",
       "      <td>4.081428</td>\n",
       "      <td>7.862489</td>\n",
       "      <td>388857263</td>\n",
       "      <td>12</td>\n",
       "      <td>7.6130</td>\n",
       "    </tr>\n",
       "    <tr>\n",
       "      <th>212</th>\n",
       "      <td>3.594063</td>\n",
       "      <td>7.702373</td>\n",
       "      <td>388857263</td>\n",
       "      <td>11</td>\n",
       "      <td>7.6130</td>\n",
       "    </tr>\n",
       "    <tr>\n",
       "      <th>331</th>\n",
       "      <td>6.145225</td>\n",
       "      <td>7.511462</td>\n",
       "      <td>29928567</td>\n",
       "      <td>3</td>\n",
       "      <td>8.5390</td>\n",
       "    </tr>\n",
       "    <tr>\n",
       "      <th>327</th>\n",
       "      <td>4.796282</td>\n",
       "      <td>7.221475</td>\n",
       "      <td>29928567</td>\n",
       "      <td>3</td>\n",
       "      <td>8.5390</td>\n",
       "    </tr>\n",
       "    <tr>\n",
       "      <th>335</th>\n",
       "      <td>4.286450</td>\n",
       "      <td>6.453851</td>\n",
       "      <td>29928567</td>\n",
       "      <td>3</td>\n",
       "      <td>8.5390</td>\n",
       "    </tr>\n",
       "    <tr>\n",
       "      <th>339</th>\n",
       "      <td>3.119461</td>\n",
       "      <td>5.510664</td>\n",
       "      <td>29928567</td>\n",
       "      <td>3</td>\n",
       "      <td>8.5390</td>\n",
       "    </tr>\n",
       "    <tr>\n",
       "      <th>348</th>\n",
       "      <td>1.943801</td>\n",
       "      <td>3.433809</td>\n",
       "      <td>29928567</td>\n",
       "      <td>3</td>\n",
       "      <td>8.5390</td>\n",
       "    </tr>\n",
       "    <tr>\n",
       "      <th>318</th>\n",
       "      <td>0.191596</td>\n",
       "      <td>0.411656</td>\n",
       "      <td>388903843</td>\n",
       "      <td>6</td>\n",
       "      <td>14.1495</td>\n",
       "    </tr>\n",
       "    <tr>\n",
       "      <th>319</th>\n",
       "      <td>0.154060</td>\n",
       "      <td>0.331008</td>\n",
       "      <td>388903843</td>\n",
       "      <td>6</td>\n",
       "      <td>14.1495</td>\n",
       "    </tr>\n",
       "  </tbody>\n",
       "</table>\n",
       "</div>"
      ],
      "text/plain": [
       "        ed_rec    ed_corr        TIC  sector  TESSmag\n",
       "329  14.458862  17.559032   29928567       3   8.5390\n",
       "302   7.728052  17.358056  272349442      10  10.8100\n",
       "338  11.380163  17.134431   29928567       3   8.5390\n",
       "353  13.497960  15.112616   29928567       3   8.5390\n",
       "218   9.216663  12.752154  388857263      12   7.6130\n",
       "238   6.413591  12.355184  388857263      12   7.6130\n",
       "332   9.686625  11.840203   29928567       3   8.5390\n",
       "233   5.897948  11.361847  388857263      12   7.6130\n",
       "352   6.321271  11.166802   29928567       3   8.5390\n",
       "321   7.074359  10.651439   29928567       3   8.5390\n",
       "333   8.664285  10.490786   29928567       3   8.5390\n",
       "230   5.413228  10.428079  388857263      12   7.6130\n",
       "320   5.528677   9.766651   29928567       3   8.5390\n",
       "351   5.498832   9.713928   29928567       3   8.5390\n",
       "231   4.565193   8.794418  388857263      12   7.6130\n",
       "326   5.521250   8.313016   29928567       3   8.5390\n",
       "241   4.081428   7.862489  388857263      12   7.6130\n",
       "212   3.594063   7.702373  388857263      11   7.6130\n",
       "331   6.145225   7.511462   29928567       3   8.5390\n",
       "327   4.796282   7.221475   29928567       3   8.5390\n",
       "335   4.286450   6.453851   29928567       3   8.5390\n",
       "339   3.119461   5.510664   29928567       3   8.5390\n",
       "348   1.943801   3.433809   29928567       3   8.5390\n",
       "318   0.191596   0.411656  388903843       6  14.1495\n",
       "319   0.154060   0.331008  388903843       6  14.1495"
      ]
     },
     "execution_count": 211,
     "metadata": {},
     "output_type": "execute_result"
    }
   ],
   "source": [
    "df[['ed_rec', 'ed_corr','TIC',\"sector\", \"TESSmag\"]].tail(25)"
   ]
  },
  {
   "cell_type": "code",
   "execution_count": 185,
   "metadata": {
    "scrolled": false
   },
   "outputs": [
    {
     "data": {
      "text/plain": [
       "<matplotlib.legend.Legend at 0x7f64946b5f60>"
      ]
     },
     "execution_count": 185,
     "metadata": {},
     "output_type": "execute_result"
    },
    {
     "data": {
      "image/png": "[encoded data removed]",
      "text/plain": [
       "<Figure size 468x396 with 1 Axes>"
      ]
     },
     "metadata": {
      "needs_background": "light"
     },
     "output_type": "display_data"
    }
   ],
   "source": [
    "df = df[~np.isnan(df.recovery_probability)]\n",
    "df = df.sort_values(by=\"ed_corr\", ascending=False)\n",
    "df = df[~df.ed_corr.isnull() & np.isfinite(df.ed_corr)]\n",
    "#df[\"encorrprob\"] = 1./df.recovery_probability.values/np.array(freq)\n",
    "df = df.sort_values(by=\"ed_corr\", ascending=True)\n",
    "freq = []\n",
    "for i in range(df.shape[0]):\n",
    "    f = df.iloc[:i+1]\n",
    "    freq.append(len(set(f.TIC.values)))\n",
    "\n",
    "df = df.sort_values(by=\"ed_corr\", ascending=False)\n",
    "\n",
    "#for spt, df in F.groupby(\"spt\"):\n",
    "    #print(la)\n",
    "    #df = df[(df.TESSmag > 11.14) & (df.TESSmag <11.3)]\n",
    "plt.figure(figsize=(6.5,5.5))\n",
    "plt.scatter(df.ed_rec.sort_values(ascending=False), np.cumsum(1/np.array(freq[::-1])*freq[-1]), c=\"k\", label=\"no correction\")\n",
    "plt.scatter(df.ed_corr.sort_values(ascending=False), np.cumsum(1/np.array(freq[::-1])*freq[-1]), c=\"g\", label=\"energy ratio correction only\")\n",
    "plt.scatter(df.ed_corr.sort_values(ascending=False), np.cumsum(1./df.recovery_probability.values/np.array(freq[::-1])*freq[-1]), c=\"r\", label=\"energy ratio and recovery probability correction\")\n",
    "plt.xscale('log')\n",
    "plt.yscale('log')\n",
    "plt.xlabel(\"ED [s]\")#\"flare energy in TESS band [erg]\")\n",
    "plt.ylabel(\"cumulative number of flares\")\n",
    "plt.title(spt)\n",
    "plt.legend()\n",
    "#     plt.figure(figsize=(6.5,5.5))\n",
    "#     plt.hist(df.TESSmag)\n",
    "#     plt.title(spt)\n",
    "# #plt.savefig(\"plots/{}_FFD_two_step_correction.png\".format(today), dpi=300)"
   ]
  },
  {
   "cell_type": "code",
   "execution_count": 180,
   "metadata": {},
   "outputs": [
    {
     "data": {
      "text/plain": [
       "<matplotlib.legend.Legend at 0x7f64957e8e80>"
      ]
     },
     "execution_count": 180,
     "metadata": {},
     "output_type": "execute_result"
    },
    {
     "data": {
      "image/png": "[encoded data removed]",
      "text/plain": [
       "<Figure size 468x396 with 1 Axes>"
      ]
     },
     "metadata": {
      "needs_background": "light"
     },
     "output_type": "display_data"
    }
   ],
   "source": [
    "#df = df[df.recovery_probability > .2]\n",
    "\n",
    "\n",
    "df = df.sort_values(by=\"ed_rec\", ascending=False)\n",
    "df['probnocorrcum'] = np.cumsum(1/np.array(freq[::-1])*freq[-1])\n",
    "df['sortededrec'] =df.ed_rec.sort_values(ascending=False)\n",
    "df = df.sort_values(by=\"ed_corr\", ascending=False)\n",
    "df = df[(~df.ed_corr.isnull()) & (np.isfinite(df.ed_corr)) & (df.recovery_probability >0.10) ]\n",
    "df[\"ed_corrprob\"] = 1/df.recovery_probability.values/np.array(freq[::-1])*freq[-1]\n",
    "df[\"ed_corrprob_err\"] = df.recovery_probability_std / df.recovery_probability**2\n",
    "df[\"ed_corrprobcum\"] = np.cumsum(df.ed_corrprob.values)\n",
    "\n",
    "\n",
    "plt.figure(figsize=(6.5,5.5))\n",
    "for l, row in df.iterrows():\n",
    "    plt.plot([row.sortededrec, row.ed_corr], [row.probnocorrcum, row.ed_corrprobcum],c=\"grey\",alpha=.5)\n",
    "plt.scatter(df[\"sortededrec\"], df[\"probnocorrcum\"], label=\"no correction\", c=\"k\")#, condition {}\".format(label))\n",
    "plt.scatter(df.ed_corr, df[\"ed_corrprobcum\"], label=\"energy ratio and recovery probability correction\", c=\"r\")#, condition {}\".format(label))\n",
    "plt.plot([10, 4000],[4000, 10], label=\"slope=-1\", linestyle=\"dashed\", c=\"grey\", linewidth=3)\n",
    "plt.xscale('log')\n",
    "plt.yscale('log')\n",
    "#plt.ylim(.8,250)\n",
    "#plt.xlim(5,4000)\n",
    "plt.xlabel(\"ED [s]\")#\"flare energy in TESS band [erg]\")\n",
    "plt.ylabel(\"cumulative number of flares\")\n",
    "plt.legend()\n",
    "#plt.savefig(\"plots/{}_FFD_flare_correspondence_correction.png\".format(today), dpi=300)"
   ]
  },
  {
   "cell_type": "code",
   "execution_count": 37,
   "metadata": {},
   "outputs": [
    {
     "data": {
      "text/plain": [
       "(65, 35)"
      ]
     },
     "execution_count": 37,
     "metadata": {},
     "output_type": "execute_result"
    }
   ],
   "source": [
    "df.shape"
   ]
  },
  {
   "cell_type": "code",
   "execution_count": null,
   "metadata": {},
   "outputs": [],
   "source": []
  }
 ],
 "metadata": {
  "kernelspec": {
   "display_name": "flaresinclustersii",
   "language": "python",
   "name": "flaresinclustersii"
  },
  "language_info": {
   "codemirror_mode": {
    "name": "ipython",
    "version": 3
   },
   "file_extension": ".py",
   "mimetype": "text/x-python",
   "name": "python",
   "nbconvert_exporter": "python",
   "pygments_lexer": "ipython3",
   "version": "3.6.9"
  }
 },
 "nbformat": 4,
 "nbformat_minor": 2
}
