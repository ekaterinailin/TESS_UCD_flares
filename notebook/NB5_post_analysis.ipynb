{
 "cells": [
  {
   "cell_type": "code",
   "execution_count": 1,
   "metadata": {},
   "outputs": [],
   "source": [
    "import numpy as np\n",
    "import pandas as pd\n",
    "\n",
    "import matplotlib.pyplot as plt\n",
    "%matplotlib inline\n",
    "\n",
    "from funcs.ffd import FFD, _get_multistar_factors\n",
    "\n",
    "import time\n",
    "tstamp = time.strftime(\"%d_%m_%Y_%H_%M\", time.localtime())"
   ]
  },
  {
   "cell_type": "code",
   "execution_count": 2,
   "metadata": {
    "scrolled": true
   },
   "outputs": [
    {
     "data": {
      "text/html": [
       "<div>\n",
       "<style scoped>\n",
       "    .dataframe tbody tr th:only-of-type {\n",
       "        vertical-align: middle;\n",
       "    }\n",
       "\n",
       "    .dataframe tbody tr th {\n",
       "        vertical-align: top;\n",
       "    }\n",
       "\n",
       "    .dataframe thead th {\n",
       "        text-align: right;\n",
       "    }\n",
       "</style>\n",
       "<table border=\"1\" class=\"dataframe\">\n",
       "  <thead>\n",
       "    <tr style=\"text-align: right;\">\n",
       "      <th></th>\n",
       "      <th>ampl_rec</th>\n",
       "      <th>cstart</th>\n",
       "      <th>cstop</th>\n",
       "      <th>ed_rec</th>\n",
       "      <th>ed_rec_err</th>\n",
       "      <th>istart</th>\n",
       "      <th>istop</th>\n",
       "      <th>total_n_valid_data_points</th>\n",
       "      <th>tstart</th>\n",
       "      <th>tstop</th>\n",
       "      <th>...</th>\n",
       "      <th>amplitude_ratio_std</th>\n",
       "      <th>duration_ratio_std</th>\n",
       "      <th>recovery_probability_std</th>\n",
       "      <th>ed_corr_err</th>\n",
       "      <th>amplitude_corr_err</th>\n",
       "      <th>duration_corr_err</th>\n",
       "      <th>TIC</th>\n",
       "      <th>sector</th>\n",
       "      <th>spt</th>\n",
       "      <th>TESSmag</th>\n",
       "    </tr>\n",
       "  </thead>\n",
       "  <tbody>\n",
       "    <tr>\n",
       "      <th>0</th>\n",
       "      <td>0.205888</td>\n",
       "      <td>134304</td>\n",
       "      <td>134309</td>\n",
       "      <td>67.120761</td>\n",
       "      <td>3.173210</td>\n",
       "      <td>2025</td>\n",
       "      <td>2030</td>\n",
       "      <td>14656</td>\n",
       "      <td>1413.993959</td>\n",
       "      <td>1414.000903</td>\n",
       "      <td>...</td>\n",
       "      <td>0.216691</td>\n",
       "      <td>0.861911</td>\n",
       "      <td>0.480091</td>\n",
       "      <td>19.234675</td>\n",
       "      <td>0.076164</td>\n",
       "      <td>0.004110</td>\n",
       "      <td>141306513</td>\n",
       "      <td>4</td>\n",
       "      <td>M7</td>\n",
       "      <td>14.114</td>\n",
       "    </tr>\n",
       "    <tr>\n",
       "      <th>1</th>\n",
       "      <td>0.046567</td>\n",
       "      <td>137530</td>\n",
       "      <td>137534</td>\n",
       "      <td>15.629983</td>\n",
       "      <td>1.373603</td>\n",
       "      <td>5211</td>\n",
       "      <td>5215</td>\n",
       "      <td>14656</td>\n",
       "      <td>1418.474567</td>\n",
       "      <td>1418.480123</td>\n",
       "      <td>...</td>\n",
       "      <td>0.106518</td>\n",
       "      <td>0.179538</td>\n",
       "      <td>0.233295</td>\n",
       "      <td>18.366493</td>\n",
       "      <td>0.006369</td>\n",
       "      <td>0.078722</td>\n",
       "      <td>141306513</td>\n",
       "      <td>4</td>\n",
       "      <td>M7</td>\n",
       "      <td>14.114</td>\n",
       "    </tr>\n",
       "    <tr>\n",
       "      <th>2</th>\n",
       "      <td>0.432789</td>\n",
       "      <td>142823</td>\n",
       "      <td>142831</td>\n",
       "      <td>158.509751</td>\n",
       "      <td>2.815147</td>\n",
       "      <td>7029</td>\n",
       "      <td>7037</td>\n",
       "      <td>14656</td>\n",
       "      <td>1425.825985</td>\n",
       "      <td>1425.837096</td>\n",
       "      <td>...</td>\n",
       "      <td>1.313973</td>\n",
       "      <td>0.560077</td>\n",
       "      <td>0.398147</td>\n",
       "      <td>73.540852</td>\n",
       "      <td>0.715953</td>\n",
       "      <td>0.001228</td>\n",
       "      <td>141306513</td>\n",
       "      <td>4</td>\n",
       "      <td>M7</td>\n",
       "      <td>14.114</td>\n",
       "    </tr>\n",
       "    <tr>\n",
       "      <th>3</th>\n",
       "      <td>0.184068</td>\n",
       "      <td>146868</td>\n",
       "      <td>146872</td>\n",
       "      <td>54.249658</td>\n",
       "      <td>2.487500</td>\n",
       "      <td>11047</td>\n",
       "      <td>11051</td>\n",
       "      <td>14656</td>\n",
       "      <td>1431.444002</td>\n",
       "      <td>1431.449558</td>\n",
       "      <td>...</td>\n",
       "      <td>0.216691</td>\n",
       "      <td>0.861911</td>\n",
       "      <td>0.427976</td>\n",
       "      <td>15.533675</td>\n",
       "      <td>0.068093</td>\n",
       "      <td>0.003288</td>\n",
       "      <td>141306513</td>\n",
       "      <td>4</td>\n",
       "      <td>M7</td>\n",
       "      <td>14.114</td>\n",
       "    </tr>\n",
       "    <tr>\n",
       "      <th>4</th>\n",
       "      <td>0.149158</td>\n",
       "      <td>289806</td>\n",
       "      <td>289811</td>\n",
       "      <td>52.999981</td>\n",
       "      <td>2.495028</td>\n",
       "      <td>3262</td>\n",
       "      <td>3267</td>\n",
       "      <td>18704</td>\n",
       "      <td>1629.964562</td>\n",
       "      <td>1629.971506</td>\n",
       "      <td>...</td>\n",
       "      <td>0.124189</td>\n",
       "      <td>0.329367</td>\n",
       "      <td>0.492076</td>\n",
       "      <td>27.150836</td>\n",
       "      <td>0.021153</td>\n",
       "      <td>0.013543</td>\n",
       "      <td>358108509</td>\n",
       "      <td>12</td>\n",
       "      <td>M6</td>\n",
       "      <td>14.351</td>\n",
       "    </tr>\n",
       "  </tbody>\n",
       "</table>\n",
       "<p>5 rows × 33 columns</p>\n",
       "</div>"
      ],
      "text/plain": [
       "   ampl_rec  cstart   cstop      ed_rec  ed_rec_err  istart  istop  \\\n",
       "0  0.205888  134304  134309   67.120761    3.173210    2025   2030   \n",
       "1  0.046567  137530  137534   15.629983    1.373603    5211   5215   \n",
       "2  0.432789  142823  142831  158.509751    2.815147    7029   7037   \n",
       "3  0.184068  146868  146872   54.249658    2.487500   11047  11051   \n",
       "4  0.149158  289806  289811   52.999981    2.495028    3262   3267   \n",
       "\n",
       "   total_n_valid_data_points       tstart        tstop  ...  \\\n",
       "0                      14656  1413.993959  1414.000903  ...   \n",
       "1                      14656  1418.474567  1418.480123  ...   \n",
       "2                      14656  1425.825985  1425.837096  ...   \n",
       "3                      14656  1431.444002  1431.449558  ...   \n",
       "4                      18704  1629.964562  1629.971506  ...   \n",
       "\n",
       "   amplitude_ratio_std  duration_ratio_std  recovery_probability_std  \\\n",
       "0             0.216691            0.861911                  0.480091   \n",
       "1             0.106518            0.179538                  0.233295   \n",
       "2             1.313973            0.560077                  0.398147   \n",
       "3             0.216691            0.861911                  0.427976   \n",
       "4             0.124189            0.329367                  0.492076   \n",
       "\n",
       "   ed_corr_err  amplitude_corr_err  duration_corr_err        TIC  sector  spt  \\\n",
       "0    19.234675            0.076164           0.004110  141306513       4   M7   \n",
       "1    18.366493            0.006369           0.078722  141306513       4   M7   \n",
       "2    73.540852            0.715953           0.001228  141306513       4   M7   \n",
       "3    15.533675            0.068093           0.003288  141306513       4   M7   \n",
       "4    27.150836            0.021153           0.013543  358108509      12   M6   \n",
       "\n",
       "   TESSmag  \n",
       "0   14.114  \n",
       "1   14.114  \n",
       "2   14.114  \n",
       "3   14.114  \n",
       "4   14.351  \n",
       "\n",
       "[5 rows x 33 columns]"
      ]
     },
     "execution_count": 2,
     "metadata": {},
     "output_type": "execute_result"
    }
   ],
   "source": [
    "df = pd.read_csv(\"../flare_tables/20200225_vetted_flares.csv\",\n",
    "                names=['ampl_rec','cstart','cstop','ed_rec','ed_rec_err',\n",
    "                    'istart', 'istop','total_n_valid_data_points', \n",
    "                    'tstart', 'tstop',  'dur', 'ed_ratio','ed_ratio_count',\n",
    "            'amplitude_ratio','amplitude_ratio_count','duration_ratio','duration_ratio_count',\n",
    "            'amplitude_corr','duration_corr','ed_corr','recovery_probability','recovery_probability_count',\n",
    "            'ed_ratio_std','amplitude_ratio_std','duration_ratio_std','recovery_probability_std',\n",
    "            'ed_corr_err','amplitude_corr_err','duration_corr_err',\"TIC\",\"sector\"])\n",
    "              \n",
    "spts = pd.read_csv(\"../flare_tables/spts.csv\")\n",
    "\n",
    "spts.head()\n",
    "df = df.merge(spts[[\"TIC\",\"spt\",\"TESSmag\"]],on=\"TIC\")\n",
    "df.head()"
   ]
  },
  {
   "cell_type": "code",
   "execution_count": null,
   "metadata": {},
   "outputs": [],
   "source": [
    "totobs = df.groupby([\"TIC\",\"sector\"]).total_n_valid_data_points.apply(lambda x: x.iloc[0]).sum()/30./24./365.25"
   ]
  },
  {
   "cell_type": "code",
   "execution_count": null,
   "metadata": {},
   "outputs": [],
   "source": [
    "totobs"
   ]
  },
  {
   "cell_type": "code",
   "execution_count": null,
   "metadata": {},
   "outputs": [],
   "source": [
    "plt.hist(df.recovery_probability_count, bins=np.linspace(0,50,10), histtype=\"step\");"
   ]
  },
  {
   "cell_type": "code",
   "execution_count": null,
   "metadata": {},
   "outputs": [],
   "source": [
    "plt.hist(df.ed_ratio_count, bins=np.linspace(0,50,10), histtype=\"step\");"
   ]
  },
  {
   "cell_type": "code",
   "execution_count": null,
   "metadata": {},
   "outputs": [],
   "source": [
    "plt.scatter(df.ampl_rec, df.amplitude_corr)\n",
    "plt.plot([0,12],[0,12])"
   ]
  },
  {
   "cell_type": "code",
   "execution_count": null,
   "metadata": {},
   "outputs": [],
   "source": [
    "plt.hist(df.amplitude_ratio_count, bins=np.linspace(0,300,10), histtype=\"step\");"
   ]
  },
  {
   "cell_type": "code",
   "execution_count": null,
   "metadata": {},
   "outputs": [],
   "source": [
    "plt.hist(df.duration_ratio_count, bins=np.linspace(0,300,10), histtype=\"step\");"
   ]
  },
  {
   "cell_type": "code",
   "execution_count": null,
   "metadata": {},
   "outputs": [],
   "source": [
    "plt.scatter(df.ed_rec, df.ed_corr)\n",
    "plt.plot([1,3e3],[1,3e3])\n",
    "plt.yscale(\"log\")\n",
    "plt.xscale(\"log\")"
   ]
  },
  {
   "cell_type": "code",
   "execution_count": null,
   "metadata": {
    "scrolled": true
   },
   "outputs": [],
   "source": [
    "plt.hist(df.recovery_probability, bins=np.linspace(0,1,6), histtype=\"step\");"
   ]
  },
  {
   "cell_type": "code",
   "execution_count": null,
   "metadata": {},
   "outputs": [],
   "source": [
    "#correct for magnitudes\n",
    "plt.figure(figsize=(6.5,5.5))\n",
    "plt.hist(df.TESSmag, bins=20);\n"
   ]
  },
  {
   "cell_type": "code",
   "execution_count": 3,
   "metadata": {},
   "outputs": [
    {
     "data": {
      "image/png": "[encoded data removed]",
      "text/plain": [
       "<Figure size 612x540 with 1 Axes>"
      ]
     },
     "metadata": {
      "needs_background": "light"
     },
     "output_type": "display_data"
    }
   ],
   "source": [
    "df = df[~np.isnan(df.recovery_probability) & (df.recovery_probability > 0.2)]\n",
    "df = df.sort_values(by=\"ed_corr\", ascending=False)\n",
    "df = df[~df.ed_corr.isnull() & np.isfinite(df.ed_corr) & (df.ed_corr > 6)]\n",
    "\n",
    "ffd = FFD(df,ID=\"TIC\")\n",
    "ffd.alpha, ffd.alpha_err = 2., .2\n",
    "ffd.tot_obs_time = 1.\n",
    "\n",
    "fig, ax = plt.subplots(1,figsize=(8.5,7.5))\n",
    "\n",
    "# No correction, single star mode\n",
    "ed, freq, counts = ffd.ed_and_freq( energy_correction=False,\n",
    "                            recovery_probability_correction=False,\n",
    "                             multiple_stars=False)\n",
    "ax.scatter(ed, freq, c=\"c\", label=\"no correction\",alpha=.2)\n",
    "_beta, ffd.beta, beta_err = ffd.fit_beta_to_powerlaw(ed,freq, mode=\"ED\")\n",
    "ffd.plot_powerlaw(ax, ed, c=\"k\", alpha=.2,)\n",
    "plt.xscale('log')\n",
    "plt.yscale('log')"
   ]
  },
  {
   "cell_type": "code",
   "execution_count": null,
   "metadata": {},
   "outputs": [],
   "source": [
    "a, sig_a = ffd.fit_powerlaw(df.ed_rec.values)\n",
    "ispowerlaw = ffd.is_powerlaw(df.ed_rec.values)\n",
    "truncated = ffd.is_powerlaw_truncated(df.ed_rec.values)\n",
    "\n",
    "print(a, sig_a, ispowerlaw, truncated)"
   ]
  },
  {
   "cell_type": "code",
   "execution_count": 36,
   "metadata": {},
   "outputs": [],
   "source": [
    "ed, freq, counts = ffd.ed_and_freq( energy_correction=True,\n",
    "                            recovery_probability_correction=True,\n",
    "                             multiple_stars=True)\n",
    "eds = []\n",
    "for n, ED in zip(np.rint((1/counts)*56), df.ed_rec.sort_values(ascending=True)):\n",
    "    eds.append(int(n)*[ED])\n",
    "eds =[i  for a in eds for i in a]"
   ]
  },
  {
   "cell_type": "code",
   "execution_count": 37,
   "metadata": {},
   "outputs": [
    {
     "data": {
      "text/plain": [
       "6992"
      ]
     },
     "execution_count": 37,
     "metadata": {},
     "output_type": "execute_result"
    }
   ],
   "source": [
    "len(eds)"
   ]
  },
  {
   "cell_type": "code",
   "execution_count": 34,
   "metadata": {},
   "outputs": [
    {
     "data": {
      "text/plain": [
       "(1.5604937353018378, 0.007570189182408835)"
      ]
     },
     "execution_count": 34,
     "metadata": {},
     "output_type": "execute_result"
    }
   ],
   "source": [
    "a, sig_a = ffd.fit_powerlaw(eds)\n",
    "a, sig_a"
   ]
  },
  {
   "cell_type": "code",
   "execution_count": null,
   "metadata": {},
   "outputs": [],
   "source": [
    "ffd.alpha = a\n",
    "ffd.alpha_err = sig_a"
   ]
  },
  {
   "cell_type": "code",
   "execution_count": 35,
   "metadata": {},
   "outputs": [
    {
     "ename": "AttributeError",
     "evalue": "'list' object has no attribute 'shape'",
     "output_type": "error",
     "traceback": [
      "\u001b[0;31m---------------------------------------------------------------------------\u001b[0m",
      "\u001b[0;31mAttributeError\u001b[0m                            Traceback (most recent call last)",
      "\u001b[0;32m<ipython-input-35-88c364d447af>\u001b[0m in \u001b[0;36m<module>\u001b[0;34m\u001b[0m\n\u001b[0;32m----> 1\u001b[0;31m \u001b[0mispowerlaw\u001b[0m \u001b[0;34m=\u001b[0m \u001b[0mffd\u001b[0m\u001b[0;34m.\u001b[0m\u001b[0mis_powerlaw\u001b[0m\u001b[0;34m(\u001b[0m\u001b[0meds\u001b[0m\u001b[0;34m)\u001b[0m\u001b[0;34m\u001b[0m\u001b[0;34m\u001b[0m\u001b[0m\n\u001b[0m\u001b[1;32m      2\u001b[0m \u001b[0mispowerlaw\u001b[0m\u001b[0;34m\u001b[0m\u001b[0;34m\u001b[0m\u001b[0m\n",
      "\u001b[0;32m/work1/eilin/TESS_UCDs/TESS_UCD_flares/notebook/funcs/ffd.py\u001b[0m in \u001b[0;36mis_powerlaw\u001b[0;34m(self, ed, sig_level)\u001b[0m\n\u001b[1;32m    327\u001b[0m         \u001b[0;32mFalse\u001b[0m \u001b[0;32mif\u001b[0m \u001b[0mwe\u001b[0m \u001b[0mmust\u001b[0m \u001b[0mreject\u001b[0m \u001b[0mthe\u001b[0m \u001b[0mpower\u001b[0m \u001b[0mlaw\u001b[0m \u001b[0mhypothesis\u001b[0m\u001b[0;34m.\u001b[0m\u001b[0;34m\u001b[0m\u001b[0;34m\u001b[0m\u001b[0m\n\u001b[1;32m    328\u001b[0m         '''\n\u001b[0;32m--> 329\u001b[0;31m         \u001b[0mtruncated\u001b[0m \u001b[0;34m=\u001b[0m \u001b[0mself\u001b[0m\u001b[0;34m.\u001b[0m\u001b[0mis_powerlaw_truncated\u001b[0m\u001b[0;34m(\u001b[0m\u001b[0med\u001b[0m\u001b[0;34m)\u001b[0m\u001b[0;34m\u001b[0m\u001b[0;34m\u001b[0m\u001b[0m\n\u001b[0m\u001b[1;32m    330\u001b[0m         \u001b[0mKS\u001b[0m \u001b[0;34m=\u001b[0m \u001b[0mstabilised_KS_statistic\u001b[0m\u001b[0;34m(\u001b[0m\u001b[0med\u001b[0m\u001b[0;34m,\u001b[0m \u001b[0malpha\u001b[0m\u001b[0;34m=\u001b[0m\u001b[0mself\u001b[0m\u001b[0;34m.\u001b[0m\u001b[0malpha\u001b[0m\u001b[0;34m,\u001b[0m \u001b[0mtruncated\u001b[0m\u001b[0;34m=\u001b[0m\u001b[0mtruncated\u001b[0m\u001b[0;34m)\u001b[0m\u001b[0;34m\u001b[0m\u001b[0;34m\u001b[0m\u001b[0m\n\u001b[1;32m    331\u001b[0m         \u001b[0mlimit\u001b[0m \u001b[0;34m=\u001b[0m \u001b[0mcalculate_KS_acceptance_limit\u001b[0m\u001b[0;34m(\u001b[0m\u001b[0mlen\u001b[0m\u001b[0;34m(\u001b[0m\u001b[0med\u001b[0m\u001b[0;34m)\u001b[0m\u001b[0;34m,\u001b[0m \u001b[0msig_level\u001b[0m\u001b[0;34m=\u001b[0m\u001b[0msig_level\u001b[0m\u001b[0;34m)\u001b[0m\u001b[0;34m\u001b[0m\u001b[0;34m\u001b[0m\u001b[0m\n",
      "\u001b[0;32m/work1/eilin/TESS_UCDs/TESS_UCD_flares/notebook/funcs/ffd.py\u001b[0m in \u001b[0;36mis_powerlaw_truncated\u001b[0;34m(self, ed, rejection, nthresh)\u001b[0m\n\u001b[1;32m    293\u001b[0m         '''\n\u001b[1;32m    294\u001b[0m \u001b[0;34m\u001b[0m\u001b[0m\n\u001b[0;32m--> 295\u001b[0;31m         \u001b[0mmean\u001b[0m\u001b[0;34m,\u001b[0m \u001b[0mstd\u001b[0m \u001b[0;34m=\u001b[0m \u001b[0mcalculate_average_number_of_exceeding_values\u001b[0m\u001b[0;34m(\u001b[0m\u001b[0med\u001b[0m\u001b[0;34m,\u001b[0m \u001b[0mself\u001b[0m\u001b[0;34m.\u001b[0m\u001b[0malpha\u001b[0m\u001b[0;34m,\u001b[0m \u001b[0;36m500\u001b[0m\u001b[0;34m)\u001b[0m\u001b[0;34m\u001b[0m\u001b[0;34m\u001b[0m\u001b[0m\n\u001b[0m\u001b[1;32m    296\u001b[0m \u001b[0;34m\u001b[0m\u001b[0m\n\u001b[1;32m    297\u001b[0m         \u001b[0;32mif\u001b[0m \u001b[0mself\u001b[0m\u001b[0;34m.\u001b[0m\u001b[0malpha\u001b[0m \u001b[0;34m>\u001b[0m \u001b[0;36m2.\u001b[0m\u001b[0;34m:\u001b[0m\u001b[0;34m\u001b[0m\u001b[0;34m\u001b[0m\u001b[0m\n",
      "\u001b[0;32m/work1/eilin/TESS_UCDs/TESS_UCD_flares/notebook/funcs/ffd.py\u001b[0m in \u001b[0;36mcalculate_average_number_of_exceeding_values\u001b[0;34m(data, alpha, n, **kwargs)\u001b[0m\n\u001b[1;32m    358\u001b[0m     \u001b[0;32massert\u001b[0m \u001b[0malpha\u001b[0m \u001b[0;32mis\u001b[0m \u001b[0;32mnot\u001b[0m \u001b[0;32mNone\u001b[0m\u001b[0;34m\u001b[0m\u001b[0;34m\u001b[0m\u001b[0m\n\u001b[1;32m    359\u001b[0m     \u001b[0;32massert\u001b[0m \u001b[0mdata\u001b[0m \u001b[0;32mis\u001b[0m \u001b[0;32mnot\u001b[0m \u001b[0;32mNone\u001b[0m\u001b[0;34m\u001b[0m\u001b[0;34m\u001b[0m\u001b[0m\n\u001b[0;32m--> 360\u001b[0;31m     \u001b[0mexceedance_statistic\u001b[0m \u001b[0;34m=\u001b[0m \u001b[0;34m[\u001b[0m\u001b[0m_calculate_number_of_exceeding_values\u001b[0m\u001b[0;34m(\u001b[0m\u001b[0mdata\u001b[0m\u001b[0;34m,\u001b[0m \u001b[0malpha\u001b[0m\u001b[0;34m,\u001b[0m \u001b[0;34m**\u001b[0m\u001b[0mkwargs\u001b[0m\u001b[0;34m)\u001b[0m \u001b[0;32mfor\u001b[0m \u001b[0mi\u001b[0m \u001b[0;32min\u001b[0m \u001b[0mrange\u001b[0m\u001b[0;34m(\u001b[0m\u001b[0mn\u001b[0m\u001b[0;34m)\u001b[0m\u001b[0;34m]\u001b[0m\u001b[0;34m\u001b[0m\u001b[0;34m\u001b[0m\u001b[0m\n\u001b[0m\u001b[1;32m    361\u001b[0m     \u001b[0mexceedance_statistic\u001b[0m \u001b[0;34m=\u001b[0m \u001b[0mnp\u001b[0m\u001b[0;34m.\u001b[0m\u001b[0marray\u001b[0m\u001b[0;34m(\u001b[0m\u001b[0mexceedance_statistic\u001b[0m\u001b[0;34m)\u001b[0m\u001b[0;34m\u001b[0m\u001b[0;34m\u001b[0m\u001b[0m\n\u001b[1;32m    362\u001b[0m     \u001b[0;32mreturn\u001b[0m \u001b[0mnp\u001b[0m\u001b[0;34m.\u001b[0m\u001b[0mnanmean\u001b[0m\u001b[0;34m(\u001b[0m\u001b[0mexceedance_statistic\u001b[0m\u001b[0;34m)\u001b[0m\u001b[0;34m,\u001b[0m \u001b[0mnp\u001b[0m\u001b[0;34m.\u001b[0m\u001b[0mnanstd\u001b[0m\u001b[0;34m(\u001b[0m\u001b[0mexceedance_statistic\u001b[0m\u001b[0;34m)\u001b[0m\u001b[0;34m\u001b[0m\u001b[0;34m\u001b[0m\u001b[0m\n",
      "\u001b[0;32m/work1/eilin/TESS_UCDs/TESS_UCD_flares/notebook/funcs/ffd.py\u001b[0m in \u001b[0;36m<listcomp>\u001b[0;34m(.0)\u001b[0m\n\u001b[1;32m    358\u001b[0m     \u001b[0;32massert\u001b[0m \u001b[0malpha\u001b[0m \u001b[0;32mis\u001b[0m \u001b[0;32mnot\u001b[0m \u001b[0;32mNone\u001b[0m\u001b[0;34m\u001b[0m\u001b[0;34m\u001b[0m\u001b[0m\n\u001b[1;32m    359\u001b[0m     \u001b[0;32massert\u001b[0m \u001b[0mdata\u001b[0m \u001b[0;32mis\u001b[0m \u001b[0;32mnot\u001b[0m \u001b[0;32mNone\u001b[0m\u001b[0;34m\u001b[0m\u001b[0;34m\u001b[0m\u001b[0m\n\u001b[0;32m--> 360\u001b[0;31m     \u001b[0mexceedance_statistic\u001b[0m \u001b[0;34m=\u001b[0m \u001b[0;34m[\u001b[0m\u001b[0m_calculate_number_of_exceeding_values\u001b[0m\u001b[0;34m(\u001b[0m\u001b[0mdata\u001b[0m\u001b[0;34m,\u001b[0m \u001b[0malpha\u001b[0m\u001b[0;34m,\u001b[0m \u001b[0;34m**\u001b[0m\u001b[0mkwargs\u001b[0m\u001b[0;34m)\u001b[0m \u001b[0;32mfor\u001b[0m \u001b[0mi\u001b[0m \u001b[0;32min\u001b[0m \u001b[0mrange\u001b[0m\u001b[0;34m(\u001b[0m\u001b[0mn\u001b[0m\u001b[0;34m)\u001b[0m\u001b[0;34m]\u001b[0m\u001b[0;34m\u001b[0m\u001b[0;34m\u001b[0m\u001b[0m\n\u001b[0m\u001b[1;32m    361\u001b[0m     \u001b[0mexceedance_statistic\u001b[0m \u001b[0;34m=\u001b[0m \u001b[0mnp\u001b[0m\u001b[0;34m.\u001b[0m\u001b[0marray\u001b[0m\u001b[0;34m(\u001b[0m\u001b[0mexceedance_statistic\u001b[0m\u001b[0;34m)\u001b[0m\u001b[0;34m\u001b[0m\u001b[0;34m\u001b[0m\u001b[0m\n\u001b[1;32m    362\u001b[0m     \u001b[0;32mreturn\u001b[0m \u001b[0mnp\u001b[0m\u001b[0;34m.\u001b[0m\u001b[0mnanmean\u001b[0m\u001b[0;34m(\u001b[0m\u001b[0mexceedance_statistic\u001b[0m\u001b[0;34m)\u001b[0m\u001b[0;34m,\u001b[0m \u001b[0mnp\u001b[0m\u001b[0;34m.\u001b[0m\u001b[0mnanstd\u001b[0m\u001b[0;34m(\u001b[0m\u001b[0mexceedance_statistic\u001b[0m\u001b[0;34m)\u001b[0m\u001b[0;34m\u001b[0m\u001b[0;34m\u001b[0m\u001b[0m\n",
      "\u001b[0;32m/work1/eilin/TESS_UCDs/TESS_UCD_flares/notebook/funcs/ffd.py\u001b[0m in \u001b[0;36m_calculate_number_of_exceeding_values\u001b[0;34m(data, alpha, maxlim, **kwargs)\u001b[0m\n\u001b[1;32m    392\u001b[0m                                                    \u001b[0mnp\u001b[0m\u001b[0;34m.\u001b[0m\u001b[0mmax\u001b[0m\u001b[0;34m(\u001b[0m\u001b[0mdata\u001b[0m\u001b[0;34m)\u001b[0m \u001b[0;34m*\u001b[0m \u001b[0mmaxlim\u001b[0m\u001b[0;34m,\u001b[0m\u001b[0;34m\u001b[0m\u001b[0;34m\u001b[0m\u001b[0m\n\u001b[1;32m    393\u001b[0m                                                    \u001b[0;34m-\u001b[0m\u001b[0malpha\u001b[0m\u001b[0;34m+\u001b[0m\u001b[0;36m1\u001b[0m\u001b[0;34m,\u001b[0m\u001b[0;34m\u001b[0m\u001b[0;34m\u001b[0m\u001b[0m\n\u001b[0;32m--> 394\u001b[0;31m                                                    \u001b[0msize\u001b[0m\u001b[0;34m=\u001b[0m\u001b[0mdata\u001b[0m\u001b[0;34m.\u001b[0m\u001b[0mshape\u001b[0m\u001b[0;34m[\u001b[0m\u001b[0;36m0\u001b[0m\u001b[0;34m]\u001b[0m\u001b[0;34m,\u001b[0m\u001b[0;34m\u001b[0m\u001b[0;34m\u001b[0m\u001b[0m\n\u001b[0m\u001b[1;32m    395\u001b[0m                                                    **kwargs)\n\u001b[1;32m    396\u001b[0m \u001b[0;34m\u001b[0m\u001b[0m\n",
      "\u001b[0;31mAttributeError\u001b[0m: 'list' object has no attribute 'shape'"
     ]
    }
   ],
   "source": [
    "ispowerlaw = ffd.is_powerlaw(np.array(eds))\n",
    "ispowerlaw"
   ]
  },
  {
   "cell_type": "code",
   "execution_count": 26,
   "metadata": {},
   "outputs": [
    {
     "ename": "KeyboardInterrupt",
     "evalue": "",
     "output_type": "error",
     "traceback": [
      "\u001b[0;31m---------------------------------------------------------------------------\u001b[0m",
      "\u001b[0;31mKeyboardInterrupt\u001b[0m                         Traceback (most recent call last)",
      "\u001b[0;32m<ipython-input-26-678597c58322>\u001b[0m in \u001b[0;36m<module>\u001b[0;34m\u001b[0m\n\u001b[0;32m----> 1\u001b[0;31m \u001b[0ma\u001b[0m\u001b[0;34m,\u001b[0m \u001b[0msig_a\u001b[0m \u001b[0;34m=\u001b[0m \u001b[0mffd\u001b[0m\u001b[0;34m.\u001b[0m\u001b[0mfit_powerlaw\u001b[0m\u001b[0;34m(\u001b[0m\u001b[0meds\u001b[0m\u001b[0;34m)\u001b[0m\u001b[0;34m\u001b[0m\u001b[0;34m\u001b[0m\u001b[0m\n\u001b[0m\u001b[1;32m      2\u001b[0m \u001b[0mispowerlaw\u001b[0m \u001b[0;34m=\u001b[0m \u001b[0mffd\u001b[0m\u001b[0;34m.\u001b[0m\u001b[0mis_powerlaw\u001b[0m\u001b[0;34m(\u001b[0m\u001b[0meds\u001b[0m\u001b[0;34m)\u001b[0m\u001b[0;34m\u001b[0m\u001b[0;34m\u001b[0m\u001b[0m\n\u001b[1;32m      3\u001b[0m \u001b[0mtruncated\u001b[0m \u001b[0;34m=\u001b[0m \u001b[0mffd\u001b[0m\u001b[0;34m.\u001b[0m\u001b[0mis_powerlaw_truncated\u001b[0m\u001b[0;34m(\u001b[0m\u001b[0meds\u001b[0m\u001b[0;34m)\u001b[0m\u001b[0;34m\u001b[0m\u001b[0;34m\u001b[0m\u001b[0m\n\u001b[1;32m      4\u001b[0m \u001b[0;34m\u001b[0m\u001b[0m\n\u001b[1;32m      5\u001b[0m \u001b[0mprint\u001b[0m\u001b[0;34m(\u001b[0m\u001b[0ma\u001b[0m\u001b[0;34m,\u001b[0m \u001b[0msig_a\u001b[0m\u001b[0;34m,\u001b[0m \u001b[0mispowerlaw\u001b[0m\u001b[0;34m,\u001b[0m \u001b[0mtruncated\u001b[0m\u001b[0;34m)\u001b[0m\u001b[0;34m\u001b[0m\u001b[0;34m\u001b[0m\u001b[0m\n",
      "\u001b[0;32m/work1/eilin/TESS_UCDs/TESS_UCD_flares/notebook/funcs/ffd.py\u001b[0m in \u001b[0;36mfit_powerlaw\u001b[0;34m(self, ed, alims)\u001b[0m\n\u001b[1;32m    262\u001b[0m         _alpha = np.array([fmin(ML_powerlaw_estimator, x0=2.,\n\u001b[1;32m    263\u001b[0m                                args=(np.delete(ed,i),), disp=0)[0]\n\u001b[0;32m--> 264\u001b[0;31m                           for i in range(N)])\n\u001b[0m\u001b[1;32m    265\u001b[0m \u001b[0;34m\u001b[0m\u001b[0m\n\u001b[1;32m    266\u001b[0m         \u001b[0;31m# alpha is the mean value\u001b[0m\u001b[0;34m\u001b[0m\u001b[0;34m\u001b[0m\u001b[0;34m\u001b[0m\u001b[0m\n",
      "\u001b[0;32m/work1/eilin/TESS_UCDs/TESS_UCD_flares/notebook/funcs/ffd.py\u001b[0m in \u001b[0;36m<listcomp>\u001b[0;34m(.0)\u001b[0m\n\u001b[1;32m    262\u001b[0m         _alpha = np.array([fmin(ML_powerlaw_estimator, x0=2.,\n\u001b[1;32m    263\u001b[0m                                args=(np.delete(ed,i),), disp=0)[0]\n\u001b[0;32m--> 264\u001b[0;31m                           for i in range(N)])\n\u001b[0m\u001b[1;32m    265\u001b[0m \u001b[0;34m\u001b[0m\u001b[0m\n\u001b[1;32m    266\u001b[0m         \u001b[0;31m# alpha is the mean value\u001b[0m\u001b[0;34m\u001b[0m\u001b[0;34m\u001b[0m\u001b[0;34m\u001b[0m\u001b[0m\n",
      "\u001b[0;32m/work1/eilin/Flares_in_Clusters_2/RESULTS_Github/flares-in-clusters-with-k2-ii/flaresinclustersii/lib64/python3.6/site-packages/scipy/optimize/optimize.py\u001b[0m in \u001b[0;36mfmin\u001b[0;34m(func, x0, args, xtol, ftol, maxiter, maxfun, full_output, disp, retall, callback, initial_simplex)\u001b[0m\n\u001b[1;32m    441\u001b[0m             'initial_simplex': initial_simplex}\n\u001b[1;32m    442\u001b[0m \u001b[0;34m\u001b[0m\u001b[0m\n\u001b[0;32m--> 443\u001b[0;31m     \u001b[0mres\u001b[0m \u001b[0;34m=\u001b[0m \u001b[0m_minimize_neldermead\u001b[0m\u001b[0;34m(\u001b[0m\u001b[0mfunc\u001b[0m\u001b[0;34m,\u001b[0m \u001b[0mx0\u001b[0m\u001b[0;34m,\u001b[0m \u001b[0margs\u001b[0m\u001b[0;34m,\u001b[0m \u001b[0mcallback\u001b[0m\u001b[0;34m=\u001b[0m\u001b[0mcallback\u001b[0m\u001b[0;34m,\u001b[0m \u001b[0;34m**\u001b[0m\u001b[0mopts\u001b[0m\u001b[0;34m)\u001b[0m\u001b[0;34m\u001b[0m\u001b[0;34m\u001b[0m\u001b[0m\n\u001b[0m\u001b[1;32m    444\u001b[0m     \u001b[0;32mif\u001b[0m \u001b[0mfull_output\u001b[0m\u001b[0;34m:\u001b[0m\u001b[0;34m\u001b[0m\u001b[0;34m\u001b[0m\u001b[0m\n\u001b[1;32m    445\u001b[0m         \u001b[0mretlist\u001b[0m \u001b[0;34m=\u001b[0m \u001b[0mres\u001b[0m\u001b[0;34m[\u001b[0m\u001b[0;34m'x'\u001b[0m\u001b[0;34m]\u001b[0m\u001b[0;34m,\u001b[0m \u001b[0mres\u001b[0m\u001b[0;34m[\u001b[0m\u001b[0;34m'fun'\u001b[0m\u001b[0;34m]\u001b[0m\u001b[0;34m,\u001b[0m \u001b[0mres\u001b[0m\u001b[0;34m[\u001b[0m\u001b[0;34m'nit'\u001b[0m\u001b[0;34m]\u001b[0m\u001b[0;34m,\u001b[0m \u001b[0mres\u001b[0m\u001b[0;34m[\u001b[0m\u001b[0;34m'nfev'\u001b[0m\u001b[0;34m]\u001b[0m\u001b[0;34m,\u001b[0m \u001b[0mres\u001b[0m\u001b[0;34m[\u001b[0m\u001b[0;34m'status'\u001b[0m\u001b[0;34m]\u001b[0m\u001b[0;34m\u001b[0m\u001b[0;34m\u001b[0m\u001b[0m\n",
      "\u001b[0;32m/work1/eilin/Flares_in_Clusters_2/RESULTS_Github/flares-in-clusters-with-k2-ii/flaresinclustersii/lib64/python3.6/site-packages/scipy/optimize/optimize.py\u001b[0m in \u001b[0;36m_minimize_neldermead\u001b[0;34m(func, x0, args, callback, maxiter, maxfev, disp, return_all, initial_simplex, xatol, fatol, adaptive, **unknown_options)\u001b[0m\n\u001b[1;32m    600\u001b[0m         \u001b[0mxbar\u001b[0m \u001b[0;34m=\u001b[0m \u001b[0mnumpy\u001b[0m\u001b[0;34m.\u001b[0m\u001b[0madd\u001b[0m\u001b[0;34m.\u001b[0m\u001b[0mreduce\u001b[0m\u001b[0;34m(\u001b[0m\u001b[0msim\u001b[0m\u001b[0;34m[\u001b[0m\u001b[0;34m:\u001b[0m\u001b[0;34m-\u001b[0m\u001b[0;36m1\u001b[0m\u001b[0;34m]\u001b[0m\u001b[0;34m,\u001b[0m \u001b[0;36m0\u001b[0m\u001b[0;34m)\u001b[0m \u001b[0;34m/\u001b[0m \u001b[0mN\u001b[0m\u001b[0;34m\u001b[0m\u001b[0;34m\u001b[0m\u001b[0m\n\u001b[1;32m    601\u001b[0m         \u001b[0mxr\u001b[0m \u001b[0;34m=\u001b[0m \u001b[0;34m(\u001b[0m\u001b[0;36m1\u001b[0m \u001b[0;34m+\u001b[0m \u001b[0mrho\u001b[0m\u001b[0;34m)\u001b[0m \u001b[0;34m*\u001b[0m \u001b[0mxbar\u001b[0m \u001b[0;34m-\u001b[0m \u001b[0mrho\u001b[0m \u001b[0;34m*\u001b[0m \u001b[0msim\u001b[0m\u001b[0;34m[\u001b[0m\u001b[0;34m-\u001b[0m\u001b[0;36m1\u001b[0m\u001b[0;34m]\u001b[0m\u001b[0;34m\u001b[0m\u001b[0;34m\u001b[0m\u001b[0m\n\u001b[0;32m--> 602\u001b[0;31m         \u001b[0mfxr\u001b[0m \u001b[0;34m=\u001b[0m \u001b[0mfunc\u001b[0m\u001b[0;34m(\u001b[0m\u001b[0mxr\u001b[0m\u001b[0;34m)\u001b[0m\u001b[0;34m\u001b[0m\u001b[0;34m\u001b[0m\u001b[0m\n\u001b[0m\u001b[1;32m    603\u001b[0m         \u001b[0mdoshrink\u001b[0m \u001b[0;34m=\u001b[0m \u001b[0;36m0\u001b[0m\u001b[0;34m\u001b[0m\u001b[0;34m\u001b[0m\u001b[0m\n\u001b[1;32m    604\u001b[0m \u001b[0;34m\u001b[0m\u001b[0m\n",
      "\u001b[0;32m/work1/eilin/Flares_in_Clusters_2/RESULTS_Github/flares-in-clusters-with-k2-ii/flaresinclustersii/lib64/python3.6/site-packages/scipy/optimize/optimize.py\u001b[0m in \u001b[0;36mfunction_wrapper\u001b[0;34m(*wrapper_args)\u001b[0m\n\u001b[1;32m    325\u001b[0m     \u001b[0;32mdef\u001b[0m \u001b[0mfunction_wrapper\u001b[0m\u001b[0;34m(\u001b[0m\u001b[0;34m*\u001b[0m\u001b[0mwrapper_args\u001b[0m\u001b[0;34m)\u001b[0m\u001b[0;34m:\u001b[0m\u001b[0;34m\u001b[0m\u001b[0;34m\u001b[0m\u001b[0m\n\u001b[1;32m    326\u001b[0m         \u001b[0mncalls\u001b[0m\u001b[0;34m[\u001b[0m\u001b[0;36m0\u001b[0m\u001b[0;34m]\u001b[0m \u001b[0;34m+=\u001b[0m \u001b[0;36m1\u001b[0m\u001b[0;34m\u001b[0m\u001b[0;34m\u001b[0m\u001b[0m\n\u001b[0;32m--> 327\u001b[0;31m         \u001b[0;32mreturn\u001b[0m \u001b[0mfunction\u001b[0m\u001b[0;34m(\u001b[0m\u001b[0;34m*\u001b[0m\u001b[0;34m(\u001b[0m\u001b[0mwrapper_args\u001b[0m \u001b[0;34m+\u001b[0m \u001b[0margs\u001b[0m\u001b[0;34m)\u001b[0m\u001b[0;34m)\u001b[0m\u001b[0;34m\u001b[0m\u001b[0;34m\u001b[0m\u001b[0m\n\u001b[0m\u001b[1;32m    328\u001b[0m \u001b[0;34m\u001b[0m\u001b[0m\n\u001b[1;32m    329\u001b[0m     \u001b[0;32mreturn\u001b[0m \u001b[0mncalls\u001b[0m\u001b[0;34m,\u001b[0m \u001b[0mfunction_wrapper\u001b[0m\u001b[0;34m\u001b[0m\u001b[0;34m\u001b[0m\u001b[0m\n",
      "\u001b[0;32m/work1/eilin/TESS_UCDs/TESS_UCD_flares/notebook/funcs/ffd.py\u001b[0m in \u001b[0;36mML_powerlaw_estimator\u001b[0;34m(alpha, ed)\u001b[0m\n\u001b[1;32m    482\u001b[0m     \u001b[0;31m# Calculate the remaining variables in formula (9)\u001b[0m\u001b[0;34m\u001b[0m\u001b[0;34m\u001b[0m\u001b[0;34m\u001b[0m\u001b[0m\n\u001b[1;32m    483\u001b[0m     \u001b[0mYexp\u001b[0m \u001b[0;34m=\u001b[0m \u001b[0;34m(\u001b[0m\u001b[0mnp\u001b[0m\u001b[0;34m.\u001b[0m\u001b[0mpower\u001b[0m\u001b[0;34m(\u001b[0m\u001b[0mY\u001b[0m\u001b[0;34m,\u001b[0m \u001b[0;36m1\u001b[0m \u001b[0;34m-\u001b[0m \u001b[0malpha\u001b[0m\u001b[0;34m)\u001b[0m\u001b[0;34m)\u001b[0m\u001b[0;34m\u001b[0m\u001b[0;34m\u001b[0m\u001b[0m\n\u001b[0;32m--> 484\u001b[0;31m     \u001b[0mT\u001b[0m \u001b[0;34m=\u001b[0m \u001b[0mnp\u001b[0m\u001b[0;34m.\u001b[0m\u001b[0mlog\u001b[0m\u001b[0;34m(\u001b[0m\u001b[0med\u001b[0m\u001b[0;34m)\u001b[0m\u001b[0;34m.\u001b[0m\u001b[0msum\u001b[0m\u001b[0;34m(\u001b[0m\u001b[0;34m)\u001b[0m\u001b[0;34m\u001b[0m\u001b[0;34m\u001b[0m\u001b[0m\n\u001b[0m\u001b[1;32m    485\u001b[0m     \u001b[0mZ\u001b[0m \u001b[0;34m=\u001b[0m \u001b[0mde_biased_upper_limit\u001b[0m\u001b[0;34m(\u001b[0m\u001b[0med\u001b[0m\u001b[0;34m,\u001b[0m \u001b[0malpha\u001b[0m\u001b[0;34m)\u001b[0m\u001b[0;34m\u001b[0m\u001b[0;34m\u001b[0m\u001b[0m\n\u001b[1;32m    486\u001b[0m     \u001b[0mZexp\u001b[0m \u001b[0;34m=\u001b[0m \u001b[0;34m(\u001b[0m\u001b[0mnp\u001b[0m\u001b[0;34m.\u001b[0m\u001b[0mpower\u001b[0m\u001b[0;34m(\u001b[0m\u001b[0mZ\u001b[0m\u001b[0;34m,\u001b[0m \u001b[0;36m1\u001b[0m \u001b[0;34m-\u001b[0m \u001b[0malpha\u001b[0m\u001b[0;34m)\u001b[0m\u001b[0;34m)\u001b[0m\u001b[0;34m\u001b[0m\u001b[0;34m\u001b[0m\u001b[0m\n",
      "\u001b[0;31mKeyboardInterrupt\u001b[0m: "
     ]
    }
   ],
   "source": [
    "truncated = ffd.is_powerlaw_truncated(eds)\n",
    "\n",
    "print(a, sig_a, ispowerlaw, truncated)"
   ]
  },
  {
   "cell_type": "code",
   "execution_count": null,
   "metadata": {},
   "outputs": [],
   "source": [
    "_get_multistar_factors(df, \"TIC\", \"ed_corr\")\n"
   ]
  },
  {
   "cell_type": "code",
   "execution_count": null,
   "metadata": {
    "scrolled": false
   },
   "outputs": [],
   "source": [
    "# ED correction, single star mode\n",
    "ed, freq = ffd.ed_and_freq( energy_correction=True,\n",
    "                            recovery_probability_correction=False,\n",
    "                             multiple_stars=False)\n",
    "ax.scatter(ed, freq, c=\"c\", label=\"ED correction\",alpha=.5)\n",
    "_beta, beta, beta_err = ffd.fit_beta_to_powerlaw(ed,freq, mode=\"ED\")\n",
    "ffd.plot_powerlaw(ax, ed, c=\"k\",alpha=.5, )\n",
    "\n",
    "\n",
    "# ED and recprob correction, single star mode\n",
    "ed, freq = ffd.ed_and_freq( energy_correction=True,\n",
    "                            recovery_probability_correction=True,\n",
    "                             multiple_stars=False)\n",
    "ax.scatter(ed, freq, c=\"c\",alpha=1, label=\"ED and recprob correction\")\n",
    "_beta, beta, beta_err = ffd.fit_beta_to_powerlaw(ed,freq, mode=\"ED\")\n",
    "ffd.plot_powerlaw(ax, ed, c=\"k\",alpha=1, )\n",
    "\n",
    "\n",
    "\n",
    "\n",
    "# No correction, multiple star mode\n",
    "ed, freq = ffd.ed_and_freq( energy_correction=False,\n",
    "                            recovery_probability_correction=False,\n",
    "                             multiple_stars=True)\n",
    "ax.scatter(ed, freq, c=\"r\", label=\"no correction\",alpha=.2)\n",
    "_beta, beta, beta_err = ffd.fit_beta_to_powerlaw(ed,freq, mode=\"ED\")\n",
    "ffd.plot_powerlaw(ax, ed, c=\"k\", alpha=.2, )\n",
    "\n",
    "# ED correction, multiple star mode\n",
    "ed, freq = ffd.ed_and_freq( energy_correction=True,\n",
    "                            recovery_probability_correction=False,\n",
    "                             multiple_stars=True)\n",
    "ax.scatter(ed, freq, c=\"r\", label=\"ED correction\",alpha=.5)\n",
    "_beta, beta, beta_err = ffd.fit_beta_to_powerlaw(ed,freq, mode=\"ED\")\n",
    "ffd.plot_powerlaw(ax, ed, c=\"k\",alpha=.5, )\n",
    "\n",
    "\n",
    "# ED and recprob correction, multiple star mode\n",
    "ed, freq = ffd.ed_and_freq( energy_correction=True,\n",
    "                            recovery_probability_correction=True,\n",
    "                             multiple_stars=True)\n",
    "ax.scatter(ed, freq, c=\"r\",alpha=1, label=\"ED and recprob correction\")\n",
    "_beta, beta, beta_err = ffd.fit_beta_to_powerlaw(ed,freq, mode=\"ED\")\n",
    "ffd.plot_powerlaw(ax, ed, c=\"k\",alpha=1, )\n",
    "\n",
    "\n",
    "plt.xscale('log')\n",
    "plt.yscale('log')\n",
    "plt.xlabel(\"ED [s]\")#\"flare energy in TESS band [erg]\")\n",
    "plt.ylabel(\"cumulative number of flares per year\")\n",
    "# #plt.title(spt)\n",
    "plt.legend(fontsize=14)\n",
    "# #     plt.figure(figsize=(6.5,5.5))\n",
    "# #     plt.hist(df.TESSmag)\n",
    "# #     plt.title(spt)\n",
    "\n",
    "# plt.ylim(.1,1e3)\n",
    "# plt.xlim(1,10000)\n",
    "# # for x,z in zip(a,f):\n",
    "# #     print(x,z)\n",
    "# # print(df.shape)\n",
    "# plt.savefig(f\"../plots/{tstamp}_FFD_two_step_correction.png\".format(tstamp), dpi=300)"
   ]
  },
  {
   "cell_type": "code",
   "execution_count": null,
   "metadata": {},
   "outputs": [],
   "source": [
    "ed, freq = ffd.ed_and_freq( energy_correction=True,\n",
    "                            recovery_probability_correction=True,\n",
    "                             multiple_stars=True)\n",
    "ffd.is_powerlaw(ed),  ffd.is_powerlaw_truncated(ed)"
   ]
  },
  {
   "cell_type": "code",
   "execution_count": null,
   "metadata": {},
   "outputs": [],
   "source": [
    "#df = df[df.recovery_probability > .2]\n",
    "\n",
    "\n",
    "df = df.sort_values(by=\"ed_rec\", ascending=False)\n",
    "#df['probnocorrcum'] = np.cumsum(1/np.array(freq[::-1])*freq[-1])\n",
    "df['probnocorrcum'] = np.cumsum(np.ones_like(freq))\n",
    "df['sortededrec'] =df.ed_rec.sort_values(ascending=False)\n",
    "df = df.sort_values(by=\"ed_corr\", ascending=False)\n",
    "df = df[(~df.ed_corr.isnull()) & (np.isfinite(df.ed_corr)) & (df.recovery_probability >0.0) ]\n",
    "df[\"ed_corrprob\"] = 1/df.recovery_probability.values\n",
    "df[\"ed_corrprob_err\"] = df.recovery_probability_std / df.recovery_probability**2\n",
    "df[\"ed_corrprobcum\"] = np.cumsum(df.ed_corrprob.values)\n",
    "\n",
    "\n",
    "plt.figure(figsize=(6.5,5.5))\n",
    "for l, row in df.iterrows():\n",
    "    plt.plot([row.sortededrec, row.ed_corr], [row.probnocorrcum, row.ed_corrprobcum],c=\"grey\",alpha=.5)\n",
    "plt.scatter(df[\"sortededrec\"], df[\"probnocorrcum\"], label=\"no correction\", c=\"k\")#, condition {}\".format(label))\n",
    "plt.scatter(df.ed_corr, df[\"ed_corrprobcum\"], label=\"energy ratio and recovery probability correction\", c=\"r\")#, condition {}\".format(label))\n",
    "plt.plot([10, 4000],[4000, 10], label=\"slope=-1\", linestyle=\"dashed\", c=\"grey\", linewidth=3)\n",
    "plt.xscale('log')\n",
    "plt.yscale('log')\n",
    "#plt.ylim(.8,250)\n",
    "#plt.xlim(5,4000)\n",
    "plt.xlabel(\"ED [s]\")#\"flare energy in TESS band [erg]\")\n",
    "plt.ylabel(\"cumulative number of flares\")\n",
    "plt.legend()\n",
    "#plt.savefig(\"plots/{}_FFD_flare_correspondence_correction.png\".format(today), dpi=300)"
   ]
  },
  {
   "cell_type": "code",
   "execution_count": null,
   "metadata": {},
   "outputs": [],
   "source": [
    "f\n"
   ]
  },
  {
   "cell_type": "code",
   "execution_count": null,
   "metadata": {},
   "outputs": [],
   "source": []
  }
 ],
 "metadata": {
  "kernelspec": {
   "display_name": "flaresinclustersii",
   "language": "python",
   "name": "flaresinclustersii"
  },
  "language_info": {
   "codemirror_mode": {
    "name": "ipython",
    "version": 3
   },
   "file_extension": ".py",
   "mimetype": "text/x-python",
   "name": "python",
   "nbconvert_exporter": "python",
   "pygments_lexer": "ipython3",
   "version": "3.6.9"
  }
 },
 "nbformat": 4,
 "nbformat_minor": 2
}
