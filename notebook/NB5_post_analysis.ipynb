{
 "cells": [
  {
   "cell_type": "code",
   "execution_count": 1,
   "metadata": {},
   "outputs": [],
   "source": [
    "import numpy as np\n",
    "import pandas as pd\n",
    "\n",
    "import matplotlib.pyplot as plt\n",
    "%matplotlib inline\n",
    "\n",
    "from funcs.ffd import fit_beta_to_powerlaw, plot_powerlaw"
   ]
  },
  {
   "cell_type": "code",
   "execution_count": 2,
   "metadata": {
    "scrolled": true
   },
   "outputs": [
    {
     "data": {
      "text/html": [
       "<div>\n",
       "<style scoped>\n",
       "    .dataframe tbody tr th:only-of-type {\n",
       "        vertical-align: middle;\n",
       "    }\n",
       "\n",
       "    .dataframe tbody tr th {\n",
       "        vertical-align: top;\n",
       "    }\n",
       "\n",
       "    .dataframe thead th {\n",
       "        text-align: right;\n",
       "    }\n",
       "</style>\n",
       "<table border=\"1\" class=\"dataframe\">\n",
       "  <thead>\n",
       "    <tr style=\"text-align: right;\">\n",
       "      <th></th>\n",
       "      <th>ampl_rec</th>\n",
       "      <th>cstart</th>\n",
       "      <th>cstop</th>\n",
       "      <th>ed_rec</th>\n",
       "      <th>ed_rec_err</th>\n",
       "      <th>istart</th>\n",
       "      <th>istop</th>\n",
       "      <th>total_n_valid_data_points</th>\n",
       "      <th>tstart</th>\n",
       "      <th>tstop</th>\n",
       "      <th>...</th>\n",
       "      <th>recovery_probability_count</th>\n",
       "      <th>ed_ratio_std</th>\n",
       "      <th>amplitude_ratio_std</th>\n",
       "      <th>duration_ratio_std</th>\n",
       "      <th>recovery_probability_std</th>\n",
       "      <th>ed_corr_err</th>\n",
       "      <th>amplitude_corr_err</th>\n",
       "      <th>duration_corr_err</th>\n",
       "      <th>TIC</th>\n",
       "      <th>sector</th>\n",
       "    </tr>\n",
       "  </thead>\n",
       "  <tbody>\n",
       "    <tr>\n",
       "      <th>0</th>\n",
       "      <td>0.054356</td>\n",
       "      <td>119297</td>\n",
       "      <td>119306</td>\n",
       "      <td>35.835830</td>\n",
       "      <td>1.763268</td>\n",
       "      <td>4923</td>\n",
       "      <td>4932</td>\n",
       "      <td>12835.0</td>\n",
       "      <td>1393.151454</td>\n",
       "      <td>1393.163954</td>\n",
       "      <td>...</td>\n",
       "      <td>NaN</td>\n",
       "      <td>NaN</td>\n",
       "      <td>NaN</td>\n",
       "      <td>NaN</td>\n",
       "      <td>NaN</td>\n",
       "      <td>NaN</td>\n",
       "      <td>NaN</td>\n",
       "      <td>NaN</td>\n",
       "      <td>NaN</td>\n",
       "      <td>NaN</td>\n",
       "    </tr>\n",
       "    <tr>\n",
       "      <th>1</th>\n",
       "      <td>0.101038</td>\n",
       "      <td>152637</td>\n",
       "      <td>152644</td>\n",
       "      <td>30.406816</td>\n",
       "      <td>1.828507</td>\n",
       "      <td>586</td>\n",
       "      <td>593</td>\n",
       "      <td>16349.0</td>\n",
       "      <td>1439.452361</td>\n",
       "      <td>1439.462083</td>\n",
       "      <td>...</td>\n",
       "      <td>33.0</td>\n",
       "      <td>0.124723</td>\n",
       "      <td>0.135370</td>\n",
       "      <td>0.292849</td>\n",
       "      <td>0.331434</td>\n",
       "      <td>7.910980</td>\n",
       "      <td>0.017503</td>\n",
       "      <td>0.005243</td>\n",
       "      <td>NaN</td>\n",
       "      <td>NaN</td>\n",
       "    </tr>\n",
       "    <tr>\n",
       "      <th>2</th>\n",
       "      <td>0.018912</td>\n",
       "      <td>159470</td>\n",
       "      <td>159473</td>\n",
       "      <td>5.704301</td>\n",
       "      <td>0.547990</td>\n",
       "      <td>7393</td>\n",
       "      <td>7396</td>\n",
       "      <td>16349.0</td>\n",
       "      <td>1448.940559</td>\n",
       "      <td>1448.944725</td>\n",
       "      <td>...</td>\n",
       "      <td>34.0</td>\n",
       "      <td>0.128436</td>\n",
       "      <td>0.145729</td>\n",
       "      <td>0.256401</td>\n",
       "      <td>0.507519</td>\n",
       "      <td>2.038336</td>\n",
       "      <td>0.003150</td>\n",
       "      <td>0.004284</td>\n",
       "      <td>NaN</td>\n",
       "      <td>NaN</td>\n",
       "    </tr>\n",
       "    <tr>\n",
       "      <th>3</th>\n",
       "      <td>0.028682</td>\n",
       "      <td>164325</td>\n",
       "      <td>164340</td>\n",
       "      <td>28.611778</td>\n",
       "      <td>0.814129</td>\n",
       "      <td>10837</td>\n",
       "      <td>10852</td>\n",
       "      <td>16349.0</td>\n",
       "      <td>1455.683582</td>\n",
       "      <td>1455.704416</td>\n",
       "      <td>...</td>\n",
       "      <td>26.0</td>\n",
       "      <td>0.093004</td>\n",
       "      <td>0.093889</td>\n",
       "      <td>0.272593</td>\n",
       "      <td>0.000000</td>\n",
       "      <td>5.385723</td>\n",
       "      <td>0.003042</td>\n",
       "      <td>0.008833</td>\n",
       "      <td>NaN</td>\n",
       "      <td>NaN</td>\n",
       "    </tr>\n",
       "    <tr>\n",
       "      <th>4</th>\n",
       "      <td>0.028935</td>\n",
       "      <td>167643</td>\n",
       "      <td>167655</td>\n",
       "      <td>20.634373</td>\n",
       "      <td>0.626127</td>\n",
       "      <td>14148</td>\n",
       "      <td>14160</td>\n",
       "      <td>16349.0</td>\n",
       "      <td>1460.291909</td>\n",
       "      <td>1460.308576</td>\n",
       "      <td>...</td>\n",
       "      <td>33.0</td>\n",
       "      <td>0.093004</td>\n",
       "      <td>0.093889</td>\n",
       "      <td>0.272593</td>\n",
       "      <td>0.000000</td>\n",
       "      <td>3.890185</td>\n",
       "      <td>0.003069</td>\n",
       "      <td>0.007066</td>\n",
       "      <td>NaN</td>\n",
       "      <td>NaN</td>\n",
       "    </tr>\n",
       "  </tbody>\n",
       "</table>\n",
       "<p>5 rows × 31 columns</p>\n",
       "</div>"
      ],
      "text/plain": [
       "   ampl_rec  cstart   cstop     ed_rec  ed_rec_err  istart  istop  \\\n",
       "0  0.054356  119297  119306  35.835830    1.763268    4923   4932   \n",
       "1  0.101038  152637  152644  30.406816    1.828507     586    593   \n",
       "2  0.018912  159470  159473   5.704301    0.547990    7393   7396   \n",
       "3  0.028682  164325  164340  28.611778    0.814129   10837  10852   \n",
       "4  0.028935  167643  167655  20.634373    0.626127   14148  14160   \n",
       "\n",
       "   total_n_valid_data_points       tstart        tstop  ...  \\\n",
       "0                    12835.0  1393.151454  1393.163954  ...   \n",
       "1                    16349.0  1439.452361  1439.462083  ...   \n",
       "2                    16349.0  1448.940559  1448.944725  ...   \n",
       "3                    16349.0  1455.683582  1455.704416  ...   \n",
       "4                    16349.0  1460.291909  1460.308576  ...   \n",
       "\n",
       "   recovery_probability_count  ed_ratio_std  amplitude_ratio_std  \\\n",
       "0                         NaN           NaN                  NaN   \n",
       "1                        33.0      0.124723             0.135370   \n",
       "2                        34.0      0.128436             0.145729   \n",
       "3                        26.0      0.093004             0.093889   \n",
       "4                        33.0      0.093004             0.093889   \n",
       "\n",
       "   duration_ratio_std  recovery_probability_std  ed_corr_err  \\\n",
       "0                 NaN                       NaN          NaN   \n",
       "1            0.292849                  0.331434     7.910980   \n",
       "2            0.256401                  0.507519     2.038336   \n",
       "3            0.272593                  0.000000     5.385723   \n",
       "4            0.272593                  0.000000     3.890185   \n",
       "\n",
       "   amplitude_corr_err  duration_corr_err  TIC  sector  \n",
       "0                 NaN                NaN  NaN     NaN  \n",
       "1            0.017503           0.005243  NaN     NaN  \n",
       "2            0.003150           0.004284  NaN     NaN  \n",
       "3            0.003042           0.008833  NaN     NaN  \n",
       "4            0.003069           0.007066  NaN     NaN  \n",
       "\n",
       "[5 rows x 31 columns]"
      ]
     },
     "execution_count": 2,
     "metadata": {},
     "output_type": "execute_result"
    }
   ],
   "source": [
    "df = pd.read_csv(\"../flare_tables/20200218_vetted_flares.csv\",\n",
    "                names=['ampl_rec','cstart','cstop','ed_rec','ed_rec_err',\n",
    "                    'istart', 'istop','total_n_valid_data_points', \n",
    "                    'tstart', 'tstop',  'dur', 'ed_ratio','ed_ratio_count',\n",
    "            'amplitude_ratio','amplitude_ratio_count','duration_ratio','duration_ratio_count',\n",
    "            'amplitude_corr','duration_corr','ed_corr','recovery_probability','recovery_probability_count',\n",
    "            'ed_ratio_std','amplitude_ratio_std','duration_ratio_std','recovery_probability_std',\n",
    "            'ed_corr_err','amplitude_corr_err','duration_corr_err',\"TIC\",\"sector\"])\n",
    "              \n",
    "#spts = pd.read_csv(\"../flare_tables/spts.csv\")\n",
    "\n",
    "#spts.head()\n",
    "#df = df.merge(spts[[\"TIC\",\"spt\",\"TESSmag\"]],on=\"TIC\")\n",
    "df.head()"
   ]
  },
  {
   "cell_type": "code",
   "execution_count": 3,
   "metadata": {},
   "outputs": [
    {
     "data": {
      "text/plain": [
       "(385, 31)"
      ]
     },
     "execution_count": 3,
     "metadata": {},
     "output_type": "execute_result"
    }
   ],
   "source": [
    "df.shape"
   ]
  },
  {
   "cell_type": "code",
   "execution_count": 4,
   "metadata": {},
   "outputs": [],
   "source": [
    "df = df[df.istart-df.istop < -5]"
   ]
  },
  {
   "cell_type": "code",
   "execution_count": 5,
   "metadata": {},
   "outputs": [
    {
     "data": {
      "image/png": "[encoded data removed]",
      "text/plain": [
       "<Figure size 432x288 with 1 Axes>"
      ]
     },
     "metadata": {
      "needs_background": "light"
     },
     "output_type": "display_data"
    }
   ],
   "source": [
    "plt.hist(df.recovery_probability_count, bins=np.linspace(0,100,10), histtype=\"step\");"
   ]
  },
  {
   "cell_type": "code",
   "execution_count": 6,
   "metadata": {},
   "outputs": [
    {
     "data": {
      "image/png": "[encoded data removed]",
      "text/plain": [
       "<Figure size 432x288 with 1 Axes>"
      ]
     },
     "metadata": {
      "needs_background": "light"
     },
     "output_type": "display_data"
    }
   ],
   "source": [
    "plt.hist(df.ed_ratio_count, bins=np.linspace(0,100,10), histtype=\"step\");"
   ]
  },
  {
   "cell_type": "code",
   "execution_count": 7,
   "metadata": {},
   "outputs": [
    {
     "data": {
      "text/plain": [
       "[<matplotlib.lines.Line2D at 0x7fced7a10e48>]"
      ]
     },
     "execution_count": 7,
     "metadata": {},
     "output_type": "execute_result"
    },
    {
     "data": {
      "image/png": "[encoded data removed]",
      "text/plain": [
       "<Figure size 432x288 with 1 Axes>"
      ]
     },
     "metadata": {
      "needs_background": "light"
     },
     "output_type": "display_data"
    }
   ],
   "source": [
    "plt.scatter(df.ampl_rec, df.amplitude_corr)\n",
    "plt.plot([0,12],[0,12])"
   ]
  },
  {
   "cell_type": "code",
   "execution_count": 8,
   "metadata": {},
   "outputs": [
    {
     "data": {
      "image/png": "[encoded data removed]",
      "text/plain": [
       "<Figure size 432x288 with 1 Axes>"
      ]
     },
     "metadata": {
      "needs_background": "light"
     },
     "output_type": "display_data"
    }
   ],
   "source": [
    "plt.hist(df.amplitude_ratio_count, bins=np.linspace(0,100,10), histtype=\"step\");"
   ]
  },
  {
   "cell_type": "code",
   "execution_count": 9,
   "metadata": {},
   "outputs": [
    {
     "data": {
      "image/png": "[encoded data removed]",
      "text/plain": [
       "<Figure size 432x288 with 1 Axes>"
      ]
     },
     "metadata": {
      "needs_background": "light"
     },
     "output_type": "display_data"
    }
   ],
   "source": [
    "plt.hist(df.duration_ratio_count, bins=np.linspace(0,100,10), histtype=\"step\");"
   ]
  },
  {
   "cell_type": "code",
   "execution_count": 10,
   "metadata": {},
   "outputs": [
    {
     "data": {
      "image/png": "[encoded data removed]",
      "text/plain": [
       "<Figure size 432x288 with 1 Axes>"
      ]
     },
     "metadata": {
      "needs_background": "light"
     },
     "output_type": "display_data"
    }
   ],
   "source": [
    "plt.scatter(df.ed_rec, df.ed_corr)\n",
    "plt.plot([1,3e3],[1,3e3])\n",
    "plt.yscale(\"log\")\n",
    "plt.xscale(\"log\")"
   ]
  },
  {
   "cell_type": "code",
   "execution_count": 11,
   "metadata": {
    "scrolled": true
   },
   "outputs": [
    {
     "data": {
      "image/png": "[encoded data removed]",
      "text/plain": [
       "<Figure size 432x288 with 1 Axes>"
      ]
     },
     "metadata": {
      "needs_background": "light"
     },
     "output_type": "display_data"
    }
   ],
   "source": [
    "plt.hist(df.recovery_probability, bins=np.linspace(0,1,6), histtype=\"step\");"
   ]
  },
  {
   "cell_type": "code",
   "execution_count": 12,
   "metadata": {},
   "outputs": [
    {
     "data": {
      "text/plain": [
       "<Figure size 468x396 with 0 Axes>"
      ]
     },
     "execution_count": 12,
     "metadata": {},
     "output_type": "execute_result"
    },
    {
     "data": {
      "text/plain": [
       "<Figure size 468x396 with 0 Axes>"
      ]
     },
     "metadata": {},
     "output_type": "display_data"
    }
   ],
   "source": [
    "#correct for magnitudes\n",
    "plt.figure(figsize=(6.5,5.5))\n",
    "#plt.hist(df.TESSmag, bins=20)\n"
   ]
  },
  {
   "cell_type": "code",
   "execution_count": 13,
   "metadata": {},
   "outputs": [],
   "source": [
    "df = df[~np.isnan(df.recovery_probability)]\n",
    "df = df.sort_values(by=\"ed_corr\", ascending=False)\n",
    "df = df[~df.ed_corr.isnull() & np.isfinite(df.ed_corr)]\n",
    "df[\"encorrprob\"] = 1./df.recovery_probability.values"
   ]
  },
  {
   "cell_type": "code",
   "execution_count": 14,
   "metadata": {},
   "outputs": [
    {
     "ename": "NameError",
     "evalue": "name 'freq' is not defined",
     "output_type": "error",
     "traceback": [
      "\u001b[0;31m---------------------------------------------------------------------------\u001b[0m",
      "\u001b[0;31mNameError\u001b[0m                                 Traceback (most recent call last)",
      "\u001b[0;32m<ipython-input-14-9dee96cb9d4a>\u001b[0m in \u001b[0;36m<module>\u001b[0;34m\u001b[0m\n\u001b[0;32m----> 1\u001b[0;31m \u001b[0mfreq\u001b[0m\u001b[0;34m\u001b[0m\u001b[0;34m\u001b[0m\u001b[0m\n\u001b[0m",
      "\u001b[0;31mNameError\u001b[0m: name 'freq' is not defined"
     ]
    }
   ],
   "source": [
    "freq"
   ]
  },
  {
   "cell_type": "code",
   "execution_count": null,
   "metadata": {},
   "outputs": [],
   "source": [
    "#df[df.TESSmag>10].TESSmag.hist()"
   ]
  },
  {
   "cell_type": "code",
   "execution_count": null,
   "metadata": {},
   "outputs": [],
   "source": [
    "#df = df[df.TESSmag>10]"
   ]
  },
  {
   "cell_type": "code",
   "execution_count": null,
   "metadata": {
    "scrolled": false
   },
   "outputs": [],
   "source": [
    "#df[['ed_rec', 'ed_corr','TIC',\"sector\", \"TESSmag\"]].tail(25)"
   ]
  },
  {
   "cell_type": "code",
   "execution_count": 15,
   "metadata": {},
   "outputs": [],
   "source": [
    "df.TIC = np.arange(df.shape[0])"
   ]
  },
  {
   "cell_type": "code",
   "execution_count": 52,
   "metadata": {
    "scrolled": false
   },
   "outputs": [
    {
     "name": "stdout",
     "output_type": "stream",
     "text": [
      "581.8499111024673\n"
     ]
    },
    {
     "data": {
      "text/plain": [
       "(5544.188867671135, 1340.3970032378065, 0.0005929247797337993)"
      ]
     },
     "execution_count": 52,
     "metadata": {},
     "output_type": "execute_result"
    },
    {
     "data": {
      "image/png": "[encoded data removed]",
      "text/plain": [
       "<Figure size 468x396 with 1 Axes>"
      ]
     },
     "metadata": {
      "needs_background": "light"
     },
     "output_type": "display_data"
    }
   ],
   "source": [
    "df = df[~np.isnan(df.recovery_probability) & (df.recovery_probability > 0)]\n",
    "df = df.sort_values(by=\"ed_corr\", ascending=False)\n",
    "df = df[~df.ed_corr.isnull() & np.isfinite(df.ed_corr)]\n",
    "#df[\"encorrprob\"] = 1./df.recovery_probability.values/np.array(freq)\n",
    "df = df.sort_values(by=\"ed_corr\", ascending=True)\n",
    "freq = []\n",
    "for i in range(df.shape[0]):\n",
    "    f = df.iloc[:i+1]\n",
    "    freq.append(len(set(f.TIC.values)))\n",
    "\n",
    "df = df.sort_values(by=\"ed_corr\", ascending=False)\n",
    "\n",
    "#for spt, df in F.groupby(\"spt\"):\n",
    "    #print(la)\n",
    "    #df = df[(df.TESSmag > 11.14) & (df.TESSmag <11.3)]\n",
    "fig, ax = plt.subplots(1,figsize=(6.5,5.5))\n",
    "plt.scatter(df.ed_rec.sort_values(ascending=False), np.cumsum(1/np.array(freq[::-1])*len(freq)), c=\"k\", label=\"no correction\")\n",
    "plt.scatter(df.ed_corr.sort_values(ascending=False), np.cumsum(1/np.array(freq[::-1]))*len(freq), c=\"g\", label=\"energy ratio correction only\")\n",
    "plt.scatter(df.ed_corr.sort_values(ascending=False), np.cumsum(1./df.recovery_probability.values/np.array(freq[::-1]))*len(freq), c=\"r\", label=\"energy ratio and recovery probability correction\")\n",
    "#plt.scatter(df.ed_corr.sort_values(ascending=False), np.cumsum(1./df.recovery_probability.values), c=\"orange\", label=\"energy ratio and recovery probability correction\")\n",
    "\n",
    "\n",
    "a = df.ed_corr.values\n",
    "f = np.cumsum(1./df.recovery_probability.values/np.array(freq[::-1]))*len(freq)\n",
    "alpha,alpha_err = 2., .2\n",
    "#print(a)#, np.delete(a,0),len(freq))\n",
    "beta, beta_err = fit_beta_to_powerlaw(a,f, alpha, alpha_err,1)\n",
    "\n",
    "#fig, ax = plt.subplots(1,figsize=(10,8))\n",
    "plot_powerlaw(ax, a, alpha, beta, mode=\"ED\")\n",
    "plt.plot([10,1000],[1/177,1/177])\n",
    "plt.xscale('log')\n",
    "plt.yscale('log')\n",
    "plt.xlabel(\"ED [s]\")#\"flare energy in TESS band [erg]\")\n",
    "plt.ylabel(\"cumulative number of flares\")\n",
    "#plt.title(spt)\n",
    "plt.legend()\n",
    "#     plt.figure(figsize=(6.5,5.5))\n",
    "#     plt.hist(df.TESSmag)\n",
    "#     plt.title(spt)\n",
    "# #plt.savefig(\"plots/{}_FFD_two_step_correction.png\".format(today), dpi=300)\n",
    "plt.ylim(1e-1,1e4)\n",
    "a[0],f[-1], 3.28728696316649/a[0]"
   ]
  },
  {
   "cell_type": "code",
   "execution_count": 36,
   "metadata": {},
   "outputs": [
    {
     "data": {
      "text/plain": [
       "(0.0061016949152542365, 0.006097560975609756)"
      ]
     },
     "execution_count": 36,
     "metadata": {},
     "output_type": "execute_result"
    }
   ],
   "source": [
    "f[0], 1/164"
   ]
  },
  {
   "cell_type": "code",
   "execution_count": null,
   "metadata": {},
   "outputs": [],
   "source": [
    "#df = df[df.recovery_probability > .2]\n",
    "\n",
    "\n",
    "df = df.sort_values(by=\"ed_rec\", ascending=False)\n",
    "df['probnocorrcum'] = np.cumsum(1/np.array(freq[::-1])*freq[-1])\n",
    "df['sortededrec'] =df.ed_rec.sort_values(ascending=False)\n",
    "df = df.sort_values(by=\"ed_corr\", ascending=False)\n",
    "df = df[(~df.ed_corr.isnull()) & (np.isfinite(df.ed_corr)) & (df.recovery_probability >0.10) ]\n",
    "df[\"ed_corrprob\"] = 1/df.recovery_probability.values/np.array(freq[::-1])*freq[-1]\n",
    "df[\"ed_corrprob_err\"] = df.recovery_probability_std / df.recovery_probability**2\n",
    "df[\"ed_corrprobcum\"] = np.cumsum(df.ed_corrprob.values)\n",
    "\n",
    "\n",
    "plt.figure(figsize=(6.5,5.5))\n",
    "for l, row in df.iterrows():\n",
    "    plt.plot([row.sortededrec, row.ed_corr], [row.probnocorrcum, row.ed_corrprobcum],c=\"grey\",alpha=.5)\n",
    "plt.scatter(df[\"sortededrec\"], df[\"probnocorrcum\"], label=\"no correction\", c=\"k\")#, condition {}\".format(label))\n",
    "plt.scatter(df.ed_corr, df[\"ed_corrprobcum\"], label=\"energy ratio and recovery probability correction\", c=\"r\")#, condition {}\".format(label))\n",
    "plt.plot([10, 4000],[4000, 10], label=\"slope=-1\", linestyle=\"dashed\", c=\"grey\", linewidth=3)\n",
    "plt.xscale('log')\n",
    "plt.yscale('log')\n",
    "#plt.ylim(.8,250)\n",
    "#plt.xlim(5,4000)\n",
    "plt.xlabel(\"ED [s]\")#\"flare energy in TESS band [erg]\")\n",
    "plt.ylabel(\"cumulative number of flares\")\n",
    "plt.legend()\n",
    "#plt.savefig(\"plots/{}_FFD_flare_correspondence_correction.png\".format(today), dpi=300)"
   ]
  },
  {
   "cell_type": "code",
   "execution_count": null,
   "metadata": {},
   "outputs": [],
   "source": [
    "df.shape"
   ]
  },
  {
   "cell_type": "code",
   "execution_count": null,
   "metadata": {},
   "outputs": [],
   "source": []
  }
 ],
 "metadata": {
  "kernelspec": {
   "display_name": "flaresinclustersii",
   "language": "python",
   "name": "flaresinclustersii"
  },
  "language_info": {
   "codemirror_mode": {
    "name": "ipython",
    "version": 3
   },
   "file_extension": ".py",
   "mimetype": "text/x-python",
   "name": "python",
   "nbconvert_exporter": "python",
   "pygments_lexer": "ipython3",
   "version": "3.6.9"
  }
 },
 "nbformat": 4,
 "nbformat_minor": 2
}
