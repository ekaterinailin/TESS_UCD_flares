{
 "cells": [
  {
   "cell_type": "code",
   "execution_count": 1,
   "metadata": {},
   "outputs": [],
   "source": [
    "import numpy as np\n",
    "import pandas as pd\n",
    "\n",
    "import matplotlib.pyplot as plt\n",
    "%matplotlib inline\n",
    "\n",
    "from funcs.ffd import FFD\n",
    "\n",
    "import time\n",
    "tstamp = time.strftime(\"%d_%m_%Y_%H_%M\", time.localtime())"
   ]
  },
  {
   "cell_type": "code",
   "execution_count": 2,
   "metadata": {
    "scrolled": true
   },
   "outputs": [
    {
     "data": {
      "text/html": [
       "<div>\n",
       "<style scoped>\n",
       "    .dataframe tbody tr th:only-of-type {\n",
       "        vertical-align: middle;\n",
       "    }\n",
       "\n",
       "    .dataframe tbody tr th {\n",
       "        vertical-align: top;\n",
       "    }\n",
       "\n",
       "    .dataframe thead th {\n",
       "        text-align: right;\n",
       "    }\n",
       "</style>\n",
       "<table border=\"1\" class=\"dataframe\">\n",
       "  <thead>\n",
       "    <tr style=\"text-align: right;\">\n",
       "      <th></th>\n",
       "      <th>ampl_rec</th>\n",
       "      <th>cstart</th>\n",
       "      <th>cstop</th>\n",
       "      <th>ed_rec</th>\n",
       "      <th>ed_rec_err</th>\n",
       "      <th>istart</th>\n",
       "      <th>istop</th>\n",
       "      <th>total_n_valid_data_points</th>\n",
       "      <th>tstart</th>\n",
       "      <th>tstop</th>\n",
       "      <th>...</th>\n",
       "      <th>recovery_probability_count</th>\n",
       "      <th>ed_ratio_std</th>\n",
       "      <th>amplitude_ratio_std</th>\n",
       "      <th>duration_ratio_std</th>\n",
       "      <th>recovery_probability_std</th>\n",
       "      <th>ed_corr_err</th>\n",
       "      <th>amplitude_corr_err</th>\n",
       "      <th>duration_corr_err</th>\n",
       "      <th>TIC</th>\n",
       "      <th>sector</th>\n",
       "    </tr>\n",
       "  </thead>\n",
       "  <tbody>\n",
       "    <tr>\n",
       "      <th>0</th>\n",
       "      <td>0.054356</td>\n",
       "      <td>119297</td>\n",
       "      <td>119306</td>\n",
       "      <td>35.835830</td>\n",
       "      <td>1.763268</td>\n",
       "      <td>4923</td>\n",
       "      <td>4932</td>\n",
       "      <td>12835.0</td>\n",
       "      <td>1393.151454</td>\n",
       "      <td>1393.163954</td>\n",
       "      <td>...</td>\n",
       "      <td>NaN</td>\n",
       "      <td>NaN</td>\n",
       "      <td>NaN</td>\n",
       "      <td>NaN</td>\n",
       "      <td>NaN</td>\n",
       "      <td>NaN</td>\n",
       "      <td>NaN</td>\n",
       "      <td>NaN</td>\n",
       "      <td>NaN</td>\n",
       "      <td>NaN</td>\n",
       "    </tr>\n",
       "    <tr>\n",
       "      <th>1</th>\n",
       "      <td>0.101038</td>\n",
       "      <td>152637</td>\n",
       "      <td>152644</td>\n",
       "      <td>30.406816</td>\n",
       "      <td>1.828507</td>\n",
       "      <td>586</td>\n",
       "      <td>593</td>\n",
       "      <td>16349.0</td>\n",
       "      <td>1439.452361</td>\n",
       "      <td>1439.462083</td>\n",
       "      <td>...</td>\n",
       "      <td>33.0</td>\n",
       "      <td>0.124723</td>\n",
       "      <td>0.135370</td>\n",
       "      <td>0.292849</td>\n",
       "      <td>0.331434</td>\n",
       "      <td>7.910980</td>\n",
       "      <td>0.017503</td>\n",
       "      <td>0.005243</td>\n",
       "      <td>NaN</td>\n",
       "      <td>NaN</td>\n",
       "    </tr>\n",
       "    <tr>\n",
       "      <th>2</th>\n",
       "      <td>0.018912</td>\n",
       "      <td>159470</td>\n",
       "      <td>159473</td>\n",
       "      <td>5.704301</td>\n",
       "      <td>0.547990</td>\n",
       "      <td>7393</td>\n",
       "      <td>7396</td>\n",
       "      <td>16349.0</td>\n",
       "      <td>1448.940559</td>\n",
       "      <td>1448.944725</td>\n",
       "      <td>...</td>\n",
       "      <td>34.0</td>\n",
       "      <td>0.128436</td>\n",
       "      <td>0.145729</td>\n",
       "      <td>0.256401</td>\n",
       "      <td>0.507519</td>\n",
       "      <td>2.038336</td>\n",
       "      <td>0.003150</td>\n",
       "      <td>0.004284</td>\n",
       "      <td>NaN</td>\n",
       "      <td>NaN</td>\n",
       "    </tr>\n",
       "    <tr>\n",
       "      <th>3</th>\n",
       "      <td>0.028682</td>\n",
       "      <td>164325</td>\n",
       "      <td>164340</td>\n",
       "      <td>28.611778</td>\n",
       "      <td>0.814129</td>\n",
       "      <td>10837</td>\n",
       "      <td>10852</td>\n",
       "      <td>16349.0</td>\n",
       "      <td>1455.683582</td>\n",
       "      <td>1455.704416</td>\n",
       "      <td>...</td>\n",
       "      <td>26.0</td>\n",
       "      <td>0.093004</td>\n",
       "      <td>0.093889</td>\n",
       "      <td>0.272593</td>\n",
       "      <td>0.000000</td>\n",
       "      <td>5.385723</td>\n",
       "      <td>0.003042</td>\n",
       "      <td>0.008833</td>\n",
       "      <td>NaN</td>\n",
       "      <td>NaN</td>\n",
       "    </tr>\n",
       "    <tr>\n",
       "      <th>4</th>\n",
       "      <td>0.028935</td>\n",
       "      <td>167643</td>\n",
       "      <td>167655</td>\n",
       "      <td>20.634373</td>\n",
       "      <td>0.626127</td>\n",
       "      <td>14148</td>\n",
       "      <td>14160</td>\n",
       "      <td>16349.0</td>\n",
       "      <td>1460.291909</td>\n",
       "      <td>1460.308576</td>\n",
       "      <td>...</td>\n",
       "      <td>33.0</td>\n",
       "      <td>0.093004</td>\n",
       "      <td>0.093889</td>\n",
       "      <td>0.272593</td>\n",
       "      <td>0.000000</td>\n",
       "      <td>3.890185</td>\n",
       "      <td>0.003069</td>\n",
       "      <td>0.007066</td>\n",
       "      <td>NaN</td>\n",
       "      <td>NaN</td>\n",
       "    </tr>\n",
       "  </tbody>\n",
       "</table>\n",
       "<p>5 rows × 31 columns</p>\n",
       "</div>"
      ],
      "text/plain": [
       "   ampl_rec  cstart   cstop     ed_rec  ed_rec_err  istart  istop  \\\n",
       "0  0.054356  119297  119306  35.835830    1.763268    4923   4932   \n",
       "1  0.101038  152637  152644  30.406816    1.828507     586    593   \n",
       "2  0.018912  159470  159473   5.704301    0.547990    7393   7396   \n",
       "3  0.028682  164325  164340  28.611778    0.814129   10837  10852   \n",
       "4  0.028935  167643  167655  20.634373    0.626127   14148  14160   \n",
       "\n",
       "   total_n_valid_data_points       tstart        tstop  ...  \\\n",
       "0                    12835.0  1393.151454  1393.163954  ...   \n",
       "1                    16349.0  1439.452361  1439.462083  ...   \n",
       "2                    16349.0  1448.940559  1448.944725  ...   \n",
       "3                    16349.0  1455.683582  1455.704416  ...   \n",
       "4                    16349.0  1460.291909  1460.308576  ...   \n",
       "\n",
       "   recovery_probability_count  ed_ratio_std  amplitude_ratio_std  \\\n",
       "0                         NaN           NaN                  NaN   \n",
       "1                        33.0      0.124723             0.135370   \n",
       "2                        34.0      0.128436             0.145729   \n",
       "3                        26.0      0.093004             0.093889   \n",
       "4                        33.0      0.093004             0.093889   \n",
       "\n",
       "   duration_ratio_std  recovery_probability_std  ed_corr_err  \\\n",
       "0                 NaN                       NaN          NaN   \n",
       "1            0.292849                  0.331434     7.910980   \n",
       "2            0.256401                  0.507519     2.038336   \n",
       "3            0.272593                  0.000000     5.385723   \n",
       "4            0.272593                  0.000000     3.890185   \n",
       "\n",
       "   amplitude_corr_err  duration_corr_err  TIC  sector  \n",
       "0                 NaN                NaN  NaN     NaN  \n",
       "1            0.017503           0.005243  NaN     NaN  \n",
       "2            0.003150           0.004284  NaN     NaN  \n",
       "3            0.003042           0.008833  NaN     NaN  \n",
       "4            0.003069           0.007066  NaN     NaN  \n",
       "\n",
       "[5 rows x 31 columns]"
      ]
     },
     "execution_count": 2,
     "metadata": {},
     "output_type": "execute_result"
    }
   ],
   "source": [
    "df = pd.read_csv(\"../flare_tables/20200218_vetted_flares.csv\",\n",
    "                names=['ampl_rec','cstart','cstop','ed_rec','ed_rec_err',\n",
    "                    'istart', 'istop','total_n_valid_data_points', \n",
    "                    'tstart', 'tstop',  'dur', 'ed_ratio','ed_ratio_count',\n",
    "            'amplitude_ratio','amplitude_ratio_count','duration_ratio','duration_ratio_count',\n",
    "            'amplitude_corr','duration_corr','ed_corr','recovery_probability','recovery_probability_count',\n",
    "            'ed_ratio_std','amplitude_ratio_std','duration_ratio_std','recovery_probability_std',\n",
    "            'ed_corr_err','amplitude_corr_err','duration_corr_err',\"TIC\",\"sector\"])\n",
    "              \n",
    "#spts = pd.read_csv(\"../flare_tables/spts.csv\")\n",
    "\n",
    "#spts.head()\n",
    "#df = df.merge(spts[[\"TIC\",\"spt\",\"TESSmag\"]],on=\"TIC\")\n",
    "df.head()"
   ]
  },
  {
   "cell_type": "code",
   "execution_count": null,
   "metadata": {},
   "outputs": [],
   "source": [
    "totobs = df.groupby([\"TIC\",\"sector\"]).total_n_valid_data_points.apply(lambda x: x.iloc[0]).sum()/30./24./365.25"
   ]
  },
  {
   "cell_type": "code",
   "execution_count": null,
   "metadata": {},
   "outputs": [],
   "source": [
    "totobs"
   ]
  },
  {
   "cell_type": "code",
   "execution_count": null,
   "metadata": {},
   "outputs": [],
   "source": [
    "plt.hist(df.recovery_probability_count, bins=np.linspace(0,50,10), histtype=\"step\");"
   ]
  },
  {
   "cell_type": "code",
   "execution_count": null,
   "metadata": {},
   "outputs": [],
   "source": [
    "plt.hist(df.ed_ratio_count, bins=np.linspace(0,50,10), histtype=\"step\");"
   ]
  },
  {
   "cell_type": "code",
   "execution_count": null,
   "metadata": {},
   "outputs": [],
   "source": [
    "plt.scatter(df.ampl_rec, df.amplitude_corr)\n",
    "plt.plot([0,12],[0,12])"
   ]
  },
  {
   "cell_type": "code",
   "execution_count": null,
   "metadata": {},
   "outputs": [],
   "source": [
    "plt.hist(df.amplitude_ratio_count, bins=np.linspace(0,300,10), histtype=\"step\");"
   ]
  },
  {
   "cell_type": "code",
   "execution_count": null,
   "metadata": {},
   "outputs": [],
   "source": [
    "plt.hist(df.duration_ratio_count, bins=np.linspace(0,300,10), histtype=\"step\");"
   ]
  },
  {
   "cell_type": "code",
   "execution_count": null,
   "metadata": {},
   "outputs": [],
   "source": [
    "plt.scatter(df.ed_rec, df.ed_corr)\n",
    "plt.plot([1,3e3],[1,3e3])\n",
    "plt.yscale(\"log\")\n",
    "plt.xscale(\"log\")"
   ]
  },
  {
   "cell_type": "code",
   "execution_count": null,
   "metadata": {
    "scrolled": true
   },
   "outputs": [],
   "source": [
    "plt.hist(df.recovery_probability, bins=np.linspace(0,1,6), histtype=\"step\");"
   ]
  },
  {
   "cell_type": "code",
   "execution_count": null,
   "metadata": {},
   "outputs": [],
   "source": [
    "#correct for magnitudes\n",
    "plt.figure(figsize=(6.5,5.5))\n",
    "plt.hist(df.TESSmag, bins=20);\n"
   ]
  },
  {
   "cell_type": "code",
   "execution_count": null,
   "metadata": {},
   "outputs": [],
   "source": [
    "df[df.TESSmag>10].TESSmag.hist()"
   ]
  },
  {
   "cell_type": "markdown",
   "metadata": {
    "scrolled": false
   },
   "source": [
    "### FFDs\n",
    "\n",
    "\n",
    "#### plots\n",
    "\n",
    "- one star\n",
    "- multiple stars\n",
    "\n",
    "#### modes\n",
    "\n",
    "- corrected for energy\n",
    "- corrected for energy and recovery probability\n",
    "- uncorrected\n",
    "\n",
    "\n",
    "#### functions\n",
    "\n",
    "- fit powerlaw\n",
    "- fit beta\n",
    "\n",
    "#### attributes\n",
    "\n",
    "- dataframe a la flc.flares\n",
    "- alpha, beta, and errors\n",
    "\n",
    "\n",
    "### Not included\n",
    "\n",
    "- cutoff recovery probability\n",
    "- cutoff energy"
   ]
  },
  {
   "cell_type": "code",
   "execution_count": 3,
   "metadata": {
    "scrolled": false
   },
   "outputs": [
    {
     "data": {
      "text/plain": [
       "<matplotlib.legend.Legend at 0x7f8dab779710>"
      ]
     },
     "execution_count": 3,
     "metadata": {},
     "output_type": "execute_result"
    },
    {
     "data": {
      "image/png": "[encoded data removed]",
      "text/plain": [
       "<Figure size 612x540 with 1 Axes>"
      ]
     },
     "metadata": {
      "needs_background": "light"
     },
     "output_type": "display_data"
    }
   ],
   "source": [
    "df[\"TIC\"] = np.arange(df.shape[0])%13\n",
    "df = df[~np.isnan(df.recovery_probability) & (df.recovery_probability > 0.2)]\n",
    "df = df.sort_values(by=\"ed_corr\", ascending=False)\n",
    "df = df[~df.ed_corr.isnull() & np.isfinite(df.ed_corr) & (df.ed_corr > 6)]\n",
    "\n",
    "ffd = FFD(df,ID=\"TIC\")\n",
    "ffd.alpha, ffd.alpha_err = 2., .2\n",
    "ffd.tot_obs_time = 1.\n",
    "\n",
    "fig, ax = plt.subplots(1,figsize=(8.5,7.5))\n",
    "\n",
    "# No correction, single star mode\n",
    "ed, freq = ffd.ed_and_freq( energy_correction=False,\n",
    "                            recovery_probability_correction=False,\n",
    "                             multiple_stars=False)\n",
    "ax.scatter(ed, freq, c=\"c\", label=\"no correction\",alpha=.2)\n",
    "_beta, ffd.beta, beta_err = ffd.fit_beta_to_powerlaw(ed,freq, mode=\"ED\")\n",
    "ffd.plot_powerlaw(ax, ed, c=\"k\", alpha=.2, label=\"no correction\")\n",
    "\n",
    "# ED correction, single star mode\n",
    "ed, freq = ffd.ed_and_freq( energy_correction=True,\n",
    "                            recovery_probability_correction=False,\n",
    "                             multiple_stars=False)\n",
    "ax.scatter(ed, freq, c=\"c\", label=\"no correction\",alpha=.5)\n",
    "_beta, beta, beta_err = ffd.fit_beta_to_powerlaw(ed,freq, mode=\"ED\")\n",
    "ffd.plot_powerlaw(ax, ed, c=\"k\",alpha=.5, label=\"ED correction\")\n",
    "\n",
    "\n",
    "# ED and recprob correction, single star mode\n",
    "ed, freq = ffd.ed_and_freq( energy_correction=True,\n",
    "                            recovery_probability_correction=True,\n",
    "                             multiple_stars=False)\n",
    "ax.scatter(ed, freq, c=\"c\",alpha=1, label=\"no correction\")\n",
    "_beta, beta, beta_err = ffd.fit_beta_to_powerlaw(ed,freq, mode=\"ED\")\n",
    "ffd.plot_powerlaw(ax, ed, c=\"k\",alpha=1, label=\"ED and recprob correction\")\n",
    "\n",
    "\n",
    "\n",
    "\n",
    "# No correction, multiple star mode\n",
    "ed, freq = ffd.ed_and_freq( energy_correction=False,\n",
    "                            recovery_probability_correction=False,\n",
    "                             multiple_stars=True)\n",
    "ax.scatter(ed, freq, c=\"r\", label=\"no correction\",alpha=.2)\n",
    "_beta, beta, beta_err = ffd.fit_beta_to_powerlaw(ed,freq, mode=\"ED\")\n",
    "ffd.plot_powerlaw(ax, ed, c=\"k\", alpha=.2, label=\"no correction\")\n",
    "\n",
    "# ED correction, multiple star mode\n",
    "ed, freq = ffd.ed_and_freq( energy_correction=True,\n",
    "                            recovery_probability_correction=False,\n",
    "                             multiple_stars=True)\n",
    "ax.scatter(ed, freq, c=\"r\", label=\"no correction\",alpha=.5)\n",
    "_beta, beta, beta_err = ffd.fit_beta_to_powerlaw(ed,freq, mode=\"ED\")\n",
    "ffd.plot_powerlaw(ax, ed, c=\"k\",alpha=.5, label=\"ED correction\")\n",
    "\n",
    "\n",
    "# ED and recprob correction, multiple star mode\n",
    "ed, freq = ffd.ed_and_freq( energy_correction=True,\n",
    "                            recovery_probability_correction=True,\n",
    "                             multiple_stars=True)\n",
    "ax.scatter(ed, freq, c=\"r\",alpha=1, label=\"no correction\")\n",
    "_beta, beta, beta_err = ffd.fit_beta_to_powerlaw(ed,freq, mode=\"ED\")\n",
    "ffd.plot_powerlaw(ax, ed, c=\"k\",alpha=1, label=\"ED and recprob correction\")\n",
    "\n",
    "\n",
    "plt.xscale('log')\n",
    "plt.yscale('log')\n",
    "plt.xlabel(\"ED [s]\")#\"flare energy in TESS band [erg]\")\n",
    "plt.ylabel(\"cumulative number of flares per year\")\n",
    "# #plt.title(spt)\n",
    "plt.legend(fontsize=14)\n",
    "# #     plt.figure(figsize=(6.5,5.5))\n",
    "# #     plt.hist(df.TESSmag)\n",
    "# #     plt.title(spt)\n",
    "\n",
    "# plt.ylim(.1,1e3)\n",
    "# plt.xlim(1,10000)\n",
    "# # for x,z in zip(a,f):\n",
    "# #     print(x,z)\n",
    "# # print(df.shape)\n",
    "# plt.savefig(f\"../plots/{tstamp}_FFD_two_step_correction.png\".format(tstamp), dpi=300)"
   ]
  },
  {
   "cell_type": "code",
   "execution_count": 7,
   "metadata": {},
   "outputs": [
    {
     "name": "stderr",
     "output_type": "stream",
     "text": [
      "/home/ekaterina/Documents/001_Science/TESS_UCDs/TESS_UCD_flares/notebook/funcs/ffd.py:248: UserWarning: Kolmogorov-Smirnov tells us to reject the power law hypothesis at p=0.05. KS=0.3869318583646213, limit=0.0730119898114961\n",
      "  ' KS={}, limit={}'.format(sig_level, KS, limit))\n"
     ]
    },
    {
     "data": {
      "text/plain": [
       "(False, False)"
      ]
     },
     "execution_count": 7,
     "metadata": {},
     "output_type": "execute_result"
    }
   ],
   "source": [
    "ed, freq = ffd.ed_and_freq( energy_correction=True,\n",
    "                            recovery_probability_correction=True,\n",
    "                             multiple_stars=True)\n",
    "ffd.is_powerlaw(ed),  ffd.is_powerlaw_truncated(ed)"
   ]
  },
  {
   "cell_type": "code",
   "execution_count": null,
   "metadata": {},
   "outputs": [],
   "source": [
    "#df = df[df.recovery_probability > .2]\n",
    "\n",
    "\n",
    "df = df.sort_values(by=\"ed_rec\", ascending=False)\n",
    "#df['probnocorrcum'] = np.cumsum(1/np.array(freq[::-1])*freq[-1])\n",
    "df['probnocorrcum'] = np.cumsum(np.ones_like(freq))\n",
    "df['sortededrec'] =df.ed_rec.sort_values(ascending=False)\n",
    "df = df.sort_values(by=\"ed_corr\", ascending=False)\n",
    "df = df[(~df.ed_corr.isnull()) & (np.isfinite(df.ed_corr)) & (df.recovery_probability >0.0) ]\n",
    "df[\"ed_corrprob\"] = 1/df.recovery_probability.values\n",
    "df[\"ed_corrprob_err\"] = df.recovery_probability_std / df.recovery_probability**2\n",
    "df[\"ed_corrprobcum\"] = np.cumsum(df.ed_corrprob.values)\n",
    "\n",
    "\n",
    "plt.figure(figsize=(6.5,5.5))\n",
    "for l, row in df.iterrows():\n",
    "    plt.plot([row.sortededrec, row.ed_corr], [row.probnocorrcum, row.ed_corrprobcum],c=\"grey\",alpha=.5)\n",
    "plt.scatter(df[\"sortededrec\"], df[\"probnocorrcum\"], label=\"no correction\", c=\"k\")#, condition {}\".format(label))\n",
    "plt.scatter(df.ed_corr, df[\"ed_corrprobcum\"], label=\"energy ratio and recovery probability correction\", c=\"r\")#, condition {}\".format(label))\n",
    "plt.plot([10, 4000],[4000, 10], label=\"slope=-1\", linestyle=\"dashed\", c=\"grey\", linewidth=3)\n",
    "plt.xscale('log')\n",
    "plt.yscale('log')\n",
    "#plt.ylim(.8,250)\n",
    "#plt.xlim(5,4000)\n",
    "plt.xlabel(\"ED [s]\")#\"flare energy in TESS band [erg]\")\n",
    "plt.ylabel(\"cumulative number of flares\")\n",
    "plt.legend()\n",
    "#plt.savefig(\"plots/{}_FFD_flare_correspondence_correction.png\".format(today), dpi=300)"
   ]
  },
  {
   "cell_type": "code",
   "execution_count": null,
   "metadata": {},
   "outputs": [],
   "source": [
    "f\n"
   ]
  },
  {
   "cell_type": "code",
   "execution_count": null,
   "metadata": {},
   "outputs": [],
   "source": []
  }
 ],
 "metadata": {
  "kernelspec": {
   "display_name": "flaresinclustersii",
   "language": "python",
   "name": "flaresinclustersii"
  },
  "language_info": {
   "codemirror_mode": {
    "name": "ipython",
    "version": 3
   },
   "file_extension": ".py",
   "mimetype": "text/x-python",
   "name": "python",
   "nbconvert_exporter": "python",
   "pygments_lexer": "ipython3",
   "version": "3.6.9"
  }
 },
 "nbformat": 4,
 "nbformat_minor": 2
}
