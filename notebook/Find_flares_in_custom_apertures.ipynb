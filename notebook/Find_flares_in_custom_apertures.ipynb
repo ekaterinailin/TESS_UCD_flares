{
 "cells": [
  {
   "cell_type": "code",
   "execution_count": 1,
   "metadata": {},
   "outputs": [
    {
     "name": "stderr",
     "output_type": "stream",
     "text": [
      "/usr/lib/python3.6/importlib/_bootstrap_external.py:426: ImportWarning: Not importing directory /home/ekaterina/Documents/001_Science/Flares_in_Clusters_II/flaresinclustersii/lib/python3.6/site-packages/mpl_toolkits: missing __init__\n",
      "  _warnings.warn(msg.format(portions[0]), ImportWarning)\n",
      "/usr/lib/python3.6/importlib/_bootstrap.py:219: RuntimeWarning: numpy.ufunc size changed, may indicate binary incompatibility. Expected 192 from C header, got 216 from PyObject\n",
      "  return f(*args, **kwds)\n",
      "/usr/lib/python3.6/importlib/_bootstrap.py:219: RuntimeWarning: numpy.ufunc size changed, may indicate binary incompatibility. Expected 192 from C header, got 216 from PyObject\n",
      "  return f(*args, **kwds)\n",
      "/usr/lib/python3.6/importlib/_bootstrap.py:219: RuntimeWarning: numpy.ufunc size changed, may indicate binary incompatibility. Expected 192 from C header, got 216 from PyObject\n",
      "  return f(*args, **kwds)\n"
     ]
    }
   ],
   "source": [
    "import numpy as np\n",
    "import pandas as pd\n",
    "from astropy.io import fits\n",
    "from altaipony.flarelc import FlareLightCurve\n",
    "import sys\n",
    "\n",
    "import matplotlib.pyplot as plt\n",
    "%matplotlib inline\n",
    "\n",
    "from funcs import write_flares_to_file, read_custom_aperture_lc\n",
    "import os"
   ]
  },
  {
   "cell_type": "code",
   "execution_count": 2,
   "metadata": {},
   "outputs": [
    {
     "data": {
      "text/plain": [
       "191"
      ]
     },
     "execution_count": 2,
     "metadata": {},
     "output_type": "execute_result"
    }
   ],
   "source": [
    "CWD = \"/\".join(os.getcwd().split(\"/\")[:-1])\n",
    "paths = pd.read_csv(f\"{CWD}/custom_aperture/lclist.txt\", header=None)\n",
    "paths = list(paths[0].values)\n",
    "len(paths)"
   ]
  },
  {
   "cell_type": "code",
   "execution_count": null,
   "metadata": {
    "scrolled": true
   },
   "outputs": [
    {
     "name": "stderr",
     "output_type": "stream",
     "text": [
      "/home/ekaterina/Documents/001_Science/Flares_in_Clusters_II/flaresinclustersii/lib/python3.6/site-packages/ipykernel_launcher.py:6: ResourceWarning: unclosed file <_io.FileIO name='/home/ekaterina/Documents/001_Science/TESS_UCDs/TESS_UCD_flares/custom_aperture/0ca_tess2019082014090-s0001-0000000029780677-0000-s_lc.fits' mode='rb' closefd=True>\n",
      "  \n"
     ]
    },
    {
     "name": "stdout",
     "output_type": "stream",
     "text": [
      "0ca_tess2019082014090-s0001-0000000029780677-0000-s_lc.fits \n",
      "\n",
      "\n",
      "Started TIC 29780677 (1), LC nr. 0\n",
      "------------------------------\n",
      "\n"
     ]
    },
    {
     "name": "stderr",
     "output_type": "stream",
     "text": [
      "Found 0 candidate(s) in the (0,9223) gap.\n",
      "Found 2 candidate(s) in the (9223,15240) gap.\n",
      "Found 0 candidate(s) in the (15240,18104) gap.\n",
      "/home/ekaterina/Documents/001_Science/Flares_in_Clusters_II/flaresinclustersii/lib/python3.6/site-packages/pandas/core/frame.py:6692: FutureWarning: Sorting because non-concatenation axis is not aligned. A future version\n",
      "of pandas will change to not sort by default.\n",
      "\n",
      "To accept the future behavior, pass 'sort=False'.\n",
      "\n",
      "To retain the current behavior and silence the warning, pass 'sort=True'.\n",
      "\n",
      "  sort=sort)\n",
      "/home/ekaterina/Documents/001_Science/Flares_in_Clusters_II/flaresinclustersii/lib/python3.6/site-packages/ipykernel_launcher.py:6: ResourceWarning: unclosed file <_io.FileIO name='/home/ekaterina/Documents/001_Science/TESS_UCDs/TESS_UCD_flares/custom_aperture/1ca_tess2019082014114-s0001-0000000142052876-0000-s_lc.fits' mode='rb' closefd=True>\n",
      "  \n"
     ]
    },
    {
     "name": "stdout",
     "output_type": "stream",
     "text": [
      "Create a file named /home/ekaterina/Documents/001_Science/TESS_UCDs/TESS_UCD_flares/flare_tables/2019_10_27_TESSUCDs_flares.csv\n",
      "   ampl_rec cstart  cstop       ed_rec  ed_rec_err istart  istop  \\\n",
      "0  2.421832  81084  81109  1449.582635   11.578788   9519   9544   \n",
      "1  0.179638  83396  83405   153.030837    9.732029  11803  11812   \n",
      "\n",
      "   total_n_valid_data_points       tstart        tstop       TIC  Campaign  \n",
      "0                    18104.0  1340.073105  1340.107828  29780677         1  \n",
      "1                    18104.0  1343.284226  1343.296726  29780677         1  \n",
      "\n",
      "Finished TIC 29780677 (1)\n",
      "------------------------------\n",
      "\n",
      "1ca_tess2019082014114-s0001-0000000142052876-0000-s_lc.fits \n",
      "\n",
      "\n",
      "Started TIC 142052876 (1), LC nr. 1\n",
      "------------------------------\n",
      "\n"
     ]
    },
    {
     "name": "stderr",
     "output_type": "stream",
     "text": [
      "Found 1 candidate(s) in the (0,9223) gap.\n",
      "Found 0 candidate(s) in the (9223,15240) gap.\n",
      "Found 1 candidate(s) in the (15240,18104) gap.\n",
      "/home/ekaterina/Documents/001_Science/Flares_in_Clusters_II/flaresinclustersii/lib/python3.6/site-packages/ipykernel_launcher.py:6: ResourceWarning: unclosed file <_io.FileIO name='/home/ekaterina/Documents/001_Science/TESS_UCDs/TESS_UCD_flares/custom_aperture/2ca_tess2019082014592-s0001-0000000167894019-0000-s_lc.fits' mode='rb' closefd=True>\n",
      "  \n"
     ]
    },
    {
     "name": "stdout",
     "output_type": "stream",
     "text": [
      "   ampl_rec cstart  cstop      ed_rec  ed_rec_err istart  istop  \\\n",
      "0  0.090806  77718  77724   29.400003    1.222826   7009   7015   \n",
      "1  0.448444  90442  90461  176.594194    1.506780  18026  18045   \n",
      "\n",
      "   total_n_valid_data_points       tstart        tstop        TIC  Campaign  \n",
      "0                    18104.0  1335.397790  1335.406123  142052876         1  \n",
      "1                    18104.0  1353.069724  1353.096113  142052876         1  \n",
      "\n",
      "Finished TIC 142052876 (1)\n",
      "------------------------------\n",
      "\n",
      "2ca_tess2019082014592-s0001-0000000167894019-0000-s_lc.fits \n",
      "\n",
      "\n",
      "Started TIC 167894019 (1), LC nr. 2\n",
      "------------------------------\n",
      "\n"
     ]
    },
    {
     "name": "stderr",
     "output_type": "stream",
     "text": [
      "Found 1 candidate(s) in the (0,9223) gap.\n",
      "Found 3 candidate(s) in the (9223,15240) gap.\n",
      "Found 1 candidate(s) in the (15240,18104) gap.\n",
      "/home/ekaterina/Documents/001_Science/Flares_in_Clusters_II/flaresinclustersii/lib/python3.6/site-packages/ipykernel_launcher.py:6: ResourceWarning: unclosed file <_io.FileIO name='/home/ekaterina/Documents/001_Science/TESS_UCDs/TESS_UCD_flares/custom_aperture/3ca_tess2019090408595-s0001-0000000220429097-0000-s_lc.fits' mode='rb' closefd=True>\n",
      "  \n"
     ]
    },
    {
     "name": "stdout",
     "output_type": "stream",
     "text": [
      "   ampl_rec cstart  cstop     ed_rec  ed_rec_err istart  istop  \\\n",
      "0  0.251065  74599  74605  73.898031    1.497699   4017   4023   \n",
      "1  0.096914  80980  80987  48.193193    1.775145   9415   9422   \n",
      "2  0.098535  82713  82716  23.676233    1.173860  11122  11125   \n",
      "3  0.045819  83273  83276  13.645455    1.276252  11680  11683   \n",
      "4  0.090382  88092  88097  34.659818    1.523362  15706  15711   \n",
      "\n",
      "   total_n_valid_data_points       tstart        tstop        TIC  Campaign  \n",
      "0                    18104.0  1331.064366  1331.072700  167894019         1  \n",
      "1                    18104.0  1339.926813  1339.936535  167894019         1  \n",
      "2                    18104.0  1342.333753  1342.337920  167894019         1  \n",
      "3                    18104.0  1343.111531  1343.115697  167894019         1  \n",
      "4                    18104.0  1349.804580  1349.811525  167894019         1  \n",
      "\n",
      "Finished TIC 167894019 (1)\n",
      "------------------------------\n",
      "\n",
      "3ca_tess2019090408595-s0001-0000000220429097-0000-s_lc.fits \n",
      "\n",
      "\n",
      "Started TIC 220429097 (1), LC nr. 3\n",
      "------------------------------\n",
      "\n"
     ]
    },
    {
     "name": "stderr",
     "output_type": "stream",
     "text": [
      "Found 1 candidate(s) in the (0,9223) gap.\n",
      "Found 0 candidate(s) in the (9223,15240) gap.\n",
      "Found 0 candidate(s) in the (15240,18104) gap.\n",
      "/home/ekaterina/Documents/001_Science/Flares_in_Clusters_II/flaresinclustersii/lib/python3.6/site-packages/ipykernel_launcher.py:6: ResourceWarning: unclosed file <_io.FileIO name='/home/ekaterina/Documents/001_Science/TESS_UCDs/TESS_UCD_flares/custom_aperture/4ca_tess2019090409262-s0001-0000000234307350-0000-s_lc.fits' mode='rb' closefd=True>\n",
      "  \n"
     ]
    },
    {
     "name": "stdout",
     "output_type": "stream",
     "text": [
      "   ampl_rec cstart  cstop     ed_rec  ed_rec_err istart istop  \\\n",
      "0  0.178927  76760  76764  54.980284    3.474734   6100  6104   \n",
      "\n",
      "   total_n_valid_data_points       tstart        tstop        TIC  Campaign  \n",
      "0                    18104.0  1334.066651  1334.072207  220429097         1  \n",
      "\n",
      "Finished TIC 220429097 (1)\n",
      "------------------------------\n",
      "\n",
      "4ca_tess2019090409262-s0001-0000000234307350-0000-s_lc.fits \n",
      "\n",
      "\n",
      "Started TIC 234307350 (1), LC nr. 4\n",
      "------------------------------\n",
      "\n"
     ]
    },
    {
     "name": "stderr",
     "output_type": "stream",
     "text": [
      "Found 0 candidate(s) in the (0,9223) gap.\n",
      "Found 0 candidate(s) in the (9223,15240) gap.\n",
      "Found 0 candidate(s) in the (15240,18104) gap.\n",
      "/home/ekaterina/Documents/001_Science/Flares_in_Clusters_II/flaresinclustersii/lib/python3.6/site-packages/ipykernel_launcher.py:6: ResourceWarning: unclosed file <_io.FileIO name='/home/ekaterina/Documents/001_Science/TESS_UCDs/TESS_UCD_flares/custom_aperture/5ca_tess2019082311060-s0001-0000000259901346-0000-s_lc.fits' mode='rb' closefd=True>\n",
      "  \n"
     ]
    },
    {
     "name": "stdout",
     "output_type": "stream",
     "text": [
      "Added an empty row for TIC 234307350\n",
      "   Campaign        TIC ampl_rec cstart cstop ed_rec ed_rec_err istart istop  \\\n",
      "0         1  234307350      NaN    NaN   NaN    NaN        NaN    NaN   NaN   \n",
      "\n",
      "  tstart tstop  \n",
      "0    NaN   NaN  \n",
      "\n",
      "Finished TIC 234307350 (1)\n",
      "------------------------------\n",
      "\n",
      "5ca_tess2019082311060-s0001-0000000259901346-0000-s_lc.fits \n",
      "\n",
      "\n",
      "Started TIC 259901346 (1), LC nr. 5\n",
      "------------------------------\n",
      "\n"
     ]
    },
    {
     "name": "stderr",
     "output_type": "stream",
     "text": [
      "Found 0 candidate(s) in the (0,9223) gap.\n",
      "Found 0 candidate(s) in the (9223,15240) gap.\n",
      "Found 0 candidate(s) in the (15240,18104) gap.\n",
      "/home/ekaterina/Documents/001_Science/Flares_in_Clusters_II/flaresinclustersii/lib/python3.6/site-packages/ipykernel_launcher.py:6: ResourceWarning: unclosed file <_io.FileIO name='/home/ekaterina/Documents/001_Science/TESS_UCDs/TESS_UCD_flares/custom_aperture/6ca_tess2019082314042-s0001-0000000280801342-0000-s_lc.fits' mode='rb' closefd=True>\n",
      "  \n"
     ]
    },
    {
     "name": "stdout",
     "output_type": "stream",
     "text": [
      "Added an empty row for TIC 259901346\n",
      "   Campaign        TIC ampl_rec cstart cstop ed_rec ed_rec_err istart istop  \\\n",
      "0         1  259901346      NaN    NaN   NaN    NaN        NaN    NaN   NaN   \n",
      "\n",
      "  tstart tstop  \n",
      "0    NaN   NaN  \n",
      "\n",
      "Finished TIC 259901346 (1)\n",
      "------------------------------\n",
      "\n",
      "6ca_tess2019082314042-s0001-0000000280801342-0000-s_lc.fits \n",
      "\n",
      "\n",
      "Started TIC 280801342 (1), LC nr. 6\n",
      "------------------------------\n",
      "\n"
     ]
    },
    {
     "name": "stderr",
     "output_type": "stream",
     "text": [
      "Found 0 candidate(s) in the (0,9223) gap.\n",
      "Found 0 candidate(s) in the (9223,15240) gap.\n",
      "Found 0 candidate(s) in the (15240,18104) gap.\n",
      "/home/ekaterina/Documents/001_Science/Flares_in_Clusters_II/flaresinclustersii/lib/python3.6/site-packages/ipykernel_launcher.py:6: ResourceWarning: unclosed file <_io.FileIO name='/home/ekaterina/Documents/001_Science/TESS_UCDs/TESS_UCD_flares/custom_aperture/7ca_tess2019082314075-s0001-0000000303978478-0000-s_lc.fits' mode='rb' closefd=True>\n",
      "  \n"
     ]
    },
    {
     "name": "stdout",
     "output_type": "stream",
     "text": [
      "Added an empty row for TIC 280801342\n",
      "   Campaign        TIC ampl_rec cstart cstop ed_rec ed_rec_err istart istop  \\\n",
      "0         1  280801342      NaN    NaN   NaN    NaN        NaN    NaN   NaN   \n",
      "\n",
      "  tstart tstop  \n",
      "0    NaN   NaN  \n",
      "\n",
      "Finished TIC 280801342 (1)\n",
      "------------------------------\n",
      "\n",
      "7ca_tess2019082314075-s0001-0000000303978478-0000-s_lc.fits \n",
      "\n",
      "\n",
      "Started TIC 303978478 (1), LC nr. 7\n",
      "------------------------------\n",
      "\n"
     ]
    },
    {
     "name": "stderr",
     "output_type": "stream",
     "text": [
      "Found 0 candidate(s) in the (0,9223) gap.\n",
      "Found 0 candidate(s) in the (9223,15240) gap.\n",
      "Found 0 candidate(s) in the (15240,18104) gap.\n",
      "/home/ekaterina/Documents/001_Science/Flares_in_Clusters_II/flaresinclustersii/lib/python3.6/site-packages/ipykernel_launcher.py:6: ResourceWarning: unclosed file <_io.FileIO name='/home/ekaterina/Documents/001_Science/TESS_UCDs/TESS_UCD_flares/custom_aperture/8ca_tess2019082314135-s0001-0000000358108509-0000-s_lc.fits' mode='rb' closefd=True>\n",
      "  \n"
     ]
    },
    {
     "name": "stdout",
     "output_type": "stream",
     "text": [
      "Added an empty row for TIC 303978478\n",
      "   Campaign        TIC ampl_rec cstart cstop ed_rec ed_rec_err istart istop  \\\n",
      "0         1  303978478      NaN    NaN   NaN    NaN        NaN    NaN   NaN   \n",
      "\n",
      "  tstart tstop  \n",
      "0    NaN   NaN  \n",
      "\n",
      "Finished TIC 303978478 (1)\n",
      "------------------------------\n",
      "\n",
      "8ca_tess2019082314135-s0001-0000000358108509-0000-s_lc.fits \n",
      "\n",
      "\n",
      "Started TIC 358108509 (1), LC nr. 8\n",
      "------------------------------\n",
      "\n"
     ]
    },
    {
     "name": "stderr",
     "output_type": "stream",
     "text": [
      "Found 0 candidate(s) in the (0,9223) gap.\n",
      "Found 0 candidate(s) in the (9223,15240) gap.\n",
      "Found 1 candidate(s) in the (15240,18104) gap.\n",
      "/home/ekaterina/Documents/001_Science/Flares_in_Clusters_II/flaresinclustersii/lib/python3.6/site-packages/ipykernel_launcher.py:6: ResourceWarning: unclosed file <_io.FileIO name='/home/ekaterina/Documents/001_Science/TESS_UCDs/TESS_UCD_flares/custom_aperture/9ca_tess2019082314154-s0001-0000000389051009-0000-s_lc.fits' mode='rb' closefd=True>\n",
      "  \n"
     ]
    },
    {
     "name": "stdout",
     "output_type": "stream",
     "text": [
      "   ampl_rec cstart  cstop       ed_rec  ed_rec_err istart  istop  \\\n",
      "0  1.769133  90504  90519  1087.690566   11.438263  18088  18103   \n",
      "\n",
      "   total_n_valid_data_points       tstart        tstop        TIC  Campaign  \n",
      "0                    18104.0  1353.156829  1353.177662  358108509         1  \n",
      "\n",
      "Finished TIC 358108509 (1)\n",
      "------------------------------\n",
      "\n",
      "9ca_tess2019082314154-s0001-0000000389051009-0000-s_lc.fits \n",
      "\n",
      "\n",
      "Started TIC 389051009 (1), LC nr. 9\n",
      "------------------------------\n",
      "\n"
     ]
    },
    {
     "name": "stderr",
     "output_type": "stream",
     "text": [
      "Found 1 candidate(s) in the (0,9223) gap.\n",
      "Found 1 candidate(s) in the (9223,15240) gap.\n",
      "Found 0 candidate(s) in the (15240,18104) gap.\n",
      "/home/ekaterina/Documents/001_Science/Flares_in_Clusters_II/flaresinclustersii/lib/python3.6/site-packages/ipykernel_launcher.py:6: ResourceWarning: unclosed file <_io.FileIO name='/home/ekaterina/Documents/001_Science/TESS_UCDs/TESS_UCD_flares/custom_aperture/10ca_tess2019100710504-s0001-0000000401984769-0000-s_lc.fits' mode='rb' closefd=True>\n",
      "  \n"
     ]
    },
    {
     "name": "stdout",
     "output_type": "stream",
     "text": [
      "   ampl_rec cstart  cstop      ed_rec  ed_rec_err istart istop  \\\n",
      "0  0.237645  75377  75390  154.837798    5.438758   4766  4779   \n",
      "1  0.166133  81201  81224  265.287614    8.096876   9636  9659   \n",
      "\n",
      "   total_n_valid_data_points       tstart        tstop        TIC  Campaign  \n",
      "0                    18104.0  1332.149649  1332.167704  389051009         1  \n",
      "1                    18104.0  1340.238467  1340.270411  389051009         1  \n",
      "\n",
      "Finished TIC 389051009 (1)\n",
      "------------------------------\n",
      "\n",
      "10ca_tess2019100710504-s0001-0000000401984769-0000-s_lc.fits \n",
      "\n",
      "\n",
      "Started TIC 401984769 (1), LC nr. 10\n",
      "------------------------------\n",
      "\n"
     ]
    },
    {
     "name": "stderr",
     "output_type": "stream",
     "text": [
      "Found 0 candidate(s) in the (0,9223) gap.\n",
      "Found 0 candidate(s) in the (9223,15240) gap.\n",
      "Found 0 candidate(s) in the (15240,18104) gap.\n",
      "/home/ekaterina/Documents/001_Science/Flares_in_Clusters_II/flaresinclustersii/lib/python3.6/site-packages/ipykernel_launcher.py:6: ResourceWarning: unclosed file <_io.FileIO name='/home/ekaterina/Documents/001_Science/TESS_UCDs/TESS_UCD_flares/custom_aperture/11ca_tess2019090409285-s0002-0000000007150628-0000-s_lc.fits' mode='rb' closefd=True>\n",
      "  \n"
     ]
    },
    {
     "name": "stdout",
     "output_type": "stream",
     "text": [
      "Added an empty row for TIC 401984769\n",
      "   Campaign        TIC ampl_rec cstart cstop ed_rec ed_rec_err istart istop  \\\n",
      "0         1  401984769      NaN    NaN   NaN    NaN        NaN    NaN   NaN   \n",
      "\n",
      "  tstart tstop  \n",
      "0    NaN   NaN  \n",
      "\n",
      "Finished TIC 401984769 (1)\n",
      "------------------------------\n",
      "\n",
      "11ca_tess2019090409285-s0002-0000000007150628-0000-s_lc.fits \n",
      "\n",
      "\n",
      "Started TIC 7150628 (2), LC nr. 11\n",
      "------------------------------\n",
      "\n"
     ]
    },
    {
     "name": "stderr",
     "output_type": "stream",
     "text": [
      "Found 0 candidate(s) in the (0,9227) gap.\n",
      "Found 0 candidate(s) in the (9227,18317) gap.\n",
      "/home/ekaterina/Documents/001_Science/Flares_in_Clusters_II/flaresinclustersii/lib/python3.6/site-packages/ipykernel_launcher.py:6: ResourceWarning: unclosed file <_io.FileIO name='/home/ekaterina/Documents/001_Science/TESS_UCDs/TESS_UCD_flares/custom_aperture/12ca_tess2019090409343-s0002-0000000029780677-0000-s_lc.fits' mode='rb' closefd=True>\n",
      "  \n"
     ]
    },
    {
     "name": "stdout",
     "output_type": "stream",
     "text": [
      "Added an empty row for TIC 7150628\n",
      "   Campaign      TIC ampl_rec cstart cstop ed_rec ed_rec_err istart istop  \\\n",
      "0         2  7150628      NaN    NaN   NaN    NaN        NaN    NaN   NaN   \n",
      "\n",
      "  tstart tstop  \n",
      "0    NaN   NaN  \n",
      "\n",
      "Finished TIC 7150628 (2)\n",
      "------------------------------\n",
      "\n",
      "12ca_tess2019090409343-s0002-0000000029780677-0000-s_lc.fits \n",
      "\n",
      "\n",
      "Started TIC 29780677 (2), LC nr. 12\n",
      "------------------------------\n",
      "\n"
     ]
    },
    {
     "name": "stderr",
     "output_type": "stream",
     "text": [
      "Found 0 candidate(s) in the (0,9227) gap.\n",
      "Found 3 candidate(s) in the (9227,18317) gap.\n",
      "/home/ekaterina/Documents/001_Science/Flares_in_Clusters_II/flaresinclustersii/lib/python3.6/site-packages/ipykernel_launcher.py:6: ResourceWarning: unclosed file <_io.FileIO name='/home/ekaterina/Documents/001_Science/TESS_UCDs/TESS_UCD_flares/custom_aperture/13ca_tess2019090409390-s0002-0000000034014829-0000-s_lc.fits' mode='rb' closefd=True>\n",
      "  \n"
     ]
    },
    {
     "name": "stdout",
     "output_type": "stream",
     "text": [
      "   ampl_rec  cstart   cstop      ed_rec  ed_rec_err istart  istop  \\\n",
      "0  0.172101  102541  102544   30.390348    1.451895  10142  10145   \n",
      "1  0.078503  106969  106985   97.689348    4.025177  14495  14511   \n",
      "2  0.119035  109949  109963  120.882284    3.682395  17387  17401   \n",
      "\n",
      "   total_n_valid_data_points       tstart        tstop       TIC  Campaign  \n",
      "0                    18317.0  1369.874451  1369.878618  29780677         2  \n",
      "1                    18317.0  1376.024417  1376.046639  29780677         2  \n",
      "2                    18317.0  1380.163272  1380.182717  29780677         2  \n",
      "\n",
      "Finished TIC 29780677 (2)\n",
      "------------------------------\n",
      "\n",
      "13ca_tess2019090409390-s0002-0000000034014829-0000-s_lc.fits \n",
      "\n",
      "\n",
      "Started TIC 34014829 (2), LC nr. 13\n",
      "------------------------------\n",
      "\n"
     ]
    },
    {
     "name": "stderr",
     "output_type": "stream",
     "text": [
      "Found 0 candidate(s) in the (0,9227) gap.\n",
      "Found 0 candidate(s) in the (9227,18317) gap.\n",
      "/home/ekaterina/Documents/001_Science/Flares_in_Clusters_II/flaresinclustersii/lib/python3.6/site-packages/ipykernel_launcher.py:6: ResourceWarning: unclosed file <_io.FileIO name='/home/ekaterina/Documents/001_Science/TESS_UCDs/TESS_UCD_flares/custom_aperture/14ca_tess2019090410495-s0002-0000000077041175-0000-s_lc.fits' mode='rb' closefd=True>\n",
      "  \n"
     ]
    },
    {
     "name": "stdout",
     "output_type": "stream",
     "text": [
      "Added an empty row for TIC 34014829\n",
      "   Campaign       TIC ampl_rec cstart cstop ed_rec ed_rec_err istart istop  \\\n",
      "0         2  34014829      NaN    NaN   NaN    NaN        NaN    NaN   NaN   \n",
      "\n",
      "  tstart tstop  \n",
      "0    NaN   NaN  \n",
      "\n",
      "Finished TIC 34014829 (2)\n",
      "------------------------------\n",
      "\n",
      "14ca_tess2019090410495-s0002-0000000077041175-0000-s_lc.fits \n",
      "\n",
      "\n",
      "Started TIC 77041175 (2), LC nr. 14\n",
      "------------------------------\n",
      "\n"
     ]
    },
    {
     "name": "stderr",
     "output_type": "stream",
     "text": [
      "Found 0 candidate(s) in the (0,9227) gap.\n",
      "Found 0 candidate(s) in the (9227,18317) gap.\n",
      "/home/ekaterina/Documents/001_Science/Flares_in_Clusters_II/flaresinclustersii/lib/python3.6/site-packages/ipykernel_launcher.py:6: ResourceWarning: unclosed file <_io.FileIO name='/home/ekaterina/Documents/001_Science/TESS_UCDs/TESS_UCD_flares/custom_aperture/15ca_tess2019090410525-s0002-0000000142052876-0000-s_lc.fits' mode='rb' closefd=True>\n",
      "  \n"
     ]
    },
    {
     "name": "stdout",
     "output_type": "stream",
     "text": [
      "Added an empty row for TIC 77041175\n",
      "   Campaign       TIC ampl_rec cstart cstop ed_rec ed_rec_err istart istop  \\\n",
      "0         2  77041175      NaN    NaN   NaN    NaN        NaN    NaN   NaN   \n",
      "\n",
      "  tstart tstop  \n",
      "0    NaN   NaN  \n",
      "\n",
      "Finished TIC 77041175 (2)\n",
      "------------------------------\n",
      "\n",
      "15ca_tess2019090410525-s0002-0000000142052876-0000-s_lc.fits \n",
      "\n",
      "\n",
      "Started TIC 142052876 (2), LC nr. 15\n",
      "------------------------------\n",
      "\n"
     ]
    },
    {
     "name": "stderr",
     "output_type": "stream",
     "text": [
      "Found 4 candidate(s) in the (0,9227) gap.\n",
      "Found 0 candidate(s) in the (9227,18317) gap.\n",
      "/home/ekaterina/Documents/001_Science/Flares_in_Clusters_II/flaresinclustersii/lib/python3.6/site-packages/ipykernel_launcher.py:6: ResourceWarning: unclosed file <_io.FileIO name='/home/ekaterina/Documents/001_Science/TESS_UCDs/TESS_UCD_flares/custom_aperture/16ca_tess2019102509570-s0002-0000000167894019-0000-s_lc.fits' mode='rb' closefd=True>\n",
      "  \n"
     ]
    },
    {
     "name": "stdout",
     "output_type": "stream",
     "text": [
      "   ampl_rec cstart  cstop      ed_rec  ed_rec_err istart istop  \\\n",
      "0  0.038270  93518  93521   10.875905    1.064152   2295  2298   \n",
      "1  0.063329  96203  96214   41.776563    2.046999   4945  4955   \n",
      "2  0.210445  96696  96702   75.219746    1.266589   5405  5411   \n",
      "3  0.238882  98561  98574  117.388213    1.726939   7238  7251   \n",
      "\n",
      "   total_n_valid_data_points       tstart        tstop        TIC  Campaign  \n",
      "0                    18317.0  1357.341872  1357.346039  142052876         2  \n",
      "1                    18317.0  1361.070978  1361.086256  142052876         2  \n",
      "2                    18317.0  1361.755689  1361.764022  142052876         2  \n",
      "3                    18317.0  1364.345922  1364.363977  142052876         2  \n",
      "\n",
      "Finished TIC 142052876 (2)\n",
      "------------------------------\n",
      "\n",
      "16ca_tess2019102509570-s0002-0000000167894019-0000-s_lc.fits \n",
      "\n",
      "\n",
      "Started TIC 167894019 (2), LC nr. 16\n",
      "------------------------------\n",
      "\n"
     ]
    },
    {
     "name": "stderr",
     "output_type": "stream",
     "text": [
      "/home/ekaterina/Documents/001_Science/Flares_in_Clusters_II/flaresinclustersii/lib/python3.6/site-packages/altaipony-0.0.1-py3.6.egg/altaipony/altai.py:265: RuntimeWarning: Mean of empty slice\n",
      "  flux_model_j[off:upper] = np.nanmean(lc.flux_model[le:ri][[i,k]])\n",
      "Found 2 candidate(s) in the (0,9226) gap.\n",
      "Found 1 candidate(s) in the (9226,18316) gap.\n",
      "/home/ekaterina/Documents/001_Science/Flares_in_Clusters_II/flaresinclustersii/lib/python3.6/site-packages/ipykernel_launcher.py:6: ResourceWarning: unclosed file <_io.FileIO name='/home/ekaterina/Documents/001_Science/TESS_UCDs/TESS_UCD_flares/custom_aperture/17ca_tess2019090411583-s0002-0000000180724005-0000-s_lc.fits' mode='rb' closefd=True>\n",
      "  \n"
     ]
    },
    {
     "name": "stdout",
     "output_type": "stream",
     "text": [
      "   ampl_rec  cstart   cstop      ed_rec  ed_rec_err istart  istop  \\\n",
      "0  0.287469   92802   92817  142.066369    2.296297   1593   1608   \n",
      "1  0.086888   99466   99473   39.685027    1.877727   8136   8143   \n",
      "2  0.098779  104054  104057   23.807606    1.217993  11623  11626   \n",
      "\n",
      "   total_n_valid_data_points       tstart        tstop        TIC  Campaign  \n",
      "0                    18316.0  1356.346239  1356.367072  167894019         2  \n",
      "1                    18316.0  1365.601819  1365.611541  167894019         2  \n",
      "2                    18316.0  1371.974064  1371.978231  167894019         2  \n",
      "\n",
      "Finished TIC 167894019 (2)\n",
      "------------------------------\n",
      "\n",
      "17ca_tess2019090411583-s0002-0000000180724005-0000-s_lc.fits \n",
      "\n",
      "\n",
      "Started TIC 180724005 (2), LC nr. 17\n",
      "------------------------------\n",
      "\n"
     ]
    },
    {
     "name": "stderr",
     "output_type": "stream",
     "text": [
      "Found 1 candidate(s) in the (0,9227) gap.\n",
      "Found 0 candidate(s) in the (9227,18317) gap.\n",
      "/home/ekaterina/Documents/001_Science/Flares_in_Clusters_II/flaresinclustersii/lib/python3.6/site-packages/ipykernel_launcher.py:6: ResourceWarning: unclosed file <_io.FileIO name='/home/ekaterina/Documents/001_Science/TESS_UCDs/TESS_UCD_flares/custom_aperture/18ca_tess2019090412003-s0002-0000000220429097-0000-s_lc.fits' mode='rb' closefd=True>\n",
      "  \n"
     ]
    },
    {
     "name": "stdout",
     "output_type": "stream",
     "text": [
      "   ampl_rec cstart  cstop      ed_rec  ed_rec_err istart istop  \\\n",
      "0  0.885612  99179  99188  378.684243    5.503947   7854  7863   \n",
      "\n",
      "   total_n_valid_data_points       tstart        tstop        TIC  Campaign  \n",
      "0                    18317.0  1365.208357  1365.220857  180724005         2  \n",
      "\n",
      "Finished TIC 180724005 (2)\n",
      "------------------------------\n",
      "\n",
      "18ca_tess2019090412003-s0002-0000000220429097-0000-s_lc.fits \n",
      "\n",
      "\n",
      "Started TIC 220429097 (2), LC nr. 18\n",
      "------------------------------\n",
      "\n"
     ]
    },
    {
     "name": "stderr",
     "output_type": "stream",
     "text": [
      "Found 0 candidate(s) in the (0,9227) gap.\n",
      "Found 1 candidate(s) in the (9227,18317) gap.\n",
      "/home/ekaterina/Documents/001_Science/Flares_in_Clusters_II/flaresinclustersii/lib/python3.6/site-packages/ipykernel_launcher.py:6: ResourceWarning: unclosed file <_io.FileIO name='/home/ekaterina/Documents/001_Science/TESS_UCDs/TESS_UCD_flares/custom_aperture/19ca_tess2019090412043-s0002-0000000234307350-0000-s_lc.fits' mode='rb' closefd=True>\n",
      "  \n"
     ]
    },
    {
     "name": "stdout",
     "output_type": "stream",
     "text": [
      "   ampl_rec  cstart   cstop     ed_rec  ed_rec_err istart  istop  \\\n",
      "0  0.267846  108627  108630  53.997074    2.878665  16115  16118   \n",
      "\n",
      "   total_n_valid_data_points       tstart       tstop        TIC  Campaign  \n",
      "0                    18317.0  1378.327113  1378.33128  220429097         2  \n",
      "\n",
      "Finished TIC 220429097 (2)\n",
      "------------------------------\n",
      "\n",
      "19ca_tess2019090412043-s0002-0000000234307350-0000-s_lc.fits \n",
      "\n",
      "\n",
      "Started TIC 234307350 (2), LC nr. 19\n",
      "------------------------------\n",
      "\n"
     ]
    },
    {
     "name": "stderr",
     "output_type": "stream",
     "text": [
      "Found 0 candidate(s) in the (0,9227) gap.\n",
      "Found 1 candidate(s) in the (9227,18317) gap.\n",
      "/home/ekaterina/Documents/001_Science/Flares_in_Clusters_II/flaresinclustersii/lib/python3.6/site-packages/ipykernel_launcher.py:6: ResourceWarning: unclosed file <_io.FileIO name='/home/ekaterina/Documents/001_Science/TESS_UCDs/TESS_UCD_flares/custom_aperture/20ca_tess2019090412090-s0002-0000000259901346-0000-s_lc.fits' mode='rb' closefd=True>\n",
      "  \n"
     ]
    },
    {
     "name": "stdout",
     "output_type": "stream",
     "text": [
      "   ampl_rec  cstart   cstop      ed_rec  ed_rec_err istart  istop  \\\n",
      "0  2.767881  104122  104128  622.145882    12.02915  11692  11698   \n",
      "\n",
      "   total_n_valid_data_points       tstart        tstop        TIC  Campaign  \n",
      "0                    18317.0  1372.071068  1372.079401  234307350         2  \n",
      "\n",
      "Finished TIC 234307350 (2)\n",
      "------------------------------\n",
      "\n",
      "20ca_tess2019090412090-s0002-0000000259901346-0000-s_lc.fits \n",
      "\n",
      "\n",
      "Started TIC 259901346 (2), LC nr. 20\n",
      "------------------------------\n",
      "\n"
     ]
    },
    {
     "name": "stderr",
     "output_type": "stream",
     "text": [
      "Found 0 candidate(s) in the (0,9227) gap.\n",
      "Found 0 candidate(s) in the (9227,18317) gap.\n",
      "/home/ekaterina/Documents/001_Science/Flares_in_Clusters_II/flaresinclustersii/lib/python3.6/site-packages/ipykernel_launcher.py:6: ResourceWarning: unclosed file <_io.FileIO name='/home/ekaterina/Documents/001_Science/TESS_UCDs/TESS_UCD_flares/custom_aperture/21ca_tess2019090412111-s0002-0000000270218775-0000-s_lc.fits' mode='rb' closefd=True>\n",
      "  \n"
     ]
    },
    {
     "name": "stdout",
     "output_type": "stream",
     "text": [
      "Added an empty row for TIC 259901346\n",
      "   Campaign        TIC ampl_rec cstart cstop ed_rec ed_rec_err istart istop  \\\n",
      "0         2  259901346      NaN    NaN   NaN    NaN        NaN    NaN   NaN   \n",
      "\n",
      "  tstart tstop  \n",
      "0    NaN   NaN  \n",
      "\n",
      "Finished TIC 259901346 (2)\n",
      "------------------------------\n",
      "\n",
      "21ca_tess2019090412111-s0002-0000000270218775-0000-s_lc.fits \n",
      "\n",
      "\n",
      "Started TIC 270218775 (2), LC nr. 21\n",
      "------------------------------\n",
      "\n"
     ]
    },
    {
     "name": "stderr",
     "output_type": "stream",
     "text": [
      "Found 0 candidate(s) in the (0,9227) gap.\n",
      "Found 0 candidate(s) in the (9227,18317) gap.\n",
      "/home/ekaterina/Documents/001_Science/Flares_in_Clusters_II/flaresinclustersii/lib/python3.6/site-packages/ipykernel_launcher.py:6: ResourceWarning: unclosed file <_io.FileIO name='/home/ekaterina/Documents/001_Science/TESS_UCDs/TESS_UCD_flares/custom_aperture/22ca_tess2019090412202-s0002-0000000281668854-0000-s_lc.fits' mode='rb' closefd=True>\n",
      "  \n"
     ]
    },
    {
     "name": "stdout",
     "output_type": "stream",
     "text": [
      "Added an empty row for TIC 270218775\n",
      "   Campaign        TIC ampl_rec cstart cstop ed_rec ed_rec_err istart istop  \\\n",
      "0         2  270218775      NaN    NaN   NaN    NaN        NaN    NaN   NaN   \n",
      "\n",
      "  tstart tstop  \n",
      "0    NaN   NaN  \n",
      "\n",
      "Finished TIC 270218775 (2)\n",
      "------------------------------\n",
      "\n",
      "22ca_tess2019090412202-s0002-0000000281668854-0000-s_lc.fits \n",
      "\n",
      "\n",
      "Started TIC 281668854 (2), LC nr. 22\n",
      "------------------------------\n",
      "\n"
     ]
    },
    {
     "name": "stderr",
     "output_type": "stream",
     "text": [
      "Found 0 candidate(s) in the (0,9227) gap.\n",
      "Found 0 candidate(s) in the (9227,18317) gap.\n",
      "/home/ekaterina/Documents/001_Science/Flares_in_Clusters_II/flaresinclustersii/lib/python3.6/site-packages/ipykernel_launcher.py:6: ResourceWarning: unclosed file <_io.FileIO name='/home/ekaterina/Documents/001_Science/TESS_UCDs/TESS_UCD_flares/custom_aperture/23ca_tess2019090412295-s0002-0000000303978478-0000-s_lc.fits' mode='rb' closefd=True>\n",
      "  \n"
     ]
    },
    {
     "name": "stdout",
     "output_type": "stream",
     "text": [
      "Added an empty row for TIC 281668854\n",
      "   Campaign        TIC ampl_rec cstart cstop ed_rec ed_rec_err istart istop  \\\n",
      "0         2  281668854      NaN    NaN   NaN    NaN        NaN    NaN   NaN   \n",
      "\n",
      "  tstart tstop  \n",
      "0    NaN   NaN  \n",
      "\n",
      "Finished TIC 281668854 (2)\n",
      "------------------------------\n",
      "\n",
      "23ca_tess2019090412295-s0002-0000000303978478-0000-s_lc.fits \n",
      "\n",
      "\n",
      "Started TIC 303978478 (2), LC nr. 23\n",
      "------------------------------\n",
      "\n"
     ]
    },
    {
     "name": "stderr",
     "output_type": "stream",
     "text": [
      "Found 0 candidate(s) in the (0,9227) gap.\n",
      "Found 0 candidate(s) in the (9227,18317) gap.\n",
      "/home/ekaterina/Documents/001_Science/Flares_in_Clusters_II/flaresinclustersii/lib/python3.6/site-packages/ipykernel_launcher.py:6: ResourceWarning: unclosed file <_io.FileIO name='/home/ekaterina/Documents/001_Science/TESS_UCDs/TESS_UCD_flares/custom_aperture/24ca_tess2019102414445-s0002-0000000304392811-0000-s_lc.fits' mode='rb' closefd=True>\n",
      "  \n"
     ]
    },
    {
     "name": "stdout",
     "output_type": "stream",
     "text": [
      "Added an empty row for TIC 303978478\n",
      "   Campaign        TIC ampl_rec cstart cstop ed_rec ed_rec_err istart istop  \\\n",
      "0         2  303978478      NaN    NaN   NaN    NaN        NaN    NaN   NaN   \n",
      "\n",
      "  tstart tstop  \n",
      "0    NaN   NaN  \n",
      "\n",
      "Finished TIC 303978478 (2)\n",
      "------------------------------\n",
      "\n",
      "24ca_tess2019102414445-s0002-0000000304392811-0000-s_lc.fits \n",
      "\n",
      "\n",
      "Started TIC 304392811 (2), LC nr. 24\n",
      "------------------------------\n",
      "\n"
     ]
    },
    {
     "name": "stderr",
     "output_type": "stream",
     "text": [
      "Found 0 candidate(s) in the (0,9227) gap.\n",
      "Found 0 candidate(s) in the (9227,18317) gap.\n",
      "/home/ekaterina/Documents/001_Science/Flares_in_Clusters_II/flaresinclustersii/lib/python3.6/site-packages/ipykernel_launcher.py:6: ResourceWarning: unclosed file <_io.FileIO name='/home/ekaterina/Documents/001_Science/TESS_UCDs/TESS_UCD_flares/custom_aperture/25ca_tess2019090412562-s0002-0000000340703996-0000-s_lc.fits' mode='rb' closefd=True>\n",
      "  \n"
     ]
    },
    {
     "name": "stdout",
     "output_type": "stream",
     "text": [
      "Added an empty row for TIC 304392811\n",
      "   Campaign        TIC ampl_rec cstart cstop ed_rec ed_rec_err istart istop  \\\n",
      "0         2  304392811      NaN    NaN   NaN    NaN        NaN    NaN   NaN   \n",
      "\n",
      "  tstart tstop  \n",
      "0    NaN   NaN  \n",
      "\n",
      "Finished TIC 304392811 (2)\n",
      "------------------------------\n",
      "\n",
      "25ca_tess2019090412562-s0002-0000000340703996-0000-s_lc.fits \n",
      "\n",
      "\n",
      "Started TIC 340703996 (2), LC nr. 25\n",
      "------------------------------\n",
      "\n"
     ]
    },
    {
     "name": "stderr",
     "output_type": "stream",
     "text": [
      "Found 1 candidate(s) in the (0,9227) gap.\n",
      "Found 0 candidate(s) in the (9227,18317) gap.\n",
      "/home/ekaterina/Documents/001_Science/Flares_in_Clusters_II/flaresinclustersii/lib/python3.6/site-packages/ipykernel_launcher.py:6: ResourceWarning: unclosed file <_io.FileIO name='/home/ekaterina/Documents/001_Science/TESS_UCDs/TESS_UCD_flares/custom_aperture/26ca_tess2019090608014-s0002-0000000358108509-0000-s_lc.fits' mode='rb' closefd=True>\n",
      "  \n"
     ]
    },
    {
     "name": "stdout",
     "output_type": "stream",
     "text": [
      "   ampl_rec cstart  cstop      ed_rec  ed_rec_err istart istop  \\\n",
      "0  0.507411  97099  97108  118.425909    1.063967   5808  5817   \n",
      "\n",
      "   total_n_valid_data_points       tstart        tstop        TIC  Campaign  \n",
      "0                    18317.0  1362.320152  1362.332652  340703996         2  \n",
      "\n",
      "Finished TIC 340703996 (2)\n",
      "------------------------------\n",
      "\n",
      "26ca_tess2019090608014-s0002-0000000358108509-0000-s_lc.fits \n",
      "\n",
      "\n",
      "Started TIC 358108509 (2), LC nr. 26\n",
      "------------------------------\n",
      "\n"
     ]
    },
    {
     "name": "stderr",
     "output_type": "stream",
     "text": [
      "Found 0 candidate(s) in the (0,9227) gap.\n",
      "Found 0 candidate(s) in the (9227,18317) gap.\n",
      "/home/ekaterina/Documents/001_Science/Flares_in_Clusters_II/flaresinclustersii/lib/python3.6/site-packages/ipykernel_launcher.py:6: ResourceWarning: unclosed file <_io.FileIO name='/home/ekaterina/Documents/001_Science/TESS_UCDs/TESS_UCD_flares/custom_aperture/27ca_tess2019100710515-s0002-0000000401984769-0000-s_lc.fits' mode='rb' closefd=True>\n",
      "  \n"
     ]
    },
    {
     "name": "stdout",
     "output_type": "stream",
     "text": [
      "Added an empty row for TIC 358108509\n",
      "   Campaign        TIC ampl_rec cstart cstop ed_rec ed_rec_err istart istop  \\\n",
      "0         2  358108509      NaN    NaN   NaN    NaN        NaN    NaN   NaN   \n",
      "\n",
      "  tstart tstop  \n",
      "0    NaN   NaN  \n",
      "\n",
      "Finished TIC 358108509 (2)\n",
      "------------------------------\n",
      "\n",
      "27ca_tess2019100710515-s0002-0000000401984769-0000-s_lc.fits \n",
      "\n",
      "\n",
      "Started TIC 401984769 (2), LC nr. 27\n",
      "------------------------------\n",
      "\n"
     ]
    },
    {
     "name": "stderr",
     "output_type": "stream",
     "text": [
      "Found 0 candidate(s) in the (0,9227) gap.\n",
      "Found 0 candidate(s) in the (9227,18317) gap.\n",
      "/home/ekaterina/Documents/001_Science/Flares_in_Clusters_II/flaresinclustersii/lib/python3.6/site-packages/ipykernel_launcher.py:6: ResourceWarning: unclosed file <_io.FileIO name='/home/ekaterina/Documents/001_Science/TESS_UCDs/TESS_UCD_flares/custom_aperture/28ca_tess2019090608070-s0003-0000000029780677-0000-s_lc.fits' mode='rb' closefd=True>\n",
      "  \n"
     ]
    },
    {
     "name": "stdout",
     "output_type": "stream",
     "text": [
      "Added an empty row for TIC 401984769\n",
      "   Campaign        TIC ampl_rec cstart cstop ed_rec ed_rec_err istart istop  \\\n",
      "0         2  401984769      NaN    NaN   NaN    NaN        NaN    NaN   NaN   \n",
      "\n",
      "  tstart tstop  \n",
      "0    NaN   NaN  \n",
      "\n",
      "Finished TIC 401984769 (2)\n",
      "------------------------------\n",
      "\n",
      "28ca_tess2019090608070-s0003-0000000029780677-0000-s_lc.fits \n",
      "\n",
      "\n",
      "Started TIC 29780677 (3), LC nr. 28\n",
      "------------------------------\n",
      "\n"
     ]
    },
    {
     "name": "stderr",
     "output_type": "stream",
     "text": [
      "Found 0 candidate(s) in the (0,6683) gap.\n",
      "Found 1 candidate(s) in the (6683,13452) gap.\n",
      "/home/ekaterina/Documents/001_Science/Flares_in_Clusters_II/flaresinclustersii/lib/python3.6/site-packages/ipykernel_launcher.py:6: ResourceWarning: unclosed file <_io.FileIO name='/home/ekaterina/Documents/001_Science/TESS_UCDs/TESS_UCD_flares/custom_aperture/29ca_tess2019090608091-s0003-0000000029928567-0000-s_lc.fits' mode='rb' closefd=True>\n",
      "  \n"
     ]
    },
    {
     "name": "stdout",
     "output_type": "stream",
     "text": [
      "   ampl_rec  cstart   cstop     ed_rec  ed_rec_err istart  istop  \\\n",
      "0  0.172589  128000  128004  48.330128    1.622831  12753  12757   \n",
      "\n",
      "   total_n_valid_data_points       tstart        tstop       TIC  Campaign  \n",
      "0                    13452.0  1405.233826  1405.239382  29780677         3  \n",
      "\n",
      "Finished TIC 29780677 (3)\n",
      "------------------------------\n",
      "\n",
      "29ca_tess2019090608091-s0003-0000000029928567-0000-s_lc.fits \n",
      "\n",
      "\n",
      "Started TIC 29928567 (3), LC nr. 29\n",
      "------------------------------\n",
      "\n"
     ]
    },
    {
     "name": "stderr",
     "output_type": "stream",
     "text": [
      "Found 3 candidate(s) in the (0,6683) gap.\n",
      "Found 0 candidate(s) in the (6683,13452) gap.\n",
      "/home/ekaterina/Documents/001_Science/Flares_in_Clusters_II/flaresinclustersii/lib/python3.6/site-packages/ipykernel_launcher.py:6: ResourceWarning: unclosed file <_io.FileIO name='/home/ekaterina/Documents/001_Science/TESS_UCDs/TESS_UCD_flares/custom_aperture/30ca_tess2019090608180-s0003-0000000038314290-0000-s_lc.fits' mode='rb' closefd=True>\n",
      "  \n"
     ]
    },
    {
     "name": "stdout",
     "output_type": "stream",
     "text": [
      "   ampl_rec  cstart   cstop     ed_rec  ed_rec_err istart istop  \\\n",
      "0  0.055615  115182  115187  13.768297    0.266390   1059  1064   \n",
      "1  0.056007  116129  116137  17.599933    0.320191   1988  1996   \n",
      "2  0.024868  116792  116795   6.682696    0.237633   2642  2645   \n",
      "\n",
      "   total_n_valid_data_points       tstart        tstop       TIC  Campaign  \n",
      "0                    13452.0  1387.435518  1387.442462  29928567         3  \n",
      "1                    13452.0  1388.750817  1388.761928  29928567         3  \n",
      "2                    13452.0  1389.671663  1389.675830  29928567         3  \n",
      "\n",
      "Finished TIC 29928567 (3)\n",
      "------------------------------\n",
      "\n",
      "30ca_tess2019090608180-s0003-0000000038314290-0000-s_lc.fits \n",
      "\n",
      "\n",
      "Started TIC 38314290 (3), LC nr. 30\n",
      "------------------------------\n",
      "\n"
     ]
    },
    {
     "name": "stderr",
     "output_type": "stream",
     "text": [
      "Found 0 candidate(s) in the (0,6683) gap.\n",
      "Found 0 candidate(s) in the (6683,13452) gap.\n",
      "/home/ekaterina/Documents/001_Science/Flares_in_Clusters_II/flaresinclustersii/lib/python3.6/site-packages/ipykernel_launcher.py:6: ResourceWarning: unclosed file <_io.FileIO name='/home/ekaterina/Documents/001_Science/TESS_UCDs/TESS_UCD_flares/custom_aperture/31ca_tess2019090608230-s0003-0000000070555405-0000-s_lc.fits' mode='rb' closefd=True>\n",
      "  \n"
     ]
    },
    {
     "name": "stdout",
     "output_type": "stream",
     "text": [
      "Added an empty row for TIC 38314290\n",
      "   Campaign       TIC ampl_rec cstart cstop ed_rec ed_rec_err istart istop  \\\n",
      "0         3  38314290      NaN    NaN   NaN    NaN        NaN    NaN   NaN   \n",
      "\n",
      "  tstart tstop  \n",
      "0    NaN   NaN  \n",
      "\n",
      "Finished TIC 38314290 (3)\n",
      "------------------------------\n",
      "\n",
      "31ca_tess2019090608230-s0003-0000000070555405-0000-s_lc.fits \n",
      "\n",
      "\n",
      "Started TIC 70555405 (3), LC nr. 31\n",
      "------------------------------\n",
      "\n"
     ]
    },
    {
     "name": "stderr",
     "output_type": "stream",
     "text": [
      "Found 0 candidate(s) in the (0,6683) gap.\n",
      "Found 0 candidate(s) in the (6683,13452) gap.\n",
      "/home/ekaterina/Documents/001_Science/Flares_in_Clusters_II/flaresinclustersii/lib/python3.6/site-packages/ipykernel_launcher.py:6: ResourceWarning: unclosed file <_io.FileIO name='/home/ekaterina/Documents/001_Science/TESS_UCDs/TESS_UCD_flares/custom_aperture/32ca_tess2019090608262-s0003-0000000077111651-0000-s_lc.fits' mode='rb' closefd=True>\n",
      "  \n"
     ]
    },
    {
     "name": "stdout",
     "output_type": "stream",
     "text": [
      "Added an empty row for TIC 70555405\n",
      "   Campaign       TIC ampl_rec cstart cstop ed_rec ed_rec_err istart istop  \\\n",
      "0         3  70555405      NaN    NaN   NaN    NaN        NaN    NaN   NaN   \n",
      "\n",
      "  tstart tstop  \n",
      "0    NaN   NaN  \n",
      "\n",
      "Finished TIC 70555405 (3)\n",
      "------------------------------\n",
      "\n",
      "32ca_tess2019090608262-s0003-0000000077111651-0000-s_lc.fits \n",
      "\n",
      "\n",
      "Started TIC 77111651 (3), LC nr. 32\n",
      "------------------------------\n",
      "\n"
     ]
    },
    {
     "name": "stderr",
     "output_type": "stream",
     "text": [
      "Found 0 candidate(s) in the (0,6683) gap.\n",
      "Found 1 candidate(s) in the (6683,13452) gap.\n",
      "/home/ekaterina/Documents/001_Science/Flares_in_Clusters_II/flaresinclustersii/lib/python3.6/site-packages/ipykernel_launcher.py:6: ResourceWarning: unclosed file <_io.FileIO name='/home/ekaterina/Documents/001_Science/TESS_UCDs/TESS_UCD_flares/custom_aperture/33ca_tess2019090608301-s0003-0000000140478472-0000-s_lc.fits' mode='rb' closefd=True>\n",
      "  \n"
     ]
    },
    {
     "name": "stdout",
     "output_type": "stream",
     "text": [
      "   ampl_rec  cstart   cstop      ed_rec  ed_rec_err istart  istop  \\\n",
      "0  1.460205  125490  125494  582.389262   51.882319  10300  10304   \n",
      "\n",
      "   total_n_valid_data_points       tstart        tstop       TIC  Campaign  \n",
      "0                    13452.0  1401.750889  1401.756445  77111651         3  \n",
      "\n",
      "Finished TIC 77111651 (3)\n",
      "------------------------------\n",
      "\n",
      "33ca_tess2019090608301-s0003-0000000140478472-0000-s_lc.fits \n",
      "\n",
      "\n",
      "Started TIC 140478472 (3), LC nr. 33\n",
      "------------------------------\n",
      "\n"
     ]
    },
    {
     "name": "stderr",
     "output_type": "stream",
     "text": [
      "Found 0 candidate(s) in the (0,6683) gap.\n",
      "Found 0 candidate(s) in the (6683,13452) gap.\n",
      "/home/ekaterina/Documents/001_Science/Flares_in_Clusters_II/flaresinclustersii/lib/python3.6/site-packages/ipykernel_launcher.py:6: ResourceWarning: unclosed file <_io.FileIO name='/home/ekaterina/Documents/001_Science/TESS_UCDs/TESS_UCD_flares/custom_aperture/34ca_tess2019090608344-s0003-0000000142052876-0000-s_lc.fits' mode='rb' closefd=True>\n",
      "  \n"
     ]
    },
    {
     "name": "stdout",
     "output_type": "stream",
     "text": [
      "Added an empty row for TIC 140478472\n",
      "   Campaign        TIC ampl_rec cstart cstop ed_rec ed_rec_err istart istop  \\\n",
      "0         3  140478472      NaN    NaN   NaN    NaN        NaN    NaN   NaN   \n",
      "\n",
      "  tstart tstop  \n",
      "0    NaN   NaN  \n",
      "\n",
      "Finished TIC 140478472 (3)\n",
      "------------------------------\n",
      "\n",
      "34ca_tess2019090608344-s0003-0000000142052876-0000-s_lc.fits \n",
      "\n",
      "\n",
      "Started TIC 142052876 (3), LC nr. 34\n",
      "------------------------------\n",
      "\n"
     ]
    },
    {
     "name": "stderr",
     "output_type": "stream",
     "text": [
      "Found 1 candidate(s) in the (0,6683) gap.\n",
      "Found 0 candidate(s) in the (6683,13452) gap.\n",
      "/home/ekaterina/Documents/001_Science/Flares_in_Clusters_II/flaresinclustersii/lib/python3.6/site-packages/ipykernel_launcher.py:6: ResourceWarning: unclosed file <_io.FileIO name='/home/ekaterina/Documents/001_Science/TESS_UCDs/TESS_UCD_flares/custom_aperture/35ca_tess2019090608400-s0003-0000000167894019-0000-s_lc.fits' mode='rb' closefd=True>\n",
      "  \n"
     ]
    },
    {
     "name": "stdout",
     "output_type": "stream",
     "text": [
      "   ampl_rec  cstart   cstop       ed_rec  ed_rec_err istart istop  \\\n",
      "0  2.211293  120942  120949  1851.804058   17.062051   6675  6682   \n",
      "\n",
      "   total_n_valid_data_points       tstart        tstop        TIC  Campaign  \n",
      "0                    13452.0  1395.430086  1395.439808  142052876         3  \n",
      "\n",
      "Finished TIC 142052876 (3)\n",
      "------------------------------\n",
      "\n",
      "35ca_tess2019090608400-s0003-0000000167894019-0000-s_lc.fits \n",
      "\n",
      "\n",
      "Started TIC 167894019 (3), LC nr. 35\n",
      "------------------------------\n",
      "\n"
     ]
    }
   ],
   "source": [
    "for i, path in enumerate(paths):\n",
    "    print(path, \"\\n\")\n",
    "    path = f\"{CWD}/custom_aperture/\" + path\n",
    "    cluster = f\"{CWD}/flare_tables/2019_10_27_TESSUCDs\"\n",
    "\n",
    "    flc = read_custom_aperture_lc(path)\n",
    "    \n",
    "    print(\"\\nStarted TIC {} ({}), LC nr. {}\"\n",
    "          \"\\n------------------------------\\n\".format(flc.targetid, flc.campaign, i))\n",
    "\n",
    "    # Fix window length -----------------------------------------------------\n",
    "    #rapid rotators\n",
    "    TIC = flc.targetid\n",
    "    if TIC in [29928567, 142052876, 293561794, \n",
    "               471012740, 142052876]: \n",
    "        w = 5\n",
    "    #intermediate rotators/ variability time scale / some weird systematics\n",
    "    elif TIC in [98874143, 272349442, 388903843, \n",
    "                 332623751, 328254412, 44892011, \n",
    "                 44892011, 117733581, 29780677, \n",
    "                 340703996, 395130640, 441000085]:\n",
    "        w = 25\n",
    "    # little variability\n",
    "    elif TIC in [471012740, 125835702, 30101427, 415839928, \n",
    "                 398985964, 322568489, 2470992, 1539914,\n",
    "                 73118477, 117733581]:\n",
    "        w = 555\n",
    "    # medium rotators\n",
    "    elif TIC in [388857263, 471012770, 5630425]:\n",
    "        w = 55\n",
    "    # special snowflake\n",
    "    elif TIC in [44984200]:\n",
    "        w = 15\n",
    "    # default: little variablity\n",
    "    else:\n",
    "        w = 555\n",
    "        \n",
    "    flcd = flc.detrend(\"savgol\", window_length=w)\n",
    "    \n",
    "    # ----------------------------------------------------------------------\n",
    "    flcd.detrended_flux_err[:] = flcd.detrended_flux.std()\n",
    "    flcd = flcd.find_flares()\n",
    "\n",
    "    write_flares_to_file(flcd, cluster)\n",
    "\n",
    "    print(\"\\nFinished TIC {} ({})\\n------------------------------\\n\".format(TIC, flc.campaign))\n"
   ]
  },
  {
   "cell_type": "code",
   "execution_count": null,
   "metadata": {},
   "outputs": [],
   "source": [
    "respath = f\"{CWD}/flare_tables/2019_10_26_TESSUCDs_flares.csv\"\n",
    "df = pd.read_csv(respath)\n",
    "df = df[df.ed_rec > 0] # keep only positive flare values\n",
    "df.to_csv(respath)"
   ]
  },
  {
   "cell_type": "code",
   "execution_count": null,
   "metadata": {},
   "outputs": [],
   "source": [
    "df.groupby(\"TIC\").count().sort_values(by=\"ampl_rec\", ascending=False).head()"
   ]
  },
  {
   "cell_type": "code",
   "execution_count": null,
   "metadata": {},
   "outputs": [],
   "source": [
    "plt.figure(figsize=(16,5))\n",
    "for c, dfs in df.groupby(\"Campaign\"):\n",
    "    plt.scatter(dfs.cstart, dfs.ampl_rec, label=c)\n",
    "plt.legend()\n",
    "plt.title(\"cadence vs. flare amplitude by campaign\");\n",
    "#plt.yscale(\"log\")\n"
   ]
  }
 ],
 "metadata": {
  "kernelspec": {
   "display_name": "flaresinclustersii",
   "language": "python",
   "name": "flaresinclustersii"
  },
  "language_info": {
   "codemirror_mode": {
    "name": "ipython",
    "version": 3
   },
   "file_extension": ".py",
   "mimetype": "text/x-python",
   "name": "python",
   "nbconvert_exporter": "python",
   "pygments_lexer": "ipython3",
   "version": "3.6.8"
  }
 },
 "nbformat": 4,
 "nbformat_minor": 2
}
