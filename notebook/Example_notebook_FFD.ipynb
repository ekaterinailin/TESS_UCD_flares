{
 "cells": [
  {
   "cell_type": "code",
   "execution_count": 1,
   "metadata": {},
   "outputs": [],
   "source": [
    "from funcs.ffd import FFD, generate_random_power_law_distribution\n",
    "\n",
    "import pandas as pd\n",
    "import numpy as np\n",
    "\n",
    "import matplotlib.pyplot as plt\n",
    "%matplotlib inline\n",
    "\n",
    "plt.rcParams['axes.labelsize'] = 16\n",
    "plt.rcParams['axes.titlesize'] = 16\n",
    "plt.rcParams['legend.fontsize'] = 16\n",
    "plt.rcParams['xtick.labelsize'] = 16\n",
    "plt.rcParams['ytick.labelsize'] = 16"
   ]
  },
  {
   "cell_type": "markdown",
   "metadata": {},
   "source": [
    "## Create an FFD object\n",
    "\n",
    "Let's create a power law distributed sample of flare energies with exponent $\\alpha=-2$\n",
    "\n",
    "A simple FFD of only one star where we assume to have correct energies, no observational biases, and a clear detection threshold at $ED=10$ s."
   ]
  },
  {
   "cell_type": "code",
   "execution_count": 2,
   "metadata": {},
   "outputs": [
    {
     "data": {
      "text/html": [
       "<div>\n",
       "<style scoped>\n",
       "    .dataframe tbody tr th:only-of-type {\n",
       "        vertical-align: middle;\n",
       "    }\n",
       "\n",
       "    .dataframe tbody tr th {\n",
       "        vertical-align: top;\n",
       "    }\n",
       "\n",
       "    .dataframe thead th {\n",
       "        text-align: right;\n",
       "    }\n",
       "</style>\n",
       "<table border=\"1\" class=\"dataframe\">\n",
       "  <thead>\n",
       "    <tr style=\"text-align: right;\">\n",
       "      <th></th>\n",
       "      <th>ed_rec</th>\n",
       "    </tr>\n",
       "  </thead>\n",
       "  <tbody>\n",
       "    <tr>\n",
       "      <th>0</th>\n",
       "      <td>20.690935</td>\n",
       "    </tr>\n",
       "    <tr>\n",
       "      <th>1</th>\n",
       "      <td>32.511053</td>\n",
       "    </tr>\n",
       "    <tr>\n",
       "      <th>2</th>\n",
       "      <td>13.645735</td>\n",
       "    </tr>\n",
       "    <tr>\n",
       "      <th>3</th>\n",
       "      <td>30.096645</td>\n",
       "    </tr>\n",
       "    <tr>\n",
       "      <th>4</th>\n",
       "      <td>99.001434</td>\n",
       "    </tr>\n",
       "  </tbody>\n",
       "</table>\n",
       "</div>"
      ],
      "text/plain": [
       "      ed_rec\n",
       "0  20.690935\n",
       "1  32.511053\n",
       "2  13.645735\n",
       "3  30.096645\n",
       "4  99.001434"
      ]
     },
     "execution_count": 2,
     "metadata": {},
     "output_type": "execute_result"
    }
   ],
   "source": [
    "# a, b, g, size = energy lower and upper limit, power law exponent +1, number of flares\n",
    "pwl = generate_random_power_law_distribution(10, 1e3, -1, size=200, seed=80)\n",
    "simple_ffd = FFD(f=pd.DataFrame({\"ed_rec\":pwl}))\n",
    "simple_ffd.f.head()"
   ]
  },
  {
   "cell_type": "markdown",
   "metadata": {},
   "source": [
    "## Plot the FFD"
   ]
  },
  {
   "cell_type": "code",
   "execution_count": 3,
   "metadata": {},
   "outputs": [
    {
     "name": "stdout",
     "output_type": "stream",
     "text": [
      "Setting ED with new values, size 200.\n",
      "Setting frequency values with new values, size 200.\n",
      "Setting frequency adjusted count values with new values, size 200.\n"
     ]
    }
   ],
   "source": [
    "ed, freq, counts = simple_ffd.ed_and_freq()"
   ]
  },
  {
   "cell_type": "code",
   "execution_count": 4,
   "metadata": {},
   "outputs": [
    {
     "data": {
      "image/png": "[encoded data removed]",
      "text/plain": [
       "<Figure size 576x432 with 1 Axes>"
      ]
     },
     "metadata": {
      "needs_background": "light"
     },
     "output_type": "display_data"
    }
   ],
   "source": [
    "plt.figure(figsize=(8,6))\n",
    "plt.scatter(ed, freq, c=\"k\")\n",
    "plt.xscale(\"log\")\n",
    "plt.yscale(\"log\")\n",
    "plt.xlabel(\"ED [s]\")\n",
    "plt.ylabel(\"cumulative number of flares per time\");"
   ]
  },
  {
   "cell_type": "markdown",
   "metadata": {},
   "source": [
    "## Fit powerlaw"
   ]
  },
  {
   "cell_type": "code",
   "execution_count": 5,
   "metadata": {},
   "outputs": [],
   "source": [
    "simple_ffd.alpha, simple_ffd.alpha_err = simple_ffd.fit_powerlaw()"
   ]
  },
  {
   "cell_type": "code",
   "execution_count": 6,
   "metadata": {},
   "outputs": [
    {
     "data": {
      "text/plain": [
       "(1.963553855895996, 0.08012203082491737)"
      ]
     },
     "execution_count": 6,
     "metadata": {},
     "output_type": "execute_result"
    }
   ],
   "source": [
    "simple_ffd.alpha, simple_ffd.alpha_err"
   ]
  },
  {
   "cell_type": "markdown",
   "metadata": {},
   "source": [
    "## Fit intercept to powerlaw with known exponent"
   ]
  },
  {
   "cell_type": "code",
   "execution_count": 7,
   "metadata": {},
   "outputs": [],
   "source": [
    "betas, simple_ffd.beta, simple_ffd.beta_err = simple_ffd.fit_beta_to_powerlaw()"
   ]
  },
  {
   "cell_type": "code",
   "execution_count": 8,
   "metadata": {},
   "outputs": [
    {
     "data": {
      "text/plain": [
       "(1753.1677389526367, 140.50464845948764)"
      ]
     },
     "execution_count": 8,
     "metadata": {},
     "output_type": "execute_result"
    }
   ],
   "source": [
    "simple_ffd.beta, simple_ffd.beta_err"
   ]
  },
  {
   "cell_type": "markdown",
   "metadata": {},
   "source": [
    "## Plot the power law"
   ]
  },
  {
   "cell_type": "code",
   "execution_count": 9,
   "metadata": {},
   "outputs": [
    {
     "data": {
      "image/png": "[encoded data removed]",
      "text/plain": [
       "<Figure size 576x432 with 1 Axes>"
      ]
     },
     "metadata": {
      "needs_background": "light"
     },
     "output_type": "display_data"
    }
   ],
   "source": [
    "fig, ax = plt.subplots(1,figsize=(8,6))\n",
    "ax.scatter(ed, freq, c=\"k\")\n",
    "ax.set_xscale(\"log\")\n",
    "ax.set_yscale(\"log\")\n",
    "ax.set_xlabel(\"ED [s]\")\n",
    "ax.set_ylabel(\"cumulative number of flares per time\")\n",
    "simple_ffd.plot_powerlaw(ax, c=\"r\",label=fr'$\\alpha=$-{simple_ffd.alpha:.1f}')\n",
    "plt.legend();"
   ]
  },
  {
   "cell_type": "markdown",
   "metadata": {},
   "source": [
    "## Is this distribution a powerlaw?"
   ]
  },
  {
   "cell_type": "code",
   "execution_count": 10,
   "metadata": {},
   "outputs": [
    {
     "data": {
      "text/plain": [
       "True"
      ]
     },
     "execution_count": 10,
     "metadata": {},
     "output_type": "execute_result"
    }
   ],
   "source": [
    "simple_ffd.is_powerlaw()"
   ]
  },
  {
   "cell_type": "markdown",
   "metadata": {},
   "source": [
    "## Is this power law distribution truncated at the upper energy limit?"
   ]
  },
  {
   "cell_type": "code",
   "execution_count": 11,
   "metadata": {},
   "outputs": [
    {
     "data": {
      "text/plain": [
       "False"
      ]
     },
     "execution_count": 11,
     "metadata": {},
     "output_type": "execute_result"
    }
   ],
   "source": [
    "simple_ffd.is_powerlaw_truncated()"
   ]
  },
  {
   "cell_type": "markdown",
   "metadata": {},
   "source": [
    "This distribution is consistent with a power law that is not truncated.\n",
    "\n",
    "Let's create a truncated version and see if it works:"
   ]
  },
  {
   "cell_type": "code",
   "execution_count": 12,
   "metadata": {},
   "outputs": [
    {
     "name": "stdout",
     "output_type": "stream",
     "text": [
      "Setting ED with new values, size 191.\n",
      "Setting frequency values with new values, size 191.\n",
      "Setting frequency adjusted count values with new values, size 191.\n"
     ]
    }
   ],
   "source": [
    "f=pd.DataFrame({\"ed_rec\":pwl})\n",
    "simple_truncated_ffd = FFD(f=f[f.ed_rec<200])#truncate at 200s \n",
    "simple_truncated_ffd.alpha = 2.\n",
    "ed, freq, counts = simple_truncated_ffd.ed_and_freq()"
   ]
  },
  {
   "cell_type": "code",
   "execution_count": 13,
   "metadata": {},
   "outputs": [
    {
     "data": {
      "text/plain": [
       "True"
      ]
     },
     "execution_count": 13,
     "metadata": {},
     "output_type": "execute_result"
    }
   ],
   "source": [
    "simple_truncated_ffd.is_powerlaw_truncated()"
   ]
  },
  {
   "cell_type": "markdown",
   "metadata": {},
   "source": [
    "*You can play with the truncation limit and sample size to get a feeling for the sensitivity of the test given the sample size.*"
   ]
  },
  {
   "cell_type": "markdown",
   "metadata": {},
   "source": [
    "## Correct for energy ratio, recovery probability, and detection thresholds"
   ]
  },
  {
   "cell_type": "markdown",
   "metadata": {},
   "source": [
    "Let's now generate a sample of flares that stem from different stars with different detection thresholds. They shall also have some observational bias:"
   ]
  },
  {
   "cell_type": "code",
   "execution_count": 44,
   "metadata": {},
   "outputs": [
    {
     "data": {
      "text/html": [
       "<div>\n",
       "<style scoped>\n",
       "    .dataframe tbody tr th:only-of-type {\n",
       "        vertical-align: middle;\n",
       "    }\n",
       "\n",
       "    .dataframe tbody tr th {\n",
       "        vertical-align: top;\n",
       "    }\n",
       "\n",
       "    .dataframe thead th {\n",
       "        text-align: right;\n",
       "    }\n",
       "</style>\n",
       "<table border=\"1\" class=\"dataframe\">\n",
       "  <thead>\n",
       "    <tr style=\"text-align: right;\">\n",
       "      <th></th>\n",
       "      <th>ed_rec</th>\n",
       "      <th>ed_corr</th>\n",
       "      <th>recovery_probability</th>\n",
       "      <th>TIC</th>\n",
       "    </tr>\n",
       "  </thead>\n",
       "  <tbody>\n",
       "    <tr>\n",
       "      <th>0</th>\n",
       "      <td>111.142669</td>\n",
       "      <td>111.142669</td>\n",
       "      <td>1</td>\n",
       "      <td>60</td>\n",
       "    </tr>\n",
       "    <tr>\n",
       "      <th>1</th>\n",
       "      <td>146.662367</td>\n",
       "      <td>146.662367</td>\n",
       "      <td>1</td>\n",
       "      <td>60</td>\n",
       "    </tr>\n",
       "    <tr>\n",
       "      <th>2</th>\n",
       "      <td>88.394412</td>\n",
       "      <td>88.394412</td>\n",
       "      <td>1</td>\n",
       "      <td>60</td>\n",
       "    </tr>\n",
       "    <tr>\n",
       "      <th>3</th>\n",
       "      <td>60.171209</td>\n",
       "      <td>60.171209</td>\n",
       "      <td>1</td>\n",
       "      <td>60</td>\n",
       "    </tr>\n",
       "    <tr>\n",
       "      <th>4</th>\n",
       "      <td>69.881928</td>\n",
       "      <td>69.881928</td>\n",
       "      <td>1</td>\n",
       "      <td>60</td>\n",
       "    </tr>\n",
       "  </tbody>\n",
       "</table>\n",
       "</div>"
      ],
      "text/plain": [
       "       ed_rec     ed_corr  recovery_probability  TIC\n",
       "0  111.142669  111.142669                     1   60\n",
       "1  146.662367  146.662367                     1   60\n",
       "2   88.394412   88.394412                     1   60\n",
       "3   60.171209   60.171209                     1   60\n",
       "4   69.881928   69.881928                     1   60"
      ]
     },
     "execution_count": 44,
     "metadata": {},
     "output_type": "execute_result"
    }
   ],
   "source": [
    "# energy upper limit, power law exponent +1, number of flares\n",
    "b, g, size = 1e8, -1, 30\n",
    "df = pd.DataFrame()\n",
    "for a in [60,100,8,90,16,220,110,50,22,80,#65,105,23,96,21,327,117,7,27,85,\n",
    "          ]: # minimum detected flare energy\n",
    "    pwls = generate_random_power_law_distribution(float(a), b, g, size=size)\n",
    "    df = df.append(pd.DataFrame({\n",
    "                                # power law distributed detected flare energies\n",
    "                                \"ed_rec\":pwls,\n",
    "                                # true flare energies are typically larger than the detected ones\n",
    "                                \"ed_corr\":pwls*1.,\n",
    "                                #maximum recovery probability is 1, otherwise 0-1\n",
    "                                \"recovery_probability\":1 ,\n",
    "                                #different targets have different detection thresholds\n",
    "                                \"TIC\":a,\n",
    "                    }))\n",
    "multi_ffd = FFD(f=df, ID=\"TIC\", tot_obs_time=5.)\n",
    "multi_ffd.f.head()"
   ]
  },
  {
   "cell_type": "code",
   "execution_count": 45,
   "metadata": {},
   "outputs": [
    {
     "name": "stdout",
     "output_type": "stream",
     "text": [
      "Setting ED with new values, size 300.\n",
      "Setting frequency values with new values, size 300.\n",
      "Setting frequency adjusted count values with new values, size 300.\n",
      "Setting ED with new values, size 300.\n",
      "Setting frequency values with new values, size 300.\n",
      "Setting frequency adjusted count values with new values, size 300.\n",
      "Setting ED with new values, size 300.\n",
      "Setting frequency values with new values, size 300.\n",
      "Setting frequency adjusted count values with new values, size 300.\n",
      "Setting ED with new values, size 300.\n",
      "Setting frequency values with new values, size 300.\n",
      "Setting frequency adjusted count values with new values, size 802.\n"
     ]
    },
    {
     "data": {
      "image/png": "[encoded data removed]",
      "text/plain": [
       "<Figure size 576x432 with 1 Axes>"
      ]
     },
     "metadata": {
      "needs_background": "light"
     },
     "output_type": "display_data"
    }
   ],
   "source": [
    "fig, ax = plt.subplots(1,figsize=(8,6))\n",
    "\n",
    "\n",
    "ed, freq, counts = multi_ffd.ed_and_freq()\n",
    "\n",
    "ax.scatter(ed, freq, c=\"k\", marker=\"x\",label=\"no correction\")\n",
    "\n",
    "ed, freq, counts = multi_ffd.ed_and_freq(energy_correction=True)\n",
    "ax.scatter(ed, freq, c=\"k\",marker=\"s\", label=\"ED correction\")\n",
    "\n",
    "ed, freq, counts = multi_ffd.ed_and_freq(energy_correction=True,\n",
    "                                         recovery_probability_correction=True)\n",
    "\n",
    "ax.scatter(ed, freq, c=\"k\",marker=\"+\", label=\"ED and recovery probability correction\")\n",
    "\n",
    "ed, freq, counts = multi_ffd.ed_and_freq(energy_correction=True,\n",
    "                                         recovery_probability_correction=True,\n",
    "                                        multiple_stars=True)\n",
    "\n",
    "ax.scatter(ed, freq, c=\"k\", label=\"multi-star, ED, and rec. prob. corrected\")\n",
    "\n",
    "ax.set_xscale(\"log\")\n",
    "ax.set_yscale(\"log\")\n",
    "ax.set_xlabel(\"ED [s]\")\n",
    "ax.set_ylabel(\"cumulative number of flares per time\")\n",
    "ax.set_xlim(.8,2e3)\n",
    "ax.set_ylim(.1,1e3)\n",
    "plt.legend(loc=(1.1,.7));"
   ]
  },
  {
   "cell_type": "code",
   "execution_count": 46,
   "metadata": {},
   "outputs": [
    {
     "data": {
      "text/plain": [
       "(1.4800010275067828, 0.018000877753944346)"
      ]
     },
     "execution_count": 46,
     "metadata": {},
     "output_type": "execute_result"
    }
   ],
   "source": [
    "multi_ffd.fit_powerlaw(count_ed=True)\n",
    "multi_ffd.alpha, multi_ffd.alpha_err"
   ]
  },
  {
   "cell_type": "markdown",
   "metadata": {},
   "source": [
    "*The uncertainty on $\\alpha$ should not be used here, because the sample was blown up artificially.*"
   ]
  },
  {
   "cell_type": "code",
   "execution_count": 41,
   "metadata": {},
   "outputs": [
    {
     "data": {
      "text/plain": [
       "(14.00111083984375, 1.0656671770756236)"
      ]
     },
     "execution_count": 41,
     "metadata": {},
     "output_type": "execute_result"
    }
   ],
   "source": [
    "betas, multi_ffd.beta, multi_ffd.betas_err = multi_ffd.fit_beta_to_powerlaw()\n",
    "multi_ffd.beta, multi_ffd.betas_err"
   ]
  },
  {
   "cell_type": "code",
   "execution_count": 42,
   "metadata": {
    "scrolled": false
   },
   "outputs": [
    {
     "name": "stdout",
     "output_type": "stream",
     "text": [
      "1.3579648724039086 14.00111083984375\n",
      "Setting ED with new values, size 50.\n",
      "Setting frequency values with new values, size 50.\n",
      "Setting frequency adjusted count values with new values, size 131.\n",
      "2 298.93129638671877\n"
     ]
    },
    {
     "data": {
      "image/png": "[encoded data removed]",
      "text/plain": [
       "<Figure size 576x432 with 1 Axes>"
      ]
     },
     "metadata": {
      "needs_background": "light"
     },
     "output_type": "display_data"
    }
   ],
   "source": [
    "fig, ax = plt.subplots(1,figsize=(8,6))\n",
    "ax.scatter(multi_ffd.ed, multi_ffd.freq, c=\"k\")\n",
    "print(multi_ffd.alpha, multi_ffd.beta)\n",
    "multi_ffd.plot_powerlaw(ax,c=\"r\",label=fr\"fitted $\\alpha={multi_ffd.alpha:.1f}$\")\n",
    "\n",
    "#overplot the intrinsic distribution\n",
    "multi_ffd2 = FFD(f=df, ID=\"TIC\", tot_obs_time=5.)\n",
    "ed, freq, counts = multi_ffd2.ed_and_freq(energy_correction=True,\n",
    "                                         recovery_probability_correction=True,\n",
    "                                        multiple_stars=True)\n",
    "multi_ffd2.alpha, multi_ffd2.alpha_err = -g+1, .1\n",
    "betas, multi_ffd2.beta, multi_ffd2.betas_err = multi_ffd2.fit_beta_to_powerlaw()\n",
    "print(multi_ffd2.alpha, multi_ffd2.beta)\n",
    "multi_ffd2.plot_powerlaw(ax,c=\"orange\",label=fr\"intrinsic $\\alpha={multi_ffd2.alpha:.1f}$\")\n",
    "\n",
    "plt.xscale(\"log\")\n",
    "plt.yscale(\"log\")\n",
    "plt.xlabel(\"ED [s]\")\n",
    "plt.ylabel(\"cumulative number of flares per time\")\n",
    "plt.legend();"
   ]
  },
  {
   "cell_type": "markdown",
   "metadata": {},
   "source": [
    "Let's test if the two solutions are consistent with a power law."
   ]
  },
  {
   "cell_type": "code",
   "execution_count": 43,
   "metadata": {},
   "outputs": [
    {
     "name": "stderr",
     "output_type": "stream",
     "text": [
      "/home/ekaterina/Documents/001_Science/TESS_UCDs/TESS_UCD_flares/notebook/funcs/ffd.py:394: UserWarning: Kolmogorov-Smirnov tells us to reject the power law hypothesis at p=0.05. KS=0.20712410112897328, limit=0.19206455826398416\n",
      "  ' KS={}, limit={}'.format(sig_level, KS, limit))\n",
      "/home/ekaterina/Documents/001_Science/TESS_UCDs/TESS_UCD_flares/notebook/funcs/ffd.py:394: UserWarning: Kolmogorov-Smirnov tells us to reject the power law hypothesis at p=0.05. KS=0.3578298707931935, limit=0.19206455826398416\n",
      "  ' KS={}, limit={}'.format(sig_level, KS, limit))\n"
     ]
    },
    {
     "data": {
      "text/plain": [
       "(False, False)"
      ]
     },
     "execution_count": 43,
     "metadata": {},
     "output_type": "execute_result"
    }
   ],
   "source": [
    "multi_ffd.is_powerlaw(count_ed=True), multi_ffd2.is_powerlaw(count_ed=True)"
   ]
  },
  {
   "cell_type": "code",
   "execution_count": 37,
   "metadata": {},
   "outputs": [
    {
     "data": {
      "text/plain": [
       "(False, False)"
      ]
     },
     "execution_count": 37,
     "metadata": {},
     "output_type": "execute_result"
    }
   ],
   "source": [
    "multi_ffd.is_powerlaw_truncated(count_ed=True), multi_ffd2.is_powerlaw_truncated(count_ed=True)"
   ]
  },
  {
   "cell_type": "code",
   "execution_count": null,
   "metadata": {},
   "outputs": [],
   "source": []
  }
 ],
 "metadata": {
  "kernelspec": {
   "display_name": "flaresinclustersii",
   "language": "python",
   "name": "flaresinclustersii"
  },
  "language_info": {
   "codemirror_mode": {
    "name": "ipython",
    "version": 3
   },
   "file_extension": ".py",
   "mimetype": "text/x-python",
   "name": "python",
   "nbconvert_exporter": "python",
   "pygments_lexer": "ipython3",
   "version": "3.6.9"
  }
 },
 "nbformat": 4,
 "nbformat_minor": 2
}
