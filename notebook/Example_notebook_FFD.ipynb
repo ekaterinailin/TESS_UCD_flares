{
 "cells": [
  {
   "cell_type": "markdown",
   "metadata": {},
   "source": [
    "# Flare Frequency Distributions, power laws, and more\n",
    "\n",
    "## This notebook illustrates the use of the FFD module `ffd.py`. \n",
    "\n",
    "FFD stands for Flare Frequency Distribution. The format of the flare table that is used to inititalize an FFD object shares some of the columns of the `FlareLightCurve.flares` table. \n",
    "\n",
    "## This module includes functionality to \n",
    "\n",
    "- fit the power law exponent $\\alpha$ and intercept $\\beta$, \n",
    "- plot the resulting function in the cumulative form,\n",
    "- test if the power law assumption must be rejected, \n",
    "- and if the distribution is truncated at the high energy end.\n",
    "\n",
    "Furthermore, you can make use of the `ed_corr`, `recovery_probability` attributes of the flares in the flare table that you may obtain from performing *injection and recovery of synthetic flares*.\n",
    "\n",
    "Finally, if your flare table contains contributions from multiple stars that you think generate flares that can be described by the same power law but with different detection thresholds, you can use the `mutliple_stars` keyword to account for this. \n",
    "\n",
    "*Note that samples with less than 100-200 flares are to be analysed with caution.*"
   ]
  },
  {
   "cell_type": "code",
   "execution_count": 1,
   "metadata": {},
   "outputs": [],
   "source": [
    "# Import the main class and a function to generate synthetic flare samples.\n",
    "from funcs.ffd import FFD, generate_random_power_law_distribution\n",
    "\n",
    "import pandas as pd\n",
    "import numpy as np\n",
    "\n",
    "import matplotlib.pyplot as plt\n",
    "%matplotlib inline\n",
    "\n",
    "for att in ['axes.labelsize', 'axes.titlesize', 'legend.fontsize',\n",
    "            'legend.fontsize', 'xtick.labelsize', 'ytick.labelsize']:\n",
    "    plt.rcParams[att] = 16"
   ]
  },
  {
   "cell_type": "markdown",
   "metadata": {},
   "source": [
    "## Create an FFD object\n",
    "\n",
    "Let's create a power law distributed sample of flare energies with exponent $\\alpha=-2$\n",
    "\n",
    "A simple FFD of only one star where we assume to have correct energies, no observational biases, and a clear detection threshold at $ED=10$ s."
   ]
  },
  {
   "cell_type": "code",
   "execution_count": 2,
   "metadata": {},
   "outputs": [
    {
     "data": {
      "text/html": [
       "<div>\n",
       "<style scoped>\n",
       "    .dataframe tbody tr th:only-of-type {\n",
       "        vertical-align: middle;\n",
       "    }\n",
       "\n",
       "    .dataframe tbody tr th {\n",
       "        vertical-align: top;\n",
       "    }\n",
       "\n",
       "    .dataframe thead th {\n",
       "        text-align: right;\n",
       "    }\n",
       "</style>\n",
       "<table border=\"1\" class=\"dataframe\">\n",
       "  <thead>\n",
       "    <tr style=\"text-align: right;\">\n",
       "      <th></th>\n",
       "      <th>ed_rec</th>\n",
       "    </tr>\n",
       "  </thead>\n",
       "  <tbody>\n",
       "    <tr>\n",
       "      <th>0</th>\n",
       "      <td>20.690935</td>\n",
       "    </tr>\n",
       "    <tr>\n",
       "      <th>1</th>\n",
       "      <td>32.511053</td>\n",
       "    </tr>\n",
       "    <tr>\n",
       "      <th>2</th>\n",
       "      <td>13.645735</td>\n",
       "    </tr>\n",
       "    <tr>\n",
       "      <th>3</th>\n",
       "      <td>30.096645</td>\n",
       "    </tr>\n",
       "    <tr>\n",
       "      <th>4</th>\n",
       "      <td>99.001434</td>\n",
       "    </tr>\n",
       "  </tbody>\n",
       "</table>\n",
       "</div>"
      ],
      "text/plain": [
       "      ed_rec\n",
       "0  20.690935\n",
       "1  32.511053\n",
       "2  13.645735\n",
       "3  30.096645\n",
       "4  99.001434"
      ]
     },
     "execution_count": 2,
     "metadata": {},
     "output_type": "execute_result"
    }
   ],
   "source": [
    "# a, b, g, size = energy lower and upper limit, power law exponent +1, number of flares\n",
    "pwl = generate_random_power_law_distribution(10, 1e3, -1, size=200, seed=80)\n",
    "simple_ffd = FFD(f=pd.DataFrame({\"ed_rec\":pwl}))\n",
    "simple_ffd.f.head()"
   ]
  },
  {
   "cell_type": "markdown",
   "metadata": {},
   "source": [
    "## Plot the FFD"
   ]
  },
  {
   "cell_type": "code",
   "execution_count": 3,
   "metadata": {},
   "outputs": [
    {
     "name": "stdout",
     "output_type": "stream",
     "text": [
      "Setting ED with new values, size 200.\n",
      "Setting frequency values with new values, size 200.\n",
      "Setting frequency adjusted count values with new values, size 200.\n"
     ]
    }
   ],
   "source": [
    "ed, freq, counts = simple_ffd.ed_and_freq()"
   ]
  },
  {
   "cell_type": "code",
   "execution_count": 4,
   "metadata": {},
   "outputs": [
    {
     "data": {
      "image/png": "[encoded data removed]",
      "text/plain": [
       "<Figure size 576x432 with 1 Axes>"
      ]
     },
     "metadata": {
      "needs_background": "light"
     },
     "output_type": "display_data"
    }
   ],
   "source": [
    "plt.figure(figsize=(8,6))\n",
    "plt.scatter(ed, freq, c=\"k\")\n",
    "plt.xscale(\"log\")\n",
    "plt.yscale(\"log\")\n",
    "plt.xlabel(\"ED [s]\")\n",
    "plt.ylabel(\"cumulative number of flares per time\");"
   ]
  },
  {
   "cell_type": "markdown",
   "metadata": {},
   "source": [
    "## Fit powerlaw"
   ]
  },
  {
   "cell_type": "code",
   "execution_count": 5,
   "metadata": {},
   "outputs": [],
   "source": [
    "simple_ffd.alpha, simple_ffd.alpha_err = simple_ffd.fit_powerlaw()"
   ]
  },
  {
   "cell_type": "code",
   "execution_count": 6,
   "metadata": {},
   "outputs": [
    {
     "data": {
      "text/plain": [
       "(1.963553855895996, 0.08012203082491737)"
      ]
     },
     "execution_count": 6,
     "metadata": {},
     "output_type": "execute_result"
    }
   ],
   "source": [
    "simple_ffd.alpha, simple_ffd.alpha_err"
   ]
  },
  {
   "cell_type": "markdown",
   "metadata": {},
   "source": [
    "## Fit intercept to powerlaw with known exponent"
   ]
  },
  {
   "cell_type": "code",
   "execution_count": 7,
   "metadata": {},
   "outputs": [],
   "source": [
    "betas, simple_ffd.beta, simple_ffd.beta_err = simple_ffd.fit_beta_to_powerlaw()"
   ]
  },
  {
   "cell_type": "code",
   "execution_count": 8,
   "metadata": {},
   "outputs": [
    {
     "data": {
      "text/plain": [
       "(1753.1677389526367, 140.50464845948764)"
      ]
     },
     "execution_count": 8,
     "metadata": {},
     "output_type": "execute_result"
    }
   ],
   "source": [
    "simple_ffd.beta, simple_ffd.beta_err"
   ]
  },
  {
   "cell_type": "markdown",
   "metadata": {},
   "source": [
    "## Plot the power law"
   ]
  },
  {
   "cell_type": "code",
   "execution_count": 9,
   "metadata": {},
   "outputs": [
    {
     "data": {
      "image/png": "[encoded data removed]",
      "text/plain": [
       "<Figure size 576x432 with 1 Axes>"
      ]
     },
     "metadata": {
      "needs_background": "light"
     },
     "output_type": "display_data"
    }
   ],
   "source": [
    "fig, ax = plt.subplots(1,figsize=(8,6))\n",
    "ax.scatter(ed, freq, c=\"k\")\n",
    "ax.set_xscale(\"log\")\n",
    "ax.set_yscale(\"log\")\n",
    "ax.set_xlabel(\"ED [s]\")\n",
    "ax.set_ylabel(\"cumulative number of flares per time\")\n",
    "simple_ffd.plot_powerlaw(ax, c=\"r\",label=fr'$\\alpha=$-{simple_ffd.alpha:.1f}')\n",
    "plt.legend();"
   ]
  },
  {
   "cell_type": "markdown",
   "metadata": {},
   "source": [
    "## Is this distribution a powerlaw?"
   ]
  },
  {
   "cell_type": "code",
   "execution_count": 10,
   "metadata": {},
   "outputs": [
    {
     "data": {
      "text/plain": [
       "True"
      ]
     },
     "execution_count": 10,
     "metadata": {},
     "output_type": "execute_result"
    }
   ],
   "source": [
    "simple_ffd.is_powerlaw()"
   ]
  },
  {
   "cell_type": "markdown",
   "metadata": {},
   "source": [
    "## Is this power law distribution truncated at the upper energy limit?"
   ]
  },
  {
   "cell_type": "code",
   "execution_count": 11,
   "metadata": {},
   "outputs": [
    {
     "data": {
      "text/plain": [
       "False"
      ]
     },
     "execution_count": 11,
     "metadata": {},
     "output_type": "execute_result"
    }
   ],
   "source": [
    "simple_ffd.is_powerlaw_truncated()"
   ]
  },
  {
   "cell_type": "markdown",
   "metadata": {},
   "source": [
    "This distribution is consistent with a power law that is not truncated.\n",
    "\n",
    "Let's create a truncated version and see if it works:"
   ]
  },
  {
   "cell_type": "code",
   "execution_count": 12,
   "metadata": {},
   "outputs": [
    {
     "name": "stdout",
     "output_type": "stream",
     "text": [
      "Setting ED with new values, size 191.\n",
      "Setting frequency values with new values, size 191.\n",
      "Setting frequency adjusted count values with new values, size 191.\n"
     ]
    }
   ],
   "source": [
    "f=pd.DataFrame({\"ed_rec\":pwl})\n",
    "simple_truncated_ffd = FFD(f=f[f.ed_rec<200])#truncate at 200s \n",
    "simple_truncated_ffd.alpha = 2.\n",
    "ed, freq, counts = simple_truncated_ffd.ed_and_freq()"
   ]
  },
  {
   "cell_type": "code",
   "execution_count": 13,
   "metadata": {},
   "outputs": [
    {
     "data": {
      "text/plain": [
       "True"
      ]
     },
     "execution_count": 13,
     "metadata": {},
     "output_type": "execute_result"
    }
   ],
   "source": [
    "simple_truncated_ffd.is_powerlaw_truncated()"
   ]
  },
  {
   "cell_type": "markdown",
   "metadata": {},
   "source": [
    "*You can play with the truncation limit and sample size to get a feeling for the sensitivity of the test given the sample size.*"
   ]
  },
  {
   "cell_type": "markdown",
   "metadata": {},
   "source": [
    "## Correct for energy ratio, recovery probability, and detection thresholds"
   ]
  },
  {
   "cell_type": "markdown",
   "metadata": {},
   "source": [
    "Let's now generate a sample of flares that stem from different stars with different detection thresholds. They shall also have some observational bias captured by the corrected $ED$ `ed_corr` and recovery probability. We choose them to be the same for all stars for simplicity."
   ]
  },
  {
   "cell_type": "code",
   "execution_count": 14,
   "metadata": {},
   "outputs": [
    {
     "data": {
      "text/html": [
       "<div>\n",
       "<style scoped>\n",
       "    .dataframe tbody tr th:only-of-type {\n",
       "        vertical-align: middle;\n",
       "    }\n",
       "\n",
       "    .dataframe tbody tr th {\n",
       "        vertical-align: top;\n",
       "    }\n",
       "\n",
       "    .dataframe thead th {\n",
       "        text-align: right;\n",
       "    }\n",
       "</style>\n",
       "<table border=\"1\" class=\"dataframe\">\n",
       "  <thead>\n",
       "    <tr style=\"text-align: right;\">\n",
       "      <th></th>\n",
       "      <th>ed_rec</th>\n",
       "      <th>ed_corr</th>\n",
       "      <th>recovery_probability</th>\n",
       "      <th>TIC</th>\n",
       "    </tr>\n",
       "  </thead>\n",
       "  <tbody>\n",
       "    <tr>\n",
       "      <th>0</th>\n",
       "      <td>226.844610</td>\n",
       "      <td>453.689220</td>\n",
       "      <td>0.7</td>\n",
       "      <td>60</td>\n",
       "    </tr>\n",
       "    <tr>\n",
       "      <th>1</th>\n",
       "      <td>366.259422</td>\n",
       "      <td>732.518844</td>\n",
       "      <td>0.7</td>\n",
       "      <td>60</td>\n",
       "    </tr>\n",
       "    <tr>\n",
       "      <th>2</th>\n",
       "      <td>84.747559</td>\n",
       "      <td>169.495117</td>\n",
       "      <td>0.7</td>\n",
       "      <td>60</td>\n",
       "    </tr>\n",
       "    <tr>\n",
       "      <th>3</th>\n",
       "      <td>72.411908</td>\n",
       "      <td>144.823816</td>\n",
       "      <td>0.7</td>\n",
       "      <td>60</td>\n",
       "    </tr>\n",
       "    <tr>\n",
       "      <th>0</th>\n",
       "      <td>107.607129</td>\n",
       "      <td>215.214257</td>\n",
       "      <td>0.7</td>\n",
       "      <td>100</td>\n",
       "    </tr>\n",
       "  </tbody>\n",
       "</table>\n",
       "</div>"
      ],
      "text/plain": [
       "       ed_rec     ed_corr  recovery_probability  TIC\n",
       "0  226.844610  453.689220                   0.7   60\n",
       "1  366.259422  732.518844                   0.7   60\n",
       "2   84.747559  169.495117                   0.7   60\n",
       "3   72.411908  144.823816                   0.7   60\n",
       "0  107.607129  215.214257                   0.7  100"
      ]
     },
     "execution_count": 14,
     "metadata": {},
     "output_type": "execute_result"
    }
   ],
   "source": [
    "# energy upper limit, power law exponent +1, number of flares\n",
    "a0, b, g, size = 10, 1e8, -1, 30\n",
    "df = pd.DataFrame()\n",
    "for a in [60,100,8,90,16,220,110,50,22,80,#65,105,23,96,21,327,117,7,27,85,\n",
    "          ]: # minimum detected flare energy\n",
    "    # all flares stem from the same power law distribution\n",
    "    pwls = generate_random_power_law_distribution(a0, b, g, size=size)\n",
    "    # introduce a detection threshold\n",
    "    pwls = pwls[pwls>a]\n",
    "    df = df.append(pd.DataFrame({\n",
    "                                # power law distributed detected flare energies\n",
    "                                \"ed_rec\":pwls,\n",
    "                                # true flare energies are typically larger than the detected ones\n",
    "                                \"ed_corr\":pwls*2.,\n",
    "                                #maximum recovery probability is 1, otherwise 0-1\n",
    "                                \"recovery_probability\":.7 ,\n",
    "                                #different targets have different detection thresholds\n",
    "                                \"TIC\":a,\n",
    "                    }))\n",
    "multi_ffd = FFD(f=df, ID=\"TIC\", tot_obs_time=5.)\n",
    "multi_ffd.f.head()"
   ]
  },
  {
   "cell_type": "markdown",
   "metadata": {},
   "source": [
    "#### Plot the distributions using the different correction steps:\n",
    "\n",
    "1. No correction. Just `ed_rec` vs. frequency\n",
    "2. Correct the ED ratio between injected and recovered flares, i.e., use the `ed_corr` column and the frequency. This is done by setting `energy_correction = True`\n",
    "3. Now use `ed_corr` and correct the individual frequencies of each flare by `recovery_probability`. This is done by adding the `recovery_probability_correction = True` keyword.\n",
    "4. Finally, average each portion of the FFD by the number of stars that contribute to it by adding another keyword: `multiple_stars = True`"
   ]
  },
  {
   "cell_type": "code",
   "execution_count": 15,
   "metadata": {
    "scrolled": false
   },
   "outputs": [
    {
     "name": "stdout",
     "output_type": "stream",
     "text": [
      "Setting ED with new values, size 89.\n",
      "Setting frequency values with new values, size 89.\n",
      "Setting frequency adjusted count values with new values, size 89.\n",
      "Setting ED with new values, size 89.\n",
      "Setting frequency values with new values, size 89.\n",
      "Setting frequency adjusted count values with new values, size 89.\n",
      "Setting ED with new values, size 89.\n",
      "Setting frequency values with new values, size 89.\n",
      "Setting frequency adjusted count values with new values, size 89.\n",
      "Setting ED with new values, size 89.\n",
      "Setting frequency values with new values, size 89.\n",
      "Setting frequency adjusted count values with new values, size 371.\n"
     ]
    },
    {
     "data": {
      "image/png": "[encoded data removed]",
      "text/plain": [
       "<Figure size 576x432 with 1 Axes>"
      ]
     },
     "metadata": {
      "needs_background": "light"
     },
     "output_type": "display_data"
    }
   ],
   "source": [
    "fig, ax = plt.subplots(1,figsize=(8,6))\n",
    "\n",
    "\n",
    "ed, freq, counts = multi_ffd.ed_and_freq()\n",
    "\n",
    "ax.scatter(ed, freq, c=\"k\", marker=\"x\",label=\"no correction\")\n",
    "\n",
    "ed, freq, counts = multi_ffd.ed_and_freq(energy_correction=True)\n",
    "ax.scatter(ed, freq, c=\"k\",marker=\"s\", label=\"ED correction\")\n",
    "\n",
    "ed, freq, counts = multi_ffd.ed_and_freq(energy_correction=True,\n",
    "                                         recovery_probability_correction=True)\n",
    "\n",
    "ax.scatter(ed, freq, c=\"k\",marker=\"+\", label=\"ED and recovery probability correction\")\n",
    "\n",
    "ed, freq, counts = multi_ffd.ed_and_freq(energy_correction=True,\n",
    "                                         recovery_probability_correction=True,\n",
    "                                        multiple_stars=True)\n",
    "\n",
    "ax.scatter(ed, freq, c=\"k\", label=\"multi-star, ED, and rec. prob. corrected\")\n",
    "\n",
    "ax.set_xscale(\"log\")\n",
    "ax.set_yscale(\"log\")\n",
    "ax.set_xlabel(\"ED [s]\")\n",
    "ax.set_ylabel(\"cumulative number of flares per time\")\n",
    "ax.set_xlim(5,2e4)\n",
    "ax.set_ylim(.1,4e2)\n",
    "plt.legend(loc=(1.1,.7));"
   ]
  },
  {
   "cell_type": "markdown",
   "metadata": {},
   "source": [
    "### Fit $\\alpha$ using the MLE method from Maschberger and Kroupa (2009).\n",
    "[[MNRAS](https://academic.oup.com/mnras/article/395/2/931/1747409), [ArXiv](https://arxiv.org/abs/0905.0474)]"
   ]
  },
  {
   "cell_type": "code",
   "execution_count": 16,
   "metadata": {},
   "outputs": [
    {
     "data": {
      "text/plain": [
       "(1.883210175506509, 0.04643983656461689)"
      ]
     },
     "execution_count": 16,
     "metadata": {},
     "output_type": "execute_result"
    }
   ],
   "source": [
    "multi_ffd.fit_powerlaw(count_ed=True)\n",
    "multi_ffd.alpha, multi_ffd.alpha_err"
   ]
  },
  {
   "cell_type": "markdown",
   "metadata": {},
   "source": [
    "*The uncertainty on $\\alpha$ should not be used here, because the sample was blown up artificially at the low energy end to compensate for the different detection thresholds when setting the `multiple_stars` flag.*\n",
    "\n",
    "Now fit $\\beta$ simply using the least-squares method:"
   ]
  },
  {
   "cell_type": "code",
   "execution_count": 17,
   "metadata": {},
   "outputs": [
    {
     "data": {
      "text/plain": [
       "(1056.168081905065, 49.852617791719744)"
      ]
     },
     "execution_count": 17,
     "metadata": {},
     "output_type": "execute_result"
    }
   ],
   "source": [
    "betas, multi_ffd.beta, multi_ffd.betas_err = multi_ffd.fit_beta_to_powerlaw()\n",
    "multi_ffd.beta, multi_ffd.betas_err"
   ]
  },
  {
   "cell_type": "markdown",
   "metadata": {},
   "source": [
    "Finally, show the resulting fit, and compare to the intrinsic distribution:"
   ]
  },
  {
   "cell_type": "code",
   "execution_count": 18,
   "metadata": {
    "scrolled": false
   },
   "outputs": [
    {
     "name": "stdout",
     "output_type": "stream",
     "text": [
      "Setting ED with new values, size 89.\n",
      "Setting frequency values with new values, size 89.\n",
      "Setting frequency adjusted count values with new values, size 371.\n"
     ]
    },
    {
     "data": {
      "image/png": "[encoded data removed]",
      "text/plain": [
       "<Figure size 576x432 with 1 Axes>"
      ]
     },
     "metadata": {
      "needs_background": "light"
     },
     "output_type": "display_data"
    }
   ],
   "source": [
    "fig, ax = plt.subplots(1,figsize=(8,6))\n",
    "ax.scatter(multi_ffd.ed, multi_ffd.freq, c=\"k\")\n",
    "multi_ffd.plot_powerlaw(ax,c=\"r\",label=fr\"fitted $\\alpha={multi_ffd.alpha:.1f}$\")\n",
    "\n",
    "#overplot the intrinsic distribution-------------------------------------------------\n",
    "multi_ffd2 = FFD(f=df, ID=\"TIC\", tot_obs_time=5.)\n",
    "ed, freq, counts = multi_ffd2.ed_and_freq(energy_correction=True,\n",
    "                                         recovery_probability_correction=True,\n",
    "                                        multiple_stars=True)\n",
    "multi_ffd2.alpha, multi_ffd2.alpha_err = -g+1, .1\n",
    "betas, multi_ffd2.beta, multi_ffd2.betas_err = multi_ffd2.fit_beta_to_powerlaw()\n",
    "multi_ffd2.plot_powerlaw(ax,c=\"orange\",label=fr\"intrinsic $\\alpha={multi_ffd2.alpha:.1f}$\")\n",
    "#--------------------------------------------------------------------------------------\n",
    "\n",
    "plt.xscale(\"log\")\n",
    "plt.yscale(\"log\")\n",
    "plt.xlabel(\"ED [s]\")\n",
    "plt.ylabel(\"cumulative number of flares per time\")\n",
    "plt.legend();"
   ]
  },
  {
   "cell_type": "markdown",
   "metadata": {},
   "source": [
    "#### Let's test if the two solutions are consistent with a power law."
   ]
  },
  {
   "cell_type": "code",
   "execution_count": 19,
   "metadata": {},
   "outputs": [
    {
     "data": {
      "text/plain": [
       "(True, True)"
      ]
     },
     "execution_count": 19,
     "metadata": {},
     "output_type": "execute_result"
    }
   ],
   "source": [
    "multi_ffd.is_powerlaw(count_ed=True), multi_ffd2.is_powerlaw(count_ed=True)"
   ]
  },
  {
   "cell_type": "markdown",
   "metadata": {},
   "source": [
    "The should not be truncated because we set the upper limit to very high energies:"
   ]
  },
  {
   "cell_type": "code",
   "execution_count": 20,
   "metadata": {},
   "outputs": [
    {
     "data": {
      "text/plain": [
       "(False, False)"
      ]
     },
     "execution_count": 20,
     "metadata": {},
     "output_type": "execute_result"
    }
   ],
   "source": [
    "multi_ffd.is_powerlaw_truncated(count_ed=True), multi_ffd2.is_powerlaw_truncated(count_ed=True)"
   ]
  },
  {
   "cell_type": "code",
   "execution_count": null,
   "metadata": {},
   "outputs": [],
   "source": []
  }
 ],
 "metadata": {
  "kernelspec": {
   "display_name": "flaresinclustersii",
   "language": "python",
   "name": "flaresinclustersii"
  },
  "language_info": {
   "codemirror_mode": {
    "name": "ipython",
    "version": 3
   },
   "file_extension": ".py",
   "mimetype": "text/x-python",
   "name": "python",
   "nbconvert_exporter": "python",
   "pygments_lexer": "ipython3",
   "version": "3.6.9"
  }
 },
 "nbformat": 4,
 "nbformat_minor": 2
}
