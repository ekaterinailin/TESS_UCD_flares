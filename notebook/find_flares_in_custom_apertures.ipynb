{
 "cells": [
  {
   "cell_type": "code",
   "execution_count": 1,
   "metadata": {},
   "outputs": [
    {
     "name": "stderr",
     "output_type": "stream",
     "text": [
      "/usr/lib64/python3.6/importlib/_bootstrap.py:219: RuntimeWarning: numpy.ufunc size changed, may indicate binary incompatibility. Expected 192 from C header, got 216 from PyObject\n",
      "  return f(*args, **kwds)\n",
      "/usr/lib64/python3.6/importlib/_bootstrap.py:219: RuntimeWarning: numpy.ufunc size changed, may indicate binary incompatibility. Expected 192 from C header, got 216 from PyObject\n",
      "  return f(*args, **kwds)\n",
      "/usr/lib64/python3.6/importlib/_bootstrap_external.py:426: ImportWarning: Not importing directory /work1/eilin/Flares_in_Clusters_2/RESULTS_Github/flares-in-clusters-with-k2-ii/flaresinclustersii/lib64/python3.6/site-packages/mpl_toolkits: missing __init__\n",
      "  _warnings.warn(msg.format(portions[0]), ImportWarning)\n",
      "/usr/lib64/python3.6/importlib/_bootstrap_external.py:426: ImportWarning: Not importing directory /work1/eilin/Flares_in_Clusters_2/RESULTS_Github/flares-in-clusters-with-k2-ii/flaresinclustersii/lib/python3.6/site-packages/mpl_toolkits: missing __init__\n",
      "  _warnings.warn(msg.format(portions[0]), ImportWarning)\n",
      "/usr/lib64/python3.6/importlib/_bootstrap.py:219: RuntimeWarning: numpy.ufunc size changed, may indicate binary incompatibility. Expected 192 from C header, got 216 from PyObject\n",
      "  return f(*args, **kwds)\n"
     ]
    }
   ],
   "source": [
    "# ---Script that finds flares in TESS LCs---\n",
    "#\n",
    "# last update: 29.04.2019\n",
    "#\n",
    "# Run as:\n",
    "# $ python3 script.py *lc.fits\n",
    "# in the folder with all the light curves\n",
    "#\n",
    "# Note:\n",
    "# TIC 77041172 failed with:\n",
    "# ValueError: cannot reshape array of size 2198 into shape (19737,)\n",
    "#\n",
    "# Column description\n",
    "# tstart, tstop      --- BJD-2457000 start and end time of flare detection\n",
    "# cstart, cstop      --- start and end cadence number of flare detection\n",
    "# istart, istop      --- start and end index into array of flare detection\n",
    "# ampl_rec           --- recoverd flare amplitude relative to quiescent flux\n",
    "# ed_rec, ed_rec_err --- recovered ED and uncertainty in seconds\n",
    "# TIC                --- TESS ID\n",
    "# Campaign           --- TESS mission campaign\n",
    "\n",
    "import numpy as np\n",
    "import pandas as pd\n",
    "from astropy.io import fits\n",
    "from altaipony.flarelc import FlareLightCurve\n",
    "import sys\n",
    "\n",
    "import matplotlib.pyplot as plt\n",
    "%matplotlib inline\n",
    "\n",
    "def write_flares_to_file(flc, cluster):\n",
    "    '''\n",
    "    Write the resulting flare table to file, adding\n",
    "    it  to the rest.\n",
    "    '''\n",
    "    cols = ['TIC', 'ampl_rec', 'cstart', 'cstop', \n",
    "            'ed_rec', 'ed_rec_err', 'istart', 'istop', \n",
    "            'tstart', 'tstop', 'Campaign']\n",
    "            #'saturation_f10']\n",
    "    try:\n",
    "        df = pd.read_csv('{0}_flares.csv'.format(cluster),\n",
    "            usecols=cols)\n",
    "    except:\n",
    "        print('Create a file named {}_flares.csv'.format(cluster))\n",
    "        df = pd.DataFrame(columns=cols)\n",
    "        \n",
    "    lbefore = flc.flares[~flc.flares.ed_rec.isnull()].shape[0]\n",
    "    if lbefore == 0:\n",
    "        emptydf = pd.DataFrame(dict(zip(cols, [flc.targetid] + [np.nan] * (len(cols) - 1))), index=[0])\n",
    "        flc.flares = flc.flares.append(emptydf, ignore_index=True)\n",
    "        print('Added an empty row for TIC {}'.format(flc.targetid))\n",
    "    flc.flares['TIC'] = flc.targetid\n",
    "    flc.flares['Campaign'] = flc.campaign\n",
    "    #flc.flares = flc.get_saturation(return_level=True) maybe later\n",
    "    print(flc.flares)\n",
    "    df = df.append(flc.flares, ignore_index=True)\n",
    "    lafter = df[~df.ed_rec.isnull()].shape[0]\n",
    "   # print('Added {} flares to the {} found so far in {}.'.format(lafter-lbefore, lbefore, cluster))\n",
    "    df.to_csv('{0}_flares.csv'.format(cluster), index=False)\n",
    "    return"
   ]
  },
  {
   "cell_type": "code",
   "execution_count": 2,
   "metadata": {},
   "outputs": [
    {
     "data": {
      "text/plain": [
       "191"
      ]
     },
     "execution_count": 2,
     "metadata": {},
     "output_type": "execute_result"
    }
   ],
   "source": [
    "paths = pd.read_csv(\"/work1/eilin/TESS_UCDs/TESS_UCD_flares/custom_aperture/lclist.txt\", header=None)\n",
    "paths = list(paths[0].values)\n",
    "len(paths)"
   ]
  },
  {
   "cell_type": "code",
   "execution_count": null,
   "metadata": {},
   "outputs": [
    {
     "name": "stdout",
     "output_type": "stream",
     "text": [
      "0ca_tess2019082014090-s0001-0000000029780677-0000-s_lc.fits \n",
      "\n",
      "\n",
      "Started TIC 29780677 (1), LC nr. 0\n",
      "------------------------------\n",
      "\n"
     ]
    },
    {
     "name": "stderr",
     "output_type": "stream",
     "text": [
      "Found 0 candidate(s) in the (0,9223) gap.\n",
      "Found 2 candidate(s) in the (9223,15240) gap.\n",
      "Found 0 candidate(s) in the (15240,18104) gap.\n"
     ]
    },
    {
     "name": "stdout",
     "output_type": "stream",
     "text": [
      "Create a file named /work1/eilin/TESS_UCDs/flare_tables/2019_10_25_TESSUCDs_flares.csv\n",
      "   ampl_rec cstart  cstop       ed_rec  ed_rec_err istart  istop  \\\n",
      "0  2.421832  81083  81126  1621.434404    4.646887   9518   9561   \n",
      "1  0.179638  83396  83416   231.591749    4.078065  11803  11823   \n",
      "\n",
      "   total_n_valid_data_points       tstart        tstop       TIC  Campaign  \n",
      "0                    18104.0  1340.071717  1340.131439  29780677         1  \n",
      "1                    18104.0  1343.284226  1343.312004  29780677         1  \n",
      "\n",
      "Finished TIC 29780677 (1)\n",
      "------------------------------\n",
      "\n",
      "1ca_tess2019082014114-s0001-0000000142052876-0000-s_lc.fits \n",
      "\n",
      "\n",
      "Started TIC 142052876 (1), LC nr. 1\n",
      "------------------------------\n",
      "\n"
     ]
    },
    {
     "name": "stderr",
     "output_type": "stream",
     "text": [
      "Found 6 candidate(s) in the (0,9223) gap.\n",
      "Found 0 candidate(s) in the (9223,15240) gap.\n",
      "Found 2 candidate(s) in the (15240,18104) gap.\n"
     ]
    },
    {
     "name": "stdout",
     "output_type": "stream",
     "text": [
      "   ampl_rec cstart  cstop      ed_rec  ed_rec_err istart  istop  \\\n",
      "0  0.015014  74161  74165    5.772812    0.408417   3579   3583   \n",
      "1  0.022008  76823  76831   12.725052    0.549814   6163   6171   \n",
      "2  0.015628  77660  77684   37.270688    1.942071   6967   6975   \n",
      "3  0.090806  77718  77733   42.499317    0.607565   7009   7023   \n",
      "4  0.015222  78410  78413    4.381121    0.335384   7697   7700   \n",
      "5  0.010119  79157  79164    7.784945    0.532556   8437   8444   \n",
      "6  0.448444  90441  90472  193.794515    0.653799  18025  18056   \n",
      "7  0.014571  90482  90485    3.772694    0.339027  18066  18069   \n",
      "\n",
      "   total_n_valid_data_points       tstart        tstop        TIC  Campaign  \n",
      "0                    18104.0  1330.457578  1330.463133  142052876         1  \n",
      "1                    18104.0  1334.154755  1334.165866  142052876         1  \n",
      "2                    18104.0  1335.317236  1335.350569  142052876         1  \n",
      "3                    18104.0  1335.397790  1335.418623  142052876         1  \n",
      "4                    18104.0  1336.358885  1336.363051  142052876         1  \n",
      "5                    18104.0  1337.396368  1337.406090  142052876         1  \n",
      "6                    18104.0  1353.068335  1353.111390  142052876         1  \n",
      "7                    18104.0  1353.125279  1353.129445  142052876         1  \n",
      "\n",
      "Finished TIC 142052876 (1)\n",
      "------------------------------\n",
      "\n",
      "2ca_tess2019082014592-s0001-0000000167894019-0000-s_lc.fits \n",
      "\n",
      "\n",
      "Started TIC 167894019 (1), LC nr. 2\n",
      "------------------------------\n",
      "\n"
     ]
    },
    {
     "name": "stderr",
     "output_type": "stream",
     "text": [
      "Found 1 candidate(s) in the (0,9223) gap.\n",
      "Found 3 candidate(s) in the (9223,15240) gap.\n",
      "Found 1 candidate(s) in the (15240,18104) gap.\n"
     ]
    },
    {
     "name": "stdout",
     "output_type": "stream",
     "text": [
      "   ampl_rec cstart  cstop     ed_rec  ed_rec_err istart  istop  \\\n",
      "0  0.248917  74599  74609  83.223740    1.292761   4017   4027   \n",
      "1  0.093421  80980  80988  47.609747    1.265971   9415   9423   \n",
      "2  0.095542  82713  82717  25.197924    0.917451  11122  11126   \n",
      "3  0.045072  83273  83277  16.141538    1.035261  11680  11684   \n",
      "4  0.085360  88092  88097  31.650013    1.078368  15706  15711   \n",
      "\n",
      "   total_n_valid_data_points       tstart        tstop        TIC  Campaign  \n",
      "0                    18104.0  1331.064366  1331.078255  167894019         1  \n",
      "1                    18104.0  1339.926813  1339.937924  167894019         1  \n",
      "2                    18104.0  1342.333753  1342.339309  167894019         1  \n",
      "3                    18104.0  1343.111531  1343.117086  167894019         1  \n",
      "4                    18104.0  1349.804580  1349.811525  167894019         1  \n",
      "\n",
      "Finished TIC 167894019 (1)\n",
      "------------------------------\n",
      "\n",
      "3ca_tess2019102510403-s0001-0000000220429097-0000-s_lc.fits \n",
      "\n",
      "\n",
      "Started TIC 220429097 (1), LC nr. 3\n",
      "------------------------------\n",
      "\n"
     ]
    },
    {
     "name": "stderr",
     "output_type": "stream",
     "text": [
      "Found 2 candidate(s) in the (0,9223) gap.\n",
      "Found 0 candidate(s) in the (9223,15240) gap.\n",
      "Found 0 candidate(s) in the (15240,18104) gap.\n"
     ]
    },
    {
     "name": "stdout",
     "output_type": "stream",
     "text": [
      "   ampl_rec cstart  cstop     ed_rec  ed_rec_err istart istop  \\\n",
      "0  0.199897  76760  76764  58.556233    2.739290   6100  6104   \n",
      "1  0.057080  77384  77388  26.014285    2.915422   6717  6721   \n",
      "\n",
      "   total_n_valid_data_points       tstart        tstop        TIC  Campaign  \n",
      "0                    18104.0  1334.066651  1334.072207  220429097         1  \n",
      "1                    18104.0  1334.933332  1334.938887  220429097         1  \n",
      "\n",
      "Finished TIC 220429097 (1)\n",
      "------------------------------\n",
      "\n",
      "4ca_tess2019090409262-s0001-0000000234307350-0000-s_lc.fits \n",
      "\n",
      "\n",
      "Started TIC 234307350 (1), LC nr. 4\n",
      "------------------------------\n",
      "\n"
     ]
    },
    {
     "name": "stderr",
     "output_type": "stream",
     "text": [
      "Found 0 candidate(s) in the (0,9223) gap.\n",
      "Found 0 candidate(s) in the (9223,15240) gap.\n",
      "Found 0 candidate(s) in the (15240,18104) gap.\n"
     ]
    },
    {
     "name": "stdout",
     "output_type": "stream",
     "text": [
      "Added an empty row for TIC 234307350\n",
      "   Campaign        TIC ampl_rec cstart cstop ed_rec ed_rec_err istart istop  \\\n",
      "0         1  234307350      NaN    NaN   NaN    NaN        NaN    NaN   NaN   \n",
      "\n",
      "  tstart tstop  \n",
      "0    NaN   NaN  \n",
      "\n",
      "Finished TIC 234307350 (1)\n",
      "------------------------------\n",
      "\n",
      "5ca_tess2019082311060-s0001-0000000259901346-0000-s_lc.fits \n",
      "\n",
      "\n",
      "Started TIC 259901346 (1), LC nr. 5\n",
      "------------------------------\n",
      "\n"
     ]
    },
    {
     "name": "stderr",
     "output_type": "stream",
     "text": [
      "Found 0 candidate(s) in the (0,9223) gap.\n",
      "Found 0 candidate(s) in the (9223,15240) gap.\n",
      "Found 0 candidate(s) in the (15240,18104) gap.\n"
     ]
    },
    {
     "name": "stdout",
     "output_type": "stream",
     "text": [
      "Added an empty row for TIC 259901346\n",
      "   Campaign        TIC ampl_rec cstart cstop ed_rec ed_rec_err istart istop  \\\n",
      "0         1  259901346      NaN    NaN   NaN    NaN        NaN    NaN   NaN   \n",
      "\n",
      "  tstart tstop  \n",
      "0    NaN   NaN  \n",
      "\n",
      "Finished TIC 259901346 (1)\n",
      "------------------------------\n",
      "\n",
      "6ca_tess2019082314042-s0001-0000000280801342-0000-s_lc.fits \n",
      "\n",
      "\n",
      "Started TIC 280801342 (1), LC nr. 6\n",
      "------------------------------\n",
      "\n"
     ]
    },
    {
     "name": "stderr",
     "output_type": "stream",
     "text": [
      "Found 0 candidate(s) in the (0,9223) gap.\n",
      "Found 0 candidate(s) in the (9223,15240) gap.\n",
      "Found 0 candidate(s) in the (15240,18104) gap.\n"
     ]
    },
    {
     "name": "stdout",
     "output_type": "stream",
     "text": [
      "Added an empty row for TIC 280801342\n",
      "   Campaign        TIC ampl_rec cstart cstop ed_rec ed_rec_err istart istop  \\\n",
      "0         1  280801342      NaN    NaN   NaN    NaN        NaN    NaN   NaN   \n",
      "\n",
      "  tstart tstop  \n",
      "0    NaN   NaN  \n",
      "\n",
      "Finished TIC 280801342 (1)\n",
      "------------------------------\n",
      "\n",
      "7ca_tess2019082314075-s0001-0000000303978478-0000-s_lc.fits \n",
      "\n",
      "\n",
      "Started TIC 303978478 (1), LC nr. 7\n",
      "------------------------------\n",
      "\n"
     ]
    },
    {
     "name": "stderr",
     "output_type": "stream",
     "text": [
      "Found 0 candidate(s) in the (0,9223) gap.\n",
      "Found 0 candidate(s) in the (9223,15240) gap.\n",
      "Found 0 candidate(s) in the (15240,18104) gap.\n"
     ]
    },
    {
     "name": "stdout",
     "output_type": "stream",
     "text": [
      "Added an empty row for TIC 303978478\n",
      "   Campaign        TIC ampl_rec cstart cstop ed_rec ed_rec_err istart istop  \\\n",
      "0         1  303978478      NaN    NaN   NaN    NaN        NaN    NaN   NaN   \n",
      "\n",
      "  tstart tstop  \n",
      "0    NaN   NaN  \n",
      "\n",
      "Finished TIC 303978478 (1)\n",
      "------------------------------\n",
      "\n",
      "8ca_tess2019102509142-s0001-0000000358108509-0000-s_lc.fits \n",
      "\n",
      "\n",
      "Started TIC 358108509 (1), LC nr. 8\n",
      "------------------------------\n",
      "\n"
     ]
    },
    {
     "name": "stderr",
     "output_type": "stream",
     "text": [
      "Found 1 candidate(s) in the (0,9223) gap.\n",
      "Found 0 candidate(s) in the (9223,15240) gap.\n",
      "Found 1 candidate(s) in the (15240,18104) gap.\n"
     ]
    },
    {
     "name": "stdout",
     "output_type": "stream",
     "text": [
      "   ampl_rec cstart  cstop       ed_rec  ed_rec_err istart  istop  \\\n",
      "0  0.141465  71679  71690   135.441160    6.205342   1229   1240   \n",
      "1  1.907051  90504  90519  1190.886278    6.224931  18088  18103   \n",
      "\n",
      "   total_n_valid_data_points       tstart        tstop        TIC  Campaign  \n",
      "0                    18104.0  1327.011203  1327.026481  358108509         1  \n",
      "1                    18104.0  1353.156829  1353.177662  358108509         1  \n",
      "\n",
      "Finished TIC 358108509 (1)\n",
      "------------------------------\n",
      "\n",
      "9ca_tess2019082314154-s0001-0000000389051009-0000-s_lc.fits \n",
      "\n",
      "\n",
      "Started TIC 389051009 (1), LC nr. 9\n",
      "------------------------------\n",
      "\n"
     ]
    },
    {
     "name": "stderr",
     "output_type": "stream",
     "text": [
      "Found 1 candidate(s) in the (0,9223) gap.\n",
      "Found 1 candidate(s) in the (9223,15240) gap.\n",
      "Found 0 candidate(s) in the (15240,18104) gap.\n"
     ]
    },
    {
     "name": "stdout",
     "output_type": "stream",
     "text": [
      "   ampl_rec cstart  cstop      ed_rec  ed_rec_err istart istop  \\\n",
      "0  0.238401  75376  75394  179.580667    3.460905   4765  4783   \n",
      "1  0.162666  81201  81229  284.968263    4.804348   9636  9664   \n",
      "\n",
      "   total_n_valid_data_points       tstart        tstop        TIC  Campaign  \n",
      "0                    18104.0  1332.148260  1332.173260  389051009         1  \n",
      "1                    18104.0  1340.238467  1340.277355  389051009         1  \n",
      "\n",
      "Finished TIC 389051009 (1)\n",
      "------------------------------\n",
      "\n",
      "10ca_tess2019100710504-s0001-0000000401984769-0000-s_lc.fits \n",
      "\n",
      "\n",
      "Started TIC 401984769 (1), LC nr. 10\n",
      "------------------------------\n",
      "\n"
     ]
    },
    {
     "name": "stderr",
     "output_type": "stream",
     "text": [
      "Found 0 candidate(s) in the (0,9223) gap.\n",
      "Found 0 candidate(s) in the (9223,15240) gap.\n",
      "Found 0 candidate(s) in the (15240,18104) gap.\n"
     ]
    },
    {
     "name": "stdout",
     "output_type": "stream",
     "text": [
      "Added an empty row for TIC 401984769\n",
      "   Campaign        TIC ampl_rec cstart cstop ed_rec ed_rec_err istart istop  \\\n",
      "0         1  401984769      NaN    NaN   NaN    NaN        NaN    NaN   NaN   \n",
      "\n",
      "  tstart tstop  \n",
      "0    NaN   NaN  \n",
      "\n",
      "Finished TIC 401984769 (1)\n",
      "------------------------------\n",
      "\n",
      "11ca_tess2019090409285-s0002-0000000007150628-0000-s_lc.fits \n",
      "\n",
      "\n",
      "Started TIC 7150628 (2), LC nr. 11\n",
      "------------------------------\n",
      "\n"
     ]
    },
    {
     "name": "stderr",
     "output_type": "stream",
     "text": [
      "Found 0 candidate(s) in the (0,9227) gap.\n",
      "Found 0 candidate(s) in the (9227,18317) gap.\n"
     ]
    },
    {
     "name": "stdout",
     "output_type": "stream",
     "text": [
      "Added an empty row for TIC 7150628\n",
      "   Campaign      TIC ampl_rec cstart cstop ed_rec ed_rec_err istart istop  \\\n",
      "0         2  7150628      NaN    NaN   NaN    NaN        NaN    NaN   NaN   \n",
      "\n",
      "  tstart tstop  \n",
      "0    NaN   NaN  \n",
      "\n",
      "Finished TIC 7150628 (2)\n",
      "------------------------------\n",
      "\n",
      "12ca_tess2019090409343-s0002-0000000029780677-0000-s_lc.fits \n",
      "\n",
      "\n",
      "Started TIC 29780677 (2), LC nr. 12\n",
      "------------------------------\n",
      "\n"
     ]
    },
    {
     "name": "stderr",
     "output_type": "stream",
     "text": [
      "Found 0 candidate(s) in the (0,9227) gap.\n",
      "Found 3 candidate(s) in the (9227,18317) gap.\n"
     ]
    },
    {
     "name": "stdout",
     "output_type": "stream",
     "text": [
      "   ampl_rec  cstart   cstop      ed_rec  ed_rec_err istart  istop  \\\n",
      "0  0.172101  102541  102544   30.390348    1.236291  10142  10145   \n",
      "1  0.078503  106969  106985   97.689348    3.378139  14495  14511   \n",
      "2  0.119035  109949  109963  120.882284    3.335646  17387  17401   \n",
      "\n",
      "   total_n_valid_data_points       tstart        tstop       TIC  Campaign  \n",
      "0                    18317.0  1369.874451  1369.878618  29780677         2  \n",
      "1                    18317.0  1376.024417  1376.046639  29780677         2  \n",
      "2                    18317.0  1380.163272  1380.182717  29780677         2  \n",
      "\n",
      "Finished TIC 29780677 (2)\n",
      "------------------------------\n",
      "\n",
      "13ca_tess2019090409390-s0002-0000000034014829-0000-s_lc.fits \n",
      "\n",
      "\n",
      "Started TIC 34014829 (2), LC nr. 13\n",
      "------------------------------\n",
      "\n"
     ]
    },
    {
     "name": "stderr",
     "output_type": "stream",
     "text": [
      "Found 0 candidate(s) in the (0,9227) gap.\n",
      "Found 0 candidate(s) in the (9227,18317) gap.\n"
     ]
    },
    {
     "name": "stdout",
     "output_type": "stream",
     "text": [
      "Added an empty row for TIC 34014829\n",
      "   Campaign       TIC ampl_rec cstart cstop ed_rec ed_rec_err istart istop  \\\n",
      "0         2  34014829      NaN    NaN   NaN    NaN        NaN    NaN   NaN   \n",
      "\n",
      "  tstart tstop  \n",
      "0    NaN   NaN  \n",
      "\n",
      "Finished TIC 34014829 (2)\n",
      "------------------------------\n",
      "\n",
      "14ca_tess2019090410495-s0002-0000000077041175-0000-s_lc.fits \n",
      "\n",
      "\n",
      "Started TIC 77041175 (2), LC nr. 14\n",
      "------------------------------\n",
      "\n"
     ]
    },
    {
     "name": "stderr",
     "output_type": "stream",
     "text": [
      "Found 0 candidate(s) in the (0,9227) gap.\n",
      "Found 0 candidate(s) in the (9227,18317) gap.\n"
     ]
    },
    {
     "name": "stdout",
     "output_type": "stream",
     "text": [
      "Added an empty row for TIC 77041175\n",
      "   Campaign       TIC ampl_rec cstart cstop ed_rec ed_rec_err istart istop  \\\n",
      "0         2  77041175      NaN    NaN   NaN    NaN        NaN    NaN   NaN   \n",
      "\n",
      "  tstart tstop  \n",
      "0    NaN   NaN  \n",
      "\n",
      "Finished TIC 77041175 (2)\n",
      "------------------------------\n",
      "\n",
      "15ca_tess2019090410525-s0002-0000000142052876-0000-s_lc.fits \n",
      "\n",
      "\n",
      "Started TIC 142052876 (2), LC nr. 15\n",
      "------------------------------\n",
      "\n"
     ]
    },
    {
     "name": "stderr",
     "output_type": "stream",
     "text": [
      "Found 4 candidate(s) in the (0,9227) gap.\n",
      "Found 3 candidate(s) in the (9227,18317) gap.\n"
     ]
    },
    {
     "name": "stdout",
     "output_type": "stream",
     "text": [
      "   ampl_rec  cstart   cstop      ed_rec  ed_rec_err istart  istop  \\\n",
      "0  0.038270   93517   93526   19.189919    0.533965   2294   2303   \n",
      "1  0.063329   96203   96220   53.816191    0.804205   4945   4961   \n",
      "2  0.210445   96696   96711   90.617355    0.520300   5405   5420   \n",
      "3  0.238882   98561   98582  130.003323    0.656841   7238   7259   \n",
      "4  0.046127  107289  107295   15.623260    0.416259  14797  14803   \n",
      "5  0.023456  109314  109322   15.309635    0.556377  16756  16764   \n",
      "6  0.012881  109772  109775    4.041818    0.355062  17211  17214   \n",
      "\n",
      "   total_n_valid_data_points       tstart        tstop        TIC  Campaign  \n",
      "0                    18317.0  1357.340483  1357.352983  142052876         2  \n",
      "1                    18317.0  1361.070978  1361.094589  142052876         2  \n",
      "2                    18317.0  1361.755689  1361.776522  142052876         2  \n",
      "3                    18317.0  1364.345922  1364.375088  142052876         2  \n",
      "4                    18317.0  1376.467925  1376.476258  142052876         2  \n",
      "5                    18317.0  1379.280374  1379.291485  142052876         2  \n",
      "6                    18317.0  1379.916473  1379.920640  142052876         2  \n",
      "\n",
      "Finished TIC 142052876 (2)\n",
      "------------------------------\n",
      "\n",
      "16ca_tess2019102509570-s0002-0000000167894019-0000-s_lc.fits \n",
      "\n",
      "\n",
      "Started TIC 167894019 (2), LC nr. 16\n",
      "------------------------------\n",
      "\n"
     ]
    },
    {
     "name": "stderr",
     "output_type": "stream",
     "text": [
      "Found 2 candidate(s) in the (0,9226) gap.\n",
      "Found 1 candidate(s) in the (9226,18316) gap.\n"
     ]
    },
    {
     "name": "stdout",
     "output_type": "stream",
     "text": [
      "   ampl_rec  cstart   cstop      ed_rec  ed_rec_err istart  istop  \\\n",
      "0  0.287842   92802   92830  178.766238    1.969908   1593   1621   \n",
      "1  0.088244   99466   99473   40.823214    1.508914   8136   8143   \n",
      "2  0.097686  104054  104057   23.413498    0.829509  11623  11626   \n",
      "\n",
      "   total_n_valid_data_points       tstart        tstop        TIC  Campaign  \n",
      "0                    18316.0  1356.346239  1356.385128  167894019         2  \n",
      "1                    18316.0  1365.601819  1365.611541  167894019         2  \n",
      "2                    18316.0  1371.974064  1371.978231  167894019         2  \n",
      "\n",
      "Finished TIC 167894019 (2)\n",
      "------------------------------\n",
      "\n",
      "17ca_tess2019090411583-s0002-0000000180724005-0000-s_lc.fits \n",
      "\n",
      "\n",
      "Started TIC 180724005 (2), LC nr. 17\n",
      "------------------------------\n",
      "\n"
     ]
    },
    {
     "name": "stderr",
     "output_type": "stream",
     "text": [
      "Found 1 candidate(s) in the (0,9227) gap.\n",
      "Found 0 candidate(s) in the (9227,18317) gap.\n"
     ]
    },
    {
     "name": "stdout",
     "output_type": "stream",
     "text": [
      "   ampl_rec cstart  cstop      ed_rec  ed_rec_err istart istop  \\\n",
      "0  0.874859  99179  99188  367.094548    3.842846   7854  7863   \n",
      "\n",
      "   total_n_valid_data_points       tstart        tstop        TIC  Campaign  \n",
      "0                    18317.0  1365.208357  1365.220857  180724005         2  \n",
      "\n",
      "Finished TIC 180724005 (2)\n",
      "------------------------------\n",
      "\n",
      "18ca_tess2019102510421-s0002-0000000220429097-0000-s_lc.fits \n",
      "\n",
      "\n",
      "Started TIC 220429097 (2), LC nr. 18\n",
      "------------------------------\n",
      "\n"
     ]
    },
    {
     "name": "stderr",
     "output_type": "stream",
     "text": [
      "Found 0 candidate(s) in the (0,9227) gap.\n",
      "Found 1 candidate(s) in the (9227,18317) gap.\n"
     ]
    },
    {
     "name": "stdout",
     "output_type": "stream",
     "text": [
      "   ampl_rec  cstart   cstop     ed_rec  ed_rec_err istart  istop  \\\n",
      "0  0.295449  108627  108630  59.261564    2.206992  16115  16118   \n",
      "\n",
      "   total_n_valid_data_points       tstart       tstop        TIC  Campaign  \n",
      "0                    18317.0  1378.327113  1378.33128  220429097         2  \n",
      "\n",
      "Finished TIC 220429097 (2)\n",
      "------------------------------\n",
      "\n",
      "19ca_tess2019090412043-s0002-0000000234307350-0000-s_lc.fits \n",
      "\n",
      "\n",
      "Started TIC 234307350 (2), LC nr. 19\n",
      "------------------------------\n",
      "\n"
     ]
    },
    {
     "name": "stderr",
     "output_type": "stream",
     "text": [
      "Found 0 candidate(s) in the (0,9227) gap.\n",
      "Found 1 candidate(s) in the (9227,18317) gap.\n"
     ]
    },
    {
     "name": "stdout",
     "output_type": "stream",
     "text": [
      "   ampl_rec  cstart   cstop      ed_rec  ed_rec_err istart  istop  \\\n",
      "0   2.75342  104122  104128  611.514595   10.178018  11692  11698   \n",
      "\n",
      "   total_n_valid_data_points       tstart        tstop        TIC  Campaign  \n",
      "0                    18317.0  1372.071068  1372.079401  234307350         2  \n",
      "\n",
      "Finished TIC 234307350 (2)\n",
      "------------------------------\n",
      "\n",
      "20ca_tess2019090412090-s0002-0000000259901346-0000-s_lc.fits \n",
      "\n",
      "\n",
      "Started TIC 259901346 (2), LC nr. 20\n",
      "------------------------------\n",
      "\n"
     ]
    },
    {
     "name": "stderr",
     "output_type": "stream",
     "text": [
      "Found 0 candidate(s) in the (0,9227) gap.\n",
      "Found 0 candidate(s) in the (9227,18317) gap.\n"
     ]
    },
    {
     "name": "stdout",
     "output_type": "stream",
     "text": [
      "Added an empty row for TIC 259901346\n",
      "   Campaign        TIC ampl_rec cstart cstop ed_rec ed_rec_err istart istop  \\\n",
      "0         2  259901346      NaN    NaN   NaN    NaN        NaN    NaN   NaN   \n",
      "\n",
      "  tstart tstop  \n",
      "0    NaN   NaN  \n",
      "\n",
      "Finished TIC 259901346 (2)\n",
      "------------------------------\n",
      "\n",
      "21ca_tess2019090412111-s0002-0000000270218775-0000-s_lc.fits \n",
      "\n",
      "\n",
      "Started TIC 270218775 (2), LC nr. 21\n",
      "------------------------------\n",
      "\n"
     ]
    },
    {
     "name": "stderr",
     "output_type": "stream",
     "text": [
      "Found 0 candidate(s) in the (0,9227) gap.\n",
      "Found 0 candidate(s) in the (9227,18317) gap.\n"
     ]
    },
    {
     "name": "stdout",
     "output_type": "stream",
     "text": [
      "Added an empty row for TIC 270218775\n",
      "   Campaign        TIC ampl_rec cstart cstop ed_rec ed_rec_err istart istop  \\\n",
      "0         2  270218775      NaN    NaN   NaN    NaN        NaN    NaN   NaN   \n",
      "\n",
      "  tstart tstop  \n",
      "0    NaN   NaN  \n",
      "\n",
      "Finished TIC 270218775 (2)\n",
      "------------------------------\n",
      "\n",
      "22ca_tess2019090412202-s0002-0000000281668854-0000-s_lc.fits \n",
      "\n",
      "\n",
      "Started TIC 281668854 (2), LC nr. 22\n",
      "------------------------------\n",
      "\n"
     ]
    },
    {
     "name": "stderr",
     "output_type": "stream",
     "text": [
      "Found 0 candidate(s) in the (0,9227) gap.\n",
      "Found 0 candidate(s) in the (9227,18317) gap.\n"
     ]
    },
    {
     "name": "stdout",
     "output_type": "stream",
     "text": [
      "Added an empty row for TIC 281668854\n",
      "   Campaign        TIC ampl_rec cstart cstop ed_rec ed_rec_err istart istop  \\\n",
      "0         2  281668854      NaN    NaN   NaN    NaN        NaN    NaN   NaN   \n",
      "\n",
      "  tstart tstop  \n",
      "0    NaN   NaN  \n",
      "\n",
      "Finished TIC 281668854 (2)\n",
      "------------------------------\n",
      "\n",
      "23ca_tess2019090412295-s0002-0000000303978478-0000-s_lc.fits \n",
      "\n",
      "\n",
      "Started TIC 303978478 (2), LC nr. 23\n",
      "------------------------------\n",
      "\n"
     ]
    },
    {
     "name": "stderr",
     "output_type": "stream",
     "text": [
      "Found 0 candidate(s) in the (0,9227) gap.\n",
      "Found 0 candidate(s) in the (9227,18317) gap.\n"
     ]
    },
    {
     "name": "stdout",
     "output_type": "stream",
     "text": [
      "Added an empty row for TIC 303978478\n",
      "   Campaign        TIC ampl_rec cstart cstop ed_rec ed_rec_err istart istop  \\\n",
      "0         2  303978478      NaN    NaN   NaN    NaN        NaN    NaN   NaN   \n",
      "\n",
      "  tstart tstop  \n",
      "0    NaN   NaN  \n",
      "\n",
      "Finished TIC 303978478 (2)\n",
      "------------------------------\n",
      "\n",
      "24ca_tess2019102414445-s0002-0000000304392811-0000-s_lc.fits \n",
      "\n",
      "\n",
      "Started TIC 304392811 (2), LC nr. 24\n",
      "------------------------------\n",
      "\n"
     ]
    },
    {
     "name": "stderr",
     "output_type": "stream",
     "text": [
      "Found 0 candidate(s) in the (0,9227) gap.\n",
      "Found 1 candidate(s) in the (9227,18317) gap.\n"
     ]
    },
    {
     "name": "stdout",
     "output_type": "stream",
     "text": [
      "   ampl_rec  cstart   cstop     ed_rec  ed_rec_err istart  istop  \\\n",
      "0  0.167827  109559  109564  56.990373    3.622714  16999  17004   \n",
      "\n",
      "   total_n_valid_data_points       tstart       tstop        TIC  Campaign  \n",
      "0                    18317.0  1379.625925  1379.63287  304392811         2  \n",
      "\n",
      "Finished TIC 304392811 (2)\n",
      "------------------------------\n",
      "\n",
      "25ca_tess2019090412562-s0002-0000000340703996-0000-s_lc.fits \n",
      "\n",
      "\n",
      "Started TIC 340703996 (2), LC nr. 25\n",
      "------------------------------\n",
      "\n"
     ]
    },
    {
     "name": "stderr",
     "output_type": "stream",
     "text": [
      "Found 3 candidate(s) in the (0,9227) gap.\n",
      "Found 1 candidate(s) in the (9227,18317) gap.\n"
     ]
    },
    {
     "name": "stdout",
     "output_type": "stream",
     "text": [
      "   ampl_rec  cstart   cstop      ed_rec  ed_rec_err istart  istop  \\\n",
      "0  0.028410   94166   94172   12.969009    0.642277   2936   2942   \n",
      "1  0.507411   97099   97113  127.583512    0.593989   5808   5822   \n",
      "2  0.077952  100436  100439   16.679607    0.439198   9080   9083   \n",
      "3  0.139210  105530  105533   21.558411    0.359127  13070  13073   \n",
      "\n",
      "   total_n_valid_data_points       tstart        tstop        TIC  Campaign  \n",
      "0                    18317.0  1358.246442  1358.254776  340703996         2  \n",
      "1                    18317.0  1362.320152  1362.339597  340703996         2  \n",
      "2                    18317.0  1366.954965  1366.959132  340703996         2  \n",
      "3                    18317.0  1374.030041  1374.034208  340703996         2  \n",
      "\n",
      "Finished TIC 340703996 (2)\n",
      "------------------------------\n",
      "\n",
      "26ca_tess2019102509250-s0002-0000000358108509-0000-s_lc.fits \n",
      "\n",
      "\n",
      "Started TIC 358108509 (2), LC nr. 26\n",
      "------------------------------\n",
      "\n"
     ]
    },
    {
     "name": "stderr",
     "output_type": "stream",
     "text": [
      "Found 0 candidate(s) in the (0,9227) gap.\n",
      "Found 0 candidate(s) in the (9227,18317) gap.\n"
     ]
    },
    {
     "name": "stdout",
     "output_type": "stream",
     "text": [
      "Added an empty row for TIC 358108509\n",
      "   Campaign        TIC ampl_rec cstart cstop ed_rec ed_rec_err istart istop  \\\n",
      "0         2  358108509      NaN    NaN   NaN    NaN        NaN    NaN   NaN   \n",
      "\n",
      "  tstart tstop  \n",
      "0    NaN   NaN  \n",
      "\n",
      "Finished TIC 358108509 (2)\n",
      "------------------------------\n",
      "\n",
      "27ca_tess2019100710515-s0002-0000000401984769-0000-s_lc.fits \n",
      "\n",
      "\n",
      "Started TIC 401984769 (2), LC nr. 27\n",
      "------------------------------\n",
      "\n"
     ]
    },
    {
     "name": "stderr",
     "output_type": "stream",
     "text": [
      "Found 0 candidate(s) in the (0,9227) gap.\n",
      "Found 0 candidate(s) in the (9227,18317) gap.\n"
     ]
    },
    {
     "name": "stdout",
     "output_type": "stream",
     "text": [
      "Added an empty row for TIC 401984769\n",
      "   Campaign        TIC ampl_rec cstart cstop ed_rec ed_rec_err istart istop  \\\n",
      "0         2  401984769      NaN    NaN   NaN    NaN        NaN    NaN   NaN   \n",
      "\n",
      "  tstart tstop  \n",
      "0    NaN   NaN  \n",
      "\n",
      "Finished TIC 401984769 (2)\n",
      "------------------------------\n",
      "\n",
      "28ca_tess2019090608070-s0003-0000000029780677-0000-s_lc.fits \n",
      "\n",
      "\n",
      "Started TIC 29780677 (3), LC nr. 28\n",
      "------------------------------\n",
      "\n"
     ]
    },
    {
     "name": "stderr",
     "output_type": "stream",
     "text": [
      "Found 1 candidate(s) in the (0,6683) gap.\n",
      "Found 1 candidate(s) in the (6683,13452) gap.\n"
     ]
    },
    {
     "name": "stdout",
     "output_type": "stream",
     "text": [
      "   ampl_rec  cstart   cstop     ed_rec  ed_rec_err istart  istop  \\\n",
      "0  0.074203  115055  115058  18.871237    1.389901    936    939   \n",
      "1  0.172589  128000  128004  48.330128    1.531691  12753  12757   \n",
      "\n",
      "   total_n_valid_data_points       tstart        tstop       TIC  Campaign  \n",
      "0                    13452.0  1387.254873  1387.259040  29780677         3  \n",
      "1                    13452.0  1405.233826  1405.239382  29780677         3  \n",
      "\n",
      "Finished TIC 29780677 (3)\n",
      "------------------------------\n",
      "\n",
      "29ca_tess2019090608091-s0003-0000000029928567-0000-s_lc.fits \n",
      "\n",
      "\n",
      "Started TIC 29928567 (3), LC nr. 29\n",
      "------------------------------\n",
      "\n"
     ]
    },
    {
     "name": "stderr",
     "output_type": "stream",
     "text": [
      "Found 3 candidate(s) in the (0,6683) gap.\n",
      "Found 0 candidate(s) in the (6683,13452) gap.\n"
     ]
    },
    {
     "name": "stdout",
     "output_type": "stream",
     "text": [
      "   ampl_rec  cstart   cstop     ed_rec  ed_rec_err istart istop  \\\n",
      "0  0.055615  115182  115188  14.113099    0.099482   1059  1065   \n",
      "1  0.056007  116128  116139  18.663234    0.123821   1987  1998   \n",
      "2  0.024868  116792  116797   7.400994    0.094752   2642  2647   \n",
      "\n",
      "   total_n_valid_data_points       tstart        tstop       TIC  Campaign  \n",
      "0                    13452.0  1387.435518  1387.443851  29928567         3  \n",
      "1                    13452.0  1388.749428  1388.764706  29928567         3  \n",
      "2                    13452.0  1389.671663  1389.678608  29928567         3  \n",
      "\n",
      "Finished TIC 29928567 (3)\n",
      "------------------------------\n",
      "\n",
      "30ca_tess2019090608180-s0003-0000000038314290-0000-s_lc.fits \n",
      "\n",
      "\n",
      "Started TIC 38314290 (3), LC nr. 30\n",
      "------------------------------\n",
      "\n"
     ]
    },
    {
     "name": "stderr",
     "output_type": "stream",
     "text": [
      "Found 0 candidate(s) in the (0,6683) gap.\n",
      "Found 0 candidate(s) in the (6683,13452) gap.\n"
     ]
    },
    {
     "name": "stdout",
     "output_type": "stream",
     "text": [
      "Added an empty row for TIC 38314290\n",
      "   Campaign       TIC ampl_rec cstart cstop ed_rec ed_rec_err istart istop  \\\n",
      "0         3  38314290      NaN    NaN   NaN    NaN        NaN    NaN   NaN   \n",
      "\n",
      "  tstart tstop  \n",
      "0    NaN   NaN  \n",
      "\n",
      "Finished TIC 38314290 (3)\n",
      "------------------------------\n",
      "\n",
      "31ca_tess2019090608230-s0003-0000000070555405-0000-s_lc.fits \n",
      "\n",
      "\n",
      "Started TIC 70555405 (3), LC nr. 31\n",
      "------------------------------\n",
      "\n"
     ]
    },
    {
     "name": "stderr",
     "output_type": "stream",
     "text": [
      "Found 0 candidate(s) in the (0,6683) gap.\n",
      "Found 0 candidate(s) in the (6683,13452) gap.\n"
     ]
    },
    {
     "name": "stdout",
     "output_type": "stream",
     "text": [
      "Added an empty row for TIC 70555405\n",
      "   Campaign       TIC ampl_rec cstart cstop ed_rec ed_rec_err istart istop  \\\n",
      "0         3  70555405      NaN    NaN   NaN    NaN        NaN    NaN   NaN   \n",
      "\n",
      "  tstart tstop  \n",
      "0    NaN   NaN  \n",
      "\n",
      "Finished TIC 70555405 (3)\n",
      "------------------------------\n",
      "\n",
      "32ca_tess2019090608262-s0003-0000000077111651-0000-s_lc.fits \n",
      "\n",
      "\n",
      "Started TIC 77111651 (3), LC nr. 32\n",
      "------------------------------\n",
      "\n"
     ]
    },
    {
     "name": "stderr",
     "output_type": "stream",
     "text": [
      "Found 0 candidate(s) in the (0,6683) gap.\n",
      "Found 3 candidate(s) in the (6683,13452) gap.\n"
     ]
    },
    {
     "name": "stdout",
     "output_type": "stream",
     "text": [
      "   ampl_rec  cstart   cstop       ed_rec  ed_rec_err istart  istop  \\\n",
      "0  1.456380  125488  125519  1243.561083    4.789796  10298  10329   \n",
      "1  0.058010  125523  125526    17.083536    1.999461  10333  10336   \n",
      "2  0.228495  128374  128378    73.078457    2.132660  13124  13128   \n",
      "\n",
      "   total_n_valid_data_points       tstart        tstop       TIC  Campaign  \n",
      "0                    13452.0  1401.748112  1401.791167  77111651         3  \n",
      "1                    13452.0  1401.796723  1401.800889  77111651         3  \n",
      "2                    13452.0  1405.756413  1405.761969  77111651         3  \n",
      "\n",
      "Finished TIC 77111651 (3)\n",
      "------------------------------\n",
      "\n",
      "33ca_tess2019090608301-s0003-0000000140478472-0000-s_lc.fits \n",
      "\n",
      "\n",
      "Started TIC 140478472 (3), LC nr. 33\n",
      "------------------------------\n",
      "\n"
     ]
    },
    {
     "name": "stderr",
     "output_type": "stream",
     "text": [
      "Found 1 candidate(s) in the (0,6683) gap.\n",
      "Found 0 candidate(s) in the (6683,13452) gap.\n"
     ]
    },
    {
     "name": "stdout",
     "output_type": "stream",
     "text": [
      "   ampl_rec  cstart   cstop    ed_rec  ed_rec_err istart istop  \\\n",
      "0  0.060795  119271  119275  15.90476    0.956953   5047  5051   \n",
      "\n",
      "   total_n_valid_data_points       tstart        tstop        TIC  Campaign  \n",
      "0                    13452.0  1393.114099  1393.119654  140478472         3  \n",
      "\n",
      "Finished TIC 140478472 (3)\n",
      "------------------------------\n",
      "\n",
      "34ca_tess2019090608344-s0003-0000000142052876-0000-s_lc.fits \n",
      "\n",
      "\n",
      "Started TIC 142052876 (3), LC nr. 34\n",
      "------------------------------\n",
      "\n"
     ]
    },
    {
     "name": "stderr",
     "output_type": "stream",
     "text": [
      "Found 2 candidate(s) in the (0,6683) gap.\n",
      "Found 2 candidate(s) in the (6683,13452) gap.\n"
     ]
    },
    {
     "name": "stdout",
     "output_type": "stream",
     "text": [
      "   ampl_rec  cstart   cstop       ed_rec  ed_rec_err istart  istop  \\\n",
      "0  0.014722  118491  118494     4.107958    0.372903   4305   4308   \n",
      "1  2.211293  120942  120949  1851.804058    0.000000   6675   6682   \n",
      "2  0.031306  126374  126390    33.899498    0.822222  11161  11177   \n",
      "3  0.028368  126966  126969     5.855025    0.335158  11746  11749   \n",
      "\n",
      "   total_n_valid_data_points       tstart        tstop        TIC  Campaign  \n",
      "0                    13452.0  1392.025982  1392.030148  142052876         3  \n",
      "1                    13452.0  1395.430086  1395.439808  142052876         3  \n",
      "2                    13452.0  1402.974407  1402.996629  142052876         3  \n",
      "3                    13452.0  1403.796617  1403.800784  142052876         3  \n",
      "\n",
      "Finished TIC 142052876 (3)\n",
      "------------------------------\n",
      "\n",
      "35ca_tess2019090608400-s0003-0000000167894019-0000-s_lc.fits \n",
      "\n",
      "\n",
      "Started TIC 167894019 (3), LC nr. 35\n",
      "------------------------------\n",
      "\n"
     ]
    },
    {
     "name": "stderr",
     "output_type": "stream",
     "text": [
      "Found 1 candidate(s) in the (0,6683) gap.\n",
      "Found 2 candidate(s) in the (6683,13452) gap.\n"
     ]
    },
    {
     "name": "stdout",
     "output_type": "stream",
     "text": [
      "   ampl_rec  cstart   cstop      ed_rec  ed_rec_err istart  istop  \\\n",
      "0  0.117603  118408  118413   29.715307    0.892208   4223   4228   \n",
      "1  0.024848  127182  127185    7.970680    0.843910  11960  11963   \n",
      "2  0.341644  127750  127772  235.304160    1.701209  12505  12526   \n",
      "\n",
      "   total_n_valid_data_points       tstart        tstop        TIC  Campaign  \n",
      "0                    13452.0  1391.910323  1391.917268  167894019         3  \n",
      "1                    13452.0  1404.096563  1404.100729  167894019         3  \n",
      "2                    13452.0  1404.885461  1404.916017  167894019         3  \n",
      "\n",
      "Finished TIC 167894019 (3)\n",
      "------------------------------\n",
      "\n",
      "36ca_tess2019090608431-s0003-0000000180724005-0000-s_lc.fits \n",
      "\n",
      "\n",
      "Started TIC 180724005 (3), LC nr. 36\n",
      "------------------------------\n",
      "\n"
     ]
    },
    {
     "name": "stderr",
     "output_type": "stream",
     "text": [
      "Found 6 candidate(s) in the (0,6683) gap.\n",
      "Found 0 candidate(s) in the (6683,13452) gap.\n"
     ]
    },
    {
     "name": "stdout",
     "output_type": "stream",
     "text": [
      "   ampl_rec  cstart   cstop        ed_rec  ed_rec_err istart istop  \\\n",
      "0  0.193791  116506  116510     52.988979    2.572026   2360  2364   \n",
      "1  0.066622  119468  119471     22.004936    2.447896   5243  5246   \n",
      "2  0.096552  120380  120383     28.234818    3.256576   6147  6150   \n",
      "3  0.098438  120396  120401     48.368694    4.290074   6162  6167   \n",
      "4  0.116072  120405  120423    185.730785    8.765399   6171  6187   \n",
      "5  0.392989  120431  120949  14659.916020   57.021024   6193  6682   \n",
      "\n",
      "   total_n_valid_data_points       tstart        tstop        TIC  Campaign  \n",
      "0                    13452.0  1389.273727  1389.279282  180724005         3  \n",
      "1                    13452.0  1393.387554  1393.391720  180724005         3  \n",
      "2                    13452.0  1394.654198  1394.658365  180724005         3  \n",
      "3                    13452.0  1394.676420  1394.683364  180724005         3  \n",
      "4                    13452.0  1394.688920  1394.713919  180724005         3  \n",
      "5                    13452.0  1394.725030  1395.444462  180724005         3  \n",
      "\n",
      "Finished TIC 180724005 (3)\n",
      "------------------------------\n",
      "\n",
      "37ca_tess2019102510435-s0003-0000000220429097-0000-s_lc.fits \n",
      "\n",
      "\n",
      "Started TIC 220429097 (3), LC nr. 37\n",
      "------------------------------\n",
      "\n"
     ]
    },
    {
     "name": "stderr",
     "output_type": "stream",
     "text": [
      "Found 0 candidate(s) in the (0,6683) gap.\n",
      "Found 1 candidate(s) in the (6683,13452) gap.\n"
     ]
    },
    {
     "name": "stdout",
     "output_type": "stream",
     "text": [
      "   ampl_rec  cstart   cstop     ed_rec  ed_rec_err istart istop  \\\n",
      "0  0.169782  124646  124649  35.872393    2.064317   9482  9485   \n",
      "\n",
      "   total_n_valid_data_points       tstart        tstop        TIC  Campaign  \n",
      "0                    13452.0  1400.575951  1400.580118  220429097         3  \n",
      "\n",
      "Finished TIC 220429097 (3)\n",
      "------------------------------\n",
      "\n",
      "38ca_tess2019090608483-s0003-0000000248350761-0000-s_lc.fits \n",
      "\n",
      "\n",
      "Started TIC 248350761 (3), LC nr. 38\n",
      "------------------------------\n",
      "\n"
     ]
    },
    {
     "name": "stderr",
     "output_type": "stream",
     "text": [
      "Found 0 candidate(s) in the (0,6683) gap.\n",
      "Found 0 candidate(s) in the (6683,13452) gap.\n"
     ]
    },
    {
     "name": "stdout",
     "output_type": "stream",
     "text": [
      "Added an empty row for TIC 248350761\n",
      "   Campaign        TIC ampl_rec cstart cstop ed_rec ed_rec_err istart istop  \\\n",
      "0         3  248350761      NaN    NaN   NaN    NaN        NaN    NaN   NaN   \n",
      "\n",
      "  tstart tstop  \n",
      "0    NaN   NaN  \n",
      "\n",
      "Finished TIC 248350761 (3)\n",
      "------------------------------\n",
      "\n",
      "39ca_tess2019090608520-s0003-0000000308243298-0000-s_lc.fits \n",
      "\n",
      "\n",
      "Started TIC 308243298 (3), LC nr. 39\n",
      "------------------------------\n",
      "\n"
     ]
    },
    {
     "name": "stderr",
     "output_type": "stream",
     "text": [
      "Found 0 candidate(s) in the (0,6683) gap.\n",
      "Found 0 candidate(s) in the (6683,13452) gap.\n"
     ]
    },
    {
     "name": "stdout",
     "output_type": "stream",
     "text": [
      "Added an empty row for TIC 308243298\n",
      "   Campaign        TIC ampl_rec cstart cstop ed_rec ed_rec_err istart istop  \\\n",
      "0         3  308243298      NaN    NaN   NaN    NaN        NaN    NaN   NaN   \n",
      "\n",
      "  tstart tstop  \n",
      "0    NaN   NaN  \n",
      "\n",
      "Finished TIC 308243298 (3)\n",
      "------------------------------\n",
      "\n",
      "40ca_tess2019090608553-s0003-0000000344297533-0000-s_lc.fits \n",
      "\n",
      "\n",
      "Started TIC 344297533 (3), LC nr. 40\n",
      "------------------------------\n",
      "\n"
     ]
    },
    {
     "name": "stderr",
     "output_type": "stream",
     "text": [
      "Found 0 candidate(s) in the (0,6683) gap.\n",
      "Found 0 candidate(s) in the (6683,13452) gap.\n"
     ]
    },
    {
     "name": "stdout",
     "output_type": "stream",
     "text": [
      "Added an empty row for TIC 344297533\n",
      "   Campaign        TIC ampl_rec cstart cstop ed_rec ed_rec_err istart istop  \\\n",
      "0         3  344297533      NaN    NaN   NaN    NaN        NaN    NaN   NaN   \n",
      "\n",
      "  tstart tstop  \n",
      "0    NaN   NaN  \n",
      "\n",
      "Finished TIC 344297533 (3)\n",
      "------------------------------\n",
      "\n",
      "41ca_tess2019090608565-s0003-0000000369555560-0000-s_lc.fits \n",
      "\n",
      "\n",
      "Started TIC 369555560 (3), LC nr. 41\n",
      "------------------------------\n",
      "\n"
     ]
    },
    {
     "name": "stderr",
     "output_type": "stream",
     "text": [
      "Found 0 candidate(s) in the (0,6683) gap.\n",
      "Found 1 candidate(s) in the (6683,13452) gap.\n"
     ]
    },
    {
     "name": "stdout",
     "output_type": "stream",
     "text": [
      "   ampl_rec  cstart   cstop     ed_rec  ed_rec_err istart istop  \\\n",
      "0  0.188262  125109  125112  50.389196    2.504695   9921  9924   \n",
      "\n",
      "   total_n_valid_data_points       tstart        tstop        TIC  Campaign  \n",
      "0                    13452.0  1401.223408  1401.227575  369555560         3  \n",
      "\n",
      "Finished TIC 369555560 (3)\n",
      "------------------------------\n",
      "\n",
      "42ca_tess2019090609232-s0004-0000000029780677-0000-s_lc.fits \n",
      "\n",
      "\n",
      "Started TIC 29780677 (4), LC nr. 42\n",
      "------------------------------\n",
      "\n"
     ]
    },
    {
     "name": "stderr",
     "output_type": "stream",
     "text": [
      "Found 1 candidate(s) in the (0,5375) gap.\n",
      "Found 0 candidate(s) in the (5375,7009) gap.\n",
      "Found 2 candidate(s) in the (7009,15803) gap.\n"
     ]
    },
    {
     "name": "stdout",
     "output_type": "stream",
     "text": [
      "   ampl_rec  cstart   cstop       ed_rec  ed_rec_err istart  istop  \\\n",
      "0  0.086799  133574  133584    67.939595    2.889574   1471   1481   \n",
      "1  0.096003  150497  150500    27.654781    1.881502  15548  15551   \n",
      "2  8.373242  150757  150764  6955.621812    0.000000  15795  15802   \n",
      "\n",
      "   total_n_valid_data_points       tstart        tstop       TIC  Campaign  \n",
      "0                    15803.0  1412.975376  1412.989264  29780677         4  \n",
      "1                    15803.0  1436.479160  1436.483326  29780677         4  \n",
      "2                    15803.0  1436.840264  1436.849986  29780677         4  \n",
      "\n",
      "Finished TIC 29780677 (4)\n",
      "------------------------------\n",
      "\n",
      "43ca_tess2019090609300-s0004-0000000035858101-0000-s_lc.fits \n",
      "\n",
      "\n",
      "Started TIC 35858101 (4), LC nr. 43\n",
      "------------------------------\n",
      "\n"
     ]
    },
    {
     "name": "stderr",
     "output_type": "stream",
     "text": [
      "Found 0 candidate(s) in the (0,5375) gap.\n",
      "Found 1 candidate(s) in the (5375,7009) gap.\n",
      "Found 1 candidate(s) in the (7009,15803) gap.\n"
     ]
    },
    {
     "name": "stdout",
     "output_type": "stream",
     "text": [
      "    ampl_rec  cstart   cstop         ed_rec  ed_rec_err istart  istop  \\\n",
      "0  82.684006  140948  140962  112791.933022         0.0   6797   6811   \n",
      "1  20.979156  150753  150764   26674.472658         0.0  15791  15802   \n",
      "\n",
      "   total_n_valid_data_points       tstart        tstop       TIC  Campaign  \n",
      "0                    15803.0  1423.221950  1423.241394  35858101         4  \n",
      "1                    15803.0  1436.839821  1436.855098  35858101         4  \n",
      "\n",
      "Finished TIC 35858101 (4)\n",
      "------------------------------\n",
      "\n",
      "44ca_tess2019100910402-s0004-0000000044892011-0000-s_lc.fits \n",
      "\n",
      "\n",
      "Started TIC 44892011 (4), LC nr. 44\n",
      "------------------------------\n",
      "\n"
     ]
    },
    {
     "name": "stderr",
     "output_type": "stream",
     "text": [
      "Found 1 candidate(s) in the (0,5375) gap.\n",
      "Found 0 candidate(s) in the (5375,7009) gap.\n",
      "Found 1 candidate(s) in the (7009,15803) gap.\n"
     ]
    },
    {
     "name": "stdout",
     "output_type": "stream",
     "text": [
      "    ampl_rec  cstart   cstop        ed_rec  ed_rec_err istart  istop  \\\n",
      "0   0.094217  136814  136821     60.793094    2.729697   4645   4652   \n",
      "1  11.481820  150754  150764  13451.284710    0.000000  15792  15802   \n",
      "\n",
      "   total_n_valid_data_points       tstart        tstop       TIC  Campaign  \n",
      "0                    15803.0  1417.478548  1417.488270  44892011         4  \n",
      "1                    15803.0  1436.839899  1436.853788  44892011         4  \n",
      "\n",
      "Finished TIC 44892011 (4)\n",
      "------------------------------\n",
      "\n",
      "45ca_tess2019090609424-s0004-0000000121024099-0000-s_lc.fits \n",
      "\n",
      "\n",
      "Started TIC 121024099 (4), LC nr. 45\n",
      "------------------------------\n",
      "\n"
     ]
    },
    {
     "name": "stderr",
     "output_type": "stream",
     "text": [
      "Found 0 candidate(s) in the (0,5375) gap.\n",
      "Found 0 candidate(s) in the (5375,7009) gap.\n",
      "Found 1 candidate(s) in the (7009,15803) gap.\n"
     ]
    },
    {
     "name": "stdout",
     "output_type": "stream",
     "text": [
      "   ampl_rec  cstart   cstop       ed_rec  ed_rec_err istart  istop  \\\n",
      "0  2.753395  150755  150764  2913.751247         0.0  15793  15802   \n",
      "\n",
      "   total_n_valid_data_points       tstart        tstop        TIC  Campaign  \n",
      "0                    15803.0  1436.841899  1436.854399  121024099         4  \n",
      "\n",
      "Finished TIC 121024099 (4)\n",
      "------------------------------\n",
      "\n",
      "46ca_tess2019090609482-s0004-0000000141306513-0000-s_lc.fits \n",
      "\n",
      "\n",
      "Started TIC 141306513 (4), LC nr. 46\n",
      "------------------------------\n",
      "\n"
     ]
    },
    {
     "name": "stderr",
     "output_type": "stream",
     "text": [
      "Found 1 candidate(s) in the (0,5375) gap.\n",
      "Found 2 candidate(s) in the (5375,7009) gap.\n",
      "Found 5 candidate(s) in the (7009,15803) gap.\n"
     ]
    },
    {
     "name": "stdout",
     "output_type": "stream",
     "text": [
      "     ampl_rec  cstart   cstop         ed_rec  ed_rec_err istart  istop  \\\n",
      "0    0.196759  134304  134309      62.024021    2.414014   2175   2180   \n",
      "1    0.062847  140483  140487      27.834269    3.201815   6352   6356   \n",
      "2  110.861862  140500  141159  227203.331142    0.000000   6369   7008   \n",
      "3    0.431158  142823  142831     155.910182    2.770732   7914   7922   \n",
      "4    0.177835  146868  146872      51.095736    2.152183  11932  11936   \n",
      "5    0.075309  150515  150519      32.146097    3.200764  15566  15570   \n",
      "6    0.078571  150523  150528      40.515366    3.667564  15574  15579   \n",
      "7   47.854843  150532  150764   72316.607744    0.000000  15583  15802   \n",
      "\n",
      "   total_n_valid_data_points       tstart        tstop        TIC  Campaign  \n",
      "0                    15803.0  1413.993959  1414.000903  141306513         4  \n",
      "1                    15803.0  1422.575972  1422.581528  141306513         4  \n",
      "2                    15803.0  1422.599583  1423.514864  141306513         4  \n",
      "3                    15803.0  1425.825985  1425.837096  141306513         4  \n",
      "4                    15803.0  1431.444002  1431.449558  141306513         4  \n",
      "5                    15803.0  1436.509192  1436.514747  141306513         4  \n",
      "6                    15803.0  1436.520303  1436.527247  141306513         4  \n",
      "7                    15803.0  1436.532802  1436.855018  141306513         4  \n",
      "\n",
      "Finished TIC 141306513 (4)\n",
      "------------------------------\n",
      "\n",
      "47ca_tess2019090609523-s0004-0000000142052876-0000-s_lc.fits \n",
      "\n",
      "\n",
      "Started TIC 142052876 (4), LC nr. 47\n",
      "------------------------------\n",
      "\n"
     ]
    },
    {
     "name": "stderr",
     "output_type": "stream",
     "text": [
      "Found 5 candidate(s) in the (0,5375) gap.\n",
      "Found 3 candidate(s) in the (5375,7009) gap.\n",
      "Found 2 candidate(s) in the (7009,15803) gap.\n"
     ]
    },
    {
     "name": "stdout",
     "output_type": "stream",
     "text": [
      "   ampl_rec  cstart   cstop       ed_rec  ed_rec_err istart  istop  \\\n",
      "0  0.031007  133576  133586    19.223302    0.623831   1473   1483   \n",
      "1  0.029122  133672  133676     7.752040    0.385614   1569   1573   \n",
      "2  0.015931  136014  136017     4.616346    0.357400   3880   3883   \n",
      "3  0.011303  136274  136280     6.406137    0.517481   4140   4146   \n",
      "4  0.024272  136649  136652     5.768966    0.346536   4483   4486   \n",
      "5  0.023485  139507  139678   330.317922    2.655038   5376   5547   \n",
      "6  0.010742  139686  139689     3.304723    0.358597   5555   5558   \n",
      "7  0.009413  139693  139704    10.168311    0.686193   5562   5573   \n",
      "8  0.012817  146734  146737     4.218711    0.362728  11798  11801   \n",
      "9  4.798677  150754  150764  5588.677027    0.000000  15792  15802   \n",
      "\n",
      "   total_n_valid_data_points       tstart        tstop        TIC  Campaign  \n",
      "0                    15803.0  1412.977027  1412.990916  142052876         4  \n",
      "1                    15803.0  1413.110359  1413.115914  142052876         4  \n",
      "2                    15803.0  1416.363095  1416.367262  142052876         4  \n",
      "3                    15803.0  1416.724202  1416.732535  142052876         4  \n",
      "4                    15803.0  1417.245029  1417.249195  142052876         4  \n",
      "5                    15803.0  1421.214423  1421.451920  142052876         4  \n",
      "6                    15803.0  1421.463031  1421.467197  142052876         4  \n",
      "7                    15803.0  1421.472753  1421.488030  142052876         4  \n",
      "8                    15803.0  1431.251806  1431.255973  142052876         4  \n",
      "9                    15803.0  1436.835085  1436.848974  142052876         4  \n",
      "\n",
      "Finished TIC 142052876 (4)\n",
      "------------------------------\n",
      "\n",
      "48ca_tess2019090609573-s0004-0000000142944290-0000-s_lc.fits \n",
      "\n",
      "\n",
      "Started TIC 142944290 (4), LC nr. 48\n",
      "------------------------------\n",
      "\n"
     ]
    },
    {
     "name": "stderr",
     "output_type": "stream",
     "text": [
      "Found 0 candidate(s) in the (0,5375) gap.\n",
      "Found 0 candidate(s) in the (5375,7009) gap.\n",
      "Found 1 candidate(s) in the (7009,15803) gap.\n"
     ]
    },
    {
     "name": "stdout",
     "output_type": "stream",
     "text": [
      "    ampl_rec  cstart   cstop        ed_rec  ed_rec_err istart  istop  \\\n",
      "0  48.744587  150754  150764  56939.424228         0.0  15792  15802   \n",
      "\n",
      "   total_n_valid_data_points       tstart        tstop        TIC  Campaign  \n",
      "0                    15803.0  1436.839766  1436.853655  142944290         4  \n",
      "\n",
      "Finished TIC 142944290 (4)\n",
      "------------------------------\n",
      "\n",
      "49ca_tess2019090610040-s0004-0000000143029977-0000-s_lc.fits \n",
      "\n",
      "\n",
      "Started TIC 143029977 (4), LC nr. 49\n",
      "------------------------------\n",
      "\n"
     ]
    },
    {
     "name": "stderr",
     "output_type": "stream",
     "text": [
      "Found 0 candidate(s) in the (0,5375) gap.\n",
      "Found 0 candidate(s) in the (5375,7009) gap.\n",
      "Found 1 candidate(s) in the (7009,15803) gap.\n"
     ]
    },
    {
     "name": "stdout",
     "output_type": "stream",
     "text": [
      "    ampl_rec  cstart   cstop        ed_rec  ed_rec_err istart  istop  \\\n",
      "0  46.631088  150754  150764  54339.441576         0.0  15792  15802   \n",
      "\n",
      "   total_n_valid_data_points       tstart        tstop        TIC  Campaign  \n",
      "0                    15803.0  1436.839386  1436.853275  143029977         4  \n",
      "\n",
      "Finished TIC 143029977 (4)\n",
      "------------------------------\n",
      "\n",
      "50ca_tess2019090610062-s0004-0000000167894019-0000-s_lc.fits \n",
      "\n",
      "\n",
      "Started TIC 167894019 (4), LC nr. 50\n",
      "------------------------------\n",
      "\n"
     ]
    },
    {
     "name": "stderr",
     "output_type": "stream",
     "text": [
      "Found 0 candidate(s) in the (0,5375) gap.\n",
      "Found 2 candidate(s) in the (5375,7009) gap.\n",
      "Found 2 candidate(s) in the (7009,15803) gap.\n"
     ]
    },
    {
     "name": "stdout",
     "output_type": "stream",
     "text": [
      "   ampl_rec  cstart   cstop       ed_rec  ed_rec_err istart  istop  \\\n",
      "0  0.056004  139507  139648   642.214014    5.452907   5376   5517   \n",
      "1  3.690633  140656  140663  3086.800229    0.000000   6525   6532   \n",
      "2  4.113760  150671  150690  7721.968709    0.000000  15709  15728   \n",
      "3  4.540851  150761  150764  1631.492568    0.000000  15799  15802   \n",
      "\n",
      "   total_n_valid_data_points       tstart        tstop        TIC  Campaign  \n",
      "0                    15803.0  1421.214838  1421.410674  167894019         4  \n",
      "1                    15803.0  1422.810690  1422.820412  167894019         4  \n",
      "2                    15803.0  1436.720616  1436.747005  167894019         4  \n",
      "3                    15803.0  1436.845617  1436.849784  167894019         4  \n",
      "\n",
      "Finished TIC 167894019 (4)\n",
      "------------------------------\n",
      "\n",
      "51ca_tess2019090610111-s0004-0000000170675902-0000-s_lc.fits \n",
      "\n",
      "\n",
      "Started TIC 170675902 (4), LC nr. 51\n",
      "------------------------------\n",
      "\n"
     ]
    },
    {
     "name": "stderr",
     "output_type": "stream",
     "text": [
      "Found 0 candidate(s) in the (0,5375) gap.\n",
      "Found 4 candidate(s) in the (5375,6876) gap.\n",
      "Found 3 candidate(s) in the (6876,15670) gap.\n"
     ]
    },
    {
     "name": "stdout",
     "output_type": "stream",
     "text": [
      "    ampl_rec  cstart   cstop        ed_rec  ed_rec_err istart  istop  \\\n",
      "0   0.101538  140587  140590     33.640796    4.044536   6323   6326   \n",
      "1   0.123044  140599  140602     36.308272    4.098047   6335   6338   \n",
      "2   0.159112  140617  140631    186.892584    9.292885   6353   6367   \n",
      "3   0.506133  140635  141156  17725.251669   68.595299   6371   6872   \n",
      "4   0.180924  148515  148523    100.623948    2.974456  13433  13441   \n",
      "5   0.071602  150476  150479     23.859324    2.756859  15394  15397   \n",
      "6  36.940147  150486  150764  49632.808074    0.000000  15404  15669   \n",
      "\n",
      "   total_n_valid_data_points       tstart        tstop        TIC  Campaign  \n",
      "0                    15670.0  1422.718489  1422.722656  170675902         4  \n",
      "1                    15670.0  1422.735156  1422.739323  170675902         4  \n",
      "2                    15670.0  1422.760156  1422.779601  170675902         4  \n",
      "3                    15670.0  1422.785157  1423.508780  170675902         4  \n",
      "4                    15670.0  1433.729765  1433.740876  170675902         4  \n",
      "5                    15670.0  1436.453387  1436.457554  170675902         4  \n",
      "6                    15670.0  1436.467276  1436.853388  170675902         4  \n",
      "\n",
      "Finished TIC 170675902 (4)\n",
      "------------------------------\n",
      "\n",
      "52ca_tess2019090610130-s0004-0000000278199738-0000-s_lc.fits \n",
      "\n",
      "\n",
      "Started TIC 278199738 (4), LC nr. 52\n",
      "------------------------------\n",
      "\n"
     ]
    },
    {
     "name": "stderr",
     "output_type": "stream",
     "text": [
      "Found 0 candidate(s) in the (0,5375) gap.\n",
      "Found 0 candidate(s) in the (5375,7009) gap.\n",
      "Found 1 candidate(s) in the (7009,15803) gap.\n"
     ]
    },
    {
     "name": "stdout",
     "output_type": "stream",
     "text": [
      "     ampl_rec  cstart   cstop         ed_rec  ed_rec_err istart  istop  \\\n",
      "0  144.952774  150754  150764  171779.196814         0.0  15792  15802   \n",
      "\n",
      "   total_n_valid_data_points       tstart        tstop        TIC  Campaign  \n",
      "0                    15803.0  1436.834669  1436.848557  278199738         4  \n",
      "\n",
      "Finished TIC 278199738 (4)\n",
      "------------------------------\n",
      "\n",
      "53ca_tess2019090610180-s0004-0000000279482950-0000-s_lc.fits \n",
      "\n",
      "\n",
      "Started TIC 279482950 (4), LC nr. 53\n",
      "------------------------------\n",
      "\n"
     ]
    },
    {
     "name": "stderr",
     "output_type": "stream",
     "text": [
      "Found 3 candidate(s) in the (0,5375) gap.\n",
      "Found 0 candidate(s) in the (5375,6779) gap.\n",
      "Found 1 candidate(s) in the (6779,15573) gap.\n"
     ]
    },
    {
     "name": "stdout",
     "output_type": "stream",
     "text": [
      "    ampl_rec  cstart   cstop        ed_rec  ed_rec_err istart  istop  \\\n",
      "0   0.305256  132727  132734    103.509944    3.742321    632    639   \n",
      "1   0.956326  134409  134415    270.734213    3.277575   2278   2284   \n",
      "2   1.551583  136554  136570    390.328174    3.700944   4396   4409   \n",
      "3  20.437582  150755  150764  21595.786117    0.000000  15563  15572   \n",
      "\n",
      "   total_n_valid_data_points       tstart        tstop        TIC  Campaign  \n",
      "0                    15573.0  1411.802828  1411.812550  279482950         4  \n",
      "1                    15573.0  1414.139021  1414.147355  279482950         4  \n",
      "2                    15573.0  1417.118276  1417.140499  279482950         4  \n",
      "3                    15573.0  1436.842149  1436.854649  279482950         4  \n",
      "\n",
      "Finished TIC 279482950 (4)\n",
      "------------------------------\n",
      "\n",
      "54ca_tess2019090610244-s0004-0000000293561794-0000-s_lc.fits \n",
      "\n",
      "\n",
      "Started TIC 293561794 (4), LC nr. 54\n",
      "------------------------------\n",
      "\n"
     ]
    },
    {
     "name": "stderr",
     "output_type": "stream",
     "text": [
      "Found 1 candidate(s) in the (0,5375) gap.\n",
      "Found 1 candidate(s) in the (5375,6787) gap.\n",
      "Found 4 candidate(s) in the (6787,15581) gap.\n"
     ]
    },
    {
     "name": "stdout",
     "output_type": "stream",
     "text": [
      "    ampl_rec  cstart   cstop        ed_rec  ed_rec_err istart  istop  \\\n",
      "0   0.240131  135675  135682     63.928573    1.564061   3541   3548   \n",
      "1  49.918171  140954  140965  65650.615753    0.000000   6581   6592   \n",
      "2   0.112390  144287  144302     97.077083    2.848728   9142   9157   \n",
      "3   0.145055  147808  147813     47.826886    1.569857  12650  12655   \n",
      "4   0.166161  148029  148048    169.744781    2.985704  12871  12890   \n",
      "5  17.063070  150753  150764  21817.869434    0.000000  15569  15580   \n",
      "\n",
      "   total_n_valid_data_points       tstart        tstop        TIC  Campaign  \n",
      "0                    15581.0  1415.898619  1415.908341  293561794         4  \n",
      "1                    15581.0  1423.230448  1423.245726  293561794         4  \n",
      "2                    15581.0  1427.859515  1427.880347  293561794         4  \n",
      "3                    15581.0  1432.749627  1432.756571  293561794         4  \n",
      "4                    15581.0  1433.056559  1433.082947  293561794         4  \n",
      "5                    15581.0  1436.839738  1436.855015  293561794         4  \n",
      "\n",
      "Finished TIC 293561794 (4)\n",
      "------------------------------\n",
      "\n",
      "55ca_tess2019090610310-s0004-0000000308243298-0000-s_lc.fits \n",
      "\n",
      "\n",
      "Started TIC 308243298 (4), LC nr. 55\n",
      "------------------------------\n",
      "\n"
     ]
    },
    {
     "name": "stderr",
     "output_type": "stream",
     "text": [
      "Found 0 candidate(s) in the (0,5375) gap.\n",
      "Found 1 candidate(s) in the (5375,7008) gap.\n",
      "Found 1 candidate(s) in the (7008,15802) gap.\n"
     ]
    },
    {
     "name": "stdout",
     "output_type": "stream",
     "text": [
      "    ampl_rec  cstart   cstop         ed_rec  ed_rec_err istart  istop  \\\n",
      "0  83.579361  141035  141046  109864.534468         0.0   6883   6894   \n",
      "1  35.868649  150754  150764   41724.939699         0.0  15791  15801   \n",
      "\n",
      "   total_n_valid_data_points       tstart        tstop        TIC  Campaign  \n",
      "0                    15802.0  1423.340933  1423.356211  308243298         4  \n",
      "1                    15802.0  1436.839288  1436.853176  308243298         4  \n",
      "\n",
      "Finished TIC 308243298 (4)\n",
      "------------------------------\n",
      "\n",
      "56ca_tess2019090610330-s0004-0000000328254412-0000-s_lc.fits \n",
      "\n",
      "\n",
      "Started TIC 328254412 (4), LC nr. 56\n",
      "------------------------------\n",
      "\n"
     ]
    },
    {
     "name": "stderr",
     "output_type": "stream",
     "text": [
      "Found 3 candidate(s) in the (0,5375) gap.\n",
      "Found 1 candidate(s) in the (5375,7009) gap.\n",
      "Found 2 candidate(s) in the (7009,15803) gap.\n"
     ]
    },
    {
     "name": "stdout",
     "output_type": "stream",
     "text": [
      "     ampl_rec  cstart   cstop         ed_rec  ed_rec_err istart  istop  \\\n",
      "0    0.215259  133333  133336      45.850713    2.670876   1230   1233   \n",
      "1    0.086874  136253  136256      28.549523    2.937624   4119   4122   \n",
      "2    0.343309  137225  137245     310.270501    6.907181   5056   5076   \n",
      "3  218.750534  140941  140967  308380.301247    0.000000   6791   6816   \n",
      "4    0.339819  148745  148770     376.202138    7.333742  13796  13821   \n",
      "5   37.764847  150754  150764   44412.113482    0.000000  15792  15802   \n",
      "\n",
      "   total_n_valid_data_points       tstart        tstop        TIC  Campaign  \n",
      "0                    15803.0  1412.645501  1412.649668  328254412         4  \n",
      "1                    15803.0  1416.701146  1416.705313  328254412         4  \n",
      "2                    15803.0  1418.051167  1418.078945  328254412         4  \n",
      "3                    15803.0  1423.212331  1423.248443  328254412         4  \n",
      "4                    15803.0  1434.051215  1434.085937  328254412         4  \n",
      "5                    15803.0  1436.841453  1436.855341  328254412         4  \n",
      "\n",
      "Finished TIC 328254412 (4)\n",
      "------------------------------\n",
      "\n",
      "57ca_tess2019090610345-s0004-0000000328401671-0000-s_lc.fits \n",
      "\n",
      "\n",
      "Started TIC 328401671 (4), LC nr. 57\n",
      "------------------------------\n",
      "\n"
     ]
    },
    {
     "name": "stderr",
     "output_type": "stream",
     "text": [
      "Found 0 candidate(s) in the (0,5375) gap.\n",
      "Found 1 candidate(s) in the (5375,7009) gap.\n",
      "Found 1 candidate(s) in the (7009,15803) gap.\n"
     ]
    },
    {
     "name": "stdout",
     "output_type": "stream",
     "text": [
      "     ampl_rec  cstart   cstop         ed_rec  ed_rec_err istart  istop  \\\n",
      "0  135.638184  140941  140953  191222.154337         0.0   6791   6802   \n",
      "1   18.700762  150754  150764   21885.494909         0.0  15792  15802   \n",
      "\n",
      "   total_n_valid_data_points       tstart       tstop        TIC  Campaign  \n",
      "0                    15803.0  1423.212343  1423.22901  328401671         4  \n",
      "1                    15803.0  1436.841511  1436.85540  328401671         4  \n",
      "\n",
      "Finished TIC 328401671 (4)\n",
      "------------------------------\n",
      "\n",
      "58ca_tess2019090610383-s0004-0000000365369408-0000-s_lc.fits \n",
      "\n",
      "\n",
      "Started TIC 365369408 (4), LC nr. 58\n",
      "------------------------------\n",
      "\n"
     ]
    },
    {
     "name": "stderr",
     "output_type": "stream",
     "text": [
      "Found 0 candidate(s) in the (0,5375) gap.\n",
      "Found 1 candidate(s) in the (5375,6870) gap.\n",
      "Found 1 candidate(s) in the (6870,15664) gap.\n"
     ]
    },
    {
     "name": "stdout",
     "output_type": "stream",
     "text": [
      "    ampl_rec  cstart   cstop        ed_rec  ed_rec_err istart  istop  \\\n",
      "0  21.501431  140607  141159  41999.372635         0.0   6337   6869   \n",
      "1   5.726088  150585  150764   7780.073114         0.0  15484  15663   \n",
      "\n",
      "   total_n_valid_data_points       tstart        tstop        TIC  Campaign  \n",
      "0                    15664.0  1422.748557  1423.515237  365369408         4  \n",
      "1                    15664.0  1436.606944  1436.855553  365369408         4  \n",
      "\n",
      "Finished TIC 365369408 (4)\n",
      "------------------------------\n",
      "\n",
      "59ca_tess2019090610403-s0004-0000000406479664-0000-s_lc.fits \n",
      "\n",
      "\n",
      "Started TIC 406479664 (4), LC nr. 59\n",
      "------------------------------\n",
      "\n"
     ]
    },
    {
     "name": "stderr",
     "output_type": "stream",
     "text": [
      "Found 0 candidate(s) in the (0,5375) gap.\n",
      "Found 5 candidate(s) in the (5375,7009) gap.\n",
      "Found 3 candidate(s) in the (7009,15803) gap.\n"
     ]
    },
    {
     "name": "stdout",
     "output_type": "stream",
     "text": [
      "    ampl_rec  cstart   cstop        ed_rec  ed_rec_err istart  istop  \\\n",
      "0   0.209894  140496  140499     55.866885    4.133018   6365   6368   \n",
      "1   0.097529  140546  140549     34.552281    4.678130   6415   6418   \n",
      "2   0.126170  140564  140567     39.889151    4.817726   6433   6436   \n",
      "3   0.123288  140575  140578     42.228352    4.941773   6444   6447   \n",
      "4   1.041769  140584  141159  43580.382951  110.718528   6453   7008   \n",
      "5   0.141193  150538  150541     43.018898    4.486125  15589  15592   \n",
      "6   0.128137  150547  150550     43.261915    4.640701  15598  15601   \n",
      "7  26.845974  150554  150764  35145.031660    0.000000  15605  15802   \n",
      "\n",
      "   total_n_valid_data_points       tstart        tstop        TIC  Campaign  \n",
      "0                    15803.0  1422.593205  1422.597372  406479664         4  \n",
      "1                    15803.0  1422.662650  1422.666817  406479664         4  \n",
      "2                    15803.0  1422.687650  1422.691817  406479664         4  \n",
      "3                    15803.0  1422.702928  1422.707095  406479664         4  \n",
      "4                    15803.0  1422.715428  1423.514045  406479664         4  \n",
      "5                    15803.0  1436.540410  1436.544576  406479664         4  \n",
      "6                    15803.0  1436.552909  1436.557076  406479664         4  \n",
      "7                    15803.0  1436.562632  1436.854294  406479664         4  \n",
      "\n",
      "Finished TIC 406479664 (4)\n",
      "------------------------------\n",
      "\n",
      "60ca_tess2019090610412-s0004-0000000420001446-0000-s_lc.fits \n",
      "\n",
      "\n",
      "Started TIC 420001446 (4), LC nr. 60\n",
      "------------------------------\n",
      "\n"
     ]
    },
    {
     "name": "stderr",
     "output_type": "stream",
     "text": [
      "Found 1 candidate(s) in the (0,5375) gap.\n",
      "Found 1 candidate(s) in the (5375,7009) gap.\n",
      "Found 2 candidate(s) in the (7009,15803) gap.\n"
     ]
    },
    {
     "name": "stdout",
     "output_type": "stream",
     "text": [
      "    ampl_rec  cstart   cstop        ed_rec  ed_rec_err istart  istop  \\\n",
      "0   0.019997  135484  135487      6.446704    0.674046   3350   3353   \n",
      "1  24.683210  140954  140965  32464.679791    0.000000   6803   6814   \n",
      "2   0.036346  147741  147744      9.174024    0.639690  12805  12808   \n",
      "3   8.722645  150753  150764  11106.384779    0.000000  15791  15802   \n",
      "\n",
      "   total_n_valid_data_points       tstart        tstop        TIC  Campaign  \n",
      "0                    15803.0  1415.633327  1415.637494  420001446         4  \n",
      "1                    15803.0  1423.230520  1423.245798  420001446         4  \n",
      "2                    15803.0  1432.656759  1432.660925  420001446         4  \n",
      "3                    15803.0  1436.839967  1436.855245  420001446         4  \n",
      "\n",
      "Finished TIC 420001446 (4)\n",
      "------------------------------\n",
      "\n",
      "61ca_tess2019090610424-s0004-0000000441519239-0000-s_lc.fits \n",
      "\n",
      "\n",
      "Started TIC 441519239 (4), LC nr. 61\n",
      "------------------------------\n",
      "\n"
     ]
    },
    {
     "name": "stderr",
     "output_type": "stream",
     "text": [
      "Found 0 candidate(s) in the (0,5375) gap.\n",
      "Found 0 candidate(s) in the (5375,7009) gap.\n",
      "Found 1 candidate(s) in the (7009,15803) gap.\n"
     ]
    },
    {
     "name": "stdout",
     "output_type": "stream",
     "text": [
      "   ampl_rec  cstart   cstop        ed_rec  ed_rec_err istart  istop  \\\n",
      "0  26.17227  150755  150764  27701.125632         0.0  15793  15802   \n",
      "\n",
      "   total_n_valid_data_points       tstart        tstop        TIC  Campaign  \n",
      "0                    15803.0  1436.842223  1436.854722  441519239         4  \n",
      "\n",
      "Finished TIC 441519239 (4)\n",
      "------------------------------\n",
      "\n",
      "62ca_tess2019090610453-s0005-0000000029780677-0000-s_lc.fits \n",
      "\n",
      "\n",
      "Started TIC 29780677 (5), LC nr. 62\n",
      "------------------------------\n",
      "\n"
     ]
    },
    {
     "name": "stderr",
     "output_type": "stream",
     "text": [
      "Found 1 candidate(s) in the (0,8755) gap.\n",
      "Found 2 candidate(s) in the (8755,17894) gap.\n"
     ]
    },
    {
     "name": "stdout",
     "output_type": "stream",
     "text": [
      "    ampl_rec  cstart   cstop        ed_rec  ed_rec_err istart  istop  \\\n",
      "0   4.821644  160365  160374   5102.951626    0.000000   8745   8754   \n",
      "1   0.357631  166514  166517     67.653512    2.876075  13903  13906   \n",
      "2  51.562111  170508  170519  66550.447816    0.000000  17882  17893   \n",
      "\n",
      "   total_n_valid_data_points       tstart        tstop       TIC  Campaign  \n",
      "0                    17894.0  1450.184478  1450.196978  29780677         5  \n",
      "1                    17894.0  1458.724614  1458.728781  29780677         5  \n",
      "2                    17894.0  1464.271740  1464.287018  29780677         5  \n",
      "\n",
      "Finished TIC 29780677 (5)\n",
      "------------------------------\n",
      "\n",
      "63ca_tess2019090610494-s0005-0000000044892011-0000-s_lc.fits \n",
      "\n",
      "\n",
      "Started TIC 44892011 (5), LC nr. 63\n",
      "------------------------------\n",
      "\n"
     ]
    },
    {
     "name": "stderr",
     "output_type": "stream",
     "text": [
      "Found 4 candidate(s) in the (0,8755) gap.\n",
      "Found 2 candidate(s) in the (8755,17894) gap.\n"
     ]
    },
    {
     "name": "stdout",
     "output_type": "stream",
     "text": [
      "     ampl_rec  cstart   cstop         ed_rec  ed_rec_err istart  istop  \\\n",
      "0    0.101483  151587  151600      98.944059    5.171812      1     14   \n",
      "1    0.089353  151604  151615      77.163278    4.621778     18     29   \n",
      "2    0.066228  160344  160348      26.260442    2.764025   8725   8729   \n",
      "3    5.769464  160354  160374    6773.241921    0.000000   8735   8754   \n",
      "4    0.055853  170096  170099      18.751166    2.234241  17471  17474   \n",
      "5  756.615417  170108  170519  893837.164423    0.000000  17483  17893   \n",
      "\n",
      "   total_n_valid_data_points       tstart        tstop       TIC  Campaign  \n",
      "0                    17894.0  1437.996845  1438.014901  44892011         5  \n",
      "1                    17894.0  1438.020457  1438.035735  44892011         5  \n",
      "2                    17894.0  1450.159262  1450.164817  44892011         5  \n",
      "3                    17894.0  1450.173150  1450.200928  44892011         5  \n",
      "4                    17894.0  1463.703412  1463.707578  44892011         5  \n",
      "5                    17894.0  1463.720078  1464.290893  44892011         5  \n",
      "\n",
      "Finished TIC 44892011 (5)\n",
      "------------------------------\n",
      "\n",
      "64ca_tess2019090610505-s0005-0000000077842052-0000-s_lc.fits \n",
      "\n",
      "\n",
      "Started TIC 77842052 (5), LC nr. 64\n",
      "------------------------------\n",
      "\n"
     ]
    },
    {
     "name": "stderr",
     "output_type": "stream",
     "text": [
      "Found 1 candidate(s) in the (0,8755) gap.\n",
      "Found 1 candidate(s) in the (8755,17894) gap.\n"
     ]
    },
    {
     "name": "stdout",
     "output_type": "stream",
     "text": [
      "     ampl_rec  cstart   cstop        ed_rec  ed_rec_err istart  istop  \\\n",
      "0   15.289553  160364  160374  1.754853e+04         0.0   8744   8754   \n",
      "1  986.983032  170508  170519  1.146344e+06         0.0  17882  17893   \n",
      "\n",
      "   total_n_valid_data_points       tstart        tstop       TIC  Campaign  \n",
      "0                    17894.0  1450.186612  1450.200500  77842052         5  \n",
      "1                    17894.0  1464.275496  1464.290773  77842052         5  \n",
      "\n",
      "Finished TIC 77842052 (5)\n",
      "------------------------------\n",
      "\n",
      "65ca_tess2019090610534-s0005-0000000077959225-0000-s_lc.fits \n",
      "\n",
      "\n",
      "Started TIC 77959225 (5), LC nr. 65\n",
      "------------------------------\n",
      "\n"
     ]
    },
    {
     "name": "stderr",
     "output_type": "stream",
     "text": [
      "Found 1 candidate(s) in the (0,8755) gap.\n",
      "Found 2 candidate(s) in the (8755,17894) gap.\n"
     ]
    },
    {
     "name": "stdout",
     "output_type": "stream",
     "text": [
      "    ampl_rec  cstart   cstop        ed_rec  ed_rec_err istart  istop  \\\n",
      "0   3.761707  160368  160374   2663.664499     0.00000   8748   8754   \n",
      "1   0.153129  170355  170358     51.556633     5.40733  17729  17732   \n",
      "2  45.762447  170369  170519  58059.467777     0.00000  17743  17893   \n",
      "\n",
      "   total_n_valid_data_points       tstart        tstop       TIC  Campaign  \n",
      "0                    17894.0  1450.192099  1450.200432  77959225         5  \n",
      "1                    17894.0  1464.062957  1464.067124  77959225         5  \n",
      "2                    17894.0  1464.082402  1464.290733  77959225         5  \n",
      "\n",
      "Finished TIC 77959225 (5)\n",
      "------------------------------\n",
      "\n",
      "66ca_tess2019090610560-s0005-0000000117733072-0000-s_lc.fits \n",
      "\n",
      "\n",
      "Started TIC 117733072 (5), LC nr. 66\n",
      "------------------------------\n",
      "\n"
     ]
    },
    {
     "name": "stderr",
     "output_type": "stream",
     "text": [
      "Found 1 candidate(s) in the (0,8755) gap.\n",
      "Found 1 candidate(s) in the (8755,17894) gap.\n"
     ]
    },
    {
     "name": "stdout",
     "output_type": "stream",
     "text": [
      "     ampl_rec  cstart   cstop         ed_rec  ed_rec_err istart  istop  \\\n",
      "0   12.612371  160366  160374   11817.803418         0.0   8746   8754   \n",
      "1  625.391174  170508  170519  601627.877640         0.0  17882  17893   \n",
      "\n",
      "   total_n_valid_data_points       tstart        tstop        TIC  Campaign  \n",
      "0                    17894.0  1450.190649  1450.201760  117733072         5  \n",
      "1                    17894.0  1464.276589  1464.291867  117733072         5  \n",
      "\n",
      "Finished TIC 117733072 (5)\n",
      "------------------------------\n",
      "\n",
      "67ca_tess2019090611021-s0005-0000000117733581-0000-s_lc.fits \n",
      "\n",
      "\n",
      "Started TIC 117733581 (5), LC nr. 67\n",
      "------------------------------\n",
      "\n"
     ]
    },
    {
     "name": "stderr",
     "output_type": "stream",
     "text": [
      "Found 4 candidate(s) in the (0,8755) gap.\n",
      "Found 3 candidate(s) in the (8755,17894) gap.\n"
     ]
    },
    {
     "name": "stdout",
     "output_type": "stream",
     "text": [
      "     ampl_rec  cstart   cstop         ed_rec  ed_rec_err istart  istop  \\\n",
      "0    0.135174  154815  154824      66.397127    2.193269   3219   3228   \n",
      "1    0.221750  158786  158790      67.931039    1.462902   7174   7178   \n",
      "2    0.060034  158956  158959      18.338228    1.374170   7344   7347   \n",
      "3    2.082988  160366  160374    1950.469529    0.000000   8746   8754   \n",
      "4    0.748024  163308  163317     179.068344    1.605810  10711  10720   \n",
      "5    0.198316  170278  170287     107.163286    4.086783  17652  17661   \n",
      "6  120.748665  170508  170519  117769.023145    0.000000  17882  17893   \n",
      "\n",
      "   total_n_valid_data_points       tstart        tstop        TIC  Campaign  \n",
      "0                    17894.0  1442.480809  1442.493309  117733581         5  \n",
      "1                    17894.0  1447.996104  1448.001659  117733581         5  \n",
      "2                    17894.0  1448.232214  1448.236381  117733581         5  \n",
      "3                    17894.0  1450.190538  1450.201649  117733581         5  \n",
      "4                    17894.0  1454.276639  1454.289139  117733581         5  \n",
      "5                    17894.0  1463.957038  1463.969537  117733581         5  \n",
      "6                    17894.0  1464.276475  1464.291752  117733581         5  \n",
      "\n",
      "Finished TIC 117733581 (5)\n",
      "------------------------------\n",
      "\n",
      "68ca_tess2019090611004-s0005-0000000142052876-0000-s_lc.fits \n",
      "\n",
      "\n",
      "Started TIC 142052876 (5), LC nr. 68\n",
      "------------------------------\n",
      "\n"
     ]
    },
    {
     "name": "stderr",
     "output_type": "stream",
     "text": [
      "Found 3 candidate(s) in the (0,8733) gap.\n",
      "Found 3 candidate(s) in the (8733,17872) gap.\n"
     ]
    },
    {
     "name": "stdout",
     "output_type": "stream",
     "text": [
      "    ampl_rec  cstart   cstop        ed_rec  ed_rec_err istart  istop  \\\n",
      "0   0.025513  152009  152012      6.145296    0.471220    401    404   \n",
      "1   0.017361  159470  159473      5.143601    0.494923   7836   7839   \n",
      "2   1.204651  160365  160374   1275.544330    0.000000   8723   8732   \n",
      "3   0.026983  164327  164336     19.470298    0.846907  11701  11710   \n",
      "4   0.028996  167643  167651     18.024923    0.761053  15010  15018   \n",
      "5  14.976810  170508  170519  19574.524601    0.000000  17860  17871   \n",
      "\n",
      "   total_n_valid_data_points       tstart        tstop        TIC  Campaign  \n",
      "0                    17872.0  1438.578121  1438.582287  142052876         5  \n",
      "1                    17872.0  1448.940559  1448.944725  142052876         5  \n",
      "2                    17872.0  1450.183606  1450.196106  142052876         5  \n",
      "3                    17872.0  1455.686360  1455.698860  142052876         5  \n",
      "4                    17872.0  1460.291909  1460.303020  142052876         5  \n",
      "5                    17872.0  1464.271067  1464.286344  142052876         5  \n",
      "\n",
      "Finished TIC 142052876 (5)\n",
      "------------------------------\n",
      "\n",
      "69ca_tess2019090611060-s0005-0000000167894019-0000-s_lc.fits \n",
      "\n",
      "\n",
      "Started TIC 167894019 (5), LC nr. 69\n",
      "------------------------------\n",
      "\n"
     ]
    },
    {
     "name": "stderr",
     "output_type": "stream",
     "text": [
      "Found 2 candidate(s) in the (0,8755) gap.\n",
      "Found 1 candidate(s) in the (8755,17894) gap.\n"
     ]
    },
    {
     "name": "stdout",
     "output_type": "stream",
     "text": [
      "   ampl_rec  cstart   cstop       ed_rec  ed_rec_err istart  istop  \\\n",
      "0  0.202595  154531  154537    65.878987    2.827805   2935   2941   \n",
      "1  3.880784  160367  160374  3149.982921    0.000000   8747   8754   \n",
      "2  0.226903  168320  168324    53.251407    2.243609  15702  15706   \n",
      "\n",
      "   total_n_valid_data_points       tstart        tstop        TIC  Campaign  \n",
      "0                    17894.0  1442.081809  1442.090142  167894019         5  \n",
      "1                    17894.0  1450.187486  1450.197208  167894019         5  \n",
      "2                    17894.0  1461.233489  1461.239044  167894019         5  \n",
      "\n",
      "Finished TIC 167894019 (5)\n",
      "------------------------------\n",
      "\n",
      "70ca_tess2019090611095-s0005-0000000170675902-0000-s_lc.fits \n",
      "\n",
      "\n",
      "Started TIC 170675902 (5), LC nr. 70\n",
      "------------------------------\n",
      "\n"
     ]
    },
    {
     "name": "stderr",
     "output_type": "stream",
     "text": [
      "Found 2 candidate(s) in the (0,8755) gap.\n",
      "Found 2 candidate(s) in the (8755,17894) gap.\n"
     ]
    },
    {
     "name": "stdout",
     "output_type": "stream",
     "text": [
      "     ampl_rec  cstart   cstop        ed_rec  ed_rec_err istart  istop  \\\n",
      "0    0.079391  154137  154140  2.019172e+01    1.959157   2543   2546   \n",
      "1    6.458785  160364  160374  7.411390e+03    0.000000   8744   8754   \n",
      "2    0.096591  167127  167130  2.432903e+01    1.953452  14516  14519   \n",
      "3  936.932007  170508  170519  1.002734e+06    0.000000  17882  17893   \n",
      "\n",
      "   total_n_valid_data_points       tstart        tstop        TIC  Campaign  \n",
      "0                    17894.0  1441.538133  1441.542300  170675902         5  \n",
      "1                    17894.0  1450.186695  1450.200584  170675902         5  \n",
      "2                    17894.0  1459.579630  1459.583796  170675902         5  \n",
      "3                    17894.0  1464.275351  1464.290629  170675902         5  \n",
      "\n",
      "Finished TIC 170675902 (5)\n",
      "------------------------------\n",
      "\n",
      "71ca_tess2019102510482-s0005-0000000220429097-0000-s_lc.fits \n",
      "\n",
      "\n",
      "Started TIC 220429097 (5), LC nr. 71\n",
      "------------------------------\n",
      "\n"
     ]
    },
    {
     "name": "stderr",
     "output_type": "stream",
     "text": [
      "Found 1 candidate(s) in the (0,8548) gap.\n",
      "Found 2 candidate(s) in the (8548,17649) gap.\n"
     ]
    },
    {
     "name": "stdout",
     "output_type": "stream",
     "text": [
      "    ampl_rec  cstart   cstop        ed_rec  ed_rec_err istart  istop  \\\n",
      "0   5.529695  160328  160374   4420.647267    0.000000   8502   8547   \n",
      "1   0.091770  170110  170113     31.169205    4.002122  17240  17243   \n",
      "2  58.942505  170122  170519  93618.341991    0.000000  17252  17648   \n",
      "\n",
      "   total_n_valid_data_points       tstart        tstop        TIC  Campaign  \n",
      "0                    17649.0  1450.134224  1450.198113  220429097         5  \n",
      "1                    17649.0  1463.720181  1463.724348  220429097         5  \n",
      "2                    17649.0  1463.736848  1464.288227  220429097         5  \n",
      "\n",
      "Finished TIC 220429097 (5)\n",
      "------------------------------\n",
      "\n",
      "72ca_tess2019090611163-s0005-0000000279482950-0000-s_lc.fits \n",
      "\n",
      "\n",
      "Started TIC 279482950 (5), LC nr. 72\n",
      "------------------------------\n",
      "\n"
     ]
    },
    {
     "name": "stderr",
     "output_type": "stream",
     "text": [
      "Found 2 candidate(s) in the (0,8755) gap.\n",
      "Found 2 candidate(s) in the (8755,17894) gap.\n"
     ]
    },
    {
     "name": "stdout",
     "output_type": "stream",
     "text": [
      "     ampl_rec  cstart   cstop         ed_rec  ed_rec_err istart  istop  \\\n",
      "0    0.425071  159134  159139     132.473647    4.206335   7522   7527   \n",
      "1    5.819076  160366  160374    5473.338038    0.000000   8746   8754   \n",
      "2    0.350930  162470  162475     120.426505    4.424566   9873   9878   \n",
      "3  264.041504  170508  170519  288053.355235    0.000000  17882  17893   \n",
      "\n",
      "   total_n_valid_data_points       tstart        tstop        TIC  Campaign  \n",
      "0                    17894.0  1448.479556  1448.486500  279482950         5  \n",
      "1                    17894.0  1450.190631  1450.201742  279482950         5  \n",
      "2                    17894.0  1453.112801  1453.119745  279482950         5  \n",
      "3                    17894.0  1464.276333  1464.291610  279482950         5  \n",
      "\n",
      "Finished TIC 279482950 (5)\n",
      "------------------------------\n",
      "\n",
      "73ca_tess2019090611183-s0005-0000000284678097-0000-s_lc.fits \n",
      "\n",
      "\n",
      "Started TIC 284678097 (5), LC nr. 73\n",
      "------------------------------\n",
      "\n"
     ]
    },
    {
     "name": "stderr",
     "output_type": "stream",
     "text": [
      "Found 1 candidate(s) in the (0,8617) gap.\n",
      "Found 5 candidate(s) in the (8617,17755) gap.\n"
     ]
    },
    {
     "name": "stdout",
     "output_type": "stream",
     "text": [
      "      ampl_rec  cstart   cstop        ed_rec  ed_rec_err istart  istop  \\\n",
      "0    10.705376  160366  160374  1.001013e+04    0.000000   8608   8616   \n",
      "1     0.136852  170136  170140  5.942990e+01    6.175479  17372  17376   \n",
      "2  3794.142578  170145  170362  4.755880e+06    0.000000  17381  17597   \n",
      "3    16.649870  170372  170384  8.477937e+03    0.000000  17607  17619   \n",
      "4     0.922243  170389  170397  4.193014e+02    0.000000  17624  17632   \n",
      "5     3.651886  170405  170421  3.004929e+03    0.000000  17640  17656   \n",
      "\n",
      "   total_n_valid_data_points       tstart        tstop        TIC  Campaign  \n",
      "0                    17755.0  1450.191540  1450.202651  284678097         5  \n",
      "1                    17755.0  1463.760848  1463.766403  284678097         5  \n",
      "2                    17755.0  1463.773347  1464.074729  284678097         5  \n",
      "3                    17755.0  1464.088618  1464.105284  284678097         5  \n",
      "4                    17755.0  1464.112228  1464.123339  284678097         5  \n",
      "5                    17755.0  1464.134450  1464.156672  284678097         5  \n",
      "\n",
      "Finished TIC 284678097 (5)\n",
      "------------------------------\n",
      "\n",
      "74ca_tess2019090611242-s0005-0000000298907057-0000-s_lc.fits \n",
      "\n",
      "\n",
      "Started TIC 298907057 (5), LC nr. 74\n",
      "------------------------------\n",
      "\n"
     ]
    },
    {
     "name": "stderr",
     "output_type": "stream",
     "text": [
      "Found 5 candidate(s) in the (0,8755) gap.\n",
      "Found 7 candidate(s) in the (8755,17894) gap.\n"
     ]
    },
    {
     "name": "stdout",
     "output_type": "stream",
     "text": [
      "       ampl_rec  cstart   cstop        ed_rec  ed_rec_err istart  istop  \\\n",
      "0      0.169855  152060  152063  3.525020e+01    1.828451    474    477   \n",
      "1      0.422377  154621  154643  3.800451e+02    4.579841   3025   3047   \n",
      "2      1.199675  157525  157534  2.394584e+02    2.071326   5920   5929   \n",
      "3      0.314868  158170  158175  7.362228e+01    2.105159   6558   6563   \n",
      "4      5.125584  160364  160374  5.797556e+03    0.000000   8744   8754   \n",
      "5      0.883037  161372  161407  1.109150e+03    5.542806   8775   8810   \n",
      "6     12.455717  162283  162327  5.444215e+03    5.219755   9686   9730   \n",
      "7      0.107460  164968  164971  2.655734e+01    1.964688  12364  12367   \n",
      "8      0.225667  166380  166385  6.787170e+01    2.335749  13769  13774   \n",
      "9      1.413793  166606  166620  5.405214e+02    3.069687  13995  14009   \n",
      "10  1357.938721  170301  170362  2.927991e+06    0.000000  17675  17736   \n",
      "11  1077.536743  170379  170519  6.393683e+06    0.000000  17753  17893   \n",
      "\n",
      "    total_n_valid_data_points       tstart        tstop        TIC  Campaign  \n",
      "0                     17894.0  1438.654829  1438.658996  298907057         5  \n",
      "1                     17894.0  1442.211847  1442.242403  298907057         5  \n",
      "2                     17894.0  1446.245225  1446.257725  298907057         5  \n",
      "3                     17894.0  1447.141064  1447.148008  298907057         5  \n",
      "4                     17894.0  1450.188291  1450.202180  298907057         5  \n",
      "5                     17894.0  1451.588296  1451.636908  298907057         5  \n",
      "6                     17894.0  1452.853580  1452.914691  298907057         5  \n",
      "7                     17894.0  1456.582737  1456.586903  298907057         5  \n",
      "8                     17894.0  1458.543829  1458.550774  298907057         5  \n",
      "9                     17894.0  1458.857714  1458.877159  298907057         5  \n",
      "10                    17894.0  1463.989568  1464.074288  298907057         5  \n",
      "11                    17894.0  1464.097899  1464.292340  298907057         5  \n",
      "\n",
      "Finished TIC 298907057 (5)\n",
      "------------------------------\n",
      "\n",
      "75ca_tess2019090611284-s0005-0000000332623751-0000-s_lc.fits \n",
      "\n",
      "\n",
      "Started TIC 332623751 (5), LC nr. 75\n",
      "------------------------------\n",
      "\n"
     ]
    },
    {
     "name": "stderr",
     "output_type": "stream",
     "text": [
      "Found 1 candidate(s) in the (0,8755) gap.\n",
      "Found 2 candidate(s) in the (8755,17894) gap.\n"
     ]
    },
    {
     "name": "stdout",
     "output_type": "stream",
     "text": [
      "     ampl_rec  cstart   cstop         ed_rec  ed_rec_err istart  istop  \\\n",
      "0    3.290114  160366  160374    3089.464342    0.000000   8746   8754   \n",
      "1    0.219350  166808  166812      48.395644    1.854151  14197  14201   \n",
      "2  161.507706  170508  170519  169768.983344    0.000000  17882  17893   \n",
      "\n",
      "   total_n_valid_data_points       tstart        tstop        TIC  Campaign  \n",
      "0                    17894.0  1450.190750  1450.201861  332623751         5  \n",
      "1                    17894.0  1459.137820  1459.143375  332623751         5  \n",
      "2                    17894.0  1464.276549  1464.291827  332623751         5  \n",
      "\n",
      "Finished TIC 332623751 (5)\n",
      "------------------------------\n",
      "\n",
      "76ca_tess2019090611304-s0005-0000000396862832-0000-s_lc.fits \n",
      "\n",
      "\n",
      "Started TIC 396862832 (5), LC nr. 76\n",
      "------------------------------\n",
      "\n"
     ]
    },
    {
     "name": "stderr",
     "output_type": "stream",
     "text": [
      "Found 2 candidate(s) in the (0,8755) gap.\n",
      "Found 2 candidate(s) in the (8755,17894) gap.\n"
     ]
    },
    {
     "name": "stdout",
     "output_type": "stream",
     "text": [
      "      ampl_rec  cstart   cstop        ed_rec  ed_rec_err istart  istop  \\\n",
      "0     0.341715  159302  159309  9.469986e+01    1.511527   7690   7697   \n",
      "1     2.783393  160366  160374  2.606825e+03    0.000000   8746   8754   \n",
      "2     0.329533  168629  168638  1.040723e+02    1.653705  16011  16020   \n",
      "3  1095.790405  170301  170360  1.652179e+06    0.000000  17675  17734   \n",
      "\n",
      "   total_n_valid_data_points       tstart        tstop        TIC  Campaign  \n",
      "0                    17894.0  1448.713744  1448.723466  396862832         5  \n",
      "1                    17894.0  1450.191508  1450.202619  396862832         5  \n",
      "2                    17894.0  1461.667708  1461.680208  396862832         5  \n",
      "3                    17894.0  1463.989857  1464.071799  396862832         5  \n",
      "\n",
      "Finished TIC 396862832 (5)\n",
      "------------------------------\n",
      "\n",
      "77ca_tess2019090611333-s0005-0000000401945077-0000-s_lc.fits \n",
      "\n",
      "\n",
      "Started TIC 401945077 (5), LC nr. 77\n",
      "------------------------------\n",
      "\n"
     ]
    },
    {
     "name": "stderr",
     "output_type": "stream",
     "text": [
      "Found 1 candidate(s) in the (0,8755) gap.\n",
      "Found 4 candidate(s) in the (8755,17894) gap.\n"
     ]
    },
    {
     "name": "stdout",
     "output_type": "stream",
     "text": [
      "      ampl_rec  cstart   cstop        ed_rec  ed_rec_err istart  istop  \\\n",
      "0     9.987156  160367  160374  8.217342e+03         0.0   8747   8754   \n",
      "1  2981.733643  170301  170354  3.640273e+06         0.0  17675  17728   \n",
      "2     6.190670  170405  170417  6.098151e+03         0.0  17779  17791   \n",
      "3     2.520077  170421  170426  7.905773e+02         0.0  17795  17800   \n",
      "4     2.933752  170456  170460  9.334517e+02         0.0  17830  17834   \n",
      "\n",
      "   total_n_valid_data_points       tstart        tstop        TIC  Campaign  \n",
      "0                    17894.0  1450.192658  1450.202380  401945077         5  \n",
      "1                    17894.0  1463.989490  1464.063098  401945077         5  \n",
      "2                    17894.0  1464.133928  1464.150594  401945077         5  \n",
      "3                    17894.0  1464.156150  1464.163094  401945077         5  \n",
      "4                    17894.0  1464.204759  1464.210314  401945077         5  \n",
      "\n",
      "Finished TIC 401945077 (5)\n",
      "------------------------------\n",
      "\n",
      "78ca_tess2019090611381-s0005-0000000416744592-0000-s_lc.fits \n",
      "\n",
      "\n",
      "Started TIC 416744592 (5), LC nr. 78\n",
      "------------------------------\n",
      "\n"
     ]
    },
    {
     "name": "stderr",
     "output_type": "stream",
     "text": [
      "Found 1 candidate(s) in the (0,8755) gap.\n",
      "Found 4 candidate(s) in the (8755,17894) gap.\n"
     ]
    },
    {
     "name": "stdout",
     "output_type": "stream",
     "text": [
      "      ampl_rec  cstart   cstop        ed_rec  ed_rec_err istart  istop  \\\n",
      "0    11.044889  160366  160374  1.032863e+04    0.000000   8746   8754   \n",
      "1     0.397137  163834  163935  3.204890e+03   21.817678  11230  11331   \n",
      "2  5988.952148  170301  170351  7.178030e+06    0.000000  17675  17725   \n",
      "3    22.973986  170384  170427  4.088029e+04    0.000000  17758  17801   \n",
      "4     1.124310  170514  170519  3.606603e+02    0.000000  17888  17893   \n",
      "\n",
      "   total_n_valid_data_points       tstart        tstop        TIC  Campaign  \n",
      "0                    17894.0  1450.191466  1450.202577  416744592         5  \n",
      "1                    17894.0  1455.008031  1455.148305  416744592         5  \n",
      "2                    17894.0  1463.989638  1464.059079  416744592         5  \n",
      "3                    17894.0  1464.104911  1464.164631  416744592         5  \n",
      "4                    17894.0  1464.285459  1464.292403  416744592         5  \n",
      "\n",
      "Finished TIC 416744592 (5)\n",
      "------------------------------\n",
      "\n",
      "79ca_tess2019090612002-s0006-0000000029780677-0000-s_lc.fits \n",
      "\n",
      "\n",
      "Started TIC 29780677 (6), LC nr. 79\n",
      "------------------------------\n",
      "\n"
     ]
    },
    {
     "name": "stderr",
     "output_type": "stream",
     "text": [
      "Found 1 candidate(s) in the (0,6265) gap.\n",
      "Found 3 candidate(s) in the (6265,14835) gap.\n"
     ]
    },
    {
     "name": "stdout",
     "output_type": "stream",
     "text": [
      "    ampl_rec  cstart   cstop        ed_rec  ed_rec_err istart  istop  \\\n",
      "0   0.629474  174255  174266    332.317520    4.111978    859    870   \n",
      "1  16.396799  180470  180535  17781.703709    0.000000   6266   6331   \n",
      "2   0.084845  180539  180544     45.910818    4.186046   6335   6340   \n",
      "3   0.433547  184815  184819    108.911528    2.429258  10599  10603   \n",
      "\n",
      "   total_n_valid_data_points       tstart        tstop       TIC  Campaign  \n",
      "0                    14835.0  1469.475828  1469.491105  29780677         6  \n",
      "1                    14835.0  1478.107640  1478.197916  29780677         6  \n",
      "2                    14835.0  1478.203472  1478.210416  29780677         6  \n",
      "3                    14835.0  1484.142286  1484.147841  29780677         6  \n",
      "\n",
      "Finished TIC 29780677 (6)\n",
      "------------------------------\n",
      "\n",
      "80ca_tess2019090612025-s0006-0000000053603145-0000-s_lc.fits \n",
      "\n",
      "\n",
      "Started TIC 53603145 (6), LC nr. 80\n",
      "------------------------------\n",
      "\n"
     ]
    },
    {
     "name": "stderr",
     "output_type": "stream",
     "text": [
      "Found 0 candidate(s) in the (0,6265) gap.\n",
      "Found 1 candidate(s) in the (6265,14835) gap.\n"
     ]
    },
    {
     "name": "stdout",
     "output_type": "stream",
     "text": [
      "     ampl_rec  cstart   cstop        ed_rec  ed_rec_err istart istop  \\\n",
      "0  126.405296  180470  180475  74794.791146         0.0   6266  6271   \n",
      "\n",
      "   total_n_valid_data_points       tstart        tstop       TIC  Campaign  \n",
      "0                    14835.0  1478.111908  1478.118853  53603145         6  \n",
      "\n",
      "Finished TIC 53603145 (6)\n",
      "------------------------------\n",
      "\n",
      "81ca_tess2019090612125-s0006-0000000077959225-0000-s_lc.fits \n",
      "\n",
      "\n",
      "Started TIC 77959225 (6), LC nr. 81\n",
      "------------------------------\n",
      "\n"
     ]
    },
    {
     "name": "stderr",
     "output_type": "stream",
     "text": [
      "Found 0 candidate(s) in the (0,6265) gap.\n",
      "Found 0 candidate(s) in the (6265,14670) gap.\n"
     ]
    },
    {
     "name": "stdout",
     "output_type": "stream",
     "text": [
      "Added an empty row for TIC 77959225\n",
      "   Campaign       TIC ampl_rec cstart cstop ed_rec ed_rec_err istart istop  \\\n",
      "0         6  77959225      NaN    NaN   NaN    NaN        NaN    NaN   NaN   \n",
      "\n",
      "  tstart tstop  \n",
      "0    NaN   NaN  \n",
      "\n",
      "Finished TIC 77959225 (6)\n",
      "------------------------------\n",
      "\n",
      "82ca_tess2019102415564-s0006-0000000130414729-0000-s_lc.fits \n",
      "\n",
      "\n",
      "Started TIC 130414729 (6), LC nr. 82\n",
      "------------------------------\n",
      "\n"
     ]
    },
    {
     "name": "stderr",
     "output_type": "stream",
     "text": [
      "Found 0 candidate(s) in the (0,6265) gap.\n",
      "Found 1 candidate(s) in the (6265,14835) gap.\n"
     ]
    },
    {
     "name": "stdout",
     "output_type": "stream",
     "text": [
      "    ampl_rec  cstart   cstop       ed_rec  ed_rec_err istart istop  \\\n",
      "0  12.451637  180470  180476  8816.808537         0.0   6266  6272   \n",
      "\n",
      "   total_n_valid_data_points       tstart        tstop        TIC  Campaign  \n",
      "0                    14835.0  1478.109984  1478.118318  130414729         6  \n",
      "\n",
      "Finished TIC 130414729 (6)\n",
      "------------------------------\n",
      "\n",
      "83ca_tess2019090612435-s0006-0000000142052876-0000-s_lc.fits \n",
      "\n",
      "\n",
      "Started TIC 142052876 (6), LC nr. 83\n",
      "------------------------------\n",
      "\n"
     ]
    },
    {
     "name": "stderr",
     "output_type": "stream",
     "text": [
      "Found 1 candidate(s) in the (0,6240) gap.\n",
      "Found 1 candidate(s) in the (6240,14810) gap.\n"
     ]
    },
    {
     "name": "stdout",
     "output_type": "stream",
     "text": [
      "   ampl_rec  cstart   cstop      ed_rec  ed_rec_err istart istop  \\\n",
      "0  0.047979  178287  178292   16.452055    0.499607   4839  4844   \n",
      "1  0.892835  180470  180480  826.846440    0.000000   6241  6251   \n",
      "\n",
      "   total_n_valid_data_points       tstart        tstop        TIC  Campaign  \n",
      "0                    14810.0  1475.075253  1475.082197  142052876         6  \n",
      "1                    14810.0  1478.107201  1478.121090  142052876         6  \n",
      "\n",
      "Finished TIC 142052876 (6)\n",
      "------------------------------\n",
      "\n",
      "84ca_tess2019100910473-s0006-0000000144776281-0000-s_lc.fits \n",
      "\n",
      "\n",
      "Started TIC 144776281 (6), LC nr. 84\n",
      "------------------------------\n",
      "\n"
     ]
    },
    {
     "name": "stderr",
     "output_type": "stream",
     "text": [
      "Found 0 candidate(s) in the (0,6265) gap.\n",
      "Found 2 candidate(s) in the (6265,14835) gap.\n"
     ]
    },
    {
     "name": "stdout",
     "output_type": "stream",
     "text": [
      "   ampl_rec  cstart   cstop       ed_rec  ed_rec_err istart  istop  \\\n",
      "0  7.714761  180470  180477  6294.905100    0.000000   6266   6273   \n",
      "1  0.044360  188950  188953    10.861437    1.098619  14720  14723   \n",
      "\n",
      "   total_n_valid_data_points       tstart        tstop        TIC  Campaign  \n",
      "0                    14835.0  1478.113681  1478.123403  144776281         6  \n",
      "1                    14835.0  1489.891170  1489.895336  144776281         6  \n",
      "\n",
      "Finished TIC 144776281 (6)\n",
      "------------------------------\n",
      "\n",
      "85ca_tess2019090612462-s0006-0000000156735150-0000-s_lc.fits \n",
      "\n",
      "\n",
      "Started TIC 156735150 (6), LC nr. 85\n",
      "------------------------------\n",
      "\n"
     ]
    },
    {
     "name": "stderr",
     "output_type": "stream",
     "text": [
      "Found 0 candidate(s) in the (0,6265) gap.\n",
      "Found 3 candidate(s) in the (6265,14835) gap.\n"
     ]
    },
    {
     "name": "stdout",
     "output_type": "stream",
     "text": [
      "   ampl_rec  cstart   cstop       ed_rec  ed_rec_err istart  istop  \\\n",
      "0  2.461514  180470  180477  2029.127194    0.000000   6266   6273   \n",
      "1  0.114792  184071  184083    75.643195    2.344118   9855   9867   \n",
      "2  0.061581  187004  187009    27.037967    1.581250  12781  12786   \n",
      "\n",
      "   total_n_valid_data_points       tstart        tstop        TIC  Campaign  \n",
      "0                    14835.0  1478.113702  1478.123424  156735150         6  \n",
      "1                    14835.0  1483.115063  1483.131730  156735150         6  \n",
      "2                    14835.0  1487.188604  1487.195548  156735150         6  \n",
      "\n",
      "Finished TIC 156735150 (6)\n",
      "------------------------------\n",
      "\n",
      "86ca_tess2019102510124-s0006-0000000167894019-0000-s_lc.fits \n",
      "\n",
      "\n",
      "Started TIC 167894019 (6), LC nr. 86\n",
      "------------------------------\n",
      "\n"
     ]
    },
    {
     "name": "stderr",
     "output_type": "stream",
     "text": [
      "Found 0 candidate(s) in the (0,6265) gap.\n",
      "Found 1 candidate(s) in the (6265,14835) gap.\n"
     ]
    },
    {
     "name": "stdout",
     "output_type": "stream",
     "text": [
      "   ampl_rec  cstart   cstop       ed_rec  ed_rec_err istart istop  \\\n",
      "0   2.73573  180470  180478  2547.507754         0.0   6266  6274   \n",
      "\n",
      "   total_n_valid_data_points       tstart        tstop        TIC  Campaign  \n",
      "0                    14835.0  1478.108707  1478.119819  167894019         6  \n",
      "\n",
      "Finished TIC 167894019 (6)\n",
      "------------------------------\n",
      "\n",
      "87ca_tess2019090613212-s0006-0000000220146061-0000-s_lc.fits \n",
      "\n",
      "\n",
      "Started TIC 220146061 (6), LC nr. 87\n",
      "------------------------------\n",
      "\n"
     ]
    },
    {
     "name": "stderr",
     "output_type": "stream",
     "text": [
      "Found 0 candidate(s) in the (0,6265) gap.\n",
      "Found 2 candidate(s) in the (6265,14835) gap.\n"
     ]
    },
    {
     "name": "stdout",
     "output_type": "stream",
     "text": [
      "   ampl_rec  cstart   cstop       ed_rec  ed_rec_err istart istop  \\\n",
      "0  2.088408  180470  180474   992.111182     0.00000   6266  6270   \n",
      "1  0.246198  182725  182793  1230.258811     8.09175   8516  8577   \n",
      "\n",
      "   total_n_valid_data_points       tstart        tstop        TIC  Campaign  \n",
      "0                    14835.0  1478.113645  1478.119201  220146061         6  \n",
      "1                    14835.0  1481.245625  1481.340070  220146061         6  \n",
      "\n",
      "Finished TIC 220146061 (6)\n",
      "------------------------------\n",
      "\n",
      "88ca_tess2019090613243-s0006-0000000220429097-0000-s_lc.fits \n",
      "\n",
      "\n",
      "Started TIC 220429097 (6), LC nr. 88\n",
      "------------------------------\n",
      "\n"
     ]
    },
    {
     "name": "stderr",
     "output_type": "stream",
     "text": [
      "Found 0 candidate(s) in the (0,6265) gap.\n",
      "Found 1 candidate(s) in the (6265,14835) gap.\n"
     ]
    },
    {
     "name": "stdout",
     "output_type": "stream",
     "text": [
      "    ampl_rec  cstart   cstop        ed_rec  ed_rec_err istart istop  \\\n",
      "0  12.166266  180470  180478  11298.599979         0.0   6266  6274   \n",
      "\n",
      "   total_n_valid_data_points       tstart        tstop        TIC  Campaign  \n",
      "0                    14835.0  1478.108852  1478.119963  220429097         6  \n",
      "\n",
      "Finished TIC 220429097 (6)\n",
      "------------------------------\n",
      "\n",
      "89ca_tess2019090613261-s0006-0000000388903843-0000-s_lc.fits \n",
      "\n",
      "\n",
      "Started TIC 388903843 (6), LC nr. 89\n",
      "------------------------------\n",
      "\n"
     ]
    },
    {
     "name": "stderr",
     "output_type": "stream",
     "text": [
      "Found 9 candidate(s) in the (0,6265) gap.\n",
      "Found 21 candidate(s) in the (6265,14816) gap.\n"
     ]
    },
    {
     "name": "stdout",
     "output_type": "stream",
     "text": [
      "    ampl_rec  cstart   cstop    ed_rec  ed_rec_err istart  istop  \\\n",
      "0   0.000787  173389  173413  0.795264    0.010329      1     25   \n",
      "1   0.000324  173442  173451  0.228524    0.007338     54     63   \n",
      "2   0.000166  173862  173865  0.049653    0.004438    467    470   \n",
      "3   0.000119  176788  176791  0.037765    0.004492   3375   3378   \n",
      "4   0.000198  177128  177131  0.048394    0.004279   3715   3718   \n",
      "5   0.000234  177301  177304  0.065602    0.004307   3888   3891   \n",
      "6   0.000135  177963  177973  0.125597    0.012964   4550   4553   \n",
      "7   0.000127  178531  178534  0.037050    0.004452   5108   5111   \n",
      "8   0.000191  179662  179667  0.076531    0.005690   6239   6244   \n",
      "9   0.000161  181670  181673  0.044960    0.004386   7442   7445   \n",
      "10  0.000124  182291  182294  0.038366    0.004471   8063   8066   \n",
      "11  0.000170  182482  182485  0.043873    0.004344   8254   8257   \n",
      "12  0.000124  182965  182968  0.040697    0.004487   8730   8733   \n",
      "13  0.000158  183289  183292  0.044674    0.004408   9054   9057   \n",
      "14  0.000129  183846  183849  0.040955    0.004475   9611   9614   \n",
      "15  0.000146  184065  184068  0.046519    0.004484   9830   9833   \n",
      "16  0.000153  184264  184267  0.043158    0.004420  10029  10032   \n",
      "17  0.000121  184282  184285  0.041613    0.004507  10047  10050   \n",
      "18  0.000153  184558  184561  0.048465    0.004488  10323  10326   \n",
      "19  0.000119  185129  185132  0.038279    0.004493  10887  10890   \n",
      "20  0.000109  185156  185159  0.036978    0.004500  10914  10917   \n",
      "21  0.000114  185246  185249  0.034617    0.004465  11004  11007   \n",
      "22  0.000151  185562  185565  0.044559    0.004469  11320  11323   \n",
      "23  0.000160  185635  185639  0.058592    0.005074  11393  11397   \n",
      "24  0.000133  185704  185707  0.037865    0.004446  11462  11465   \n",
      "25  0.000136  185777  185780  0.041083    0.004458  11535  11538   \n",
      "26  0.000124  186666  186669  0.039967    0.004508  12424  12427   \n",
      "27  0.000134  186711  186714  0.038508    0.004438  12469  12472   \n",
      "28  0.000164  186848  186851  0.048335    0.004403  12606  12609   \n",
      "29  0.000179  188634  188637  0.048063    0.004356  14385  14388   \n",
      "\n",
      "    total_n_valid_data_points       tstart        tstop        TIC  Campaign  \n",
      "0                     14816.0  1468.278321  1468.311654  388903843         6  \n",
      "1                     14816.0  1468.351932  1468.364432  388903843         6  \n",
      "2                     14816.0  1468.935265  1468.939432  388903843         6  \n",
      "3                     14816.0  1472.999129  1473.003296  388903843         6  \n",
      "4                     14816.0  1473.471346  1473.475513  388903843         6  \n",
      "5                     14816.0  1473.711621  1473.715788  388903843         6  \n",
      "6                     14816.0  1474.631054  1474.644942  388903843         6  \n",
      "7                     14816.0  1475.419931  1475.424097  388903843         6  \n",
      "8                     14816.0  1476.990736  1476.997680  388903843         6  \n",
      "9                     14816.0  1479.779587  1479.783754  388903843         6  \n",
      "10                    14816.0  1480.642074  1480.646240  388903843         6  \n",
      "11                    14816.0  1480.907347  1480.911513  388903843         6  \n",
      "12                    14816.0  1481.578168  1481.582334  388903843         6  \n",
      "13                    14816.0  1482.028159  1482.032325  388903843         6  \n",
      "14                    14816.0  1482.801753  1482.805920  388903843         6  \n",
      "15                    14816.0  1483.105913  1483.110079  388903843         6  \n",
      "16                    14816.0  1483.382295  1483.386462  388903843         6  \n",
      "17                    14816.0  1483.407295  1483.411461  388903843         6  \n",
      "18                    14816.0  1483.790619  1483.794785  388903843         6  \n",
      "19                    14816.0  1484.583654  1484.587821  388903843         6  \n",
      "20                    14816.0  1484.621153  1484.625320  388903843         6  \n",
      "21                    14816.0  1484.746150  1484.750317  388903843         6  \n",
      "22                    14816.0  1485.185027  1485.189194  388903843         6  \n",
      "23                    14816.0  1485.286413  1485.291969  388903843         6  \n",
      "24                    14816.0  1485.382244  1485.386411  388903843         6  \n",
      "25                    14816.0  1485.483630  1485.487797  388903843         6  \n",
      "26                    14816.0  1486.718316  1486.722483  388903843         6  \n",
      "27                    14816.0  1486.780814  1486.784981  388903843         6  \n",
      "28                    14816.0  1486.971086  1486.975253  388903843         6  \n",
      "29                    14816.0  1489.451557  1489.455724  388903843         6  \n",
      "\n",
      "Finished TIC 388903843 (6)\n",
      "------------------------------\n",
      "\n",
      "90ca_tess2019090613464-s0006-0000000410898932-0000-s_lc.fits \n",
      "\n",
      "\n",
      "Started TIC 410898932 (6), LC nr. 90\n",
      "------------------------------\n",
      "\n"
     ]
    },
    {
     "name": "stderr",
     "output_type": "stream",
     "text": [
      "Found 0 candidate(s) in the (0,6265) gap.\n",
      "Found 1 candidate(s) in the (6265,14835) gap.\n"
     ]
    },
    {
     "name": "stdout",
     "output_type": "stream",
     "text": [
      "   ampl_rec  cstart   cstop       ed_rec  ed_rec_err istart istop  \\\n",
      "0  5.749821  180470  180476  4045.723997         0.0   6266  6272   \n",
      "\n",
      "   total_n_valid_data_points       tstart        tstop        TIC  Campaign  \n",
      "0                    14835.0  1478.109841  1478.118175  410898932         6  \n",
      "\n",
      "Finished TIC 410898932 (6)\n",
      "------------------------------\n",
      "\n",
      "91ca_tess2019102415132-s0007-0000000000926898-0000-s_lc.fits \n",
      "\n",
      "\n",
      "Started TIC 926898 (7), LC nr. 91\n",
      "------------------------------\n",
      "\n"
     ]
    },
    {
     "name": "stderr",
     "output_type": "stream",
     "text": [
      "Found 0 candidate(s) in the (0,8190) gap.\n",
      "Found 0 candidate(s) in the (8190,16362) gap.\n"
     ]
    },
    {
     "name": "stdout",
     "output_type": "stream",
     "text": [
      "Added an empty row for TIC 926898\n",
      "   Campaign     TIC ampl_rec cstart cstop ed_rec ed_rec_err istart istop  \\\n",
      "0         7  926898      NaN    NaN   NaN    NaN        NaN    NaN   NaN   \n",
      "\n",
      "  tstart tstop  \n",
      "0    NaN   NaN  \n",
      "\n",
      "Finished TIC 926898 (7)\n",
      "------------------------------\n",
      "\n",
      "92ca_tess2019090613562-s0007-0000000029780677-0000-s_lc.fits \n",
      "\n",
      "\n",
      "Started TIC 29780677 (7), LC nr. 92\n",
      "------------------------------\n",
      "\n"
     ]
    },
    {
     "name": "stderr",
     "output_type": "stream",
     "text": [
      "Found 0 candidate(s) in the (0,8190) gap.\n",
      "Found 0 candidate(s) in the (8190,16362) gap.\n"
     ]
    },
    {
     "name": "stdout",
     "output_type": "stream",
     "text": [
      "Added an empty row for TIC 29780677\n",
      "   Campaign       TIC ampl_rec cstart cstop ed_rec ed_rec_err istart istop  \\\n",
      "0         7  29780677      NaN    NaN   NaN    NaN        NaN    NaN   NaN   \n",
      "\n",
      "  tstart tstop  \n",
      "0    NaN   NaN  \n",
      "\n",
      "Finished TIC 29780677 (7)\n",
      "------------------------------\n",
      "\n",
      "93ca_tess2019090614093-s0007-0000000053603145-0000-s_lc.fits \n",
      "\n",
      "\n",
      "Started TIC 53603145 (7), LC nr. 93\n",
      "------------------------------\n",
      "\n"
     ]
    },
    {
     "name": "stderr",
     "output_type": "stream",
     "text": [
      "Found 0 candidate(s) in the (0,8190) gap.\n",
      "Found 0 candidate(s) in the (8190,16362) gap.\n"
     ]
    },
    {
     "name": "stdout",
     "output_type": "stream",
     "text": [
      "Added an empty row for TIC 53603145\n",
      "   Campaign       TIC ampl_rec cstart cstop ed_rec ed_rec_err istart istop  \\\n",
      "0         7  53603145      NaN    NaN   NaN    NaN        NaN    NaN   NaN   \n",
      "\n",
      "  tstart tstop  \n",
      "0    NaN   NaN  \n",
      "\n",
      "Finished TIC 53603145 (7)\n",
      "------------------------------\n",
      "\n",
      "94ca_tess2019090614200-s0007-0000000121204333-0000-s_lc.fits \n",
      "\n",
      "\n",
      "Started TIC 121204333 (7), LC nr. 94\n",
      "------------------------------\n",
      "\n"
     ]
    },
    {
     "name": "stderr",
     "output_type": "stream",
     "text": [
      "Found 0 candidate(s) in the (0,8190) gap.\n",
      "Found 0 candidate(s) in the (8190,16362) gap.\n"
     ]
    },
    {
     "name": "stdout",
     "output_type": "stream",
     "text": [
      "Added an empty row for TIC 121204333\n",
      "   Campaign        TIC ampl_rec cstart cstop ed_rec ed_rec_err istart istop  \\\n",
      "0         7  121204333      NaN    NaN   NaN    NaN        NaN    NaN   NaN   \n",
      "\n",
      "  tstart tstop  \n",
      "0    NaN   NaN  \n",
      "\n",
      "Finished TIC 121204333 (7)\n",
      "------------------------------\n",
      "\n",
      "95ca_tess2019090614254-s0007-0000000142052876-0000-s_lc.fits \n",
      "\n",
      "\n",
      "Started TIC 142052876 (7), LC nr. 95\n",
      "------------------------------\n",
      "\n"
     ]
    },
    {
     "name": "stderr",
     "output_type": "stream",
     "text": [
      "Found 4 candidate(s) in the (0,8190) gap.\n",
      "Found 1 candidate(s) in the (8190,16362) gap.\n"
     ]
    },
    {
     "name": "stdout",
     "output_type": "stream",
     "text": [
      "   ampl_rec  cstart   cstop     ed_rec  ed_rec_err istart  istop  \\\n",
      "0  0.133399  191114  191127  69.366304    0.687599    907    920   \n",
      "1  0.036732  191598  191601   7.942362    0.390105   1391   1394   \n",
      "2  0.019801  192921  192924   4.796139    0.404818   2706   2709   \n",
      "3  0.035718  197024  197027   7.121659    0.371878   6794   6797   \n",
      "4  0.145603  204013  204023  49.298854    0.571600  12576  12586   \n",
      "\n",
      "   total_n_valid_data_points       tstart        tstop        TIC  Campaign  \n",
      "0                    16362.0  1492.890605  1492.908661  142052876         7  \n",
      "1                    16362.0  1493.562834  1493.567000  142052876         7  \n",
      "2                    16362.0  1495.400352  1495.404519  142052876         7  \n",
      "3                    16362.0  1501.099022  1501.103188  142052876         7  \n",
      "4                    16362.0  1510.806078  1510.819967  142052876         7  \n",
      "\n",
      "Finished TIC 142052876 (7)\n",
      "------------------------------\n",
      "\n",
      "96ca_tess2019090614335-s0007-0000000167894019-0000-s_lc.fits \n",
      "\n",
      "\n",
      "Started TIC 167894019 (7), LC nr. 96\n",
      "------------------------------\n",
      "\n"
     ]
    },
    {
     "name": "stderr",
     "output_type": "stream",
     "text": [
      "Found 2 candidate(s) in the (0,8190) gap.\n",
      "Found 1 candidate(s) in the (8190,16362) gap.\n"
     ]
    },
    {
     "name": "stdout",
     "output_type": "stream",
     "text": [
      "   ampl_rec  cstart   cstop      ed_rec  ed_rec_err istart  istop  \\\n",
      "0  0.155822  196981  196991  121.739031    3.071465   6758   6761   \n",
      "1  0.540152  197802  197811  157.245647    1.463293   7572   7581   \n",
      "2  0.233790  202895  202905   90.034087    1.727334  11458  11468   \n",
      "\n",
      "   total_n_valid_data_points       tstart        tstop        TIC  Campaign  \n",
      "0                    16362.0  1501.040876  1501.054765  167894019         7  \n",
      "1                    16362.0  1502.181161  1502.193661  167894019         7  \n",
      "2                    16362.0  1509.254820  1509.268709  167894019         7  \n",
      "\n",
      "Finished TIC 167894019 (7)\n",
      "------------------------------\n",
      "\n",
      "97ca_tess2019090614361-s0007-0000000220429097-0000-s_lc.fits \n",
      "\n",
      "\n",
      "Started TIC 220429097 (7), LC nr. 97\n",
      "------------------------------\n",
      "\n"
     ]
    },
    {
     "name": "stderr",
     "output_type": "stream",
     "text": [
      "Found 0 candidate(s) in the (0,8188) gap.\n",
      "Found 1 candidate(s) in the (8188,16358) gap.\n"
     ]
    },
    {
     "name": "stdout",
     "output_type": "stream",
     "text": [
      "   ampl_rec  cstart   cstop     ed_rec  ed_rec_err istart  istop  \\\n",
      "0   0.25486  206975  206980  96.130842    5.084876  15519  15524   \n",
      "\n",
      "   total_n_valid_data_points       tstart        tstop        TIC  Campaign  \n",
      "0                    16358.0  1514.920632  1514.927576  220429097         7  \n",
      "\n",
      "Finished TIC 220429097 (7)\n",
      "------------------------------\n",
      "\n",
      "98ca_tess2019090614384-s0007-0000000278199738-0000-s_lc.fits \n",
      "\n",
      "\n",
      "Started TIC 278199738 (7), LC nr. 98\n",
      "------------------------------\n",
      "\n"
     ]
    },
    {
     "name": "stderr",
     "output_type": "stream",
     "text": [
      "Found 0 candidate(s) in the (0,8190) gap.\n",
      "Found 0 candidate(s) in the (8190,16362) gap.\n"
     ]
    },
    {
     "name": "stdout",
     "output_type": "stream",
     "text": [
      "Added an empty row for TIC 278199738\n",
      "   Campaign        TIC ampl_rec cstart cstop ed_rec ed_rec_err istart istop  \\\n",
      "0         7  278199738      NaN    NaN   NaN    NaN        NaN    NaN   NaN   \n",
      "\n",
      "  tstart tstop  \n",
      "0    NaN   NaN  \n",
      "\n",
      "Finished TIC 278199738 (7)\n",
      "------------------------------\n",
      "\n",
      "99ca_tess2019100910491-s0007-0000000289113766-0000-s_lc.fits \n",
      "\n",
      "\n",
      "Started TIC 289113766 (7), LC nr. 99\n",
      "------------------------------\n",
      "\n"
     ]
    },
    {
     "name": "stderr",
     "output_type": "stream",
     "text": [
      "Found 0 candidate(s) in the (0,8190) gap.\n",
      "Found 0 candidate(s) in the (8190,16362) gap.\n"
     ]
    },
    {
     "name": "stdout",
     "output_type": "stream",
     "text": [
      "Added an empty row for TIC 289113766\n",
      "   Campaign        TIC ampl_rec cstart cstop ed_rec ed_rec_err istart istop  \\\n",
      "0         7  289113766      NaN    NaN   NaN    NaN        NaN    NaN   NaN   \n",
      "\n",
      "  tstart tstop  \n",
      "0    NaN   NaN  \n",
      "\n",
      "Finished TIC 289113766 (7)\n",
      "------------------------------\n",
      "\n",
      "100ca_tess2019090910225-s0007-0000000318801864-0000-s_lc.fits \n",
      "\n",
      "\n",
      "Started TIC 318801864 (7), LC nr. 100\n",
      "------------------------------\n",
      "\n"
     ]
    },
    {
     "name": "stderr",
     "output_type": "stream",
     "text": [
      "Found 1 candidate(s) in the (0,8190) gap.\n",
      "Found 0 candidate(s) in the (8190,16362) gap.\n"
     ]
    },
    {
     "name": "stdout",
     "output_type": "stream",
     "text": [
      "   ampl_rec  cstart   cstop     ed_rec  ed_rec_err istart istop  \\\n",
      "0  0.220307  191715  191718  57.139456    3.339445   1508  1511   \n",
      "\n",
      "   total_n_valid_data_points       tstart        tstop        TIC  Campaign  \n",
      "0                    16362.0  1493.731167  1493.735333  318801864         7  \n",
      "\n",
      "Finished TIC 318801864 (7)\n",
      "------------------------------\n",
      "\n",
      "101ca_tess2019090910464-s0007-0000000366567664-0000-s_lc.fits \n",
      "\n",
      "\n",
      "Started TIC 366567664 (7), LC nr. 101\n",
      "------------------------------\n",
      "\n"
     ]
    },
    {
     "name": "stderr",
     "output_type": "stream",
     "text": [
      "Found 0 candidate(s) in the (0,8190) gap.\n",
      "Found 0 candidate(s) in the (8190,16362) gap.\n"
     ]
    },
    {
     "name": "stdout",
     "output_type": "stream",
     "text": [
      "Added an empty row for TIC 366567664\n",
      "   Campaign        TIC ampl_rec cstart cstop ed_rec ed_rec_err istart istop  \\\n",
      "0         7  366567664      NaN    NaN   NaN    NaN        NaN    NaN   NaN   \n",
      "\n",
      "  tstart tstop  \n",
      "0    NaN   NaN  \n",
      "\n",
      "Finished TIC 366567664 (7)\n",
      "------------------------------\n",
      "\n",
      "102ca_tess2019090910530-s0007-0000000410898932-0000-s_lc.fits \n",
      "\n",
      "\n",
      "Started TIC 410898932 (7), LC nr. 102\n",
      "------------------------------\n",
      "\n"
     ]
    },
    {
     "name": "stderr",
     "output_type": "stream",
     "text": [
      "Found 0 candidate(s) in the (0,8190) gap.\n",
      "Found 0 candidate(s) in the (8190,16362) gap.\n"
     ]
    },
    {
     "name": "stdout",
     "output_type": "stream",
     "text": [
      "Added an empty row for TIC 410898932\n",
      "   Campaign        TIC ampl_rec cstart cstop ed_rec ed_rec_err istart istop  \\\n",
      "0         7  410898932      NaN    NaN   NaN    NaN        NaN    NaN   NaN   \n",
      "\n",
      "  tstart tstop  \n",
      "0    NaN   NaN  \n",
      "\n",
      "Finished TIC 410898932 (7)\n",
      "------------------------------\n",
      "\n",
      "103ca_tess2019102415201-s0008-0000000000926898-0000-s_lc.fits \n",
      "\n",
      "\n",
      "Started TIC 926898 (8), LC nr. 103\n",
      "------------------------------\n",
      "\n"
     ]
    },
    {
     "name": "stderr",
     "output_type": "stream",
     "text": [
      "Found 1 candidate(s) in the (0,8406) gap.\n",
      "Found 0 candidate(s) in the (8406,13427) gap.\n"
     ]
    },
    {
     "name": "stdout",
     "output_type": "stream",
     "text": [
      "      ampl_rec  cstart   cstop        ed_rec  ed_rec_err istart istop  \\\n",
      "0  1623.933716  208723  208730  1.099236e+06         0.0      1     7   \n",
      "\n",
      "   total_n_valid_data_points       tstart        tstop     TIC  Campaign  \n",
      "0                    13427.0  1517.353356  1517.363078  926898         8  \n",
      "\n",
      "Finished TIC 926898 (8)\n",
      "------------------------------\n",
      "\n",
      "104ca_tess2019090911104-s0008-0000000007975441-0000-s_lc.fits \n",
      "\n",
      "\n",
      "Started TIC 7975441 (8), LC nr. 104\n",
      "------------------------------\n",
      "\n"
     ]
    },
    {
     "name": "stderr",
     "output_type": "stream",
     "text": [
      "Found 2 candidate(s) in the (0,8387) gap.\n",
      "Found 1 candidate(s) in the (8387,12958) gap.\n"
     ]
    },
    {
     "name": "stdout",
     "output_type": "stream",
     "text": [
      "   ampl_rec  cstart   cstop      ed_rec  ed_rec_err istart  istop  \\\n",
      "0  0.195106  213756  213760   52.193400    3.896217   4990   4994   \n",
      "1  0.357090  216170  216181  252.161943    6.365283   7397   7408   \n",
      "2  0.306365  223541  223544   69.099931    3.413096  10035  10038   \n",
      "\n",
      "   total_n_valid_data_points       tstart        tstop      TIC  Campaign  \n",
      "0                    12958.0  1524.344099  1524.349655  7975441         8  \n",
      "1                    12958.0  1527.696846  1527.712123  7975441         8  \n",
      "2                    12958.0  1537.934154  1537.938320  7975441         8  \n",
      "\n",
      "Finished TIC 7975441 (8)\n",
      "------------------------------\n",
      "\n",
      "105ca_tess2019090911241-s0008-0000000011654435-0000-s_lc.fits \n",
      "\n",
      "\n",
      "Started TIC 11654435 (8), LC nr. 105\n",
      "------------------------------\n",
      "\n"
     ]
    },
    {
     "name": "stderr",
     "output_type": "stream",
     "text": [
      "Found 1 candidate(s) in the (0,8406) gap.\n",
      "Found 8 candidate(s) in the (8406,13427) gap.\n"
     ]
    },
    {
     "name": "stdout",
     "output_type": "stream",
     "text": [
      "    ampl_rec  cstart   cstop        ed_rec  ed_rec_err istart istop  \\\n",
      "0  22.828621  208723  208759  16959.358027    0.000000      1    33   \n",
      "1   0.417624  221436  222559  15777.244220    7.663637   8407  9522   \n",
      "2   0.030650  222565  222617     96.081800    2.022453   9528  9580   \n",
      "3   0.016386  222624  222653     45.085689    1.562167   9587  9616   \n",
      "4   0.016974  222659  222663      6.618566    0.576409   9622  9626   \n",
      "5   0.015967  222690  222694      6.266548    0.576141   9653  9657   \n",
      "6   0.013809  222699  222702      4.371808    0.505698   9662  9665   \n",
      "7   0.014431  222708  222716     10.358207    0.822855   9671  9679   \n",
      "8   0.014473  222737  222740      4.423220    0.503633   9700  9703   \n",
      "\n",
      "   total_n_valid_data_points       tstart        tstop       TIC  Campaign  \n",
      "0                    13427.0  1517.352037  1517.402037  11654435         8  \n",
      "1                    13427.0  1535.009042  1536.568754  11654435         8  \n",
      "2                    13427.0  1536.577088  1536.649309  11654435         8  \n",
      "3                    13427.0  1536.659031  1536.699309  11654435         8  \n",
      "4                    13427.0  1536.707642  1536.713198  11654435         8  \n",
      "5                    13427.0  1536.750697  1536.756253  11654435         8  \n",
      "6                    13427.0  1536.763197  1536.767364  11654435         8  \n",
      "7                    13427.0  1536.775697  1536.786808  11654435         8  \n",
      "8                    13427.0  1536.815975  1536.820141  11654435         8  \n",
      "\n",
      "Finished TIC 11654435 (8)\n",
      "------------------------------\n",
      "\n",
      "106ca_tess2019090911283-s0008-0000000044984200-0000-s_lc.fits \n",
      "\n",
      "\n",
      "Started TIC 44984200 (8), LC nr. 106\n",
      "------------------------------\n",
      "\n"
     ]
    }
   ],
   "source": [
    "for i, path in enumerate(paths):\n",
    "    print(path, \"\\n\")\n",
    "    path = \"/work1/eilin/TESS_UCDs/TESS_UCD_flares/custom_aperture/\" + path\n",
    "    cluster = \"/work1/eilin/TESS_UCDs/flare_tables/2019_10_25_TESSUCDs\"\n",
    "    hdu = fits.open(path)\n",
    "    data = hdu[1].data\n",
    "\n",
    "    sector = int(path.split(\"-\")[1][-2:])\n",
    "    TIC = int(path.split(\"-\")[2])\n",
    "\n",
    "    print(\"\\nStarted TIC {} ({}), LC nr. {}\\n------------------------------\\n\".format(TIC, sector, i))\n",
    "\n",
    "    flc = FlareLightCurve(time=data[\"TIME\"],\n",
    "                        flux=data[\"FLUX\"],\n",
    "                        flux_err=data[\"FLUX_ERR\"],\n",
    "                        quality=data[\"QUALITY\"],\n",
    "                        cadenceno=data[\"CADENCENO\"],\n",
    "                        targetid=TIC,\n",
    "                        campaign=sector)\n",
    "\n",
    "    if TIC in [29928567, 142052876, 293561794, 471012740, 142052876]: #rapid rotators\n",
    "        w = 5\n",
    "    elif TIC in [98874143, 272349442, 388903843, 332623751, 328254412, 44892011, 44892011, 117733581, 29780677, 340703996]: #intermediate rotators/ variability time scale / some weird systematics\n",
    "        w = 25\n",
    "    elif TIC in [471012740]:\n",
    "        w = 555\n",
    "    else:\n",
    "        w = 25\n",
    "    flcd = flc.detrend(\"savgol\", window_length=w)\n",
    "    flcd = flcd.find_flares()\n",
    "   \n",
    "    write_flares_to_file(flcd, cluster)\n",
    "    hdu.close()\n",
    "    \n",
    "    print(\"\\nFinished TIC {} ({})\\n------------------------------\\n\".format(TIC, sector))\n"
   ]
  },
  {
   "cell_type": "code",
   "execution_count": 4,
   "metadata": {},
   "outputs": [],
   "source": [
    "df = pd.read_csv(\"/work1/eilin/TESS_UCDs/flare_tables/2019_10_25_TESSUCDs_flares.csv\")"
   ]
  },
  {
   "cell_type": "markdown",
   "metadata": {},
   "source": [
    "180724005 (3) - flares are not real because light curve makes an unexpected excursion"
   ]
  },
  {
   "cell_type": "code",
   "execution_count": 5,
   "metadata": {},
   "outputs": [
    {
     "data": {
      "text/html": [
       "<div>\n",
       "<style scoped>\n",
       "    .dataframe tbody tr th:only-of-type {\n",
       "        vertical-align: middle;\n",
       "    }\n",
       "\n",
       "    .dataframe tbody tr th {\n",
       "        vertical-align: top;\n",
       "    }\n",
       "\n",
       "    .dataframe thead th {\n",
       "        text-align: right;\n",
       "    }\n",
       "</style>\n",
       "<table border=\"1\" class=\"dataframe\">\n",
       "  <thead>\n",
       "    <tr style=\"text-align: right;\">\n",
       "      <th></th>\n",
       "      <th>Campaign</th>\n",
       "      <th>TIC</th>\n",
       "      <th>ampl_rec</th>\n",
       "      <th>cstart</th>\n",
       "      <th>cstop</th>\n",
       "      <th>ed_rec</th>\n",
       "      <th>ed_rec_err</th>\n",
       "      <th>istart</th>\n",
       "      <th>istop</th>\n",
       "      <th>total_n_valid_data_points</th>\n",
       "      <th>tstart</th>\n",
       "      <th>tstop</th>\n",
       "    </tr>\n",
       "  </thead>\n",
       "  <tbody>\n",
       "    <tr>\n",
       "      <td>0</td>\n",
       "      <td>1</td>\n",
       "      <td>29780677</td>\n",
       "      <td>2.424056</td>\n",
       "      <td>81083.0</td>\n",
       "      <td>81127.0</td>\n",
       "      <td>1638.774308</td>\n",
       "      <td>4.680147</td>\n",
       "      <td>9518.0</td>\n",
       "      <td>9562.0</td>\n",
       "      <td>NaN</td>\n",
       "      <td>1340.071717</td>\n",
       "      <td>1340.132828</td>\n",
       "    </tr>\n",
       "    <tr>\n",
       "      <td>1</td>\n",
       "      <td>1</td>\n",
       "      <td>29780677</td>\n",
       "      <td>0.185100</td>\n",
       "      <td>83396.0</td>\n",
       "      <td>83416.0</td>\n",
       "      <td>244.729747</td>\n",
       "      <td>4.116730</td>\n",
       "      <td>11803.0</td>\n",
       "      <td>11823.0</td>\n",
       "      <td>NaN</td>\n",
       "      <td>1343.284226</td>\n",
       "      <td>1343.312004</td>\n",
       "    </tr>\n",
       "    <tr>\n",
       "      <td>2</td>\n",
       "      <td>1</td>\n",
       "      <td>142052876</td>\n",
       "      <td>0.015014</td>\n",
       "      <td>74161.0</td>\n",
       "      <td>74165.0</td>\n",
       "      <td>5.772812</td>\n",
       "      <td>0.408417</td>\n",
       "      <td>3579.0</td>\n",
       "      <td>3583.0</td>\n",
       "      <td>NaN</td>\n",
       "      <td>1330.457578</td>\n",
       "      <td>1330.463133</td>\n",
       "    </tr>\n",
       "    <tr>\n",
       "      <td>3</td>\n",
       "      <td>1</td>\n",
       "      <td>142052876</td>\n",
       "      <td>0.022008</td>\n",
       "      <td>76823.0</td>\n",
       "      <td>76831.0</td>\n",
       "      <td>12.725052</td>\n",
       "      <td>0.549814</td>\n",
       "      <td>6163.0</td>\n",
       "      <td>6171.0</td>\n",
       "      <td>NaN</td>\n",
       "      <td>1334.154755</td>\n",
       "      <td>1334.165866</td>\n",
       "    </tr>\n",
       "    <tr>\n",
       "      <td>4</td>\n",
       "      <td>1</td>\n",
       "      <td>142052876</td>\n",
       "      <td>0.015628</td>\n",
       "      <td>77660.0</td>\n",
       "      <td>77684.0</td>\n",
       "      <td>37.270688</td>\n",
       "      <td>1.942071</td>\n",
       "      <td>6967.0</td>\n",
       "      <td>6975.0</td>\n",
       "      <td>NaN</td>\n",
       "      <td>1335.317236</td>\n",
       "      <td>1335.350569</td>\n",
       "    </tr>\n",
       "  </tbody>\n",
       "</table>\n",
       "</div>"
      ],
      "text/plain": [
       "   Campaign        TIC  ampl_rec   cstart    cstop       ed_rec  ed_rec_err  \\\n",
       "0         1   29780677  2.424056  81083.0  81127.0  1638.774308    4.680147   \n",
       "1         1   29780677  0.185100  83396.0  83416.0   244.729747    4.116730   \n",
       "2         1  142052876  0.015014  74161.0  74165.0     5.772812    0.408417   \n",
       "3         1  142052876  0.022008  76823.0  76831.0    12.725052    0.549814   \n",
       "4         1  142052876  0.015628  77660.0  77684.0    37.270688    1.942071   \n",
       "\n",
       "    istart    istop  total_n_valid_data_points       tstart        tstop  \n",
       "0   9518.0   9562.0                        NaN  1340.071717  1340.132828  \n",
       "1  11803.0  11823.0                        NaN  1343.284226  1343.312004  \n",
       "2   3579.0   3583.0                        NaN  1330.457578  1330.463133  \n",
       "3   6163.0   6171.0                        NaN  1334.154755  1334.165866  \n",
       "4   6967.0   6975.0                        NaN  1335.317236  1335.350569  "
      ]
     },
     "execution_count": 5,
     "metadata": {},
     "output_type": "execute_result"
    }
   ],
   "source": [
    "df.head()"
   ]
  },
  {
   "cell_type": "code",
   "execution_count": 6,
   "metadata": {},
   "outputs": [
    {
     "ename": "SyntaxError",
     "evalue": "invalid syntax (<ipython-input-6-33a19e34a802>, line 6)",
     "output_type": "error",
     "traceback": [
      "\u001b[0;36m  File \u001b[0;32m\"<ipython-input-6-33a19e34a802>\"\u001b[0;36m, line \u001b[0;32m6\u001b[0m\n\u001b[0;31m    plt.\u001b[0m\n\u001b[0m        ^\u001b[0m\n\u001b[0;31mSyntaxError\u001b[0m\u001b[0;31m:\u001b[0m invalid syntax\n"
     ]
    }
   ],
   "source": [
    "plt.figure(figsize=(16,5))\n",
    "for c, dfs in df.groupby(\"Campaign\"):\n",
    "    plt.scatter(dfs.tstart, dfs.ampl_rec, label=c)\n",
    "plt.legend()\n",
    "plt.yscale(\"log\")\n",
    "plt."
   ]
  },
  {
   "cell_type": "code",
   "execution_count": null,
   "metadata": {},
   "outputs": [],
   "source": [
    "df[df.Campaign ==10].groupby(\"TIC\").count()"
   ]
  },
  {
   "cell_type": "code",
   "execution_count": null,
   "metadata": {},
   "outputs": [],
   "source": []
  }
 ],
 "metadata": {
  "kernelspec": {
   "display_name": "flaresinclustersii",
   "language": "python",
   "name": "flaresinclustersii"
  },
  "language_info": {
   "codemirror_mode": {
    "name": "ipython",
    "version": 3
   },
   "file_extension": ".py",
   "mimetype": "text/x-python",
   "name": "python",
   "nbconvert_exporter": "python",
   "pygments_lexer": "ipython3",
   "version": "3.6.5"
  }
 },
 "nbformat": 4,
 "nbformat_minor": 2
}
