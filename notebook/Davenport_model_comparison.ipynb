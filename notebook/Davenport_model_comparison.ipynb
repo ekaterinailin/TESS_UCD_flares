{
 "cells": [
  {
   "cell_type": "code",
   "execution_count": 1,
   "metadata": {},
   "outputs": [],
   "source": [
    "import numpy as np\n",
    "import pandas as pd\n",
    "\n",
    "import matplotlib.pyplot as plt\n",
    "%matplotlib inline\n",
    "\n",
    "from scipy.interpolate import interp1d\n",
    "import scipy.optimize as op\n",
    "import emcee\n",
    "import corner\n",
    "\n",
    "import time as Time\n",
    "tstamp = Time.strftime(\"%d_%m_%Y_%H_%M\", Time.localtime())\n",
    "\n",
    "from IPython.display import display, Math\n",
    "\n",
    "for att in ['axes.labelsize', 'axes.titlesize', 'legend.fontsize',\n",
    "            'legend.fontsize', 'xtick.labelsize', 'ytick.labelsize']:\n",
    "    plt.rcParams[att] = 15\n",
    "    \n",
    "from funcs.gj1243 import (choose_lnprob,\n",
    "                          loglikelihood_full,\n",
    "                          loglikelihood_fwhm,\n",
    "                          loglikelihood_rise,\n",
    "                          loglikelihood_decay,\n",
    "                          lnprior_full,\n",
    "                          lnprior_fwhm,\n",
    "                          lnprior_rise,\n",
    "                          lnprior_decay,\n",
    "                          lnprior_rise_uniform,\n",
    "                          model_rise,\n",
    "                          model_decay,)"
   ]
  },
  {
   "cell_type": "code",
   "execution_count": null,
   "metadata": {
    "scrolled": true
   },
   "outputs": [],
   "source": [
    "tstamp = \"17_03_2020_15_42\"\n",
    "df = pd.read_csv(\"../flare_tables/20200227_vetted_flares_lacking_some.csv\")\n",
    "df = df[df.real == 1] \n",
    "df = df[df.complex == 0]\n",
    "df = df[df.ampl_rec > .01]\n",
    "#df = df[(df.cstop-df.cstart) < 60]\n",
    "df = df[(df.cstop-df.cstart) > 4]\n",
    "\n",
    "\n",
    "series = {}\n",
    "\n",
    "for cond, S, color in [#((df.st == 6), \"M6\", \"red\"),\n",
    "                       #((df.st == 7), \"M7\", \"blue\"),\n",
    "                       #((df.st == 8), \"M8\", \"orange\"),\n",
    "                       #((df.st == 9), \"M9\", \"green\"),\n",
    "                       #((df.st > 6), \">M6\", \"grey\"),\n",
    "                       ((df.st>5),\"all\", \"k\")\n",
    "                      ]:\n",
    "\n",
    "    d = df[cond]\n",
    "    n = d.shape[0]\n",
    "    \n",
    "    a = np.ones((n, 100));\n",
    "    ns, ni = 100000, 0\n",
    "    plt.figure(figsize=(8,6))\n",
    "    \n",
    "    for i in range(n):\n",
    "        l = d[[\"TIC\",\"sector\",\"cstart\"]].iloc[i]\n",
    "        try:\n",
    "            s =f\"{str(l.TIC).zfill(16)}_{l.sector}_{l.cstart}_long.csv\"\n",
    "            f = pd.read_csv(f\"../flare_snippets/{s}\")\n",
    "            #f = f.iloc[90:,:]\n",
    "\n",
    "            # Interpolation\n",
    "        \n",
    "            interp = interp1d(f.c, f.f, kind='linear')\n",
    "            time = np.linspace(f.c.values[0], f.c.values[-1],f.shape[0]*20 ) # scale up to Davenport upsampling\n",
    "            flux = (interp(time) -1.)\n",
    "        except:\n",
    "            print(s)\n",
    "            continue\n",
    "        \n",
    "        # Scale to FWHM\n",
    "        fwhmmin, fwhmmax = -5., 20.\n",
    "        maxflux = np.max(flux)\n",
    "        argmaxflux = np.argmax(flux)\n",
    "        t12rise = np.argmin(np.abs(flux[:argmaxflux+1] * 2. - maxflux))  \n",
    "        t12decay = np.argmin(np.abs(flux[argmaxflux:] * 2. - maxflux))\n",
    "        t12 = time[argmaxflux + t12decay] - time[t12rise]\n",
    "        \n",
    "        timet12 = (time - time[argmaxflux]) / t12\n",
    "        fluxt12 = flux / maxflux\n",
    "        \n",
    "        # Find good time series to reindex to\n",
    "        series[i] = pd.Series(fluxt12, index=timet12)\n",
    "       \n",
    "        if timet12.shape[0] < ns:\n",
    "            if ((timet12[0]<=fwhmmin) & (timet12[-1]>=fwhmmax)):\n",
    "                ns = timet12.shape[0]\n",
    "                ni = i\n",
    "        # plot individual flares\n",
    "        plt.plot(timet12, fluxt12, c=\"c\", alpha=.1)\n",
    "    \n",
    "    # stack an average\n",
    "    df = pd.DataFrame(series)\n",
    "    df = df[(df.index > fwhmmin) & (df.index < fwhmmax)]\n",
    "    df2 = df.interpolate(\"index\").reindex(index=series[ni].index.values,\n",
    "                                          columns=df.columns.values)\n",
    "    meanval = df2[(df2.index>-5.)].median(axis=1)\n",
    "    stdval = np.sqrt(df2[(df2.index>-5.)].var(axis=1))\n",
    "    time, flux, flux_err = meanval.index, meanval.values, stdval.values\n",
    "    condit = np.where(np.invert(np.isnan(time)) &\n",
    "                      np.invert(np.isnan(flux)) &\n",
    "                      np.invert(np.isnan(flux_err)))\n",
    "    time, flux, flux_err = time[condit], flux[condit], flux_err[condit]\n",
    "    tfe = pd.DataFrame({\"time\" : time, \"flux\" : flux, \"flux_err\" : flux_err})\n",
    "    tfe.to_csv(f\"../analysis/{tstamp}_median_flux_{S}.csv\", index=False)\n",
    "    \n",
    "#     # maximize likelihood to get init values for MCMC\n",
    "#     nll = lambda *args: -loglikelihood(*args)\n",
    "#     result = op.minimize(nll, [0.01,1.2,1.2], args=(time, flux, flux_err),options={ 'disp': True})\n",
    "#     tpeak_ml, dur_ml, ampl_ml = result[\"x\"]\n",
    "    \n",
    "#     # run MCMC\n",
    "#     ndim, nwalkers = 1, 100\n",
    "#     #pos = [result[\"x\"] + 1e-4*np.random.randn(ndim) for i in range(nwalkers)]\n",
    "#     pos = [1. + 1e-4*np.random.randn(ndim) for i in range(nwalkers)]\n",
    "#     filename = f\"../mcmc/{tstamp}_uninf_prior_full_model_fwhm.h5\"\n",
    "#     backend = emcee.backends.HDFBackend(filename)\n",
    "#     #backend.reset(nwalkers, ndim)\n",
    "#     sampler = emcee.EnsembleSampler(nwalkers, ndim, lnprob_fwhm, args=(time, flux, flux_err), backend=backend)\n",
    "#     sampler.run_mcmc(pos, 10, progress=True)\n",
    "    #tau = sampler.get_autocorr_time()\n",
    "    #print(tau)\n",
    "    \n",
    "    # Plot MCMC result\n",
    "#    samples = sampler.chain[:, 50:, :].reshape((-1, ndim))\n",
    "#     for tpeak, dur, ampl in samples[np.random.randint(len(samples), size=50)]:\n",
    "#         plt.plot(time, aflare(time, tpeak, dur, ampl), color=\"k\", alpha=0.1)\n",
    "#     plt.plot(time, aflare(time, tpeak, dur, ampl), color=\"k\", alpha=0.1, label=\"MCMC fit\")\n",
    "    plt.xlim(-5,20)\n",
    "    plt.xlabel(\"time [FWHM]\")\n",
    "    plt.ylabel(\"normalized flux\");\n",
    "    \n",
    "    # plot average + std\n",
    "    plt.plot(time, flux, c=\"r\", linewidth=2, label=\"median flux\")\n",
    "    plt.plot(time, flux - flux_err, c=\"r\", linewidth=1.5, linestyle=\"dashed\", label=r\"median flux $\\pm 1\\sigma$\")\n",
    "    plt.plot(time, flux + flux_err, c=\"r\", linewidth=1.5, linestyle=\"dashed\")\n",
    "    \n",
    "    # Finish figure\n",
    "    plt.tight_layout()\n",
    "    plt.savefig(f\"../plots/{tstamp}_{S}_davenport_fit_median_norel_long.png\", dpi=300)\n",
    "    plt.close()\n",
    "    \n",
    "#     # Plot cornerplot\n",
    "#     fig = corner.corner(samples, labels=[\"$tpeak$\", \"$dur$\", \"$ampl$\"],)\n",
    "#     plt.savefig(f\"../plots/{tstamp}_{S}_davenport_fit_mcmc_corner_median_norel_long.png\", dpi=300)\n",
    "#     plt.close()"
   ]
  },
  {
   "cell_type": "code",
   "execution_count": null,
   "metadata": {
    "scrolled": true
   },
   "outputs": [],
   "source": [
    "# from IPython.display import display, Math\n",
    "# flat_samples = sampler.get_chain(discard=100, thin=15, flat=True)\n",
    "\n",
    "# with open(\"../tables/davenport_model.txt\", \"a\") as f:\n",
    "#         f.write(f\"{tstamp} fit Davenport model to data with uniform prior.\")\n",
    "\n",
    "# labels = [r\"t_\\mathrm{peak}\", r\"\\mathrm{FWHM}_r\", \"a_r\"]\n",
    "# for i in range(ndim):\n",
    "#     mcmc = np.percentile(flat_samples[:, i], [16, 50, 84])\n",
    "#     q = np.diff(mcmc)\n",
    "#     txt1 = f\"{labels[i]} = {mcmc[1]:.3f}_{{-{q[0]:.3f}}}^{{{q[1]:.3f}}}\"\n",
    "#     display(Math(txt1))\n",
    "    \n",
    "#     with open(\"../tables/davenport_model.txt\", \"a\") as f:\n",
    "#         f.write(\"$\" + txt1 + \"$\\n\")"
   ]
  },
  {
   "cell_type": "code",
   "execution_count": 2,
   "metadata": {},
   "outputs": [],
   "source": [
    "ts = \"17_03_2020_15_42\"\n",
    "tfe = pd.read_csv(f\"../analysis/{ts}_median_flux_all.csv\")\n",
    "time, flux, flux_err = tfe.time, tfe.flux, tfe.flux_err\n"
   ]
  },
  {
   "cell_type": "markdown",
   "metadata": {},
   "source": [
    "## Fit the rise phase"
   ]
  },
  {
   "cell_type": "code",
   "execution_count": 3,
   "metadata": {},
   "outputs": [],
   "source": [
    "cond = (time<=0.) & (time>=-1.)\n",
    "t_rise = time[cond]\n",
    "f_rise = flux[cond]\n",
    "ferr_rise = flux_err[cond]\n"
   ]
  },
  {
   "cell_type": "code",
   "execution_count": 5,
   "metadata": {},
   "outputs": [
    {
     "data": {
      "image/png": "[encoded data removed]",
      "text/plain": [
       "<Figure size 432x288 with 1 Axes>"
      ]
     },
     "metadata": {
      "needs_background": "light"
     },
     "output_type": "display_data"
    }
   ],
   "source": [
    "plt.errorbar(t_rise,f_rise,yerr=ferr_rise);"
   ]
  },
  {
   "cell_type": "code",
   "execution_count": 6,
   "metadata": {},
   "outputs": [
    {
     "data": {
      "text/plain": [
       "'18_03_2020_11_11'"
      ]
     },
     "execution_count": 6,
     "metadata": {},
     "output_type": "execute_result"
    }
   ],
   "source": [
    "tstamp"
   ]
  },
  {
   "cell_type": "code",
   "execution_count": 11,
   "metadata": {},
   "outputs": [
    {
     "name": "stderr",
     "output_type": "stream",
     "text": [
      "/home/ekaterina/Documents/000_envs/forallpurposes/lib/python3.6/site-packages/pandas/core/series.py:679: RuntimeWarning: divide by zero encountered in log\n",
      "  result = getattr(ufunc, method)(*inputs, **kwargs)\n",
      "100%|██████████| 500/500 [01:51<00:00,  4.50it/s]\n"
     ]
    }
   ],
   "source": [
    "# MCMC\n",
    "\n",
    "# Setup chain\n",
    "ndim, nwalkers = 4, 100\n",
    "truths = [1.941, -.175,  -2.246, -1.125]\n",
    "e_truths = [.008, .032, .039, .016]\n",
    "pos = [truths + 1e-4*np.random.randn(ndim) for i in range(nwalkers)]\n",
    "\n",
    "# choose posterior distribution function\n",
    "lnprob = choose_lnprob(lnprior_rise_uniform, loglikelihood_rise)\n",
    "\n",
    "# Save chain\n",
    "#tstamp = \"17_03_2020_16_05\"\n",
    "filename = f\"../mcmc/{tstamp}_rise_phase.h5\"\n",
    "backend = emcee.backends.HDFBackend(filename)\n",
    "#backend.reset(nwalkers, ndim)\n",
    "rise_sampler = emcee.EnsembleSampler(nwalkers, ndim, lnprob, args=(t_rise, f_rise, ferr_rise), backend=backend)\n",
    "\n",
    "# run MCMC\n",
    "rise_sampler.run_mcmc(pos, 500, progress=True);"
   ]
  },
  {
   "cell_type": "code",
   "execution_count": 12,
   "metadata": {},
   "outputs": [
    {
     "ename": "AutocorrError",
     "evalue": "The chain is shorter than 50 times the integrated autocorrelation time for 4 parameter(s). Use this estimate with caution and run a longer chain!\nN/50 = 20;\ntau: [37.52194076 37.91377198 37.76696509 37.33770151]",
     "output_type": "error",
     "traceback": [
      "\u001b[0;31m---------------------------------------------------------------------------\u001b[0m",
      "\u001b[0;31mAutocorrError\u001b[0m                             Traceback (most recent call last)",
      "\u001b[0;32m<ipython-input-12-e3a1fa927a1d>\u001b[0m in \u001b[0;36m<module>\u001b[0;34m\u001b[0m\n\u001b[0;32m----> 1\u001b[0;31m \u001b[0mtau\u001b[0m \u001b[0;34m=\u001b[0m \u001b[0mrise_sampler\u001b[0m\u001b[0;34m.\u001b[0m\u001b[0mget_autocorr_time\u001b[0m\u001b[0;34m(\u001b[0m\u001b[0;34m)\u001b[0m\u001b[0;34m\u001b[0m\u001b[0;34m\u001b[0m\u001b[0m\n\u001b[0m\u001b[1;32m      2\u001b[0m \u001b[0;34m\u001b[0m\u001b[0m\n\u001b[1;32m      3\u001b[0m \u001b[0mprint\u001b[0m\u001b[0;34m(\u001b[0m\u001b[0mtau\u001b[0m\u001b[0;34m)\u001b[0m\u001b[0;34m\u001b[0m\u001b[0;34m\u001b[0m\u001b[0m\n",
      "\u001b[0;32m~/Documents/000_envs/forallpurposes/lib/python3.6/site-packages/emcee/ensemble.py\u001b[0m in \u001b[0;36mget_autocorr_time\u001b[0;34m(self, **kwargs)\u001b[0m\n\u001b[1;32m    524\u001b[0m \u001b[0;34m\u001b[0m\u001b[0m\n\u001b[1;32m    525\u001b[0m     \u001b[0;32mdef\u001b[0m \u001b[0mget_autocorr_time\u001b[0m\u001b[0;34m(\u001b[0m\u001b[0mself\u001b[0m\u001b[0;34m,\u001b[0m \u001b[0;34m**\u001b[0m\u001b[0mkwargs\u001b[0m\u001b[0;34m)\u001b[0m\u001b[0;34m:\u001b[0m\u001b[0;34m\u001b[0m\u001b[0;34m\u001b[0m\u001b[0m\n\u001b[0;32m--> 526\u001b[0;31m         \u001b[0;32mreturn\u001b[0m \u001b[0mself\u001b[0m\u001b[0;34m.\u001b[0m\u001b[0mbackend\u001b[0m\u001b[0;34m.\u001b[0m\u001b[0mget_autocorr_time\u001b[0m\u001b[0;34m(\u001b[0m\u001b[0;34m**\u001b[0m\u001b[0mkwargs\u001b[0m\u001b[0;34m)\u001b[0m\u001b[0;34m\u001b[0m\u001b[0;34m\u001b[0m\u001b[0m\n\u001b[0m\u001b[1;32m    527\u001b[0m \u001b[0;34m\u001b[0m\u001b[0m\n\u001b[1;32m    528\u001b[0m     \u001b[0mget_autocorr_time\u001b[0m\u001b[0;34m.\u001b[0m\u001b[0m__doc__\u001b[0m \u001b[0;34m=\u001b[0m \u001b[0mBackend\u001b[0m\u001b[0;34m.\u001b[0m\u001b[0mget_autocorr_time\u001b[0m\u001b[0;34m.\u001b[0m\u001b[0m__doc__\u001b[0m\u001b[0;34m\u001b[0m\u001b[0;34m\u001b[0m\u001b[0m\n",
      "\u001b[0;32m~/Documents/000_envs/forallpurposes/lib/python3.6/site-packages/emcee/backends/backend.py\u001b[0m in \u001b[0;36mget_autocorr_time\u001b[0;34m(self, discard, thin, **kwargs)\u001b[0m\n\u001b[1;32m    148\u001b[0m         \"\"\"\n\u001b[1;32m    149\u001b[0m         \u001b[0mx\u001b[0m \u001b[0;34m=\u001b[0m \u001b[0mself\u001b[0m\u001b[0;34m.\u001b[0m\u001b[0mget_chain\u001b[0m\u001b[0;34m(\u001b[0m\u001b[0mdiscard\u001b[0m\u001b[0;34m=\u001b[0m\u001b[0mdiscard\u001b[0m\u001b[0;34m,\u001b[0m \u001b[0mthin\u001b[0m\u001b[0;34m=\u001b[0m\u001b[0mthin\u001b[0m\u001b[0;34m)\u001b[0m\u001b[0;34m\u001b[0m\u001b[0;34m\u001b[0m\u001b[0m\n\u001b[0;32m--> 150\u001b[0;31m         \u001b[0;32mreturn\u001b[0m \u001b[0mthin\u001b[0m \u001b[0;34m*\u001b[0m \u001b[0mautocorr\u001b[0m\u001b[0;34m.\u001b[0m\u001b[0mintegrated_time\u001b[0m\u001b[0;34m(\u001b[0m\u001b[0mx\u001b[0m\u001b[0;34m,\u001b[0m \u001b[0;34m**\u001b[0m\u001b[0mkwargs\u001b[0m\u001b[0;34m)\u001b[0m\u001b[0;34m\u001b[0m\u001b[0;34m\u001b[0m\u001b[0m\n\u001b[0m\u001b[1;32m    151\u001b[0m \u001b[0;34m\u001b[0m\u001b[0m\n\u001b[1;32m    152\u001b[0m     \u001b[0;34m@\u001b[0m\u001b[0mproperty\u001b[0m\u001b[0;34m\u001b[0m\u001b[0;34m\u001b[0m\u001b[0m\n",
      "\u001b[0;32m~/Documents/000_envs/forallpurposes/lib/python3.6/site-packages/emcee/autocorr.py\u001b[0m in \u001b[0;36mintegrated_time\u001b[0;34m(x, c, tol, quiet)\u001b[0m\n\u001b[1;32m    108\u001b[0m         \u001b[0mmsg\u001b[0m \u001b[0;34m+=\u001b[0m \u001b[0;34m\"N/{0} = {1:.0f};\\ntau: {2}\"\u001b[0m\u001b[0;34m.\u001b[0m\u001b[0mformat\u001b[0m\u001b[0;34m(\u001b[0m\u001b[0mtol\u001b[0m\u001b[0;34m,\u001b[0m \u001b[0mn_t\u001b[0m \u001b[0;34m/\u001b[0m \u001b[0mtol\u001b[0m\u001b[0;34m,\u001b[0m \u001b[0mtau_est\u001b[0m\u001b[0;34m)\u001b[0m\u001b[0;34m\u001b[0m\u001b[0;34m\u001b[0m\u001b[0m\n\u001b[1;32m    109\u001b[0m         \u001b[0;32mif\u001b[0m \u001b[0;32mnot\u001b[0m \u001b[0mquiet\u001b[0m\u001b[0;34m:\u001b[0m\u001b[0;34m\u001b[0m\u001b[0;34m\u001b[0m\u001b[0m\n\u001b[0;32m--> 110\u001b[0;31m             \u001b[0;32mraise\u001b[0m \u001b[0mAutocorrError\u001b[0m\u001b[0;34m(\u001b[0m\u001b[0mtau_est\u001b[0m\u001b[0;34m,\u001b[0m \u001b[0mmsg\u001b[0m\u001b[0;34m)\u001b[0m\u001b[0;34m\u001b[0m\u001b[0;34m\u001b[0m\u001b[0m\n\u001b[0m\u001b[1;32m    111\u001b[0m         \u001b[0mlogging\u001b[0m\u001b[0;34m.\u001b[0m\u001b[0mwarning\u001b[0m\u001b[0;34m(\u001b[0m\u001b[0mmsg\u001b[0m\u001b[0;34m)\u001b[0m\u001b[0;34m\u001b[0m\u001b[0;34m\u001b[0m\u001b[0m\n\u001b[1;32m    112\u001b[0m \u001b[0;34m\u001b[0m\u001b[0m\n",
      "\u001b[0;31mAutocorrError\u001b[0m: The chain is shorter than 50 times the integrated autocorrelation time for 4 parameter(s). Use this estimate with caution and run a longer chain!\nN/50 = 20;\ntau: [37.52194076 37.91377198 37.76696509 37.33770151]"
     ]
    }
   ],
   "source": [
    "tau = rise_sampler.get_autocorr_time()\n",
    "\n",
    "print(tau)"
   ]
  },
  {
   "cell_type": "code",
   "execution_count": 13,
   "metadata": {},
   "outputs": [
    {
     "name": "stdout",
     "output_type": "stream",
     "text": [
      "Initial size: 1010\n",
      "Final size: 1020\n"
     ]
    }
   ],
   "source": [
    "new_backend = emcee.backends.HDFBackend(filename)\n",
    "print(\"Initial size: {0}\".format(new_backend.iteration))\n",
    "rise_sampler = emcee.EnsembleSampler(nwalkers, ndim, lnprob, args=(t_rise, f_rise, ferr_rise),\n",
    "                                     backend=new_backend)\n",
    "rise_sampler.run_mcmc(None, )\n",
    "print(\"Final size: {0}\".format(new_backend.iteration))"
   ]
  },
  {
   "cell_type": "code",
   "execution_count": 14,
   "metadata": {
    "scrolled": true
   },
   "outputs": [
    {
     "data": {
      "image/png": "[encoded data removed]",
      "text/plain": [
       "<Figure size 288x432 with 1 Axes>"
      ]
     },
     "metadata": {
      "needs_background": "light"
     },
     "output_type": "display_data"
    }
   ],
   "source": [
    "# Plot MCMC result\n",
    "plt.figure(figsize=(4,6))\n",
    "rise_samples = rise_sampler.chain[:, 50:, :].reshape((-1, ndim))\n",
    "for a,b,c,d in rise_samples[np.random.randint(len(rise_samples), size=50)]:\n",
    "    plt.plot(t_rise, model_rise(a, b, c, d, t_rise), color=\"k\", alpha=0.1)\n",
    "plt.errorbar(t_rise, f_rise, yerr=ferr_rise, c=\"r\")\n",
    "plt.xlim(-1,0)\n",
    "plt.xlabel(\"time [FWHM]\")\n",
    "plt.ylabel(\"normalized flux\");\n",
    "#plt.savefig(f\"../plots/{tstamp}_rise_phase_sampling.png\", dpi=300)"
   ]
  },
  {
   "cell_type": "code",
   "execution_count": null,
   "metadata": {},
   "outputs": [],
   "source": [
    "tau = rise_sampler.get_autocorr_time()\n",
    "print(tau)\n",
    "flat_samples = rise_sampler.get_chain(discard=100, thin=15, flat=True)"
   ]
  },
  {
   "cell_type": "code",
   "execution_count": null,
   "metadata": {
    "scrolled": false
   },
   "outputs": [],
   "source": [
    "# Plot cornerplot\n",
    "fig = corner.corner(rise_samples, labels=[\"a\",\"b\",\"c\",\"d\"], truths=truths)\n",
    "plt.savefig(f\"../plots/{tstamp}_rise_phase_sampling_corner.png\", dpi=300);"
   ]
  },
  {
   "cell_type": "code",
   "execution_count": null,
   "metadata": {},
   "outputs": [],
   "source": [
    "flat_samples = rise_sampler.get_chain(discard=100, thin=15, flat=True)\n",
    "\n",
    "\n",
    "with open(\"../tables/davenport_model.txt\", \"a\") as f:\n",
    "    f.write(f\"\\n{tstamp} fit Davenport rise model to data with gaussian prior.\\n\")\n",
    "\n",
    "labels = [r\"a\", r\"b\", r\"c\", r\"d\"]\n",
    "for i in range(ndim):\n",
    "    mcmc = np.percentile(flat_samples[:, i], [16, 50, 84])\n",
    "    q = np.diff(mcmc)\n",
    "    txt1 = f\"{labels[i]} = {mcmc[1]:.3f}_{{-{q[0]:.3f}}}^{{{q[1]:.3f}}}\"\n",
    "    #txt1 = txt.format(mcmc[1], q[0], q[1], labels[i])\n",
    "    display(Math(txt1))\n",
    "    txt2 = f\"{labels[i]} = {truths[i]:.3f}_{{-{e_truths[i]:.3f}}}^{{{e_truths[i]:.3f}}}\"\n",
    "    display(Math(txt2))\n",
    "    \n",
    "    with open(\"../tables/davenport_model.txt\", \"a\") as f:\n",
    "        f.write(\"TESS: $\" + txt1 + \"$\\n\")\n",
    "        f.write(\"Kepler: $\" + txt2 + \"$\\n\")\n",
    "    "
   ]
  },
  {
   "cell_type": "markdown",
   "metadata": {},
   "source": [
    "## Decay phase fit"
   ]
  },
  {
   "cell_type": "code",
   "execution_count": null,
   "metadata": {},
   "outputs": [],
   "source": [
    "#tstamp = \"17_03_2020_15_42\"\n",
    "truths = [0.6890, -1.600, 0.3030, -0.2783] #a,b,c,d\n",
    "e_truths = [0.0008, 0.003, 0.0009, 0.0007]\n",
    "tstamp"
   ]
  },
  {
   "cell_type": "code",
   "execution_count": null,
   "metadata": {},
   "outputs": [],
   "source": [
    "cond = (time>=0.) & (time<20.)\n",
    "t_decay = time[cond]\n",
    "f_decay = flux[cond]\n",
    "ferr_decay = flux_err[cond]"
   ]
  },
  {
   "cell_type": "code",
   "execution_count": null,
   "metadata": {},
   "outputs": [],
   "source": [
    "plt.errorbar(x=t_decay, y=f_decay, yerr=ferr_decay, errorevery=20);"
   ]
  },
  {
   "cell_type": "code",
   "execution_count": null,
   "metadata": {},
   "outputs": [],
   "source": [
    "# run MCMC\n",
    "ndim, nwalkers = 4, 100\n",
    "lnprob = choose_lnprob(lnprior_decay, loglikelihood_decay)\n",
    "pos = [truths + 1e-4*np.random.randn(ndim) for i in range(nwalkers)]\n",
    "\n",
    "filename = f\"../mcmc/{tstamp}_decay_phase.h5\"\n",
    "backend = emcee.backends.HDFBackend(filename)\n",
    "#backend.reset(nwalkers, ndim)\n",
    "decay_sampler = emcee.EnsembleSampler(nwalkers, ndim, lnprob, args=(t_decay, f_decay, ferr_decay), backend=backend)\n",
    "\n",
    "decay_sampler.run_mcmc(pos, 10, progress=True);"
   ]
  },
  {
   "cell_type": "code",
   "execution_count": null,
   "metadata": {},
   "outputs": [],
   "source": [
    "new_backend = emcee.backends.HDFBackend(filename)\n",
    "print(\"Initial size: {0}\".format(new_backend.iteration))\n",
    "decay_sampler = emcee.EnsembleSampler(nwalkers, ndim, lnprob, args=(t_decay, f_decay, ferr_decay),\n",
    "                                      backend=new_backend)\n",
    "decay_sampler.run_mcmc(None, 1000)\n",
    "print(\"Final size: {0}\".format(new_backend.iteration))"
   ]
  },
  {
   "cell_type": "code",
   "execution_count": null,
   "metadata": {
    "scrolled": true
   },
   "outputs": [],
   "source": [
    "# Plot MCMC result\n",
    "decay_samples = decay_sampler.chain[:, 50:, :].reshape((-1, ndim))\n",
    "for a,b,c,d in decay_samples[np.random.randint(len(decay_samples), size=50)]:\n",
    "    plt.plot(t_decay, model_decay(a,b,c,d,t_decay), color=\"k\", alpha=0.1)\n",
    "plt.errorbar(t_decay,f_decay,yerr=ferr_decay, c=\"r\", errorevery=10)\n",
    "plt.xlim(0.,20)\n",
    "plt.xlabel(\"time [FWHM]\")\n",
    "plt.ylabel(\"normalized flux\")\n",
    "plt.xticks(np.arange(1,20,2))\n",
    "plt.savefig(f\"../plots/{tstamp}_decay_phase_sampling.png\", dpi=300)"
   ]
  },
  {
   "cell_type": "code",
   "execution_count": null,
   "metadata": {},
   "outputs": [],
   "source": [
    "# Plot cornerplot\n",
    "fig = corner.corner(decay_samples, labels=[\"a\",\"b\",\"c\",\"d\"], truths=truths)\n",
    "plt.xticks\n",
    "plt.savefig(f\"../plots/{tstamp}_decay_phase_sampling_corner.png\", dpi=300);"
   ]
  },
  {
   "cell_type": "code",
   "execution_count": null,
   "metadata": {},
   "outputs": [],
   "source": []
  },
  {
   "cell_type": "code",
   "execution_count": null,
   "metadata": {},
   "outputs": [],
   "source": [
    "tau = decay_sampler.get_autocorr_time()\n",
    "print(tau)"
   ]
  },
  {
   "cell_type": "code",
   "execution_count": null,
   "metadata": {},
   "outputs": [],
   "source": [
    "flat_samples = decay_sampler.get_chain(discard=100, thin=15, flat=True)\n",
    "\n",
    "\n",
    "\n",
    "with open(\"../tables/davenport_model.txt\", \"a\") as f:\n",
    "    f.write(f\"{tstamp} fit Davenport decay model to data with gaussian prior.\\n\")\n",
    "\n",
    "labels = [r\"a\", r\"b\", r\"c\", r\"d\"]\n",
    "for i in range(ndim):\n",
    "    mcmc = np.percentile(flat_samples[:, i], [16, 50, 84])\n",
    "    q = np.diff(mcmc)\n",
    "    txt1 = f\"{labels[i]} = {mcmc[1]:.3f}_{{-{q[0]:.3f}}}^{{{q[1]:.3f}}}\"\n",
    "    #txt1 = txt.format(mcmc[1], q[0], q[1], labels[i])\n",
    "    display(Math(txt1))\n",
    "    txt2 = f\"{labels[i]} = {truths[i]:.3f}_{{-{e_truths[i]:.3f}}}^{{{e_truths[i]:.3f}}}\"\n",
    "    display(Math(txt2))\n",
    "    with open(\"../tables/davenport_model.txt\", \"a\") as f:\n",
    "        f.write(\"TESS: $\" + txt1 + \"$\\n\")\n",
    "        f.write(\"Kepler: $\" + txt2 + \"$\\n\")"
   ]
  },
  {
   "cell_type": "markdown",
   "metadata": {},
   "source": [
    "# Plot rise and decay phase together"
   ]
  },
  {
   "cell_type": "code",
   "execution_count": null,
   "metadata": {
    "scrolled": false
   },
   "outputs": [],
   "source": [
    "# Plot MCMC result\n",
    "rise_samples = rise_sampler.chain[:, 50:, :].reshape((-1, ndim))\n",
    "decay_samples = decay_sampler.chain[:, 50:, :].reshape((-1, ndim))\n",
    "\n",
    "plt.figure(figsize=(8,6))\n",
    "for a,b,c,d in decay_samples[np.random.randint(len(decay_samples), size=50)]:\n",
    "    plt.plot(t_decay, model_decay(a,b,c,d,t_decay), color=\"k\", alpha=0.1)\n",
    "plt.errorbar(t_decay,f_decay,yerr=ferr_decay, c=\"r\", errorevery=10)\n",
    "for a,b,c,d in rise_samples[np.random.randint(len(rise_samples), size=50)]:\n",
    "    plt.plot(t_rise, model_rise(a,b,c,d,t_rise), color=\"k\", alpha=0.1)\n",
    "plt.errorbar(t_rise,f_rise,yerr=ferr_rise, c=\"r\", errorevery=5)\n",
    "plt.axvline(0)\n",
    "plt.xlim(-1.,7.)\n",
    "plt.xlabel(\"time [FWHM]\")\n",
    "plt.ylabel(\"normalized flux\")\n",
    "plt.xticks(np.arange(-1,7,1))\n",
    "plt.yscale(\"log\")\n",
    "plt.ylim(1e-2,1.1)\n",
    "plt.savefig(f\"../plots/{tstamp}_both_phases_sampling.png\", dpi=300)"
   ]
  },
  {
   "cell_type": "code",
   "execution_count": null,
   "metadata": {},
   "outputs": [],
   "source": []
  }
 ],
 "metadata": {
  "kernelspec": {
   "display_name": "forallpurposes",
   "language": "python",
   "name": "forallpurposes"
  },
  "language_info": {
   "codemirror_mode": {
    "name": "ipython",
    "version": 3
   },
   "file_extension": ".py",
   "mimetype": "text/x-python",
   "name": "python",
   "nbconvert_exporter": "python",
   "pygments_lexer": "ipython3",
   "version": "3.6.9"
  }
 },
 "nbformat": 4,
 "nbformat_minor": 2
}
